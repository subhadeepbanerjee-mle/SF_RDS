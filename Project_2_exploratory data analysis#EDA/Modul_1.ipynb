{
 "cells": [
  {
   "cell_type": "code",
   "execution_count": 132,
   "metadata": {
    "_cell_guid": "b1076dfc-b9ad-4769-8c92-a6c4dae69d19",
    "_uuid": "8f2839f25d086af736a60e9eeb907d3b93b6e0e5",
    "colab": {},
    "colab_type": "code",
    "id": "U2D2gTdJVp90"
   },
   "outputs": [],
   "source": [
    "import numpy as np\n",
    "import pandas as pd\n",
    "import seaborn as sns\n",
    "import matplotlib.pyplot as plt\n",
    "from collections import Counter"
   ]
  },
  {
   "cell_type": "code",
   "execution_count": 133,
   "metadata": {
    "_cell_guid": "79c7e3d0-c299-4dcb-8224-4455121ee9b0",
    "_uuid": "d629ff2d2480ee46fbb7e2d37f6b5fab8052498a",
    "colab": {},
    "colab_type": "code",
    "id": "oyGfxL3eVp9-"
   },
   "outputs": [
    {
     "output_type": "execute_result",
     "data": {
      "text/plain": [
       "        imdb_id     budget    revenue         original_title  \\\n",
       "1380  tt0399146   32000000   60740827  A History of Violence   \n",
       "1676  tt0413300  258000000  890871626           Spider-Man 3   \n",
       "652   tt0790686   35000000   72436439                Mirrors   \n",
       "1111  tt0327056   25000000  156822020           Mystic River   \n",
       "152   tt2333784   90000000  206172544      The Expendables 3   \n",
       "\n",
       "                                                   cast          director  \\\n",
       "1380  Viggo Mortensen|Maria Bello|Heidi Hayes|Ashton...  David Cronenberg   \n",
       "1676  Tobey Maguire|Kirsten Dunst|James Franco|Thoma...         Sam Raimi   \n",
       "652   Kiefer Sutherland|Paula Patton|Amy Smart|Camer...     Alexandre Aja   \n",
       "1111  Sean Penn|Tim Robbins|Kevin Bacon|Marcia Gay H...    Clint Eastwood   \n",
       "152   Sylvester Stallone|Jason Statham|Harrison Ford...    Patrick Hughes   \n",
       "\n",
       "                                                tagline  \\\n",
       "1380  Tom Stall had the perfect life... until he bec...   \n",
       "1676                                 The battle within.   \n",
       "652                  There is evil...On the other side.   \n",
       "1111              We bury our sins, we wash them clean.   \n",
       "152                New team. New attitude. New mission.   \n",
       "\n",
       "                                               overview  runtime  \\\n",
       "1380  An average family is thrust into the spotlight...       96   \n",
       "1676  The seemingly invincible Spider-Man goes up ag...      139   \n",
       "652   An ex-cop and his family are the target of an ...      110   \n",
       "1111  A story about friendship and loyalty, guilt an...      138   \n",
       "152   Barney, Christmas and the rest of the team com...      127   \n",
       "\n",
       "                            genres  \\\n",
       "1380          Drama|Thriller|Crime   \n",
       "1676      Fantasy|Action|Adventure   \n",
       "652        Horror|Thriller|Mystery   \n",
       "1111  Thriller|Crime|Drama|Mystery   \n",
       "152      Action|Adventure|Thriller   \n",
       "\n",
       "                                   production_companies release_date  \\\n",
       "1380              New Line Cinema|DC Comics|BenderSpink    9/23/2005   \n",
       "1676  Columbia Pictures|Laura Ziskin Productions|Mar...     5/1/2007   \n",
       "652   Regency Enterprises|Castel Film Romania|ASAF|N...    8/15/2008   \n",
       "1111  Village Roadshow Pictures|Malpaso Productions|...    10/7/2003   \n",
       "152   Davis-Films|Nu Image Films|LionsGate|Millenniu...     8/4/2014   \n",
       "\n",
       "      vote_average  release_year  \n",
       "1380           6.7          2005  \n",
       "1676           5.8          2007  \n",
       "652            6.0          2008  \n",
       "1111           7.4          2003  \n",
       "152            6.2          2014  "
      ],
      "text/html": "<div>\n<style scoped>\n    .dataframe tbody tr th:only-of-type {\n        vertical-align: middle;\n    }\n\n    .dataframe tbody tr th {\n        vertical-align: top;\n    }\n\n    .dataframe thead th {\n        text-align: right;\n    }\n</style>\n<table border=\"1\" class=\"dataframe\">\n  <thead>\n    <tr style=\"text-align: right;\">\n      <th></th>\n      <th>imdb_id</th>\n      <th>budget</th>\n      <th>revenue</th>\n      <th>original_title</th>\n      <th>cast</th>\n      <th>director</th>\n      <th>tagline</th>\n      <th>overview</th>\n      <th>runtime</th>\n      <th>genres</th>\n      <th>production_companies</th>\n      <th>release_date</th>\n      <th>vote_average</th>\n      <th>release_year</th>\n    </tr>\n  </thead>\n  <tbody>\n    <tr>\n      <th>1380</th>\n      <td>tt0399146</td>\n      <td>32000000</td>\n      <td>60740827</td>\n      <td>A History of Violence</td>\n      <td>Viggo Mortensen|Maria Bello|Heidi Hayes|Ashton...</td>\n      <td>David Cronenberg</td>\n      <td>Tom Stall had the perfect life... until he bec...</td>\n      <td>An average family is thrust into the spotlight...</td>\n      <td>96</td>\n      <td>Drama|Thriller|Crime</td>\n      <td>New Line Cinema|DC Comics|BenderSpink</td>\n      <td>9/23/2005</td>\n      <td>6.7</td>\n      <td>2005</td>\n    </tr>\n    <tr>\n      <th>1676</th>\n      <td>tt0413300</td>\n      <td>258000000</td>\n      <td>890871626</td>\n      <td>Spider-Man 3</td>\n      <td>Tobey Maguire|Kirsten Dunst|James Franco|Thoma...</td>\n      <td>Sam Raimi</td>\n      <td>The battle within.</td>\n      <td>The seemingly invincible Spider-Man goes up ag...</td>\n      <td>139</td>\n      <td>Fantasy|Action|Adventure</td>\n      <td>Columbia Pictures|Laura Ziskin Productions|Mar...</td>\n      <td>5/1/2007</td>\n      <td>5.8</td>\n      <td>2007</td>\n    </tr>\n    <tr>\n      <th>652</th>\n      <td>tt0790686</td>\n      <td>35000000</td>\n      <td>72436439</td>\n      <td>Mirrors</td>\n      <td>Kiefer Sutherland|Paula Patton|Amy Smart|Camer...</td>\n      <td>Alexandre Aja</td>\n      <td>There is evil...On the other side.</td>\n      <td>An ex-cop and his family are the target of an ...</td>\n      <td>110</td>\n      <td>Horror|Thriller|Mystery</td>\n      <td>Regency Enterprises|Castel Film Romania|ASAF|N...</td>\n      <td>8/15/2008</td>\n      <td>6.0</td>\n      <td>2008</td>\n    </tr>\n    <tr>\n      <th>1111</th>\n      <td>tt0327056</td>\n      <td>25000000</td>\n      <td>156822020</td>\n      <td>Mystic River</td>\n      <td>Sean Penn|Tim Robbins|Kevin Bacon|Marcia Gay H...</td>\n      <td>Clint Eastwood</td>\n      <td>We bury our sins, we wash them clean.</td>\n      <td>A story about friendship and loyalty, guilt an...</td>\n      <td>138</td>\n      <td>Thriller|Crime|Drama|Mystery</td>\n      <td>Village Roadshow Pictures|Malpaso Productions|...</td>\n      <td>10/7/2003</td>\n      <td>7.4</td>\n      <td>2003</td>\n    </tr>\n    <tr>\n      <th>152</th>\n      <td>tt2333784</td>\n      <td>90000000</td>\n      <td>206172544</td>\n      <td>The Expendables 3</td>\n      <td>Sylvester Stallone|Jason Statham|Harrison Ford...</td>\n      <td>Patrick Hughes</td>\n      <td>New team. New attitude. New mission.</td>\n      <td>Barney, Christmas and the rest of the team com...</td>\n      <td>127</td>\n      <td>Action|Adventure|Thriller</td>\n      <td>Davis-Films|Nu Image Films|LionsGate|Millenniu...</td>\n      <td>8/4/2014</td>\n      <td>6.2</td>\n      <td>2014</td>\n    </tr>\n  </tbody>\n</table>\n</div>"
     },
     "metadata": {},
     "execution_count": 133
    }
   ],
   "source": [
    "data = pd.read_csv(r'D:\\01-Alexander\\OneDrive\\Study\\Skillfactory\\Projects\\01-Skillfactory\\Unit_1\\Data\\0_project_1\\movie_bd_v5.csv')\n",
    "data.sample(5)"
   ]
  },
  {
   "cell_type": "code",
   "execution_count": 134,
   "metadata": {
    "colab": {},
    "colab_type": "code",
    "id": "CoYUnagMVp-C"
   },
   "outputs": [
    {
     "output_type": "execute_result",
     "data": {
      "text/plain": [
       "             budget       revenue      runtime  vote_average  release_year\n",
       "count  1.889000e+03  1.889000e+03  1889.000000   1889.000000   1889.000000\n",
       "mean   5.431083e+07  1.553653e+08   109.658549      6.140762   2007.860773\n",
       "std    4.858721e+07  2.146698e+08    18.017041      0.764763      4.468841\n",
       "min    5.000000e+06  2.033165e+06    63.000000      3.300000   2000.000000\n",
       "25%    2.000000e+07  3.456058e+07    97.000000      5.600000   2004.000000\n",
       "50%    3.800000e+07  8.361541e+07   107.000000      6.100000   2008.000000\n",
       "75%    7.200000e+07  1.782626e+08   120.000000      6.600000   2012.000000\n",
       "max    3.800000e+08  2.781506e+09   214.000000      8.100000   2015.000000"
      ],
      "text/html": "<div>\n<style scoped>\n    .dataframe tbody tr th:only-of-type {\n        vertical-align: middle;\n    }\n\n    .dataframe tbody tr th {\n        vertical-align: top;\n    }\n\n    .dataframe thead th {\n        text-align: right;\n    }\n</style>\n<table border=\"1\" class=\"dataframe\">\n  <thead>\n    <tr style=\"text-align: right;\">\n      <th></th>\n      <th>budget</th>\n      <th>revenue</th>\n      <th>runtime</th>\n      <th>vote_average</th>\n      <th>release_year</th>\n    </tr>\n  </thead>\n  <tbody>\n    <tr>\n      <th>count</th>\n      <td>1.889000e+03</td>\n      <td>1.889000e+03</td>\n      <td>1889.000000</td>\n      <td>1889.000000</td>\n      <td>1889.000000</td>\n    </tr>\n    <tr>\n      <th>mean</th>\n      <td>5.431083e+07</td>\n      <td>1.553653e+08</td>\n      <td>109.658549</td>\n      <td>6.140762</td>\n      <td>2007.860773</td>\n    </tr>\n    <tr>\n      <th>std</th>\n      <td>4.858721e+07</td>\n      <td>2.146698e+08</td>\n      <td>18.017041</td>\n      <td>0.764763</td>\n      <td>4.468841</td>\n    </tr>\n    <tr>\n      <th>min</th>\n      <td>5.000000e+06</td>\n      <td>2.033165e+06</td>\n      <td>63.000000</td>\n      <td>3.300000</td>\n      <td>2000.000000</td>\n    </tr>\n    <tr>\n      <th>25%</th>\n      <td>2.000000e+07</td>\n      <td>3.456058e+07</td>\n      <td>97.000000</td>\n      <td>5.600000</td>\n      <td>2004.000000</td>\n    </tr>\n    <tr>\n      <th>50%</th>\n      <td>3.800000e+07</td>\n      <td>8.361541e+07</td>\n      <td>107.000000</td>\n      <td>6.100000</td>\n      <td>2008.000000</td>\n    </tr>\n    <tr>\n      <th>75%</th>\n      <td>7.200000e+07</td>\n      <td>1.782626e+08</td>\n      <td>120.000000</td>\n      <td>6.600000</td>\n      <td>2012.000000</td>\n    </tr>\n    <tr>\n      <th>max</th>\n      <td>3.800000e+08</td>\n      <td>2.781506e+09</td>\n      <td>214.000000</td>\n      <td>8.100000</td>\n      <td>2015.000000</td>\n    </tr>\n  </tbody>\n</table>\n</div>"
     },
     "metadata": {},
     "execution_count": 134
    }
   ],
   "source": [
    "data.describe()"
   ]
  },
  {
   "cell_type": "markdown",
   "metadata": {
    "colab_type": "text",
    "id": "DTIt7ezGVp-G"
   },
   "source": [
    "# Предобработка"
   ]
  },
  {
   "cell_type": "code",
   "execution_count": 135,
   "metadata": {
    "colab": {},
    "colab_type": "code",
    "id": "jNb40DwKVp-H"
   },
   "outputs": [],
   "source": [
    "answers = {} # создадим словарь для ответов\n",
    "\n",
    "# тут другие ваши предобработки колонок например:\n",
    "\n",
    "#the time given in the dataset is in string format.\n",
    "#So we need to change this in datetime format\n",
    "# ..."
   ]
  },
  {
   "cell_type": "code",
   "execution_count": 136,
   "metadata": {},
   "outputs": [],
   "source": [
    "data['profit'] = data.revenue - data.budget"
   ]
  },
  {
   "source": [
    "# 1. У какого фильма из списка самый большой бюджет?\n"
   ],
   "cell_type": "markdown",
   "metadata": {
    "colab_type": "text",
    "id": "YxZaH-nPVp-L"
   }
  },
  {
   "cell_type": "code",
   "execution_count": 137,
   "metadata": {},
   "outputs": [],
   "source": []
  },
  {
   "source": [
    "#Использовать варианты ответов в коде решения запрещено.    \n",
    "#Вы думаете и в жизни у вас будут варианты ответов?)"
   ],
   "cell_type": "code",
   "metadata": {
    "colab_type": "text",
    "id": "Nd-G5gX6Vp-M"
   },
   "execution_count": 138,
   "outputs": []
  },
  {
   "cell_type": "code",
   "execution_count": 139,
   "metadata": {
    "colab": {},
    "colab_type": "code",
    "id": "uVnXAY5RVp-O"
   },
   "outputs": [],
   "source": [
    "# в словарь вставляем номер вопроса и ваш ответ на него\n",
    "# Пример: \n",
    "answers['1'] = '2. Spider-Man 3 (tt0413300)'\n",
    "# запишите свой вариант ответа\n",
    "answers['1'] = 'Pirates of the Caribbean: On Stranger Tides (tt1298650)'\n",
    "# если ответили верно, можете добавить комментарий со значком \"+\""
   ]
  },
  {
   "cell_type": "code",
   "execution_count": 140,
   "metadata": {
    "colab": {},
    "colab_type": "code",
    "id": "dZwb3m28Vp-S"
   },
   "outputs": [
    {
     "output_type": "execute_result",
     "data": {
      "text/plain": [
       "        imdb_id     budget     revenue  \\\n",
       "723   tt1298650  380000000  1021683000   \n",
       "1669  tt0449088  300000000   961000000   \n",
       "14    tt2395427  280000000  1405035767   \n",
       "\n",
       "                                   original_title  \\\n",
       "723   Pirates of the Caribbean: On Stranger Tides   \n",
       "1669     Pirates of the Caribbean: At World's End   \n",
       "14                        Avengers: Age of Ultron   \n",
       "\n",
       "                                                   cast        director  \\\n",
       "723   Johnny Depp|PenÃ©lope Cruz|Geoffrey Rush|Ian M...    Rob Marshall   \n",
       "1669  Johnny Depp|Orlando Bloom|Keira Knightley|Geof...  Gore Verbinski   \n",
       "14    Robert Downey Jr.|Chris Hemsworth|Mark Ruffalo...     Joss Whedon   \n",
       "\n",
       "                                             tagline  \\\n",
       "723                      Live Forever Or Die Trying.   \n",
       "1669  At the end of the world, the adventure begins.   \n",
       "14                               A New Age Has Come.   \n",
       "\n",
       "                                               overview  runtime  \\\n",
       "723   Captain Jack Sparrow crosses paths with a woma...      136   \n",
       "1669  Captain Barbossa, long believed to be dead, ha...      169   \n",
       "14    When Tony Stark tries to jumpstart a dormant p...      141   \n",
       "\n",
       "                                genres  \\\n",
       "723           Adventure|Action|Fantasy   \n",
       "1669          Adventure|Fantasy|Action   \n",
       "14    Action|Adventure|Science Fiction   \n",
       "\n",
       "                                   production_companies release_date  \\\n",
       "723   Walt Disney Pictures|Jerry Bruckheimer Films|M...    5/11/2011   \n",
       "1669  Walt Disney Pictures|Jerry Bruckheimer Films|S...    5/19/2007   \n",
       "14    Marvel Studios|Prime Focus|Revolution Sun Studios    4/22/2015   \n",
       "\n",
       "      vote_average  release_year      profit  \n",
       "723            6.3          2011   641683000  \n",
       "1669           6.8          2007   661000000  \n",
       "14             7.4          2015  1125035767  "
      ],
      "text/html": "<div>\n<style scoped>\n    .dataframe tbody tr th:only-of-type {\n        vertical-align: middle;\n    }\n\n    .dataframe tbody tr th {\n        vertical-align: top;\n    }\n\n    .dataframe thead th {\n        text-align: right;\n    }\n</style>\n<table border=\"1\" class=\"dataframe\">\n  <thead>\n    <tr style=\"text-align: right;\">\n      <th></th>\n      <th>imdb_id</th>\n      <th>budget</th>\n      <th>revenue</th>\n      <th>original_title</th>\n      <th>cast</th>\n      <th>director</th>\n      <th>tagline</th>\n      <th>overview</th>\n      <th>runtime</th>\n      <th>genres</th>\n      <th>production_companies</th>\n      <th>release_date</th>\n      <th>vote_average</th>\n      <th>release_year</th>\n      <th>profit</th>\n    </tr>\n  </thead>\n  <tbody>\n    <tr>\n      <th>723</th>\n      <td>tt1298650</td>\n      <td>380000000</td>\n      <td>1021683000</td>\n      <td>Pirates of the Caribbean: On Stranger Tides</td>\n      <td>Johnny Depp|PenÃ©lope Cruz|Geoffrey Rush|Ian M...</td>\n      <td>Rob Marshall</td>\n      <td>Live Forever Or Die Trying.</td>\n      <td>Captain Jack Sparrow crosses paths with a woma...</td>\n      <td>136</td>\n      <td>Adventure|Action|Fantasy</td>\n      <td>Walt Disney Pictures|Jerry Bruckheimer Films|M...</td>\n      <td>5/11/2011</td>\n      <td>6.3</td>\n      <td>2011</td>\n      <td>641683000</td>\n    </tr>\n    <tr>\n      <th>1669</th>\n      <td>tt0449088</td>\n      <td>300000000</td>\n      <td>961000000</td>\n      <td>Pirates of the Caribbean: At World's End</td>\n      <td>Johnny Depp|Orlando Bloom|Keira Knightley|Geof...</td>\n      <td>Gore Verbinski</td>\n      <td>At the end of the world, the adventure begins.</td>\n      <td>Captain Barbossa, long believed to be dead, ha...</td>\n      <td>169</td>\n      <td>Adventure|Fantasy|Action</td>\n      <td>Walt Disney Pictures|Jerry Bruckheimer Films|S...</td>\n      <td>5/19/2007</td>\n      <td>6.8</td>\n      <td>2007</td>\n      <td>661000000</td>\n    </tr>\n    <tr>\n      <th>14</th>\n      <td>tt2395427</td>\n      <td>280000000</td>\n      <td>1405035767</td>\n      <td>Avengers: Age of Ultron</td>\n      <td>Robert Downey Jr.|Chris Hemsworth|Mark Ruffalo...</td>\n      <td>Joss Whedon</td>\n      <td>A New Age Has Come.</td>\n      <td>When Tony Stark tries to jumpstart a dormant p...</td>\n      <td>141</td>\n      <td>Action|Adventure|Science Fiction</td>\n      <td>Marvel Studios|Prime Focus|Revolution Sun Studios</td>\n      <td>4/22/2015</td>\n      <td>7.4</td>\n      <td>2015</td>\n      <td>1125035767</td>\n    </tr>\n  </tbody>\n</table>\n</div>"
     },
     "metadata": {},
     "execution_count": 140
    }
   ],
   "source": [
    "# тут пишем ваш код для решения данного вопроса:\n",
    "data.sort_values(by= str('budget'), ascending=False).head(3)"
   ]
  },
  {
   "cell_type": "markdown",
   "metadata": {
    "colab_type": "text",
    "id": "K7L3nbRXVp-X"
   },
   "source": [
    "ВАРИАНТ 2"
   ]
  },
  {
   "cell_type": "code",
   "execution_count": 141,
   "metadata": {
    "colab": {},
    "colab_type": "code",
    "id": "OGaoQI7rVp-X"
   },
   "outputs": [],
   "source": [
    "# можно добавлять разные варианты решения"
   ]
  },
  {
   "cell_type": "markdown",
   "metadata": {
    "colab_type": "text",
    "id": "FNRbbI3vVp-c"
   },
   "source": [
    "# 2. Какой из фильмов самый длительный (в минутах)?"
   ]
  },
  {
   "cell_type": "code",
   "execution_count": 142,
   "metadata": {
    "colab": {},
    "colab_type": "code",
    "id": "vHAoEXNTVp-d"
   },
   "outputs": [],
   "source": [
    "# думаю логику работы с этим словарем вы уже поняли, \n",
    "# по этому не буду больше его дублировать\n",
    "answers['2'] = 'Gods and Generals (tt0279111)'"
   ]
  },
  {
   "cell_type": "code",
   "execution_count": 143,
   "metadata": {
    "colab": {},
    "colab_type": "code",
    "id": "ot-VX2XrVp-g"
   },
   "outputs": [
    {
     "output_type": "execute_result",
     "data": {
      "text/plain": [
       "        imdb_id    budget   revenue     original_title  \\\n",
       "1157  tt0279111  56000000  12923936  Gods and Generals   \n",
       "\n",
       "                                                   cast           director  \\\n",
       "1157  Stephen Lang|Jeff Daniels|Robert Duvall|Kevin ...  Ronald F. Maxwell   \n",
       "\n",
       "                                  tagline  \\\n",
       "1157  The nations heart was touched by...   \n",
       "\n",
       "                                               overview  runtime  \\\n",
       "1157  The film centers mostly around the personal an...      214   \n",
       "\n",
       "                 genres                production_companies release_date  \\\n",
       "1157  Drama|History|War  Turner Pictures|Antietam Filmworks    2/21/2003   \n",
       "\n",
       "      vote_average  release_year    profit  \n",
       "1157           5.8          2003 -43076064  "
      ],
      "text/html": "<div>\n<style scoped>\n    .dataframe tbody tr th:only-of-type {\n        vertical-align: middle;\n    }\n\n    .dataframe tbody tr th {\n        vertical-align: top;\n    }\n\n    .dataframe thead th {\n        text-align: right;\n    }\n</style>\n<table border=\"1\" class=\"dataframe\">\n  <thead>\n    <tr style=\"text-align: right;\">\n      <th></th>\n      <th>imdb_id</th>\n      <th>budget</th>\n      <th>revenue</th>\n      <th>original_title</th>\n      <th>cast</th>\n      <th>director</th>\n      <th>tagline</th>\n      <th>overview</th>\n      <th>runtime</th>\n      <th>genres</th>\n      <th>production_companies</th>\n      <th>release_date</th>\n      <th>vote_average</th>\n      <th>release_year</th>\n      <th>profit</th>\n    </tr>\n  </thead>\n  <tbody>\n    <tr>\n      <th>1157</th>\n      <td>tt0279111</td>\n      <td>56000000</td>\n      <td>12923936</td>\n      <td>Gods and Generals</td>\n      <td>Stephen Lang|Jeff Daniels|Robert Duvall|Kevin ...</td>\n      <td>Ronald F. Maxwell</td>\n      <td>The nations heart was touched by...</td>\n      <td>The film centers mostly around the personal an...</td>\n      <td>214</td>\n      <td>Drama|History|War</td>\n      <td>Turner Pictures|Antietam Filmworks</td>\n      <td>2/21/2003</td>\n      <td>5.8</td>\n      <td>2003</td>\n      <td>-43076064</td>\n    </tr>\n  </tbody>\n</table>\n</div>"
     },
     "metadata": {},
     "execution_count": 143
    }
   ],
   "source": [
    "data.sort_values(by= str('runtime'), ascending=False).head(1)"
   ]
  },
  {
   "cell_type": "markdown",
   "metadata": {
    "colab_type": "text",
    "id": "bapLlpW8Vp-k"
   },
   "source": [
    "# 3. Какой из фильмов самый короткий (в минутах)?\n",
    "\n",
    "\n",
    "\n"
   ]
  },
  {
   "cell_type": "code",
   "execution_count": 144,
   "metadata": {},
   "outputs": [],
   "source": [
    "answers['3'] = 'Winnie the Pooh (tt1449283)'"
   ]
  },
  {
   "cell_type": "code",
   "execution_count": 145,
   "metadata": {
    "colab": {},
    "colab_type": "code",
    "id": "YBxaSHuAVp-l"
   },
   "outputs": [
    {
     "output_type": "execute_result",
     "data": {
      "text/plain": [
       "       imdb_id    budget   revenue   original_title  \\\n",
       "768  tt1449283  30000000  14460000  Winnie the Pooh   \n",
       "\n",
       "                                                  cast  \\\n",
       "768  Jim Cummings|Travis Oates|Jim Cummings|Bud Luc...   \n",
       "\n",
       "                      director   tagline  \\\n",
       "768  Stephen Anderson|Don Hall  Oh Pooh.   \n",
       "\n",
       "                                              overview  runtime  \\\n",
       "768  During an ordinary day in Hundred Acre Wood, W...       63   \n",
       "\n",
       "               genres                               production_companies  \\\n",
       "768  Animation|Family  Walt Disney Pictures|Walt Disney Animation Stu...   \n",
       "\n",
       "    release_date  vote_average  release_year    profit  \n",
       "768    4/13/2011           6.8          2011 -15540000  "
      ],
      "text/html": "<div>\n<style scoped>\n    .dataframe tbody tr th:only-of-type {\n        vertical-align: middle;\n    }\n\n    .dataframe tbody tr th {\n        vertical-align: top;\n    }\n\n    .dataframe thead th {\n        text-align: right;\n    }\n</style>\n<table border=\"1\" class=\"dataframe\">\n  <thead>\n    <tr style=\"text-align: right;\">\n      <th></th>\n      <th>imdb_id</th>\n      <th>budget</th>\n      <th>revenue</th>\n      <th>original_title</th>\n      <th>cast</th>\n      <th>director</th>\n      <th>tagline</th>\n      <th>overview</th>\n      <th>runtime</th>\n      <th>genres</th>\n      <th>production_companies</th>\n      <th>release_date</th>\n      <th>vote_average</th>\n      <th>release_year</th>\n      <th>profit</th>\n    </tr>\n  </thead>\n  <tbody>\n    <tr>\n      <th>768</th>\n      <td>tt1449283</td>\n      <td>30000000</td>\n      <td>14460000</td>\n      <td>Winnie the Pooh</td>\n      <td>Jim Cummings|Travis Oates|Jim Cummings|Bud Luc...</td>\n      <td>Stephen Anderson|Don Hall</td>\n      <td>Oh Pooh.</td>\n      <td>During an ordinary day in Hundred Acre Wood, W...</td>\n      <td>63</td>\n      <td>Animation|Family</td>\n      <td>Walt Disney Pictures|Walt Disney Animation Stu...</td>\n      <td>4/13/2011</td>\n      <td>6.8</td>\n      <td>2011</td>\n      <td>-15540000</td>\n    </tr>\n  </tbody>\n</table>\n</div>"
     },
     "metadata": {},
     "execution_count": 145
    }
   ],
   "source": [
    "data.sort_values(by= str('runtime'), ascending=True).head(1)"
   ]
  },
  {
   "cell_type": "markdown",
   "metadata": {
    "colab_type": "text",
    "id": "TfQbxbfNVp-p"
   },
   "source": [
    "# 4. Какова средняя длительность фильмов?\n"
   ]
  },
  {
   "cell_type": "code",
   "execution_count": 146,
   "metadata": {},
   "outputs": [],
   "source": [
    "answers['4'] = '110.0'"
   ]
  },
  {
   "cell_type": "code",
   "execution_count": 147,
   "metadata": {
    "colab": {},
    "colab_type": "code",
    "id": "5K6dKZYVVp-q"
   },
   "outputs": [
    {
     "output_type": "execute_result",
     "data": {
      "text/plain": [
       "110.0"
      ]
     },
     "metadata": {},
     "execution_count": 147
    }
   ],
   "source": [
    "round(data.runtime.mean(),0)"
   ]
  },
  {
   "cell_type": "markdown",
   "metadata": {
    "colab_type": "text",
    "id": "r5TvbnT_Vp-u"
   },
   "source": [
    "# 5. Каково медианное значение длительности фильмов? "
   ]
  },
  {
   "cell_type": "code",
   "execution_count": 148,
   "metadata": {},
   "outputs": [],
   "source": [
    "answers['5'] = '107.0'"
   ]
  },
  {
   "cell_type": "code",
   "execution_count": 149,
   "metadata": {
    "colab": {},
    "colab_type": "code",
    "id": "iBROplKnVp-v"
   },
   "outputs": [
    {
     "output_type": "execute_result",
     "data": {
      "text/plain": [
       "107.0"
      ]
     },
     "metadata": {},
     "execution_count": 149
    }
   ],
   "source": [
    "round(data.runtime.median(),0)"
   ]
  },
  {
   "source": [
    "# 6. Какой самый прибыльный фильм?\n",
    "#### Внимание! Здесь и далее под «прибылью» или «убытками» понимается разность между сборами и бюджетом фильма. (прибыль = сборы - бюджет) в нашем датасете это будет (profit = revenue - budget) "
   ],
   "cell_type": "markdown",
   "metadata": {
    "colab_type": "text",
    "id": "39P-deDSVp-y"
   }
  },
  {
   "cell_type": "code",
   "execution_count": 150,
   "metadata": {},
   "outputs": [],
   "source": [
    "answers['6'] = 'Avatar (tt0499549)'"
   ]
  },
  {
   "cell_type": "code",
   "execution_count": 151,
   "metadata": {
    "colab": {},
    "colab_type": "code",
    "id": "UYZh4T9WVp-y"
   },
   "outputs": [
    {
     "output_type": "execute_result",
     "data": {
      "text/plain": [
       "       imdb_id     budget     revenue original_title  \\\n",
       "239  tt0499549  237000000  2781505847         Avatar   \n",
       "\n",
       "                                                  cast       director  \\\n",
       "239  Sam Worthington|Zoe Saldana|Sigourney Weaver|S...  James Cameron   \n",
       "\n",
       "                         tagline  \\\n",
       "239  Enter the World of Pandora.   \n",
       "\n",
       "                                              overview  runtime  \\\n",
       "239  In the 22nd century, a paraplegic Marine is di...      162   \n",
       "\n",
       "                                       genres  \\\n",
       "239  Action|Adventure|Fantasy|Science Fiction   \n",
       "\n",
       "                                  production_companies release_date  \\\n",
       "239  Ingenious Film Partners|Twentieth Century Fox ...   12/10/2009   \n",
       "\n",
       "     vote_average  release_year      profit  \n",
       "239           7.1          2009  2544505847  "
      ],
      "text/html": "<div>\n<style scoped>\n    .dataframe tbody tr th:only-of-type {\n        vertical-align: middle;\n    }\n\n    .dataframe tbody tr th {\n        vertical-align: top;\n    }\n\n    .dataframe thead th {\n        text-align: right;\n    }\n</style>\n<table border=\"1\" class=\"dataframe\">\n  <thead>\n    <tr style=\"text-align: right;\">\n      <th></th>\n      <th>imdb_id</th>\n      <th>budget</th>\n      <th>revenue</th>\n      <th>original_title</th>\n      <th>cast</th>\n      <th>director</th>\n      <th>tagline</th>\n      <th>overview</th>\n      <th>runtime</th>\n      <th>genres</th>\n      <th>production_companies</th>\n      <th>release_date</th>\n      <th>vote_average</th>\n      <th>release_year</th>\n      <th>profit</th>\n    </tr>\n  </thead>\n  <tbody>\n    <tr>\n      <th>239</th>\n      <td>tt0499549</td>\n      <td>237000000</td>\n      <td>2781505847</td>\n      <td>Avatar</td>\n      <td>Sam Worthington|Zoe Saldana|Sigourney Weaver|S...</td>\n      <td>James Cameron</td>\n      <td>Enter the World of Pandora.</td>\n      <td>In the 22nd century, a paraplegic Marine is di...</td>\n      <td>162</td>\n      <td>Action|Adventure|Fantasy|Science Fiction</td>\n      <td>Ingenious Film Partners|Twentieth Century Fox ...</td>\n      <td>12/10/2009</td>\n      <td>7.1</td>\n      <td>2009</td>\n      <td>2544505847</td>\n    </tr>\n  </tbody>\n</table>\n</div>"
     },
     "metadata": {},
     "execution_count": 151
    }
   ],
   "source": [
    "# лучше код получения столбца profit вынести в Предобработку что в начале\n",
    "\n",
    "data.sort_values(by='profit', ascending=False).head(1)"
   ]
  },
  {
   "cell_type": "markdown",
   "metadata": {
    "colab_type": "text",
    "id": "M99JmIX4Vp-2"
   },
   "source": [
    "# 7. Какой фильм самый убыточный? "
   ]
  },
  {
   "cell_type": "code",
   "execution_count": 152,
   "metadata": {},
   "outputs": [],
   "source": [
    "answers['7'] = 'The Lone Ranger (tt1210819)'"
   ]
  },
  {
   "cell_type": "code",
   "execution_count": 153,
   "metadata": {
    "colab": {},
    "colab_type": "code",
    "id": "w-D2m4XPVp-3"
   },
   "outputs": [
    {
     "output_type": "execute_result",
     "data": {
      "text/plain": [
       "        imdb_id     budget   revenue   original_title  \\\n",
       "1245  tt1210819  255000000  89289910  The Lone Ranger   \n",
       "\n",
       "                                                   cast        director  \\\n",
       "1245  Johnny Depp|Armie Hammer|William Fichtner|Hele...  Gore Verbinski   \n",
       "\n",
       "                      tagline  \\\n",
       "1245  Never Take Off the Mask   \n",
       "\n",
       "                                               overview  runtime  \\\n",
       "1245  The Texas Rangers chase down a gang of outlaws...      149   \n",
       "\n",
       "                        genres  \\\n",
       "1245  Action|Adventure|Western   \n",
       "\n",
       "                                   production_companies release_date  \\\n",
       "1245  Walt Disney Pictures|Jerry Bruckheimer Films|I...     7/3/2013   \n",
       "\n",
       "      vote_average  release_year     profit  \n",
       "1245           6.0          2013 -165710090  "
      ],
      "text/html": "<div>\n<style scoped>\n    .dataframe tbody tr th:only-of-type {\n        vertical-align: middle;\n    }\n\n    .dataframe tbody tr th {\n        vertical-align: top;\n    }\n\n    .dataframe thead th {\n        text-align: right;\n    }\n</style>\n<table border=\"1\" class=\"dataframe\">\n  <thead>\n    <tr style=\"text-align: right;\">\n      <th></th>\n      <th>imdb_id</th>\n      <th>budget</th>\n      <th>revenue</th>\n      <th>original_title</th>\n      <th>cast</th>\n      <th>director</th>\n      <th>tagline</th>\n      <th>overview</th>\n      <th>runtime</th>\n      <th>genres</th>\n      <th>production_companies</th>\n      <th>release_date</th>\n      <th>vote_average</th>\n      <th>release_year</th>\n      <th>profit</th>\n    </tr>\n  </thead>\n  <tbody>\n    <tr>\n      <th>1245</th>\n      <td>tt1210819</td>\n      <td>255000000</td>\n      <td>89289910</td>\n      <td>The Lone Ranger</td>\n      <td>Johnny Depp|Armie Hammer|William Fichtner|Hele...</td>\n      <td>Gore Verbinski</td>\n      <td>Never Take Off the Mask</td>\n      <td>The Texas Rangers chase down a gang of outlaws...</td>\n      <td>149</td>\n      <td>Action|Adventure|Western</td>\n      <td>Walt Disney Pictures|Jerry Bruckheimer Films|I...</td>\n      <td>7/3/2013</td>\n      <td>6.0</td>\n      <td>2013</td>\n      <td>-165710090</td>\n    </tr>\n  </tbody>\n</table>\n</div>"
     },
     "metadata": {},
     "execution_count": 153
    }
   ],
   "source": [
    "data.sort_values(by='profit', ascending=True).head(1)"
   ]
  },
  {
   "cell_type": "markdown",
   "metadata": {
    "colab_type": "text",
    "id": "wEOM5ERVVp-6"
   },
   "source": [
    "# 8. У скольких фильмов из датасета объем сборов оказался выше бюджета?"
   ]
  },
  {
   "cell_type": "code",
   "execution_count": 154,
   "metadata": {},
   "outputs": [],
   "source": [
    "answers['8'] = '1478'"
   ]
  },
  {
   "cell_type": "code",
   "execution_count": 155,
   "metadata": {
    "colab": {},
    "colab_type": "code",
    "id": "y00_7HD6Vp-7"
   },
   "outputs": [
    {
     "output_type": "execute_result",
     "data": {
      "text/plain": [
       "imdb_id                 1478\n",
       "budget                  1478\n",
       "revenue                 1478\n",
       "original_title          1478\n",
       "cast                    1478\n",
       "director                1478\n",
       "tagline                 1478\n",
       "overview                1478\n",
       "runtime                 1478\n",
       "genres                  1478\n",
       "production_companies    1478\n",
       "release_date            1478\n",
       "vote_average            1478\n",
       "release_year            1478\n",
       "profit                  1478\n",
       "dtype: int64"
      ]
     },
     "metadata": {},
     "execution_count": 155
    }
   ],
   "source": [
    "data.query('profit>0').count()"
   ]
  },
  {
   "cell_type": "markdown",
   "metadata": {
    "colab_type": "text",
    "id": "xhpspA9KVp_A"
   },
   "source": [
    "# 9. Какой фильм оказался самым кассовым в 2008 году?"
   ]
  },
  {
   "cell_type": "code",
   "execution_count": 156,
   "metadata": {},
   "outputs": [],
   "source": [
    "answers['9'] = 'The Dark Knight (tt0468569)'"
   ]
  },
  {
   "cell_type": "code",
   "execution_count": 157,
   "metadata": {
    "colab": {},
    "colab_type": "code",
    "id": "MoUyQr9RVp_B"
   },
   "outputs": [
    {
     "output_type": "execute_result",
     "data": {
      "text/plain": [
       "       imdb_id     budget     revenue   original_title  \\\n",
       "599  tt0468569  185000000  1001921825  The Dark Knight   \n",
       "\n",
       "                                                  cast           director  \\\n",
       "599  Christian Bale|Michael Caine|Heath Ledger|Aaro...  Christopher Nolan   \n",
       "\n",
       "             tagline                                           overview  \\\n",
       "599  Why So Serious?  Batman raises the stakes in his war on crime. ...   \n",
       "\n",
       "     runtime                       genres  \\\n",
       "599      152  Drama|Action|Crime|Thriller   \n",
       "\n",
       "                                  production_companies release_date  \\\n",
       "599  DC Comics|Legendary Pictures|Warner Bros.|Syncopy    7/16/2008   \n",
       "\n",
       "     vote_average  release_year     profit  \n",
       "599           8.1          2008  816921825  "
      ],
      "text/html": "<div>\n<style scoped>\n    .dataframe tbody tr th:only-of-type {\n        vertical-align: middle;\n    }\n\n    .dataframe tbody tr th {\n        vertical-align: top;\n    }\n\n    .dataframe thead th {\n        text-align: right;\n    }\n</style>\n<table border=\"1\" class=\"dataframe\">\n  <thead>\n    <tr style=\"text-align: right;\">\n      <th></th>\n      <th>imdb_id</th>\n      <th>budget</th>\n      <th>revenue</th>\n      <th>original_title</th>\n      <th>cast</th>\n      <th>director</th>\n      <th>tagline</th>\n      <th>overview</th>\n      <th>runtime</th>\n      <th>genres</th>\n      <th>production_companies</th>\n      <th>release_date</th>\n      <th>vote_average</th>\n      <th>release_year</th>\n      <th>profit</th>\n    </tr>\n  </thead>\n  <tbody>\n    <tr>\n      <th>599</th>\n      <td>tt0468569</td>\n      <td>185000000</td>\n      <td>1001921825</td>\n      <td>The Dark Knight</td>\n      <td>Christian Bale|Michael Caine|Heath Ledger|Aaro...</td>\n      <td>Christopher Nolan</td>\n      <td>Why So Serious?</td>\n      <td>Batman raises the stakes in his war on crime. ...</td>\n      <td>152</td>\n      <td>Drama|Action|Crime|Thriller</td>\n      <td>DC Comics|Legendary Pictures|Warner Bros.|Syncopy</td>\n      <td>7/16/2008</td>\n      <td>8.1</td>\n      <td>2008</td>\n      <td>816921825</td>\n    </tr>\n  </tbody>\n</table>\n</div>"
     },
     "metadata": {},
     "execution_count": 157
    }
   ],
   "source": [
    "data.query('release_year==2008').sort_values(by='revenue', ascending=False).head(1)"
   ]
  },
  {
   "cell_type": "markdown",
   "metadata": {
    "colab_type": "text",
    "id": "Zi4hDKidVp_F"
   },
   "source": [
    "# 10. Самый убыточный фильм за период с 2012 по 2014 г. (включительно)?\n"
   ]
  },
  {
   "cell_type": "code",
   "execution_count": 158,
   "metadata": {},
   "outputs": [],
   "source": [
    "answers['10'] = 'The Lone Ranger (tt1210819)'"
   ]
  },
  {
   "cell_type": "code",
   "execution_count": 159,
   "metadata": {
    "colab": {},
    "colab_type": "code",
    "id": "XqyRmufJVp_F"
   },
   "outputs": [
    {
     "output_type": "execute_result",
     "data": {
      "text/plain": [
       "        imdb_id     budget   revenue   original_title  \\\n",
       "1245  tt1210819  255000000  89289910  The Lone Ranger   \n",
       "\n",
       "                                                   cast        director  \\\n",
       "1245  Johnny Depp|Armie Hammer|William Fichtner|Hele...  Gore Verbinski   \n",
       "\n",
       "                      tagline  \\\n",
       "1245  Never Take Off the Mask   \n",
       "\n",
       "                                               overview  runtime  \\\n",
       "1245  The Texas Rangers chase down a gang of outlaws...      149   \n",
       "\n",
       "                        genres  \\\n",
       "1245  Action|Adventure|Western   \n",
       "\n",
       "                                   production_companies release_date  \\\n",
       "1245  Walt Disney Pictures|Jerry Bruckheimer Films|I...     7/3/2013   \n",
       "\n",
       "      vote_average  release_year     profit  \n",
       "1245           6.0          2013 -165710090  "
      ],
      "text/html": "<div>\n<style scoped>\n    .dataframe tbody tr th:only-of-type {\n        vertical-align: middle;\n    }\n\n    .dataframe tbody tr th {\n        vertical-align: top;\n    }\n\n    .dataframe thead th {\n        text-align: right;\n    }\n</style>\n<table border=\"1\" class=\"dataframe\">\n  <thead>\n    <tr style=\"text-align: right;\">\n      <th></th>\n      <th>imdb_id</th>\n      <th>budget</th>\n      <th>revenue</th>\n      <th>original_title</th>\n      <th>cast</th>\n      <th>director</th>\n      <th>tagline</th>\n      <th>overview</th>\n      <th>runtime</th>\n      <th>genres</th>\n      <th>production_companies</th>\n      <th>release_date</th>\n      <th>vote_average</th>\n      <th>release_year</th>\n      <th>profit</th>\n    </tr>\n  </thead>\n  <tbody>\n    <tr>\n      <th>1245</th>\n      <td>tt1210819</td>\n      <td>255000000</td>\n      <td>89289910</td>\n      <td>The Lone Ranger</td>\n      <td>Johnny Depp|Armie Hammer|William Fichtner|Hele...</td>\n      <td>Gore Verbinski</td>\n      <td>Never Take Off the Mask</td>\n      <td>The Texas Rangers chase down a gang of outlaws...</td>\n      <td>149</td>\n      <td>Action|Adventure|Western</td>\n      <td>Walt Disney Pictures|Jerry Bruckheimer Films|I...</td>\n      <td>7/3/2013</td>\n      <td>6.0</td>\n      <td>2013</td>\n      <td>-165710090</td>\n    </tr>\n  </tbody>\n</table>\n</div>"
     },
     "metadata": {},
     "execution_count": 159
    }
   ],
   "source": [
    "data.query('release_year >= 2012 & release_year <= 2014').sort_values(by='profit', ascending=True).head(1)"
   ]
  },
  {
   "source": [
    "# 11. Какого жанра фильмов больше всего?"
   ],
   "cell_type": "markdown",
   "metadata": {
    "colab_type": "text",
    "id": "EA7Sa9dkVp_I"
   }
  },
  {
   "cell_type": "code",
   "execution_count": 160,
   "metadata": {},
   "outputs": [],
   "source": [
    "answers['11'] = 'Drama'"
   ]
  },
  {
   "cell_type": "code",
   "execution_count": 161,
   "metadata": {
    "colab": {},
    "colab_type": "code",
    "id": "zsJAwJ8QVp_J"
   },
   "outputs": [
    {
     "output_type": "execute_result",
     "data": {
      "text/plain": [
       "Drama              782\n",
       "Comedy             683\n",
       "Thriller           596\n",
       "Action             582\n",
       "Adventure          415\n",
       "Crime              315\n",
       "Romance            308\n",
       "Family             260\n",
       "Science Fiction    248\n",
       "Fantasy            222\n",
       "Horror             176\n",
       "Mystery            168\n",
       "Animation          139\n",
       "Music               64\n",
       "History             62\n",
       "War                 58\n",
       "Western             19\n",
       "Documentary          8\n",
       "Foreign              2\n",
       "dtype: int64"
      ]
     },
     "metadata": {},
     "execution_count": 161
    }
   ],
   "source": [
    "# эту задачу тоже можно решать разными подходами, попробуй реализовать разные варианты\n",
    "# если будешь добавлять функцию - выноси ее в предобработку что в начале\n",
    "\n",
    "pd.Series(data.genres.str.split('|').sum()).value_counts() #sum() складывает все элементы серии в один список\n",
    "\n",
    "\n"
   ]
  },
  {
   "cell_type": "code",
   "execution_count": 0,
   "metadata": {
    "colab": {},
    "colab_type": "code",
    "id": "otO3SbrSVp_N"
   },
   "outputs": [],
   "source": []
  },
  {
   "source": [
    "# 12. Фильмы какого жанра чаще всего становятся прибыльными? "
   ],
   "cell_type": "markdown",
   "metadata": {
    "colab_type": "text",
    "id": "T9_bPWpkVp_Q"
   }
  },
  {
   "cell_type": "code",
   "execution_count": 162,
   "metadata": {},
   "outputs": [],
   "source": [
    "answers['12'] = 'Drama'"
   ]
  },
  {
   "cell_type": "code",
   "execution_count": 163,
   "metadata": {
    "colab": {},
    "colab_type": "code",
    "id": "Tmt8MaK1Vp_R"
   },
   "outputs": [
    {
     "output_type": "execute_result",
     "data": {
      "text/plain": [
       "Drama              560\n",
       "Comedy             551\n",
       "Thriller           446\n",
       "Action             444\n",
       "Adventure          337\n",
       "Romance            242\n",
       "Crime              231\n",
       "Family             226\n",
       "Science Fiction    195\n",
       "Fantasy            188\n",
       "Horror             150\n",
       "Animation          120\n",
       "Mystery            119\n",
       "Music               47\n",
       "History             46\n",
       "War                 41\n",
       "Western             12\n",
       "Documentary          7\n",
       "Name: genres, dtype: int64"
      ]
     },
     "metadata": {},
     "execution_count": 163
    }
   ],
   "source": [
    "df = data[data.profit > 0][['genres']]\n",
    "df.genres = df.genres.str.split('|')\n",
    "df = df.explode('genres') #arranged the pd.seria by index\n",
    "df.genres.value_counts() \n",
    "\n",
    "\n"
   ]
  },
  {
   "cell_type": "code",
   "execution_count": null,
   "metadata": {},
   "outputs": [],
   "source": []
  },
  {
   "source": [
    "# 13. У какого режиссера самые большие суммарные кассовые сборы?"
   ],
   "cell_type": "markdown",
   "metadata": {
    "colab_type": "text",
    "id": "0F23bgsDVp_U"
   }
  },
  {
   "cell_type": "code",
   "execution_count": 164,
   "metadata": {},
   "outputs": [],
   "source": [
    "answers['13'] = 'Peter Jackson'            "
   ]
  },
  {
   "cell_type": "code",
   "execution_count": 165,
   "metadata": {
    "colab": {},
    "colab_type": "code",
    "id": "K6Z3J8ygVp_X"
   },
   "outputs": [
    {
     "output_type": "execute_result",
     "data": {
      "text/plain": [
       "'Peter Jackson'"
      ]
     },
     "metadata": {},
     "execution_count": 165
    }
   ],
   "source": [
    "data.groupby(['director'])['revenue'].sum().sort_values(ascending=False).index[0]"
   ]
  },
  {
   "cell_type": "markdown",
   "metadata": {
    "colab_type": "text",
    "id": "PsYC9FgRVp_a"
   },
   "source": [
    "# 14. Какой режисер снял больше всего фильмов в стиле Action?"
   ]
  },
  {
   "cell_type": "code",
   "execution_count": 166,
   "metadata": {},
   "outputs": [],
   "source": [
    "answers['14'] = 'Robert Rodriguez'"
   ]
  },
  {
   "cell_type": "code",
   "execution_count": 167,
   "metadata": {
    "colab": {},
    "colab_type": "code",
    "id": "wd2M-wHeVp_b"
   },
   "outputs": [
    {
     "output_type": "execute_result",
     "data": {
      "text/plain": [
       "Robert Rodriguez      9\n",
       "Michael Bay           7\n",
       "Paul W.S. Anderson    7\n",
       "Name: director, dtype: int64"
      ]
     },
     "metadata": {},
     "execution_count": 167
    }
   ],
   "source": [
    "data[data.genres.str.contains('Action')].director.str.split('|').explode().value_counts().head(3)\n",
    "\n"
   ]
  },
  {
   "cell_type": "code",
   "execution_count": null,
   "metadata": {},
   "outputs": [],
   "source": []
  },
  {
   "source": [
    "# 15. Фильмы с каким актером принесли самые высокие кассовые сборы в 2012 году? "
   ],
   "cell_type": "markdown",
   "metadata": {
    "colab_type": "text",
    "id": "PQ0KciD7Vp_f"
   }
  },
  {
   "cell_type": "code",
   "execution_count": 168,
   "metadata": {},
   "outputs": [],
   "source": [
    "answers['15'] = 'Chris Hemsworth'"
   ]
  },
  {
   "cell_type": "code",
   "execution_count": 169,
   "metadata": {
    "colab": {},
    "colab_type": "code",
    "id": "aga62oeKVp_g"
   },
   "outputs": [
    {
     "output_type": "execute_result",
     "data": {
      "text/plain": [
       "actors\n",
       "Chris Hemsworth    2027450773\n",
       "Denis Leary        1629460639\n",
       "Anne Hathaway      1522851057\n",
       "Name: revenue, dtype: int64"
      ]
     },
     "metadata": {},
     "execution_count": 169
    }
   ],
   "source": [
    "df = data.copy()\n",
    "df=data.query('release_year == 2012')\n",
    "df['actors'] = df.cast.str.split('|')\n",
    "df=df.explode('actors')\n",
    "df.groupby(df['actors'])['revenue'].sum().sort_values(ascending=False).head(3)"
   ]
  },
  {
   "cell_type": "markdown",
   "metadata": {
    "colab_type": "text",
    "id": "mWHyyL7QVp_j"
   },
   "source": [
    "# 16. Какой актер снялся в большем количестве высокобюджетных фильмов?"
   ]
  },
  {
   "cell_type": "code",
   "execution_count": 170,
   "metadata": {},
   "outputs": [],
   "source": [
    "answers['16'] = 'Matt Damon'"
   ]
  },
  {
   "cell_type": "code",
   "execution_count": 171,
   "metadata": {
    "colab": {},
    "colab_type": "code",
    "id": "qQtmHKTFVp_k"
   },
   "outputs": [
    {
     "output_type": "execute_result",
     "data": {
      "text/plain": [
       "actors\n",
       "Matt Damon           18\n",
       "Adam Sandler         17\n",
       "Angelina Jolie       16\n",
       "Eddie Murphy         15\n",
       "Samuel L. Jackson    15\n",
       "                     ..\n",
       "Leslie Bibb           1\n",
       "Leonard Nimoy         1\n",
       "Lennie James          1\n",
       "Lena Olin             1\n",
       "50 Cent               1\n",
       "Length: 1505, dtype: int64"
      ]
     },
     "metadata": {},
     "execution_count": 171
    }
   ],
   "source": [
    "df = data.copy()\n",
    "df['actors'] = df.cast.str.split('|')\n",
    "df=df.explode('actors')\n",
    "df[(df['budget']>df.budget.mean())].value_counts('actors')\n"
   ]
  },
  {
   "cell_type": "markdown",
   "metadata": {
    "colab_type": "text",
    "id": "NIh6AaW5Vp_n"
   },
   "source": [
    "# 17. В фильмах какого жанра больше всего снимался Nicolas Cage? "
   ]
  },
  {
   "cell_type": "code",
   "execution_count": 172,
   "metadata": {},
   "outputs": [],
   "source": [
    "answers['17'] = 'Action'"
   ]
  },
  {
   "cell_type": "code",
   "execution_count": 173,
   "metadata": {
    "colab": {},
    "colab_type": "code",
    "id": "H74SJDIBVp_n"
   },
   "outputs": [
    {
     "output_type": "execute_result",
     "data": {
      "text/plain": [
       "'Action'"
      ]
     },
     "metadata": {},
     "execution_count": 173
    }
   ],
   "source": [
    "df = data.copy()\n",
    "df['actors'] = df.cast.str.split('|')\n",
    "df=df.explode('actors')\n",
    "df['genres'] = df.genres.str.split('|')\n",
    "df = df.explode('genres')\n",
    "df[(df['actors'] == 'Nicolas Cage')].value_counts('genres').index[0]"
   ]
  },
  {
   "cell_type": "markdown",
   "metadata": {
    "colab_type": "text",
    "id": "RqOmPRfWVp_q"
   },
   "source": [
    "# 18. Самый убыточный фильм от Paramount Pictures"
   ]
  },
  {
   "cell_type": "code",
   "execution_count": 174,
   "metadata": {},
   "outputs": [],
   "source": [
    "answers['18'] = 'K-19: The Widowmaker'"
   ]
  },
  {
   "cell_type": "code",
   "execution_count": 175,
   "metadata": {
    "colab": {},
    "colab_type": "code",
    "id": "9E_B0Y96Vp_r"
   },
   "outputs": [
    {
     "output_type": "display_data",
     "data": {
      "text/plain": "925    K-19: The Widowmaker\nName: original_title, dtype: object"
     },
     "metadata": {}
    }
   ],
   "source": [
    "df = data.copy()\n",
    "df['production_companies'] = df.production_companies.str.split('|')\n",
    "df=df.explode('production_companies')\n",
    "df=df.query('production_companies == \"Paramount Pictures\"').sort_values(by='profit',ascending=True).head(1)\n",
    "display(df['original_title'])\n",
    "\n"
   ]
  },
  {
   "cell_type": "markdown",
   "metadata": {
    "colab_type": "text",
    "id": "vS8Ur6ddVp_u"
   },
   "source": [
    "# 19. Какой год стал самым успешным по суммарным кассовым сборам?"
   ]
  },
  {
   "cell_type": "code",
   "execution_count": 176,
   "metadata": {},
   "outputs": [],
   "source": [
    "answers['19'] = '2015'"
   ]
  },
  {
   "cell_type": "code",
   "execution_count": 177,
   "metadata": {
    "colab": {},
    "colab_type": "code",
    "id": "Dnbt4GdIVp_v"
   },
   "outputs": [
    {
     "output_type": "execute_result",
     "data": {
      "text/plain": [
       "2015"
      ]
     },
     "metadata": {},
     "execution_count": 177
    }
   ],
   "source": [
    "df = data.copy()\n",
    "df.groupby(df['release_year'])['revenue'].agg(['sum']).sort_values(['sum'],ascending=False).index[0]"
   ]
  },
  {
   "cell_type": "markdown",
   "metadata": {
    "colab_type": "text",
    "id": "JAzJh4QAVp_z"
   },
   "source": [
    "# 20. Какой самый прибыльный год для студии Warner Bros?"
   ]
  },
  {
   "cell_type": "code",
   "execution_count": 178,
   "metadata": {},
   "outputs": [],
   "source": [
    "answers['20'] = '2014'"
   ]
  },
  {
   "cell_type": "code",
   "execution_count": 179,
   "metadata": {
    "colab": {},
    "colab_type": "code",
    "id": "wgVu02DEVp_0"
   },
   "outputs": [
    {
     "output_type": "execute_result",
     "data": {
      "text/plain": [
       "2014"
      ]
     },
     "metadata": {},
     "execution_count": 179
    }
   ],
   "source": [
    "df = data.copy()\n",
    "df['production_companies'] = df.production_companies.str.split('|')\n",
    "df=df.explode('production_companies')\n",
    "df=df[df.production_companies.str.contains(\"Bros\", na=False)]\n",
    "df.groupby(df['release_year'])['revenue'].agg(['sum']).sort_values(['sum'],ascending=False).index[0]"
   ]
  },
  {
   "cell_type": "markdown",
   "metadata": {
    "colab_type": "text",
    "id": "8Im1S2HRVp_4"
   },
   "source": [
    "# 21. В каком месяце за все годы суммарно вышло больше всего фильмов?"
   ]
  },
  {
   "cell_type": "code",
   "execution_count": 180,
   "metadata": {},
   "outputs": [],
   "source": [
    "answers['21'] = '9'"
   ]
  },
  {
   "cell_type": "code",
   "execution_count": 181,
   "metadata": {
    "colab": {},
    "colab_type": "code",
    "id": "lev6TH7gVp_4"
   },
   "outputs": [
    {
     "output_type": "execute_result",
     "data": {
      "text/plain": [
       "'9'"
      ]
     },
     "metadata": {},
     "execution_count": 181
    }
   ],
   "source": [
    "\n",
    "df = data.copy()\n",
    "df[['month','day','year']] = df.release_date.str.split('/', expand=True)\n",
    "df.month.value_counts().sort_values(ascending=False).index[0]\n"
   ]
  },
  {
   "cell_type": "markdown",
   "metadata": {
    "colab_type": "text",
    "id": "uAJsZ_NeVp_7"
   },
   "source": [
    "# 22. Сколько суммарно вышло фильмов летом? (за июнь, июль, август)"
   ]
  },
  {
   "cell_type": "code",
   "execution_count": 182,
   "metadata": {},
   "outputs": [],
   "source": [
    "answers['22'] = '450'"
   ]
  },
  {
   "cell_type": "code",
   "execution_count": 183,
   "metadata": {
    "colab": {},
    "colab_type": "code",
    "id": "Aa-hEREoVp_8"
   },
   "outputs": [
    {
     "output_type": "execute_result",
     "data": {
      "text/plain": [
       "imdb_id    450\n",
       "dtype: int64"
      ]
     },
     "metadata": {},
     "execution_count": 183
    }
   ],
   "source": [
    "df = data.copy()\n",
    "df[['month','day','year']] = df.release_date.str.split('/', expand=True)\n",
    "df['month'] = df['month'].astype(int)\n",
    "df.query('month>=6 & month<=8').count().head(1)\n"
   ]
  },
  {
   "cell_type": "markdown",
   "metadata": {
    "colab_type": "text",
    "id": "G94ppOY1VqAA"
   },
   "source": [
    "# 23. Для какого режиссера зима – самое продуктивное время года? "
   ]
  },
  {
   "cell_type": "code",
   "execution_count": 184,
   "metadata": {},
   "outputs": [],
   "source": [
    "answers['23'] = 'Peter Jackson'"
   ]
  },
  {
   "cell_type": "code",
   "execution_count": 185,
   "metadata": {},
   "outputs": [],
   "source": [
    "#не правильный вариант"
   ]
  },
  {
   "cell_type": "code",
   "execution_count": 186,
   "metadata": {
    "colab": {},
    "colab_type": "code",
    "id": "RhNTsamuVqAB"
   },
   "outputs": [
    {
     "output_type": "execute_result",
     "data": {
      "text/plain": [
       "director\n",
       "Steven Soderbergh    13\n",
       "Clint Eastwood       12\n",
       "Ridley Scott         12\n",
       "Robert Rodriguez     11\n",
       "Steven Spielberg     10\n",
       "dtype: int64"
      ]
     },
     "metadata": {},
     "execution_count": 186
    }
   ],
   "source": [
    "df = data.copy()\n",
    "df['director'] = df.director.str.split('|')\n",
    "df=df.explode('director')\n",
    "df[['month','day','year']] = df.release_date.str.split('/', expand=True)\n",
    "df['month'] = df['month'].astype(int)\n",
    "df.query('month>=1 & month<=2 | month==12')\n",
    "df.value_counts('director').head(5)"
   ]
  },
  {
   "cell_type": "code",
   "execution_count": 187,
   "metadata": {},
   "outputs": [],
   "source": [
    "#Правильный вариант с datetime"
   ]
  },
  {
   "cell_type": "code",
   "execution_count": 188,
   "metadata": {},
   "outputs": [
    {
     "output_type": "execute_result",
     "data": {
      "text/plain": [
       "director\n",
       "Peter Jackson        7\n",
       "Steven Soderbergh    6\n",
       "Clint Eastwood       6\n",
       "Nancy Meyers         4\n",
       "Adam Shankman        4\n",
       "dtype: int64"
      ]
     },
     "metadata": {},
     "execution_count": 188
    }
   ],
   "source": [
    "from datetime import datetime\n",
    "df = data.copy()\n",
    "df.release_date = pd.to_datetime(data.release_date)\n",
    "df=df[df.release_date.dt.month.isin([1,2,12])]\n",
    "df.value_counts('director').head(5)"
   ]
  },
  {
   "cell_type": "markdown",
   "metadata": {
    "colab_type": "text",
    "id": "RBo0JVjVVqAF"
   },
   "source": [
    "# 24. Какая студия дает самые длинные названия своим фильмам по количеству символов?"
   ]
  },
  {
   "cell_type": "code",
   "execution_count": 189,
   "metadata": {},
   "outputs": [],
   "source": [
    "answers['24'] = 'Four By Two Productions'"
   ]
  },
  {
   "cell_type": "code",
   "execution_count": 190,
   "metadata": {
    "colab": {},
    "colab_type": "code",
    "id": "QRGS8L0iVqAG"
   },
   "outputs": [
    {
     "output_type": "execute_result",
     "data": {
      "text/plain": [
       "                         mean\n",
       "production_companies         \n",
       "Four By Two Productions  83.0\n",
       "Jim Henson Company, The  59.0\n",
       "Dos Corazones            47.0"
      ],
      "text/html": "<div>\n<style scoped>\n    .dataframe tbody tr th:only-of-type {\n        vertical-align: middle;\n    }\n\n    .dataframe tbody tr th {\n        vertical-align: top;\n    }\n\n    .dataframe thead th {\n        text-align: right;\n    }\n</style>\n<table border=\"1\" class=\"dataframe\">\n  <thead>\n    <tr style=\"text-align: right;\">\n      <th></th>\n      <th>mean</th>\n    </tr>\n    <tr>\n      <th>production_companies</th>\n      <th></th>\n    </tr>\n  </thead>\n  <tbody>\n    <tr>\n      <th>Four By Two Productions</th>\n      <td>83.0</td>\n    </tr>\n    <tr>\n      <th>Jim Henson Company, The</th>\n      <td>59.0</td>\n    </tr>\n    <tr>\n      <th>Dos Corazones</th>\n      <td>47.0</td>\n    </tr>\n  </tbody>\n</table>\n</div>"
     },
     "metadata": {},
     "execution_count": 190
    }
   ],
   "source": [
    "df = data.copy()\n",
    "df['production_companies'] = df.production_companies.str.split('|')\n",
    "df=df.explode('production_companies')\n",
    "df['name_length'] = df.original_title.str.len()\n",
    "df.groupby(['production_companies'])['name_length'].agg(['mean']).sort_values(by='mean',ascending=False).head(3)\n"
   ]
  },
  {
   "cell_type": "markdown",
   "metadata": {
    "colab_type": "text",
    "id": "9G0hbvR7VqAK"
   },
   "source": [
    "# 25. Описание фильмов какой студии в среднем самые длинные по количеству слов?"
   ]
  },
  {
   "cell_type": "code",
   "execution_count": 191,
   "metadata": {},
   "outputs": [],
   "source": [
    "answers['25'] = 'Midnight Picture Show'"
   ]
  },
  {
   "cell_type": "code",
   "execution_count": 192,
   "metadata": {
    "colab": {},
    "colab_type": "code",
    "id": "Ge2GsLNxVqAK"
   },
   "outputs": [
    {
     "output_type": "execute_result",
     "data": {
      "text/plain": [
       "                                 mean\n",
       "production_companies                 \n",
       "Midnight Picture Show           175.0\n",
       "Heineken Branded Entertainment  161.0\n",
       "Room 9 Entertainment            161.0"
      ],
      "text/html": "<div>\n<style scoped>\n    .dataframe tbody tr th:only-of-type {\n        vertical-align: middle;\n    }\n\n    .dataframe tbody tr th {\n        vertical-align: top;\n    }\n\n    .dataframe thead th {\n        text-align: right;\n    }\n</style>\n<table border=\"1\" class=\"dataframe\">\n  <thead>\n    <tr style=\"text-align: right;\">\n      <th></th>\n      <th>mean</th>\n    </tr>\n    <tr>\n      <th>production_companies</th>\n      <th></th>\n    </tr>\n  </thead>\n  <tbody>\n    <tr>\n      <th>Midnight Picture Show</th>\n      <td>175.0</td>\n    </tr>\n    <tr>\n      <th>Heineken Branded Entertainment</th>\n      <td>161.0</td>\n    </tr>\n    <tr>\n      <th>Room 9 Entertainment</th>\n      <td>161.0</td>\n    </tr>\n  </tbody>\n</table>\n</div>"
     },
     "metadata": {},
     "execution_count": 192
    }
   ],
   "source": [
    "df = data.copy()\n",
    "df['production_companies'] = df.production_companies.str.split('|')\n",
    "df=df.explode('production_companies')\n",
    "df['overview_length'] = df.overview.str.split(\" \").str.len()\n",
    "df.groupby(['production_companies'])['overview_length'].agg(['mean']).sort_values(by='mean',ascending=False).head(3)"
   ]
  },
  {
   "source": [
    "# 26. Какие фильмы входят в 1 процент лучших по рейтингу? \n",
    "по vote_average"
   ],
   "cell_type": "markdown",
   "metadata": {
    "colab_type": "text",
    "id": "FJ1AFt90VqAP"
   }
  },
  {
   "cell_type": "code",
   "execution_count": 193,
   "metadata": {},
   "outputs": [],
   "source": [
    "answers['26'] = 'Inside Out, The Dark Knight, 12 Years a Slave'"
   ]
  },
  {
   "cell_type": "code",
   "execution_count": 194,
   "metadata": {
    "colab": {},
    "colab_type": "code",
    "id": "8qmJVq4CVqAQ"
   },
   "outputs": [
    {
     "output_type": "execute_result",
     "data": {
      "text/plain": [
       "                                     original_title  vote_average\n",
       "599                                 The Dark Knight           8.1\n",
       "118                                    Interstellar           8.0\n",
       "125                              The Imitation Game           8.0\n",
       "9                                        Inside Out           8.0\n",
       "34                                             Room           8.0\n",
       "1183                        The Wolf of Wall Street           7.9\n",
       "128                                       Gone Girl           7.9\n",
       "1191                               12 Years a Slave           7.9\n",
       "119                         Guardians of the Galaxy           7.9\n",
       "1081  The Lord of the Rings: The Return of the King           7.9\n",
       "1800                                        Memento           7.9\n",
       "370                                       Inception           7.9\n",
       "872                                     The Pianist           7.9\n",
       "138                        The Grand Budapest Hotel           7.9\n",
       "1188                                            Her           7.8\n",
       "28                                        Spotlight           7.8\n",
       "124                                      Big Hero 6           7.8\n",
       "177                          The Fault in Our Stars           7.8"
      ],
      "text/html": "<div>\n<style scoped>\n    .dataframe tbody tr th:only-of-type {\n        vertical-align: middle;\n    }\n\n    .dataframe tbody tr th {\n        vertical-align: top;\n    }\n\n    .dataframe thead th {\n        text-align: right;\n    }\n</style>\n<table border=\"1\" class=\"dataframe\">\n  <thead>\n    <tr style=\"text-align: right;\">\n      <th></th>\n      <th>original_title</th>\n      <th>vote_average</th>\n    </tr>\n  </thead>\n  <tbody>\n    <tr>\n      <th>599</th>\n      <td>The Dark Knight</td>\n      <td>8.1</td>\n    </tr>\n    <tr>\n      <th>118</th>\n      <td>Interstellar</td>\n      <td>8.0</td>\n    </tr>\n    <tr>\n      <th>125</th>\n      <td>The Imitation Game</td>\n      <td>8.0</td>\n    </tr>\n    <tr>\n      <th>9</th>\n      <td>Inside Out</td>\n      <td>8.0</td>\n    </tr>\n    <tr>\n      <th>34</th>\n      <td>Room</td>\n      <td>8.0</td>\n    </tr>\n    <tr>\n      <th>1183</th>\n      <td>The Wolf of Wall Street</td>\n      <td>7.9</td>\n    </tr>\n    <tr>\n      <th>128</th>\n      <td>Gone Girl</td>\n      <td>7.9</td>\n    </tr>\n    <tr>\n      <th>1191</th>\n      <td>12 Years a Slave</td>\n      <td>7.9</td>\n    </tr>\n    <tr>\n      <th>119</th>\n      <td>Guardians of the Galaxy</td>\n      <td>7.9</td>\n    </tr>\n    <tr>\n      <th>1081</th>\n      <td>The Lord of the Rings: The Return of the King</td>\n      <td>7.9</td>\n    </tr>\n    <tr>\n      <th>1800</th>\n      <td>Memento</td>\n      <td>7.9</td>\n    </tr>\n    <tr>\n      <th>370</th>\n      <td>Inception</td>\n      <td>7.9</td>\n    </tr>\n    <tr>\n      <th>872</th>\n      <td>The Pianist</td>\n      <td>7.9</td>\n    </tr>\n    <tr>\n      <th>138</th>\n      <td>The Grand Budapest Hotel</td>\n      <td>7.9</td>\n    </tr>\n    <tr>\n      <th>1188</th>\n      <td>Her</td>\n      <td>7.8</td>\n    </tr>\n    <tr>\n      <th>28</th>\n      <td>Spotlight</td>\n      <td>7.8</td>\n    </tr>\n    <tr>\n      <th>124</th>\n      <td>Big Hero 6</td>\n      <td>7.8</td>\n    </tr>\n    <tr>\n      <th>177</th>\n      <td>The Fault in Our Stars</td>\n      <td>7.8</td>\n    </tr>\n  </tbody>\n</table>\n</div>"
     },
     "metadata": {},
     "execution_count": 194
    }
   ],
   "source": [
    "df = data.copy()\n",
    "df[['original_title','vote_average']].sort_values(by='vote_average',ascending=False).head(18)\n",
    "\n",
    "\n"
   ]
  },
  {
   "source": [
    "# 27. Какие актеры чаще всего снимаются в одном фильме вместе?\n"
   ],
   "cell_type": "markdown",
   "metadata": {
    "colab_type": "text",
    "id": "MdXsUXbCVqAV"
   }
  },
  {
   "cell_type": "code",
   "execution_count": 195,
   "metadata": {},
   "outputs": [],
   "source": [
    "answers['27'] = 'Daniel Radcliffe, Rupert Grint'"
   ]
  },
  {
   "cell_type": "code",
   "execution_count": 196,
   "metadata": {},
   "outputs": [
    {
     "output_type": "execute_result",
     "data": {
      "text/plain": [
       "(Daniel Radcliffe, Emma Watson)        8\n",
       "(Daniel Radcliffe, Rupert Grint)       8\n",
       "(Rupert Grint, Emma Watson)            7\n",
       "(Ben Stiller, Owen Wilson)             6\n",
       "(Johnny Depp, Helena Bonham Carter)    6\n",
       "                                      ..\n",
       "(Michael Gambon, Ralph Fiennes)        1\n",
       "(Jeff Bridges, Elizabeth Banks)        1\n",
       "(Alicia Vikander, Oscar Isaac)         1\n",
       "(Jennifer Coolidge, Regina King)       1\n",
       "(Jake Gyllenhaal, Randy Quaid)         1\n",
       "Length: 18121, dtype: int64"
      ]
     },
     "metadata": {},
     "execution_count": 196
    }
   ],
   "source": [
    "from itertools import combinations\n",
    "df = data.copy()\n",
    "combs = [] \n",
    "for cast in df.cast.str.split('|'):\n",
    "    combs.extend(combinations(cast, 2))\n",
    "pd.Series(combs).value_counts()\n",
    "    \n",
    "    \n",
    "\n"
   ]
  },
  {
   "cell_type": "markdown",
   "metadata": {
    "colab_type": "text",
    "id": "4ymnxEVoVqAW"
   },
   "source": [
    "ВАРИАНТ 2"
   ]
  },
  {
   "cell_type": "markdown",
   "metadata": {
    "colab_type": "text",
    "id": "U0nONFnGVqAX"
   },
   "source": [
    "# Submission"
   ]
  },
  {
   "cell_type": "code",
   "execution_count": 197,
   "metadata": {
    "colab": {},
    "colab_type": "code",
    "id": "IfcaRO9-VqAX",
    "outputId": "0f132912-32bb-4196-c98c-abfbc4ad5a5f"
   },
   "outputs": [
    {
     "output_type": "execute_result",
     "data": {
      "text/plain": [
       "{'1': '...',\n",
       " '2': 'Gods and Generals (tt0279111)',\n",
       " '3': 'Winnie the Pooh (tt1449283)',\n",
       " '4': '110.0',\n",
       " '5': '107.0',\n",
       " '6': 'Avatar (tt0499549)',\n",
       " '7': 'The Lone Ranger (tt1210819)',\n",
       " '8': '1478',\n",
       " '9': 'The Dark Knight (tt0468569)',\n",
       " '10': 'The Lone Ranger (tt1210819)',\n",
       " '11': 'Drama',\n",
       " '12': 'Drama',\n",
       " '13': 'Peter Jackson',\n",
       " '14': 'Robert Rodriguez',\n",
       " '15': 'Chris Hemsworth',\n",
       " '16': 'Matt Damon',\n",
       " '17': 'Action',\n",
       " '18': 'K-19: The Widowmaker',\n",
       " '19': '2015',\n",
       " '20': '2014',\n",
       " '21': '9',\n",
       " '22': '450',\n",
       " '23': 'Peter Jackson',\n",
       " '24': 'Four By Two Productions',\n",
       " '25': 'Midnight Picture Show',\n",
       " '26': 'Inside Out, The Dark Knight, 12 Years a Slave',\n",
       " '27': 'Daniel Radcliffe, Rupert Grint'}"
      ]
     },
     "metadata": {},
     "execution_count": 197
    }
   ],
   "source": [
    "# в конце можно посмотреть свои ответы к каждому вопросу\n",
    "answers"
   ]
  },
  {
   "cell_type": "code",
   "execution_count": 198,
   "metadata": {
    "colab": {},
    "colab_type": "code",
    "id": "SiRmHPl8VqAd"
   },
   "outputs": [
    {
     "output_type": "execute_result",
     "data": {
      "text/plain": [
       "27"
      ]
     },
     "metadata": {},
     "execution_count": 198
    }
   ],
   "source": [
    "# и убедиться что ни чего не пропустил)\n",
    "len(answers)"
   ]
  },
  {
   "cell_type": "code",
   "execution_count": 0,
   "metadata": {
    "colab": {},
    "colab_type": "code",
    "id": "uCfuTkRbVqAg"
   },
   "outputs": [],
   "source": []
  },
  {
   "cell_type": "code",
   "execution_count": 0,
   "metadata": {
    "colab": {},
    "colab_type": "code",
    "id": "Vwx3NrkSVqAl"
   },
   "outputs": [],
   "source": []
  }
 ],
 "metadata": {
  "colab": {
   "name": "Copy of [SF-DST] Movies IMBD v4.1 TEMPLATE.ipynb",
   "provenance": []
  },
  "kernelspec": {
   "display_name": "Python 3",
   "language": "python",
   "name": "python3"
  },
  "language_info": {
   "codemirror_mode": {
    "name": "ipython",
    "version": 3
   },
   "file_extension": ".py",
   "mimetype": "text/x-python",
   "name": "python",
   "nbconvert_exporter": "python",
   "pygments_lexer": "ipython3",
   "version": "3.8.5-final"
  }
 },
 "nbformat": 4,
 "nbformat_minor": 1
}