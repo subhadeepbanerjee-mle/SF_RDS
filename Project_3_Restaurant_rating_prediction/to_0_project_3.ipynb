{
 "cells": [
  {
   "cell_type": "code",
   "execution_count": 1,
   "metadata": {
    "pycharm": {
     "name": "#%%\n"
    }
   },
   "outputs": [],
   "source": [
    "# This Python 3 environment comes with many helpful analytics libraries installed\n",
    "# It is defined by the kaggle/python docker image: https://github.com/kaggle/docker-python\n",
    "# For example, here's several helpful packages to load in\n",
    "\n",
    "import numpy as np # linear algebra\n",
    "import pandas as pd # data processing, CSV file I/O (e.g. pd.read_csv)\n",
    "\n",
    "import matplotlib.pyplot as plt\n",
    "import seaborn as sns\n",
    "from jinja2._identifier import pattern\n",
    "%matplotlib inline\n",
    "import datetime\n",
    "from datetime import timedelta\n",
    "import re\n",
    "# Загружаем специальный удобный инструмент для разделения датасета:\n",
    "from sklearn.model_selection import train_test_split\n",
    "\n",
    "# Input data files are available in the \"../input/\" directory.\n",
    "# For example, running this (by clicking run or pressing Shift+Enter) will list all files under the input directory\n",
    "\n",
    "import os\n",
    "for dirname, _, filenames in os.walk('/kaggle/input'):\n",
    "    for filename in filenames:\n",
    "        print(os.path.join(dirname, filename))"
   ]
  },
  {
   "cell_type": "code",
   "execution_count": 2,
   "metadata": {
    "pycharm": {
     "name": "#%%\n"
    }
   },
   "outputs": [],
   "source": [
    "# всегда фиксируйте RANDOM_SEED, чтобы ваши эксперименты были воспроизводимы!\n",
    "RANDOM_SEED = 42"
   ]
  },
  {
   "cell_type": "code",
   "execution_count": 3,
   "metadata": {
    "pycharm": {
     "name": "#%%\n"
    }
   },
   "outputs": [
    {
     "name": "stdout",
     "output_type": "stream",
     "text": [
      "Note: you may need to restart the kernel to use updated packages.\n"
     ]
    }
   ],
   "source": [
    "# зафиксируем версию пакетов, чтобы эксперименты были воспроизводимы:\n",
    "%pip freeze > requirements.txt"
   ]
  },
  {
   "cell_type": "code",
   "execution_count": 4,
   "metadata": {
    "pycharm": {
     "name": "#%%\n"
    }
   },
   "outputs": [
    {
     "data": {
      "text/html": [
       "<div>\n",
       "<style scoped>\n",
       "    .dataframe tbody tr th:only-of-type {\n",
       "        vertical-align: middle;\n",
       "    }\n",
       "\n",
       "    .dataframe tbody tr th {\n",
       "        vertical-align: top;\n",
       "    }\n",
       "\n",
       "    .dataframe thead th {\n",
       "        text-align: right;\n",
       "    }\n",
       "</style>\n",
       "<table border=\"1\" class=\"dataframe\">\n",
       "  <thead>\n",
       "    <tr style=\"text-align: right;\">\n",
       "      <th></th>\n",
       "      <th>Restaurant_id</th>\n",
       "      <th>City</th>\n",
       "      <th>Cuisine Style</th>\n",
       "      <th>Ranking</th>\n",
       "      <th>Rating</th>\n",
       "      <th>Price Range</th>\n",
       "      <th>Number of Reviews</th>\n",
       "      <th>Reviews</th>\n",
       "      <th>URL_TA</th>\n",
       "      <th>ID_TA</th>\n",
       "    </tr>\n",
       "  </thead>\n",
       "  <tbody>\n",
       "    <tr>\n",
       "      <th>0</th>\n",
       "      <td>id_5569</td>\n",
       "      <td>Paris</td>\n",
       "      <td>['European', 'French', 'International']</td>\n",
       "      <td>5570.0</td>\n",
       "      <td>3.5</td>\n",
       "      <td>$$ - $$$</td>\n",
       "      <td>194.0</td>\n",
       "      <td>[['Good food at your doorstep', 'A good hotel ...</td>\n",
       "      <td>/Restaurant_Review-g187147-d1912643-Reviews-R_...</td>\n",
       "      <td>d1912643</td>\n",
       "    </tr>\n",
       "    <tr>\n",
       "      <th>1</th>\n",
       "      <td>id_1535</td>\n",
       "      <td>Stockholm</td>\n",
       "      <td>NaN</td>\n",
       "      <td>1537.0</td>\n",
       "      <td>4.0</td>\n",
       "      <td>NaN</td>\n",
       "      <td>10.0</td>\n",
       "      <td>[['Unique cuisine', 'Delicious Nepalese food']...</td>\n",
       "      <td>/Restaurant_Review-g189852-d7992032-Reviews-Bu...</td>\n",
       "      <td>d7992032</td>\n",
       "    </tr>\n",
       "    <tr>\n",
       "      <th>2</th>\n",
       "      <td>id_352</td>\n",
       "      <td>London</td>\n",
       "      <td>['Japanese', 'Sushi', 'Asian', 'Grill', 'Veget...</td>\n",
       "      <td>353.0</td>\n",
       "      <td>4.5</td>\n",
       "      <td>$$$$</td>\n",
       "      <td>688.0</td>\n",
       "      <td>[['Catch up with friends', 'Not exceptional'],...</td>\n",
       "      <td>/Restaurant_Review-g186338-d8632781-Reviews-RO...</td>\n",
       "      <td>d8632781</td>\n",
       "    </tr>\n",
       "    <tr>\n",
       "      <th>3</th>\n",
       "      <td>id_3456</td>\n",
       "      <td>Berlin</td>\n",
       "      <td>NaN</td>\n",
       "      <td>3458.0</td>\n",
       "      <td>5.0</td>\n",
       "      <td>NaN</td>\n",
       "      <td>3.0</td>\n",
       "      <td>[[], []]</td>\n",
       "      <td>/Restaurant_Review-g187323-d1358776-Reviews-Es...</td>\n",
       "      <td>d1358776</td>\n",
       "    </tr>\n",
       "    <tr>\n",
       "      <th>4</th>\n",
       "      <td>id_615</td>\n",
       "      <td>Munich</td>\n",
       "      <td>['German', 'Central European', 'Vegetarian Fri...</td>\n",
       "      <td>621.0</td>\n",
       "      <td>4.0</td>\n",
       "      <td>$$ - $$$</td>\n",
       "      <td>84.0</td>\n",
       "      <td>[['Best place to try a Bavarian food', 'Nice b...</td>\n",
       "      <td>/Restaurant_Review-g187309-d6864963-Reviews-Au...</td>\n",
       "      <td>d6864963</td>\n",
       "    </tr>\n",
       "    <tr>\n",
       "      <th>...</th>\n",
       "      <td>...</td>\n",
       "      <td>...</td>\n",
       "      <td>...</td>\n",
       "      <td>...</td>\n",
       "      <td>...</td>\n",
       "      <td>...</td>\n",
       "      <td>...</td>\n",
       "      <td>...</td>\n",
       "      <td>...</td>\n",
       "      <td>...</td>\n",
       "    </tr>\n",
       "    <tr>\n",
       "      <th>39995</th>\n",
       "      <td>id_499</td>\n",
       "      <td>Milan</td>\n",
       "      <td>['Italian', 'Vegetarian Friendly', 'Vegan Opti...</td>\n",
       "      <td>500.0</td>\n",
       "      <td>4.5</td>\n",
       "      <td>$$ - $$$</td>\n",
       "      <td>79.0</td>\n",
       "      <td>[['The real Italian experience!', 'Wonderful f...</td>\n",
       "      <td>/Restaurant_Review-g187849-d2104414-Reviews-Ro...</td>\n",
       "      <td>d2104414</td>\n",
       "    </tr>\n",
       "    <tr>\n",
       "      <th>39996</th>\n",
       "      <td>id_6340</td>\n",
       "      <td>Paris</td>\n",
       "      <td>['French', 'American', 'Bar', 'European', 'Veg...</td>\n",
       "      <td>6341.0</td>\n",
       "      <td>3.5</td>\n",
       "      <td>$$ - $$$</td>\n",
       "      <td>542.0</td>\n",
       "      <td>[['Parisian atmosphere', 'Bit pricey but inter...</td>\n",
       "      <td>/Restaurant_Review-g187147-d1800036-Reviews-La...</td>\n",
       "      <td>d1800036</td>\n",
       "    </tr>\n",
       "    <tr>\n",
       "      <th>39997</th>\n",
       "      <td>id_1649</td>\n",
       "      <td>Stockholm</td>\n",
       "      <td>['Japanese', 'Sushi']</td>\n",
       "      <td>1652.0</td>\n",
       "      <td>4.5</td>\n",
       "      <td>NaN</td>\n",
       "      <td>4.0</td>\n",
       "      <td>[['Good by swedish standards', 'A hidden jewel...</td>\n",
       "      <td>/Restaurant_Review-g189852-d947615-Reviews-Sus...</td>\n",
       "      <td>d947615</td>\n",
       "    </tr>\n",
       "    <tr>\n",
       "      <th>39998</th>\n",
       "      <td>id_640</td>\n",
       "      <td>Warsaw</td>\n",
       "      <td>['Polish', 'European', 'Eastern European', 'Ce...</td>\n",
       "      <td>641.0</td>\n",
       "      <td>4.0</td>\n",
       "      <td>$$ - $$$</td>\n",
       "      <td>70.0</td>\n",
       "      <td>[['Underground restaurant', 'Oldest Restaurant...</td>\n",
       "      <td>/Restaurant_Review-g274856-d1100838-Reviews-Ho...</td>\n",
       "      <td>d1100838</td>\n",
       "    </tr>\n",
       "    <tr>\n",
       "      <th>39999</th>\n",
       "      <td>id_4824</td>\n",
       "      <td>Milan</td>\n",
       "      <td>['Spanish']</td>\n",
       "      <td>4827.0</td>\n",
       "      <td>3.0</td>\n",
       "      <td>$$ - $$$</td>\n",
       "      <td>260.0</td>\n",
       "      <td>[['Average', 'Nice an informal'], ['01/31/2016...</td>\n",
       "      <td>/Restaurant_Review-g187849-d1109020-Reviews-Ta...</td>\n",
       "      <td>d1109020</td>\n",
       "    </tr>\n",
       "  </tbody>\n",
       "</table>\n",
       "<p>40000 rows × 10 columns</p>\n",
       "</div>"
      ],
      "text/plain": [
       "      Restaurant_id       City  \\\n",
       "0           id_5569      Paris   \n",
       "1           id_1535  Stockholm   \n",
       "2            id_352     London   \n",
       "3           id_3456     Berlin   \n",
       "4            id_615     Munich   \n",
       "...             ...        ...   \n",
       "39995        id_499      Milan   \n",
       "39996       id_6340      Paris   \n",
       "39997       id_1649  Stockholm   \n",
       "39998        id_640     Warsaw   \n",
       "39999       id_4824      Milan   \n",
       "\n",
       "                                           Cuisine Style  Ranking  Rating  \\\n",
       "0                ['European', 'French', 'International']   5570.0     3.5   \n",
       "1                                                    NaN   1537.0     4.0   \n",
       "2      ['Japanese', 'Sushi', 'Asian', 'Grill', 'Veget...    353.0     4.5   \n",
       "3                                                    NaN   3458.0     5.0   \n",
       "4      ['German', 'Central European', 'Vegetarian Fri...    621.0     4.0   \n",
       "...                                                  ...      ...     ...   \n",
       "39995  ['Italian', 'Vegetarian Friendly', 'Vegan Opti...    500.0     4.5   \n",
       "39996  ['French', 'American', 'Bar', 'European', 'Veg...   6341.0     3.5   \n",
       "39997                              ['Japanese', 'Sushi']   1652.0     4.5   \n",
       "39998  ['Polish', 'European', 'Eastern European', 'Ce...    641.0     4.0   \n",
       "39999                                        ['Spanish']   4827.0     3.0   \n",
       "\n",
       "      Price Range  Number of Reviews  \\\n",
       "0        $$ - $$$              194.0   \n",
       "1             NaN               10.0   \n",
       "2            $$$$              688.0   \n",
       "3             NaN                3.0   \n",
       "4        $$ - $$$               84.0   \n",
       "...           ...                ...   \n",
       "39995    $$ - $$$               79.0   \n",
       "39996    $$ - $$$              542.0   \n",
       "39997         NaN                4.0   \n",
       "39998    $$ - $$$               70.0   \n",
       "39999    $$ - $$$              260.0   \n",
       "\n",
       "                                                 Reviews  \\\n",
       "0      [['Good food at your doorstep', 'A good hotel ...   \n",
       "1      [['Unique cuisine', 'Delicious Nepalese food']...   \n",
       "2      [['Catch up with friends', 'Not exceptional'],...   \n",
       "3                                               [[], []]   \n",
       "4      [['Best place to try a Bavarian food', 'Nice b...   \n",
       "...                                                  ...   \n",
       "39995  [['The real Italian experience!', 'Wonderful f...   \n",
       "39996  [['Parisian atmosphere', 'Bit pricey but inter...   \n",
       "39997  [['Good by swedish standards', 'A hidden jewel...   \n",
       "39998  [['Underground restaurant', 'Oldest Restaurant...   \n",
       "39999  [['Average', 'Nice an informal'], ['01/31/2016...   \n",
       "\n",
       "                                                  URL_TA     ID_TA  \n",
       "0      /Restaurant_Review-g187147-d1912643-Reviews-R_...  d1912643  \n",
       "1      /Restaurant_Review-g189852-d7992032-Reviews-Bu...  d7992032  \n",
       "2      /Restaurant_Review-g186338-d8632781-Reviews-RO...  d8632781  \n",
       "3      /Restaurant_Review-g187323-d1358776-Reviews-Es...  d1358776  \n",
       "4      /Restaurant_Review-g187309-d6864963-Reviews-Au...  d6864963  \n",
       "...                                                  ...       ...  \n",
       "39995  /Restaurant_Review-g187849-d2104414-Reviews-Ro...  d2104414  \n",
       "39996  /Restaurant_Review-g187147-d1800036-Reviews-La...  d1800036  \n",
       "39997  /Restaurant_Review-g189852-d947615-Reviews-Sus...   d947615  \n",
       "39998  /Restaurant_Review-g274856-d1100838-Reviews-Ho...  d1100838  \n",
       "39999  /Restaurant_Review-g187849-d1109020-Reviews-Ta...  d1109020  \n",
       "\n",
       "[40000 rows x 10 columns]"
      ]
     },
     "execution_count": 4,
     "metadata": {},
     "output_type": "execute_result"
    }
   ],
   "source": [
    "# Any results you write to the current directory are saved as output.\n",
    "# Loading the dataset from github\n",
    "data = pd.read_csv('main_task.xls')\n",
    "\n",
    "# Info\n",
    "data"
   ]
  },
  {
   "cell_type": "code",
   "execution_count": 5,
   "metadata": {
    "pycharm": {
     "name": "#%%\n"
    }
   },
   "outputs": [
    {
     "data": {
      "text/plain": [
       "\"[['Unique cuisine', 'Delicious Nepalese food'], ['07/06/2017', '06/19/2016']]\""
      ]
     },
     "execution_count": 5,
     "metadata": {},
     "output_type": "execute_result"
    }
   ],
   "source": [
    "data.Reviews[1]"
   ]
  },
  {
   "cell_type": "code",
   "execution_count": 6,
   "metadata": {
    "pycharm": {
     "name": "#%%\n"
    }
   },
   "outputs": [
    {
     "data": {
      "text/plain": [
       "Index(['Restaurant_id', 'City', 'Cuisine Style', 'Ranking', 'Rating',\n",
       "       'Price Range', 'Number of Reviews', 'Reviews', 'URL_TA', 'ID_TA'],\n",
       "      dtype='object')"
      ]
     },
     "execution_count": 6,
     "metadata": {},
     "output_type": "execute_result"
    }
   ],
   "source": [
    "data.columns"
   ]
  },
  {
   "cell_type": "code",
   "execution_count": 7,
   "metadata": {
    "pycharm": {
     "name": "#%%\n"
    }
   },
   "outputs": [],
   "source": [
    "# для удобства изменим наименование столбцов\n",
    "data.columns = ['restaurant_id', 'city', 'cuisine_style', 'ranking', 'rating',\n",
    "       'price_range', 'number_of_reviews', 'reviews', 'URL_TA', 'ID_TA']"
   ]
  },
  {
   "cell_type": "code",
   "execution_count": 8,
   "metadata": {
    "pycharm": {
     "name": "#%%\n"
    }
   },
   "outputs": [
    {
     "data": {
      "text/html": [
       "<div>\n",
       "<style scoped>\n",
       "    .dataframe tbody tr th:only-of-type {\n",
       "        vertical-align: middle;\n",
       "    }\n",
       "\n",
       "    .dataframe tbody tr th {\n",
       "        vertical-align: top;\n",
       "    }\n",
       "\n",
       "    .dataframe thead th {\n",
       "        text-align: right;\n",
       "    }\n",
       "</style>\n",
       "<table border=\"1\" class=\"dataframe\">\n",
       "  <thead>\n",
       "    <tr style=\"text-align: right;\">\n",
       "      <th></th>\n",
       "      <th>restaurant_id</th>\n",
       "      <th>city</th>\n",
       "      <th>cuisine_style</th>\n",
       "      <th>ranking</th>\n",
       "      <th>rating</th>\n",
       "      <th>price_range</th>\n",
       "      <th>number_of_reviews</th>\n",
       "      <th>reviews</th>\n",
       "      <th>URL_TA</th>\n",
       "      <th>ID_TA</th>\n",
       "    </tr>\n",
       "  </thead>\n",
       "  <tbody>\n",
       "    <tr>\n",
       "      <th>0</th>\n",
       "      <td>id_5569</td>\n",
       "      <td>Paris</td>\n",
       "      <td>['European', 'French', 'International']</td>\n",
       "      <td>5570.0</td>\n",
       "      <td>3.5</td>\n",
       "      <td>$$ - $$$</td>\n",
       "      <td>194.0</td>\n",
       "      <td>[['Good food at your doorstep', 'A good hotel ...</td>\n",
       "      <td>/Restaurant_Review-g187147-d1912643-Reviews-R_...</td>\n",
       "      <td>d1912643</td>\n",
       "    </tr>\n",
       "    <tr>\n",
       "      <th>1</th>\n",
       "      <td>id_1535</td>\n",
       "      <td>Stockholm</td>\n",
       "      <td>NaN</td>\n",
       "      <td>1537.0</td>\n",
       "      <td>4.0</td>\n",
       "      <td>NaN</td>\n",
       "      <td>10.0</td>\n",
       "      <td>[['Unique cuisine', 'Delicious Nepalese food']...</td>\n",
       "      <td>/Restaurant_Review-g189852-d7992032-Reviews-Bu...</td>\n",
       "      <td>d7992032</td>\n",
       "    </tr>\n",
       "    <tr>\n",
       "      <th>2</th>\n",
       "      <td>id_352</td>\n",
       "      <td>London</td>\n",
       "      <td>['Japanese', 'Sushi', 'Asian', 'Grill', 'Veget...</td>\n",
       "      <td>353.0</td>\n",
       "      <td>4.5</td>\n",
       "      <td>$$$$</td>\n",
       "      <td>688.0</td>\n",
       "      <td>[['Catch up with friends', 'Not exceptional'],...</td>\n",
       "      <td>/Restaurant_Review-g186338-d8632781-Reviews-RO...</td>\n",
       "      <td>d8632781</td>\n",
       "    </tr>\n",
       "  </tbody>\n",
       "</table>\n",
       "</div>"
      ],
      "text/plain": [
       "  restaurant_id       city                                      cuisine_style  \\\n",
       "0       id_5569      Paris            ['European', 'French', 'International']   \n",
       "1       id_1535  Stockholm                                                NaN   \n",
       "2        id_352     London  ['Japanese', 'Sushi', 'Asian', 'Grill', 'Veget...   \n",
       "\n",
       "   ranking  rating price_range  number_of_reviews  \\\n",
       "0   5570.0     3.5    $$ - $$$              194.0   \n",
       "1   1537.0     4.0         NaN               10.0   \n",
       "2    353.0     4.5        $$$$              688.0   \n",
       "\n",
       "                                             reviews  \\\n",
       "0  [['Good food at your doorstep', 'A good hotel ...   \n",
       "1  [['Unique cuisine', 'Delicious Nepalese food']...   \n",
       "2  [['Catch up with friends', 'Not exceptional'],...   \n",
       "\n",
       "                                              URL_TA     ID_TA  \n",
       "0  /Restaurant_Review-g187147-d1912643-Reviews-R_...  d1912643  \n",
       "1  /Restaurant_Review-g189852-d7992032-Reviews-Bu...  d7992032  \n",
       "2  /Restaurant_Review-g186338-d8632781-Reviews-RO...  d8632781  "
      ]
     },
     "execution_count": 8,
     "metadata": {},
     "output_type": "execute_result"
    }
   ],
   "source": [
    "data.head(3)"
   ]
  },
  {
   "cell_type": "markdown",
   "metadata": {
    "pycharm": {
     "name": "#%% md\n"
    }
   },
   "source": [
    "### 1. Обработка NAN\n",
    "У наличия пропусков могут быть разные причины, но пропуски нужно либо заполнить, либо исключить из набора полностью. Но с пропусками нужно быть внимательным, даже отсутствие информации может быть важным признаком!\n",
    "По этому перед обработкой NAN лучше вынести информацию о наличии пропуска как отдельный признак\n"
   ]
  },
  {
   "cell_type": "code",
   "execution_count": 9,
   "metadata": {
    "pycharm": {
     "name": "#%%\n"
    }
   },
   "outputs": [],
   "source": [
    "# Для примера я возьму столбец Number of Reviews\n",
    "data['Number_of_Reviews_isNAN'] = pd.isna(data['number_of_reviews']).astype('uint8')\n"
   ]
  },
  {
   "cell_type": "code",
   "execution_count": 10,
   "metadata": {
    "pycharm": {
     "name": "#%%\n"
    }
   },
   "outputs": [
    {
     "data": {
      "text/plain": [
       "0        0\n",
       "1        0\n",
       "2        0\n",
       "3        0\n",
       "4        0\n",
       "        ..\n",
       "39995    0\n",
       "39996    0\n",
       "39997    0\n",
       "39998    0\n",
       "39999    0\n",
       "Name: Number_of_Reviews_isNAN, Length: 40000, dtype: uint8"
      ]
     },
     "execution_count": 10,
     "metadata": {},
     "output_type": "execute_result"
    }
   ],
   "source": [
    "data['Number_of_Reviews_isNAN']\n"
   ]
  },
  {
   "cell_type": "code",
   "execution_count": 11,
   "metadata": {
    "pycharm": {
     "name": "#%%\n"
    }
   },
   "outputs": [],
   "source": [
    "# заполним NaN средним значением по городу\n",
    "data.loc[data['number_of_reviews'].isnull(),['number_of_reviews']] = data.groupby(['city'])['number_of_reviews'].transform('mean')\n"
   ]
  },
  {
   "cell_type": "markdown",
   "metadata": {
    "pycharm": {
     "name": "#%% md\n"
    }
   },
   "source": [
    "### Признак cuisine_style"
   ]
  },
  {
   "cell_type": "code",
   "execution_count": 12,
   "metadata": {
    "pycharm": {
     "name": "#%%\n"
    }
   },
   "outputs": [
    {
     "name": "stdout",
     "output_type": "stream",
     "text": [
      "Количетсво отсутствующих значений 0\n"
     ]
    }
   ],
   "source": [
    "#Отсутствующие значения можно отнести в группу неопределенных видов кухонь\n",
    "data['cuisine_style'] = data['cuisine_style'].fillna('Unknown')\n",
    "print(f\"Количетсво отсутствующих значений {data['cuisine_style'].isna().sum()}\")"
   ]
  },
  {
   "cell_type": "markdown",
   "metadata": {},
   "source": [
    "### Признак price_range"
   ]
  },
  {
   "cell_type": "code",
   "execution_count": 13,
   "metadata": {
    "pycharm": {
     "name": "#%%\n"
    }
   },
   "outputs": [
    {
     "name": "stdout",
     "output_type": "stream",
     "text": [
      "Количетсво отсутствующих значений 0\n"
     ]
    }
   ],
   "source": [
    "data['price_range'] = data['price_range'].fillna('Other')\n",
    "print(f\"Количетсво отсутствующих значений {data['price_range'].isna().sum()}\")"
   ]
  },
  {
   "cell_type": "markdown",
   "metadata": {},
   "source": [
    "### Признак reviews\n",
    "для корректрой обработки дат, заменим nan значения пустыми списками"
   ]
  },
  {
   "cell_type": "code",
   "execution_count": 14,
   "metadata": {
    "pycharm": {
     "name": "#%%\n"
    }
   },
   "outputs": [
    {
     "name": "stdout",
     "output_type": "stream",
     "text": [
      "Количетсво отсутствующих значений 0\n"
     ]
    }
   ],
   "source": [
    "data['reviews'] = data['reviews'].fillna(\"[[], []]\")\n",
    "print(f\"Количетсво отсутствующих значений {data['reviews'].isna().sum()}\")"
   ]
  },
  {
   "cell_type": "markdown",
   "metadata": {
    "pycharm": {
     "name": "#%% md\n"
    }
   },
   "source": [
    "## 2. Обработка признаков"
   ]
  },
  {
   "cell_type": "code",
   "execution_count": 15,
   "metadata": {
    "pycharm": {
     "name": "#%%\n"
    }
   },
   "outputs": [
    {
     "name": "stdout",
     "output_type": "stream",
     "text": [
      "<class 'pandas.core.frame.DataFrame'>\n",
      "RangeIndex: 40000 entries, 0 to 39999\n",
      "Data columns (total 11 columns):\n",
      " #   Column                   Non-Null Count  Dtype  \n",
      "---  ------                   --------------  -----  \n",
      " 0   restaurant_id            40000 non-null  object \n",
      " 1   city                     40000 non-null  object \n",
      " 2   cuisine_style            40000 non-null  object \n",
      " 3   ranking                  40000 non-null  float64\n",
      " 4   rating                   40000 non-null  float64\n",
      " 5   price_range              40000 non-null  object \n",
      " 6   number_of_reviews        40000 non-null  float64\n",
      " 7   reviews                  40000 non-null  object \n",
      " 8   URL_TA                   40000 non-null  object \n",
      " 9   ID_TA                    40000 non-null  object \n",
      " 10  Number_of_Reviews_isNAN  40000 non-null  uint8  \n",
      "dtypes: float64(3), object(7), uint8(1)\n",
      "memory usage: 3.1+ MB\n"
     ]
    }
   ],
   "source": [
    "#проверяем типы и полноту данных\n",
    "data.info()"
   ]
  },
  {
   "cell_type": "code",
   "execution_count": 16,
   "metadata": {
    "pycharm": {
     "name": "#%%\n"
    }
   },
   "outputs": [
    {
     "data": {
      "text/plain": [
       "restaurant_id              11909\n",
       "city                          31\n",
       "cuisine_style               9008\n",
       "ranking                    11936\n",
       "rating                         9\n",
       "price_range                    4\n",
       "number_of_reviews           1490\n",
       "reviews                    33516\n",
       "URL_TA                     39980\n",
       "ID_TA                      39980\n",
       "Number_of_Reviews_isNAN        2\n",
       "dtype: int64"
      ]
     },
     "execution_count": 16,
     "metadata": {},
     "output_type": "execute_result"
    }
   ],
   "source": [
    "data.nunique(dropna=False)"
   ]
  },
  {
   "cell_type": "markdown",
   "metadata": {
    "pycharm": {
     "name": "#%% md\n"
    }
   },
   "source": [
    "Какие признаки можно считать категориальными?\n",
    "\n",
    "Для кодирования категориальных признаков есть множество подходов:\n",
    "\n",
    "##### Label Encoding\n",
    "##### One-Hot Encoding\n",
    "##### Target Encoding\n",
    "##### Hashing\n",
    "Выбор кодирования зависит от признака и выбраной модели. Не будем сейчас сильно погружаться в эту тематику, давайте посмотрим лучше пример с One-Hot Encoding:\n",
    "\n",
    "для One-Hot Encoding в pandas есть готовая функция - get_dummies. Особенно радует параметр dummy_na\n",
    "data = pd.get_dummies(data, columns=[ 'City',], dummy_na=True)\n"
   ]
  },
  {
   "cell_type": "markdown",
   "metadata": {
    "pycharm": {
     "name": "#%% md\n"
    }
   },
   "source": [
    "### Признак City"
   ]
  },
  {
   "cell_type": "code",
   "execution_count": 17,
   "metadata": {
    "pycharm": {
     "name": "#%%\n"
    }
   },
   "outputs": [
    {
     "data": {
      "text/plain": [
       "['London',\n",
       " 'Paris',\n",
       " 'Madrid',\n",
       " 'Barcelona',\n",
       " 'Berlin',\n",
       " 'Milan',\n",
       " 'Rome',\n",
       " 'Prague',\n",
       " 'Lisbon',\n",
       " 'Vienna',\n",
       " 'Amsterdam',\n",
       " 'Brussels',\n",
       " 'Hamburg',\n",
       " 'Munich',\n",
       " 'Lyon',\n",
       " 'Stockholm',\n",
       " 'Budapest',\n",
       " 'Warsaw',\n",
       " 'Dublin',\n",
       " 'Copenhagen',\n",
       " 'Athens',\n",
       " 'Edinburgh',\n",
       " 'Zurich',\n",
       " 'Oporto',\n",
       " 'Geneva',\n",
       " 'Krakow',\n",
       " 'Oslo',\n",
       " 'Helsinki',\n",
       " 'Bratislava',\n",
       " 'Luxembourg',\n",
       " 'Ljubljana']"
      ]
     },
     "execution_count": 17,
     "metadata": {},
     "output_type": "execute_result"
    }
   ],
   "source": [
    "#список уникальных городов\n",
    "city_lst = data.city.value_counts().index.to_list()\n",
    "city_lst"
   ]
  },
  {
   "cell_type": "code",
   "execution_count": 18,
   "metadata": {},
   "outputs": [
    {
     "data": {
      "text/html": [
       "<div>\n",
       "<style scoped>\n",
       "    .dataframe tbody tr th:only-of-type {\n",
       "        vertical-align: middle;\n",
       "    }\n",
       "\n",
       "    .dataframe tbody tr th {\n",
       "        vertical-align: top;\n",
       "    }\n",
       "\n",
       "    .dataframe thead th {\n",
       "        text-align: right;\n",
       "    }\n",
       "</style>\n",
       "<table border=\"1\" class=\"dataframe\">\n",
       "  <thead>\n",
       "    <tr style=\"text-align: right;\">\n",
       "      <th></th>\n",
       "      <th>restaurant_id</th>\n",
       "      <th>cuisine_style</th>\n",
       "      <th>ranking</th>\n",
       "      <th>rating</th>\n",
       "      <th>price_range</th>\n",
       "      <th>number_of_reviews</th>\n",
       "      <th>reviews</th>\n",
       "      <th>URL_TA</th>\n",
       "      <th>ID_TA</th>\n",
       "      <th>Number_of_Reviews_isNAN</th>\n",
       "      <th>...</th>\n",
       "      <th>city_Oporto</th>\n",
       "      <th>city_Oslo</th>\n",
       "      <th>city_Paris</th>\n",
       "      <th>city_Prague</th>\n",
       "      <th>city_Rome</th>\n",
       "      <th>city_Stockholm</th>\n",
       "      <th>city_Vienna</th>\n",
       "      <th>city_Warsaw</th>\n",
       "      <th>city_Zurich</th>\n",
       "      <th>city_nan</th>\n",
       "    </tr>\n",
       "  </thead>\n",
       "  <tbody>\n",
       "    <tr>\n",
       "      <th>0</th>\n",
       "      <td>id_5569</td>\n",
       "      <td>['European', 'French', 'International']</td>\n",
       "      <td>5570.0</td>\n",
       "      <td>3.5</td>\n",
       "      <td>$$ - $$$</td>\n",
       "      <td>194.0</td>\n",
       "      <td>[['Good food at your doorstep', 'A good hotel ...</td>\n",
       "      <td>/Restaurant_Review-g187147-d1912643-Reviews-R_...</td>\n",
       "      <td>d1912643</td>\n",
       "      <td>0</td>\n",
       "      <td>...</td>\n",
       "      <td>0</td>\n",
       "      <td>0</td>\n",
       "      <td>1</td>\n",
       "      <td>0</td>\n",
       "      <td>0</td>\n",
       "      <td>0</td>\n",
       "      <td>0</td>\n",
       "      <td>0</td>\n",
       "      <td>0</td>\n",
       "      <td>0</td>\n",
       "    </tr>\n",
       "    <tr>\n",
       "      <th>1</th>\n",
       "      <td>id_1535</td>\n",
       "      <td>Unknown</td>\n",
       "      <td>1537.0</td>\n",
       "      <td>4.0</td>\n",
       "      <td>Other</td>\n",
       "      <td>10.0</td>\n",
       "      <td>[['Unique cuisine', 'Delicious Nepalese food']...</td>\n",
       "      <td>/Restaurant_Review-g189852-d7992032-Reviews-Bu...</td>\n",
       "      <td>d7992032</td>\n",
       "      <td>0</td>\n",
       "      <td>...</td>\n",
       "      <td>0</td>\n",
       "      <td>0</td>\n",
       "      <td>0</td>\n",
       "      <td>0</td>\n",
       "      <td>0</td>\n",
       "      <td>1</td>\n",
       "      <td>0</td>\n",
       "      <td>0</td>\n",
       "      <td>0</td>\n",
       "      <td>0</td>\n",
       "    </tr>\n",
       "    <tr>\n",
       "      <th>2</th>\n",
       "      <td>id_352</td>\n",
       "      <td>['Japanese', 'Sushi', 'Asian', 'Grill', 'Veget...</td>\n",
       "      <td>353.0</td>\n",
       "      <td>4.5</td>\n",
       "      <td>$$$$</td>\n",
       "      <td>688.0</td>\n",
       "      <td>[['Catch up with friends', 'Not exceptional'],...</td>\n",
       "      <td>/Restaurant_Review-g186338-d8632781-Reviews-RO...</td>\n",
       "      <td>d8632781</td>\n",
       "      <td>0</td>\n",
       "      <td>...</td>\n",
       "      <td>0</td>\n",
       "      <td>0</td>\n",
       "      <td>0</td>\n",
       "      <td>0</td>\n",
       "      <td>0</td>\n",
       "      <td>0</td>\n",
       "      <td>0</td>\n",
       "      <td>0</td>\n",
       "      <td>0</td>\n",
       "      <td>0</td>\n",
       "    </tr>\n",
       "  </tbody>\n",
       "</table>\n",
       "<p>3 rows × 42 columns</p>\n",
       "</div>"
      ],
      "text/plain": [
       "  restaurant_id                                      cuisine_style  ranking  \\\n",
       "0       id_5569            ['European', 'French', 'International']   5570.0   \n",
       "1       id_1535                                            Unknown   1537.0   \n",
       "2        id_352  ['Japanese', 'Sushi', 'Asian', 'Grill', 'Veget...    353.0   \n",
       "\n",
       "   rating price_range  number_of_reviews  \\\n",
       "0     3.5    $$ - $$$              194.0   \n",
       "1     4.0       Other               10.0   \n",
       "2     4.5        $$$$              688.0   \n",
       "\n",
       "                                             reviews  \\\n",
       "0  [['Good food at your doorstep', 'A good hotel ...   \n",
       "1  [['Unique cuisine', 'Delicious Nepalese food']...   \n",
       "2  [['Catch up with friends', 'Not exceptional'],...   \n",
       "\n",
       "                                              URL_TA     ID_TA  \\\n",
       "0  /Restaurant_Review-g187147-d1912643-Reviews-R_...  d1912643   \n",
       "1  /Restaurant_Review-g189852-d7992032-Reviews-Bu...  d7992032   \n",
       "2  /Restaurant_Review-g186338-d8632781-Reviews-RO...  d8632781   \n",
       "\n",
       "   Number_of_Reviews_isNAN  ...  city_Oporto  city_Oslo  city_Paris  \\\n",
       "0                        0  ...            0          0           1   \n",
       "1                        0  ...            0          0           0   \n",
       "2                        0  ...            0          0           0   \n",
       "\n",
       "   city_Prague  city_Rome  city_Stockholm  city_Vienna  city_Warsaw  \\\n",
       "0            0          0               0            0            0   \n",
       "1            0          0               1            0            0   \n",
       "2            0          0               0            0            0   \n",
       "\n",
       "   city_Zurich  city_nan  \n",
       "0            0         0  \n",
       "1            0         0  \n",
       "2            0         0  \n",
       "\n",
       "[3 rows x 42 columns]"
      ]
     },
     "execution_count": 18,
     "metadata": {},
     "output_type": "execute_result"
    }
   ],
   "source": [
    "data = pd.get_dummies(data, columns=[ 'city',], dummy_na=True)\n",
    "data.head(3)"
   ]
  },
  {
   "cell_type": "markdown",
   "metadata": {
    "pycharm": {
     "name": "#%% md\n"
    }
   },
   "source": [
    "### Признак price_range"
   ]
  },
  {
   "cell_type": "code",
   "execution_count": 19,
   "metadata": {
    "pycharm": {
     "name": "#%%\n"
    }
   },
   "outputs": [
    {
     "data": {
      "text/plain": [
       "$$ - $$$    18412\n",
       "Other       13886\n",
       "$            6279\n",
       "$$$$         1423\n",
       "Name: price_range, dtype: int64"
      ]
     },
     "execution_count": 19,
     "metadata": {},
     "output_type": "execute_result"
    }
   ],
   "source": [
    "# количество уникальных признаков\n",
    "data['price_range'].value_counts()"
   ]
  },
  {
   "cell_type": "code",
   "execution_count": 20,
   "metadata": {
    "pycharm": {
     "name": "#%%\n"
    }
   },
   "outputs": [
    {
     "name": "stdout",
     "output_type": "stream",
     "text": [
      "заменим значения на последовательные числа 0=no values, 1=low price, 2=Middle price, 3=high price\n"
     ]
    },
    {
     "data": {
      "text/plain": [
       "array([2, 0, 3, 1], dtype=int64)"
      ]
     },
     "execution_count": 20,
     "metadata": {},
     "output_type": "execute_result"
    }
   ],
   "source": [
    "print(\"заменим значения на последовательные числа 0=no values, 1=low price, 2=Middle price, 3=high price\")\n",
    "def price_range(item):\n",
    "    item = item.apply(lambda x: 1 if x=='$' else 3 if x=='$$$$' else 2 if x=='$$ - $$$' else 0)\n",
    "    return item\n",
    "\n",
    "data['price_range'] = price_range(data['price_range'])\n",
    "data['price_range'].unique() #Check\n"
   ]
  },
  {
   "cell_type": "code",
   "execution_count": 21,
   "metadata": {
    "pycharm": {
     "name": "#%%\n"
    }
   },
   "outputs": [
    {
     "name": "stdout",
     "output_type": "stream",
     "text": [
      "самая популярная ценовая категория ресторанов 2    18412\n",
      "0    13886\n",
      "1     6279\n",
      "3     1423\n",
      "Name: price_range, dtype: int64\n"
     ]
    }
   ],
   "source": [
    "#encoder = LabelEncoder()\n",
    "#data['price_range'] = encoder.fit_transform(data['price_range'].dropna())\n",
    "\n",
    "pp = data['price_range'].value_counts(sort=True)\n",
    "print(f\"самая популярная ценовая категория ресторанов {pp}\")"
   ]
  },
  {
   "cell_type": "markdown",
   "metadata": {
    "pycharm": {
     "name": "#%% md\n"
    }
   },
   "source": [
    "### Признак cuisine_style"
   ]
  },
  {
   "cell_type": "code",
   "execution_count": 22,
   "metadata": {
    "pycharm": {
     "name": "#%%\n"
    }
   },
   "outputs": [],
   "source": [
    "# приводим признак к \"рабочему виду\"\n",
    "def clean_smb(smb):\n",
    "\n",
    "    smb = smb.strip('[]') # Отбрасываем скобки.\n",
    "    smb = smb.replace(\"\\'\",'') # Убираем надоедливые кавычки '.\n",
    "    smb = smb.split(\", \") # Разбиваем строку по названиям кухонь.\n",
    "    return smb\n",
    "\n",
    "# удалим лишние кавычки и заменим кириллицу на латинницу\n",
    "data['cuisine_style'] = data['cuisine_style'].map(lambda x: x.replace('е', 'e').replace('а', 'a'))\n",
    "\n",
    "# функция очистки от лишних символов\n",
    "data['cuisine_style'] = data['cuisine_style'].apply(clean_smb)\n",
    "\n"
   ]
  },
  {
   "cell_type": "code",
   "execution_count": 23,
   "metadata": {
    "pycharm": {
     "name": "#%%\n"
    }
   },
   "outputs": [
    {
     "name": "stdout",
     "output_type": "stream",
     "text": [
      "в датасете 125 уникальных кухонь\n"
     ]
    }
   ],
   "source": [
    "# список уникальных кухонь\n",
    "cuisine_lst = []\n",
    "for i in range(len(data.cuisine_style)):\n",
    "    for j in range(len(data.cuisine_style[i])):\n",
    "        item = data.cuisine_style[i][j].lstrip(\" '\").rstrip(\"' \")\n",
    "        if item not in cuisine_lst:\n",
    "            cuisine_lst.append(item)\n",
    "\n",
    "print(\"в датасете {} уникальных кухонь\".format(len(cuisine_lst)-1))   # кухни с неопределенным видом \"Unknown\" не входят в отдельный вид"
   ]
  },
  {
   "cell_type": "code",
   "execution_count": 24,
   "metadata": {
    "pycharm": {
     "name": "#%%\n"
    }
   },
   "outputs": [],
   "source": [
    "#сколько кухонь предлагает каждый ресторан в отдельный признак\n",
    "cuisine_qty = [len(j) if j is not None else 1 for j in data.cuisine_style]\n",
    "data['cuisine_amount'] = cuisine_qty"
   ]
  },
  {
   "cell_type": "code",
   "execution_count": 25,
   "metadata": {},
   "outputs": [
    {
     "data": {
      "text/html": [
       "<div>\n",
       "<style scoped>\n",
       "    .dataframe tbody tr th:only-of-type {\n",
       "        vertical-align: middle;\n",
       "    }\n",
       "\n",
       "    .dataframe tbody tr th {\n",
       "        vertical-align: top;\n",
       "    }\n",
       "\n",
       "    .dataframe thead th {\n",
       "        text-align: right;\n",
       "    }\n",
       "</style>\n",
       "<table border=\"1\" class=\"dataframe\">\n",
       "  <thead>\n",
       "    <tr style=\"text-align: right;\">\n",
       "      <th></th>\n",
       "      <th>restaurant_id</th>\n",
       "      <th>cuisine_style</th>\n",
       "      <th>ranking</th>\n",
       "      <th>rating</th>\n",
       "      <th>price_range</th>\n",
       "      <th>number_of_reviews</th>\n",
       "      <th>reviews</th>\n",
       "      <th>URL_TA</th>\n",
       "      <th>ID_TA</th>\n",
       "      <th>Number_of_Reviews_isNAN</th>\n",
       "      <th>...</th>\n",
       "      <th>city_Oslo</th>\n",
       "      <th>city_Paris</th>\n",
       "      <th>city_Prague</th>\n",
       "      <th>city_Rome</th>\n",
       "      <th>city_Stockholm</th>\n",
       "      <th>city_Vienna</th>\n",
       "      <th>city_Warsaw</th>\n",
       "      <th>city_Zurich</th>\n",
       "      <th>city_nan</th>\n",
       "      <th>cuisine_amount</th>\n",
       "    </tr>\n",
       "  </thead>\n",
       "  <tbody>\n",
       "    <tr>\n",
       "      <th>0</th>\n",
       "      <td>id_5569</td>\n",
       "      <td>[European, French, International]</td>\n",
       "      <td>5570.0</td>\n",
       "      <td>3.5</td>\n",
       "      <td>2</td>\n",
       "      <td>194.0</td>\n",
       "      <td>[['Good food at your doorstep', 'A good hotel ...</td>\n",
       "      <td>/Restaurant_Review-g187147-d1912643-Reviews-R_...</td>\n",
       "      <td>d1912643</td>\n",
       "      <td>0</td>\n",
       "      <td>...</td>\n",
       "      <td>0</td>\n",
       "      <td>1</td>\n",
       "      <td>0</td>\n",
       "      <td>0</td>\n",
       "      <td>0</td>\n",
       "      <td>0</td>\n",
       "      <td>0</td>\n",
       "      <td>0</td>\n",
       "      <td>0</td>\n",
       "      <td>3</td>\n",
       "    </tr>\n",
       "    <tr>\n",
       "      <th>1</th>\n",
       "      <td>id_1535</td>\n",
       "      <td>[Unknown]</td>\n",
       "      <td>1537.0</td>\n",
       "      <td>4.0</td>\n",
       "      <td>0</td>\n",
       "      <td>10.0</td>\n",
       "      <td>[['Unique cuisine', 'Delicious Nepalese food']...</td>\n",
       "      <td>/Restaurant_Review-g189852-d7992032-Reviews-Bu...</td>\n",
       "      <td>d7992032</td>\n",
       "      <td>0</td>\n",
       "      <td>...</td>\n",
       "      <td>0</td>\n",
       "      <td>0</td>\n",
       "      <td>0</td>\n",
       "      <td>0</td>\n",
       "      <td>1</td>\n",
       "      <td>0</td>\n",
       "      <td>0</td>\n",
       "      <td>0</td>\n",
       "      <td>0</td>\n",
       "      <td>1</td>\n",
       "    </tr>\n",
       "    <tr>\n",
       "      <th>2</th>\n",
       "      <td>id_352</td>\n",
       "      <td>[Japanese, Sushi, Asian, Grill, Vegetarian Fri...</td>\n",
       "      <td>353.0</td>\n",
       "      <td>4.5</td>\n",
       "      <td>3</td>\n",
       "      <td>688.0</td>\n",
       "      <td>[['Catch up with friends', 'Not exceptional'],...</td>\n",
       "      <td>/Restaurant_Review-g186338-d8632781-Reviews-RO...</td>\n",
       "      <td>d8632781</td>\n",
       "      <td>0</td>\n",
       "      <td>...</td>\n",
       "      <td>0</td>\n",
       "      <td>0</td>\n",
       "      <td>0</td>\n",
       "      <td>0</td>\n",
       "      <td>0</td>\n",
       "      <td>0</td>\n",
       "      <td>0</td>\n",
       "      <td>0</td>\n",
       "      <td>0</td>\n",
       "      <td>7</td>\n",
       "    </tr>\n",
       "  </tbody>\n",
       "</table>\n",
       "<p>3 rows × 43 columns</p>\n",
       "</div>"
      ],
      "text/plain": [
       "  restaurant_id                                      cuisine_style  ranking  \\\n",
       "0       id_5569                  [European, French, International]   5570.0   \n",
       "1       id_1535                                          [Unknown]   1537.0   \n",
       "2        id_352  [Japanese, Sushi, Asian, Grill, Vegetarian Fri...    353.0   \n",
       "\n",
       "   rating  price_range  number_of_reviews  \\\n",
       "0     3.5            2              194.0   \n",
       "1     4.0            0               10.0   \n",
       "2     4.5            3              688.0   \n",
       "\n",
       "                                             reviews  \\\n",
       "0  [['Good food at your doorstep', 'A good hotel ...   \n",
       "1  [['Unique cuisine', 'Delicious Nepalese food']...   \n",
       "2  [['Catch up with friends', 'Not exceptional'],...   \n",
       "\n",
       "                                              URL_TA     ID_TA  \\\n",
       "0  /Restaurant_Review-g187147-d1912643-Reviews-R_...  d1912643   \n",
       "1  /Restaurant_Review-g189852-d7992032-Reviews-Bu...  d7992032   \n",
       "2  /Restaurant_Review-g186338-d8632781-Reviews-RO...  d8632781   \n",
       "\n",
       "   Number_of_Reviews_isNAN  ...  city_Oslo  city_Paris  city_Prague  \\\n",
       "0                        0  ...          0           1            0   \n",
       "1                        0  ...          0           0            0   \n",
       "2                        0  ...          0           0            0   \n",
       "\n",
       "   city_Rome  city_Stockholm  city_Vienna  city_Warsaw  city_Zurich  city_nan  \\\n",
       "0          0               0            0            0            0         0   \n",
       "1          0               1            0            0            0         0   \n",
       "2          0               0            0            0            0         0   \n",
       "\n",
       "   cuisine_amount  \n",
       "0               3  \n",
       "1               1  \n",
       "2               7  \n",
       "\n",
       "[3 rows x 43 columns]"
      ]
     },
     "execution_count": 25,
     "metadata": {},
     "output_type": "execute_result"
    }
   ],
   "source": [
    "data.head(3)"
   ]
  },
  {
   "cell_type": "code",
   "execution_count": 26,
   "metadata": {
    "pycharm": {
     "name": "#%%\n"
    }
   },
   "outputs": [
    {
     "name": "stdout",
     "output_type": "stream",
     "text": [
      "Наиболее часто представлена кухня Vegetarian Friendly\n"
     ]
    }
   ],
   "source": [
    "\n",
    "cuisines = data.explode('cuisine_style') \n",
    "\n",
    "# создаем словарь с частотой каждого вида в датасете\n",
    "freq_cuisines = cuisines.cuisine_style.value_counts().to_dict()#запись в словарь\n",
    "\n",
    "\n",
    "print(\"Наиболее часто представлена кухня {}\".format(max(freq_cuisines, key=freq_cuisines.get)))\n"
   ]
  },
  {
   "cell_type": "code",
   "execution_count": 27,
   "metadata": {},
   "outputs": [
    {
     "data": {
      "text/plain": [
       "{'Vegetarian Friendly': 11189,\n",
       " 'European': 10060,\n",
       " 'Unknown': 9283,\n",
       " 'Mediterranean': 6277,\n",
       " 'Italian': 5964,\n",
       " 'Vegan Options': 4486,\n",
       " 'Gluten Free Options': 4113,\n",
       " 'Bar': 3297,\n",
       " 'French': 3190,\n",
       " 'Asian': 3011,\n",
       " 'Pizza': 2849,\n",
       " 'Spanish': 2798,\n",
       " 'Pub': 2449,\n",
       " 'Cafe': 2325,\n",
       " 'Fast Food': 1705,\n",
       " 'British': 1595,\n",
       " 'International': 1584,\n",
       " 'Seafood': 1505,\n",
       " 'Japanese': 1464,\n",
       " 'Central European': 1393,\n",
       " 'American': 1315,\n",
       " 'Sushi': 1156,\n",
       " 'Chinese': 1145,\n",
       " 'Portuguese': 1107,\n",
       " 'Indian': 1041,\n",
       " 'Middle Eastern': 782,\n",
       " 'Thai': 743,\n",
       " 'Wine Bar': 697,\n",
       " 'German': 662,\n",
       " 'Healthy': 620,\n",
       " 'Greek': 604,\n",
       " 'Halal': 598,\n",
       " 'Czech': 595,\n",
       " 'Fusion': 577,\n",
       " 'Steakhouse': 573,\n",
       " 'Barbecue': 555,\n",
       " 'Contemporary': 523,\n",
       " 'Vietnamese': 513,\n",
       " 'Eastern European': 496,\n",
       " 'Soups': 494,\n",
       " 'Grill': 490,\n",
       " 'Gastropub': 471,\n",
       " 'Mexican': 445,\n",
       " 'Turkish': 444,\n",
       " 'Delicatessen': 392,\n",
       " 'Austrian': 380,\n",
       " 'South American': 372,\n",
       " 'Polish': 365,\n",
       " 'Hungarian': 352,\n",
       " 'Scandinavian': 342,\n",
       " 'Lebanese': 329,\n",
       " 'Latin': 302,\n",
       " 'Diner': 295,\n",
       " 'Dutch': 294,\n",
       " 'Irish': 284,\n",
       " 'Belgian': 270,\n",
       " 'Street Food': 263,\n",
       " 'Brew Pub': 225,\n",
       " 'Swiss': 178,\n",
       " 'Danish': 177,\n",
       " 'Swedish': 171,\n",
       " 'Argentinean': 169,\n",
       " 'Korean': 167,\n",
       " 'Scottish': 163,\n",
       " 'African': 154,\n",
       " 'Moroccan': 141,\n",
       " 'Central American': 135,\n",
       " 'Brazilian': 127,\n",
       " 'Pakistani': 123,\n",
       " 'Peruvian': 94,\n",
       " 'Caribbean': 93,\n",
       " 'Balti': 83,\n",
       " 'Nepali': 83,\n",
       " 'Bangladeshi': 76,\n",
       " 'Norwegian': 75,\n",
       " 'Israeli': 74,\n",
       " 'Slovenian': 68,\n",
       " 'Indonesian': 59,\n",
       " 'Russian': 58,\n",
       " 'Persian': 53,\n",
       " 'Arabic': 51,\n",
       " 'Kosher': 48,\n",
       " 'Ethiopian': 42,\n",
       " 'Venezuelan': 40,\n",
       " 'Malaysian': 31,\n",
       " 'Croatian': 27,\n",
       " 'Jamaican': 25,\n",
       " 'Sri Lankan': 25,\n",
       " 'Tibetan': 24,\n",
       " 'Australian': 24,\n",
       " 'Cuban': 23,\n",
       " 'Afghani': 22,\n",
       " 'Taiwanese': 22,\n",
       " 'Tunisian': 21,\n",
       " 'Hawaiian': 21,\n",
       " 'Cajun & Creole': 20,\n",
       " 'Egyptian': 20,\n",
       " 'Colombian': 20,\n",
       " 'Cambodian': 20,\n",
       " 'Singaporean': 19,\n",
       " 'Ukrainian': 18,\n",
       " 'Southwestern': 17,\n",
       " 'Georgian': 17,\n",
       " 'Mongolian': 14,\n",
       " 'Armenian': 14,\n",
       " 'Central Asian': 12,\n",
       " 'Filipino': 12,\n",
       " 'Minority Chinese': 11,\n",
       " 'Romanian': 10,\n",
       " 'Albanian': 8,\n",
       " 'Chilean': 8,\n",
       " 'New Zealand': 6,\n",
       " 'Uzbek': 5,\n",
       " 'Canadian': 5,\n",
       " 'Ecuadorean': 4,\n",
       " 'Caucasian': 4,\n",
       " 'Native American': 4,\n",
       " 'Polynesian': 2,\n",
       " 'Welsh': 2,\n",
       " 'Azerbaijani': 2,\n",
       " 'Fujian': 2,\n",
       " 'Yunnan': 1,\n",
       " 'Burmese': 1,\n",
       " 'Salvadoran': 1,\n",
       " 'Xinjiang': 1,\n",
       " 'Latvian': 1}"
      ]
     },
     "execution_count": 27,
     "metadata": {},
     "output_type": "execute_result"
    }
   ],
   "source": [
    "freq_cuisines"
   ]
  },
  {
   "cell_type": "markdown",
   "metadata": {
    "pycharm": {
     "name": "#%% md\n"
    }
   },
   "source": [
    "## Признак 'Reviews'\n",
    "\n"
   ]
  },
  {
   "cell_type": "code",
   "execution_count": 28,
   "metadata": {
    "pycharm": {
     "name": "#%%\n"
    }
   },
   "outputs": [],
   "source": [
    "import re\n",
    "# разделим данные в столбце на два списка\n",
    "data[['review_text','review_date']] = pd.DataFrame(data['reviews'].str.split(\"],\",1).to_list())\n",
    "data[['review_text']] = data['review_text'].apply(lambda x: x[2:])\n",
    "data[['review_date']] = data['review_date'].apply(lambda x: x[2:-2])\n"
   ]
  },
  {
   "cell_type": "code",
   "execution_count": 29,
   "metadata": {
    "pycharm": {
     "name": "#%%\n"
    }
   },
   "outputs": [
    {
     "data": {
      "text/html": [
       "<div>\n",
       "<style scoped>\n",
       "    .dataframe tbody tr th:only-of-type {\n",
       "        vertical-align: middle;\n",
       "    }\n",
       "\n",
       "    .dataframe tbody tr th {\n",
       "        vertical-align: top;\n",
       "    }\n",
       "\n",
       "    .dataframe thead th {\n",
       "        text-align: right;\n",
       "    }\n",
       "</style>\n",
       "<table border=\"1\" class=\"dataframe\">\n",
       "  <thead>\n",
       "    <tr style=\"text-align: right;\">\n",
       "      <th></th>\n",
       "      <th>review_text</th>\n",
       "      <th>review_date</th>\n",
       "    </tr>\n",
       "  </thead>\n",
       "  <tbody>\n",
       "    <tr>\n",
       "      <th>30644</th>\n",
       "      <td>'average', 'OK'</td>\n",
       "      <td>'08/25/2017', '07/21/2017'</td>\n",
       "    </tr>\n",
       "  </tbody>\n",
       "</table>\n",
       "</div>"
      ],
      "text/plain": [
       "           review_text                 review_date\n",
       "30644  'average', 'OK'  '08/25/2017', '07/21/2017'"
      ]
     },
     "execution_count": 29,
     "metadata": {},
     "output_type": "execute_result"
    }
   ],
   "source": [
    "data[['review_text', 'review_date' ]].sample()"
   ]
  },
  {
   "cell_type": "code",
   "execution_count": 30,
   "metadata": {
    "pycharm": {
     "name": "#%%\n"
    }
   },
   "outputs": [
    {
     "data": {
      "text/plain": [
       " 0    23897\n",
       " 1     7774\n",
       " 3     5761\n",
       " 2     1114\n",
       "-1      533\n",
       " 4      514\n",
       "-4      245\n",
       "-3      144\n",
       "-2       18\n",
       "Name: review_analysis, dtype: int64"
      ]
     },
     "execution_count": 30,
     "metadata": {},
     "output_type": "execute_result"
    }
   ],
   "source": [
    "# попробуем проанализировать текст отзывов\n",
    "\n",
    "words = {'will come back':4,\"WOW\":4,\"fantastic\":4,\"Fantastic\":4,\"delightful\":3,\"great\":3,\"Great\":3,\"Delightful\":3,\"yummi\":3,\"Yummi\":3,\"nice\":2,\"nice\":2,'good':1, 'Good':1,\"Average\":0,\"average\":0,\"bad\":-1,'Bad':-1,\"disgusting\":-2,\"avoid\":-3,\"Avoid\":-3,\"worst\":-4,\"Worst\":-4}\n",
    "\n",
    "\n",
    "def review_analysis_column(x,y):\n",
    "    result = 0\n",
    "    for word in y:\n",
    "        if re.search(r'\\b%s\\b' % word, x) is not None:\n",
    "            result = y[word]\n",
    "    return result\n",
    "\n",
    "data['review_analysis'] = data.review_text.apply(lambda x: review_analysis_column(x, words))\n",
    "data['review_analysis'].value_counts()"
   ]
  },
  {
   "cell_type": "code",
   "execution_count": 31,
   "metadata": {
    "pycharm": {
     "name": "#%%\n"
    }
   },
   "outputs": [],
   "source": [
    "# разделим даты отзывов на два признака\n",
    "data[['review_1','review_2']] = pd.DataFrame(data['review_date'].str.split(\", \",1).to_list())"
   ]
  },
  {
   "cell_type": "code",
   "execution_count": 32,
   "metadata": {
    "pycharm": {
     "name": "#%%\n"
    }
   },
   "outputs": [],
   "source": [
    "#заполним пропуски \n",
    "data[['review_2']] = data['review_2'].fillna('0')"
   ]
  },
  {
   "cell_type": "code",
   "execution_count": 33,
   "metadata": {
    "pycharm": {
     "name": "#%%\n"
    }
   },
   "outputs": [],
   "source": [
    "# переведем даты в формат datetime\n",
    "\n",
    "def date_time(s):\n",
    "    #\"\"\"функция для перевода в формат datetime\"\"\"\n",
    "    date1 = re.search(r'\\d{2}/\\d{2}/\\d{4}',s)\n",
    "    if date1 is not None:\n",
    "        return (datetime.datetime.strptime(date1.group(),'%m/%d/%Y').date())\n",
    "    else:\n",
    "        return None"
   ]
  },
  {
   "cell_type": "code",
   "execution_count": 34,
   "metadata": {
    "pycharm": {
     "name": "#%%\n"
    }
   },
   "outputs": [],
   "source": [
    "#создадим столбец 'time_difference' - разница между отзывами\n",
    "data[['review_1']] = data['review_1'].apply(date_time)\n",
    "data[['review_2']] = data['review_2'].apply(date_time)\n",
    "time_difference = abs(data['review_1'] - data['review_2'])\n",
    "data['time_difference'] = time_difference.dropna().apply(lambda x: abs(np.timedelta64(x).astype(int)))\n",
    "data[['time_difference']] = data['time_difference'].fillna(0)"
   ]
  },
  {
   "cell_type": "code",
   "execution_count": 35,
   "metadata": {},
   "outputs": [
    {
     "data": {
      "text/html": [
       "<div>\n",
       "<style scoped>\n",
       "    .dataframe tbody tr th:only-of-type {\n",
       "        vertical-align: middle;\n",
       "    }\n",
       "\n",
       "    .dataframe tbody tr th {\n",
       "        vertical-align: top;\n",
       "    }\n",
       "\n",
       "    .dataframe thead th {\n",
       "        text-align: right;\n",
       "    }\n",
       "</style>\n",
       "<table border=\"1\" class=\"dataframe\">\n",
       "  <thead>\n",
       "    <tr style=\"text-align: right;\">\n",
       "      <th></th>\n",
       "      <th>restaurant_id</th>\n",
       "      <th>cuisine_style</th>\n",
       "      <th>ranking</th>\n",
       "      <th>rating</th>\n",
       "      <th>price_range</th>\n",
       "      <th>number_of_reviews</th>\n",
       "      <th>reviews</th>\n",
       "      <th>URL_TA</th>\n",
       "      <th>ID_TA</th>\n",
       "      <th>Number_of_Reviews_isNAN</th>\n",
       "      <th>...</th>\n",
       "      <th>city_Warsaw</th>\n",
       "      <th>city_Zurich</th>\n",
       "      <th>city_nan</th>\n",
       "      <th>cuisine_amount</th>\n",
       "      <th>review_text</th>\n",
       "      <th>review_date</th>\n",
       "      <th>review_analysis</th>\n",
       "      <th>review_1</th>\n",
       "      <th>review_2</th>\n",
       "      <th>time_difference</th>\n",
       "    </tr>\n",
       "  </thead>\n",
       "  <tbody>\n",
       "    <tr>\n",
       "      <th>0</th>\n",
       "      <td>id_5569</td>\n",
       "      <td>[European, French, International]</td>\n",
       "      <td>5570.0</td>\n",
       "      <td>3.5</td>\n",
       "      <td>2</td>\n",
       "      <td>194.0</td>\n",
       "      <td>[['Good food at your doorstep', 'A good hotel ...</td>\n",
       "      <td>/Restaurant_Review-g187147-d1912643-Reviews-R_...</td>\n",
       "      <td>d1912643</td>\n",
       "      <td>0</td>\n",
       "      <td>...</td>\n",
       "      <td>0</td>\n",
       "      <td>0</td>\n",
       "      <td>0</td>\n",
       "      <td>3</td>\n",
       "      <td>'Good food at your doorstep', 'A good hotel re...</td>\n",
       "      <td>'12/31/2017', '11/20/2017'</td>\n",
       "      <td>1</td>\n",
       "      <td>2017-12-31</td>\n",
       "      <td>2017-11-20</td>\n",
       "      <td>9.480192e+08</td>\n",
       "    </tr>\n",
       "    <tr>\n",
       "      <th>1</th>\n",
       "      <td>id_1535</td>\n",
       "      <td>[Unknown]</td>\n",
       "      <td>1537.0</td>\n",
       "      <td>4.0</td>\n",
       "      <td>0</td>\n",
       "      <td>10.0</td>\n",
       "      <td>[['Unique cuisine', 'Delicious Nepalese food']...</td>\n",
       "      <td>/Restaurant_Review-g189852-d7992032-Reviews-Bu...</td>\n",
       "      <td>d7992032</td>\n",
       "      <td>0</td>\n",
       "      <td>...</td>\n",
       "      <td>0</td>\n",
       "      <td>0</td>\n",
       "      <td>0</td>\n",
       "      <td>1</td>\n",
       "      <td>'Unique cuisine', 'Delicious Nepalese food'</td>\n",
       "      <td>'07/06/2017', '06/19/2016'</td>\n",
       "      <td>0</td>\n",
       "      <td>2017-07-06</td>\n",
       "      <td>2016-06-19</td>\n",
       "      <td>2.023670e+09</td>\n",
       "    </tr>\n",
       "  </tbody>\n",
       "</table>\n",
       "<p>2 rows × 49 columns</p>\n",
       "</div>"
      ],
      "text/plain": [
       "  restaurant_id                      cuisine_style  ranking  rating  \\\n",
       "0       id_5569  [European, French, International]   5570.0     3.5   \n",
       "1       id_1535                          [Unknown]   1537.0     4.0   \n",
       "\n",
       "   price_range  number_of_reviews  \\\n",
       "0            2              194.0   \n",
       "1            0               10.0   \n",
       "\n",
       "                                             reviews  \\\n",
       "0  [['Good food at your doorstep', 'A good hotel ...   \n",
       "1  [['Unique cuisine', 'Delicious Nepalese food']...   \n",
       "\n",
       "                                              URL_TA     ID_TA  \\\n",
       "0  /Restaurant_Review-g187147-d1912643-Reviews-R_...  d1912643   \n",
       "1  /Restaurant_Review-g189852-d7992032-Reviews-Bu...  d7992032   \n",
       "\n",
       "   Number_of_Reviews_isNAN  ...  city_Warsaw  city_Zurich  city_nan  \\\n",
       "0                        0  ...            0            0         0   \n",
       "1                        0  ...            0            0         0   \n",
       "\n",
       "   cuisine_amount                                        review_text  \\\n",
       "0               3  'Good food at your doorstep', 'A good hotel re...   \n",
       "1               1        'Unique cuisine', 'Delicious Nepalese food'   \n",
       "\n",
       "                  review_date  review_analysis    review_1    review_2  \\\n",
       "0  '12/31/2017', '11/20/2017'                1  2017-12-31  2017-11-20   \n",
       "1  '07/06/2017', '06/19/2016'                0  2017-07-06  2016-06-19   \n",
       "\n",
       "   time_difference  \n",
       "0     9.480192e+08  \n",
       "1     2.023670e+09  \n",
       "\n",
       "[2 rows x 49 columns]"
      ]
     },
     "execution_count": 35,
     "metadata": {},
     "output_type": "execute_result"
    }
   ],
   "source": [
    "data.loc[:1]"
   ]
  },
  {
   "cell_type": "code",
   "execution_count": 36,
   "metadata": {
    "pycharm": {
     "name": "#%%\n"
    }
   },
   "outputs": [],
   "source": [
    "#переведем столбец ID_TA в цифровой формат\n",
    "data[['ID_TA']] = data['ID_TA'].dropna().apply(lambda x: int(x[1:]))\n",
    "data[['ID_TA']] = data['ID_TA'].fillna(0) "
   ]
  },
  {
   "cell_type": "markdown",
   "metadata": {
    "pycharm": {
     "name": "#%%\n"
    }
   },
   "source": [
    "# **Feature Engineering**"
   ]
  },
  {
   "cell_type": "code",
   "execution_count": 37,
   "metadata": {},
   "outputs": [
    {
     "data": {
      "text/html": [
       "<div>\n",
       "<style scoped>\n",
       "    .dataframe tbody tr th:only-of-type {\n",
       "        vertical-align: middle;\n",
       "    }\n",
       "\n",
       "    .dataframe tbody tr th {\n",
       "        vertical-align: top;\n",
       "    }\n",
       "\n",
       "    .dataframe thead th {\n",
       "        text-align: right;\n",
       "    }\n",
       "</style>\n",
       "<table border=\"1\" class=\"dataframe\">\n",
       "  <thead>\n",
       "    <tr style=\"text-align: right;\">\n",
       "      <th></th>\n",
       "      <th>restaurant_id</th>\n",
       "      <th>cuisine_style</th>\n",
       "      <th>ranking</th>\n",
       "      <th>rating</th>\n",
       "      <th>price_range</th>\n",
       "      <th>number_of_reviews</th>\n",
       "      <th>reviews</th>\n",
       "      <th>URL_TA</th>\n",
       "      <th>ID_TA</th>\n",
       "      <th>Number_of_Reviews_isNAN</th>\n",
       "      <th>...</th>\n",
       "      <th>city_Zurich</th>\n",
       "      <th>city_nan</th>\n",
       "      <th>cuisine_amount</th>\n",
       "      <th>review_text</th>\n",
       "      <th>review_date</th>\n",
       "      <th>review_analysis</th>\n",
       "      <th>review_1</th>\n",
       "      <th>review_2</th>\n",
       "      <th>time_difference</th>\n",
       "      <th>cuisine_code_freq</th>\n",
       "    </tr>\n",
       "  </thead>\n",
       "  <tbody>\n",
       "    <tr>\n",
       "      <th>0</th>\n",
       "      <td>id_5569</td>\n",
       "      <td>European</td>\n",
       "      <td>5570.0</td>\n",
       "      <td>3.5</td>\n",
       "      <td>2</td>\n",
       "      <td>194.0</td>\n",
       "      <td>[['Good food at your doorstep', 'A good hotel ...</td>\n",
       "      <td>/Restaurant_Review-g187147-d1912643-Reviews-R_...</td>\n",
       "      <td>1912643</td>\n",
       "      <td>0</td>\n",
       "      <td>...</td>\n",
       "      <td>0</td>\n",
       "      <td>0</td>\n",
       "      <td>3</td>\n",
       "      <td>'Good food at your doorstep', 'A good hotel re...</td>\n",
       "      <td>'12/31/2017', '11/20/2017'</td>\n",
       "      <td>1</td>\n",
       "      <td>2017-12-31</td>\n",
       "      <td>2017-11-20</td>\n",
       "      <td>9.480192e+08</td>\n",
       "      <td>0.095905</td>\n",
       "    </tr>\n",
       "    <tr>\n",
       "      <th>0</th>\n",
       "      <td>id_5569</td>\n",
       "      <td>French</td>\n",
       "      <td>5570.0</td>\n",
       "      <td>3.5</td>\n",
       "      <td>2</td>\n",
       "      <td>194.0</td>\n",
       "      <td>[['Good food at your doorstep', 'A good hotel ...</td>\n",
       "      <td>/Restaurant_Review-g187147-d1912643-Reviews-R_...</td>\n",
       "      <td>1912643</td>\n",
       "      <td>0</td>\n",
       "      <td>...</td>\n",
       "      <td>0</td>\n",
       "      <td>0</td>\n",
       "      <td>3</td>\n",
       "      <td>'Good food at your doorstep', 'A good hotel re...</td>\n",
       "      <td>'12/31/2017', '11/20/2017'</td>\n",
       "      <td>1</td>\n",
       "      <td>2017-12-31</td>\n",
       "      <td>2017-11-20</td>\n",
       "      <td>9.480192e+08</td>\n",
       "      <td>0.030411</td>\n",
       "    </tr>\n",
       "    <tr>\n",
       "      <th>0</th>\n",
       "      <td>id_5569</td>\n",
       "      <td>International</td>\n",
       "      <td>5570.0</td>\n",
       "      <td>3.5</td>\n",
       "      <td>2</td>\n",
       "      <td>194.0</td>\n",
       "      <td>[['Good food at your doorstep', 'A good hotel ...</td>\n",
       "      <td>/Restaurant_Review-g187147-d1912643-Reviews-R_...</td>\n",
       "      <td>1912643</td>\n",
       "      <td>0</td>\n",
       "      <td>...</td>\n",
       "      <td>0</td>\n",
       "      <td>0</td>\n",
       "      <td>3</td>\n",
       "      <td>'Good food at your doorstep', 'A good hotel re...</td>\n",
       "      <td>'12/31/2017', '11/20/2017'</td>\n",
       "      <td>1</td>\n",
       "      <td>2017-12-31</td>\n",
       "      <td>2017-11-20</td>\n",
       "      <td>9.480192e+08</td>\n",
       "      <td>0.015101</td>\n",
       "    </tr>\n",
       "    <tr>\n",
       "      <th>1</th>\n",
       "      <td>id_1535</td>\n",
       "      <td>Unknown</td>\n",
       "      <td>1537.0</td>\n",
       "      <td>4.0</td>\n",
       "      <td>0</td>\n",
       "      <td>10.0</td>\n",
       "      <td>[['Unique cuisine', 'Delicious Nepalese food']...</td>\n",
       "      <td>/Restaurant_Review-g189852-d7992032-Reviews-Bu...</td>\n",
       "      <td>7992032</td>\n",
       "      <td>0</td>\n",
       "      <td>...</td>\n",
       "      <td>0</td>\n",
       "      <td>0</td>\n",
       "      <td>1</td>\n",
       "      <td>'Unique cuisine', 'Delicious Nepalese food'</td>\n",
       "      <td>'07/06/2017', '06/19/2016'</td>\n",
       "      <td>0</td>\n",
       "      <td>2017-07-06</td>\n",
       "      <td>2016-06-19</td>\n",
       "      <td>2.023670e+09</td>\n",
       "      <td>0.088497</td>\n",
       "    </tr>\n",
       "  </tbody>\n",
       "</table>\n",
       "<p>4 rows × 50 columns</p>\n",
       "</div>"
      ],
      "text/plain": [
       "  restaurant_id  cuisine_style  ranking  rating  price_range  \\\n",
       "0       id_5569       European   5570.0     3.5            2   \n",
       "0       id_5569         French   5570.0     3.5            2   \n",
       "0       id_5569  International   5570.0     3.5            2   \n",
       "1       id_1535        Unknown   1537.0     4.0            0   \n",
       "\n",
       "   number_of_reviews                                            reviews  \\\n",
       "0              194.0  [['Good food at your doorstep', 'A good hotel ...   \n",
       "0              194.0  [['Good food at your doorstep', 'A good hotel ...   \n",
       "0              194.0  [['Good food at your doorstep', 'A good hotel ...   \n",
       "1               10.0  [['Unique cuisine', 'Delicious Nepalese food']...   \n",
       "\n",
       "                                              URL_TA    ID_TA  \\\n",
       "0  /Restaurant_Review-g187147-d1912643-Reviews-R_...  1912643   \n",
       "0  /Restaurant_Review-g187147-d1912643-Reviews-R_...  1912643   \n",
       "0  /Restaurant_Review-g187147-d1912643-Reviews-R_...  1912643   \n",
       "1  /Restaurant_Review-g189852-d7992032-Reviews-Bu...  7992032   \n",
       "\n",
       "   Number_of_Reviews_isNAN  ...  city_Zurich  city_nan  cuisine_amount  \\\n",
       "0                        0  ...            0         0               3   \n",
       "0                        0  ...            0         0               3   \n",
       "0                        0  ...            0         0               3   \n",
       "1                        0  ...            0         0               1   \n",
       "\n",
       "                                         review_text  \\\n",
       "0  'Good food at your doorstep', 'A good hotel re...   \n",
       "0  'Good food at your doorstep', 'A good hotel re...   \n",
       "0  'Good food at your doorstep', 'A good hotel re...   \n",
       "1        'Unique cuisine', 'Delicious Nepalese food'   \n",
       "\n",
       "                  review_date  review_analysis    review_1    review_2  \\\n",
       "0  '12/31/2017', '11/20/2017'                1  2017-12-31  2017-11-20   \n",
       "0  '12/31/2017', '11/20/2017'                1  2017-12-31  2017-11-20   \n",
       "0  '12/31/2017', '11/20/2017'                1  2017-12-31  2017-11-20   \n",
       "1  '07/06/2017', '06/19/2016'                0  2017-07-06  2016-06-19   \n",
       "\n",
       "   time_difference  cuisine_code_freq  \n",
       "0     9.480192e+08           0.095905  \n",
       "0     9.480192e+08           0.030411  \n",
       "0     9.480192e+08           0.015101  \n",
       "1     2.023670e+09           0.088497  \n",
       "\n",
       "[4 rows x 50 columns]"
      ]
     },
     "execution_count": 37,
     "metadata": {},
     "output_type": "execute_result"
    }
   ],
   "source": [
    "#Заменим наименования видов кухонь на значения словаря с их нормализованной частотой и запишем их в новый признак\n",
    "\n",
    "data = data.explode('cuisine_style')\n",
    "\n",
    "\n",
    "freq_cuisines = data.cuisine_style.value_counts(normalize=True).to_dict()\n",
    "\n",
    "\n",
    "data['cuisine_code_freq'] = data['cuisine_style'].apply(lambda v: freq_cuisines[v],freq_cuisines.values())\n",
    "data.loc[:1] "
   ]
  },
  {
   "cell_type": "code",
   "execution_count": 38,
   "metadata": {},
   "outputs": [
    {
     "data": {
      "text/plain": [
       "Index(['restaurant_id', 'cuisine_style', 'ranking', 'rating', 'price_range',\n",
       "       'number_of_reviews', 'reviews', 'URL_TA', 'ID_TA',\n",
       "       'Number_of_Reviews_isNAN', 'city_Amsterdam', 'city_Athens',\n",
       "       'city_Barcelona', 'city_Berlin', 'city_Bratislava', 'city_Brussels',\n",
       "       'city_Budapest', 'city_Copenhagen', 'city_Dublin', 'city_Edinburgh',\n",
       "       'city_Geneva', 'city_Hamburg', 'city_Helsinki', 'city_Krakow',\n",
       "       'city_Lisbon', 'city_Ljubljana', 'city_London', 'city_Luxembourg',\n",
       "       'city_Lyon', 'city_Madrid', 'city_Milan', 'city_Munich', 'city_Oporto',\n",
       "       'city_Oslo', 'city_Paris', 'city_Prague', 'city_Rome', 'city_Stockholm',\n",
       "       'city_Vienna', 'city_Warsaw', 'city_Zurich', 'city_nan',\n",
       "       'cuisine_amount', 'review_text', 'review_date', 'review_analysis',\n",
       "       'review_1', 'review_2', 'time_difference', 'cuisine_code_freq'],\n",
       "      dtype='object')"
      ]
     },
     "execution_count": 38,
     "metadata": {},
     "output_type": "execute_result"
    }
   ],
   "source": [
    "data.columns"
   ]
  },
  {
   "cell_type": "code",
   "execution_count": 39,
   "metadata": {},
   "outputs": [
    {
     "data": {
      "text/html": [
       "<div>\n",
       "<style scoped>\n",
       "    .dataframe tbody tr th:only-of-type {\n",
       "        vertical-align: middle;\n",
       "    }\n",
       "\n",
       "    .dataframe tbody tr th {\n",
       "        vertical-align: top;\n",
       "    }\n",
       "\n",
       "    .dataframe thead th {\n",
       "        text-align: right;\n",
       "    }\n",
       "</style>\n",
       "<table border=\"1\" class=\"dataframe\">\n",
       "  <thead>\n",
       "    <tr style=\"text-align: right;\">\n",
       "      <th></th>\n",
       "      <th>ranking</th>\n",
       "      <th>rating</th>\n",
       "      <th>price_range</th>\n",
       "      <th>number_of_reviews</th>\n",
       "      <th>ID_TA</th>\n",
       "      <th>Number_of_Reviews_isNAN</th>\n",
       "      <th>city_Amsterdam</th>\n",
       "      <th>city_Athens</th>\n",
       "      <th>city_Barcelona</th>\n",
       "      <th>city_Berlin</th>\n",
       "      <th>...</th>\n",
       "      <th>city_Rome</th>\n",
       "      <th>city_Stockholm</th>\n",
       "      <th>city_Vienna</th>\n",
       "      <th>city_Warsaw</th>\n",
       "      <th>city_Zurich</th>\n",
       "      <th>city_nan</th>\n",
       "      <th>cuisine_amount</th>\n",
       "      <th>review_analysis</th>\n",
       "      <th>time_difference</th>\n",
       "      <th>cuisine_code_freq</th>\n",
       "    </tr>\n",
       "  </thead>\n",
       "  <tbody>\n",
       "    <tr>\n",
       "      <th>0</th>\n",
       "      <td>5570.0</td>\n",
       "      <td>3.5</td>\n",
       "      <td>2</td>\n",
       "      <td>194.0</td>\n",
       "      <td>1912643</td>\n",
       "      <td>0</td>\n",
       "      <td>0</td>\n",
       "      <td>0</td>\n",
       "      <td>0</td>\n",
       "      <td>0</td>\n",
       "      <td>...</td>\n",
       "      <td>0</td>\n",
       "      <td>0</td>\n",
       "      <td>0</td>\n",
       "      <td>0</td>\n",
       "      <td>0</td>\n",
       "      <td>0</td>\n",
       "      <td>3</td>\n",
       "      <td>1</td>\n",
       "      <td>948019200.0</td>\n",
       "      <td>0.095905</td>\n",
       "    </tr>\n",
       "    <tr>\n",
       "      <th>0</th>\n",
       "      <td>5570.0</td>\n",
       "      <td>3.5</td>\n",
       "      <td>2</td>\n",
       "      <td>194.0</td>\n",
       "      <td>1912643</td>\n",
       "      <td>0</td>\n",
       "      <td>0</td>\n",
       "      <td>0</td>\n",
       "      <td>0</td>\n",
       "      <td>0</td>\n",
       "      <td>...</td>\n",
       "      <td>0</td>\n",
       "      <td>0</td>\n",
       "      <td>0</td>\n",
       "      <td>0</td>\n",
       "      <td>0</td>\n",
       "      <td>0</td>\n",
       "      <td>3</td>\n",
       "      <td>1</td>\n",
       "      <td>948019200.0</td>\n",
       "      <td>0.030411</td>\n",
       "    </tr>\n",
       "    <tr>\n",
       "      <th>0</th>\n",
       "      <td>5570.0</td>\n",
       "      <td>3.5</td>\n",
       "      <td>2</td>\n",
       "      <td>194.0</td>\n",
       "      <td>1912643</td>\n",
       "      <td>0</td>\n",
       "      <td>0</td>\n",
       "      <td>0</td>\n",
       "      <td>0</td>\n",
       "      <td>0</td>\n",
       "      <td>...</td>\n",
       "      <td>0</td>\n",
       "      <td>0</td>\n",
       "      <td>0</td>\n",
       "      <td>0</td>\n",
       "      <td>0</td>\n",
       "      <td>0</td>\n",
       "      <td>3</td>\n",
       "      <td>1</td>\n",
       "      <td>948019200.0</td>\n",
       "      <td>0.015101</td>\n",
       "    </tr>\n",
       "  </tbody>\n",
       "</table>\n",
       "<p>3 rows × 42 columns</p>\n",
       "</div>"
      ],
      "text/plain": [
       "   ranking  rating  price_range  number_of_reviews    ID_TA  \\\n",
       "0   5570.0     3.5            2              194.0  1912643   \n",
       "0   5570.0     3.5            2              194.0  1912643   \n",
       "0   5570.0     3.5            2              194.0  1912643   \n",
       "\n",
       "   Number_of_Reviews_isNAN  city_Amsterdam  city_Athens  city_Barcelona  \\\n",
       "0                        0               0            0               0   \n",
       "0                        0               0            0               0   \n",
       "0                        0               0            0               0   \n",
       "\n",
       "   city_Berlin  ...  city_Rome  city_Stockholm  city_Vienna  city_Warsaw  \\\n",
       "0            0  ...          0               0            0            0   \n",
       "0            0  ...          0               0            0            0   \n",
       "0            0  ...          0               0            0            0   \n",
       "\n",
       "   city_Zurich  city_nan  cuisine_amount  review_analysis  time_difference  \\\n",
       "0            0         0               3                1      948019200.0   \n",
       "0            0         0               3                1      948019200.0   \n",
       "0            0         0               3                1      948019200.0   \n",
       "\n",
       "   cuisine_code_freq  \n",
       "0           0.095905  \n",
       "0           0.030411  \n",
       "0           0.015101  \n",
       "\n",
       "[3 rows x 42 columns]"
      ]
     },
     "execution_count": 39,
     "metadata": {},
     "output_type": "execute_result"
    }
   ],
   "source": [
    "data = data.drop(columns=['restaurant_id','cuisine_style','reviews', 'URL_TA','review_text', 'review_date', 'review_1', 'review_2',])\n",
    "data.head(3)"
   ]
  },
  {
   "cell_type": "code",
   "execution_count": null,
   "metadata": {},
   "outputs": [],
   "source": []
  },
  {
   "cell_type": "code",
   "execution_count": 40,
   "metadata": {},
   "outputs": [
    {
     "name": "stdout",
     "output_type": "stream",
     "text": [
      "<class 'pandas.core.frame.DataFrame'>\n",
      "Int64Index: 104896 entries, 0 to 39999\n",
      "Data columns (total 42 columns):\n",
      " #   Column                   Non-Null Count   Dtype  \n",
      "---  ------                   --------------   -----  \n",
      " 0   ranking                  104896 non-null  float64\n",
      " 1   rating                   104896 non-null  float64\n",
      " 2   price_range              104896 non-null  int64  \n",
      " 3   number_of_reviews        104896 non-null  float64\n",
      " 4   ID_TA                    104896 non-null  int64  \n",
      " 5   Number_of_Reviews_isNAN  104896 non-null  uint8  \n",
      " 6   city_Amsterdam           104896 non-null  uint8  \n",
      " 7   city_Athens              104896 non-null  uint8  \n",
      " 8   city_Barcelona           104896 non-null  uint8  \n",
      " 9   city_Berlin              104896 non-null  uint8  \n",
      " 10  city_Bratislava          104896 non-null  uint8  \n",
      " 11  city_Brussels            104896 non-null  uint8  \n",
      " 12  city_Budapest            104896 non-null  uint8  \n",
      " 13  city_Copenhagen          104896 non-null  uint8  \n",
      " 14  city_Dublin              104896 non-null  uint8  \n",
      " 15  city_Edinburgh           104896 non-null  uint8  \n",
      " 16  city_Geneva              104896 non-null  uint8  \n",
      " 17  city_Hamburg             104896 non-null  uint8  \n",
      " 18  city_Helsinki            104896 non-null  uint8  \n",
      " 19  city_Krakow              104896 non-null  uint8  \n",
      " 20  city_Lisbon              104896 non-null  uint8  \n",
      " 21  city_Ljubljana           104896 non-null  uint8  \n",
      " 22  city_London              104896 non-null  uint8  \n",
      " 23  city_Luxembourg          104896 non-null  uint8  \n",
      " 24  city_Lyon                104896 non-null  uint8  \n",
      " 25  city_Madrid              104896 non-null  uint8  \n",
      " 26  city_Milan               104896 non-null  uint8  \n",
      " 27  city_Munich              104896 non-null  uint8  \n",
      " 28  city_Oporto              104896 non-null  uint8  \n",
      " 29  city_Oslo                104896 non-null  uint8  \n",
      " 30  city_Paris               104896 non-null  uint8  \n",
      " 31  city_Prague              104896 non-null  uint8  \n",
      " 32  city_Rome                104896 non-null  uint8  \n",
      " 33  city_Stockholm           104896 non-null  uint8  \n",
      " 34  city_Vienna              104896 non-null  uint8  \n",
      " 35  city_Warsaw              104896 non-null  uint8  \n",
      " 36  city_Zurich              104896 non-null  uint8  \n",
      " 37  city_nan                 104896 non-null  uint8  \n",
      " 38  cuisine_amount           104896 non-null  int64  \n",
      " 39  review_analysis          104896 non-null  int64  \n",
      " 40  time_difference          104896 non-null  float64\n",
      " 41  cuisine_code_freq        104896 non-null  float64\n",
      "dtypes: float64(5), int64(4), uint8(33)\n",
      "memory usage: 13.8 MB\n"
     ]
    }
   ],
   "source": [
    "data.info()"
   ]
  }
 ],
 "metadata": {
  "kernelspec": {
   "display_name": "Python 3",
   "language": "python",
   "name": "python3"
  },
  "language_info": {
   "codemirror_mode": {
    "name": "ipython",
    "version": 3
   },
   "file_extension": ".py",
   "mimetype": "text/x-python",
   "name": "python",
   "nbconvert_exporter": "python",
   "pygments_lexer": "ipython3",
   "version": "3.8.3"
  }
 },
 "nbformat": 4,
 "nbformat_minor": 1
}
