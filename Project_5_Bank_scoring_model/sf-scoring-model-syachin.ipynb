{
 "cells": [
  {
   "cell_type": "markdown",
   "id": "1fe7dd2b",
   "metadata": {
    "execution": {
     "iopub.execute_input": "2021-07-13T14:03:28.504586Z",
     "iopub.status.busy": "2021-07-13T14:03:28.503919Z",
     "iopub.status.idle": "2021-07-13T14:03:28.516816Z",
     "shell.execute_reply": "2021-07-13T14:03:28.515793Z",
     "shell.execute_reply.started": "2021-07-13T14:03:28.504496Z"
    },
    "papermill": {
     "duration": 0.099138,
     "end_time": "2021-07-14T15:53:21.260890",
     "exception": false,
     "start_time": "2021-07-14T15:53:21.161752",
     "status": "completed"
    },
    "tags": []
   },
   "source": [
    "# Проект 5. Компьютер говорит «Нет»\n",
    "## Цель проекта: Разаработать скоринговую модель предсказания возможности дефолта клиетнов банка\n",
    "\n",
    "## Задачи:\n",
    "* Подготовить датасет к анализу EDA\n",
    "* Выявить зависимости между отдельными признаками датасета\n",
    "* Выявить вес наиболее значимых признаков\n",
    "* создать модель и обучить ее на обучающем датасете\n",
    "* По метрикам качества оценить качество модели\n"
   ]
  },
  {
   "cell_type": "markdown",
   "id": "10e21bda",
   "metadata": {
    "papermill": {
     "duration": 0.100322,
     "end_time": "2021-07-14T15:53:21.458896",
     "exception": false,
     "start_time": "2021-07-14T15:53:21.358574",
     "status": "completed"
    },
    "tags": []
   },
   "source": [
    "## import"
   ]
  },
  {
   "cell_type": "code",
   "execution_count": 1,
   "id": "1bfd1b6e",
   "metadata": {
    "execution": {
     "iopub.execute_input": "2021-07-14T15:53:21.691040Z",
     "iopub.status.busy": "2021-07-14T15:53:21.689263Z",
     "iopub.status.idle": "2021-07-14T15:53:24.611302Z",
     "shell.execute_reply": "2021-07-14T15:53:24.610041Z",
     "shell.execute_reply.started": "2021-07-14T15:41:24.417827Z"
    },
    "papermill": {
     "duration": 3.030532,
     "end_time": "2021-07-14T15:53:24.611518",
     "exception": false,
     "start_time": "2021-07-14T15:53:21.580986",
     "status": "completed"
    },
    "tags": []
   },
   "outputs": [],
   "source": [
    "import numpy as np\n",
    "import pandas as pd\n",
    "import datetime as dt\n",
    "from datetime import timedelta\n",
    "import matplotlib.pyplot as plt\n",
    "import seaborn as sns\n",
    "from pandas import Series\n",
    "import matplotlib.pyplot as plt\n",
    "import seaborn as sns\n",
    "from sklearn.feature_selection import f_classif, mutual_info_classif\n",
    "from sklearn.preprocessing import LabelEncoder, OneHotEncoder, StandardScaler\n",
    "from sklearn.model_selection import train_test_split, StratifiedShuffleSplit\n",
    "from sklearn.linear_model import LogisticRegression\n",
    "from sklearn.ensemble import RandomForestClassifier\n",
    "from sklearn.neighbors import KNeighborsClassifier\n",
    "from sklearn.metrics import confusion_matrix,classification_report\n",
    "from sklearn.metrics import auc, roc_auc_score, roc_curve, multilabel_confusion_matrix\n",
    "import pandas_profiling\n",
    "from sklearn.preprocessing import Normalizer, normalize\n",
    "from collections import Counter\n",
    "from sklearn import metrics\n",
    "from sklearn.model_selection import KFold\n",
    "from sklearn.model_selection import GridSearchCV\n",
    "from sklearn.model_selection import cross_val_predict\n",
    "\n",
    "import warnings"
   ]
  },
  {
   "cell_type": "code",
   "execution_count": 2,
   "id": "f9f88fc8",
   "metadata": {
    "execution": {
     "iopub.execute_input": "2021-07-14T15:53:24.813563Z",
     "iopub.status.busy": "2021-07-14T15:53:24.812887Z",
     "iopub.status.idle": "2021-07-14T15:53:24.816527Z",
     "shell.execute_reply": "2021-07-14T15:53:24.815976Z",
     "shell.execute_reply.started": "2021-07-14T15:41:24.976639Z"
    },
    "papermill": {
     "duration": 0.107225,
     "end_time": "2021-07-14T15:53:24.816687",
     "exception": false,
     "start_time": "2021-07-14T15:53:24.709462",
     "status": "completed"
    },
    "tags": []
   },
   "outputs": [],
   "source": [
    "RANDOM_SEED = 42"
   ]
  },
  {
   "cell_type": "code",
   "execution_count": 3,
   "id": "48c3eb60",
   "metadata": {
    "execution": {
     "iopub.execute_input": "2021-07-14T15:53:25.033357Z",
     "iopub.status.busy": "2021-07-14T15:53:25.017949Z",
     "iopub.status.idle": "2021-07-14T15:53:28.368713Z",
     "shell.execute_reply": "2021-07-14T15:53:28.369204Z",
     "shell.execute_reply.started": "2021-07-14T15:41:25.581778Z"
    },
    "papermill": {
     "duration": 3.456235,
     "end_time": "2021-07-14T15:53:28.369407",
     "exception": false,
     "start_time": "2021-07-14T15:53:24.913172",
     "status": "completed"
    },
    "tags": []
   },
   "outputs": [],
   "source": [
    "# зафиксируем версию пакетов, чтобы эксперименты были воспроизводимы:\n",
    "!pip freeze > requirements.txt"
   ]
  },
  {
   "cell_type": "markdown",
   "id": "f165f69d",
   "metadata": {
    "execution": {
     "iopub.execute_input": "2021-07-13T14:11:25.730931Z",
     "iopub.status.busy": "2021-07-13T14:11:25.730511Z",
     "iopub.status.idle": "2021-07-13T14:11:25.736132Z",
     "shell.execute_reply": "2021-07-13T14:11:25.73506Z",
     "shell.execute_reply.started": "2021-07-13T14:11:25.730893Z"
    },
    "papermill": {
     "duration": 0.097216,
     "end_time": "2021-07-14T15:53:28.564037",
     "exception": false,
     "start_time": "2021-07-14T15:53:28.466821",
     "status": "completed"
    },
    "tags": []
   },
   "source": [
    "## DATA"
   ]
  },
  {
   "cell_type": "code",
   "execution_count": 4,
   "id": "42c66164",
   "metadata": {
    "execution": {
     "iopub.execute_input": "2021-07-14T15:53:28.763743Z",
     "iopub.status.busy": "2021-07-14T15:53:28.763018Z",
     "iopub.status.idle": "2021-07-14T15:53:28.765665Z",
     "shell.execute_reply": "2021-07-14T15:53:28.766115Z",
     "shell.execute_reply.started": "2021-07-14T15:41:29.075103Z"
    },
    "papermill": {
     "duration": 0.104674,
     "end_time": "2021-07-14T15:53:28.766291",
     "exception": false,
     "start_time": "2021-07-14T15:53:28.661617",
     "status": "completed"
    },
    "tags": []
   },
   "outputs": [],
   "source": [
    "DATASETS_LOC = ('../input/sf-dst-scoring')\n"
   ]
  },
  {
   "cell_type": "code",
   "execution_count": 5,
   "id": "7a63ddc2",
   "metadata": {
    "execution": {
     "iopub.execute_input": "2021-07-14T15:53:28.966018Z",
     "iopub.status.busy": "2021-07-14T15:53:28.965322Z",
     "iopub.status.idle": "2021-07-14T15:53:28.968813Z",
     "shell.execute_reply": "2021-07-14T15:53:28.968257Z",
     "shell.execute_reply.started": "2021-07-14T15:41:29.552562Z"
    },
    "papermill": {
     "duration": 0.106173,
     "end_time": "2021-07-14T15:53:28.968963",
     "exception": false,
     "start_time": "2021-07-14T15:53:28.862790",
     "status": "completed"
    },
    "tags": []
   },
   "outputs": [],
   "source": [
    "warnings.simplefilter(action='ignore', category=FutureWarning)"
   ]
  },
  {
   "cell_type": "code",
   "execution_count": 6,
   "id": "252832bf",
   "metadata": {
    "execution": {
     "iopub.execute_input": "2021-07-14T15:53:29.174771Z",
     "iopub.status.busy": "2021-07-14T15:53:29.173938Z",
     "iopub.status.idle": "2021-07-14T15:53:29.637848Z",
     "shell.execute_reply": "2021-07-14T15:53:29.637167Z",
     "shell.execute_reply.started": "2021-07-14T15:41:30.134678Z"
    },
    "papermill": {
     "duration": 0.569503,
     "end_time": "2021-07-14T15:53:29.637994",
     "exception": false,
     "start_time": "2021-07-14T15:53:29.068491",
     "status": "completed"
    },
    "tags": []
   },
   "outputs": [],
   "source": [
    "\n",
    "df_train = pd.read_csv(f'{DATASETS_LOC}/train.csv')\n",
    "df_test = pd.read_csv(f'{DATASETS_LOC}/test.csv')\n",
    "sample_submission = pd.read_csv(f'{DATASETS_LOC}/sample_submission.csv')\n"
   ]
  },
  {
   "cell_type": "markdown",
   "id": "5b1271ab",
   "metadata": {
    "papermill": {
     "duration": 0.095884,
     "end_time": "2021-07-14T15:53:29.829753",
     "exception": false,
     "start_time": "2021-07-14T15:53:29.733869",
     "status": "completed"
    },
    "tags": []
   },
   "source": [
    "## Functions"
   ]
  },
  {
   "cell_type": "code",
   "execution_count": 7,
   "id": "a6550dab",
   "metadata": {
    "execution": {
     "iopub.execute_input": "2021-07-14T15:53:30.033579Z",
     "iopub.status.busy": "2021-07-14T15:53:30.032827Z",
     "iopub.status.idle": "2021-07-14T15:53:30.037429Z",
     "shell.execute_reply": "2021-07-14T15:53:30.036240Z",
     "shell.execute_reply.started": "2021-07-14T15:41:31.096377Z"
    },
    "papermill": {
     "duration": 0.111611,
     "end_time": "2021-07-14T15:53:30.037623",
     "exception": false,
     "start_time": "2021-07-14T15:53:29.926012",
     "status": "completed"
    },
    "tags": []
   },
   "outputs": [],
   "source": [
    "def subset_by_iqr(df, column, whisker_width=1.5):\n",
    "    \"\"\"Remove outliers from a dataframe by column, including optional\n",
    "       whiskers, removing rows for which the column value are\n",
    "       less than Q1-1.5IQR or greater than Q3+1.5IQR.\n",
    "    Args:\n",
    "        df (`:obj:pd.DataFrame`): A pandas dataframe to subset\n",
    "        column (str): Name of the column to calculate the subset from.\n",
    "        whisker_width (float): Optional, loosen the IQR filter by a\n",
    "                               factor of `whisker_width` * IQR.\n",
    "    Returns:\n",
    "        (`:obj:pd.DataFrame`): Filtered dataframe\n",
    "    \"\"\"\n",
    "    q1 = df[column].quantile(0.25)\n",
    "    q3 = df[column].quantile(0.75)\n",
    "    iqr = q3 - q1\n",
    "    low_outlier = q1 - whisker_width*iqr\n",
    "    high_outlier = q3 + whisker_width*iqr\n",
    "    column_median = df[column].median()\n",
    "\n",
    "    # Apply filter with respect to IQR, including optional whiskers\n",
    "    # else mode()\n",
    "\n",
    "    return df[column].apply(lambda x: x if (x > low_outlier and x < high_outlier) else column_median)"
   ]
  },
  {
   "cell_type": "code",
   "execution_count": 8,
   "id": "93955b38",
   "metadata": {
    "execution": {
     "iopub.execute_input": "2021-07-14T15:53:30.242138Z",
     "iopub.status.busy": "2021-07-14T15:53:30.241446Z",
     "iopub.status.idle": "2021-07-14T15:53:30.245154Z",
     "shell.execute_reply": "2021-07-14T15:53:30.244481Z",
     "shell.execute_reply.started": "2021-07-14T15:41:31.548841Z"
    },
    "papermill": {
     "duration": 0.109522,
     "end_time": "2021-07-14T15:53:30.245305",
     "exception": false,
     "start_time": "2021-07-14T15:53:30.135783",
     "status": "completed"
    },
    "tags": []
   },
   "outputs": [],
   "source": [
    "def bin_plot(col):\n",
    "    \"\"\"Does plot the binary features visualisation\"\"\"\n",
    "    labels = list(data.query('default == 1')[col].value_counts().index)\n",
    "\n",
    "    total = data[col].value_counts()\n",
    "    defaulters = data.query('default==1')[col].value_counts()\n",
    "\n",
    "    x = np.arange(len(labels))  # the label locations\n",
    "    width = 0.35  # the width of the bars\n",
    "\n",
    "    fig, ax = plt.subplots()\n",
    "    rects1 = ax.bar(x - width/2, total, width,  label='Total')\n",
    "    rects2 = ax.bar(x + width/2, defaulters, width, color = 'r', label='Defaulters')\n",
    "\n",
    "    # Add some text for labels, title and custom x-axis tick labels, etc.\n",
    "    ax.set_ylabel('Amount')\n",
    "    ax.set_title('Defaulters 0/1 in feature {}'.format(col))\n",
    "    ax.set_xticks(x)\n",
    "    ax.set_xticklabels(labels)\n",
    "    ax.legend()\n",
    "\n",
    "    ax.bar_label(rects1, padding=3)\n",
    "    ax.bar_label(rects2, padding=3)\n",
    "\n",
    "    fig.tight_layout()\n",
    "\n",
    "    plt.show()\n",
    "    print('Доля дефолта от общего количества','\\n', defaulters/total)"
   ]
  },
  {
   "cell_type": "code",
   "execution_count": 9,
   "id": "2643c48b",
   "metadata": {
    "execution": {
     "iopub.execute_input": "2021-07-14T15:53:30.455267Z",
     "iopub.status.busy": "2021-07-14T15:53:30.454580Z",
     "iopub.status.idle": "2021-07-14T15:53:30.457644Z",
     "shell.execute_reply": "2021-07-14T15:53:30.458156Z",
     "shell.execute_reply.started": "2021-07-14T15:41:32.028045Z"
    },
    "papermill": {
     "duration": 0.112789,
     "end_time": "2021-07-14T15:53:30.458331",
     "exception": false,
     "start_time": "2021-07-14T15:53:30.345542",
     "status": "completed"
    },
    "tags": []
   },
   "outputs": [],
   "source": [
    "def hist_plot(col):\n",
    "    plt.figure()\n",
    "    sns.distplot(data[col][data['default'] == 1], kde = False, color= 'red', hist = True)\n",
    "    sns.distplot(data[col][data['default'] == 0], kde = False, color= 'blue', hist = True)\n",
    "    plt.title(col)\n",
    "    plt.show()"
   ]
  },
  {
   "cell_type": "code",
   "execution_count": 10,
   "id": "8a55acc7",
   "metadata": {
    "execution": {
     "iopub.execute_input": "2021-07-14T15:53:30.678463Z",
     "iopub.status.busy": "2021-07-14T15:53:30.677492Z",
     "iopub.status.idle": "2021-07-14T15:53:30.745203Z",
     "shell.execute_reply": "2021-07-14T15:53:30.744353Z",
     "shell.execute_reply.started": "2021-07-14T15:41:32.523093Z"
    },
    "papermill": {
     "duration": 0.184059,
     "end_time": "2021-07-14T15:53:30.745420",
     "exception": false,
     "start_time": "2021-07-14T15:53:30.561361",
     "status": "completed"
    },
    "tags": []
   },
   "outputs": [
    {
     "name": "stdout",
     "output_type": "stream",
     "text": [
      "<class 'pandas.core.frame.DataFrame'>\n",
      "RangeIndex: 73799 entries, 0 to 73798\n",
      "Data columns (total 19 columns):\n",
      " #   Column            Non-Null Count  Dtype  \n",
      "---  ------            --------------  -----  \n",
      " 0   client_id         73799 non-null  int64  \n",
      " 1   app_date          73799 non-null  object \n",
      " 2   education         73492 non-null  object \n",
      " 3   sex               73799 non-null  object \n",
      " 4   age               73799 non-null  int64  \n",
      " 5   car               73799 non-null  object \n",
      " 6   car_type          73799 non-null  object \n",
      " 7   decline_app_cnt   73799 non-null  int64  \n",
      " 8   good_work         73799 non-null  int64  \n",
      " 9   score_bki         73799 non-null  float64\n",
      " 10  bki_request_cnt   73799 non-null  int64  \n",
      " 11  region_rating     73799 non-null  int64  \n",
      " 12  home_address      73799 non-null  int64  \n",
      " 13  work_address      73799 non-null  int64  \n",
      " 14  income            73799 non-null  int64  \n",
      " 15  sna               73799 non-null  int64  \n",
      " 16  first_time        73799 non-null  int64  \n",
      " 17  foreign_passport  73799 non-null  object \n",
      " 18  default           73799 non-null  int64  \n",
      "dtypes: float64(1), int64(12), object(6)\n",
      "memory usage: 10.7+ MB\n"
     ]
    }
   ],
   "source": [
    "df_train.info()"
   ]
  },
  {
   "cell_type": "code",
   "execution_count": 11,
   "id": "e7d95e43",
   "metadata": {
    "execution": {
     "iopub.execute_input": "2021-07-14T15:53:30.950230Z",
     "iopub.status.busy": "2021-07-14T15:53:30.949546Z",
     "iopub.status.idle": "2021-07-14T15:53:30.974504Z",
     "shell.execute_reply": "2021-07-14T15:53:30.973914Z",
     "shell.execute_reply.started": "2021-07-14T15:41:33.036056Z"
    },
    "papermill": {
     "duration": 0.13034,
     "end_time": "2021-07-14T15:53:30.974744",
     "exception": false,
     "start_time": "2021-07-14T15:53:30.844404",
     "status": "completed"
    },
    "tags": []
   },
   "outputs": [
    {
     "data": {
      "text/html": [
       "<div>\n",
       "<style scoped>\n",
       "    .dataframe tbody tr th:only-of-type {\n",
       "        vertical-align: middle;\n",
       "    }\n",
       "\n",
       "    .dataframe tbody tr th {\n",
       "        vertical-align: top;\n",
       "    }\n",
       "\n",
       "    .dataframe thead th {\n",
       "        text-align: right;\n",
       "    }\n",
       "</style>\n",
       "<table border=\"1\" class=\"dataframe\">\n",
       "  <thead>\n",
       "    <tr style=\"text-align: right;\">\n",
       "      <th></th>\n",
       "      <th>client_id</th>\n",
       "      <th>app_date</th>\n",
       "      <th>education</th>\n",
       "      <th>sex</th>\n",
       "      <th>age</th>\n",
       "      <th>car</th>\n",
       "      <th>car_type</th>\n",
       "      <th>decline_app_cnt</th>\n",
       "      <th>good_work</th>\n",
       "      <th>score_bki</th>\n",
       "      <th>bki_request_cnt</th>\n",
       "      <th>region_rating</th>\n",
       "      <th>home_address</th>\n",
       "      <th>work_address</th>\n",
       "      <th>income</th>\n",
       "      <th>sna</th>\n",
       "      <th>first_time</th>\n",
       "      <th>foreign_passport</th>\n",
       "      <th>default</th>\n",
       "    </tr>\n",
       "  </thead>\n",
       "  <tbody>\n",
       "    <tr>\n",
       "      <th>0</th>\n",
       "      <td>25905</td>\n",
       "      <td>01FEB2014</td>\n",
       "      <td>SCH</td>\n",
       "      <td>M</td>\n",
       "      <td>62</td>\n",
       "      <td>Y</td>\n",
       "      <td>Y</td>\n",
       "      <td>0</td>\n",
       "      <td>0</td>\n",
       "      <td>-2.008753</td>\n",
       "      <td>1</td>\n",
       "      <td>50</td>\n",
       "      <td>1</td>\n",
       "      <td>2</td>\n",
       "      <td>18000</td>\n",
       "      <td>4</td>\n",
       "      <td>1</td>\n",
       "      <td>N</td>\n",
       "      <td>0</td>\n",
       "    </tr>\n",
       "    <tr>\n",
       "      <th>1</th>\n",
       "      <td>63161</td>\n",
       "      <td>12MAR2014</td>\n",
       "      <td>SCH</td>\n",
       "      <td>F</td>\n",
       "      <td>59</td>\n",
       "      <td>N</td>\n",
       "      <td>N</td>\n",
       "      <td>0</td>\n",
       "      <td>0</td>\n",
       "      <td>-1.532276</td>\n",
       "      <td>3</td>\n",
       "      <td>50</td>\n",
       "      <td>2</td>\n",
       "      <td>3</td>\n",
       "      <td>19000</td>\n",
       "      <td>4</td>\n",
       "      <td>1</td>\n",
       "      <td>N</td>\n",
       "      <td>0</td>\n",
       "    </tr>\n",
       "    <tr>\n",
       "      <th>2</th>\n",
       "      <td>25887</td>\n",
       "      <td>01FEB2014</td>\n",
       "      <td>SCH</td>\n",
       "      <td>M</td>\n",
       "      <td>25</td>\n",
       "      <td>Y</td>\n",
       "      <td>N</td>\n",
       "      <td>2</td>\n",
       "      <td>0</td>\n",
       "      <td>-1.408142</td>\n",
       "      <td>1</td>\n",
       "      <td>80</td>\n",
       "      <td>1</td>\n",
       "      <td>2</td>\n",
       "      <td>30000</td>\n",
       "      <td>1</td>\n",
       "      <td>4</td>\n",
       "      <td>Y</td>\n",
       "      <td>0</td>\n",
       "    </tr>\n",
       "    <tr>\n",
       "      <th>3</th>\n",
       "      <td>16222</td>\n",
       "      <td>23JAN2014</td>\n",
       "      <td>SCH</td>\n",
       "      <td>F</td>\n",
       "      <td>53</td>\n",
       "      <td>N</td>\n",
       "      <td>N</td>\n",
       "      <td>0</td>\n",
       "      <td>0</td>\n",
       "      <td>-2.057471</td>\n",
       "      <td>2</td>\n",
       "      <td>50</td>\n",
       "      <td>2</td>\n",
       "      <td>3</td>\n",
       "      <td>10000</td>\n",
       "      <td>1</td>\n",
       "      <td>3</td>\n",
       "      <td>N</td>\n",
       "      <td>0</td>\n",
       "    </tr>\n",
       "    <tr>\n",
       "      <th>4</th>\n",
       "      <td>101655</td>\n",
       "      <td>18APR2014</td>\n",
       "      <td>GRD</td>\n",
       "      <td>M</td>\n",
       "      <td>48</td>\n",
       "      <td>N</td>\n",
       "      <td>N</td>\n",
       "      <td>0</td>\n",
       "      <td>1</td>\n",
       "      <td>-1.244723</td>\n",
       "      <td>1</td>\n",
       "      <td>60</td>\n",
       "      <td>2</td>\n",
       "      <td>3</td>\n",
       "      <td>30000</td>\n",
       "      <td>1</td>\n",
       "      <td>4</td>\n",
       "      <td>Y</td>\n",
       "      <td>0</td>\n",
       "    </tr>\n",
       "  </tbody>\n",
       "</table>\n",
       "</div>"
      ],
      "text/plain": [
       "   client_id   app_date education sex  age car car_type  decline_app_cnt  \\\n",
       "0      25905  01FEB2014       SCH   M   62   Y        Y                0   \n",
       "1      63161  12MAR2014       SCH   F   59   N        N                0   \n",
       "2      25887  01FEB2014       SCH   M   25   Y        N                2   \n",
       "3      16222  23JAN2014       SCH   F   53   N        N                0   \n",
       "4     101655  18APR2014       GRD   M   48   N        N                0   \n",
       "\n",
       "   good_work  score_bki  bki_request_cnt  region_rating  home_address  \\\n",
       "0          0  -2.008753                1             50             1   \n",
       "1          0  -1.532276                3             50             2   \n",
       "2          0  -1.408142                1             80             1   \n",
       "3          0  -2.057471                2             50             2   \n",
       "4          1  -1.244723                1             60             2   \n",
       "\n",
       "   work_address  income  sna  first_time foreign_passport  default  \n",
       "0             2   18000    4           1                N        0  \n",
       "1             3   19000    4           1                N        0  \n",
       "2             2   30000    1           4                Y        0  \n",
       "3             3   10000    1           3                N        0  \n",
       "4             3   30000    1           4                Y        0  "
      ]
     },
     "execution_count": 11,
     "metadata": {},
     "output_type": "execute_result"
    }
   ],
   "source": [
    "df_train.head(5)"
   ]
  },
  {
   "cell_type": "code",
   "execution_count": 12,
   "id": "9dea1b7e",
   "metadata": {
    "execution": {
     "iopub.execute_input": "2021-07-14T15:53:31.198639Z",
     "iopub.status.busy": "2021-07-14T15:53:31.197605Z",
     "iopub.status.idle": "2021-07-14T15:53:31.220923Z",
     "shell.execute_reply": "2021-07-14T15:53:31.220162Z",
     "shell.execute_reply.started": "2021-07-14T15:41:33.517226Z"
    },
    "papermill": {
     "duration": 0.148212,
     "end_time": "2021-07-14T15:53:31.221092",
     "exception": false,
     "start_time": "2021-07-14T15:53:31.072880",
     "status": "completed"
    },
    "tags": []
   },
   "outputs": [
    {
     "name": "stdout",
     "output_type": "stream",
     "text": [
      "<class 'pandas.core.frame.DataFrame'>\n",
      "RangeIndex: 36349 entries, 0 to 36348\n",
      "Data columns (total 18 columns):\n",
      " #   Column            Non-Null Count  Dtype  \n",
      "---  ------            --------------  -----  \n",
      " 0   client_id         36349 non-null  int64  \n",
      " 1   app_date          36349 non-null  object \n",
      " 2   education         36178 non-null  object \n",
      " 3   sex               36349 non-null  object \n",
      " 4   age               36349 non-null  int64  \n",
      " 5   car               36349 non-null  object \n",
      " 6   car_type          36349 non-null  object \n",
      " 7   decline_app_cnt   36349 non-null  int64  \n",
      " 8   good_work         36349 non-null  int64  \n",
      " 9   score_bki         36349 non-null  float64\n",
      " 10  bki_request_cnt   36349 non-null  int64  \n",
      " 11  region_rating     36349 non-null  int64  \n",
      " 12  home_address      36349 non-null  int64  \n",
      " 13  work_address      36349 non-null  int64  \n",
      " 14  income            36349 non-null  int64  \n",
      " 15  sna               36349 non-null  int64  \n",
      " 16  first_time        36349 non-null  int64  \n",
      " 17  foreign_passport  36349 non-null  object \n",
      "dtypes: float64(1), int64(11), object(6)\n",
      "memory usage: 5.0+ MB\n"
     ]
    }
   ],
   "source": [
    "df_test.info()"
   ]
  },
  {
   "cell_type": "code",
   "execution_count": 13,
   "id": "a589ff03",
   "metadata": {
    "execution": {
     "iopub.execute_input": "2021-07-14T15:53:31.435144Z",
     "iopub.status.busy": "2021-07-14T15:53:31.434207Z",
     "iopub.status.idle": "2021-07-14T15:53:31.437949Z",
     "shell.execute_reply": "2021-07-14T15:53:31.438489Z",
     "shell.execute_reply.started": "2021-07-14T15:41:33.989870Z"
    },
    "papermill": {
     "duration": 0.120014,
     "end_time": "2021-07-14T15:53:31.438670",
     "exception": false,
     "start_time": "2021-07-14T15:53:31.318656",
     "status": "completed"
    },
    "tags": []
   },
   "outputs": [
    {
     "data": {
      "text/html": [
       "<div>\n",
       "<style scoped>\n",
       "    .dataframe tbody tr th:only-of-type {\n",
       "        vertical-align: middle;\n",
       "    }\n",
       "\n",
       "    .dataframe tbody tr th {\n",
       "        vertical-align: top;\n",
       "    }\n",
       "\n",
       "    .dataframe thead th {\n",
       "        text-align: right;\n",
       "    }\n",
       "</style>\n",
       "<table border=\"1\" class=\"dataframe\">\n",
       "  <thead>\n",
       "    <tr style=\"text-align: right;\">\n",
       "      <th></th>\n",
       "      <th>client_id</th>\n",
       "      <th>app_date</th>\n",
       "      <th>education</th>\n",
       "      <th>sex</th>\n",
       "      <th>age</th>\n",
       "      <th>car</th>\n",
       "      <th>car_type</th>\n",
       "      <th>decline_app_cnt</th>\n",
       "      <th>good_work</th>\n",
       "      <th>score_bki</th>\n",
       "      <th>bki_request_cnt</th>\n",
       "      <th>region_rating</th>\n",
       "      <th>home_address</th>\n",
       "      <th>work_address</th>\n",
       "      <th>income</th>\n",
       "      <th>sna</th>\n",
       "      <th>first_time</th>\n",
       "      <th>foreign_passport</th>\n",
       "    </tr>\n",
       "  </thead>\n",
       "  <tbody>\n",
       "    <tr>\n",
       "      <th>0</th>\n",
       "      <td>74835</td>\n",
       "      <td>22MAR2014</td>\n",
       "      <td>GRD</td>\n",
       "      <td>M</td>\n",
       "      <td>29</td>\n",
       "      <td>Y</td>\n",
       "      <td>Y</td>\n",
       "      <td>0</td>\n",
       "      <td>0</td>\n",
       "      <td>-2.271884</td>\n",
       "      <td>3</td>\n",
       "      <td>50</td>\n",
       "      <td>1</td>\n",
       "      <td>2</td>\n",
       "      <td>50000</td>\n",
       "      <td>1</td>\n",
       "      <td>4</td>\n",
       "      <td>N</td>\n",
       "    </tr>\n",
       "    <tr>\n",
       "      <th>1</th>\n",
       "      <td>17527</td>\n",
       "      <td>24JAN2014</td>\n",
       "      <td>SCH</td>\n",
       "      <td>F</td>\n",
       "      <td>39</td>\n",
       "      <td>N</td>\n",
       "      <td>N</td>\n",
       "      <td>5</td>\n",
       "      <td>0</td>\n",
       "      <td>-1.504999</td>\n",
       "      <td>2</td>\n",
       "      <td>50</td>\n",
       "      <td>1</td>\n",
       "      <td>2</td>\n",
       "      <td>5000</td>\n",
       "      <td>4</td>\n",
       "      <td>3</td>\n",
       "      <td>N</td>\n",
       "    </tr>\n",
       "    <tr>\n",
       "      <th>2</th>\n",
       "      <td>75683</td>\n",
       "      <td>23MAR2014</td>\n",
       "      <td>UGR</td>\n",
       "      <td>M</td>\n",
       "      <td>50</td>\n",
       "      <td>Y</td>\n",
       "      <td>Y</td>\n",
       "      <td>0</td>\n",
       "      <td>0</td>\n",
       "      <td>-1.691339</td>\n",
       "      <td>1</td>\n",
       "      <td>50</td>\n",
       "      <td>1</td>\n",
       "      <td>2</td>\n",
       "      <td>30000</td>\n",
       "      <td>1</td>\n",
       "      <td>3</td>\n",
       "      <td>Y</td>\n",
       "    </tr>\n",
       "    <tr>\n",
       "      <th>3</th>\n",
       "      <td>26883</td>\n",
       "      <td>03FEB2014</td>\n",
       "      <td>SCH</td>\n",
       "      <td>M</td>\n",
       "      <td>56</td>\n",
       "      <td>N</td>\n",
       "      <td>N</td>\n",
       "      <td>0</td>\n",
       "      <td>0</td>\n",
       "      <td>-2.374182</td>\n",
       "      <td>1</td>\n",
       "      <td>40</td>\n",
       "      <td>1</td>\n",
       "      <td>2</td>\n",
       "      <td>17000</td>\n",
       "      <td>1</td>\n",
       "      <td>3</td>\n",
       "      <td>N</td>\n",
       "    </tr>\n",
       "    <tr>\n",
       "      <th>4</th>\n",
       "      <td>28862</td>\n",
       "      <td>04FEB2014</td>\n",
       "      <td>GRD</td>\n",
       "      <td>F</td>\n",
       "      <td>38</td>\n",
       "      <td>N</td>\n",
       "      <td>N</td>\n",
       "      <td>0</td>\n",
       "      <td>0</td>\n",
       "      <td>-2.487502</td>\n",
       "      <td>0</td>\n",
       "      <td>80</td>\n",
       "      <td>2</td>\n",
       "      <td>3</td>\n",
       "      <td>120000</td>\n",
       "      <td>1</td>\n",
       "      <td>3</td>\n",
       "      <td>N</td>\n",
       "    </tr>\n",
       "  </tbody>\n",
       "</table>\n",
       "</div>"
      ],
      "text/plain": [
       "   client_id   app_date education sex  age car car_type  decline_app_cnt  \\\n",
       "0      74835  22MAR2014       GRD   M   29   Y        Y                0   \n",
       "1      17527  24JAN2014       SCH   F   39   N        N                5   \n",
       "2      75683  23MAR2014       UGR   M   50   Y        Y                0   \n",
       "3      26883  03FEB2014       SCH   M   56   N        N                0   \n",
       "4      28862  04FEB2014       GRD   F   38   N        N                0   \n",
       "\n",
       "   good_work  score_bki  bki_request_cnt  region_rating  home_address  \\\n",
       "0          0  -2.271884                3             50             1   \n",
       "1          0  -1.504999                2             50             1   \n",
       "2          0  -1.691339                1             50             1   \n",
       "3          0  -2.374182                1             40             1   \n",
       "4          0  -2.487502                0             80             2   \n",
       "\n",
       "   work_address  income  sna  first_time foreign_passport  \n",
       "0             2   50000    1           4                N  \n",
       "1             2    5000    4           3                N  \n",
       "2             2   30000    1           3                Y  \n",
       "3             2   17000    1           3                N  \n",
       "4             3  120000    1           3                N  "
      ]
     },
     "execution_count": 13,
     "metadata": {},
     "output_type": "execute_result"
    }
   ],
   "source": [
    "df_test.head(5)"
   ]
  },
  {
   "cell_type": "code",
   "execution_count": 14,
   "id": "1ca3c85f",
   "metadata": {
    "execution": {
     "iopub.execute_input": "2021-07-14T15:53:31.638769Z",
     "iopub.status.busy": "2021-07-14T15:53:31.638044Z",
     "iopub.status.idle": "2021-07-14T15:53:31.646784Z",
     "shell.execute_reply": "2021-07-14T15:53:31.647264Z",
     "shell.execute_reply.started": "2021-07-14T15:41:34.430190Z"
    },
    "papermill": {
     "duration": 0.11171,
     "end_time": "2021-07-14T15:53:31.647468",
     "exception": false,
     "start_time": "2021-07-14T15:53:31.535758",
     "status": "completed"
    },
    "tags": []
   },
   "outputs": [
    {
     "data": {
      "text/html": [
       "<div>\n",
       "<style scoped>\n",
       "    .dataframe tbody tr th:only-of-type {\n",
       "        vertical-align: middle;\n",
       "    }\n",
       "\n",
       "    .dataframe tbody tr th {\n",
       "        vertical-align: top;\n",
       "    }\n",
       "\n",
       "    .dataframe thead th {\n",
       "        text-align: right;\n",
       "    }\n",
       "</style>\n",
       "<table border=\"1\" class=\"dataframe\">\n",
       "  <thead>\n",
       "    <tr style=\"text-align: right;\">\n",
       "      <th></th>\n",
       "      <th>client_id</th>\n",
       "      <th>default</th>\n",
       "    </tr>\n",
       "  </thead>\n",
       "  <tbody>\n",
       "    <tr>\n",
       "      <th>0</th>\n",
       "      <td>66799</td>\n",
       "      <td>0.441004</td>\n",
       "    </tr>\n",
       "    <tr>\n",
       "      <th>1</th>\n",
       "      <td>25379</td>\n",
       "      <td>0.138092</td>\n",
       "    </tr>\n",
       "    <tr>\n",
       "      <th>2</th>\n",
       "      <td>28825</td>\n",
       "      <td>0.373370</td>\n",
       "    </tr>\n",
       "    <tr>\n",
       "      <th>3</th>\n",
       "      <td>37530</td>\n",
       "      <td>0.476501</td>\n",
       "    </tr>\n",
       "    <tr>\n",
       "      <th>4</th>\n",
       "      <td>4264</td>\n",
       "      <td>0.304640</td>\n",
       "    </tr>\n",
       "  </tbody>\n",
       "</table>\n",
       "</div>"
      ],
      "text/plain": [
       "   client_id   default\n",
       "0      66799  0.441004\n",
       "1      25379  0.138092\n",
       "2      28825  0.373370\n",
       "3      37530  0.476501\n",
       "4       4264  0.304640"
      ]
     },
     "execution_count": 14,
     "metadata": {},
     "output_type": "execute_result"
    }
   ],
   "source": [
    "sample_submission.head(5)"
   ]
  },
  {
   "cell_type": "code",
   "execution_count": 15,
   "id": "3d72f729",
   "metadata": {
    "execution": {
     "iopub.execute_input": "2021-07-14T15:53:31.849336Z",
     "iopub.status.busy": "2021-07-14T15:53:31.848690Z",
     "iopub.status.idle": "2021-07-14T15:53:31.862203Z",
     "shell.execute_reply": "2021-07-14T15:53:31.862807Z",
     "shell.execute_reply.started": "2021-07-14T15:41:34.910692Z"
    },
    "papermill": {
     "duration": 0.11599,
     "end_time": "2021-07-14T15:53:31.862982",
     "exception": false,
     "start_time": "2021-07-14T15:53:31.746992",
     "status": "completed"
    },
    "tags": []
   },
   "outputs": [
    {
     "name": "stdout",
     "output_type": "stream",
     "text": [
      "<class 'pandas.core.frame.DataFrame'>\n",
      "RangeIndex: 24354 entries, 0 to 24353\n",
      "Data columns (total 2 columns):\n",
      " #   Column     Non-Null Count  Dtype  \n",
      "---  ------     --------------  -----  \n",
      " 0   client_id  24354 non-null  int64  \n",
      " 1   default    24354 non-null  float64\n",
      "dtypes: float64(1), int64(1)\n",
      "memory usage: 380.7 KB\n"
     ]
    }
   ],
   "source": [
    "sample_submission.info()"
   ]
  },
  {
   "cell_type": "code",
   "execution_count": 16,
   "id": "2ac0c35d",
   "metadata": {
    "execution": {
     "iopub.execute_input": "2021-07-14T15:53:32.071409Z",
     "iopub.status.busy": "2021-07-14T15:53:32.070167Z",
     "iopub.status.idle": "2021-07-14T15:53:32.135627Z",
     "shell.execute_reply": "2021-07-14T15:53:32.136154Z",
     "shell.execute_reply.started": "2021-07-14T15:41:35.364998Z"
    },
    "papermill": {
     "duration": 0.174569,
     "end_time": "2021-07-14T15:53:32.136327",
     "exception": false,
     "start_time": "2021-07-14T15:53:31.961758",
     "status": "completed"
    },
    "tags": []
   },
   "outputs": [],
   "source": [
    "# ВАЖНО! дря корректной обработки признаков объединяем трейн и тест в один датасет\n",
    "df_train['sample'] = 1 # помечаем где у нас трейн\n",
    "df_test['sample'] = 0 # помечаем где у нас тест\n",
    "df_test['default'] = 0 # в тесте у нас нет значения Default, мы его должны предсказать, по этому пока просто заполняем нулями\n",
    "\n",
    "data = df_test.append(df_train, sort=False).reset_index(drop=True) # объединяем"
   ]
  },
  {
   "cell_type": "code",
   "execution_count": 17,
   "id": "4c1dda5f",
   "metadata": {
    "execution": {
     "iopub.execute_input": "2021-07-14T15:53:32.337997Z",
     "iopub.status.busy": "2021-07-14T15:53:32.337274Z",
     "iopub.status.idle": "2021-07-14T15:53:32.420997Z",
     "shell.execute_reply": "2021-07-14T15:53:32.421592Z",
     "shell.execute_reply.started": "2021-07-14T15:41:35.872310Z"
    },
    "papermill": {
     "duration": 0.18547,
     "end_time": "2021-07-14T15:53:32.421803",
     "exception": false,
     "start_time": "2021-07-14T15:53:32.236333",
     "status": "completed"
    },
    "tags": []
   },
   "outputs": [
    {
     "name": "stdout",
     "output_type": "stream",
     "text": [
      "<class 'pandas.core.frame.DataFrame'>\n",
      "RangeIndex: 110148 entries, 0 to 110147\n",
      "Data columns (total 20 columns):\n",
      " #   Column            Non-Null Count   Dtype  \n",
      "---  ------            --------------   -----  \n",
      " 0   client_id         110148 non-null  int64  \n",
      " 1   app_date          110148 non-null  object \n",
      " 2   education         109670 non-null  object \n",
      " 3   sex               110148 non-null  object \n",
      " 4   age               110148 non-null  int64  \n",
      " 5   car               110148 non-null  object \n",
      " 6   car_type          110148 non-null  object \n",
      " 7   decline_app_cnt   110148 non-null  int64  \n",
      " 8   good_work         110148 non-null  int64  \n",
      " 9   score_bki         110148 non-null  float64\n",
      " 10  bki_request_cnt   110148 non-null  int64  \n",
      " 11  region_rating     110148 non-null  int64  \n",
      " 12  home_address      110148 non-null  int64  \n",
      " 13  work_address      110148 non-null  int64  \n",
      " 14  income            110148 non-null  int64  \n",
      " 15  sna               110148 non-null  int64  \n",
      " 16  first_time        110148 non-null  int64  \n",
      " 17  foreign_passport  110148 non-null  object \n",
      " 18  sample            110148 non-null  int64  \n",
      " 19  default           110148 non-null  int64  \n",
      "dtypes: float64(1), int64(13), object(6)\n",
      "memory usage: 16.8+ MB\n"
     ]
    }
   ],
   "source": [
    "data.info()"
   ]
  },
  {
   "cell_type": "markdown",
   "id": "833b0e85",
   "metadata": {
    "papermill": {
     "duration": 0.100051,
     "end_time": "2021-07-14T15:53:32.623170",
     "exception": false,
     "start_time": "2021-07-14T15:53:32.523119",
     "status": "completed"
    },
    "tags": []
   },
   "source": [
    "Значение признаков датасета\n",
    "\n",
    "Feature | Value\t| Type\n",
    "--------|-------|-----\n",
    "client_id|\tid клиента|\tЧисловой\n",
    "app_date|\tдата подачи заявки|\tВременной\n",
    "education|\tуровень образования\t|Категориальный\n",
    "sex|\tпол заёмщика|\tБинарный\n",
    "age\t|возраст заёмщика|\tЧисловой\n",
    "car\t|флаг наличия автомобиля |\tБинарный\n",
    "car_type |\tфлаг автомобиля-иномарки|\tБинарный\n",
    "decline_app_cnt\t|количество отказанных прошлых заявок|\tЧисловой\n",
    "good_work|\tфлаг наличия «хорошей» работы|\tБинарный\n",
    "score_bki|\tскоринговый балл по данным из БКИ|\tЧисловой\n",
    "bki_request_cnt|\tколичество запросов в БКИ|\tЧисловой\n",
    "region_rating|\tрейтинг региона|\tЧисловой\n",
    "home_address|\tкатегоризатор домашнего адреса |\tКатегориальный\n",
    "work_address|\tкатегоризатор рабочего адреса|\tКатегориальный\n",
    "income|\tдоход заёмщика\t|Числовой\n",
    "sna\t|связь заемщика с клиентами банка\t|Категориальный\n",
    "first_time\t|давность наличия информации о заемщике\t|Категориальный\n",
    "foreign_passport|\tналичие загранпаспорта|\tБинарный\n",
    "sample    |  маркер выборки  |Бинарный\n",
    "default\t|наличие дефолта (ЦЕЛЕВОЙ ПРИЗНАК)\t|Бинарный"
   ]
  },
  {
   "cell_type": "code",
   "execution_count": 18,
   "id": "45c26127",
   "metadata": {
    "execution": {
     "iopub.execute_input": "2021-07-14T15:53:32.878068Z",
     "iopub.status.busy": "2021-07-14T15:53:32.877356Z",
     "iopub.status.idle": "2021-07-14T15:53:32.881605Z",
     "shell.execute_reply": "2021-07-14T15:53:32.880961Z",
     "shell.execute_reply.started": "2021-07-14T15:41:36.837419Z"
    },
    "papermill": {
     "duration": 0.159792,
     "end_time": "2021-07-14T15:53:32.881806",
     "exception": false,
     "start_time": "2021-07-14T15:53:32.722014",
     "status": "completed"
    },
    "tags": []
   },
   "outputs": [],
   "source": [
    "#pandas_profiling.ProfileReport(data)"
   ]
  },
  {
   "cell_type": "markdown",
   "id": "1cfb2080",
   "metadata": {
    "papermill": {
     "duration": 0.102621,
     "end_time": "2021-07-14T15:53:33.085133",
     "exception": false,
     "start_time": "2021-07-14T15:53:32.982512",
     "status": "completed"
    },
    "tags": []
   },
   "source": [
    "Как видим, большинство признаков у нас требует очистки и предварительной обработки"
   ]
  },
  {
   "cell_type": "markdown",
   "id": "03904859",
   "metadata": {
    "papermill": {
     "duration": 0.100315,
     "end_time": "2021-07-14T15:53:33.289391",
     "exception": false,
     "start_time": "2021-07-14T15:53:33.189076",
     "status": "completed"
    },
    "tags": []
   },
   "source": [
    "## Предобработка и анализ данных EDA"
   ]
  },
  {
   "cell_type": "markdown",
   "id": "3cce1c97",
   "metadata": {
    "papermill": {
     "duration": 0.101596,
     "end_time": "2021-07-14T15:53:33.489692",
     "exception": false,
     "start_time": "2021-07-14T15:53:33.388096",
     "status": "completed"
    },
    "tags": []
   },
   "source": [
    "### Временной признак 'app_date'\n",
    "конвертируем данные признака 'app_date' в формат времени"
   ]
  },
  {
   "cell_type": "code",
   "execution_count": 19,
   "id": "360f4895",
   "metadata": {
    "execution": {
     "iopub.execute_input": "2021-07-14T15:53:33.693009Z",
     "iopub.status.busy": "2021-07-14T15:53:33.692320Z",
     "iopub.status.idle": "2021-07-14T15:53:59.222840Z",
     "shell.execute_reply": "2021-07-14T15:53:59.223347Z",
     "shell.execute_reply.started": "2021-07-14T15:41:38.839290Z"
    },
    "papermill": {
     "duration": 25.634037,
     "end_time": "2021-07-14T15:53:59.223568",
     "exception": false,
     "start_time": "2021-07-14T15:53:33.589531",
     "status": "completed"
    },
    "tags": []
   },
   "outputs": [],
   "source": [
    "data.app_date = data.app_date.apply(lambda x: pd.to_datetime(x) if x!=None else x)"
   ]
  },
  {
   "cell_type": "markdown",
   "id": "b7c675a1",
   "metadata": {
    "papermill": {
     "duration": 0.099861,
     "end_time": "2021-07-14T15:53:59.422352",
     "exception": false,
     "start_time": "2021-07-14T15:53:59.322491",
     "status": "completed"
    },
    "tags": []
   },
   "source": [
    "Сгенерируем несколько признаков для выявления зависимостей."
   ]
  },
  {
   "cell_type": "code",
   "execution_count": 20,
   "id": "02f6c0a5",
   "metadata": {
    "execution": {
     "iopub.execute_input": "2021-07-14T15:53:59.628323Z",
     "iopub.status.busy": "2021-07-14T15:53:59.627523Z",
     "iopub.status.idle": "2021-07-14T15:53:59.670418Z",
     "shell.execute_reply": "2021-07-14T15:53:59.669856Z",
     "shell.execute_reply.started": "2021-07-14T15:42:03.684149Z"
    },
    "papermill": {
     "duration": 0.14883,
     "end_time": "2021-07-14T15:53:59.670577",
     "exception": false,
     "start_time": "2021-07-14T15:53:59.521747",
     "status": "completed"
    },
    "tags": []
   },
   "outputs": [],
   "source": [
    "data['month'] = data.app_date.dt.month\n",
    "data['date'] = data.app_date.dt.day\n",
    "data['dayofweek'] = data.app_date.dt.dayofweek"
   ]
  },
  {
   "cell_type": "code",
   "execution_count": 21,
   "id": "f163ef6e",
   "metadata": {
    "execution": {
     "iopub.execute_input": "2021-07-14T15:53:59.876998Z",
     "iopub.status.busy": "2021-07-14T15:53:59.876300Z",
     "iopub.status.idle": "2021-07-14T15:53:59.910746Z",
     "shell.execute_reply": "2021-07-14T15:53:59.910148Z",
     "shell.execute_reply.started": "2021-07-14T15:42:03.730584Z"
    },
    "papermill": {
     "duration": 0.139867,
     "end_time": "2021-07-14T15:53:59.910887",
     "exception": false,
     "start_time": "2021-07-14T15:53:59.771020",
     "status": "completed"
    },
    "tags": []
   },
   "outputs": [],
   "source": [
    "data = data.drop(['app_date'], axis =1)  #удалим за ненадобностью"
   ]
  },
  {
   "cell_type": "markdown",
   "id": "d119c0d2",
   "metadata": {
    "papermill": {
     "duration": 0.105913,
     "end_time": "2021-07-14T15:54:00.122295",
     "exception": false,
     "start_time": "2021-07-14T15:54:00.016382",
     "status": "completed"
    },
    "tags": []
   },
   "source": [
    "## Числовые признаки"
   ]
  },
  {
   "cell_type": "code",
   "execution_count": 22,
   "id": "2d702b59",
   "metadata": {
    "execution": {
     "iopub.execute_input": "2021-07-14T15:54:00.336873Z",
     "iopub.status.busy": "2021-07-14T15:54:00.336147Z",
     "iopub.status.idle": "2021-07-14T15:54:00.338194Z",
     "shell.execute_reply": "2021-07-14T15:54:00.338675Z",
     "shell.execute_reply.started": "2021-07-14T15:42:03.761457Z"
    },
    "papermill": {
     "duration": 0.114307,
     "end_time": "2021-07-14T15:54:00.338862",
     "exception": false,
     "start_time": "2021-07-14T15:54:00.224555",
     "status": "completed"
    },
    "tags": []
   },
   "outputs": [],
   "source": [
    "num_cols = ['age', 'decline_app_cnt', 'bki_request_cnt',\n",
    "           'income', 'score_bki', 'region_rating'] #Числовые данные */ без client_id"
   ]
  },
  {
   "cell_type": "markdown",
   "id": "850ac2f7",
   "metadata": {
    "execution": {
     "iopub.execute_input": "2021-07-13T14:37:56.998888Z",
     "iopub.status.busy": "2021-07-13T14:37:56.998534Z",
     "iopub.status.idle": "2021-07-13T14:37:57.0021Z",
     "shell.execute_reply": "2021-07-13T14:37:57.001314Z",
     "shell.execute_reply.started": "2021-07-13T14:37:56.998859Z"
    },
    "papermill": {
     "duration": 0.099215,
     "end_time": "2021-07-14T15:54:00.543571",
     "exception": false,
     "start_time": "2021-07-14T15:54:00.444356",
     "status": "completed"
    },
    "tags": []
   },
   "source": [
    "### Признак 'age'"
   ]
  },
  {
   "cell_type": "markdown",
   "id": "75fe2971",
   "metadata": {
    "papermill": {
     "duration": 0.100116,
     "end_time": "2021-07-14T15:54:00.744867",
     "exception": false,
     "start_time": "2021-07-14T15:54:00.644751",
     "status": "completed"
    },
    "tags": []
   },
   "source": [
    "\n",
    "Распределение возрастов в категориях плательщиков и неплательщиков"
   ]
  },
  {
   "cell_type": "code",
   "execution_count": 23,
   "id": "71d00394",
   "metadata": {
    "execution": {
     "iopub.execute_input": "2021-07-14T15:54:00.947888Z",
     "iopub.status.busy": "2021-07-14T15:54:00.947192Z",
     "iopub.status.idle": "2021-07-14T15:54:01.320997Z",
     "shell.execute_reply": "2021-07-14T15:54:01.320321Z",
     "shell.execute_reply.started": "2021-07-14T15:42:03.768081Z"
    },
    "papermill": {
     "duration": 0.477571,
     "end_time": "2021-07-14T15:54:01.321142",
     "exception": false,
     "start_time": "2021-07-14T15:54:00.843571",
     "status": "completed"
    },
    "tags": []
   },
   "outputs": [
    {
     "data": {
      "image/png": "[encoded data removed]",
      "text/plain": [
       "<Figure size 432x288 with 1 Axes>"
      ]
     },
     "metadata": {
      "needs_background": "light"
     },
     "output_type": "display_data"
    }
   ],
   "source": [
    "hist_plot('age')"
   ]
  },
  {
   "cell_type": "code",
   "execution_count": 24,
   "id": "aca17115",
   "metadata": {
    "execution": {
     "iopub.execute_input": "2021-07-14T15:54:01.530874Z",
     "iopub.status.busy": "2021-07-14T15:54:01.530185Z",
     "iopub.status.idle": "2021-07-14T15:54:01.693235Z",
     "shell.execute_reply": "2021-07-14T15:54:01.692542Z",
     "shell.execute_reply.started": "2021-07-14T15:42:04.076707Z"
    },
    "papermill": {
     "duration": 0.271249,
     "end_time": "2021-07-14T15:54:01.693403",
     "exception": false,
     "start_time": "2021-07-14T15:54:01.422154",
     "status": "completed"
    },
    "tags": []
   },
   "outputs": [
    {
     "data": {
      "text/plain": [
       "<AxesSubplot:xlabel='default', ylabel='age'>"
      ]
     },
     "execution_count": 24,
     "metadata": {},
     "output_type": "execute_result"
    },
    {
     "data": {
      "image/png": "[encoded data removed]",
      "text/plain": [
       "<Figure size 432x288 with 1 Axes>"
      ]
     },
     "metadata": {
      "needs_background": "light"
     },
     "output_type": "display_data"
    }
   ],
   "source": [
    "sns.boxplot(x='default', y='age',  data=data, palette={0: \"blue\", 1: \"red\"})"
   ]
  },
  {
   "cell_type": "code",
   "execution_count": 25,
   "id": "d5a3823e",
   "metadata": {
    "execution": {
     "iopub.execute_input": "2021-07-14T15:54:01.903297Z",
     "iopub.status.busy": "2021-07-14T15:54:01.902197Z",
     "iopub.status.idle": "2021-07-14T15:54:01.935755Z",
     "shell.execute_reply": "2021-07-14T15:54:01.935147Z",
     "shell.execute_reply.started": "2021-07-14T15:42:04.239811Z"
    },
    "papermill": {
     "duration": 0.14178,
     "end_time": "2021-07-14T15:54:01.935900",
     "exception": false,
     "start_time": "2021-07-14T15:54:01.794120",
     "status": "completed"
    },
    "tags": []
   },
   "outputs": [
    {
     "data": {
      "text/html": [
       "<div>\n",
       "<style scoped>\n",
       "    .dataframe tbody tr th:only-of-type {\n",
       "        vertical-align: middle;\n",
       "    }\n",
       "\n",
       "    .dataframe tbody tr th {\n",
       "        vertical-align: top;\n",
       "    }\n",
       "\n",
       "    .dataframe thead th {\n",
       "        text-align: right;\n",
       "    }\n",
       "</style>\n",
       "<table border=\"1\" class=\"dataframe\">\n",
       "  <thead>\n",
       "    <tr style=\"text-align: right;\">\n",
       "      <th></th>\n",
       "      <th>count</th>\n",
       "      <th>mean</th>\n",
       "      <th>std</th>\n",
       "      <th>min</th>\n",
       "      <th>25%</th>\n",
       "      <th>50%</th>\n",
       "      <th>75%</th>\n",
       "      <th>max</th>\n",
       "    </tr>\n",
       "    <tr>\n",
       "      <th>default</th>\n",
       "      <th></th>\n",
       "      <th></th>\n",
       "      <th></th>\n",
       "      <th></th>\n",
       "      <th></th>\n",
       "      <th></th>\n",
       "      <th></th>\n",
       "      <th></th>\n",
       "    </tr>\n",
       "  </thead>\n",
       "  <tbody>\n",
       "    <tr>\n",
       "      <th>0</th>\n",
       "      <td>100776.0</td>\n",
       "      <td>39.316742</td>\n",
       "      <td>11.517875</td>\n",
       "      <td>21.0</td>\n",
       "      <td>30.0</td>\n",
       "      <td>37.0</td>\n",
       "      <td>48.0</td>\n",
       "      <td>72.0</td>\n",
       "    </tr>\n",
       "    <tr>\n",
       "      <th>1</th>\n",
       "      <td>9372.0</td>\n",
       "      <td>38.525395</td>\n",
       "      <td>11.495797</td>\n",
       "      <td>21.0</td>\n",
       "      <td>29.0</td>\n",
       "      <td>36.0</td>\n",
       "      <td>47.0</td>\n",
       "      <td>72.0</td>\n",
       "    </tr>\n",
       "  </tbody>\n",
       "</table>\n",
       "</div>"
      ],
      "text/plain": [
       "            count       mean        std   min   25%   50%   75%   max\n",
       "default                                                              \n",
       "0        100776.0  39.316742  11.517875  21.0  30.0  37.0  48.0  72.0\n",
       "1          9372.0  38.525395  11.495797  21.0  29.0  36.0  47.0  72.0"
      ]
     },
     "execution_count": 25,
     "metadata": {},
     "output_type": "execute_result"
    }
   ],
   "source": [
    "data.groupby(data['default'])['age'].describe()"
   ]
  },
  {
   "cell_type": "markdown",
   "id": "f8287162",
   "metadata": {
    "papermill": {
     "duration": 0.101943,
     "end_time": "2021-07-14T15:54:02.144069",
     "exception": false,
     "start_time": "2021-07-14T15:54:02.042126",
     "status": "completed"
    },
    "tags": []
   },
   "source": [
    "### Признак 'decline_app_cnt'"
   ]
  },
  {
   "cell_type": "code",
   "execution_count": 26,
   "id": "dafec99d",
   "metadata": {
    "execution": {
     "iopub.execute_input": "2021-07-14T15:54:02.364486Z",
     "iopub.status.busy": "2021-07-14T15:54:02.363350Z",
     "iopub.status.idle": "2021-07-14T15:54:02.723614Z",
     "shell.execute_reply": "2021-07-14T15:54:02.722913Z",
     "shell.execute_reply.started": "2021-07-14T15:42:04.276799Z"
    },
    "papermill": {
     "duration": 0.477878,
     "end_time": "2021-07-14T15:54:02.723764",
     "exception": false,
     "start_time": "2021-07-14T15:54:02.245886",
     "status": "completed"
    },
    "tags": []
   },
   "outputs": [
    {
     "data": {
      "image/png": "[encoded data removed]",
      "text/plain": [
       "<Figure size 432x288 with 1 Axes>"
      ]
     },
     "metadata": {
      "needs_background": "light"
     },
     "output_type": "display_data"
    }
   ],
   "source": [
    "hist_plot('decline_app_cnt')"
   ]
  },
  {
   "cell_type": "code",
   "execution_count": 27,
   "id": "dc317261",
   "metadata": {
    "execution": {
     "iopub.execute_input": "2021-07-14T15:54:02.937633Z",
     "iopub.status.busy": "2021-07-14T15:54:02.936542Z",
     "iopub.status.idle": "2021-07-14T15:54:03.168062Z",
     "shell.execute_reply": "2021-07-14T15:54:03.167501Z",
     "shell.execute_reply.started": "2021-07-14T15:42:04.624058Z"
    },
    "papermill": {
     "duration": 0.340627,
     "end_time": "2021-07-14T15:54:03.168212",
     "exception": false,
     "start_time": "2021-07-14T15:54:02.827585",
     "status": "completed"
    },
    "tags": []
   },
   "outputs": [
    {
     "data": {
      "text/plain": [
       "<AxesSubplot:xlabel='default', ylabel='decline_app_cnt'>"
      ]
     },
     "execution_count": 27,
     "metadata": {},
     "output_type": "execute_result"
    },
    {
     "data": {
      "image/png": "[encoded data removed]",
      "text/plain": [
       "<Figure size 432x288 with 1 Axes>"
      ]
     },
     "metadata": {
      "needs_background": "light"
     },
     "output_type": "display_data"
    }
   ],
   "source": [
    "sns.boxplot(x='default', y='decline_app_cnt',  data=data, palette={0: \"blue\", 1: \"red\"})"
   ]
  },
  {
   "cell_type": "markdown",
   "id": "ed158875",
   "metadata": {
    "papermill": {
     "duration": 0.103806,
     "end_time": "2021-07-14T15:54:03.377849",
     "exception": false,
     "start_time": "2021-07-14T15:54:03.274043",
     "status": "completed"
    },
    "tags": []
   },
   "source": [
    "\n",
    "Распределение по количеству отказов в кредите в категориях плательщиков и неплательщиков"
   ]
  },
  {
   "cell_type": "code",
   "execution_count": 28,
   "id": "b98ee6cc",
   "metadata": {
    "execution": {
     "iopub.execute_input": "2021-07-14T15:54:03.591652Z",
     "iopub.status.busy": "2021-07-14T15:54:03.590909Z",
     "iopub.status.idle": "2021-07-14T15:54:03.620740Z",
     "shell.execute_reply": "2021-07-14T15:54:03.620195Z",
     "shell.execute_reply.started": "2021-07-14T15:42:04.861592Z"
    },
    "papermill": {
     "duration": 0.137716,
     "end_time": "2021-07-14T15:54:03.620894",
     "exception": false,
     "start_time": "2021-07-14T15:54:03.483178",
     "status": "completed"
    },
    "tags": []
   },
   "outputs": [
    {
     "data": {
      "text/html": [
       "<div>\n",
       "<style scoped>\n",
       "    .dataframe tbody tr th:only-of-type {\n",
       "        vertical-align: middle;\n",
       "    }\n",
       "\n",
       "    .dataframe tbody tr th {\n",
       "        vertical-align: top;\n",
       "    }\n",
       "\n",
       "    .dataframe thead th {\n",
       "        text-align: right;\n",
       "    }\n",
       "</style>\n",
       "<table border=\"1\" class=\"dataframe\">\n",
       "  <thead>\n",
       "    <tr style=\"text-align: right;\">\n",
       "      <th></th>\n",
       "      <th>count</th>\n",
       "      <th>mean</th>\n",
       "      <th>std</th>\n",
       "      <th>min</th>\n",
       "      <th>25%</th>\n",
       "      <th>50%</th>\n",
       "      <th>75%</th>\n",
       "      <th>max</th>\n",
       "    </tr>\n",
       "    <tr>\n",
       "      <th>default</th>\n",
       "      <th></th>\n",
       "      <th></th>\n",
       "      <th></th>\n",
       "      <th></th>\n",
       "      <th></th>\n",
       "      <th></th>\n",
       "      <th></th>\n",
       "      <th></th>\n",
       "    </tr>\n",
       "  </thead>\n",
       "  <tbody>\n",
       "    <tr>\n",
       "      <th>0</th>\n",
       "      <td>100776.0</td>\n",
       "      <td>0.250675</td>\n",
       "      <td>0.756137</td>\n",
       "      <td>0.0</td>\n",
       "      <td>0.0</td>\n",
       "      <td>0.0</td>\n",
       "      <td>0.0</td>\n",
       "      <td>33.0</td>\n",
       "    </tr>\n",
       "    <tr>\n",
       "      <th>1</th>\n",
       "      <td>9372.0</td>\n",
       "      <td>0.515472</td>\n",
       "      <td>1.137104</td>\n",
       "      <td>0.0</td>\n",
       "      <td>0.0</td>\n",
       "      <td>0.0</td>\n",
       "      <td>1.0</td>\n",
       "      <td>22.0</td>\n",
       "    </tr>\n",
       "  </tbody>\n",
       "</table>\n",
       "</div>"
      ],
      "text/plain": [
       "            count      mean       std  min  25%  50%  75%   max\n",
       "default                                                        \n",
       "0        100776.0  0.250675  0.756137  0.0  0.0  0.0  0.0  33.0\n",
       "1          9372.0  0.515472  1.137104  0.0  0.0  0.0  1.0  22.0"
      ]
     },
     "execution_count": 28,
     "metadata": {},
     "output_type": "execute_result"
    }
   ],
   "source": [
    "\n",
    "data.groupby(data['default'])['decline_app_cnt'].describe()\n"
   ]
  },
  {
   "cell_type": "code",
   "execution_count": 29,
   "id": "2fa35dff",
   "metadata": {
    "execution": {
     "iopub.execute_input": "2021-07-14T15:54:03.837069Z",
     "iopub.status.busy": "2021-07-14T15:54:03.836071Z",
     "iopub.status.idle": "2021-07-14T15:54:03.842216Z",
     "shell.execute_reply": "2021-07-14T15:54:03.842855Z",
     "shell.execute_reply.started": "2021-07-14T15:42:04.894699Z"
    },
    "papermill": {
     "duration": 0.117117,
     "end_time": "2021-07-14T15:54:03.843030",
     "exception": false,
     "start_time": "2021-07-14T15:54:03.725913",
     "status": "completed"
    },
    "tags": []
   },
   "outputs": [
    {
     "name": "stdout",
     "output_type": "stream",
     "text": [
      "часть строк с '0' значением  в признаке 'decline_app_cnt' составляет 83.04% от общего числа.\n"
     ]
    }
   ],
   "source": [
    "part = data.decline_app_cnt.value_counts()[0] #наибольшее количество строк с одним значением\n",
    "gen = data.shape[0] #общее количество строк\n",
    "\n",
    "print(\"часть строк с '0' значением  в признаке 'decline_app_cnt' составляет {:.2f}% от общего числа.\".format(part/gen*100))\n"
   ]
  },
  {
   "cell_type": "markdown",
   "id": "fda45d8f",
   "metadata": {
    "papermill": {
     "duration": 0.107625,
     "end_time": "2021-07-14T15:54:04.055154",
     "exception": false,
     "start_time": "2021-07-14T15:54:03.947529",
     "status": "completed"
    },
    "tags": []
   },
   "source": [
    "#### исходя из данных в признаке, где 83% тех, кто не имел отказа, а абсллютное большинство из остальных 17% имеют только 1 отказ в получении кредита, заменим признак на бинарный, где 0- отказов не было, а 1-отказы были. "
   ]
  },
  {
   "cell_type": "code",
   "execution_count": 30,
   "id": "61730c51",
   "metadata": {
    "execution": {
     "iopub.execute_input": "2021-07-14T15:54:04.273082Z",
     "iopub.status.busy": "2021-07-14T15:54:04.272363Z",
     "iopub.status.idle": "2021-07-14T15:54:04.345710Z",
     "shell.execute_reply": "2021-07-14T15:54:04.346299Z",
     "shell.execute_reply.started": "2021-07-14T15:42:04.904996Z"
    },
    "papermill": {
     "duration": 0.180942,
     "end_time": "2021-07-14T15:54:04.346499",
     "exception": false,
     "start_time": "2021-07-14T15:54:04.165557",
     "status": "completed"
    },
    "tags": []
   },
   "outputs": [],
   "source": [
    "data['decline_app_cnt'] = data['decline_app_cnt'].apply(lambda x: 1 if x >= 1 else 0)"
   ]
  },
  {
   "cell_type": "code",
   "execution_count": 31,
   "id": "ba72baf4",
   "metadata": {
    "execution": {
     "iopub.execute_input": "2021-07-14T15:54:04.562598Z",
     "iopub.status.busy": "2021-07-14T15:54:04.561850Z",
     "iopub.status.idle": "2021-07-14T15:54:04.569913Z",
     "shell.execute_reply": "2021-07-14T15:54:04.570447Z",
     "shell.execute_reply.started": "2021-07-14T15:42:04.993333Z"
    },
    "papermill": {
     "duration": 0.116213,
     "end_time": "2021-07-14T15:54:04.570654",
     "exception": false,
     "start_time": "2021-07-14T15:54:04.454441",
     "status": "completed"
    },
    "tags": []
   },
   "outputs": [
    {
     "data": {
      "text/plain": [
       "0    91471\n",
       "1    18677\n",
       "Name: decline_app_cnt, dtype: int64"
      ]
     },
     "execution_count": 31,
     "metadata": {},
     "output_type": "execute_result"
    }
   ],
   "source": [
    "data.decline_app_cnt.value_counts() #Проверка"
   ]
  },
  {
   "cell_type": "markdown",
   "id": "783791ba",
   "metadata": {
    "papermill": {
     "duration": 0.105413,
     "end_time": "2021-07-14T15:54:04.783230",
     "exception": false,
     "start_time": "2021-07-14T15:54:04.677817",
     "status": "completed"
    },
    "tags": []
   },
   "source": [
    "запишем этот признак в бинарный и уберем из числового"
   ]
  },
  {
   "cell_type": "code",
   "execution_count": 32,
   "id": "92920c30",
   "metadata": {
    "execution": {
     "iopub.execute_input": "2021-07-14T15:54:04.999154Z",
     "iopub.status.busy": "2021-07-14T15:54:04.998432Z",
     "iopub.status.idle": "2021-07-14T15:54:05.004110Z",
     "shell.execute_reply": "2021-07-14T15:54:05.004822Z",
     "shell.execute_reply.started": "2021-07-14T15:42:05.006889Z"
    },
    "papermill": {
     "duration": 0.116167,
     "end_time": "2021-07-14T15:54:05.005039",
     "exception": false,
     "start_time": "2021-07-14T15:54:04.888872",
     "status": "completed"
    },
    "tags": []
   },
   "outputs": [
    {
     "data": {
      "text/plain": [
       "['age', 'bki_request_cnt', 'income', 'score_bki', 'region_rating']"
      ]
     },
     "execution_count": 32,
     "metadata": {},
     "output_type": "execute_result"
    }
   ],
   "source": [
    "num_cols.remove('decline_app_cnt')\n",
    "num_cols #Проверка"
   ]
  },
  {
   "cell_type": "markdown",
   "id": "9b015d8c",
   "metadata": {
    "papermill": {
     "duration": 0.105649,
     "end_time": "2021-07-14T15:54:05.217885",
     "exception": false,
     "start_time": "2021-07-14T15:54:05.112236",
     "status": "completed"
    },
    "tags": []
   },
   "source": [
    "### Признак 'bki_request_cnt'"
   ]
  },
  {
   "cell_type": "code",
   "execution_count": 33,
   "id": "90e9a0d9",
   "metadata": {
    "execution": {
     "iopub.execute_input": "2021-07-14T15:54:05.431721Z",
     "iopub.status.busy": "2021-07-14T15:54:05.430946Z",
     "iopub.status.idle": "2021-07-14T15:54:05.764726Z",
     "shell.execute_reply": "2021-07-14T15:54:05.765192Z",
     "shell.execute_reply.started": "2021-07-14T15:42:05.020227Z"
    },
    "papermill": {
     "duration": 0.441789,
     "end_time": "2021-07-14T15:54:05.765401",
     "exception": false,
     "start_time": "2021-07-14T15:54:05.323612",
     "status": "completed"
    },
    "tags": []
   },
   "outputs": [
    {
     "data": {
      "image/png": "[encoded data removed]",
      "text/plain": [
       "<Figure size 432x288 with 1 Axes>"
      ]
     },
     "metadata": {
      "needs_background": "light"
     },
     "output_type": "display_data"
    }
   ],
   "source": [
    "hist_plot('bki_request_cnt')"
   ]
  },
  {
   "cell_type": "code",
   "execution_count": 34,
   "id": "e9e0fa6f",
   "metadata": {
    "execution": {
     "iopub.execute_input": "2021-07-14T15:54:05.987543Z",
     "iopub.status.busy": "2021-07-14T15:54:05.986819Z",
     "iopub.status.idle": "2021-07-14T15:54:06.171861Z",
     "shell.execute_reply": "2021-07-14T15:54:06.171310Z",
     "shell.execute_reply.started": "2021-07-14T15:42:05.359489Z"
    },
    "papermill": {
     "duration": 0.296025,
     "end_time": "2021-07-14T15:54:06.172010",
     "exception": false,
     "start_time": "2021-07-14T15:54:05.875985",
     "status": "completed"
    },
    "tags": []
   },
   "outputs": [
    {
     "data": {
      "text/plain": [
       "<AxesSubplot:xlabel='default', ylabel='bki_request_cnt'>"
      ]
     },
     "execution_count": 34,
     "metadata": {},
     "output_type": "execute_result"
    },
    {
     "data": {
      "image/png": "[encoded data removed]",
      "text/plain": [
       "<Figure size 432x288 with 1 Axes>"
      ]
     },
     "metadata": {
      "needs_background": "light"
     },
     "output_type": "display_data"
    }
   ],
   "source": [
    "sns.boxplot(x='default', y='bki_request_cnt',  data=data, palette={0: \"blue\", 1: \"red\"})"
   ]
  },
  {
   "cell_type": "markdown",
   "id": "8c9ba44b",
   "metadata": {
    "papermill": {
     "duration": 0.114574,
     "end_time": "2021-07-14T15:54:06.394136",
     "exception": false,
     "start_time": "2021-07-14T15:54:06.279562",
     "status": "completed"
    },
    "tags": []
   },
   "source": [
    "##### Распределение по количеству запросов в БКИ  в категориях плательщиков и неплательщиков"
   ]
  },
  {
   "cell_type": "code",
   "execution_count": 35,
   "id": "42664dee",
   "metadata": {
    "execution": {
     "iopub.execute_input": "2021-07-14T15:54:06.616451Z",
     "iopub.status.busy": "2021-07-14T15:54:06.615731Z",
     "iopub.status.idle": "2021-07-14T15:54:06.645986Z",
     "shell.execute_reply": "2021-07-14T15:54:06.645191Z",
     "shell.execute_reply.started": "2021-07-14T15:42:05.533937Z"
    },
    "papermill": {
     "duration": 0.141952,
     "end_time": "2021-07-14T15:54:06.646144",
     "exception": false,
     "start_time": "2021-07-14T15:54:06.504192",
     "status": "completed"
    },
    "tags": []
   },
   "outputs": [
    {
     "data": {
      "text/html": [
       "<div>\n",
       "<style scoped>\n",
       "    .dataframe tbody tr th:only-of-type {\n",
       "        vertical-align: middle;\n",
       "    }\n",
       "\n",
       "    .dataframe tbody tr th {\n",
       "        vertical-align: top;\n",
       "    }\n",
       "\n",
       "    .dataframe thead th {\n",
       "        text-align: right;\n",
       "    }\n",
       "</style>\n",
       "<table border=\"1\" class=\"dataframe\">\n",
       "  <thead>\n",
       "    <tr style=\"text-align: right;\">\n",
       "      <th></th>\n",
       "      <th>count</th>\n",
       "      <th>mean</th>\n",
       "      <th>std</th>\n",
       "      <th>min</th>\n",
       "      <th>25%</th>\n",
       "      <th>50%</th>\n",
       "      <th>75%</th>\n",
       "      <th>max</th>\n",
       "    </tr>\n",
       "    <tr>\n",
       "      <th>default</th>\n",
       "      <th></th>\n",
       "      <th></th>\n",
       "      <th></th>\n",
       "      <th></th>\n",
       "      <th></th>\n",
       "      <th></th>\n",
       "      <th></th>\n",
       "      <th></th>\n",
       "    </tr>\n",
       "  </thead>\n",
       "  <tbody>\n",
       "    <tr>\n",
       "      <th>0</th>\n",
       "      <td>100776.0</td>\n",
       "      <td>1.962471</td>\n",
       "      <td>2.214528</td>\n",
       "      <td>0.0</td>\n",
       "      <td>0.0</td>\n",
       "      <td>1.0</td>\n",
       "      <td>3.0</td>\n",
       "      <td>53.0</td>\n",
       "    </tr>\n",
       "    <tr>\n",
       "      <th>1</th>\n",
       "      <td>9372.0</td>\n",
       "      <td>2.462335</td>\n",
       "      <td>2.726922</td>\n",
       "      <td>0.0</td>\n",
       "      <td>1.0</td>\n",
       "      <td>2.0</td>\n",
       "      <td>3.0</td>\n",
       "      <td>46.0</td>\n",
       "    </tr>\n",
       "  </tbody>\n",
       "</table>\n",
       "</div>"
      ],
      "text/plain": [
       "            count      mean       std  min  25%  50%  75%   max\n",
       "default                                                        \n",
       "0        100776.0  1.962471  2.214528  0.0  0.0  1.0  3.0  53.0\n",
       "1          9372.0  2.462335  2.726922  0.0  1.0  2.0  3.0  46.0"
      ]
     },
     "execution_count": 35,
     "metadata": {},
     "output_type": "execute_result"
    }
   ],
   "source": [
    "data.groupby(data['default'])['bki_request_cnt'].describe()"
   ]
  },
  {
   "cell_type": "markdown",
   "id": "f1402d59",
   "metadata": {
    "papermill": {
     "duration": 0.107845,
     "end_time": "2021-07-14T15:54:06.864148",
     "exception": false,
     "start_time": "2021-07-14T15:54:06.756303",
     "status": "completed"
    },
    "tags": []
   },
   "source": [
    "### Признак 'income'"
   ]
  },
  {
   "cell_type": "code",
   "execution_count": 36,
   "id": "e7906206",
   "metadata": {
    "execution": {
     "iopub.execute_input": "2021-07-14T15:54:07.090416Z",
     "iopub.status.busy": "2021-07-14T15:54:07.089721Z",
     "iopub.status.idle": "2021-07-14T15:54:07.429138Z",
     "shell.execute_reply": "2021-07-14T15:54:07.428581Z",
     "shell.execute_reply.started": "2021-07-14T15:42:05.568241Z"
    },
    "papermill": {
     "duration": 0.457191,
     "end_time": "2021-07-14T15:54:07.429278",
     "exception": false,
     "start_time": "2021-07-14T15:54:06.972087",
     "status": "completed"
    },
    "tags": []
   },
   "outputs": [
    {
     "data": {
      "image/png": "[encoded data removed]",
      "text/plain": [
       "<Figure size 432x288 with 1 Axes>"
      ]
     },
     "metadata": {
      "needs_background": "light"
     },
     "output_type": "display_data"
    }
   ],
   "source": [
    "hist_plot('income')"
   ]
  },
  {
   "cell_type": "code",
   "execution_count": 37,
   "id": "f56c0285",
   "metadata": {
    "execution": {
     "iopub.execute_input": "2021-07-14T15:54:07.652159Z",
     "iopub.status.busy": "2021-07-14T15:54:07.651510Z",
     "iopub.status.idle": "2021-07-14T15:54:07.844819Z",
     "shell.execute_reply": "2021-07-14T15:54:07.844111Z",
     "shell.execute_reply.started": "2021-07-14T15:42:05.913430Z"
    },
    "papermill": {
     "duration": 0.307283,
     "end_time": "2021-07-14T15:54:07.844970",
     "exception": false,
     "start_time": "2021-07-14T15:54:07.537687",
     "status": "completed"
    },
    "tags": []
   },
   "outputs": [
    {
     "data": {
      "text/plain": [
       "<AxesSubplot:xlabel='default', ylabel='income'>"
      ]
     },
     "execution_count": 37,
     "metadata": {},
     "output_type": "execute_result"
    },
    {
     "data": {
      "image/png": "[encoded data removed]",
      "text/plain": [
       "<Figure size 432x288 with 1 Axes>"
      ]
     },
     "metadata": {
      "needs_background": "light"
     },
     "output_type": "display_data"
    }
   ],
   "source": [
    "sns.boxplot(x='default', y='income',  data=data, palette={0: \"blue\", 1: \"red\"})"
   ]
  },
  {
   "cell_type": "markdown",
   "id": "ede0cfc5",
   "metadata": {
    "papermill": {
     "duration": 0.112039,
     "end_time": "2021-07-14T15:54:08.067594",
     "exception": false,
     "start_time": "2021-07-14T15:54:07.955555",
     "status": "completed"
    },
    "tags": []
   },
   "source": [
    "##### Распределение по доходам в категориях плательщиков и неплательщиков"
   ]
  },
  {
   "cell_type": "code",
   "execution_count": 38,
   "id": "7bf1f69a",
   "metadata": {
    "execution": {
     "iopub.execute_input": "2021-07-14T15:54:08.295319Z",
     "iopub.status.busy": "2021-07-14T15:54:08.294601Z",
     "iopub.status.idle": "2021-07-14T15:54:08.324053Z",
     "shell.execute_reply": "2021-07-14T15:54:08.323511Z",
     "shell.execute_reply.started": "2021-07-14T15:42:06.128268Z"
    },
    "papermill": {
     "duration": 0.145682,
     "end_time": "2021-07-14T15:54:08.324205",
     "exception": false,
     "start_time": "2021-07-14T15:54:08.178523",
     "status": "completed"
    },
    "tags": []
   },
   "outputs": [
    {
     "data": {
      "text/html": [
       "<div>\n",
       "<style scoped>\n",
       "    .dataframe tbody tr th:only-of-type {\n",
       "        vertical-align: middle;\n",
       "    }\n",
       "\n",
       "    .dataframe tbody tr th {\n",
       "        vertical-align: top;\n",
       "    }\n",
       "\n",
       "    .dataframe thead th {\n",
       "        text-align: right;\n",
       "    }\n",
       "</style>\n",
       "<table border=\"1\" class=\"dataframe\">\n",
       "  <thead>\n",
       "    <tr style=\"text-align: right;\">\n",
       "      <th></th>\n",
       "      <th>count</th>\n",
       "      <th>mean</th>\n",
       "      <th>std</th>\n",
       "      <th>min</th>\n",
       "      <th>25%</th>\n",
       "      <th>50%</th>\n",
       "      <th>75%</th>\n",
       "      <th>max</th>\n",
       "    </tr>\n",
       "    <tr>\n",
       "      <th>default</th>\n",
       "      <th></th>\n",
       "      <th></th>\n",
       "      <th></th>\n",
       "      <th></th>\n",
       "      <th></th>\n",
       "      <th></th>\n",
       "      <th></th>\n",
       "      <th></th>\n",
       "    </tr>\n",
       "  </thead>\n",
       "  <tbody>\n",
       "    <tr>\n",
       "      <th>0</th>\n",
       "      <td>100776.0</td>\n",
       "      <td>41452.022436</td>\n",
       "      <td>45842.903800</td>\n",
       "      <td>1000.0</td>\n",
       "      <td>20000.0</td>\n",
       "      <td>30000.0</td>\n",
       "      <td>50000.0</td>\n",
       "      <td>1000000.0</td>\n",
       "    </tr>\n",
       "    <tr>\n",
       "      <th>1</th>\n",
       "      <td>9372.0</td>\n",
       "      <td>36288.113316</td>\n",
       "      <td>40026.389614</td>\n",
       "      <td>3700.0</td>\n",
       "      <td>20000.0</td>\n",
       "      <td>28000.0</td>\n",
       "      <td>40000.0</td>\n",
       "      <td>830000.0</td>\n",
       "    </tr>\n",
       "  </tbody>\n",
       "</table>\n",
       "</div>"
      ],
      "text/plain": [
       "            count          mean           std     min      25%      50%  \\\n",
       "default                                                                   \n",
       "0        100776.0  41452.022436  45842.903800  1000.0  20000.0  30000.0   \n",
       "1          9372.0  36288.113316  40026.389614  3700.0  20000.0  28000.0   \n",
       "\n",
       "             75%        max  \n",
       "default                      \n",
       "0        50000.0  1000000.0  \n",
       "1        40000.0   830000.0  "
      ]
     },
     "execution_count": 38,
     "metadata": {},
     "output_type": "execute_result"
    }
   ],
   "source": [
    "data.groupby(data['default'])['income'].describe()"
   ]
  },
  {
   "cell_type": "markdown",
   "id": "f80bc687",
   "metadata": {
    "papermill": {
     "duration": 0.108811,
     "end_time": "2021-07-14T15:54:08.543685",
     "exception": false,
     "start_time": "2021-07-14T15:54:08.434874",
     "status": "completed"
    },
    "tags": []
   },
   "source": [
    "### Признак 'score_bki'"
   ]
  },
  {
   "cell_type": "code",
   "execution_count": 39,
   "id": "9e474e8b",
   "metadata": {
    "execution": {
     "iopub.execute_input": "2021-07-14T15:54:08.771451Z",
     "iopub.status.busy": "2021-07-14T15:54:08.770731Z",
     "iopub.status.idle": "2021-07-14T15:54:09.309590Z",
     "shell.execute_reply": "2021-07-14T15:54:09.310092Z",
     "shell.execute_reply.started": "2021-07-14T15:42:06.167938Z"
    },
    "papermill": {
     "duration": 0.654585,
     "end_time": "2021-07-14T15:54:09.310277",
     "exception": false,
     "start_time": "2021-07-14T15:54:08.655692",
     "status": "completed"
    },
    "tags": []
   },
   "outputs": [
    {
     "data": {
      "image/png": "[encoded data removed]",
      "text/plain": [
       "<Figure size 432x288 with 1 Axes>"
      ]
     },
     "metadata": {
      "needs_background": "light"
     },
     "output_type": "display_data"
    }
   ],
   "source": [
    "hist_plot('score_bki')"
   ]
  },
  {
   "cell_type": "code",
   "execution_count": 40,
   "id": "1f9baf5f",
   "metadata": {
    "execution": {
     "iopub.execute_input": "2021-07-14T15:54:09.534050Z",
     "iopub.status.busy": "2021-07-14T15:54:09.532997Z",
     "iopub.status.idle": "2021-07-14T15:54:09.708743Z",
     "shell.execute_reply": "2021-07-14T15:54:09.709224Z",
     "shell.execute_reply.started": "2021-07-14T15:42:06.837692Z"
    },
    "papermill": {
     "duration": 0.289038,
     "end_time": "2021-07-14T15:54:09.709425",
     "exception": false,
     "start_time": "2021-07-14T15:54:09.420387",
     "status": "completed"
    },
    "tags": []
   },
   "outputs": [
    {
     "data": {
      "text/plain": [
       "<AxesSubplot:xlabel='default', ylabel='score_bki'>"
      ]
     },
     "execution_count": 40,
     "metadata": {},
     "output_type": "execute_result"
    },
    {
     "data": {
      "image/png": "[encoded data removed]",
      "text/plain": [
       "<Figure size 432x288 with 1 Axes>"
      ]
     },
     "metadata": {
      "needs_background": "light"
     },
     "output_type": "display_data"
    }
   ],
   "source": [
    "sns.boxplot(x='default', y='score_bki',  data=data, palette={0: \"blue\", 1: \"red\"})"
   ]
  },
  {
   "cell_type": "markdown",
   "id": "7b44368e",
   "metadata": {
    "papermill": {
     "duration": 0.112522,
     "end_time": "2021-07-14T15:54:09.935943",
     "exception": false,
     "start_time": "2021-07-14T15:54:09.823421",
     "status": "completed"
    },
    "tags": []
   },
   "source": [
    "##### Распределение по оценкам БКИ в категориях плательщиков и неплательщиков"
   ]
  },
  {
   "cell_type": "code",
   "execution_count": 41,
   "id": "75e46b68",
   "metadata": {
    "execution": {
     "iopub.execute_input": "2021-07-14T15:54:10.169568Z",
     "iopub.status.busy": "2021-07-14T15:54:10.168888Z",
     "iopub.status.idle": "2021-07-14T15:54:10.199094Z",
     "shell.execute_reply": "2021-07-14T15:54:10.199591Z",
     "shell.execute_reply.started": "2021-07-14T15:42:07.021784Z"
    },
    "papermill": {
     "duration": 0.148374,
     "end_time": "2021-07-14T15:54:10.199833",
     "exception": false,
     "start_time": "2021-07-14T15:54:10.051459",
     "status": "completed"
    },
    "tags": []
   },
   "outputs": [
    {
     "data": {
      "text/html": [
       "<div>\n",
       "<style scoped>\n",
       "    .dataframe tbody tr th:only-of-type {\n",
       "        vertical-align: middle;\n",
       "    }\n",
       "\n",
       "    .dataframe tbody tr th {\n",
       "        vertical-align: top;\n",
       "    }\n",
       "\n",
       "    .dataframe thead th {\n",
       "        text-align: right;\n",
       "    }\n",
       "</style>\n",
       "<table border=\"1\" class=\"dataframe\">\n",
       "  <thead>\n",
       "    <tr style=\"text-align: right;\">\n",
       "      <th></th>\n",
       "      <th>count</th>\n",
       "      <th>mean</th>\n",
       "      <th>std</th>\n",
       "      <th>min</th>\n",
       "      <th>25%</th>\n",
       "      <th>50%</th>\n",
       "      <th>75%</th>\n",
       "      <th>max</th>\n",
       "    </tr>\n",
       "    <tr>\n",
       "      <th>default</th>\n",
       "      <th></th>\n",
       "      <th></th>\n",
       "      <th></th>\n",
       "      <th></th>\n",
       "      <th></th>\n",
       "      <th></th>\n",
       "      <th></th>\n",
       "      <th></th>\n",
       "    </tr>\n",
       "  </thead>\n",
       "  <tbody>\n",
       "    <tr>\n",
       "      <th>0</th>\n",
       "      <td>100776.0</td>\n",
       "      <td>-1.925822</td>\n",
       "      <td>0.494479</td>\n",
       "      <td>-3.624586</td>\n",
       "      <td>-2.275984</td>\n",
       "      <td>-1.943587</td>\n",
       "      <td>-1.593718</td>\n",
       "      <td>0.199773</td>\n",
       "    </tr>\n",
       "    <tr>\n",
       "      <th>1</th>\n",
       "      <td>9372.0</td>\n",
       "      <td>-1.675637</td>\n",
       "      <td>0.494691</td>\n",
       "      <td>-3.456086</td>\n",
       "      <td>-2.015871</td>\n",
       "      <td>-1.683857</td>\n",
       "      <td>-1.337922</td>\n",
       "      <td>0.199773</td>\n",
       "    </tr>\n",
       "  </tbody>\n",
       "</table>\n",
       "</div>"
      ],
      "text/plain": [
       "            count      mean       std       min       25%       50%       75%  \\\n",
       "default                                                                         \n",
       "0        100776.0 -1.925822  0.494479 -3.624586 -2.275984 -1.943587 -1.593718   \n",
       "1          9372.0 -1.675637  0.494691 -3.456086 -2.015871 -1.683857 -1.337922   \n",
       "\n",
       "              max  \n",
       "default            \n",
       "0        0.199773  \n",
       "1        0.199773  "
      ]
     },
     "execution_count": 41,
     "metadata": {},
     "output_type": "execute_result"
    }
   ],
   "source": [
    "data.groupby(data['default'])['score_bki'].describe()"
   ]
  },
  {
   "cell_type": "markdown",
   "id": "3ef926a3",
   "metadata": {
    "papermill": {
     "duration": 0.111188,
     "end_time": "2021-07-14T15:54:10.423763",
     "exception": false,
     "start_time": "2021-07-14T15:54:10.312575",
     "status": "completed"
    },
    "tags": []
   },
   "source": [
    "### Признак 'region_rating'"
   ]
  },
  {
   "cell_type": "code",
   "execution_count": 42,
   "id": "01d3e727",
   "metadata": {
    "execution": {
     "iopub.execute_input": "2021-07-14T15:54:10.651193Z",
     "iopub.status.busy": "2021-07-14T15:54:10.650548Z",
     "iopub.status.idle": "2021-07-14T15:54:11.003157Z",
     "shell.execute_reply": "2021-07-14T15:54:11.002476Z",
     "shell.execute_reply.started": "2021-07-14T15:42:07.055646Z"
    },
    "papermill": {
     "duration": 0.467532,
     "end_time": "2021-07-14T15:54:11.003323",
     "exception": false,
     "start_time": "2021-07-14T15:54:10.535791",
     "status": "completed"
    },
    "tags": []
   },
   "outputs": [
    {
     "data": {
      "image/png": "[encoded data removed]",
      "text/plain": [
       "<Figure size 432x288 with 1 Axes>"
      ]
     },
     "metadata": {
      "needs_background": "light"
     },
     "output_type": "display_data"
    }
   ],
   "source": [
    "hist_plot('region_rating')"
   ]
  },
  {
   "cell_type": "code",
   "execution_count": 43,
   "id": "b2083ee1",
   "metadata": {
    "execution": {
     "iopub.execute_input": "2021-07-14T15:54:11.236071Z",
     "iopub.status.busy": "2021-07-14T15:54:11.235327Z",
     "iopub.status.idle": "2021-07-14T15:54:11.472097Z",
     "shell.execute_reply": "2021-07-14T15:54:11.471576Z",
     "shell.execute_reply.started": "2021-07-14T15:42:07.421154Z"
    },
    "papermill": {
     "duration": 0.3546,
     "end_time": "2021-07-14T15:54:11.472242",
     "exception": false,
     "start_time": "2021-07-14T15:54:11.117642",
     "status": "completed"
    },
    "tags": []
   },
   "outputs": [
    {
     "data": {
      "text/plain": [
       "<AxesSubplot:xlabel='default', ylabel='region_rating'>"
      ]
     },
     "execution_count": 43,
     "metadata": {},
     "output_type": "execute_result"
    },
    {
     "data": {
      "image/png": "[encoded data removed]",
      "text/plain": [
       "<Figure size 432x288 with 1 Axes>"
      ]
     },
     "metadata": {
      "needs_background": "light"
     },
     "output_type": "display_data"
    }
   ],
   "source": [
    "sns.boxplot(x='default', y='region_rating',  data=data, palette={0: \"blue\", 1: \"red\"})"
   ]
  },
  {
   "cell_type": "markdown",
   "id": "49c6ba35",
   "metadata": {
    "papermill": {
     "duration": 0.115199,
     "end_time": "2021-07-14T15:54:11.705320",
     "exception": false,
     "start_time": "2021-07-14T15:54:11.590121",
     "status": "completed"
    },
    "tags": []
   },
   "source": [
    "##### Распределение по рейтингу регионов в категориях плательщиков и неплательщиков"
   ]
  },
  {
   "cell_type": "code",
   "execution_count": 44,
   "id": "07529a57",
   "metadata": {
    "execution": {
     "iopub.execute_input": "2021-07-14T15:54:11.941973Z",
     "iopub.status.busy": "2021-07-14T15:54:11.941278Z",
     "iopub.status.idle": "2021-07-14T15:54:11.971284Z",
     "shell.execute_reply": "2021-07-14T15:54:11.970637Z",
     "shell.execute_reply.started": "2021-07-14T15:42:07.690816Z"
    },
    "papermill": {
     "duration": 0.151564,
     "end_time": "2021-07-14T15:54:11.971454",
     "exception": false,
     "start_time": "2021-07-14T15:54:11.819890",
     "status": "completed"
    },
    "tags": []
   },
   "outputs": [
    {
     "data": {
      "text/html": [
       "<div>\n",
       "<style scoped>\n",
       "    .dataframe tbody tr th:only-of-type {\n",
       "        vertical-align: middle;\n",
       "    }\n",
       "\n",
       "    .dataframe tbody tr th {\n",
       "        vertical-align: top;\n",
       "    }\n",
       "\n",
       "    .dataframe thead th {\n",
       "        text-align: right;\n",
       "    }\n",
       "</style>\n",
       "<table border=\"1\" class=\"dataframe\">\n",
       "  <thead>\n",
       "    <tr style=\"text-align: right;\">\n",
       "      <th></th>\n",
       "      <th>count</th>\n",
       "      <th>mean</th>\n",
       "      <th>std</th>\n",
       "      <th>min</th>\n",
       "      <th>25%</th>\n",
       "      <th>50%</th>\n",
       "      <th>75%</th>\n",
       "      <th>max</th>\n",
       "    </tr>\n",
       "    <tr>\n",
       "      <th>default</th>\n",
       "      <th></th>\n",
       "      <th></th>\n",
       "      <th></th>\n",
       "      <th></th>\n",
       "      <th></th>\n",
       "      <th></th>\n",
       "      <th></th>\n",
       "      <th></th>\n",
       "    </tr>\n",
       "  </thead>\n",
       "  <tbody>\n",
       "    <tr>\n",
       "      <th>0</th>\n",
       "      <td>100776.0</td>\n",
       "      <td>57.036993</td>\n",
       "      <td>13.131114</td>\n",
       "      <td>20.0</td>\n",
       "      <td>50.0</td>\n",
       "      <td>50.0</td>\n",
       "      <td>60.0</td>\n",
       "      <td>80.0</td>\n",
       "    </tr>\n",
       "    <tr>\n",
       "      <th>1</th>\n",
       "      <td>9372.0</td>\n",
       "      <td>53.677977</td>\n",
       "      <td>11.918337</td>\n",
       "      <td>20.0</td>\n",
       "      <td>50.0</td>\n",
       "      <td>50.0</td>\n",
       "      <td>60.0</td>\n",
       "      <td>80.0</td>\n",
       "    </tr>\n",
       "  </tbody>\n",
       "</table>\n",
       "</div>"
      ],
      "text/plain": [
       "            count       mean        std   min   25%   50%   75%   max\n",
       "default                                                              \n",
       "0        100776.0  57.036993  13.131114  20.0  50.0  50.0  60.0  80.0\n",
       "1          9372.0  53.677977  11.918337  20.0  50.0  50.0  60.0  80.0"
      ]
     },
     "execution_count": 44,
     "metadata": {},
     "output_type": "execute_result"
    }
   ],
   "source": [
    "data.groupby(data['default'])['region_rating'].describe()"
   ]
  },
  {
   "cell_type": "markdown",
   "id": "07d68b38",
   "metadata": {
    "papermill": {
     "duration": 0.11453,
     "end_time": "2021-07-14T15:54:12.204066",
     "exception": false,
     "start_time": "2021-07-14T15:54:12.089536",
     "status": "completed"
    },
    "tags": []
   },
   "source": [
    "### Все числовые данные содержат выбросы и несбалансированы\n",
    "### для корректой работы скоринговой модели заменим выбросы на медианные значения по каждому признаку"
   ]
  },
  {
   "cell_type": "code",
   "execution_count": 45,
   "id": "73fa83a0",
   "metadata": {
    "execution": {
     "iopub.execute_input": "2021-07-14T15:54:12.441656Z",
     "iopub.status.busy": "2021-07-14T15:54:12.440985Z",
     "iopub.status.idle": "2021-07-14T15:54:13.250422Z",
     "shell.execute_reply": "2021-07-14T15:54:13.249758Z",
     "shell.execute_reply.started": "2021-07-14T15:42:07.726520Z"
    },
    "papermill": {
     "duration": 0.930875,
     "end_time": "2021-07-14T15:54:13.250573",
     "exception": false,
     "start_time": "2021-07-14T15:54:12.319698",
     "status": "completed"
    },
    "tags": []
   },
   "outputs": [],
   "source": [
    "for col in num_cols:\n",
    "    data[col] = subset_by_iqr(data, col, whisker_width=1.5)"
   ]
  },
  {
   "cell_type": "code",
   "execution_count": 46,
   "id": "af11c81f",
   "metadata": {
    "execution": {
     "iopub.execute_input": "2021-07-14T15:54:13.514211Z",
     "iopub.status.busy": "2021-07-14T15:54:13.513509Z",
     "iopub.status.idle": "2021-07-14T15:54:13.564520Z",
     "shell.execute_reply": "2021-07-14T15:54:13.563943Z",
     "shell.execute_reply.started": "2021-07-14T15:42:08.541859Z"
    },
    "papermill": {
     "duration": 0.18154,
     "end_time": "2021-07-14T15:54:13.564668",
     "exception": false,
     "start_time": "2021-07-14T15:54:13.383128",
     "status": "completed"
    },
    "tags": []
   },
   "outputs": [
    {
     "data": {
      "text/html": [
       "<div>\n",
       "<style scoped>\n",
       "    .dataframe tbody tr th:only-of-type {\n",
       "        vertical-align: middle;\n",
       "    }\n",
       "\n",
       "    .dataframe tbody tr th {\n",
       "        vertical-align: top;\n",
       "    }\n",
       "\n",
       "    .dataframe thead th {\n",
       "        text-align: right;\n",
       "    }\n",
       "</style>\n",
       "<table border=\"1\" class=\"dataframe\">\n",
       "  <thead>\n",
       "    <tr style=\"text-align: right;\">\n",
       "      <th></th>\n",
       "      <th>age</th>\n",
       "      <th>bki_request_cnt</th>\n",
       "      <th>income</th>\n",
       "      <th>score_bki</th>\n",
       "      <th>region_rating</th>\n",
       "    </tr>\n",
       "  </thead>\n",
       "  <tbody>\n",
       "    <tr>\n",
       "      <th>count</th>\n",
       "      <td>110148.000000</td>\n",
       "      <td>110148.000000</td>\n",
       "      <td>110148.000000</td>\n",
       "      <td>110148.000000</td>\n",
       "      <td>110148.000000</td>\n",
       "    </tr>\n",
       "    <tr>\n",
       "      <th>mean</th>\n",
       "      <td>39.249410</td>\n",
       "      <td>1.764635</td>\n",
       "      <td>32165.580201</td>\n",
       "      <td>-1.909583</td>\n",
       "      <td>52.238806</td>\n",
       "    </tr>\n",
       "    <tr>\n",
       "      <th>std</th>\n",
       "      <td>11.518063</td>\n",
       "      <td>1.660476</td>\n",
       "      <td>16706.622124</td>\n",
       "      <td>0.488131</td>\n",
       "      <td>8.176620</td>\n",
       "    </tr>\n",
       "    <tr>\n",
       "      <th>min</th>\n",
       "      <td>21.000000</td>\n",
       "      <td>0.000000</td>\n",
       "      <td>1000.000000</td>\n",
       "      <td>-3.298952</td>\n",
       "      <td>40.000000</td>\n",
       "    </tr>\n",
       "    <tr>\n",
       "      <th>25%</th>\n",
       "      <td>30.000000</td>\n",
       "      <td>0.000000</td>\n",
       "      <td>20000.000000</td>\n",
       "      <td>-2.259268</td>\n",
       "      <td>50.000000</td>\n",
       "    </tr>\n",
       "    <tr>\n",
       "      <th>50%</th>\n",
       "      <td>37.000000</td>\n",
       "      <td>1.000000</td>\n",
       "      <td>30000.000000</td>\n",
       "      <td>-1.920823</td>\n",
       "      <td>50.000000</td>\n",
       "    </tr>\n",
       "    <tr>\n",
       "      <th>75%</th>\n",
       "      <td>48.000000</td>\n",
       "      <td>3.000000</td>\n",
       "      <td>40000.000000</td>\n",
       "      <td>-1.574614</td>\n",
       "      <td>60.000000</td>\n",
       "    </tr>\n",
       "    <tr>\n",
       "      <th>max</th>\n",
       "      <td>72.000000</td>\n",
       "      <td>7.000000</td>\n",
       "      <td>89000.000000</td>\n",
       "      <td>-0.530358</td>\n",
       "      <td>70.000000</td>\n",
       "    </tr>\n",
       "  </tbody>\n",
       "</table>\n",
       "</div>"
      ],
      "text/plain": [
       "                 age  bki_request_cnt         income      score_bki  \\\n",
       "count  110148.000000    110148.000000  110148.000000  110148.000000   \n",
       "mean       39.249410         1.764635   32165.580201      -1.909583   \n",
       "std        11.518063         1.660476   16706.622124       0.488131   \n",
       "min        21.000000         0.000000    1000.000000      -3.298952   \n",
       "25%        30.000000         0.000000   20000.000000      -2.259268   \n",
       "50%        37.000000         1.000000   30000.000000      -1.920823   \n",
       "75%        48.000000         3.000000   40000.000000      -1.574614   \n",
       "max        72.000000         7.000000   89000.000000      -0.530358   \n",
       "\n",
       "       region_rating  \n",
       "count  110148.000000  \n",
       "mean       52.238806  \n",
       "std         8.176620  \n",
       "min        40.000000  \n",
       "25%        50.000000  \n",
       "50%        50.000000  \n",
       "75%        60.000000  \n",
       "max        70.000000  "
      ]
     },
     "execution_count": 46,
     "metadata": {},
     "output_type": "execute_result"
    }
   ],
   "source": [
    "data[num_cols].describe() # проверяем распределение числовых признаков"
   ]
  },
  {
   "cell_type": "code",
   "execution_count": 47,
   "id": "c0faf9a6",
   "metadata": {
    "execution": {
     "iopub.execute_input": "2021-07-14T15:54:13.800690Z",
     "iopub.status.busy": "2021-07-14T15:54:13.800008Z",
     "iopub.status.idle": "2021-07-14T15:54:13.808325Z",
     "shell.execute_reply": "2021-07-14T15:54:13.808823Z",
     "shell.execute_reply.started": "2021-07-14T15:42:08.595750Z"
    },
    "papermill": {
     "duration": 0.12918,
     "end_time": "2021-07-14T15:54:13.809024",
     "exception": false,
     "start_time": "2021-07-14T15:54:13.679844",
     "status": "completed"
    },
    "tags": []
   },
   "outputs": [
    {
     "data": {
      "text/plain": [
       "age                0\n",
       "bki_request_cnt    0\n",
       "income             0\n",
       "score_bki          0\n",
       "region_rating      0\n",
       "dtype: int64"
      ]
     },
     "execution_count": 47,
     "metadata": {},
     "output_type": "execute_result"
    }
   ],
   "source": [
    "data[num_cols].isna().sum() # NAN значения в числовых данных"
   ]
  },
  {
   "cell_type": "markdown",
   "id": "eb17053c",
   "metadata": {
    "papermill": {
     "duration": 0.116129,
     "end_time": "2021-07-14T15:54:14.041343",
     "exception": false,
     "start_time": "2021-07-14T15:54:13.925214",
     "status": "completed"
    },
    "tags": []
   },
   "source": [
    "### Значимость числовых переменных"
   ]
  },
  {
   "cell_type": "code",
   "execution_count": 48,
   "id": "303efdf3",
   "metadata": {
    "execution": {
     "iopub.execute_input": "2021-07-14T15:54:14.282807Z",
     "iopub.status.busy": "2021-07-14T15:54:14.282111Z",
     "iopub.status.idle": "2021-07-14T15:54:14.492241Z",
     "shell.execute_reply": "2021-07-14T15:54:14.491671Z",
     "shell.execute_reply.started": "2021-07-14T15:42:08.612620Z"
    },
    "papermill": {
     "duration": 0.336645,
     "end_time": "2021-07-14T15:54:14.492419",
     "exception": false,
     "start_time": "2021-07-14T15:54:14.155774",
     "status": "completed"
    },
    "tags": []
   },
   "outputs": [
    {
     "data": {
      "text/plain": [
       "<AxesSubplot:>"
      ]
     },
     "execution_count": 48,
     "metadata": {},
     "output_type": "execute_result"
    },
    {
     "data": {
      "image/png": "[encoded data removed]",
      "text/plain": [
       "<Figure size 432x288 with 1 Axes>"
      ]
     },
     "metadata": {
      "needs_background": "light"
     },
     "output_type": "display_data"
    }
   ],
   "source": [
    "imp_num = pd.Series(f_classif(data[num_cols], data['default'])[0], index = num_cols)\n",
    "imp_num.sort_values(inplace = True)\n",
    "imp_num.plot(kind = 'barh')"
   ]
  },
  {
   "cell_type": "markdown",
   "id": "bc682212",
   "metadata": {
    "papermill": {
     "duration": 0.116658,
     "end_time": "2021-07-14T15:54:14.727208",
     "exception": false,
     "start_time": "2021-07-14T15:54:14.610550",
     "status": "completed"
    },
    "tags": []
   },
   "source": [
    "## Бинарные признаки"
   ]
  },
  {
   "cell_type": "code",
   "execution_count": 49,
   "id": "664b195c",
   "metadata": {
    "execution": {
     "iopub.execute_input": "2021-07-14T15:54:14.966218Z",
     "iopub.status.busy": "2021-07-14T15:54:14.965519Z",
     "iopub.status.idle": "2021-07-14T15:54:14.968741Z",
     "shell.execute_reply": "2021-07-14T15:54:14.968017Z",
     "shell.execute_reply.started": "2021-07-14T15:42:08.797609Z"
    },
    "papermill": {
     "duration": 0.125065,
     "end_time": "2021-07-14T15:54:14.968893",
     "exception": false,
     "start_time": "2021-07-14T15:54:14.843828",
     "status": "completed"
    },
    "tags": []
   },
   "outputs": [],
   "source": [
    "bin_cols = ['decline_app_cnt','sex','car', 'car_type', 'good_work', 'foreign_passport']"
   ]
  },
  {
   "cell_type": "code",
   "execution_count": 50,
   "id": "e7b03af0",
   "metadata": {
    "execution": {
     "iopub.execute_input": "2021-07-14T15:54:15.215671Z",
     "iopub.status.busy": "2021-07-14T15:54:15.214882Z",
     "iopub.status.idle": "2021-07-14T15:54:15.447513Z",
     "shell.execute_reply": "2021-07-14T15:54:15.446351Z",
     "shell.execute_reply.started": "2021-07-14T15:42:08.802568Z"
    },
    "papermill": {
     "duration": 0.359854,
     "end_time": "2021-07-14T15:54:15.447835",
     "exception": false,
     "start_time": "2021-07-14T15:54:15.087981",
     "status": "completed"
    },
    "tags": []
   },
   "outputs": [
    {
     "data": {
      "image/png": "[encoded data removed]",
      "text/plain": [
       "<Figure size 432x288 with 1 Axes>"
      ]
     },
     "metadata": {
      "needs_background": "light"
     },
     "output_type": "display_data"
    },
    {
     "name": "stdout",
     "output_type": "stream",
     "text": [
      "Доля дефолта от общего количества \n",
      " 0    0.073302\n",
      "1    0.142796\n",
      "Name: decline_app_cnt, dtype: float64\n"
     ]
    }
   ],
   "source": [
    "bin_plot('decline_app_cnt')"
   ]
  },
  {
   "cell_type": "code",
   "execution_count": 51,
   "id": "f2fcf6a1",
   "metadata": {
    "execution": {
     "iopub.execute_input": "2021-07-14T15:54:15.691543Z",
     "iopub.status.busy": "2021-07-14T15:54:15.688437Z",
     "iopub.status.idle": "2021-07-14T15:54:15.971121Z",
     "shell.execute_reply": "2021-07-14T15:54:15.970440Z",
     "shell.execute_reply.started": "2021-07-14T15:42:09.041060Z"
    },
    "papermill": {
     "duration": 0.405886,
     "end_time": "2021-07-14T15:54:15.971287",
     "exception": false,
     "start_time": "2021-07-14T15:54:15.565401",
     "status": "completed"
    },
    "tags": []
   },
   "outputs": [
    {
     "data": {
      "image/png": "[encoded data removed]",
      "text/plain": [
       "<Figure size 432x288 with 1 Axes>"
      ]
     },
     "metadata": {
      "needs_background": "light"
     },
     "output_type": "display_data"
    },
    {
     "name": "stdout",
     "output_type": "stream",
     "text": [
      "Доля дефолта от общего количества \n",
      " F    0.081490\n",
      "M    0.089688\n",
      "Name: sex, dtype: float64\n"
     ]
    }
   ],
   "source": [
    "bin_plot('sex')"
   ]
  },
  {
   "cell_type": "code",
   "execution_count": 52,
   "id": "b6cbdf38",
   "metadata": {
    "execution": {
     "iopub.execute_input": "2021-07-14T15:54:16.221035Z",
     "iopub.status.busy": "2021-07-14T15:54:16.217823Z",
     "iopub.status.idle": "2021-07-14T15:54:16.500466Z",
     "shell.execute_reply": "2021-07-14T15:54:16.499884Z",
     "shell.execute_reply.started": "2021-07-14T15:42:09.293571Z"
    },
    "papermill": {
     "duration": 0.406567,
     "end_time": "2021-07-14T15:54:16.500635",
     "exception": false,
     "start_time": "2021-07-14T15:54:16.094068",
     "status": "completed"
    },
    "tags": []
   },
   "outputs": [
    {
     "data": {
      "image/png": "[encoded data removed]",
      "text/plain": [
       "<Figure size 432x288 with 1 Axes>"
      ]
     },
     "metadata": {
      "needs_background": "light"
     },
     "output_type": "display_data"
    },
    {
     "name": "stdout",
     "output_type": "stream",
     "text": [
      "Доля дефолта от общего количества \n",
      " N    0.09187\n",
      "Y    0.07103\n",
      "Name: car, dtype: float64\n"
     ]
    }
   ],
   "source": [
    "bin_plot('car')"
   ]
  },
  {
   "cell_type": "code",
   "execution_count": 53,
   "id": "3d2b000a",
   "metadata": {
    "execution": {
     "iopub.execute_input": "2021-07-14T15:54:16.746844Z",
     "iopub.status.busy": "2021-07-14T15:54:16.745743Z",
     "iopub.status.idle": "2021-07-14T15:54:17.011017Z",
     "shell.execute_reply": "2021-07-14T15:54:17.011640Z",
     "shell.execute_reply.started": "2021-07-14T15:42:09.537131Z"
    },
    "papermill": {
     "duration": 0.39115,
     "end_time": "2021-07-14T15:54:17.011826",
     "exception": false,
     "start_time": "2021-07-14T15:54:16.620676",
     "status": "completed"
    },
    "tags": []
   },
   "outputs": [
    {
     "data": {
      "image/png": "[encoded data removed]",
      "text/plain": [
       "<Figure size 432x288 with 1 Axes>"
      ]
     },
     "metadata": {
      "needs_background": "light"
     },
     "output_type": "display_data"
    },
    {
     "name": "stdout",
     "output_type": "stream",
     "text": [
      "Доля дефолта от общего количества \n",
      " N    0.091396\n",
      "Y    0.058311\n",
      "Name: car_type, dtype: float64\n"
     ]
    }
   ],
   "source": [
    "bin_plot('car_type')"
   ]
  },
  {
   "cell_type": "code",
   "execution_count": 54,
   "id": "571e2773",
   "metadata": {
    "execution": {
     "iopub.execute_input": "2021-07-14T15:54:17.264255Z",
     "iopub.status.busy": "2021-07-14T15:54:17.263253Z",
     "iopub.status.idle": "2021-07-14T15:54:17.492142Z",
     "shell.execute_reply": "2021-07-14T15:54:17.491389Z",
     "shell.execute_reply.started": "2021-07-14T15:42:09.765989Z"
    },
    "papermill": {
     "duration": 0.355023,
     "end_time": "2021-07-14T15:54:17.492335",
     "exception": false,
     "start_time": "2021-07-14T15:54:17.137312",
     "status": "completed"
    },
    "tags": []
   },
   "outputs": [
    {
     "data": {
      "image/png": "[encoded data removed]",
      "text/plain": [
       "<Figure size 432x288 with 1 Axes>"
      ]
     },
     "metadata": {
      "needs_background": "light"
     },
     "output_type": "display_data"
    },
    {
     "name": "stdout",
     "output_type": "stream",
     "text": [
      "Доля дефолта от общего количества \n",
      " 0    0.089450\n",
      "1    0.063079\n",
      "Name: good_work, dtype: float64\n"
     ]
    }
   ],
   "source": [
    "bin_plot('good_work')"
   ]
  },
  {
   "cell_type": "code",
   "execution_count": 55,
   "id": "52856c8c",
   "metadata": {
    "execution": {
     "iopub.execute_input": "2021-07-14T15:54:17.742016Z",
     "iopub.status.busy": "2021-07-14T15:54:17.741332Z",
     "iopub.status.idle": "2021-07-14T15:54:17.997621Z",
     "shell.execute_reply": "2021-07-14T15:54:17.996907Z",
     "shell.execute_reply.started": "2021-07-14T15:42:09.961004Z"
    },
    "papermill": {
     "duration": 0.382802,
     "end_time": "2021-07-14T15:54:17.997774",
     "exception": false,
     "start_time": "2021-07-14T15:54:17.614972",
     "status": "completed"
    },
    "tags": []
   },
   "outputs": [
    {
     "data": {
      "image/png": "[encoded data removed]",
      "text/plain": [
       "<Figure size 432x288 with 1 Axes>"
      ]
     },
     "metadata": {
      "needs_background": "light"
     },
     "output_type": "display_data"
    },
    {
     "name": "stdout",
     "output_type": "stream",
     "text": [
      "Доля дефолта от общего количества \n",
      " N    0.091250\n",
      "Y    0.049918\n",
      "Name: foreign_passport, dtype: float64\n"
     ]
    }
   ],
   "source": [
    "bin_plot('foreign_passport')"
   ]
  },
  {
   "cell_type": "markdown",
   "id": "25da80cf",
   "metadata": {
    "papermill": {
     "duration": 0.123604,
     "end_time": "2021-07-14T15:54:18.247741",
     "exception": false,
     "start_time": "2021-07-14T15:54:18.124137",
     "status": "completed"
    },
    "tags": []
   },
   "source": [
    "### Преобразуем бинарные признаки в числовые переменные"
   ]
  },
  {
   "cell_type": "code",
   "execution_count": 56,
   "id": "c5f0d7b5",
   "metadata": {
    "execution": {
     "iopub.execute_input": "2021-07-14T15:54:18.500481Z",
     "iopub.status.busy": "2021-07-14T15:54:18.499572Z",
     "iopub.status.idle": "2021-07-14T15:54:18.655285Z",
     "shell.execute_reply": "2021-07-14T15:54:18.655840Z",
     "shell.execute_reply.started": "2021-07-14T15:42:10.175283Z"
    },
    "papermill": {
     "duration": 0.284276,
     "end_time": "2021-07-14T15:54:18.656021",
     "exception": false,
     "start_time": "2021-07-14T15:54:18.371745",
     "status": "completed"
    },
    "tags": []
   },
   "outputs": [],
   "source": [
    "for column in bin_cols:\n",
    "    data[column] = LabelEncoder().fit_transform(data[column])"
   ]
  },
  {
   "cell_type": "code",
   "execution_count": 57,
   "id": "573cfb51",
   "metadata": {
    "execution": {
     "iopub.execute_input": "2021-07-14T15:54:18.910718Z",
     "iopub.status.busy": "2021-07-14T15:54:18.910006Z",
     "iopub.status.idle": "2021-07-14T15:54:18.935901Z",
     "shell.execute_reply": "2021-07-14T15:54:18.935339Z",
     "shell.execute_reply.started": "2021-07-14T15:42:10.343400Z"
    },
    "papermill": {
     "duration": 0.154378,
     "end_time": "2021-07-14T15:54:18.936062",
     "exception": false,
     "start_time": "2021-07-14T15:54:18.781684",
     "status": "completed"
    },
    "tags": []
   },
   "outputs": [
    {
     "data": {
      "text/html": [
       "<div>\n",
       "<style scoped>\n",
       "    .dataframe tbody tr th:only-of-type {\n",
       "        vertical-align: middle;\n",
       "    }\n",
       "\n",
       "    .dataframe tbody tr th {\n",
       "        vertical-align: top;\n",
       "    }\n",
       "\n",
       "    .dataframe thead th {\n",
       "        text-align: right;\n",
       "    }\n",
       "</style>\n",
       "<table border=\"1\" class=\"dataframe\">\n",
       "  <thead>\n",
       "    <tr style=\"text-align: right;\">\n",
       "      <th></th>\n",
       "      <th>decline_app_cnt</th>\n",
       "      <th>sex</th>\n",
       "      <th>car</th>\n",
       "      <th>car_type</th>\n",
       "      <th>good_work</th>\n",
       "      <th>foreign_passport</th>\n",
       "    </tr>\n",
       "  </thead>\n",
       "  <tbody>\n",
       "    <tr>\n",
       "      <th>0</th>\n",
       "      <td>0</td>\n",
       "      <td>1</td>\n",
       "      <td>1</td>\n",
       "      <td>1</td>\n",
       "      <td>0</td>\n",
       "      <td>0</td>\n",
       "    </tr>\n",
       "    <tr>\n",
       "      <th>1</th>\n",
       "      <td>1</td>\n",
       "      <td>0</td>\n",
       "      <td>0</td>\n",
       "      <td>0</td>\n",
       "      <td>0</td>\n",
       "      <td>0</td>\n",
       "    </tr>\n",
       "    <tr>\n",
       "      <th>2</th>\n",
       "      <td>0</td>\n",
       "      <td>1</td>\n",
       "      <td>1</td>\n",
       "      <td>1</td>\n",
       "      <td>0</td>\n",
       "      <td>1</td>\n",
       "    </tr>\n",
       "    <tr>\n",
       "      <th>3</th>\n",
       "      <td>0</td>\n",
       "      <td>1</td>\n",
       "      <td>0</td>\n",
       "      <td>0</td>\n",
       "      <td>0</td>\n",
       "      <td>0</td>\n",
       "    </tr>\n",
       "    <tr>\n",
       "      <th>4</th>\n",
       "      <td>0</td>\n",
       "      <td>0</td>\n",
       "      <td>0</td>\n",
       "      <td>0</td>\n",
       "      <td>0</td>\n",
       "      <td>0</td>\n",
       "    </tr>\n",
       "  </tbody>\n",
       "</table>\n",
       "</div>"
      ],
      "text/plain": [
       "   decline_app_cnt  sex  car  car_type  good_work  foreign_passport\n",
       "0                0    1    1         1          0                 0\n",
       "1                1    0    0         0          0                 0\n",
       "2                0    1    1         1          0                 1\n",
       "3                0    1    0         0          0                 0\n",
       "4                0    0    0         0          0                 0"
      ]
     },
     "execution_count": 57,
     "metadata": {},
     "output_type": "execute_result"
    }
   ],
   "source": [
    " data[bin_cols].head() #убедимся в преобразовании"
   ]
  },
  {
   "cell_type": "markdown",
   "id": "2e7ef97b",
   "metadata": {
    "papermill": {
     "duration": 0.128048,
     "end_time": "2021-07-14T15:54:19.194527",
     "exception": false,
     "start_time": "2021-07-14T15:54:19.066479",
     "status": "completed"
    },
    "tags": []
   },
   "source": [
    "## Категориальные переменные\n"
   ]
  },
  {
   "cell_type": "code",
   "execution_count": 58,
   "id": "47343504",
   "metadata": {
    "execution": {
     "iopub.execute_input": "2021-07-14T15:54:19.446052Z",
     "iopub.status.busy": "2021-07-14T15:54:19.445060Z",
     "iopub.status.idle": "2021-07-14T15:54:19.450496Z",
     "shell.execute_reply": "2021-07-14T15:54:19.449961Z",
     "shell.execute_reply.started": "2021-07-14T15:42:10.374741Z"
    },
    "papermill": {
     "duration": 0.132008,
     "end_time": "2021-07-14T15:54:19.450664",
     "exception": false,
     "start_time": "2021-07-14T15:54:19.318656",
     "status": "completed"
    },
    "tags": []
   },
   "outputs": [],
   "source": [
    "cat_cols = ['education', 'home_address',\n",
    "           'work_address', 'sna', 'first_time']"
   ]
  },
  {
   "cell_type": "code",
   "execution_count": 59,
   "id": "9630d1d3",
   "metadata": {
    "execution": {
     "iopub.execute_input": "2021-07-14T15:54:19.717460Z",
     "iopub.status.busy": "2021-07-14T15:54:19.716736Z",
     "iopub.status.idle": "2021-07-14T15:54:19.732359Z",
     "shell.execute_reply": "2021-07-14T15:54:19.732931Z",
     "shell.execute_reply.started": "2021-07-14T15:42:10.900548Z"
    },
    "papermill": {
     "duration": 0.157047,
     "end_time": "2021-07-14T15:54:19.733104",
     "exception": false,
     "start_time": "2021-07-14T15:54:19.576057",
     "status": "completed"
    },
    "tags": []
   },
   "outputs": [
    {
     "name": "stdout",
     "output_type": "stream",
     "text": [
      "Пропущеных значений 478, что составляет 0.43% от общего количества\n"
     ]
    }
   ],
   "source": [
    "print('Пропущеных значений {}, что составляет {:.2f}% от общего количества'.format(data.education.isna().sum(), data.education.isna().sum() /data.shape[0]*100))"
   ]
  },
  {
   "cell_type": "markdown",
   "id": "bdb31ac5",
   "metadata": {
    "papermill": {
     "duration": 0.123319,
     "end_time": "2021-07-14T15:54:19.981915",
     "exception": false,
     "start_time": "2021-07-14T15:54:19.858596",
     "status": "completed"
    },
    "tags": []
   },
   "source": [
    "что за данные в 'education'?"
   ]
  },
  {
   "cell_type": "code",
   "execution_count": 60,
   "id": "64484e27",
   "metadata": {
    "execution": {
     "iopub.execute_input": "2021-07-14T15:54:20.266609Z",
     "iopub.status.busy": "2021-07-14T15:54:20.263224Z",
     "iopub.status.idle": "2021-07-14T15:54:20.270569Z",
     "shell.execute_reply": "2021-07-14T15:54:20.271078Z",
     "shell.execute_reply.started": "2021-07-14T15:42:11.968638Z"
    },
    "papermill": {
     "duration": 0.163361,
     "end_time": "2021-07-14T15:54:20.271296",
     "exception": false,
     "start_time": "2021-07-14T15:54:20.107935",
     "status": "completed"
    },
    "tags": []
   },
   "outputs": [
    {
     "data": {
      "text/plain": [
       "SCH    57998\n",
       "GRD    34768\n",
       "UGR    14748\n",
       "PGR     1865\n",
       "ACD      291\n",
       "Name: education, dtype: int64"
      ]
     },
     "execution_count": 60,
     "metadata": {},
     "output_type": "execute_result"
    }
   ],
   "source": [
    "data.education.value_counts()"
   ]
  },
  {
   "cell_type": "markdown",
   "id": "b670e67d",
   "metadata": {
    "papermill": {
     "duration": 0.124517,
     "end_time": "2021-07-14T15:54:20.522584",
     "exception": false,
     "start_time": "2021-07-14T15:54:20.398067",
     "status": "completed"
    },
    "tags": []
   },
   "source": [
    "Приведенная абривеатура может означать уровень образования, где\n",
    "\n",
    "Graduation's code | Value\n",
    "-----|-------------------------\n",
    "SCH  |  school graduated\n",
    "GRD  |  Graduate Research Degrees\n",
    "UGR  |  Upper graduated researchers\n",
    "PGR  |  Post graduated researchers\n",
    "ACD  |  Upper post graduated degrees\n"
   ]
  },
  {
   "cell_type": "markdown",
   "id": "3d4f0959",
   "metadata": {
    "papermill": {
     "duration": 0.124947,
     "end_time": "2021-07-14T15:54:20.772126",
     "exception": false,
     "start_time": "2021-07-14T15:54:20.647179",
     "status": "completed"
    },
    "tags": []
   },
   "source": [
    "##### Исходя из небольшого процента пропущенных данных, заменим пропущенные значения наиболее встречающимися в выборке"
   ]
  },
  {
   "cell_type": "code",
   "execution_count": 61,
   "id": "eb0a0516",
   "metadata": {
    "execution": {
     "iopub.execute_input": "2021-07-14T15:54:21.063241Z",
     "iopub.status.busy": "2021-07-14T15:54:21.060300Z",
     "iopub.status.idle": "2021-07-14T15:54:21.066327Z",
     "shell.execute_reply": "2021-07-14T15:54:21.067158Z",
     "shell.execute_reply.started": "2021-07-14T15:42:13.629661Z"
    },
    "papermill": {
     "duration": 0.168579,
     "end_time": "2021-07-14T15:54:21.067412",
     "exception": false,
     "start_time": "2021-07-14T15:54:20.898833",
     "status": "completed"
    },
    "tags": []
   },
   "outputs": [],
   "source": [
    "data['education'] = data['education'].fillna(data['education'].mode()[0])"
   ]
  },
  {
   "cell_type": "code",
   "execution_count": 62,
   "id": "109c9f33",
   "metadata": {
    "execution": {
     "iopub.execute_input": "2021-07-14T15:54:21.339004Z",
     "iopub.status.busy": "2021-07-14T15:54:21.337973Z",
     "iopub.status.idle": "2021-07-14T15:54:21.362099Z",
     "shell.execute_reply": "2021-07-14T15:54:21.362617Z",
     "shell.execute_reply.started": "2021-07-14T15:42:14.168662Z"
    },
    "papermill": {
     "duration": 0.155901,
     "end_time": "2021-07-14T15:54:21.362806",
     "exception": false,
     "start_time": "2021-07-14T15:54:21.206905",
     "status": "completed"
    },
    "tags": []
   },
   "outputs": [
    {
     "data": {
      "text/plain": [
       "client_id           0\n",
       "education           0\n",
       "sex                 0\n",
       "age                 0\n",
       "car                 0\n",
       "car_type            0\n",
       "decline_app_cnt     0\n",
       "good_work           0\n",
       "score_bki           0\n",
       "bki_request_cnt     0\n",
       "region_rating       0\n",
       "home_address        0\n",
       "work_address        0\n",
       "income              0\n",
       "sna                 0\n",
       "first_time          0\n",
       "foreign_passport    0\n",
       "sample              0\n",
       "default             0\n",
       "month               0\n",
       "date                0\n",
       "dayofweek           0\n",
       "dtype: int64"
      ]
     },
     "execution_count": 62,
     "metadata": {},
     "output_type": "execute_result"
    }
   ],
   "source": [
    "data.isna().sum() # проверка"
   ]
  },
  {
   "cell_type": "code",
   "execution_count": 63,
   "id": "144630eb",
   "metadata": {
    "execution": {
     "iopub.execute_input": "2021-07-14T15:54:21.621536Z",
     "iopub.status.busy": "2021-07-14T15:54:21.620868Z",
     "iopub.status.idle": "2021-07-14T15:54:21.963345Z",
     "shell.execute_reply": "2021-07-14T15:54:21.962646Z",
     "shell.execute_reply.started": "2021-07-14T15:42:14.691034Z"
    },
    "papermill": {
     "duration": 0.473406,
     "end_time": "2021-07-14T15:54:21.963535",
     "exception": false,
     "start_time": "2021-07-14T15:54:21.490129",
     "status": "completed"
    },
    "tags": []
   },
   "outputs": [
    {
     "data": {
      "image/png": "[encoded data removed]",
      "text/plain": [
       "<Figure size 432x288 with 1 Axes>"
      ]
     },
     "metadata": {
      "needs_background": "light"
     },
     "output_type": "display_data"
    },
    {
     "name": "stdout",
     "output_type": "stream",
     "text": [
      "Доля дефолта от общего количества \n",
      " SCH    0.100674\n",
      "GRD    0.060544\n",
      "UGR    0.087537\n",
      "PGR    0.043432\n",
      "ACD    0.027491\n",
      "Name: education, dtype: float64\n"
     ]
    }
   ],
   "source": [
    "bin_plot('education')"
   ]
  },
  {
   "cell_type": "code",
   "execution_count": 64,
   "id": "7eea106f",
   "metadata": {
    "execution": {
     "iopub.execute_input": "2021-07-14T15:54:22.251109Z",
     "iopub.status.busy": "2021-07-14T15:54:22.239894Z",
     "iopub.status.idle": "2021-07-14T15:54:22.259484Z",
     "shell.execute_reply": "2021-07-14T15:54:22.258909Z",
     "shell.execute_reply.started": "2021-07-14T15:42:15.218762Z"
    },
    "papermill": {
     "duration": 0.166117,
     "end_time": "2021-07-14T15:54:22.259655",
     "exception": false,
     "start_time": "2021-07-14T15:54:22.093538",
     "status": "completed"
    },
    "tags": []
   },
   "outputs": [
    {
     "data": {
      "text/plain": [
       "SCH    58476\n",
       "GRD    34768\n",
       "UGR    14748\n",
       "PGR     1865\n",
       "ACD      291\n",
       "Name: education, dtype: int64"
      ]
     },
     "execution_count": 64,
     "metadata": {},
     "output_type": "execute_result"
    }
   ],
   "source": [
    "#распределение данных в education\n",
    "data['education'].value_counts()"
   ]
  },
  {
   "cell_type": "markdown",
   "id": "7ebee8c3",
   "metadata": {
    "papermill": {
     "duration": 0.125869,
     "end_time": "2021-07-14T15:54:22.511702",
     "exception": false,
     "start_time": "2021-07-14T15:54:22.385833",
     "status": "completed"
    },
    "tags": []
   },
   "source": [
    "#### преобразуем признак 'education' в численный формат"
   ]
  },
  {
   "cell_type": "code",
   "execution_count": 65,
   "id": "4bdd9b3a",
   "metadata": {
    "execution": {
     "iopub.execute_input": "2021-07-14T15:54:22.805626Z",
     "iopub.status.busy": "2021-07-14T15:54:22.804698Z",
     "iopub.status.idle": "2021-07-14T15:54:22.812707Z",
     "shell.execute_reply": "2021-07-14T15:54:22.813172Z",
     "shell.execute_reply.started": "2021-07-14T15:42:16.374547Z"
    },
    "papermill": {
     "duration": 0.175848,
     "end_time": "2021-07-14T15:54:22.813351",
     "exception": false,
     "start_time": "2021-07-14T15:54:22.637503",
     "status": "completed"
    },
    "tags": []
   },
   "outputs": [
    {
     "data": {
      "text/plain": [
       "3    58476\n",
       "1    34768\n",
       "4    14748\n",
       "2     1865\n",
       "0      291\n",
       "Name: education, dtype: int64"
      ]
     },
     "execution_count": 65,
     "metadata": {},
     "output_type": "execute_result"
    }
   ],
   "source": [
    "data['education'] = LabelEncoder().fit_transform(data['education'])\n",
    "data['education'].value_counts()"
   ]
  },
  {
   "cell_type": "code",
   "execution_count": 66,
   "id": "4f75f429",
   "metadata": {
    "execution": {
     "iopub.execute_input": "2021-07-14T15:54:23.075492Z",
     "iopub.status.busy": "2021-07-14T15:54:23.074812Z",
     "iopub.status.idle": "2021-07-14T15:54:23.353411Z",
     "shell.execute_reply": "2021-07-14T15:54:23.353901Z",
     "shell.execute_reply.started": "2021-07-14T15:42:16.925654Z"
    },
    "papermill": {
     "duration": 0.414546,
     "end_time": "2021-07-14T15:54:23.354089",
     "exception": false,
     "start_time": "2021-07-14T15:54:22.939543",
     "status": "completed"
    },
    "tags": []
   },
   "outputs": [
    {
     "data": {
      "image/png": "[encoded data removed]",
      "text/plain": [
       "<Figure size 432x288 with 1 Axes>"
      ]
     },
     "metadata": {
      "needs_background": "light"
     },
     "output_type": "display_data"
    },
    {
     "name": "stdout",
     "output_type": "stream",
     "text": [
      "Доля дефолта от общего количества \n",
      " 2    0.104026\n",
      "1    0.062171\n",
      "3    0.078117\n",
      "Name: home_address, dtype: float64\n"
     ]
    }
   ],
   "source": [
    "bin_plot('home_address')"
   ]
  },
  {
   "cell_type": "code",
   "execution_count": 67,
   "id": "4af7f2af",
   "metadata": {
    "execution": {
     "iopub.execute_input": "2021-07-14T15:54:23.615176Z",
     "iopub.status.busy": "2021-07-14T15:54:23.614535Z",
     "iopub.status.idle": "2021-07-14T15:54:23.878821Z",
     "shell.execute_reply": "2021-07-14T15:54:23.878194Z",
     "shell.execute_reply.started": "2021-07-14T15:42:17.451262Z"
    },
    "papermill": {
     "duration": 0.396314,
     "end_time": "2021-07-14T15:54:23.879000",
     "exception": false,
     "start_time": "2021-07-14T15:54:23.482686",
     "status": "completed"
    },
    "tags": []
   },
   "outputs": [
    {
     "data": {
      "image/png": "[encoded data removed]",
      "text/plain": [
       "<Figure size 432x288 with 1 Axes>"
      ]
     },
     "metadata": {
      "needs_background": "light"
     },
     "output_type": "display_data"
    },
    {
     "name": "stdout",
     "output_type": "stream",
     "text": [
      "Доля дефолта от общего количества \n",
      " 3    0.099116\n",
      "2    0.068333\n",
      "1    0.050350\n",
      "Name: work_address, dtype: float64\n"
     ]
    }
   ],
   "source": [
    "bin_plot('work_address')"
   ]
  },
  {
   "cell_type": "code",
   "execution_count": 68,
   "id": "f6a6a36e",
   "metadata": {
    "execution": {
     "iopub.execute_input": "2021-07-14T15:54:24.144006Z",
     "iopub.status.busy": "2021-07-14T15:54:24.142994Z",
     "iopub.status.idle": "2021-07-14T15:54:24.449382Z",
     "shell.execute_reply": "2021-07-14T15:54:24.448555Z",
     "shell.execute_reply.started": "2021-07-14T15:42:17.976701Z"
    },
    "papermill": {
     "duration": 0.441529,
     "end_time": "2021-07-14T15:54:24.449585",
     "exception": false,
     "start_time": "2021-07-14T15:54:24.008056",
     "status": "completed"
    },
    "tags": []
   },
   "outputs": [
    {
     "data": {
      "image/png": "[encoded data removed]",
      "text/plain": [
       "<Figure size 432x288 with 1 Axes>"
      ]
     },
     "metadata": {
      "needs_background": "light"
     },
     "output_type": "display_data"
    },
    {
     "name": "stdout",
     "output_type": "stream",
     "text": [
      "Доля дефолта от общего количества \n",
      " 1    0.065718\n",
      "4    0.142154\n",
      "2    0.100556\n",
      "3    0.105622\n",
      "Name: sna, dtype: float64\n"
     ]
    }
   ],
   "source": [
    "bin_plot('sna')"
   ]
  },
  {
   "cell_type": "code",
   "execution_count": 69,
   "id": "08194e44",
   "metadata": {
    "execution": {
     "iopub.execute_input": "2021-07-14T15:54:24.717396Z",
     "iopub.status.busy": "2021-07-14T15:54:24.716750Z",
     "iopub.status.idle": "2021-07-14T15:54:24.991481Z",
     "shell.execute_reply": "2021-07-14T15:54:24.992105Z",
     "shell.execute_reply.started": "2021-07-14T15:42:18.503583Z"
    },
    "papermill": {
     "duration": 0.409511,
     "end_time": "2021-07-14T15:54:24.992295",
     "exception": false,
     "start_time": "2021-07-14T15:54:24.582784",
     "status": "completed"
    },
    "tags": []
   },
   "outputs": [
    {
     "data": {
      "image/png": "[encoded data removed]",
      "text/plain": [
       "<Figure size 432x288 with 1 Axes>"
      ]
     },
     "metadata": {
      "needs_background": "light"
     },
     "output_type": "display_data"
    },
    {
     "name": "stdout",
     "output_type": "stream",
     "text": [
      "Доля дефолта от общего количества \n",
      " 1    0.124508\n",
      "2    0.104250\n",
      "3    0.080686\n",
      "4    0.054860\n",
      "Name: first_time, dtype: float64\n"
     ]
    }
   ],
   "source": [
    "bin_plot('first_time')"
   ]
  },
  {
   "cell_type": "markdown",
   "id": "2c21ede3",
   "metadata": {
    "papermill": {
     "duration": 0.134167,
     "end_time": "2021-07-14T15:54:25.261210",
     "exception": false,
     "start_time": "2021-07-14T15:54:25.127043",
     "status": "completed"
    },
    "tags": []
   },
   "source": [
    "### Целевой признак"
   ]
  },
  {
   "cell_type": "code",
   "execution_count": 70,
   "id": "4420828f",
   "metadata": {
    "execution": {
     "iopub.execute_input": "2021-07-14T15:54:25.557988Z",
     "iopub.status.busy": "2021-07-14T15:54:25.556907Z",
     "iopub.status.idle": "2021-07-14T15:54:25.787109Z",
     "shell.execute_reply": "2021-07-14T15:54:25.787709Z",
     "shell.execute_reply.started": "2021-07-14T15:42:19.517605Z"
    },
    "papermill": {
     "duration": 0.392789,
     "end_time": "2021-07-14T15:54:25.787887",
     "exception": false,
     "start_time": "2021-07-14T15:54:25.395098",
     "status": "completed"
    },
    "tags": []
   },
   "outputs": [
    {
     "data": {
      "text/plain": [
       "0    64427\n",
       "1     9372\n",
       "Name: default, dtype: int64"
      ]
     },
     "execution_count": 70,
     "metadata": {},
     "output_type": "execute_result"
    },
    {
     "data": {
      "image/png": "[encoded data removed]",
      "text/plain": [
       "<Figure size 432x288 with 1 Axes>"
      ]
     },
     "metadata": {
      "needs_background": "light"
     },
     "output_type": "display_data"
    }
   ],
   "source": [
    "data.query('sample ==1').default.hist()\n",
    "data.query('sample ==1').default.value_counts()\n"
   ]
  },
  {
   "cell_type": "markdown",
   "id": "cc1a92fc",
   "metadata": {
    "papermill": {
     "duration": 0.139909,
     "end_time": "2021-07-14T15:54:26.061746",
     "exception": false,
     "start_time": "2021-07-14T15:54:25.921837",
     "status": "completed"
    },
    "tags": []
   },
   "source": [
    "### Значимость категориальных и бинарных признаков"
   ]
  },
  {
   "cell_type": "code",
   "execution_count": 71,
   "id": "43ea479c",
   "metadata": {
    "execution": {
     "iopub.execute_input": "2021-07-14T15:54:26.341958Z",
     "iopub.status.busy": "2021-07-14T15:54:26.340943Z",
     "iopub.status.idle": "2021-07-14T15:54:26.712823Z",
     "shell.execute_reply": "2021-07-14T15:54:26.713280Z",
     "shell.execute_reply.started": "2021-07-14T15:42:20.565026Z"
    },
    "papermill": {
     "duration": 0.516246,
     "end_time": "2021-07-14T15:54:26.713489",
     "exception": false,
     "start_time": "2021-07-14T15:54:26.197243",
     "status": "completed"
    },
    "tags": []
   },
   "outputs": [
    {
     "data": {
      "text/plain": [
       "<AxesSubplot:>"
      ]
     },
     "execution_count": 71,
     "metadata": {},
     "output_type": "execute_result"
    },
    {
     "data": {
      "image/png": "[encoded data removed]",
      "text/plain": [
       "<Figure size 432x288 with 1 Axes>"
      ]
     },
     "metadata": {
      "needs_background": "light"
     },
     "output_type": "display_data"
    }
   ],
   "source": [
    "\n",
    "imp_cat = Series(mutual_info_classif(data[bin_cols + cat_cols], data['default'],\n",
    "                                     discrete_features =True), index = bin_cols + cat_cols)\n",
    "imp_cat.sort_values(inplace = True)\n",
    "imp_cat.plot(kind = 'barh')"
   ]
  },
  {
   "cell_type": "code",
   "execution_count": 72,
   "id": "e031ab79",
   "metadata": {
    "execution": {
     "iopub.execute_input": "2021-07-14T15:54:26.984723Z",
     "iopub.status.busy": "2021-07-14T15:54:26.983740Z",
     "iopub.status.idle": "2021-07-14T15:54:27.003154Z",
     "shell.execute_reply": "2021-07-14T15:54:27.003635Z",
     "shell.execute_reply.started": "2021-07-14T15:42:21.066934Z"
    },
    "papermill": {
     "duration": 0.157161,
     "end_time": "2021-07-14T15:54:27.003855",
     "exception": false,
     "start_time": "2021-07-14T15:54:26.846694",
     "status": "completed"
    },
    "tags": []
   },
   "outputs": [
    {
     "name": "stdout",
     "output_type": "stream",
     "text": [
      "<class 'pandas.core.frame.DataFrame'>\n",
      "RangeIndex: 110148 entries, 0 to 110147\n",
      "Data columns (total 22 columns):\n",
      " #   Column            Non-Null Count   Dtype  \n",
      "---  ------            --------------   -----  \n",
      " 0   client_id         110148 non-null  int64  \n",
      " 1   education         110148 non-null  int64  \n",
      " 2   sex               110148 non-null  int64  \n",
      " 3   age               110148 non-null  int64  \n",
      " 4   car               110148 non-null  int64  \n",
      " 5   car_type          110148 non-null  int64  \n",
      " 6   decline_app_cnt   110148 non-null  int64  \n",
      " 7   good_work         110148 non-null  int64  \n",
      " 8   score_bki         110148 non-null  float64\n",
      " 9   bki_request_cnt   110148 non-null  float64\n",
      " 10  region_rating     110148 non-null  float64\n",
      " 11  home_address      110148 non-null  int64  \n",
      " 12  work_address      110148 non-null  int64  \n",
      " 13  income            110148 non-null  float64\n",
      " 14  sna               110148 non-null  int64  \n",
      " 15  first_time        110148 non-null  int64  \n",
      " 16  foreign_passport  110148 non-null  int64  \n",
      " 17  sample            110148 non-null  int64  \n",
      " 18  default           110148 non-null  int64  \n",
      " 19  month             110148 non-null  int64  \n",
      " 20  date              110148 non-null  int64  \n",
      " 21  dayofweek         110148 non-null  int64  \n",
      "dtypes: float64(4), int64(18)\n",
      "memory usage: 18.5 MB\n"
     ]
    }
   ],
   "source": [
    "data.info()"
   ]
  },
  {
   "cell_type": "markdown",
   "id": "7833544c",
   "metadata": {
    "papermill": {
     "duration": 0.135139,
     "end_time": "2021-07-14T15:54:27.273255",
     "exception": false,
     "start_time": "2021-07-14T15:54:27.138116",
     "status": "completed"
    },
    "tags": []
   },
   "source": [
    "### посмотрим вновь на таблицу корреляции "
   ]
  },
  {
   "cell_type": "code",
   "execution_count": 73,
   "id": "b452b75f",
   "metadata": {
    "execution": {
     "iopub.execute_input": "2021-07-14T15:54:27.551516Z",
     "iopub.status.busy": "2021-07-14T15:54:27.550757Z",
     "iopub.status.idle": "2021-07-14T15:54:27.870045Z",
     "shell.execute_reply": "2021-07-14T15:54:27.870580Z",
     "shell.execute_reply.started": "2021-07-14T15:42:22.142896Z"
    },
    "papermill": {
     "duration": 0.46281,
     "end_time": "2021-07-14T15:54:27.870757",
     "exception": false,
     "start_time": "2021-07-14T15:54:27.407947",
     "status": "completed"
    },
    "tags": []
   },
   "outputs": [
    {
     "data": {
      "text/html": [
       "<style  type=\"text/css\" >\n",
       "    #T_f7725_ th {\n",
       "          font-size: 7pt;\n",
       "    }    #T_f7725_ td {\n",
       "          padding: 0em 0em;\n",
       "    }    #T_f7725_ th:hover {\n",
       "          font-size: 12pt;\n",
       "    }    #T_f7725_ tr:hover td:hover {\n",
       "          max-width: 200px;\n",
       "          font-size: 12pt;\n",
       "    }#T_f7725_row0_col0,#T_f7725_row1_col1,#T_f7725_row2_col2,#T_f7725_row3_col3,#T_f7725_row4_col4,#T_f7725_row5_col5,#T_f7725_row6_col6,#T_f7725_row7_col7,#T_f7725_row8_col8,#T_f7725_row9_col9,#T_f7725_row10_col10,#T_f7725_row11_col11,#T_f7725_row12_col12,#T_f7725_row13_col13,#T_f7725_row14_col14,#T_f7725_row15_col15,#T_f7725_row16_col16,#T_f7725_row17_col17,#T_f7725_row18_col18,#T_f7725_row19_col19,#T_f7725_row20_col20,#T_f7725_row21_col21{\n",
       "            background-color:  #4479bb;\n",
       "            color:  #000000;\n",
       "            max-width:  80px;\n",
       "            font-size:  10pt;\n",
       "        }#T_f7725_row0_col1,#T_f7725_row1_col5,#T_f7725_row8_col0,#T_f7725_row8_col19,#T_f7725_row9_col12,#T_f7725_row9_col19,#T_f7725_row12_col21,#T_f7725_row18_col13,#T_f7725_row21_col6{\n",
       "            background-color:  #d94a67;\n",
       "            color:  #000000;\n",
       "            max-width:  80px;\n",
       "            font-size:  10pt;\n",
       "        }#T_f7725_row0_col2,#T_f7725_row0_col21,#T_f7725_row3_col8,#T_f7725_row9_col5,#T_f7725_row21_col3,#T_f7725_row21_col15{\n",
       "            background-color:  #d84462;\n",
       "            color:  #f1f1f1;\n",
       "            max-width:  80px;\n",
       "            font-size:  10pt;\n",
       "        }#T_f7725_row0_col3,#T_f7725_row0_col15,#T_f7725_row2_col9,#T_f7725_row4_col11,#T_f7725_row10_col7,#T_f7725_row12_col8,#T_f7725_row18_col20{\n",
       "            background-color:  #db5570;\n",
       "            color:  #000000;\n",
       "            max-width:  80px;\n",
       "            font-size:  10pt;\n",
       "        }#T_f7725_row0_col4,#T_f7725_row0_col6,#T_f7725_row9_col16,#T_f7725_row21_col2,#T_f7725_row21_col10,#T_f7725_row21_col14{\n",
       "            background-color:  #d94865;\n",
       "            color:  #000000;\n",
       "            max-width:  80px;\n",
       "            font-size:  10pt;\n",
       "        }#T_f7725_row0_col5,#T_f7725_row6_col15,#T_f7725_row8_col15,#T_f7725_row11_col4,#T_f7725_row18_col5,#T_f7725_row21_col7,#T_f7725_row21_col8,#T_f7725_row21_col17,#T_f7725_row21_col18{\n",
       "            background-color:  #d94764;\n",
       "            color:  #f1f1f1;\n",
       "            max-width:  80px;\n",
       "            font-size:  10pt;\n",
       "        }#T_f7725_row0_col7,#T_f7725_row0_col10,#T_f7725_row0_col17,#T_f7725_row4_col6,#T_f7725_row9_col14,#T_f7725_row9_col21,#T_f7725_row10_col8,#T_f7725_row10_col9,#T_f7725_row10_col20,#T_f7725_row12_col5,#T_f7725_row18_col3{\n",
       "            background-color:  #da516c;\n",
       "            color:  #000000;\n",
       "            max-width:  80px;\n",
       "            font-size:  10pt;\n",
       "        }#T_f7725_row0_col8,#T_f7725_row1_col13,#T_f7725_row2_col3,#T_f7725_row3_col2,#T_f7725_row4_col1,#T_f7725_row5_col1,#T_f7725_row6_col3,#T_f7725_row7_col1,#T_f7725_row8_col3,#T_f7725_row9_col2,#T_f7725_row9_col4,#T_f7725_row10_col3,#T_f7725_row11_col15,#T_f7725_row12_col15,#T_f7725_row13_col1,#T_f7725_row14_col15,#T_f7725_row15_col14,#T_f7725_row16_col14,#T_f7725_row17_col1,#T_f7725_row17_col2,#T_f7725_row17_col4,#T_f7725_row17_col5,#T_f7725_row17_col7,#T_f7725_row17_col10,#T_f7725_row17_col12,#T_f7725_row17_col21,#T_f7725_row18_col15,#T_f7725_row19_col20,#T_f7725_row20_col19,#T_f7725_row21_col0,#T_f7725_row21_col19{\n",
       "            background-color:  #d73c5b;\n",
       "            color:  #f1f1f1;\n",
       "            max-width:  80px;\n",
       "            font-size:  10pt;\n",
       "        }#T_f7725_row0_col9,#T_f7725_row0_col13,#T_f7725_row1_col16,#T_f7725_row4_col3,#T_f7725_row4_col9,#T_f7725_row8_col2,#T_f7725_row9_col10,#T_f7725_row10_col17,#T_f7725_row11_col9,#T_f7725_row12_col3,#T_f7725_row12_col9,#T_f7725_row18_col19{\n",
       "            background-color:  #da4e6a;\n",
       "            color:  #000000;\n",
       "            max-width:  80px;\n",
       "            font-size:  10pt;\n",
       "        }#T_f7725_row0_col11,#T_f7725_row1_col6,#T_f7725_row1_col18,#T_f7725_row11_col19,#T_f7725_row12_col0{\n",
       "            background-color:  #e3889a;\n",
       "            color:  #000000;\n",
       "            max-width:  80px;\n",
       "            font-size:  10pt;\n",
       "        }#T_f7725_row0_col12,#T_f7725_row11_col0,#T_f7725_row13_col7,#T_f7725_row13_col11,#T_f7725_row16_col10{\n",
       "            background-color:  #e28799;\n",
       "            color:  #000000;\n",
       "            max-width:  80px;\n",
       "            font-size:  10pt;\n",
       "        }#T_f7725_row0_col14,#T_f7725_row3_col7,#T_f7725_row4_col8,#T_f7725_row5_col14,#T_f7725_row6_col5,#T_f7725_row8_col4,#T_f7725_row8_col5,#T_f7725_row9_col7,#T_f7725_row9_col15,#T_f7725_row9_col20,#T_f7725_row10_col0,#T_f7725_row10_col14,#T_f7725_row10_col19,#T_f7725_row10_col21,#T_f7725_row11_col17,#T_f7725_row12_col17{\n",
       "            background-color:  #da506b;\n",
       "            color:  #000000;\n",
       "            max-width:  80px;\n",
       "            font-size:  10pt;\n",
       "        }#T_f7725_row0_col16,#T_f7725_row1_col7,#T_f7725_row9_col0,#T_f7725_row11_col5,#T_f7725_row18_col4,#T_f7725_row18_col7,#T_f7725_row18_col10,#T_f7725_row21_col1,#T_f7725_row21_col9{\n",
       "            background-color:  #da4b68;\n",
       "            color:  #000000;\n",
       "            max-width:  80px;\n",
       "            font-size:  10pt;\n",
       "        }#T_f7725_row0_col18,#T_f7725_row4_col14,#T_f7725_row10_col1,#T_f7725_row10_col11,#T_f7725_row11_col10,#T_f7725_row11_col20,#T_f7725_row16_col1,#T_f7725_row18_col16,#T_f7725_row21_col11,#T_f7725_row21_col16{\n",
       "            background-color:  #d94663;\n",
       "            color:  #f1f1f1;\n",
       "            max-width:  80px;\n",
       "            font-size:  10pt;\n",
       "        }#T_f7725_row0_col19,#T_f7725_row19_col0{\n",
       "            background-color:  #4d7fbe;\n",
       "            color:  #000000;\n",
       "            max-width:  80px;\n",
       "            font-size:  10pt;\n",
       "        }#T_f7725_row0_col20,#T_f7725_row2_col6,#T_f7725_row16_col9,#T_f7725_row18_col11,#T_f7725_row18_col12,#T_f7725_row19_col9,#T_f7725_row20_col1,#T_f7725_row20_col4,#T_f7725_row20_col5,#T_f7725_row20_col6,#T_f7725_row20_col18{\n",
       "            background-color:  #df6d84;\n",
       "            color:  #000000;\n",
       "            max-width:  80px;\n",
       "            font-size:  10pt;\n",
       "        }#T_f7725_row1_col0,#T_f7725_row1_col19,#T_f7725_row6_col1,#T_f7725_row8_col14,#T_f7725_row9_col8,#T_f7725_row19_col3{\n",
       "            background-color:  #e07389;\n",
       "            color:  #000000;\n",
       "            max-width:  80px;\n",
       "            font-size:  10pt;\n",
       "        }#T_f7725_row1_col2,#T_f7725_row2_col11,#T_f7725_row16_col17,#T_f7725_row20_col3,#T_f7725_row20_col9{\n",
       "            background-color:  #df7288;\n",
       "            color:  #000000;\n",
       "            max-width:  80px;\n",
       "            font-size:  10pt;\n",
       "        }#T_f7725_row1_col3,#T_f7725_row1_col11,#T_f7725_row1_col12,#T_f7725_row1_col21,#T_f7725_row4_col15,#T_f7725_row7_col15{\n",
       "            background-color:  #e17c90;\n",
       "            color:  #000000;\n",
       "            max-width:  80px;\n",
       "            font-size:  10pt;\n",
       "        }#T_f7725_row1_col4,#T_f7725_row2_col7,#T_f7725_row2_col8,#T_f7725_row3_col5,#T_f7725_row18_col21{\n",
       "            background-color:  #db5872;\n",
       "            color:  #000000;\n",
       "            max-width:  80px;\n",
       "            font-size:  10pt;\n",
       "        }#T_f7725_row1_col8{\n",
       "            background-color:  #e28396;\n",
       "            color:  #000000;\n",
       "            max-width:  80px;\n",
       "            font-size:  10pt;\n",
       "        }#T_f7725_row1_col9,#T_f7725_row7_col5,#T_f7725_row16_col21,#T_f7725_row19_col10,#T_f7725_row19_col13,#T_f7725_row19_col14,#T_f7725_row20_col7,#T_f7725_row20_col8,#T_f7725_row20_col14,#T_f7725_row20_col16,#T_f7725_row20_col17{\n",
       "            background-color:  #df6f85;\n",
       "            color:  #000000;\n",
       "            max-width:  80px;\n",
       "            font-size:  10pt;\n",
       "        }#T_f7725_row1_col10,#T_f7725_row5_col7,#T_f7725_row7_col10,#T_f7725_row16_col20,#T_f7725_row19_col7,#T_f7725_row19_col17,#T_f7725_row20_col10{\n",
       "            background-color:  #df7086;\n",
       "            color:  #000000;\n",
       "            max-width:  80px;\n",
       "            font-size:  10pt;\n",
       "        }#T_f7725_row1_col14{\n",
       "            background-color:  #e595a5;\n",
       "            color:  #000000;\n",
       "            max-width:  80px;\n",
       "            font-size:  10pt;\n",
       "        }#T_f7725_row1_col15,#T_f7725_row3_col10,#T_f7725_row3_col14,#T_f7725_row6_col4,#T_f7725_row6_col7,#T_f7725_row11_col3,#T_f7725_row11_col6,#T_f7725_row11_col8,#T_f7725_row12_col1,#T_f7725_row13_col3{\n",
       "            background-color:  #db546f;\n",
       "            color:  #000000;\n",
       "            max-width:  80px;\n",
       "            font-size:  10pt;\n",
       "        }#T_f7725_row1_col17,#T_f7725_row1_col20,#T_f7725_row5_col10,#T_f7725_row13_col0,#T_f7725_row13_col6,#T_f7725_row13_col17,#T_f7725_row13_col19{\n",
       "            background-color:  #e0778c;\n",
       "            color:  #000000;\n",
       "            max-width:  80px;\n",
       "            font-size:  10pt;\n",
       "        }#T_f7725_row2_col0,#T_f7725_row4_col12,#T_f7725_row4_col20,#T_f7725_row5_col6,#T_f7725_row6_col19{\n",
       "            background-color:  #dc5b75;\n",
       "            color:  #000000;\n",
       "            max-width:  80px;\n",
       "            font-size:  10pt;\n",
       "        }#T_f7725_row2_col1,#T_f7725_row3_col18,#T_f7725_row6_col13,#T_f7725_row10_col2,#T_f7725_row11_col13,#T_f7725_row16_col18{\n",
       "            background-color:  #dd6179;\n",
       "            color:  #000000;\n",
       "            max-width:  80px;\n",
       "            font-size:  10pt;\n",
       "        }#T_f7725_row2_col4{\n",
       "            background-color:  #ebbfc8;\n",
       "            color:  #000000;\n",
       "            max-width:  80px;\n",
       "            font-size:  10pt;\n",
       "        }#T_f7725_row2_col5{\n",
       "            background-color:  #e9afbb;\n",
       "            color:  #000000;\n",
       "            max-width:  80px;\n",
       "            font-size:  10pt;\n",
       "        }#T_f7725_row2_col10,#T_f7725_row6_col14,#T_f7725_row11_col14,#T_f7725_row12_col14,#T_f7725_row18_col6{\n",
       "            background-color:  #e0768b;\n",
       "            color:  #000000;\n",
       "            max-width:  80px;\n",
       "            font-size:  10pt;\n",
       "        }#T_f7725_row2_col12,#T_f7725_row13_col8,#T_f7725_row16_col11,#T_f7725_row16_col12{\n",
       "            background-color:  #e17d91;\n",
       "            color:  #000000;\n",
       "            max-width:  80px;\n",
       "            font-size:  10pt;\n",
       "        }#T_f7725_row2_col13,#T_f7725_row15_col0,#T_f7725_row15_col19{\n",
       "            background-color:  #ebbec6;\n",
       "            color:  #000000;\n",
       "            max-width:  80px;\n",
       "            font-size:  10pt;\n",
       "        }#T_f7725_row2_col14,#T_f7725_row2_col17,#T_f7725_row3_col12,#T_f7725_row6_col11,#T_f7725_row19_col2,#T_f7725_row19_col21{\n",
       "            background-color:  #dd657d;\n",
       "            color:  #000000;\n",
       "            max-width:  80px;\n",
       "            font-size:  10pt;\n",
       "        }#T_f7725_row2_col15,#T_f7725_row2_col18,#T_f7725_row3_col0,#T_f7725_row3_col1,#T_f7725_row3_col11,#T_f7725_row3_col19,#T_f7725_row5_col17,#T_f7725_row7_col0,#T_f7725_row7_col4,#T_f7725_row7_col8,#T_f7725_row7_col19,#T_f7725_row16_col8,#T_f7725_row18_col1,#T_f7725_row19_col1,#T_f7725_row19_col16,#T_f7725_row20_col21{\n",
       "            background-color:  #de6b82;\n",
       "            color:  #000000;\n",
       "            max-width:  80px;\n",
       "            font-size:  10pt;\n",
       "        }#T_f7725_row2_col16,#T_f7725_row4_col16,#T_f7725_row8_col9{\n",
       "            background-color:  #e28194;\n",
       "            color:  #000000;\n",
       "            max-width:  80px;\n",
       "            font-size:  10pt;\n",
       "        }#T_f7725_row2_col19,#T_f7725_row5_col3,#T_f7725_row5_col18,#T_f7725_row7_col2,#T_f7725_row9_col3,#T_f7725_row9_col13,#T_f7725_row10_col5,#T_f7725_row11_col2,#T_f7725_row11_col16,#T_f7725_row18_col2,#T_f7725_row19_col8{\n",
       "            background-color:  #dc5c76;\n",
       "            color:  #000000;\n",
       "            max-width:  80px;\n",
       "            font-size:  10pt;\n",
       "        }#T_f7725_row2_col20,#T_f7725_row6_col17,#T_f7725_row8_col11,#T_f7725_row8_col13{\n",
       "            background-color:  #dd627b;\n",
       "            color:  #000000;\n",
       "            max-width:  80px;\n",
       "            font-size:  10pt;\n",
       "        }#T_f7725_row2_col21,#T_f7725_row3_col17,#T_f7725_row3_col20,#T_f7725_row4_col10,#T_f7725_row5_col11,#T_f7725_row6_col2,#T_f7725_row9_col6,#T_f7725_row10_col16,#T_f7725_row16_col6,#T_f7725_row18_col9,#T_f7725_row19_col5{\n",
       "            background-color:  #de687f;\n",
       "            color:  #000000;\n",
       "            max-width:  80px;\n",
       "            font-size:  10pt;\n",
       "        }#T_f7725_row3_col4,#T_f7725_row4_col0,#T_f7725_row4_col19,#T_f7725_row4_col21,#T_f7725_row6_col16,#T_f7725_row8_col16,#T_f7725_row12_col6{\n",
       "            background-color:  #db5771;\n",
       "            color:  #000000;\n",
       "            max-width:  80px;\n",
       "            font-size:  10pt;\n",
       "        }#T_f7725_row3_col6,#T_f7725_row21_col12{\n",
       "            background-color:  #d8415f;\n",
       "            color:  #f1f1f1;\n",
       "            max-width:  80px;\n",
       "            font-size:  10pt;\n",
       "        }#T_f7725_row3_col9,#T_f7725_row13_col20,#T_f7725_row13_col21,#T_f7725_row19_col15{\n",
       "            background-color:  #e0748a;\n",
       "            color:  #000000;\n",
       "            max-width:  80px;\n",
       "            font-size:  10pt;\n",
       "        }#T_f7725_row3_col13,#T_f7725_row21_col4{\n",
       "            background-color:  #d8405e;\n",
       "            color:  #f1f1f1;\n",
       "            max-width:  80px;\n",
       "            font-size:  10pt;\n",
       "        }#T_f7725_row3_col15,#T_f7725_row16_col7{\n",
       "            background-color:  #e18093;\n",
       "            color:  #000000;\n",
       "            max-width:  80px;\n",
       "            font-size:  10pt;\n",
       "        }#T_f7725_row3_col16,#T_f7725_row6_col0,#T_f7725_row7_col14,#T_f7725_row10_col4,#T_f7725_row13_col14{\n",
       "            background-color:  #dc5973;\n",
       "            color:  #000000;\n",
       "            max-width:  80px;\n",
       "            font-size:  10pt;\n",
       "        }#T_f7725_row3_col21,#T_f7725_row5_col0,#T_f7725_row5_col9,#T_f7725_row5_col19,#T_f7725_row5_col21,#T_f7725_row6_col21,#T_f7725_row8_col12,#T_f7725_row16_col3,#T_f7725_row20_col12{\n",
       "            background-color:  #dd637c;\n",
       "            color:  #000000;\n",
       "            max-width:  80px;\n",
       "            font-size:  10pt;\n",
       "        }#T_f7725_row4_col2,#T_f7725_row14_col0,#T_f7725_row14_col10,#T_f7725_row14_col17,#T_f7725_row14_col19,#T_f7725_row14_col20,#T_f7725_row15_col17{\n",
       "            background-color:  #eab9c3;\n",
       "            color:  #000000;\n",
       "            max-width:  80px;\n",
       "            font-size:  10pt;\n",
       "        }#T_f7725_row4_col5{\n",
       "            background-color:  #a2bad9;\n",
       "            color:  #000000;\n",
       "            max-width:  80px;\n",
       "            font-size:  10pt;\n",
       "        }#T_f7725_row4_col7,#T_f7725_row4_col17,#T_f7725_row5_col8,#T_f7725_row6_col10,#T_f7725_row7_col6,#T_f7725_row7_col18,#T_f7725_row8_col17,#T_f7725_row8_col20,#T_f7725_row8_col21,#T_f7725_row9_col18,#T_f7725_row10_col12{\n",
       "            background-color:  #dc5e77;\n",
       "            color:  #000000;\n",
       "            max-width:  80px;\n",
       "            font-size:  10pt;\n",
       "        }#T_f7725_row4_col13{\n",
       "            background-color:  #e9b1bc;\n",
       "            color:  #000000;\n",
       "            max-width:  80px;\n",
       "            font-size:  10pt;\n",
       "        }#T_f7725_row4_col18,#T_f7725_row7_col3,#T_f7725_row11_col1{\n",
       "            background-color:  #db526e;\n",
       "            color:  #000000;\n",
       "            max-width:  80px;\n",
       "            font-size:  10pt;\n",
       "        }#T_f7725_row5_col2{\n",
       "            background-color:  #e9b2bd;\n",
       "            color:  #000000;\n",
       "            max-width:  80px;\n",
       "            font-size:  10pt;\n",
       "        }#T_f7725_row5_col4,#T_f7725_row11_col12{\n",
       "            background-color:  #9eb8d8;\n",
       "            color:  #000000;\n",
       "            max-width:  80px;\n",
       "            font-size:  10pt;\n",
       "        }#T_f7725_row5_col12,#T_f7725_row7_col9,#T_f7725_row13_col18,#T_f7725_row16_col0,#T_f7725_row16_col19,#T_f7725_row20_col2,#T_f7725_row20_col13,#T_f7725_row20_col15{\n",
       "            background-color:  #de6c83;\n",
       "            color:  #000000;\n",
       "            max-width:  80px;\n",
       "            font-size:  10pt;\n",
       "        }#T_f7725_row5_col13{\n",
       "            background-color:  #ecc3cb;\n",
       "            color:  #000000;\n",
       "            max-width:  80px;\n",
       "            font-size:  10pt;\n",
       "        }#T_f7725_row5_col15,#T_f7725_row16_col2{\n",
       "            background-color:  #e38b9d;\n",
       "            color:  #000000;\n",
       "            max-width:  80px;\n",
       "            font-size:  10pt;\n",
       "        }#T_f7725_row5_col16{\n",
       "            background-color:  #e59aa9;\n",
       "            color:  #000000;\n",
       "            max-width:  80px;\n",
       "            font-size:  10pt;\n",
       "        }#T_f7725_row5_col20,#T_f7725_row7_col17,#T_f7725_row7_col20,#T_f7725_row7_col21,#T_f7725_row8_col1,#T_f7725_row12_col2,#T_f7725_row12_col13,#T_f7725_row19_col4,#T_f7725_row19_col6{\n",
       "            background-color:  #de6980;\n",
       "            color:  #000000;\n",
       "            max-width:  80px;\n",
       "            font-size:  10pt;\n",
       "        }#T_f7725_row6_col8,#T_f7725_row18_col17{\n",
       "            background-color:  #e6a0ae;\n",
       "            color:  #000000;\n",
       "            max-width:  80px;\n",
       "            font-size:  10pt;\n",
       "        }#T_f7725_row6_col9,#T_f7725_row7_col13,#T_f7725_row10_col13{\n",
       "            background-color:  #e17a8f;\n",
       "            color:  #000000;\n",
       "            max-width:  80px;\n",
       "            font-size:  10pt;\n",
       "        }#T_f7725_row6_col12,#T_f7725_row7_col11,#T_f7725_row7_col12,#T_f7725_row11_col18,#T_f7725_row12_col18,#T_f7725_row19_col18,#T_f7725_row20_col11{\n",
       "            background-color:  #de667e;\n",
       "            color:  #000000;\n",
       "            max-width:  80px;\n",
       "            font-size:  10pt;\n",
       "        }#T_f7725_row6_col18{\n",
       "            background-color:  #e17e92;\n",
       "            color:  #000000;\n",
       "            max-width:  80px;\n",
       "            font-size:  10pt;\n",
       "        }#T_f7725_row6_col20,#T_f7725_row8_col7,#T_f7725_row8_col10,#T_f7725_row12_col10,#T_f7725_row12_col16{\n",
       "            background-color:  #dd5f78;\n",
       "            color:  #000000;\n",
       "            max-width:  80px;\n",
       "            font-size:  10pt;\n",
       "        }#T_f7725_row7_col16,#T_f7725_row18_col14{\n",
       "            background-color:  #e0798d;\n",
       "            color:  #000000;\n",
       "            max-width:  80px;\n",
       "            font-size:  10pt;\n",
       "        }#T_f7725_row8_col6,#T_f7725_row13_col10,#T_f7725_row16_col5{\n",
       "            background-color:  #e69ead;\n",
       "            color:  #000000;\n",
       "            max-width:  80px;\n",
       "            font-size:  10pt;\n",
       "        }#T_f7725_row8_col18,#T_f7725_row12_col19,#T_f7725_row17_col18,#T_f7725_row20_col0{\n",
       "            background-color:  #e38a9c;\n",
       "            color:  #000000;\n",
       "            max-width:  80px;\n",
       "            font-size:  10pt;\n",
       "        }#T_f7725_row9_col1,#T_f7725_row10_col18,#T_f7725_row12_col20,#T_f7725_row21_col13,#T_f7725_row21_col20{\n",
       "            background-color:  #d84361;\n",
       "            color:  #f1f1f1;\n",
       "            max-width:  80px;\n",
       "            font-size:  10pt;\n",
       "        }#T_f7725_row9_col11,#T_f7725_row9_col17,#T_f7725_row10_col6,#T_f7725_row10_col15,#T_f7725_row11_col7,#T_f7725_row11_col21,#T_f7725_row12_col4,#T_f7725_row12_col7,#T_f7725_row18_col0{\n",
       "            background-color:  #da4d69;\n",
       "            color:  #000000;\n",
       "            max-width:  80px;\n",
       "            font-size:  10pt;\n",
       "        }#T_f7725_row12_col11{\n",
       "            background-color:  #9db7d7;\n",
       "            color:  #000000;\n",
       "            max-width:  80px;\n",
       "            font-size:  10pt;\n",
       "        }#T_f7725_row13_col2{\n",
       "            background-color:  #edcad1;\n",
       "            color:  #000000;\n",
       "            max-width:  80px;\n",
       "            font-size:  10pt;\n",
       "        }#T_f7725_row13_col4{\n",
       "            background-color:  #ecc5cc;\n",
       "            color:  #000000;\n",
       "            max-width:  80px;\n",
       "            font-size:  10pt;\n",
       "        }#T_f7725_row13_col5{\n",
       "            background-color:  #edcdd3;\n",
       "            color:  #000000;\n",
       "            max-width:  80px;\n",
       "            font-size:  10pt;\n",
       "        }#T_f7725_row13_col9{\n",
       "            background-color:  #e28698;\n",
       "            color:  #000000;\n",
       "            max-width:  80px;\n",
       "            font-size:  10pt;\n",
       "        }#T_f7725_row13_col12{\n",
       "            background-color:  #e48e9f;\n",
       "            color:  #000000;\n",
       "            max-width:  80px;\n",
       "            font-size:  10pt;\n",
       "        }#T_f7725_row13_col15{\n",
       "            background-color:  #e69caa;\n",
       "            color:  #000000;\n",
       "            max-width:  80px;\n",
       "            font-size:  10pt;\n",
       "        }#T_f7725_row13_col16{\n",
       "            background-color:  #e9b4be;\n",
       "            color:  #000000;\n",
       "            max-width:  80px;\n",
       "            font-size:  10pt;\n",
       "        }#T_f7725_row14_col1{\n",
       "            background-color:  #edd0d6;\n",
       "            color:  #000000;\n",
       "            max-width:  80px;\n",
       "            font-size:  10pt;\n",
       "        }#T_f7725_row14_col2,#T_f7725_row15_col21{\n",
       "            background-color:  #eab8c2;\n",
       "            color:  #000000;\n",
       "            max-width:  80px;\n",
       "            font-size:  10pt;\n",
       "        }#T_f7725_row14_col3,#T_f7725_row15_col11{\n",
       "            background-color:  #e8abb7;\n",
       "            color:  #000000;\n",
       "            max-width:  80px;\n",
       "            font-size:  10pt;\n",
       "        }#T_f7725_row14_col4,#T_f7725_row15_col6{\n",
       "            background-color:  #e7a7b4;\n",
       "            color:  #000000;\n",
       "            max-width:  80px;\n",
       "            font-size:  10pt;\n",
       "        }#T_f7725_row14_col5,#T_f7725_row19_col11,#T_f7725_row19_col12{\n",
       "            background-color:  #e7a4b1;\n",
       "            color:  #000000;\n",
       "            max-width:  80px;\n",
       "            font-size:  10pt;\n",
       "        }#T_f7725_row14_col6,#T_f7725_row14_col8{\n",
       "            background-color:  #ecc9d0;\n",
       "            color:  #000000;\n",
       "            max-width:  80px;\n",
       "            font-size:  10pt;\n",
       "        }#T_f7725_row14_col7,#T_f7725_row16_col15{\n",
       "            background-color:  #e8adb8;\n",
       "            color:  #000000;\n",
       "            max-width:  80px;\n",
       "            font-size:  10pt;\n",
       "        }#T_f7725_row14_col9,#T_f7725_row15_col2{\n",
       "            background-color:  #eabcc5;\n",
       "            color:  #000000;\n",
       "            max-width:  80px;\n",
       "            font-size:  10pt;\n",
       "        }#T_f7725_row14_col11{\n",
       "            background-color:  #eed4d9;\n",
       "            color:  #000000;\n",
       "            max-width:  80px;\n",
       "            font-size:  10pt;\n",
       "        }#T_f7725_row14_col12{\n",
       "            background-color:  #eed3d8;\n",
       "            color:  #000000;\n",
       "            max-width:  80px;\n",
       "            font-size:  10pt;\n",
       "        }#T_f7725_row14_col13{\n",
       "            background-color:  #e6a1af;\n",
       "            color:  #000000;\n",
       "            max-width:  80px;\n",
       "            font-size:  10pt;\n",
       "        }#T_f7725_row14_col16{\n",
       "            background-color:  #e48fa0;\n",
       "            color:  #000000;\n",
       "            max-width:  80px;\n",
       "            font-size:  10pt;\n",
       "        }#T_f7725_row14_col18,#T_f7725_row15_col5{\n",
       "            background-color:  #eed2d7;\n",
       "            color:  #000000;\n",
       "            max-width:  80px;\n",
       "            font-size:  10pt;\n",
       "        }#T_f7725_row14_col21,#T_f7725_row15_col9{\n",
       "            background-color:  #eabbc4;\n",
       "            color:  #000000;\n",
       "            max-width:  80px;\n",
       "            font-size:  10pt;\n",
       "        }#T_f7725_row15_col1{\n",
       "            background-color:  #e69dab;\n",
       "            color:  #000000;\n",
       "            max-width:  80px;\n",
       "            font-size:  10pt;\n",
       "        }#T_f7725_row15_col3{\n",
       "            background-color:  #edccd2;\n",
       "            color:  #000000;\n",
       "            max-width:  80px;\n",
       "            font-size:  10pt;\n",
       "        }#T_f7725_row15_col4{\n",
       "            background-color:  #edcfd5;\n",
       "            color:  #000000;\n",
       "            max-width:  80px;\n",
       "            font-size:  10pt;\n",
       "        }#T_f7725_row15_col7{\n",
       "            background-color:  #ecc8cf;\n",
       "            color:  #000000;\n",
       "            max-width:  80px;\n",
       "            font-size:  10pt;\n",
       "        }#T_f7725_row15_col8{\n",
       "            background-color:  #e7a8b5;\n",
       "            color:  #000000;\n",
       "            max-width:  80px;\n",
       "            font-size:  10pt;\n",
       "        }#T_f7725_row15_col10,#T_f7725_row15_col20{\n",
       "            background-color:  #eab7c1;\n",
       "            color:  #000000;\n",
       "            max-width:  80px;\n",
       "            font-size:  10pt;\n",
       "        }#T_f7725_row15_col12{\n",
       "            background-color:  #e8aab6;\n",
       "            color:  #000000;\n",
       "            max-width:  80px;\n",
       "            font-size:  10pt;\n",
       "        }#T_f7725_row15_col13{\n",
       "            background-color:  #eed6db;\n",
       "            color:  #000000;\n",
       "            max-width:  80px;\n",
       "            font-size:  10pt;\n",
       "        }#T_f7725_row15_col16{\n",
       "            background-color:  #f1e7e9;\n",
       "            color:  #000000;\n",
       "            max-width:  80px;\n",
       "            font-size:  10pt;\n",
       "        }#T_f7725_row15_col18{\n",
       "            background-color:  #e7a5b2;\n",
       "            color:  #000000;\n",
       "            max-width:  80px;\n",
       "            font-size:  10pt;\n",
       "        }#T_f7725_row16_col4{\n",
       "            background-color:  #e491a1;\n",
       "            color:  #000000;\n",
       "            max-width:  80px;\n",
       "            font-size:  10pt;\n",
       "        }#T_f7725_row16_col13{\n",
       "            background-color:  #e8aeba;\n",
       "            color:  #000000;\n",
       "            max-width:  80px;\n",
       "            font-size:  10pt;\n",
       "        }#T_f7725_row17_col0,#T_f7725_row17_col3,#T_f7725_row17_col6,#T_f7725_row17_col16,#T_f7725_row21_col5{\n",
       "            background-color:  #d83e5d;\n",
       "            color:  #f1f1f1;\n",
       "            max-width:  80px;\n",
       "            font-size:  10pt;\n",
       "        }#T_f7725_row17_col8,#T_f7725_row17_col9,#T_f7725_row17_col11,#T_f7725_row17_col13,#T_f7725_row17_col14,#T_f7725_row17_col15,#T_f7725_row17_col19,#T_f7725_row17_col20{\n",
       "            background-color:  #d73d5c;\n",
       "            color:  #f1f1f1;\n",
       "            max-width:  80px;\n",
       "            font-size:  10pt;\n",
       "        }#T_f7725_row18_col8{\n",
       "            background-color:  #e28497;\n",
       "            color:  #000000;\n",
       "            max-width:  80px;\n",
       "            font-size:  10pt;\n",
       "        }</style><table id=\"T_f7725_\" ><caption>Heatmap</caption><thead>    <tr>        <th class=\"blank level0\" ></th>        <th class=\"col_heading level0 col0\" >client_id</th>        <th class=\"col_heading level0 col1\" >education</th>        <th class=\"col_heading level0 col2\" >sex</th>        <th class=\"col_heading level0 col3\" >age</th>        <th class=\"col_heading level0 col4\" >car</th>        <th class=\"col_heading level0 col5\" >car_type</th>        <th class=\"col_heading level0 col6\" >decline_app_cnt</th>        <th class=\"col_heading level0 col7\" >good_work</th>        <th class=\"col_heading level0 col8\" >score_bki</th>        <th class=\"col_heading level0 col9\" >bki_request_cnt</th>        <th class=\"col_heading level0 col10\" >region_rating</th>        <th class=\"col_heading level0 col11\" >home_address</th>        <th class=\"col_heading level0 col12\" >work_address</th>        <th class=\"col_heading level0 col13\" >income</th>        <th class=\"col_heading level0 col14\" >sna</th>        <th class=\"col_heading level0 col15\" >first_time</th>        <th class=\"col_heading level0 col16\" >foreign_passport</th>        <th class=\"col_heading level0 col17\" >sample</th>        <th class=\"col_heading level0 col18\" >default</th>        <th class=\"col_heading level0 col19\" >month</th>        <th class=\"col_heading level0 col20\" >date</th>        <th class=\"col_heading level0 col21\" >dayofweek</th>    </tr></thead><tbody>\n",
       "                <tr>\n",
       "                        <th id=\"T_f7725_level0_row0\" class=\"row_heading level0 row0\" >client_id</th>\n",
       "                        <td id=\"T_f7725_row0_col0\" class=\"data row0 col0\" >1.00</td>\n",
       "                        <td id=\"T_f7725_row0_col1\" class=\"data row0 col1\" >-0.02</td>\n",
       "                        <td id=\"T_f7725_row0_col2\" class=\"data row0 col2\" >-0.03</td>\n",
       "                        <td id=\"T_f7725_row0_col3\" class=\"data row0 col3\" >0.02</td>\n",
       "                        <td id=\"T_f7725_row0_col4\" class=\"data row0 col4\" >-0.02</td>\n",
       "                        <td id=\"T_f7725_row0_col5\" class=\"data row0 col5\" >-0.02</td>\n",
       "                        <td id=\"T_f7725_row0_col6\" class=\"data row0 col6\" >-0.02</td>\n",
       "                        <td id=\"T_f7725_row0_col7\" class=\"data row0 col7\" >0.00</td>\n",
       "                        <td id=\"T_f7725_row0_col8\" class=\"data row0 col8\" >-0.06</td>\n",
       "                        <td id=\"T_f7725_row0_col9\" class=\"data row0 col9\" >-0.00</td>\n",
       "                        <td id=\"T_f7725_row0_col10\" class=\"data row0 col10\" >0.00</td>\n",
       "                        <td id=\"T_f7725_row0_col11\" class=\"data row0 col11\" >0.16</td>\n",
       "                        <td id=\"T_f7725_row0_col12\" class=\"data row0 col12\" >0.16</td>\n",
       "                        <td id=\"T_f7725_row0_col13\" class=\"data row0 col13\" >-0.00</td>\n",
       "                        <td id=\"T_f7725_row0_col14\" class=\"data row0 col14\" >-0.00</td>\n",
       "                        <td id=\"T_f7725_row0_col15\" class=\"data row0 col15\" >0.02</td>\n",
       "                        <td id=\"T_f7725_row0_col16\" class=\"data row0 col16\" >-0.01</td>\n",
       "                        <td id=\"T_f7725_row0_col17\" class=\"data row0 col17\" >0.00</td>\n",
       "                        <td id=\"T_f7725_row0_col18\" class=\"data row0 col18\" >-0.03</td>\n",
       "                        <td id=\"T_f7725_row0_col19\" class=\"data row0 col19\" >0.97</td>\n",
       "                        <td id=\"T_f7725_row0_col20\" class=\"data row0 col20\" >0.09</td>\n",
       "                        <td id=\"T_f7725_row0_col21\" class=\"data row0 col21\" >-0.03</td>\n",
       "            </tr>\n",
       "            <tr>\n",
       "                        <th id=\"T_f7725_level0_row1\" class=\"row_heading level0 row1\" >education</th>\n",
       "                        <td id=\"T_f7725_row1_col0\" class=\"data row1 col0\" >-0.02</td>\n",
       "                        <td id=\"T_f7725_row1_col1\" class=\"data row1 col1\" >1.00</td>\n",
       "                        <td id=\"T_f7725_row1_col2\" class=\"data row1 col2\" >-0.02</td>\n",
       "                        <td id=\"T_f7725_row1_col3\" class=\"data row1 col3\" >0.01</td>\n",
       "                        <td id=\"T_f7725_row1_col4\" class=\"data row1 col4\" >-0.11</td>\n",
       "                        <td id=\"T_f7725_row1_col5\" class=\"data row1 col5\" >-0.15</td>\n",
       "                        <td id=\"T_f7725_row1_col6\" class=\"data row1 col6\" >0.06</td>\n",
       "                        <td id=\"T_f7725_row1_col7\" class=\"data row1 col7\" >-0.15</td>\n",
       "                        <td id=\"T_f7725_row1_col8\" class=\"data row1 col8\" >0.04</td>\n",
       "                        <td id=\"T_f7725_row1_col9\" class=\"data row1 col9\" >-0.03</td>\n",
       "                        <td id=\"T_f7725_row1_col10\" class=\"data row1 col10\" >-0.03</td>\n",
       "                        <td id=\"T_f7725_row1_col11\" class=\"data row1 col11\" >0.01</td>\n",
       "                        <td id=\"T_f7725_row1_col12\" class=\"data row1 col12\" >0.01</td>\n",
       "                        <td id=\"T_f7725_row1_col13\" class=\"data row1 col13\" >-0.20</td>\n",
       "                        <td id=\"T_f7725_row1_col14\" class=\"data row1 col14\" >0.10</td>\n",
       "                        <td id=\"T_f7725_row1_col15\" class=\"data row1 col15\" >-0.12</td>\n",
       "                        <td id=\"T_f7725_row1_col16\" class=\"data row1 col16\" >-0.14</td>\n",
       "                        <td id=\"T_f7725_row1_col17\" class=\"data row1 col17\" >-0.00</td>\n",
       "                        <td id=\"T_f7725_row1_col18\" class=\"data row1 col18\" >0.06</td>\n",
       "                        <td id=\"T_f7725_row1_col19\" class=\"data row1 col19\" >-0.02</td>\n",
       "                        <td id=\"T_f7725_row1_col20\" class=\"data row1 col20\" >-0.00</td>\n",
       "                        <td id=\"T_f7725_row1_col21\" class=\"data row1 col21\" >0.01</td>\n",
       "            </tr>\n",
       "            <tr>\n",
       "                        <th id=\"T_f7725_level0_row2\" class=\"row_heading level0 row2\" >sex</th>\n",
       "                        <td id=\"T_f7725_row2_col0\" class=\"data row2 col0\" >-0.03</td>\n",
       "                        <td id=\"T_f7725_row2_col1\" class=\"data row2 col1\" >-0.02</td>\n",
       "                        <td id=\"T_f7725_row2_col2\" class=\"data row2 col2\" >1.00</td>\n",
       "                        <td id=\"T_f7725_row2_col3\" class=\"data row2 col3\" >-0.13</td>\n",
       "                        <td id=\"T_f7725_row2_col4\" class=\"data row2 col4\" >0.28</td>\n",
       "                        <td id=\"T_f7725_row2_col5\" class=\"data row2 col5\" >0.22</td>\n",
       "                        <td id=\"T_f7725_row2_col6\" class=\"data row2 col6\" >0.02</td>\n",
       "                        <td id=\"T_f7725_row2_col7\" class=\"data row2 col7\" >-0.04</td>\n",
       "                        <td id=\"T_f7725_row2_col8\" class=\"data row2 col8\" >-0.05</td>\n",
       "                        <td id=\"T_f7725_row2_col9\" class=\"data row2 col9\" >-0.05</td>\n",
       "                        <td id=\"T_f7725_row2_col10\" class=\"data row2 col10\" >0.05</td>\n",
       "                        <td id=\"T_f7725_row2_col11\" class=\"data row2 col11\" >0.04</td>\n",
       "                        <td id=\"T_f7725_row2_col12\" class=\"data row2 col12\" >0.07</td>\n",
       "                        <td id=\"T_f7725_row2_col13\" class=\"data row2 col13\" >0.27</td>\n",
       "                        <td id=\"T_f7725_row2_col14\" class=\"data row2 col14\" >-0.00</td>\n",
       "                        <td id=\"T_f7725_row2_col15\" class=\"data row2 col15\" >0.01</td>\n",
       "                        <td id=\"T_f7725_row2_col16\" class=\"data row2 col16\" >0.09</td>\n",
       "                        <td id=\"T_f7725_row2_col17\" class=\"data row2 col17\" >-0.01</td>\n",
       "                        <td id=\"T_f7725_row2_col18\" class=\"data row2 col18\" >0.01</td>\n",
       "                        <td id=\"T_f7725_row2_col19\" class=\"data row2 col19\" >-0.03</td>\n",
       "                        <td id=\"T_f7725_row2_col20\" class=\"data row2 col20\" >-0.01</td>\n",
       "                        <td id=\"T_f7725_row2_col21\" class=\"data row2 col21\" >0.01</td>\n",
       "            </tr>\n",
       "            <tr>\n",
       "                        <th id=\"T_f7725_level0_row3\" class=\"row_heading level0 row3\" >age</th>\n",
       "                        <td id=\"T_f7725_row3_col0\" class=\"data row3 col0\" >0.02</td>\n",
       "                        <td id=\"T_f7725_row3_col1\" class=\"data row3 col1\" >0.01</td>\n",
       "                        <td id=\"T_f7725_row3_col2\" class=\"data row3 col2\" >-0.13</td>\n",
       "                        <td id=\"T_f7725_row3_col3\" class=\"data row3 col3\" >1.00</td>\n",
       "                        <td id=\"T_f7725_row3_col4\" class=\"data row3 col4\" >-0.05</td>\n",
       "                        <td id=\"T_f7725_row3_col5\" class=\"data row3 col5\" >-0.04</td>\n",
       "                        <td id=\"T_f7725_row3_col6\" class=\"data row3 col6\" >-0.11</td>\n",
       "                        <td id=\"T_f7725_row3_col7\" class=\"data row3 col7\" >-0.07</td>\n",
       "                        <td id=\"T_f7725_row3_col8\" class=\"data row3 col8\" >-0.11</td>\n",
       "                        <td id=\"T_f7725_row3_col9\" class=\"data row3 col9\" >0.04</td>\n",
       "                        <td id=\"T_f7725_row3_col10\" class=\"data row3 col10\" >-0.06</td>\n",
       "                        <td id=\"T_f7725_row3_col11\" class=\"data row3 col11\" >0.01</td>\n",
       "                        <td id=\"T_f7725_row3_col12\" class=\"data row3 col12\" >-0.00</td>\n",
       "                        <td id=\"T_f7725_row3_col13\" class=\"data row3 col13\" >-0.12</td>\n",
       "                        <td id=\"T_f7725_row3_col14\" class=\"data row3 col14\" >-0.06</td>\n",
       "                        <td id=\"T_f7725_row3_col15\" class=\"data row3 col15\" >0.08</td>\n",
       "                        <td id=\"T_f7725_row3_col16\" class=\"data row3 col16\" >-0.04</td>\n",
       "                        <td id=\"T_f7725_row3_col17\" class=\"data row3 col17\" >0.00</td>\n",
       "                        <td id=\"T_f7725_row3_col18\" class=\"data row3 col18\" >-0.02</td>\n",
       "                        <td id=\"T_f7725_row3_col19\" class=\"data row3 col19\" >0.01</td>\n",
       "                        <td id=\"T_f7725_row3_col20\" class=\"data row3 col20\" >0.01</td>\n",
       "                        <td id=\"T_f7725_row3_col21\" class=\"data row3 col21\" >-0.01</td>\n",
       "            </tr>\n",
       "            <tr>\n",
       "                        <th id=\"T_f7725_level0_row4\" class=\"row_heading level0 row4\" >car</th>\n",
       "                        <td id=\"T_f7725_row4_col0\" class=\"data row4 col0\" >-0.02</td>\n",
       "                        <td id=\"T_f7725_row4_col1\" class=\"data row4 col1\" >-0.11</td>\n",
       "                        <td id=\"T_f7725_row4_col2\" class=\"data row4 col2\" >0.28</td>\n",
       "                        <td id=\"T_f7725_row4_col3\" class=\"data row4 col3\" >-0.05</td>\n",
       "                        <td id=\"T_f7725_row4_col4\" class=\"data row4 col4\" >1.00</td>\n",
       "                        <td id=\"T_f7725_row4_col5\" class=\"data row4 col5\" >0.70</td>\n",
       "                        <td id=\"T_f7725_row4_col6\" class=\"data row4 col6\" >-0.04</td>\n",
       "                        <td id=\"T_f7725_row4_col7\" class=\"data row4 col7\" >0.00</td>\n",
       "                        <td id=\"T_f7725_row4_col8\" class=\"data row4 col8\" >-0.04</td>\n",
       "                        <td id=\"T_f7725_row4_col9\" class=\"data row4 col9\" >-0.05</td>\n",
       "                        <td id=\"T_f7725_row4_col10\" class=\"data row4 col10\" >0.03</td>\n",
       "                        <td id=\"T_f7725_row4_col11\" class=\"data row4 col11\" >-0.02</td>\n",
       "                        <td id=\"T_f7725_row4_col12\" class=\"data row4 col12\" >-0.01</td>\n",
       "                        <td id=\"T_f7725_row4_col13\" class=\"data row4 col13\" >0.25</td>\n",
       "                        <td id=\"T_f7725_row4_col14\" class=\"data row4 col14\" >-0.07</td>\n",
       "                        <td id=\"T_f7725_row4_col15\" class=\"data row4 col15\" >0.09</td>\n",
       "                        <td id=\"T_f7725_row4_col16\" class=\"data row4 col16\" >0.11</td>\n",
       "                        <td id=\"T_f7725_row4_col17\" class=\"data row4 col17\" >-0.00</td>\n",
       "                        <td id=\"T_f7725_row4_col18\" class=\"data row4 col18\" >-0.03</td>\n",
       "                        <td id=\"T_f7725_row4_col19\" class=\"data row4 col19\" >-0.02</td>\n",
       "                        <td id=\"T_f7725_row4_col20\" class=\"data row4 col20\" >-0.01</td>\n",
       "                        <td id=\"T_f7725_row4_col21\" class=\"data row4 col21\" >-0.02</td>\n",
       "            </tr>\n",
       "            <tr>\n",
       "                        <th id=\"T_f7725_level0_row5\" class=\"row_heading level0 row5\" >car_type</th>\n",
       "                        <td id=\"T_f7725_row5_col0\" class=\"data row5 col0\" >-0.02</td>\n",
       "                        <td id=\"T_f7725_row5_col1\" class=\"data row5 col1\" >-0.15</td>\n",
       "                        <td id=\"T_f7725_row5_col2\" class=\"data row5 col2\" >0.22</td>\n",
       "                        <td id=\"T_f7725_row5_col3\" class=\"data row5 col3\" >-0.04</td>\n",
       "                        <td id=\"T_f7725_row5_col4\" class=\"data row5 col4\" >0.70</td>\n",
       "                        <td id=\"T_f7725_row5_col5\" class=\"data row5 col5\" >1.00</td>\n",
       "                        <td id=\"T_f7725_row5_col6\" class=\"data row5 col6\" >-0.05</td>\n",
       "                        <td id=\"T_f7725_row5_col7\" class=\"data row5 col7\" >0.02</td>\n",
       "                        <td id=\"T_f7725_row5_col8\" class=\"data row5 col8\" >-0.04</td>\n",
       "                        <td id=\"T_f7725_row5_col9\" class=\"data row5 col9\" >-0.02</td>\n",
       "                        <td id=\"T_f7725_row5_col10\" class=\"data row5 col10\" >0.04</td>\n",
       "                        <td id=\"T_f7725_row5_col11\" class=\"data row5 col11\" >-0.01</td>\n",
       "                        <td id=\"T_f7725_row5_col12\" class=\"data row5 col12\" >0.00</td>\n",
       "                        <td id=\"T_f7725_row5_col13\" class=\"data row5 col13\" >0.28</td>\n",
       "                        <td id=\"T_f7725_row5_col14\" class=\"data row5 col14\" >-0.09</td>\n",
       "                        <td id=\"T_f7725_row5_col15\" class=\"data row5 col15\" >0.10</td>\n",
       "                        <td id=\"T_f7725_row5_col16\" class=\"data row5 col16\" >0.15</td>\n",
       "                        <td id=\"T_f7725_row5_col17\" class=\"data row5 col17\" >-0.00</td>\n",
       "                        <td id=\"T_f7725_row5_col18\" class=\"data row5 col18\" >-0.05</td>\n",
       "                        <td id=\"T_f7725_row5_col19\" class=\"data row5 col19\" >-0.02</td>\n",
       "                        <td id=\"T_f7725_row5_col20\" class=\"data row5 col20\" >-0.01</td>\n",
       "                        <td id=\"T_f7725_row5_col21\" class=\"data row5 col21\" >-0.02</td>\n",
       "            </tr>\n",
       "            <tr>\n",
       "                        <th id=\"T_f7725_level0_row6\" class=\"row_heading level0 row6\" >decline_app_cnt</th>\n",
       "                        <td id=\"T_f7725_row6_col0\" class=\"data row6 col0\" >-0.02</td>\n",
       "                        <td id=\"T_f7725_row6_col1\" class=\"data row6 col1\" >0.06</td>\n",
       "                        <td id=\"T_f7725_row6_col2\" class=\"data row6 col2\" >0.02</td>\n",
       "                        <td id=\"T_f7725_row6_col3\" class=\"data row6 col3\" >-0.11</td>\n",
       "                        <td id=\"T_f7725_row6_col4\" class=\"data row6 col4\" >-0.04</td>\n",
       "                        <td id=\"T_f7725_row6_col5\" class=\"data row6 col5\" >-0.05</td>\n",
       "                        <td id=\"T_f7725_row6_col6\" class=\"data row6 col6\" >1.00</td>\n",
       "                        <td id=\"T_f7725_row6_col7\" class=\"data row6 col7\" >-0.04</td>\n",
       "                        <td id=\"T_f7725_row6_col8\" class=\"data row6 col8\" >0.19</td>\n",
       "                        <td id=\"T_f7725_row6_col9\" class=\"data row6 col9\" >0.08</td>\n",
       "                        <td id=\"T_f7725_row6_col10\" class=\"data row6 col10\" >-0.01</td>\n",
       "                        <td id=\"T_f7725_row6_col11\" class=\"data row6 col11\" >0.01</td>\n",
       "                        <td id=\"T_f7725_row6_col12\" class=\"data row6 col12\" >0.02</td>\n",
       "                        <td id=\"T_f7725_row6_col13\" class=\"data row6 col13\" >-0.00</td>\n",
       "                        <td id=\"T_f7725_row6_col14\" class=\"data row6 col14\" >0.07</td>\n",
       "                        <td id=\"T_f7725_row6_col15\" class=\"data row6 col15\" >-0.08</td>\n",
       "                        <td id=\"T_f7725_row6_col16\" class=\"data row6 col16\" >-0.03</td>\n",
       "                        <td id=\"T_f7725_row6_col17\" class=\"data row6 col17\" >0.00</td>\n",
       "                        <td id=\"T_f7725_row6_col18\" class=\"data row6 col18\" >0.09</td>\n",
       "                        <td id=\"T_f7725_row6_col19\" class=\"data row6 col19\" >-0.02</td>\n",
       "                        <td id=\"T_f7725_row6_col20\" class=\"data row6 col20\" >-0.01</td>\n",
       "                        <td id=\"T_f7725_row6_col21\" class=\"data row6 col21\" >0.01</td>\n",
       "            </tr>\n",
       "            <tr>\n",
       "                        <th id=\"T_f7725_level0_row7\" class=\"row_heading level0 row7\" >good_work</th>\n",
       "                        <td id=\"T_f7725_row7_col0\" class=\"data row7 col0\" >0.00</td>\n",
       "                        <td id=\"T_f7725_row7_col1\" class=\"data row7 col1\" >-0.15</td>\n",
       "                        <td id=\"T_f7725_row7_col2\" class=\"data row7 col2\" >-0.04</td>\n",
       "                        <td id=\"T_f7725_row7_col3\" class=\"data row7 col3\" >-0.07</td>\n",
       "                        <td id=\"T_f7725_row7_col4\" class=\"data row7 col4\" >0.00</td>\n",
       "                        <td id=\"T_f7725_row7_col5\" class=\"data row7 col5\" >0.02</td>\n",
       "                        <td id=\"T_f7725_row7_col6\" class=\"data row7 col6\" >-0.04</td>\n",
       "                        <td id=\"T_f7725_row7_col7\" class=\"data row7 col7\" >1.00</td>\n",
       "                        <td id=\"T_f7725_row7_col8\" class=\"data row7 col8\" >0.01</td>\n",
       "                        <td id=\"T_f7725_row7_col9\" class=\"data row7 col9\" >0.01</td>\n",
       "                        <td id=\"T_f7725_row7_col10\" class=\"data row7 col10\" >0.02</td>\n",
       "                        <td id=\"T_f7725_row7_col11\" class=\"data row7 col11\" >-0.01</td>\n",
       "                        <td id=\"T_f7725_row7_col12\" class=\"data row7 col12\" >-0.01</td>\n",
       "                        <td id=\"T_f7725_row7_col13\" class=\"data row7 col13\" >0.05</td>\n",
       "                        <td id=\"T_f7725_row7_col14\" class=\"data row7 col14\" >-0.05</td>\n",
       "                        <td id=\"T_f7725_row7_col15\" class=\"data row7 col15\" >0.06</td>\n",
       "                        <td id=\"T_f7725_row7_col16\" class=\"data row7 col16\" >0.05</td>\n",
       "                        <td id=\"T_f7725_row7_col17\" class=\"data row7 col17\" >-0.00</td>\n",
       "                        <td id=\"T_f7725_row7_col18\" class=\"data row7 col18\" >-0.04</td>\n",
       "                        <td id=\"T_f7725_row7_col19\" class=\"data row7 col19\" >0.00</td>\n",
       "                        <td id=\"T_f7725_row7_col20\" class=\"data row7 col20\" >-0.00</td>\n",
       "                        <td id=\"T_f7725_row7_col21\" class=\"data row7 col21\" >0.00</td>\n",
       "            </tr>\n",
       "            <tr>\n",
       "                        <th id=\"T_f7725_level0_row8\" class=\"row_heading level0 row8\" >score_bki</th>\n",
       "                        <td id=\"T_f7725_row8_col0\" class=\"data row8 col0\" >-0.06</td>\n",
       "                        <td id=\"T_f7725_row8_col1\" class=\"data row8 col1\" >0.04</td>\n",
       "                        <td id=\"T_f7725_row8_col2\" class=\"data row8 col2\" >-0.05</td>\n",
       "                        <td id=\"T_f7725_row8_col3\" class=\"data row8 col3\" >-0.11</td>\n",
       "                        <td id=\"T_f7725_row8_col4\" class=\"data row8 col4\" >-0.04</td>\n",
       "                        <td id=\"T_f7725_row8_col5\" class=\"data row8 col5\" >-0.04</td>\n",
       "                        <td id=\"T_f7725_row8_col6\" class=\"data row8 col6\" >0.19</td>\n",
       "                        <td id=\"T_f7725_row8_col7\" class=\"data row8 col7\" >0.01</td>\n",
       "                        <td id=\"T_f7725_row8_col8\" class=\"data row8 col8\" >1.00</td>\n",
       "                        <td id=\"T_f7725_row8_col9\" class=\"data row8 col9\" >0.11</td>\n",
       "                        <td id=\"T_f7725_row8_col10\" class=\"data row8 col10\" >0.01</td>\n",
       "                        <td id=\"T_f7725_row8_col11\" class=\"data row8 col11\" >0.01</td>\n",
       "                        <td id=\"T_f7725_row8_col12\" class=\"data row8 col12\" >0.02</td>\n",
       "                        <td id=\"T_f7725_row8_col13\" class=\"data row8 col13\" >0.02</td>\n",
       "                        <td id=\"T_f7725_row8_col14\" class=\"data row8 col14\" >0.07</td>\n",
       "                        <td id=\"T_f7725_row8_col15\" class=\"data row8 col15\" >-0.07</td>\n",
       "                        <td id=\"T_f7725_row8_col16\" class=\"data row8 col16\" >-0.02</td>\n",
       "                        <td id=\"T_f7725_row8_col17\" class=\"data row8 col17\" >-0.00</td>\n",
       "                        <td id=\"T_f7725_row8_col18\" class=\"data row8 col18\" >0.14</td>\n",
       "                        <td id=\"T_f7725_row8_col19\" class=\"data row8 col19\" >-0.06</td>\n",
       "                        <td id=\"T_f7725_row8_col20\" class=\"data row8 col20\" >0.00</td>\n",
       "                        <td id=\"T_f7725_row8_col21\" class=\"data row8 col21\" >-0.00</td>\n",
       "            </tr>\n",
       "            <tr>\n",
       "                        <th id=\"T_f7725_level0_row9\" class=\"row_heading level0 row9\" >bki_request_cnt</th>\n",
       "                        <td id=\"T_f7725_row9_col0\" class=\"data row9 col0\" >-0.00</td>\n",
       "                        <td id=\"T_f7725_row9_col1\" class=\"data row9 col1\" >-0.03</td>\n",
       "                        <td id=\"T_f7725_row9_col2\" class=\"data row9 col2\" >-0.05</td>\n",
       "                        <td id=\"T_f7725_row9_col3\" class=\"data row9 col3\" >0.04</td>\n",
       "                        <td id=\"T_f7725_row9_col4\" class=\"data row9 col4\" >-0.05</td>\n",
       "                        <td id=\"T_f7725_row9_col5\" class=\"data row9 col5\" >-0.02</td>\n",
       "                        <td id=\"T_f7725_row9_col6\" class=\"data row9 col6\" >0.08</td>\n",
       "                        <td id=\"T_f7725_row9_col7\" class=\"data row9 col7\" >0.01</td>\n",
       "                        <td id=\"T_f7725_row9_col8\" class=\"data row9 col8\" >0.11</td>\n",
       "                        <td id=\"T_f7725_row9_col9\" class=\"data row9 col9\" >1.00</td>\n",
       "                        <td id=\"T_f7725_row9_col10\" class=\"data row9 col10\" >0.00</td>\n",
       "                        <td id=\"T_f7725_row9_col11\" class=\"data row9 col11\" >-0.00</td>\n",
       "                        <td id=\"T_f7725_row9_col12\" class=\"data row9 col12\" >-0.01</td>\n",
       "                        <td id=\"T_f7725_row9_col13\" class=\"data row9 col13\" >0.05</td>\n",
       "                        <td id=\"T_f7725_row9_col14\" class=\"data row9 col14\" >0.01</td>\n",
       "                        <td id=\"T_f7725_row9_col15\" class=\"data row9 col15\" >0.01</td>\n",
       "                        <td id=\"T_f7725_row9_col16\" class=\"data row9 col16\" >-0.01</td>\n",
       "                        <td id=\"T_f7725_row9_col17\" class=\"data row9 col17\" >-0.00</td>\n",
       "                        <td id=\"T_f7725_row9_col18\" class=\"data row9 col18\" >0.05</td>\n",
       "                        <td id=\"T_f7725_row9_col19\" class=\"data row9 col19\" >-0.01</td>\n",
       "                        <td id=\"T_f7725_row9_col20\" class=\"data row9 col20\" >0.01</td>\n",
       "                        <td id=\"T_f7725_row9_col21\" class=\"data row9 col21\" >0.01</td>\n",
       "            </tr>\n",
       "            <tr>\n",
       "                        <th id=\"T_f7725_level0_row10\" class=\"row_heading level0 row10\" >region_rating</th>\n",
       "                        <td id=\"T_f7725_row10_col0\" class=\"data row10 col0\" >0.00</td>\n",
       "                        <td id=\"T_f7725_row10_col1\" class=\"data row10 col1\" >-0.03</td>\n",
       "                        <td id=\"T_f7725_row10_col2\" class=\"data row10 col2\" >0.05</td>\n",
       "                        <td id=\"T_f7725_row10_col3\" class=\"data row10 col3\" >-0.06</td>\n",
       "                        <td id=\"T_f7725_row10_col4\" class=\"data row10 col4\" >0.03</td>\n",
       "                        <td id=\"T_f7725_row10_col5\" class=\"data row10 col5\" >0.04</td>\n",
       "                        <td id=\"T_f7725_row10_col6\" class=\"data row10 col6\" >-0.01</td>\n",
       "                        <td id=\"T_f7725_row10_col7\" class=\"data row10 col7\" >0.02</td>\n",
       "                        <td id=\"T_f7725_row10_col8\" class=\"data row10 col8\" >0.01</td>\n",
       "                        <td id=\"T_f7725_row10_col9\" class=\"data row10 col9\" >0.00</td>\n",
       "                        <td id=\"T_f7725_row10_col10\" class=\"data row10 col10\" >1.00</td>\n",
       "                        <td id=\"T_f7725_row10_col11\" class=\"data row10 col11\" >-0.03</td>\n",
       "                        <td id=\"T_f7725_row10_col12\" class=\"data row10 col12\" >0.04</td>\n",
       "                        <td id=\"T_f7725_row10_col13\" class=\"data row10 col13\" >0.12</td>\n",
       "                        <td id=\"T_f7725_row10_col14\" class=\"data row10 col14\" >0.00</td>\n",
       "                        <td id=\"T_f7725_row10_col15\" class=\"data row10 col15\" >-0.01</td>\n",
       "                        <td id=\"T_f7725_row10_col16\" class=\"data row10 col16\" >0.07</td>\n",
       "                        <td id=\"T_f7725_row10_col17\" class=\"data row10 col17\" >-0.00</td>\n",
       "                        <td id=\"T_f7725_row10_col18\" class=\"data row10 col18\" >-0.04</td>\n",
       "                        <td id=\"T_f7725_row10_col19\" class=\"data row10 col19\" >0.00</td>\n",
       "                        <td id=\"T_f7725_row10_col20\" class=\"data row10 col20\" >0.01</td>\n",
       "                        <td id=\"T_f7725_row10_col21\" class=\"data row10 col21\" >0.00</td>\n",
       "            </tr>\n",
       "            <tr>\n",
       "                        <th id=\"T_f7725_level0_row11\" class=\"row_heading level0 row11\" >home_address</th>\n",
       "                        <td id=\"T_f7725_row11_col0\" class=\"data row11 col0\" >0.16</td>\n",
       "                        <td id=\"T_f7725_row11_col1\" class=\"data row11 col1\" >0.01</td>\n",
       "                        <td id=\"T_f7725_row11_col2\" class=\"data row11 col2\" >0.04</td>\n",
       "                        <td id=\"T_f7725_row11_col3\" class=\"data row11 col3\" >0.01</td>\n",
       "                        <td id=\"T_f7725_row11_col4\" class=\"data row11 col4\" >-0.02</td>\n",
       "                        <td id=\"T_f7725_row11_col5\" class=\"data row11 col5\" >-0.01</td>\n",
       "                        <td id=\"T_f7725_row11_col6\" class=\"data row11 col6\" >0.01</td>\n",
       "                        <td id=\"T_f7725_row11_col7\" class=\"data row11 col7\" >-0.01</td>\n",
       "                        <td id=\"T_f7725_row11_col8\" class=\"data row11 col8\" >0.01</td>\n",
       "                        <td id=\"T_f7725_row11_col9\" class=\"data row11 col9\" >-0.00</td>\n",
       "                        <td id=\"T_f7725_row11_col10\" class=\"data row11 col10\" >-0.03</td>\n",
       "                        <td id=\"T_f7725_row11_col11\" class=\"data row11 col11\" >1.00</td>\n",
       "                        <td id=\"T_f7725_row11_col12\" class=\"data row11 col12\" >0.73</td>\n",
       "                        <td id=\"T_f7725_row11_col13\" class=\"data row11 col13\" >0.05</td>\n",
       "                        <td id=\"T_f7725_row11_col14\" class=\"data row11 col14\" >0.11</td>\n",
       "                        <td id=\"T_f7725_row11_col15\" class=\"data row11 col15\" >-0.06</td>\n",
       "                        <td id=\"T_f7725_row11_col16\" class=\"data row11 col16\" >0.04</td>\n",
       "                        <td id=\"T_f7725_row11_col17\" class=\"data row11 col17\" >0.00</td>\n",
       "                        <td id=\"T_f7725_row11_col18\" class=\"data row11 col18\" >0.07</td>\n",
       "                        <td id=\"T_f7725_row11_col19\" class=\"data row11 col19\" >0.17</td>\n",
       "                        <td id=\"T_f7725_row11_col20\" class=\"data row11 col20\" >-0.03</td>\n",
       "                        <td id=\"T_f7725_row11_col21\" class=\"data row11 col21\" >-0.01</td>\n",
       "            </tr>\n",
       "            <tr>\n",
       "                        <th id=\"T_f7725_level0_row12\" class=\"row_heading level0 row12\" >work_address</th>\n",
       "                        <td id=\"T_f7725_row12_col0\" class=\"data row12 col0\" >0.16</td>\n",
       "                        <td id=\"T_f7725_row12_col1\" class=\"data row12 col1\" >0.01</td>\n",
       "                        <td id=\"T_f7725_row12_col2\" class=\"data row12 col2\" >0.07</td>\n",
       "                        <td id=\"T_f7725_row12_col3\" class=\"data row12 col3\" >-0.00</td>\n",
       "                        <td id=\"T_f7725_row12_col4\" class=\"data row12 col4\" >-0.01</td>\n",
       "                        <td id=\"T_f7725_row12_col5\" class=\"data row12 col5\" >0.00</td>\n",
       "                        <td id=\"T_f7725_row12_col6\" class=\"data row12 col6\" >0.02</td>\n",
       "                        <td id=\"T_f7725_row12_col7\" class=\"data row12 col7\" >-0.01</td>\n",
       "                        <td id=\"T_f7725_row12_col8\" class=\"data row12 col8\" >0.02</td>\n",
       "                        <td id=\"T_f7725_row12_col9\" class=\"data row12 col9\" >-0.01</td>\n",
       "                        <td id=\"T_f7725_row12_col10\" class=\"data row12 col10\" >0.04</td>\n",
       "                        <td id=\"T_f7725_row12_col11\" class=\"data row12 col11\" >0.73</td>\n",
       "                        <td id=\"T_f7725_row12_col12\" class=\"data row12 col12\" >1.00</td>\n",
       "                        <td id=\"T_f7725_row12_col13\" class=\"data row12 col13\" >0.07</td>\n",
       "                        <td id=\"T_f7725_row12_col14\" class=\"data row12 col14\" >0.11</td>\n",
       "                        <td id=\"T_f7725_row12_col15\" class=\"data row12 col15\" >-0.06</td>\n",
       "                        <td id=\"T_f7725_row12_col16\" class=\"data row12 col16\" >0.04</td>\n",
       "                        <td id=\"T_f7725_row12_col17\" class=\"data row12 col17\" >-0.00</td>\n",
       "                        <td id=\"T_f7725_row12_col18\" class=\"data row12 col18\" >0.06</td>\n",
       "                        <td id=\"T_f7725_row12_col19\" class=\"data row12 col19\" >0.17</td>\n",
       "                        <td id=\"T_f7725_row12_col20\" class=\"data row12 col20\" >-0.04</td>\n",
       "                        <td id=\"T_f7725_row12_col21\" class=\"data row12 col21\" >-0.02</td>\n",
       "            </tr>\n",
       "            <tr>\n",
       "                        <th id=\"T_f7725_level0_row13\" class=\"row_heading level0 row13\" >income</th>\n",
       "                        <td id=\"T_f7725_row13_col0\" class=\"data row13 col0\" >-0.00</td>\n",
       "                        <td id=\"T_f7725_row13_col1\" class=\"data row13 col1\" >-0.20</td>\n",
       "                        <td id=\"T_f7725_row13_col2\" class=\"data row13 col2\" >0.27</td>\n",
       "                        <td id=\"T_f7725_row13_col3\" class=\"data row13 col3\" >-0.12</td>\n",
       "                        <td id=\"T_f7725_row13_col4\" class=\"data row13 col4\" >0.25</td>\n",
       "                        <td id=\"T_f7725_row13_col5\" class=\"data row13 col5\" >0.28</td>\n",
       "                        <td id=\"T_f7725_row13_col6\" class=\"data row13 col6\" >-0.00</td>\n",
       "                        <td id=\"T_f7725_row13_col7\" class=\"data row13 col7\" >0.05</td>\n",
       "                        <td id=\"T_f7725_row13_col8\" class=\"data row13 col8\" >0.02</td>\n",
       "                        <td id=\"T_f7725_row13_col9\" class=\"data row13 col9\" >0.05</td>\n",
       "                        <td id=\"T_f7725_row13_col10\" class=\"data row13 col10\" >0.12</td>\n",
       "                        <td id=\"T_f7725_row13_col11\" class=\"data row13 col11\" >0.05</td>\n",
       "                        <td id=\"T_f7725_row13_col12\" class=\"data row13 col12\" >0.07</td>\n",
       "                        <td id=\"T_f7725_row13_col13\" class=\"data row13 col13\" >1.00</td>\n",
       "                        <td id=\"T_f7725_row13_col14\" class=\"data row13 col14\" >-0.10</td>\n",
       "                        <td id=\"T_f7725_row13_col15\" class=\"data row13 col15\" >0.12</td>\n",
       "                        <td id=\"T_f7725_row13_col16\" class=\"data row13 col16\" >0.20</td>\n",
       "                        <td id=\"T_f7725_row13_col17\" class=\"data row13 col17\" >-0.00</td>\n",
       "                        <td id=\"T_f7725_row13_col18\" class=\"data row13 col18\" >-0.04</td>\n",
       "                        <td id=\"T_f7725_row13_col19\" class=\"data row13 col19\" >-0.00</td>\n",
       "                        <td id=\"T_f7725_row13_col20\" class=\"data row13 col20\" >-0.01</td>\n",
       "                        <td id=\"T_f7725_row13_col21\" class=\"data row13 col21\" >-0.01</td>\n",
       "            </tr>\n",
       "            <tr>\n",
       "                        <th id=\"T_f7725_level0_row14\" class=\"row_heading level0 row14\" >sna</th>\n",
       "                        <td id=\"T_f7725_row14_col0\" class=\"data row14 col0\" >-0.00</td>\n",
       "                        <td id=\"T_f7725_row14_col1\" class=\"data row14 col1\" >0.10</td>\n",
       "                        <td id=\"T_f7725_row14_col2\" class=\"data row14 col2\" >-0.00</td>\n",
       "                        <td id=\"T_f7725_row14_col3\" class=\"data row14 col3\" >-0.06</td>\n",
       "                        <td id=\"T_f7725_row14_col4\" class=\"data row14 col4\" >-0.07</td>\n",
       "                        <td id=\"T_f7725_row14_col5\" class=\"data row14 col5\" >-0.09</td>\n",
       "                        <td id=\"T_f7725_row14_col6\" class=\"data row14 col6\" >0.07</td>\n",
       "                        <td id=\"T_f7725_row14_col7\" class=\"data row14 col7\" >-0.05</td>\n",
       "                        <td id=\"T_f7725_row14_col8\" class=\"data row14 col8\" >0.07</td>\n",
       "                        <td id=\"T_f7725_row14_col9\" class=\"data row14 col9\" >0.01</td>\n",
       "                        <td id=\"T_f7725_row14_col10\" class=\"data row14 col10\" >0.00</td>\n",
       "                        <td id=\"T_f7725_row14_col11\" class=\"data row14 col11\" >0.11</td>\n",
       "                        <td id=\"T_f7725_row14_col12\" class=\"data row14 col12\" >0.11</td>\n",
       "                        <td id=\"T_f7725_row14_col13\" class=\"data row14 col13\" >-0.10</td>\n",
       "                        <td id=\"T_f7725_row14_col14\" class=\"data row14 col14\" >1.00</td>\n",
       "                        <td id=\"T_f7725_row14_col15\" class=\"data row14 col15\" >-0.53</td>\n",
       "                        <td id=\"T_f7725_row14_col16\" class=\"data row14 col16\" >-0.17</td>\n",
       "                        <td id=\"T_f7725_row14_col17\" class=\"data row14 col17\" >0.00</td>\n",
       "                        <td id=\"T_f7725_row14_col18\" class=\"data row14 col18\" >0.10</td>\n",
       "                        <td id=\"T_f7725_row14_col19\" class=\"data row14 col19\" >-0.00</td>\n",
       "                        <td id=\"T_f7725_row14_col20\" class=\"data row14 col20\" >0.00</td>\n",
       "                        <td id=\"T_f7725_row14_col21\" class=\"data row14 col21\" >0.00</td>\n",
       "            </tr>\n",
       "            <tr>\n",
       "                        <th id=\"T_f7725_level0_row15\" class=\"row_heading level0 row15\" >first_time</th>\n",
       "                        <td id=\"T_f7725_row15_col0\" class=\"data row15 col0\" >0.02</td>\n",
       "                        <td id=\"T_f7725_row15_col1\" class=\"data row15 col1\" >-0.12</td>\n",
       "                        <td id=\"T_f7725_row15_col2\" class=\"data row15 col2\" >0.01</td>\n",
       "                        <td id=\"T_f7725_row15_col3\" class=\"data row15 col3\" >0.08</td>\n",
       "                        <td id=\"T_f7725_row15_col4\" class=\"data row15 col4\" >0.09</td>\n",
       "                        <td id=\"T_f7725_row15_col5\" class=\"data row15 col5\" >0.10</td>\n",
       "                        <td id=\"T_f7725_row15_col6\" class=\"data row15 col6\" >-0.08</td>\n",
       "                        <td id=\"T_f7725_row15_col7\" class=\"data row15 col7\" >0.06</td>\n",
       "                        <td id=\"T_f7725_row15_col8\" class=\"data row15 col8\" >-0.07</td>\n",
       "                        <td id=\"T_f7725_row15_col9\" class=\"data row15 col9\" >0.01</td>\n",
       "                        <td id=\"T_f7725_row15_col10\" class=\"data row15 col10\" >-0.01</td>\n",
       "                        <td id=\"T_f7725_row15_col11\" class=\"data row15 col11\" >-0.06</td>\n",
       "                        <td id=\"T_f7725_row15_col12\" class=\"data row15 col12\" >-0.06</td>\n",
       "                        <td id=\"T_f7725_row15_col13\" class=\"data row15 col13\" >0.12</td>\n",
       "                        <td id=\"T_f7725_row15_col14\" class=\"data row15 col14\" >-0.53</td>\n",
       "                        <td id=\"T_f7725_row15_col15\" class=\"data row15 col15\" >1.00</td>\n",
       "                        <td id=\"T_f7725_row15_col16\" class=\"data row15 col16\" >0.19</td>\n",
       "                        <td id=\"T_f7725_row15_col17\" class=\"data row15 col17\" >-0.00</td>\n",
       "                        <td id=\"T_f7725_row15_col18\" class=\"data row15 col18\" >-0.08</td>\n",
       "                        <td id=\"T_f7725_row15_col19\" class=\"data row15 col19\" >0.02</td>\n",
       "                        <td id=\"T_f7725_row15_col20\" class=\"data row15 col20\" >-0.01</td>\n",
       "                        <td id=\"T_f7725_row15_col21\" class=\"data row15 col21\" >-0.01</td>\n",
       "            </tr>\n",
       "            <tr>\n",
       "                        <th id=\"T_f7725_level0_row16\" class=\"row_heading level0 row16\" >foreign_passport</th>\n",
       "                        <td id=\"T_f7725_row16_col0\" class=\"data row16 col0\" >-0.01</td>\n",
       "                        <td id=\"T_f7725_row16_col1\" class=\"data row16 col1\" >-0.14</td>\n",
       "                        <td id=\"T_f7725_row16_col2\" class=\"data row16 col2\" >0.09</td>\n",
       "                        <td id=\"T_f7725_row16_col3\" class=\"data row16 col3\" >-0.04</td>\n",
       "                        <td id=\"T_f7725_row16_col4\" class=\"data row16 col4\" >0.11</td>\n",
       "                        <td id=\"T_f7725_row16_col5\" class=\"data row16 col5\" >0.15</td>\n",
       "                        <td id=\"T_f7725_row16_col6\" class=\"data row16 col6\" >-0.03</td>\n",
       "                        <td id=\"T_f7725_row16_col7\" class=\"data row16 col7\" >0.05</td>\n",
       "                        <td id=\"T_f7725_row16_col8\" class=\"data row16 col8\" >-0.02</td>\n",
       "                        <td id=\"T_f7725_row16_col9\" class=\"data row16 col9\" >-0.01</td>\n",
       "                        <td id=\"T_f7725_row16_col10\" class=\"data row16 col10\" >0.07</td>\n",
       "                        <td id=\"T_f7725_row16_col11\" class=\"data row16 col11\" >0.04</td>\n",
       "                        <td id=\"T_f7725_row16_col12\" class=\"data row16 col12\" >0.04</td>\n",
       "                        <td id=\"T_f7725_row16_col13\" class=\"data row16 col13\" >0.20</td>\n",
       "                        <td id=\"T_f7725_row16_col14\" class=\"data row16 col14\" >-0.17</td>\n",
       "                        <td id=\"T_f7725_row16_col15\" class=\"data row16 col15\" >0.19</td>\n",
       "                        <td id=\"T_f7725_row16_col16\" class=\"data row16 col16\" >1.00</td>\n",
       "                        <td id=\"T_f7725_row16_col17\" class=\"data row16 col17\" >0.00</td>\n",
       "                        <td id=\"T_f7725_row16_col18\" class=\"data row16 col18\" >-0.05</td>\n",
       "                        <td id=\"T_f7725_row16_col19\" class=\"data row16 col19\" >-0.01</td>\n",
       "                        <td id=\"T_f7725_row16_col20\" class=\"data row16 col20\" >-0.00</td>\n",
       "                        <td id=\"T_f7725_row16_col21\" class=\"data row16 col21\" >-0.00</td>\n",
       "            </tr>\n",
       "            <tr>\n",
       "                        <th id=\"T_f7725_level0_row17\" class=\"row_heading level0 row17\" >sample</th>\n",
       "                        <td id=\"T_f7725_row17_col0\" class=\"data row17 col0\" >0.00</td>\n",
       "                        <td id=\"T_f7725_row17_col1\" class=\"data row17 col1\" >-0.00</td>\n",
       "                        <td id=\"T_f7725_row17_col2\" class=\"data row17 col2\" >-0.01</td>\n",
       "                        <td id=\"T_f7725_row17_col3\" class=\"data row17 col3\" >0.00</td>\n",
       "                        <td id=\"T_f7725_row17_col4\" class=\"data row17 col4\" >-0.00</td>\n",
       "                        <td id=\"T_f7725_row17_col5\" class=\"data row17 col5\" >-0.00</td>\n",
       "                        <td id=\"T_f7725_row17_col6\" class=\"data row17 col6\" >0.00</td>\n",
       "                        <td id=\"T_f7725_row17_col7\" class=\"data row17 col7\" >-0.00</td>\n",
       "                        <td id=\"T_f7725_row17_col8\" class=\"data row17 col8\" >-0.00</td>\n",
       "                        <td id=\"T_f7725_row17_col9\" class=\"data row17 col9\" >-0.00</td>\n",
       "                        <td id=\"T_f7725_row17_col10\" class=\"data row17 col10\" >-0.00</td>\n",
       "                        <td id=\"T_f7725_row17_col11\" class=\"data row17 col11\" >0.00</td>\n",
       "                        <td id=\"T_f7725_row17_col12\" class=\"data row17 col12\" >-0.00</td>\n",
       "                        <td id=\"T_f7725_row17_col13\" class=\"data row17 col13\" >-0.00</td>\n",
       "                        <td id=\"T_f7725_row17_col14\" class=\"data row17 col14\" >0.00</td>\n",
       "                        <td id=\"T_f7725_row17_col15\" class=\"data row17 col15\" >-0.00</td>\n",
       "                        <td id=\"T_f7725_row17_col16\" class=\"data row17 col16\" >0.00</td>\n",
       "                        <td id=\"T_f7725_row17_col17\" class=\"data row17 col17\" >1.00</td>\n",
       "                        <td id=\"T_f7725_row17_col18\" class=\"data row17 col18\" >0.21</td>\n",
       "                        <td id=\"T_f7725_row17_col19\" class=\"data row17 col19\" >0.00</td>\n",
       "                        <td id=\"T_f7725_row17_col20\" class=\"data row17 col20\" >0.00</td>\n",
       "                        <td id=\"T_f7725_row17_col21\" class=\"data row17 col21\" >-0.00</td>\n",
       "            </tr>\n",
       "            <tr>\n",
       "                        <th id=\"T_f7725_level0_row18\" class=\"row_heading level0 row18\" >default</th>\n",
       "                        <td id=\"T_f7725_row18_col0\" class=\"data row18 col0\" >-0.03</td>\n",
       "                        <td id=\"T_f7725_row18_col1\" class=\"data row18 col1\" >0.06</td>\n",
       "                        <td id=\"T_f7725_row18_col2\" class=\"data row18 col2\" >0.01</td>\n",
       "                        <td id=\"T_f7725_row18_col3\" class=\"data row18 col3\" >-0.02</td>\n",
       "                        <td id=\"T_f7725_row18_col4\" class=\"data row18 col4\" >-0.03</td>\n",
       "                        <td id=\"T_f7725_row18_col5\" class=\"data row18 col5\" >-0.05</td>\n",
       "                        <td id=\"T_f7725_row18_col6\" class=\"data row18 col6\" >0.09</td>\n",
       "                        <td id=\"T_f7725_row18_col7\" class=\"data row18 col7\" >-0.04</td>\n",
       "                        <td id=\"T_f7725_row18_col8\" class=\"data row18 col8\" >0.14</td>\n",
       "                        <td id=\"T_f7725_row18_col9\" class=\"data row18 col9\" >0.05</td>\n",
       "                        <td id=\"T_f7725_row18_col10\" class=\"data row18 col10\" >-0.04</td>\n",
       "                        <td id=\"T_f7725_row18_col11\" class=\"data row18 col11\" >0.07</td>\n",
       "                        <td id=\"T_f7725_row18_col12\" class=\"data row18 col12\" >0.06</td>\n",
       "                        <td id=\"T_f7725_row18_col13\" class=\"data row18 col13\" >-0.04</td>\n",
       "                        <td id=\"T_f7725_row18_col14\" class=\"data row18 col14\" >0.10</td>\n",
       "                        <td id=\"T_f7725_row18_col15\" class=\"data row18 col15\" >-0.08</td>\n",
       "                        <td id=\"T_f7725_row18_col16\" class=\"data row18 col16\" >-0.05</td>\n",
       "                        <td id=\"T_f7725_row18_col17\" class=\"data row18 col17\" >0.21</td>\n",
       "                        <td id=\"T_f7725_row18_col18\" class=\"data row18 col18\" >1.00</td>\n",
       "                        <td id=\"T_f7725_row18_col19\" class=\"data row18 col19\" >-0.03</td>\n",
       "                        <td id=\"T_f7725_row18_col20\" class=\"data row18 col20\" >-0.00</td>\n",
       "                        <td id=\"T_f7725_row18_col21\" class=\"data row18 col21\" >0.00</td>\n",
       "            </tr>\n",
       "            <tr>\n",
       "                        <th id=\"T_f7725_level0_row19\" class=\"row_heading level0 row19\" >month</th>\n",
       "                        <td id=\"T_f7725_row19_col0\" class=\"data row19 col0\" >0.97</td>\n",
       "                        <td id=\"T_f7725_row19_col1\" class=\"data row19 col1\" >-0.02</td>\n",
       "                        <td id=\"T_f7725_row19_col2\" class=\"data row19 col2\" >-0.03</td>\n",
       "                        <td id=\"T_f7725_row19_col3\" class=\"data row19 col3\" >0.01</td>\n",
       "                        <td id=\"T_f7725_row19_col4\" class=\"data row19 col4\" >-0.02</td>\n",
       "                        <td id=\"T_f7725_row19_col5\" class=\"data row19 col5\" >-0.02</td>\n",
       "                        <td id=\"T_f7725_row19_col6\" class=\"data row19 col6\" >-0.02</td>\n",
       "                        <td id=\"T_f7725_row19_col7\" class=\"data row19 col7\" >0.00</td>\n",
       "                        <td id=\"T_f7725_row19_col8\" class=\"data row19 col8\" >-0.06</td>\n",
       "                        <td id=\"T_f7725_row19_col9\" class=\"data row19 col9\" >-0.01</td>\n",
       "                        <td id=\"T_f7725_row19_col10\" class=\"data row19 col10\" >0.00</td>\n",
       "                        <td id=\"T_f7725_row19_col11\" class=\"data row19 col11\" >0.17</td>\n",
       "                        <td id=\"T_f7725_row19_col12\" class=\"data row19 col12\" >0.17</td>\n",
       "                        <td id=\"T_f7725_row19_col13\" class=\"data row19 col13\" >-0.00</td>\n",
       "                        <td id=\"T_f7725_row19_col14\" class=\"data row19 col14\" >-0.00</td>\n",
       "                        <td id=\"T_f7725_row19_col15\" class=\"data row19 col15\" >0.02</td>\n",
       "                        <td id=\"T_f7725_row19_col16\" class=\"data row19 col16\" >-0.01</td>\n",
       "                        <td id=\"T_f7725_row19_col17\" class=\"data row19 col17\" >0.00</td>\n",
       "                        <td id=\"T_f7725_row19_col18\" class=\"data row19 col18\" >-0.03</td>\n",
       "                        <td id=\"T_f7725_row19_col19\" class=\"data row19 col19\" >1.00</td>\n",
       "                        <td id=\"T_f7725_row19_col20\" class=\"data row19 col20\" >-0.17</td>\n",
       "                        <td id=\"T_f7725_row19_col21\" class=\"data row19 col21\" >-0.03</td>\n",
       "            </tr>\n",
       "            <tr>\n",
       "                        <th id=\"T_f7725_level0_row20\" class=\"row_heading level0 row20\" >date</th>\n",
       "                        <td id=\"T_f7725_row20_col0\" class=\"data row20 col0\" >0.09</td>\n",
       "                        <td id=\"T_f7725_row20_col1\" class=\"data row20 col1\" >-0.00</td>\n",
       "                        <td id=\"T_f7725_row20_col2\" class=\"data row20 col2\" >-0.01</td>\n",
       "                        <td id=\"T_f7725_row20_col3\" class=\"data row20 col3\" >0.01</td>\n",
       "                        <td id=\"T_f7725_row20_col4\" class=\"data row20 col4\" >-0.01</td>\n",
       "                        <td id=\"T_f7725_row20_col5\" class=\"data row20 col5\" >-0.01</td>\n",
       "                        <td id=\"T_f7725_row20_col6\" class=\"data row20 col6\" >-0.01</td>\n",
       "                        <td id=\"T_f7725_row20_col7\" class=\"data row20 col7\" >-0.00</td>\n",
       "                        <td id=\"T_f7725_row20_col8\" class=\"data row20 col8\" >0.00</td>\n",
       "                        <td id=\"T_f7725_row20_col9\" class=\"data row20 col9\" >0.01</td>\n",
       "                        <td id=\"T_f7725_row20_col10\" class=\"data row20 col10\" >0.01</td>\n",
       "                        <td id=\"T_f7725_row20_col11\" class=\"data row20 col11\" >-0.03</td>\n",
       "                        <td id=\"T_f7725_row20_col12\" class=\"data row20 col12\" >-0.04</td>\n",
       "                        <td id=\"T_f7725_row20_col13\" class=\"data row20 col13\" >-0.01</td>\n",
       "                        <td id=\"T_f7725_row20_col14\" class=\"data row20 col14\" >0.00</td>\n",
       "                        <td id=\"T_f7725_row20_col15\" class=\"data row20 col15\" >-0.01</td>\n",
       "                        <td id=\"T_f7725_row20_col16\" class=\"data row20 col16\" >-0.00</td>\n",
       "                        <td id=\"T_f7725_row20_col17\" class=\"data row20 col17\" >0.00</td>\n",
       "                        <td id=\"T_f7725_row20_col18\" class=\"data row20 col18\" >-0.00</td>\n",
       "                        <td id=\"T_f7725_row20_col19\" class=\"data row20 col19\" >-0.17</td>\n",
       "                        <td id=\"T_f7725_row20_col20\" class=\"data row20 col20\" >1.00</td>\n",
       "                        <td id=\"T_f7725_row20_col21\" class=\"data row20 col21\" >-0.01</td>\n",
       "            </tr>\n",
       "            <tr>\n",
       "                        <th id=\"T_f7725_level0_row21\" class=\"row_heading level0 row21\" >dayofweek</th>\n",
       "                        <td id=\"T_f7725_row21_col0\" class=\"data row21 col0\" >-0.03</td>\n",
       "                        <td id=\"T_f7725_row21_col1\" class=\"data row21 col1\" >0.01</td>\n",
       "                        <td id=\"T_f7725_row21_col2\" class=\"data row21 col2\" >0.01</td>\n",
       "                        <td id=\"T_f7725_row21_col3\" class=\"data row21 col3\" >-0.01</td>\n",
       "                        <td id=\"T_f7725_row21_col4\" class=\"data row21 col4\" >-0.02</td>\n",
       "                        <td id=\"T_f7725_row21_col5\" class=\"data row21 col5\" >-0.02</td>\n",
       "                        <td id=\"T_f7725_row21_col6\" class=\"data row21 col6\" >0.01</td>\n",
       "                        <td id=\"T_f7725_row21_col7\" class=\"data row21 col7\" >0.00</td>\n",
       "                        <td id=\"T_f7725_row21_col8\" class=\"data row21 col8\" >-0.00</td>\n",
       "                        <td id=\"T_f7725_row21_col9\" class=\"data row21 col9\" >0.01</td>\n",
       "                        <td id=\"T_f7725_row21_col10\" class=\"data row21 col10\" >0.00</td>\n",
       "                        <td id=\"T_f7725_row21_col11\" class=\"data row21 col11\" >-0.01</td>\n",
       "                        <td id=\"T_f7725_row21_col12\" class=\"data row21 col12\" >-0.02</td>\n",
       "                        <td id=\"T_f7725_row21_col13\" class=\"data row21 col13\" >-0.01</td>\n",
       "                        <td id=\"T_f7725_row21_col14\" class=\"data row21 col14\" >0.00</td>\n",
       "                        <td id=\"T_f7725_row21_col15\" class=\"data row21 col15\" >-0.01</td>\n",
       "                        <td id=\"T_f7725_row21_col16\" class=\"data row21 col16\" >-0.00</td>\n",
       "                        <td id=\"T_f7725_row21_col17\" class=\"data row21 col17\" >-0.00</td>\n",
       "                        <td id=\"T_f7725_row21_col18\" class=\"data row21 col18\" >0.00</td>\n",
       "                        <td id=\"T_f7725_row21_col19\" class=\"data row21 col19\" >-0.03</td>\n",
       "                        <td id=\"T_f7725_row21_col20\" class=\"data row21 col20\" >-0.01</td>\n",
       "                        <td id=\"T_f7725_row21_col21\" class=\"data row21 col21\" >1.00</td>\n",
       "            </tr>\n",
       "    </tbody></table>"
      ],
      "text/plain": [
       "<pandas.io.formats.style.Styler at 0x7f43381abc50>"
      ]
     },
     "execution_count": 73,
     "metadata": {},
     "output_type": "execute_result"
    }
   ],
   "source": [
    "corr = data.corr()\n",
    "cmap = cmap=sns.diverging_palette(5, 250, as_cmap=True)\n",
    "\n",
    "def magnify():\n",
    "    return [dict(selector=\"th\",\n",
    "                 props=[(\"font-size\", \"7pt\")]),\n",
    "            dict(selector=\"td\",\n",
    "                 props=[('padding', \"0em 0em\")]),\n",
    "            dict(selector=\"th:hover\",\n",
    "                 props=[(\"font-size\", \"12pt\")]),\n",
    "            dict(selector=\"tr:hover td:hover\",\n",
    "                 props=[('max-width', '200px'),\n",
    "                        ('font-size', '12pt')])\n",
    "]\n",
    "\n",
    "corr.style.background_gradient(cmap, axis=1)\\\n",
    "    .set_properties(**{'max-width': '80px', 'font-size': '10pt'})\\\n",
    "    .set_caption(\"Heatmap\")\\\n",
    "    .set_precision(2)\\\n",
    "    .set_table_styles(magnify())"
   ]
  },
  {
   "cell_type": "markdown",
   "id": "889d031e",
   "metadata": {
    "papermill": {
     "duration": 0.139352,
     "end_time": "2021-07-14T15:54:28.147360",
     "exception": false,
     "start_time": "2021-07-14T15:54:28.008008",
     "status": "completed"
    },
    "tags": []
   },
   "source": [
    "#### выявлены сильные корреляции между:\n",
    "    * car и car_type\n",
    "    * home_address и work_address\n",
    "    * client_id и month\n"
   ]
  },
  {
   "cell_type": "code",
   "execution_count": 74,
   "id": "94397907",
   "metadata": {
    "execution": {
     "iopub.execute_input": "2021-07-14T15:54:28.432337Z",
     "iopub.status.busy": "2021-07-14T15:54:28.431677Z",
     "iopub.status.idle": "2021-07-14T15:54:28.434475Z",
     "shell.execute_reply": "2021-07-14T15:54:28.434909Z",
     "shell.execute_reply.started": "2021-07-14T15:42:23.199986Z"
    },
    "papermill": {
     "duration": 0.149486,
     "end_time": "2021-07-14T15:54:28.435083",
     "exception": false,
     "start_time": "2021-07-14T15:54:28.285597",
     "status": "completed"
    },
    "tags": []
   },
   "outputs": [],
   "source": [
    "data.drop(['client_id','work_address','car_type'], axis = 1, inplace=True) # удаление сильно скоррелированных признаков"
   ]
  },
  {
   "cell_type": "code",
   "execution_count": 75,
   "id": "eb9d4f4b",
   "metadata": {
    "execution": {
     "iopub.execute_input": "2021-07-14T15:54:28.712880Z",
     "iopub.status.busy": "2021-07-14T15:54:28.711868Z",
     "iopub.status.idle": "2021-07-14T15:54:28.715489Z",
     "shell.execute_reply": "2021-07-14T15:54:28.714966Z",
     "shell.execute_reply.started": "2021-07-14T15:42:23.766698Z"
    },
    "papermill": {
     "duration": 0.144091,
     "end_time": "2021-07-14T15:54:28.715635",
     "exception": false,
     "start_time": "2021-07-14T15:54:28.571544",
     "status": "completed"
    },
    "tags": []
   },
   "outputs": [],
   "source": [
    "cat_cols.remove('work_address')\n",
    "\n"
   ]
  },
  {
   "cell_type": "code",
   "execution_count": 76,
   "id": "5554ea82",
   "metadata": {
    "execution": {
     "iopub.execute_input": "2021-07-14T15:54:28.995987Z",
     "iopub.status.busy": "2021-07-14T15:54:28.994935Z",
     "iopub.status.idle": "2021-07-14T15:54:28.998124Z",
     "shell.execute_reply": "2021-07-14T15:54:28.997615Z",
     "shell.execute_reply.started": "2021-07-14T15:42:24.288220Z"
    },
    "papermill": {
     "duration": 0.146464,
     "end_time": "2021-07-14T15:54:28.998262",
     "exception": false,
     "start_time": "2021-07-14T15:54:28.851798",
     "status": "completed"
    },
    "tags": []
   },
   "outputs": [],
   "source": [
    "bin_cols.remove('car_type')"
   ]
  },
  {
   "cell_type": "markdown",
   "id": "1c38840d",
   "metadata": {
    "papermill": {
     "duration": 0.137645,
     "end_time": "2021-07-14T15:54:29.276326",
     "exception": false,
     "start_time": "2021-07-14T15:54:29.138681",
     "status": "completed"
    },
    "tags": []
   },
   "source": [
    "### смотрим, что получилось"
   ]
  },
  {
   "cell_type": "code",
   "execution_count": 77,
   "id": "a285f264",
   "metadata": {
    "execution": {
     "iopub.execute_input": "2021-07-14T15:54:29.562268Z",
     "iopub.status.busy": "2021-07-14T15:54:29.552798Z",
     "iopub.status.idle": "2021-07-14T15:54:29.579824Z",
     "shell.execute_reply": "2021-07-14T15:54:29.579157Z",
     "shell.execute_reply.started": "2021-07-14T15:42:25.351229Z"
    },
    "papermill": {
     "duration": 0.167355,
     "end_time": "2021-07-14T15:54:29.579971",
     "exception": false,
     "start_time": "2021-07-14T15:54:29.412616",
     "status": "completed"
    },
    "tags": []
   },
   "outputs": [
    {
     "data": {
      "text/html": [
       "<div>\n",
       "<style scoped>\n",
       "    .dataframe tbody tr th:only-of-type {\n",
       "        vertical-align: middle;\n",
       "    }\n",
       "\n",
       "    .dataframe tbody tr th {\n",
       "        vertical-align: top;\n",
       "    }\n",
       "\n",
       "    .dataframe thead th {\n",
       "        text-align: right;\n",
       "    }\n",
       "</style>\n",
       "<table border=\"1\" class=\"dataframe\">\n",
       "  <thead>\n",
       "    <tr style=\"text-align: right;\">\n",
       "      <th></th>\n",
       "      <th>education</th>\n",
       "      <th>sex</th>\n",
       "      <th>age</th>\n",
       "      <th>car</th>\n",
       "      <th>decline_app_cnt</th>\n",
       "      <th>good_work</th>\n",
       "      <th>score_bki</th>\n",
       "      <th>bki_request_cnt</th>\n",
       "      <th>region_rating</th>\n",
       "      <th>home_address</th>\n",
       "      <th>income</th>\n",
       "      <th>sna</th>\n",
       "      <th>first_time</th>\n",
       "      <th>foreign_passport</th>\n",
       "      <th>sample</th>\n",
       "      <th>default</th>\n",
       "      <th>month</th>\n",
       "      <th>date</th>\n",
       "      <th>dayofweek</th>\n",
       "    </tr>\n",
       "  </thead>\n",
       "  <tbody>\n",
       "    <tr>\n",
       "      <th>87126</th>\n",
       "      <td>3</td>\n",
       "      <td>1</td>\n",
       "      <td>21</td>\n",
       "      <td>0</td>\n",
       "      <td>0</td>\n",
       "      <td>0</td>\n",
       "      <td>-2.031362</td>\n",
       "      <td>2.0</td>\n",
       "      <td>50.0</td>\n",
       "      <td>2</td>\n",
       "      <td>45000.0</td>\n",
       "      <td>2</td>\n",
       "      <td>2</td>\n",
       "      <td>0</td>\n",
       "      <td>1</td>\n",
       "      <td>0</td>\n",
       "      <td>2</td>\n",
       "      <td>26</td>\n",
       "      <td>2</td>\n",
       "    </tr>\n",
       "    <tr>\n",
       "      <th>21819</th>\n",
       "      <td>3</td>\n",
       "      <td>1</td>\n",
       "      <td>41</td>\n",
       "      <td>0</td>\n",
       "      <td>1</td>\n",
       "      <td>0</td>\n",
       "      <td>-2.064949</td>\n",
       "      <td>2.0</td>\n",
       "      <td>50.0</td>\n",
       "      <td>2</td>\n",
       "      <td>10000.0</td>\n",
       "      <td>4</td>\n",
       "      <td>1</td>\n",
       "      <td>0</td>\n",
       "      <td>0</td>\n",
       "      <td>0</td>\n",
       "      <td>4</td>\n",
       "      <td>8</td>\n",
       "      <td>1</td>\n",
       "    </tr>\n",
       "    <tr>\n",
       "      <th>9946</th>\n",
       "      <td>1</td>\n",
       "      <td>0</td>\n",
       "      <td>49</td>\n",
       "      <td>0</td>\n",
       "      <td>0</td>\n",
       "      <td>0</td>\n",
       "      <td>-1.865266</td>\n",
       "      <td>5.0</td>\n",
       "      <td>70.0</td>\n",
       "      <td>2</td>\n",
       "      <td>30000.0</td>\n",
       "      <td>2</td>\n",
       "      <td>3</td>\n",
       "      <td>0</td>\n",
       "      <td>0</td>\n",
       "      <td>0</td>\n",
       "      <td>2</td>\n",
       "      <td>28</td>\n",
       "      <td>4</td>\n",
       "    </tr>\n",
       "    <tr>\n",
       "      <th>40410</th>\n",
       "      <td>3</td>\n",
       "      <td>0</td>\n",
       "      <td>23</td>\n",
       "      <td>1</td>\n",
       "      <td>0</td>\n",
       "      <td>0</td>\n",
       "      <td>-1.970219</td>\n",
       "      <td>2.0</td>\n",
       "      <td>50.0</td>\n",
       "      <td>2</td>\n",
       "      <td>33000.0</td>\n",
       "      <td>3</td>\n",
       "      <td>3</td>\n",
       "      <td>0</td>\n",
       "      <td>1</td>\n",
       "      <td>0</td>\n",
       "      <td>3</td>\n",
       "      <td>13</td>\n",
       "      <td>3</td>\n",
       "    </tr>\n",
       "    <tr>\n",
       "      <th>74921</th>\n",
       "      <td>1</td>\n",
       "      <td>0</td>\n",
       "      <td>32</td>\n",
       "      <td>0</td>\n",
       "      <td>0</td>\n",
       "      <td>0</td>\n",
       "      <td>-1.318264</td>\n",
       "      <td>1.0</td>\n",
       "      <td>50.0</td>\n",
       "      <td>2</td>\n",
       "      <td>46000.0</td>\n",
       "      <td>4</td>\n",
       "      <td>1</td>\n",
       "      <td>0</td>\n",
       "      <td>1</td>\n",
       "      <td>0</td>\n",
       "      <td>4</td>\n",
       "      <td>3</td>\n",
       "      <td>3</td>\n",
       "    </tr>\n",
       "    <tr>\n",
       "      <th>20771</th>\n",
       "      <td>3</td>\n",
       "      <td>0</td>\n",
       "      <td>39</td>\n",
       "      <td>0</td>\n",
       "      <td>0</td>\n",
       "      <td>0</td>\n",
       "      <td>-2.794111</td>\n",
       "      <td>0.0</td>\n",
       "      <td>60.0</td>\n",
       "      <td>2</td>\n",
       "      <td>50000.0</td>\n",
       "      <td>1</td>\n",
       "      <td>3</td>\n",
       "      <td>0</td>\n",
       "      <td>0</td>\n",
       "      <td>0</td>\n",
       "      <td>2</td>\n",
       "      <td>11</td>\n",
       "      <td>1</td>\n",
       "    </tr>\n",
       "    <tr>\n",
       "      <th>11883</th>\n",
       "      <td>3</td>\n",
       "      <td>1</td>\n",
       "      <td>40</td>\n",
       "      <td>1</td>\n",
       "      <td>0</td>\n",
       "      <td>0</td>\n",
       "      <td>-1.844479</td>\n",
       "      <td>1.0</td>\n",
       "      <td>50.0</td>\n",
       "      <td>3</td>\n",
       "      <td>80000.0</td>\n",
       "      <td>1</td>\n",
       "      <td>3</td>\n",
       "      <td>0</td>\n",
       "      <td>0</td>\n",
       "      <td>0</td>\n",
       "      <td>3</td>\n",
       "      <td>12</td>\n",
       "      <td>2</td>\n",
       "    </tr>\n",
       "    <tr>\n",
       "      <th>35653</th>\n",
       "      <td>1</td>\n",
       "      <td>0</td>\n",
       "      <td>37</td>\n",
       "      <td>0</td>\n",
       "      <td>0</td>\n",
       "      <td>0</td>\n",
       "      <td>-1.755285</td>\n",
       "      <td>4.0</td>\n",
       "      <td>60.0</td>\n",
       "      <td>1</td>\n",
       "      <td>35000.0</td>\n",
       "      <td>1</td>\n",
       "      <td>3</td>\n",
       "      <td>1</td>\n",
       "      <td>0</td>\n",
       "      <td>0</td>\n",
       "      <td>3</td>\n",
       "      <td>20</td>\n",
       "      <td>3</td>\n",
       "    </tr>\n",
       "    <tr>\n",
       "      <th>102609</th>\n",
       "      <td>3</td>\n",
       "      <td>0</td>\n",
       "      <td>56</td>\n",
       "      <td>0</td>\n",
       "      <td>0</td>\n",
       "      <td>0</td>\n",
       "      <td>-0.944863</td>\n",
       "      <td>1.0</td>\n",
       "      <td>60.0</td>\n",
       "      <td>1</td>\n",
       "      <td>25000.0</td>\n",
       "      <td>1</td>\n",
       "      <td>4</td>\n",
       "      <td>0</td>\n",
       "      <td>1</td>\n",
       "      <td>1</td>\n",
       "      <td>3</td>\n",
       "      <td>1</td>\n",
       "      <td>5</td>\n",
       "    </tr>\n",
       "    <tr>\n",
       "      <th>10220</th>\n",
       "      <td>3</td>\n",
       "      <td>1</td>\n",
       "      <td>34</td>\n",
       "      <td>1</td>\n",
       "      <td>1</td>\n",
       "      <td>0</td>\n",
       "      <td>-2.427334</td>\n",
       "      <td>2.0</td>\n",
       "      <td>50.0</td>\n",
       "      <td>1</td>\n",
       "      <td>45000.0</td>\n",
       "      <td>1</td>\n",
       "      <td>2</td>\n",
       "      <td>0</td>\n",
       "      <td>0</td>\n",
       "      <td>0</td>\n",
       "      <td>3</td>\n",
       "      <td>16</td>\n",
       "      <td>6</td>\n",
       "    </tr>\n",
       "  </tbody>\n",
       "</table>\n",
       "</div>"
      ],
      "text/plain": [
       "        education  sex  age  car  decline_app_cnt  good_work  score_bki  \\\n",
       "87126           3    1   21    0                0          0  -2.031362   \n",
       "21819           3    1   41    0                1          0  -2.064949   \n",
       "9946            1    0   49    0                0          0  -1.865266   \n",
       "40410           3    0   23    1                0          0  -1.970219   \n",
       "74921           1    0   32    0                0          0  -1.318264   \n",
       "20771           3    0   39    0                0          0  -2.794111   \n",
       "11883           3    1   40    1                0          0  -1.844479   \n",
       "35653           1    0   37    0                0          0  -1.755285   \n",
       "102609          3    0   56    0                0          0  -0.944863   \n",
       "10220           3    1   34    1                1          0  -2.427334   \n",
       "\n",
       "        bki_request_cnt  region_rating  home_address   income  sna  \\\n",
       "87126               2.0           50.0             2  45000.0    2   \n",
       "21819               2.0           50.0             2  10000.0    4   \n",
       "9946                5.0           70.0             2  30000.0    2   \n",
       "40410               2.0           50.0             2  33000.0    3   \n",
       "74921               1.0           50.0             2  46000.0    4   \n",
       "20771               0.0           60.0             2  50000.0    1   \n",
       "11883               1.0           50.0             3  80000.0    1   \n",
       "35653               4.0           60.0             1  35000.0    1   \n",
       "102609              1.0           60.0             1  25000.0    1   \n",
       "10220               2.0           50.0             1  45000.0    1   \n",
       "\n",
       "        first_time  foreign_passport  sample  default  month  date  dayofweek  \n",
       "87126            2                 0       1        0      2    26          2  \n",
       "21819            1                 0       0        0      4     8          1  \n",
       "9946             3                 0       0        0      2    28          4  \n",
       "40410            3                 0       1        0      3    13          3  \n",
       "74921            1                 0       1        0      4     3          3  \n",
       "20771            3                 0       0        0      2    11          1  \n",
       "11883            3                 0       0        0      3    12          2  \n",
       "35653            3                 1       0        0      3    20          3  \n",
       "102609           4                 0       1        1      3     1          5  \n",
       "10220            2                 0       0        0      3    16          6  "
      ]
     },
     "execution_count": 77,
     "metadata": {},
     "output_type": "execute_result"
    }
   ],
   "source": [
    "data.sample(10)"
   ]
  },
  {
   "cell_type": "code",
   "execution_count": 78,
   "id": "c1f63d90",
   "metadata": {
    "execution": {
     "iopub.execute_input": "2021-07-14T15:54:29.861765Z",
     "iopub.status.busy": "2021-07-14T15:54:29.860784Z",
     "iopub.status.idle": "2021-07-14T15:54:29.878826Z",
     "shell.execute_reply": "2021-07-14T15:54:29.879315Z",
     "shell.execute_reply.started": "2021-07-14T15:42:25.877165Z"
    },
    "papermill": {
     "duration": 0.162207,
     "end_time": "2021-07-14T15:54:29.879505",
     "exception": false,
     "start_time": "2021-07-14T15:54:29.717298",
     "status": "completed"
    },
    "tags": []
   },
   "outputs": [
    {
     "name": "stdout",
     "output_type": "stream",
     "text": [
      "<class 'pandas.core.frame.DataFrame'>\n",
      "RangeIndex: 110148 entries, 0 to 110147\n",
      "Data columns (total 19 columns):\n",
      " #   Column            Non-Null Count   Dtype  \n",
      "---  ------            --------------   -----  \n",
      " 0   education         110148 non-null  int64  \n",
      " 1   sex               110148 non-null  int64  \n",
      " 2   age               110148 non-null  int64  \n",
      " 3   car               110148 non-null  int64  \n",
      " 4   decline_app_cnt   110148 non-null  int64  \n",
      " 5   good_work         110148 non-null  int64  \n",
      " 6   score_bki         110148 non-null  float64\n",
      " 7   bki_request_cnt   110148 non-null  float64\n",
      " 8   region_rating     110148 non-null  float64\n",
      " 9   home_address      110148 non-null  int64  \n",
      " 10  income            110148 non-null  float64\n",
      " 11  sna               110148 non-null  int64  \n",
      " 12  first_time        110148 non-null  int64  \n",
      " 13  foreign_passport  110148 non-null  int64  \n",
      " 14  sample            110148 non-null  int64  \n",
      " 15  default           110148 non-null  int64  \n",
      " 16  month             110148 non-null  int64  \n",
      " 17  date              110148 non-null  int64  \n",
      " 18  dayofweek         110148 non-null  int64  \n",
      "dtypes: float64(4), int64(15)\n",
      "memory usage: 16.0 MB\n"
     ]
    }
   ],
   "source": [
    "data.info()"
   ]
  },
  {
   "cell_type": "markdown",
   "id": "4ef25505",
   "metadata": {
    "papermill": {
     "duration": 0.137932,
     "end_time": "2021-07-14T15:54:30.156386",
     "exception": false,
     "start_time": "2021-07-14T15:54:30.018454",
     "status": "completed"
    },
    "tags": []
   },
   "source": [
    "#### после проведения предобработки данных и анализа EDA разделим вновь датасет на тренировочную и тестовую выборки\n"
   ]
  },
  {
   "cell_type": "code",
   "execution_count": 79,
   "id": "a704ecaa",
   "metadata": {
    "execution": {
     "iopub.execute_input": "2021-07-14T15:54:30.442637Z",
     "iopub.status.busy": "2021-07-14T15:54:30.441932Z",
     "iopub.status.idle": "2021-07-14T15:54:30.476010Z",
     "shell.execute_reply": "2021-07-14T15:54:30.476585Z",
     "shell.execute_reply.started": "2021-07-14T15:42:26.922071Z"
    },
    "papermill": {
     "duration": 0.181545,
     "end_time": "2021-07-14T15:54:30.476781",
     "exception": false,
     "start_time": "2021-07-14T15:54:30.295236",
     "status": "completed"
    },
    "tags": []
   },
   "outputs": [],
   "source": [
    "df_train =  data.query('sample == 1').drop(['sample'], axis=1)\n",
    "df_test = data.query('sample == 0').drop(['sample'], axis=1)\n",
    "\n",
    "y = df_train.default.values # наш таргет\n",
    "df_train = df_train.drop(['default'], axis=1)"
   ]
  },
  {
   "cell_type": "markdown",
   "id": "25457c02",
   "metadata": {
    "execution": {
     "iopub.execute_input": "2021-07-13T16:12:51.642637Z",
     "iopub.status.busy": "2021-07-13T16:12:51.642276Z",
     "iopub.status.idle": "2021-07-13T16:12:51.647079Z",
     "shell.execute_reply": "2021-07-13T16:12:51.646053Z",
     "shell.execute_reply.started": "2021-07-13T16:12:51.642607Z"
    },
    "papermill": {
     "duration": 0.139879,
     "end_time": "2021-07-14T15:54:30.759283",
     "exception": false,
     "start_time": "2021-07-14T15:54:30.619404",
     "status": "completed"
    },
    "tags": []
   },
   "source": [
    "## Preprocessing"
   ]
  },
  {
   "cell_type": "code",
   "execution_count": 80,
   "id": "68ef927f",
   "metadata": {
    "execution": {
     "iopub.execute_input": "2021-07-14T15:54:31.044497Z",
     "iopub.status.busy": "2021-07-14T15:54:31.043788Z",
     "iopub.status.idle": "2021-07-14T15:54:31.091044Z",
     "shell.execute_reply": "2021-07-14T15:54:31.091676Z",
     "shell.execute_reply.started": "2021-07-14T15:42:27.967612Z"
    },
    "papermill": {
     "duration": 0.19209,
     "end_time": "2021-07-14T15:54:31.091951",
     "exception": false,
     "start_time": "2021-07-14T15:54:30.899861",
     "status": "completed"
    },
    "tags": []
   },
   "outputs": [],
   "source": [
    "X_cat =  OneHotEncoder(sparse = False).fit_transform(df_train[cat_cols].values)"
   ]
  },
  {
   "cell_type": "markdown",
   "id": "e0f673e3",
   "metadata": {
    "execution": {
     "iopub.execute_input": "2021-07-13T16:16:35.017142Z",
     "iopub.status.busy": "2021-07-13T16:16:35.016766Z",
     "iopub.status.idle": "2021-07-13T16:16:35.038791Z",
     "shell.execute_reply": "2021-07-13T16:16:35.037653Z",
     "shell.execute_reply.started": "2021-07-13T16:16:35.01711Z"
    },
    "papermill": {
     "duration": 0.140004,
     "end_time": "2021-07-14T15:54:31.369575",
     "exception": false,
     "start_time": "2021-07-14T15:54:31.229571",
     "status": "completed"
    },
    "tags": []
   },
   "source": [
    "#### Стандартизируем числовые переменные"
   ]
  },
  {
   "cell_type": "code",
   "execution_count": 81,
   "id": "b5129491",
   "metadata": {
    "execution": {
     "iopub.execute_input": "2021-07-14T15:54:31.648233Z",
     "iopub.status.busy": "2021-07-14T15:54:31.647540Z",
     "iopub.status.idle": "2021-07-14T15:54:31.660350Z",
     "shell.execute_reply": "2021-07-14T15:54:31.660977Z",
     "shell.execute_reply.started": "2021-07-14T15:42:28.986225Z"
    },
    "papermill": {
     "duration": 0.154258,
     "end_time": "2021-07-14T15:54:31.661163",
     "exception": false,
     "start_time": "2021-07-14T15:54:31.506905",
     "status": "completed"
    },
    "tags": []
   },
   "outputs": [],
   "source": [
    "X_num = StandardScaler().fit_transform(df_train[num_cols].values)"
   ]
  },
  {
   "cell_type": "code",
   "execution_count": 82,
   "id": "de513429",
   "metadata": {
    "execution": {
     "iopub.execute_input": "2021-07-14T15:54:31.945479Z",
     "iopub.status.busy": "2021-07-14T15:54:31.944779Z",
     "iopub.status.idle": "2021-07-14T15:54:31.964996Z",
     "shell.execute_reply": "2021-07-14T15:54:31.964444Z",
     "shell.execute_reply.started": "2021-07-14T15:42:29.510344Z"
    },
    "papermill": {
     "duration": 0.163988,
     "end_time": "2021-07-14T15:54:31.965167",
     "exception": false,
     "start_time": "2021-07-14T15:54:31.801179",
     "status": "completed"
    },
    "tags": []
   },
   "outputs": [
    {
     "data": {
      "text/html": [
       "<div>\n",
       "<style scoped>\n",
       "    .dataframe tbody tr th:only-of-type {\n",
       "        vertical-align: middle;\n",
       "    }\n",
       "\n",
       "    .dataframe tbody tr th {\n",
       "        vertical-align: top;\n",
       "    }\n",
       "\n",
       "    .dataframe thead th {\n",
       "        text-align: right;\n",
       "    }\n",
       "</style>\n",
       "<table border=\"1\" class=\"dataframe\">\n",
       "  <thead>\n",
       "    <tr style=\"text-align: right;\">\n",
       "      <th></th>\n",
       "      <th>education</th>\n",
       "      <th>sex</th>\n",
       "      <th>age</th>\n",
       "      <th>car</th>\n",
       "      <th>decline_app_cnt</th>\n",
       "      <th>good_work</th>\n",
       "      <th>score_bki</th>\n",
       "      <th>bki_request_cnt</th>\n",
       "      <th>region_rating</th>\n",
       "      <th>home_address</th>\n",
       "      <th>income</th>\n",
       "      <th>sna</th>\n",
       "      <th>first_time</th>\n",
       "      <th>foreign_passport</th>\n",
       "      <th>month</th>\n",
       "      <th>date</th>\n",
       "      <th>dayofweek</th>\n",
       "    </tr>\n",
       "  </thead>\n",
       "  <tbody>\n",
       "    <tr>\n",
       "      <th>59809</th>\n",
       "      <td>1</td>\n",
       "      <td>0</td>\n",
       "      <td>31</td>\n",
       "      <td>0</td>\n",
       "      <td>0</td>\n",
       "      <td>0</td>\n",
       "      <td>-2.225004</td>\n",
       "      <td>3.0</td>\n",
       "      <td>50.0</td>\n",
       "      <td>2</td>\n",
       "      <td>40000.0</td>\n",
       "      <td>1</td>\n",
       "      <td>3</td>\n",
       "      <td>0</td>\n",
       "      <td>3</td>\n",
       "      <td>14</td>\n",
       "      <td>4</td>\n",
       "    </tr>\n",
       "    <tr>\n",
       "      <th>40058</th>\n",
       "      <td>4</td>\n",
       "      <td>0</td>\n",
       "      <td>55</td>\n",
       "      <td>0</td>\n",
       "      <td>0</td>\n",
       "      <td>0</td>\n",
       "      <td>-1.879065</td>\n",
       "      <td>7.0</td>\n",
       "      <td>60.0</td>\n",
       "      <td>2</td>\n",
       "      <td>49000.0</td>\n",
       "      <td>4</td>\n",
       "      <td>1</td>\n",
       "      <td>0</td>\n",
       "      <td>3</td>\n",
       "      <td>28</td>\n",
       "      <td>4</td>\n",
       "    </tr>\n",
       "    <tr>\n",
       "      <th>57911</th>\n",
       "      <td>1</td>\n",
       "      <td>1</td>\n",
       "      <td>60</td>\n",
       "      <td>1</td>\n",
       "      <td>0</td>\n",
       "      <td>1</td>\n",
       "      <td>-2.694520</td>\n",
       "      <td>2.0</td>\n",
       "      <td>50.0</td>\n",
       "      <td>1</td>\n",
       "      <td>30000.0</td>\n",
       "      <td>1</td>\n",
       "      <td>3</td>\n",
       "      <td>1</td>\n",
       "      <td>4</td>\n",
       "      <td>17</td>\n",
       "      <td>3</td>\n",
       "    </tr>\n",
       "  </tbody>\n",
       "</table>\n",
       "</div>"
      ],
      "text/plain": [
       "       education  sex  age  car  decline_app_cnt  good_work  score_bki  \\\n",
       "59809          1    0   31    0                0          0  -2.225004   \n",
       "40058          4    0   55    0                0          0  -1.879065   \n",
       "57911          1    1   60    1                0          1  -2.694520   \n",
       "\n",
       "       bki_request_cnt  region_rating  home_address   income  sna  first_time  \\\n",
       "59809              3.0           50.0             2  40000.0    1           3   \n",
       "40058              7.0           60.0             2  49000.0    4           1   \n",
       "57911              2.0           50.0             1  30000.0    1           3   \n",
       "\n",
       "       foreign_passport  month  date  dayofweek  \n",
       "59809                 0      3    14          4  \n",
       "40058                 0      3    28          4  \n",
       "57911                 1      4    17          3  "
      ]
     },
     "execution_count": 82,
     "metadata": {},
     "output_type": "execute_result"
    }
   ],
   "source": [
    "df_train.sample(3)"
   ]
  },
  {
   "cell_type": "code",
   "execution_count": 83,
   "id": "76b4b12f",
   "metadata": {
    "execution": {
     "iopub.execute_input": "2021-07-14T15:54:32.264994Z",
     "iopub.status.busy": "2021-07-14T15:54:32.264006Z",
     "iopub.status.idle": "2021-07-14T15:54:32.269436Z",
     "shell.execute_reply": "2021-07-14T15:54:32.268722Z",
     "shell.execute_reply.started": "2021-07-14T15:42:30.033291Z"
    },
    "papermill": {
     "duration": 0.163119,
     "end_time": "2021-07-14T15:54:32.269587",
     "exception": false,
     "start_time": "2021-07-14T15:54:32.106468",
     "status": "completed"
    },
    "tags": []
   },
   "outputs": [
    {
     "data": {
      "text/html": [
       "<div>\n",
       "<style scoped>\n",
       "    .dataframe tbody tr th:only-of-type {\n",
       "        vertical-align: middle;\n",
       "    }\n",
       "\n",
       "    .dataframe tbody tr th {\n",
       "        vertical-align: top;\n",
       "    }\n",
       "\n",
       "    .dataframe thead th {\n",
       "        text-align: right;\n",
       "    }\n",
       "</style>\n",
       "<table border=\"1\" class=\"dataframe\">\n",
       "  <thead>\n",
       "    <tr style=\"text-align: right;\">\n",
       "      <th></th>\n",
       "      <th>education</th>\n",
       "      <th>sex</th>\n",
       "      <th>age</th>\n",
       "      <th>car</th>\n",
       "      <th>decline_app_cnt</th>\n",
       "      <th>good_work</th>\n",
       "      <th>score_bki</th>\n",
       "      <th>bki_request_cnt</th>\n",
       "      <th>region_rating</th>\n",
       "      <th>home_address</th>\n",
       "      <th>income</th>\n",
       "      <th>sna</th>\n",
       "      <th>first_time</th>\n",
       "      <th>foreign_passport</th>\n",
       "      <th>default</th>\n",
       "      <th>month</th>\n",
       "      <th>date</th>\n",
       "      <th>dayofweek</th>\n",
       "    </tr>\n",
       "  </thead>\n",
       "  <tbody>\n",
       "    <tr>\n",
       "      <th>12187</th>\n",
       "      <td>1</td>\n",
       "      <td>0</td>\n",
       "      <td>29</td>\n",
       "      <td>0</td>\n",
       "      <td>0</td>\n",
       "      <td>0</td>\n",
       "      <td>-2.616177</td>\n",
       "      <td>5.0</td>\n",
       "      <td>50.0</td>\n",
       "      <td>2</td>\n",
       "      <td>30000.0</td>\n",
       "      <td>2</td>\n",
       "      <td>2</td>\n",
       "      <td>0</td>\n",
       "      <td>0</td>\n",
       "      <td>3</td>\n",
       "      <td>18</td>\n",
       "      <td>1</td>\n",
       "    </tr>\n",
       "    <tr>\n",
       "      <th>14018</th>\n",
       "      <td>4</td>\n",
       "      <td>0</td>\n",
       "      <td>27</td>\n",
       "      <td>0</td>\n",
       "      <td>0</td>\n",
       "      <td>0</td>\n",
       "      <td>-1.774186</td>\n",
       "      <td>0.0</td>\n",
       "      <td>70.0</td>\n",
       "      <td>1</td>\n",
       "      <td>45000.0</td>\n",
       "      <td>4</td>\n",
       "      <td>3</td>\n",
       "      <td>0</td>\n",
       "      <td>0</td>\n",
       "      <td>2</td>\n",
       "      <td>19</td>\n",
       "      <td>2</td>\n",
       "    </tr>\n",
       "    <tr>\n",
       "      <th>7501</th>\n",
       "      <td>3</td>\n",
       "      <td>1</td>\n",
       "      <td>25</td>\n",
       "      <td>0</td>\n",
       "      <td>0</td>\n",
       "      <td>0</td>\n",
       "      <td>-2.225004</td>\n",
       "      <td>1.0</td>\n",
       "      <td>50.0</td>\n",
       "      <td>1</td>\n",
       "      <td>30000.0</td>\n",
       "      <td>4</td>\n",
       "      <td>1</td>\n",
       "      <td>0</td>\n",
       "      <td>0</td>\n",
       "      <td>3</td>\n",
       "      <td>24</td>\n",
       "      <td>0</td>\n",
       "    </tr>\n",
       "  </tbody>\n",
       "</table>\n",
       "</div>"
      ],
      "text/plain": [
       "       education  sex  age  car  decline_app_cnt  good_work  score_bki  \\\n",
       "12187          1    0   29    0                0          0  -2.616177   \n",
       "14018          4    0   27    0                0          0  -1.774186   \n",
       "7501           3    1   25    0                0          0  -2.225004   \n",
       "\n",
       "       bki_request_cnt  region_rating  home_address   income  sna  first_time  \\\n",
       "12187              5.0           50.0             2  30000.0    2           2   \n",
       "14018              0.0           70.0             1  45000.0    4           3   \n",
       "7501               1.0           50.0             1  30000.0    4           1   \n",
       "\n",
       "       foreign_passport  default  month  date  dayofweek  \n",
       "12187                 0        0      3    18          1  \n",
       "14018                 0        0      2    19          2  \n",
       "7501                  0        0      3    24          0  "
      ]
     },
     "execution_count": 83,
     "metadata": {},
     "output_type": "execute_result"
    }
   ],
   "source": [
    "df_test.sample(3)"
   ]
  },
  {
   "cell_type": "markdown",
   "id": "5634b2f9",
   "metadata": {
    "papermill": {
     "duration": 0.141463,
     "end_time": "2021-07-14T15:54:32.550902",
     "exception": false,
     "start_time": "2021-07-14T15:54:32.409439",
     "status": "completed"
    },
    "tags": []
   },
   "source": [
    "#### И объединим стандартизованные числовые, бинарные и закодированные категориальные переменные в одно признаковое пространство, разделив при этом признаки и целевую переменную.\n"
   ]
  },
  {
   "cell_type": "code",
   "execution_count": 84,
   "id": "6f085e22",
   "metadata": {
    "execution": {
     "iopub.execute_input": "2021-07-14T15:54:32.838893Z",
     "iopub.status.busy": "2021-07-14T15:54:32.837453Z",
     "iopub.status.idle": "2021-07-14T15:54:32.853092Z",
     "shell.execute_reply": "2021-07-14T15:54:32.852425Z",
     "shell.execute_reply.started": "2021-07-14T15:42:31.102412Z"
    },
    "papermill": {
     "duration": 0.163678,
     "end_time": "2021-07-14T15:54:32.853247",
     "exception": false,
     "start_time": "2021-07-14T15:54:32.689569",
     "status": "completed"
    },
    "tags": []
   },
   "outputs": [],
   "source": [
    "X = np.hstack([X_num, df_train[bin_cols].values, X_cat])"
   ]
  },
  {
   "cell_type": "markdown",
   "id": "d49f933c",
   "metadata": {
    "papermill": {
     "duration": 0.143084,
     "end_time": "2021-07-14T15:54:33.139676",
     "exception": false,
     "start_time": "2021-07-14T15:54:32.996592",
     "status": "completed"
    },
    "tags": []
   },
   "source": [
    "**Перед тем как отправлять наши данные на обучение, разделим данные на еще один тест и трейн, для валидации.\n",
    "Это поможет нам проверить, как хорошо наша модель работает, до отправки submissiona на kaggle.**"
   ]
  },
  {
   "cell_type": "code",
   "execution_count": 85,
   "id": "d3e7cc5e",
   "metadata": {
    "execution": {
     "iopub.execute_input": "2021-07-14T15:54:33.425858Z",
     "iopub.status.busy": "2021-07-14T15:54:33.425142Z",
     "iopub.status.idle": "2021-07-14T15:54:33.445225Z",
     "shell.execute_reply": "2021-07-14T15:54:33.445766Z",
     "shell.execute_reply.started": "2021-07-14T15:42:32.121212Z"
    },
    "papermill": {
     "duration": 0.162121,
     "end_time": "2021-07-14T15:54:33.445945",
     "exception": false,
     "start_time": "2021-07-14T15:54:33.283824",
     "status": "completed"
    },
    "tags": []
   },
   "outputs": [],
   "source": [
    "# Воспользуемся специальной функцие train_test_split для разбивки тестовых данных\n",
    "# выделим 20% данных на валидацию (параметр test_size)\n",
    "X_train, X_test, y_train, y_test = train_test_split(X, y, test_size=0.2, random_state=RANDOM_SEED)"
   ]
  },
  {
   "cell_type": "code",
   "execution_count": 86,
   "id": "9491cb4e",
   "metadata": {
    "execution": {
     "iopub.execute_input": "2021-07-14T15:54:33.729098Z",
     "iopub.status.busy": "2021-07-14T15:54:33.728439Z",
     "iopub.status.idle": "2021-07-14T15:54:33.735527Z",
     "shell.execute_reply": "2021-07-14T15:54:33.734874Z",
     "shell.execute_reply.started": "2021-07-14T15:42:32.679974Z"
    },
    "papermill": {
     "duration": 0.14839,
     "end_time": "2021-07-14T15:54:33.735673",
     "exception": false,
     "start_time": "2021-07-14T15:54:33.587283",
     "status": "completed"
    },
    "tags": []
   },
   "outputs": [
    {
     "data": {
      "text/plain": [
       "((36349, 18), (73799, 17), (73799, 26), (59039, 26), (14760, 26))"
      ]
     },
     "execution_count": 86,
     "metadata": {},
     "output_type": "execute_result"
    }
   ],
   "source": [
    "# проверяем\n",
    "df_test.shape, df_train.shape, X.shape, X_train.shape, X_test.shape"
   ]
  },
  {
   "cell_type": "markdown",
   "id": "1aecffe8",
   "metadata": {
    "papermill": {
     "duration": 0.143329,
     "end_time": "2021-07-14T15:54:34.069405",
     "exception": false,
     "start_time": "2021-07-14T15:54:33.926076",
     "status": "completed"
    },
    "tags": []
   },
   "source": [
    "## Model"
   ]
  },
  {
   "cell_type": "code",
   "execution_count": 87,
   "id": "cbc1d4d1",
   "metadata": {
    "execution": {
     "iopub.execute_input": "2021-07-14T15:54:34.366684Z",
     "iopub.status.busy": "2021-07-14T15:54:34.365994Z",
     "iopub.status.idle": "2021-07-14T15:54:36.165288Z",
     "shell.execute_reply": "2021-07-14T15:54:36.166254Z",
     "shell.execute_reply.started": "2021-07-14T15:42:33.675763Z"
    },
    "papermill": {
     "duration": 1.949186,
     "end_time": "2021-07-14T15:54:36.166594",
     "exception": false,
     "start_time": "2021-07-14T15:54:34.217408",
     "status": "completed"
    },
    "tags": []
   },
   "outputs": [],
   "source": [
    "lg = LogisticRegression(max_iter=1000)\n",
    "lg.fit(X_train,y_train)\n",
    "y_pred = lg.predict_proba(X_test)[:,1]\n",
    "\n",
    "fpr, tpr, threshold = roc_curve(y_test, y_pred)\n",
    "roc_auc =  roc_auc_score(y_test, y_pred)\n"
   ]
  },
  {
   "cell_type": "markdown",
   "id": "115a7ea6",
   "metadata": {
    "papermill": {
     "duration": 0.139788,
     "end_time": "2021-07-14T15:54:36.493617",
     "exception": false,
     "start_time": "2021-07-14T15:54:36.353829",
     "status": "completed"
    },
    "tags": []
   },
   "source": [
    "## Оценка качества модели"
   ]
  },
  {
   "cell_type": "code",
   "execution_count": 88,
   "id": "a3b48028",
   "metadata": {
    "execution": {
     "iopub.execute_input": "2021-07-14T15:54:36.801156Z",
     "iopub.status.busy": "2021-07-14T15:54:36.794157Z",
     "iopub.status.idle": "2021-07-14T15:54:36.946038Z",
     "shell.execute_reply": "2021-07-14T15:54:36.945401Z",
     "shell.execute_reply.started": "2021-07-14T15:42:35.299086Z"
    },
    "papermill": {
     "duration": 0.313316,
     "end_time": "2021-07-14T15:54:36.946193",
     "exception": false,
     "start_time": "2021-07-14T15:54:36.632877",
     "status": "completed"
    },
    "tags": []
   },
   "outputs": [
    {
     "data": {
      "image/png": "[encoded data removed]",
      "text/plain": [
       "<Figure size 432x288 with 1 Axes>"
      ]
     },
     "metadata": {
      "needs_background": "light"
     },
     "output_type": "display_data"
    }
   ],
   "source": [
    "plt.figure()\n",
    "plt.plot([0, 1], label='Baseline', linestyle='--')\n",
    "plt.plot(fpr, tpr, label = 'Regression')\n",
    "plt.title('Logistic Regression ROC AUC = %0.3f' % roc_auc)\n",
    "plt.ylabel('True Positive Rate')\n",
    "plt.xlabel('False Positive Rate')\n",
    "plt.legend(loc = 'lower right')\n",
    "plt.show()"
   ]
  },
  {
   "cell_type": "markdown",
   "id": "c395f2c5",
   "metadata": {
    "papermill": {
     "duration": 0.143131,
     "end_time": "2021-07-14T15:54:37.230395",
     "exception": false,
     "start_time": "2021-07-14T15:54:37.087264",
     "status": "completed"
    },
    "tags": []
   },
   "source": [
    "### на этом месте должны быть гипперпараметры :-)"
   ]
  },
  {
   "cell_type": "code",
   "execution_count": 89,
   "id": "f4de70b1",
   "metadata": {
    "execution": {
     "iopub.execute_input": "2021-07-14T15:54:37.518513Z",
     "iopub.status.busy": "2021-07-14T15:54:37.517781Z",
     "iopub.status.idle": "2021-07-14T15:54:37.521647Z",
     "shell.execute_reply": "2021-07-14T15:54:37.521130Z",
     "shell.execute_reply.started": "2021-07-14T15:42:35.784337Z"
    },
    "papermill": {
     "duration": 0.15123,
     "end_time": "2021-07-14T15:54:37.521802",
     "exception": false,
     "start_time": "2021-07-14T15:54:37.370572",
     "status": "completed"
    },
    "tags": []
   },
   "outputs": [
    {
     "data": {
      "text/plain": [
       "array([0.20640388, 0.15330431, 0.13977367, ..., 0.0915886 , 0.07954377,\n",
       "       0.05849598])"
      ]
     },
     "execution_count": 89,
     "metadata": {},
     "output_type": "execute_result"
    }
   ],
   "source": [
    "y_pred"
   ]
  },
  {
   "cell_type": "markdown",
   "id": "96b62a0a",
   "metadata": {
    "papermill": {
     "duration": 0.139922,
     "end_time": "2021-07-14T15:54:37.803010",
     "exception": false,
     "start_time": "2021-07-14T15:54:37.663088",
     "status": "completed"
    },
    "tags": []
   },
   "source": [
    "#### Давайте найдем оптимальное значение параметра регуляризации для логистической регрессии."
   ]
  },
  {
   "cell_type": "code",
   "execution_count": 90,
   "id": "480bdaa1",
   "metadata": {
    "execution": {
     "iopub.execute_input": "2021-07-14T15:54:38.089800Z",
     "iopub.status.busy": "2021-07-14T15:54:38.089131Z",
     "iopub.status.idle": "2021-07-14T15:54:38.092842Z",
     "shell.execute_reply": "2021-07-14T15:54:38.092141Z",
     "shell.execute_reply.started": "2021-07-14T15:50:23.448802Z"
    },
    "papermill": {
     "duration": 0.149479,
     "end_time": "2021-07-14T15:54:38.092999",
     "exception": false,
     "start_time": "2021-07-14T15:54:37.943520",
     "status": "completed"
    },
    "tags": []
   },
   "outputs": [],
   "source": [
    "# Добавим типы регуляризации\n",
    "penalty = ['l1', 'l2']"
   ]
  },
  {
   "cell_type": "code",
   "execution_count": 91,
   "id": "01e16a85",
   "metadata": {
    "execution": {
     "iopub.execute_input": "2021-07-14T15:54:38.380901Z",
     "iopub.status.busy": "2021-07-14T15:54:38.380177Z",
     "iopub.status.idle": "2021-07-14T15:54:38.383124Z",
     "shell.execute_reply": "2021-07-14T15:54:38.382628Z",
     "shell.execute_reply.started": "2021-07-14T15:50:26.153535Z"
    },
    "papermill": {
     "duration": 0.149105,
     "end_time": "2021-07-14T15:54:38.383302",
     "exception": false,
     "start_time": "2021-07-14T15:54:38.234197",
     "status": "completed"
    },
    "tags": []
   },
   "outputs": [],
   "source": [
    "# Зададим ограничения для параметра регуляризации\n",
    "C = np.logspace(0, 4, 10)\n"
   ]
  },
  {
   "cell_type": "code",
   "execution_count": 92,
   "id": "3b253fe1",
   "metadata": {
    "execution": {
     "iopub.execute_input": "2021-07-14T15:54:38.671277Z",
     "iopub.status.busy": "2021-07-14T15:54:38.670560Z",
     "iopub.status.idle": "2021-07-14T15:54:38.675787Z",
     "shell.execute_reply": "2021-07-14T15:54:38.674984Z",
     "shell.execute_reply.started": "2021-07-14T15:50:28.026936Z"
    },
    "papermill": {
     "duration": 0.151306,
     "end_time": "2021-07-14T15:54:38.675971",
     "exception": false,
     "start_time": "2021-07-14T15:54:38.524665",
     "status": "completed"
    },
    "tags": []
   },
   "outputs": [],
   "source": [
    "\n",
    "# Создадим гиперпараметры\n",
    "hyperparameters = dict(C=C, penalty=penalty)"
   ]
  },
  {
   "cell_type": "code",
   "execution_count": 93,
   "id": "96c8f649",
   "metadata": {
    "execution": {
     "iopub.execute_input": "2021-07-14T15:54:38.966870Z",
     "iopub.status.busy": "2021-07-14T15:54:38.965743Z",
     "iopub.status.idle": "2021-07-14T15:54:38.968770Z",
     "shell.execute_reply": "2021-07-14T15:54:38.969310Z",
     "shell.execute_reply.started": "2021-07-14T15:51:44.239866Z"
    },
    "papermill": {
     "duration": 0.151524,
     "end_time": "2021-07-14T15:54:38.969552",
     "exception": false,
     "start_time": "2021-07-14T15:54:38.818028",
     "status": "completed"
    },
    "tags": []
   },
   "outputs": [],
   "source": [
    "# Создаем сетку поиска с использованием 5-кратной перекрестной проверки\n",
    "clf = GridSearchCV(lg, hyperparameters, cv=5, verbose=0)"
   ]
  },
  {
   "cell_type": "code",
   "execution_count": 94,
   "id": "f4dec8fd",
   "metadata": {
    "execution": {
     "iopub.execute_input": "2021-07-14T15:54:39.268337Z",
     "iopub.status.busy": "2021-07-14T15:54:39.267291Z",
     "iopub.status.idle": "2021-07-14T15:55:15.823201Z",
     "shell.execute_reply": "2021-07-14T15:55:15.824161Z",
     "shell.execute_reply.started": "2021-07-14T15:51:46.377998Z"
    },
    "papermill": {
     "duration": 36.704368,
     "end_time": "2021-07-14T15:55:15.824464",
     "exception": false,
     "start_time": "2021-07-14T15:54:39.120096",
     "status": "completed"
    },
    "tags": []
   },
   "outputs": [
    {
     "name": "stderr",
     "output_type": "stream",
     "text": [
      "/opt/conda/lib/python3.7/site-packages/sklearn/model_selection/_validation.py:552: FitFailedWarning: Estimator fit failed. The score on this train-test partition for these parameters will be set to nan. Details: \n",
      "Traceback (most recent call last):\n",
      "  File \"/opt/conda/lib/python3.7/site-packages/sklearn/model_selection/_validation.py\", line 531, in _fit_and_score\n",
      "    estimator.fit(X_train, y_train, **fit_params)\n",
      "  File \"/opt/conda/lib/python3.7/site-packages/sklearn/linear_model/_logistic.py\", line 1304, in fit\n",
      "    solver = _check_solver(self.solver, self.penalty, self.dual)\n",
      "  File \"/opt/conda/lib/python3.7/site-packages/sklearn/linear_model/_logistic.py\", line 443, in _check_solver\n",
      "    \"got %s penalty.\" % (solver, penalty))\n",
      "ValueError: Solver lbfgs supports only 'l2' or 'none' penalties, got l1 penalty.\n",
      "\n",
      "  FitFailedWarning)\n",
      "/opt/conda/lib/python3.7/site-packages/sklearn/model_selection/_validation.py:552: FitFailedWarning: Estimator fit failed. The score on this train-test partition for these parameters will be set to nan. Details: \n",
      "Traceback (most recent call last):\n",
      "  File \"/opt/conda/lib/python3.7/site-packages/sklearn/model_selection/_validation.py\", line 531, in _fit_and_score\n",
      "    estimator.fit(X_train, y_train, **fit_params)\n",
      "  File \"/opt/conda/lib/python3.7/site-packages/sklearn/linear_model/_logistic.py\", line 1304, in fit\n",
      "    solver = _check_solver(self.solver, self.penalty, self.dual)\n",
      "  File \"/opt/conda/lib/python3.7/site-packages/sklearn/linear_model/_logistic.py\", line 443, in _check_solver\n",
      "    \"got %s penalty.\" % (solver, penalty))\n",
      "ValueError: Solver lbfgs supports only 'l2' or 'none' penalties, got l1 penalty.\n",
      "\n",
      "  FitFailedWarning)\n",
      "/opt/conda/lib/python3.7/site-packages/sklearn/model_selection/_validation.py:552: FitFailedWarning: Estimator fit failed. The score on this train-test partition for these parameters will be set to nan. Details: \n",
      "Traceback (most recent call last):\n",
      "  File \"/opt/conda/lib/python3.7/site-packages/sklearn/model_selection/_validation.py\", line 531, in _fit_and_score\n",
      "    estimator.fit(X_train, y_train, **fit_params)\n",
      "  File \"/opt/conda/lib/python3.7/site-packages/sklearn/linear_model/_logistic.py\", line 1304, in fit\n",
      "    solver = _check_solver(self.solver, self.penalty, self.dual)\n",
      "  File \"/opt/conda/lib/python3.7/site-packages/sklearn/linear_model/_logistic.py\", line 443, in _check_solver\n",
      "    \"got %s penalty.\" % (solver, penalty))\n",
      "ValueError: Solver lbfgs supports only 'l2' or 'none' penalties, got l1 penalty.\n",
      "\n",
      "  FitFailedWarning)\n",
      "/opt/conda/lib/python3.7/site-packages/sklearn/model_selection/_validation.py:552: FitFailedWarning: Estimator fit failed. The score on this train-test partition for these parameters will be set to nan. Details: \n",
      "Traceback (most recent call last):\n",
      "  File \"/opt/conda/lib/python3.7/site-packages/sklearn/model_selection/_validation.py\", line 531, in _fit_and_score\n",
      "    estimator.fit(X_train, y_train, **fit_params)\n",
      "  File \"/opt/conda/lib/python3.7/site-packages/sklearn/linear_model/_logistic.py\", line 1304, in fit\n",
      "    solver = _check_solver(self.solver, self.penalty, self.dual)\n",
      "  File \"/opt/conda/lib/python3.7/site-packages/sklearn/linear_model/_logistic.py\", line 443, in _check_solver\n",
      "    \"got %s penalty.\" % (solver, penalty))\n",
      "ValueError: Solver lbfgs supports only 'l2' or 'none' penalties, got l1 penalty.\n",
      "\n",
      "  FitFailedWarning)\n",
      "/opt/conda/lib/python3.7/site-packages/sklearn/model_selection/_validation.py:552: FitFailedWarning: Estimator fit failed. The score on this train-test partition for these parameters will be set to nan. Details: \n",
      "Traceback (most recent call last):\n",
      "  File \"/opt/conda/lib/python3.7/site-packages/sklearn/model_selection/_validation.py\", line 531, in _fit_and_score\n",
      "    estimator.fit(X_train, y_train, **fit_params)\n",
      "  File \"/opt/conda/lib/python3.7/site-packages/sklearn/linear_model/_logistic.py\", line 1304, in fit\n",
      "    solver = _check_solver(self.solver, self.penalty, self.dual)\n",
      "  File \"/opt/conda/lib/python3.7/site-packages/sklearn/linear_model/_logistic.py\", line 443, in _check_solver\n",
      "    \"got %s penalty.\" % (solver, penalty))\n",
      "ValueError: Solver lbfgs supports only 'l2' or 'none' penalties, got l1 penalty.\n",
      "\n",
      "  FitFailedWarning)\n",
      "/opt/conda/lib/python3.7/site-packages/sklearn/model_selection/_validation.py:552: FitFailedWarning: Estimator fit failed. The score on this train-test partition for these parameters will be set to nan. Details: \n",
      "Traceback (most recent call last):\n",
      "  File \"/opt/conda/lib/python3.7/site-packages/sklearn/model_selection/_validation.py\", line 531, in _fit_and_score\n",
      "    estimator.fit(X_train, y_train, **fit_params)\n",
      "  File \"/opt/conda/lib/python3.7/site-packages/sklearn/linear_model/_logistic.py\", line 1304, in fit\n",
      "    solver = _check_solver(self.solver, self.penalty, self.dual)\n",
      "  File \"/opt/conda/lib/python3.7/site-packages/sklearn/linear_model/_logistic.py\", line 443, in _check_solver\n",
      "    \"got %s penalty.\" % (solver, penalty))\n",
      "ValueError: Solver lbfgs supports only 'l2' or 'none' penalties, got l1 penalty.\n",
      "\n",
      "  FitFailedWarning)\n",
      "/opt/conda/lib/python3.7/site-packages/sklearn/model_selection/_validation.py:552: FitFailedWarning: Estimator fit failed. The score on this train-test partition for these parameters will be set to nan. Details: \n",
      "Traceback (most recent call last):\n",
      "  File \"/opt/conda/lib/python3.7/site-packages/sklearn/model_selection/_validation.py\", line 531, in _fit_and_score\n",
      "    estimator.fit(X_train, y_train, **fit_params)\n",
      "  File \"/opt/conda/lib/python3.7/site-packages/sklearn/linear_model/_logistic.py\", line 1304, in fit\n",
      "    solver = _check_solver(self.solver, self.penalty, self.dual)\n",
      "  File \"/opt/conda/lib/python3.7/site-packages/sklearn/linear_model/_logistic.py\", line 443, in _check_solver\n",
      "    \"got %s penalty.\" % (solver, penalty))\n",
      "ValueError: Solver lbfgs supports only 'l2' or 'none' penalties, got l1 penalty.\n",
      "\n",
      "  FitFailedWarning)\n",
      "/opt/conda/lib/python3.7/site-packages/sklearn/model_selection/_validation.py:552: FitFailedWarning: Estimator fit failed. The score on this train-test partition for these parameters will be set to nan. Details: \n",
      "Traceback (most recent call last):\n",
      "  File \"/opt/conda/lib/python3.7/site-packages/sklearn/model_selection/_validation.py\", line 531, in _fit_and_score\n",
      "    estimator.fit(X_train, y_train, **fit_params)\n",
      "  File \"/opt/conda/lib/python3.7/site-packages/sklearn/linear_model/_logistic.py\", line 1304, in fit\n",
      "    solver = _check_solver(self.solver, self.penalty, self.dual)\n",
      "  File \"/opt/conda/lib/python3.7/site-packages/sklearn/linear_model/_logistic.py\", line 443, in _check_solver\n",
      "    \"got %s penalty.\" % (solver, penalty))\n",
      "ValueError: Solver lbfgs supports only 'l2' or 'none' penalties, got l1 penalty.\n",
      "\n",
      "  FitFailedWarning)\n",
      "/opt/conda/lib/python3.7/site-packages/sklearn/model_selection/_validation.py:552: FitFailedWarning: Estimator fit failed. The score on this train-test partition for these parameters will be set to nan. Details: \n",
      "Traceback (most recent call last):\n",
      "  File \"/opt/conda/lib/python3.7/site-packages/sklearn/model_selection/_validation.py\", line 531, in _fit_and_score\n",
      "    estimator.fit(X_train, y_train, **fit_params)\n",
      "  File \"/opt/conda/lib/python3.7/site-packages/sklearn/linear_model/_logistic.py\", line 1304, in fit\n",
      "    solver = _check_solver(self.solver, self.penalty, self.dual)\n",
      "  File \"/opt/conda/lib/python3.7/site-packages/sklearn/linear_model/_logistic.py\", line 443, in _check_solver\n",
      "    \"got %s penalty.\" % (solver, penalty))\n",
      "ValueError: Solver lbfgs supports only 'l2' or 'none' penalties, got l1 penalty.\n",
      "\n",
      "  FitFailedWarning)\n",
      "/opt/conda/lib/python3.7/site-packages/sklearn/model_selection/_validation.py:552: FitFailedWarning: Estimator fit failed. The score on this train-test partition for these parameters will be set to nan. Details: \n",
      "Traceback (most recent call last):\n",
      "  File \"/opt/conda/lib/python3.7/site-packages/sklearn/model_selection/_validation.py\", line 531, in _fit_and_score\n",
      "    estimator.fit(X_train, y_train, **fit_params)\n",
      "  File \"/opt/conda/lib/python3.7/site-packages/sklearn/linear_model/_logistic.py\", line 1304, in fit\n",
      "    solver = _check_solver(self.solver, self.penalty, self.dual)\n",
      "  File \"/opt/conda/lib/python3.7/site-packages/sklearn/linear_model/_logistic.py\", line 443, in _check_solver\n",
      "    \"got %s penalty.\" % (solver, penalty))\n",
      "ValueError: Solver lbfgs supports only 'l2' or 'none' penalties, got l1 penalty.\n",
      "\n",
      "  FitFailedWarning)\n"
     ]
    }
   ],
   "source": [
    "best_model = clf.fit(X_train, y_train)"
   ]
  },
  {
   "cell_type": "code",
   "execution_count": 95,
   "id": "3d5f14ad",
   "metadata": {
    "execution": {
     "iopub.execute_input": "2021-07-14T15:55:16.175902Z",
     "iopub.status.busy": "2021-07-14T15:55:16.175134Z",
     "iopub.status.idle": "2021-07-14T15:55:16.179978Z",
     "shell.execute_reply": "2021-07-14T15:55:16.179446Z",
     "shell.execute_reply.started": "2021-07-14T15:52:48.621674Z"
    },
    "papermill": {
     "duration": 0.161246,
     "end_time": "2021-07-14T15:55:16.180120",
     "exception": false,
     "start_time": "2021-07-14T15:55:16.018874",
     "status": "completed"
    },
    "tags": []
   },
   "outputs": [
    {
     "name": "stdout",
     "output_type": "stream",
     "text": [
      "Лучшее Penalty: l2\n",
      "Лучшее C: 1.0\n"
     ]
    }
   ],
   "source": [
    "# View best hyperparameters\n",
    "print('Лучшее Penalty:', best_model.best_estimator_.get_params()['penalty'])\n",
    "print('Лучшее C:', best_model.best_estimator_.get_params()['C'])"
   ]
  },
  {
   "cell_type": "code",
   "execution_count": null,
   "id": "09d24a45",
   "metadata": {
    "papermill": {
     "duration": 0.143973,
     "end_time": "2021-07-14T15:55:16.475713",
     "exception": false,
     "start_time": "2021-07-14T15:55:16.331740",
     "status": "completed"
    },
    "tags": []
   },
   "outputs": [],
   "source": []
  }
 ],
 "metadata": {
  "kernelspec": {
   "display_name": "Python 3",
   "language": "python",
   "name": "python3"
  },
  "language_info": {
   "codemirror_mode": {
    "name": "ipython",
    "version": 3
   },
   "file_extension": ".py",
   "mimetype": "text/x-python",
   "name": "python",
   "nbconvert_exporter": "python",
   "pygments_lexer": "ipython3",
   "version": "3.7.10"
  },
  "papermill": {
   "default_parameters": {},
   "duration": 126.31719,
   "end_time": "2021-07-14T15:55:17.732553",
   "environment_variables": {},
   "exception": null,
   "input_path": "__notebook__.ipynb",
   "output_path": "__notebook__.ipynb",
   "parameters": {},
   "start_time": "2021-07-14T15:53:11.415363",
   "version": "2.3.3"
  }
 },
 "nbformat": 4,
 "nbformat_minor": 5
}
