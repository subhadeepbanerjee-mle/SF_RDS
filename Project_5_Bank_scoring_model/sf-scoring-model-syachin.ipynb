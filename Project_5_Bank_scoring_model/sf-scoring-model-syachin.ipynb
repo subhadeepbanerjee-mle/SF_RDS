{
 "cells": [
  {
   "cell_type": "markdown",
   "id": "1fe7dd2b",
   "metadata": {
    "execution": {
     "iopub.execute_input": "2021-07-13T14:03:28.504586Z",
     "iopub.status.busy": "2021-07-13T14:03:28.503919Z",
     "iopub.status.idle": "2021-07-13T14:03:28.516816Z",
     "shell.execute_reply": "2021-07-13T14:03:28.515793Z",
     "shell.execute_reply.started": "2021-07-13T14:03:28.504496Z"
    },
    "papermill": {
     "duration": 0.099138,
     "end_time": "2021-07-14T15:53:21.260890",
     "exception": false,
     "start_time": "2021-07-14T15:53:21.161752",
     "status": "completed"
    },
    "tags": []
   },
   "source": [
    "# Проект 5. Компьютер говорит «Нет»\n",
    "## Цель проекта: Разаработать скоринговую модель предсказания возможности дефолта клиетнов банка\n",
    "\n",
    "## Задачи:\n",
    "* Подготовить датасет к анализу EDA\n",
    "* Выявить зависимости между отдельными признаками датасета\n",
    "* Выявить вес наиболее значимых признаков\n",
    "* создать модель и обучить ее на обучающем датасете\n",
    "* По метрикам качества оценить качество модели\n"
   ]
  },
  {
   "cell_type": "markdown",
   "id": "10e21bda",
   "metadata": {
    "papermill": {
     "duration": 0.100322,
     "end_time": "2021-07-14T15:53:21.458896",
     "exception": false,
     "start_time": "2021-07-14T15:53:21.358574",
     "status": "completed"
    },
    "tags": []
   },
   "source": [
    "## import"
   ]
  },
  {
   "cell_type": "code",
   "execution_count": 3,
   "id": "1bfd1b6e",
   "metadata": {
    "execution": {
     "iopub.execute_input": "2021-07-14T15:53:21.691040Z",
     "iopub.status.busy": "2021-07-14T15:53:21.689263Z",
     "iopub.status.idle": "2021-07-14T15:53:24.611302Z",
     "shell.execute_reply": "2021-07-14T15:53:24.610041Z",
     "shell.execute_reply.started": "2021-07-14T15:41:24.417827Z"
    },
    "papermill": {
     "duration": 3.030532,
     "end_time": "2021-07-14T15:53:24.611518",
     "exception": false,
     "start_time": "2021-07-14T15:53:21.580986",
     "status": "completed"
    },
    "tags": []
   },
   "outputs": [],
   "source": [
    "import numpy as np\n",
    "import pandas as pd\n",
    "import datetime as dt\n",
    "from datetime import timedelta\n",
    "import matplotlib.pyplot as plt\n",
    "import seaborn as sns\n",
    "from pandas import Series\n",
    "import matplotlib.pyplot as plt\n",
    "import seaborn as sns\n",
    "from sklearn.feature_selection import f_classif, mutual_info_classif\n",
    "from sklearn.preprocessing import LabelEncoder, OneHotEncoder, StandardScaler\n",
    "from sklearn.model_selection import train_test_split, StratifiedShuffleSplit\n",
    "from sklearn.linear_model import LogisticRegression\n",
    "from sklearn.ensemble import RandomForestClassifier\n",
    "from sklearn.neighbors import KNeighborsClassifier\n",
    "from sklearn.metrics import confusion_matrix,classification_report\n",
    "from sklearn.metrics import auc, roc_auc_score, roc_curve, multilabel_confusion_matrix\n",
    "import pandas_profiling\n",
    "from sklearn.preprocessing import Normalizer, normalize\n",
    "from collections import Counter\n",
    "from sklearn import metrics\n",
    "from sklearn.model_selection import KFold\n",
    "from sklearn.model_selection import GridSearchCV\n",
    "from sklearn.model_selection import cross_val_predict\n",
    "\n",
    "import warnings"
   ]
  },
  {
   "cell_type": "code",
   "execution_count": 4,
   "id": "f9f88fc8",
   "metadata": {
    "execution": {
     "iopub.execute_input": "2021-07-14T15:53:24.813563Z",
     "iopub.status.busy": "2021-07-14T15:53:24.812887Z",
     "iopub.status.idle": "2021-07-14T15:53:24.816527Z",
     "shell.execute_reply": "2021-07-14T15:53:24.815976Z",
     "shell.execute_reply.started": "2021-07-14T15:41:24.976639Z"
    },
    "papermill": {
     "duration": 0.107225,
     "end_time": "2021-07-14T15:53:24.816687",
     "exception": false,
     "start_time": "2021-07-14T15:53:24.709462",
     "status": "completed"
    },
    "tags": []
   },
   "outputs": [],
   "source": [
    "RANDOM_SEED = 42"
   ]
  },
  {
   "cell_type": "code",
   "execution_count": 5,
   "id": "48c3eb60",
   "metadata": {
    "execution": {
     "iopub.execute_input": "2021-07-14T15:53:25.033357Z",
     "iopub.status.busy": "2021-07-14T15:53:25.017949Z",
     "iopub.status.idle": "2021-07-14T15:53:28.368713Z",
     "shell.execute_reply": "2021-07-14T15:53:28.369204Z",
     "shell.execute_reply.started": "2021-07-14T15:41:25.581778Z"
    },
    "papermill": {
     "duration": 3.456235,
     "end_time": "2021-07-14T15:53:28.369407",
     "exception": false,
     "start_time": "2021-07-14T15:53:24.913172",
     "status": "completed"
    },
    "tags": []
   },
   "outputs": [],
   "source": [
    "# зафиксируем версию пакетов, чтобы эксперименты были воспроизводимы:\n",
    "!pip freeze > requirements.txt"
   ]
  },
  {
   "cell_type": "markdown",
   "id": "f165f69d",
   "metadata": {
    "execution": {
     "iopub.execute_input": "2021-07-13T14:11:25.730931Z",
     "iopub.status.busy": "2021-07-13T14:11:25.730511Z",
     "iopub.status.idle": "2021-07-13T14:11:25.736132Z",
     "shell.execute_reply": "2021-07-13T14:11:25.73506Z",
     "shell.execute_reply.started": "2021-07-13T14:11:25.730893Z"
    },
    "papermill": {
     "duration": 0.097216,
     "end_time": "2021-07-14T15:53:28.564037",
     "exception": false,
     "start_time": "2021-07-14T15:53:28.466821",
     "status": "completed"
    },
    "tags": []
   },
   "source": [
    "## DATA"
   ]
  },
  {
   "cell_type": "code",
   "execution_count": 6,
   "id": "42c66164",
   "metadata": {
    "execution": {
     "iopub.execute_input": "2021-07-14T15:53:28.763743Z",
     "iopub.status.busy": "2021-07-14T15:53:28.763018Z",
     "iopub.status.idle": "2021-07-14T15:53:28.765665Z",
     "shell.execute_reply": "2021-07-14T15:53:28.766115Z",
     "shell.execute_reply.started": "2021-07-14T15:41:29.075103Z"
    },
    "papermill": {
     "duration": 0.104674,
     "end_time": "2021-07-14T15:53:28.766291",
     "exception": false,
     "start_time": "2021-07-14T15:53:28.661617",
     "status": "completed"
    },
    "tags": []
   },
   "outputs": [],
   "source": [
    "DATASETS_LOC = ('../input/sf-dst-scoring')\n"
   ]
  },
  {
   "cell_type": "code",
   "execution_count": 7,
   "id": "7a63ddc2",
   "metadata": {
    "execution": {
     "iopub.execute_input": "2021-07-14T15:53:28.966018Z",
     "iopub.status.busy": "2021-07-14T15:53:28.965322Z",
     "iopub.status.idle": "2021-07-14T15:53:28.968813Z",
     "shell.execute_reply": "2021-07-14T15:53:28.968257Z",
     "shell.execute_reply.started": "2021-07-14T15:41:29.552562Z"
    },
    "papermill": {
     "duration": 0.106173,
     "end_time": "2021-07-14T15:53:28.968963",
     "exception": false,
     "start_time": "2021-07-14T15:53:28.862790",
     "status": "completed"
    },
    "tags": []
   },
   "outputs": [],
   "source": [
    "warnings.simplefilter(action='ignore', category=FutureWarning)"
   ]
  },
  {
   "cell_type": "code",
   "execution_count": 8,
   "id": "252832bf",
   "metadata": {
    "execution": {
     "iopub.execute_input": "2021-07-14T15:53:29.174771Z",
     "iopub.status.busy": "2021-07-14T15:53:29.173938Z",
     "iopub.status.idle": "2021-07-14T15:53:29.637848Z",
     "shell.execute_reply": "2021-07-14T15:53:29.637167Z",
     "shell.execute_reply.started": "2021-07-14T15:41:30.134678Z"
    },
    "papermill": {
     "duration": 0.569503,
     "end_time": "2021-07-14T15:53:29.637994",
     "exception": false,
     "start_time": "2021-07-14T15:53:29.068491",
     "status": "completed"
    },
    "tags": []
   },
   "outputs": [
    {
     "ename": "FileNotFoundError",
     "evalue": "[Errno 2] No such file or directory: '../input/sf-dst-scoring/train.csv'",
     "output_type": "error",
     "traceback": [
      "\u001B[0;31m---------------------------------------------------------------------------\u001B[0m",
      "\u001B[0;31mFileNotFoundError\u001B[0m                         Traceback (most recent call last)",
      "\u001B[0;32m/tmp/ipykernel_33644/626264223.py\u001B[0m in \u001B[0;36m<module>\u001B[0;34m\u001B[0m\n\u001B[0;32m----> 1\u001B[0;31m \u001B[0mdf_train\u001B[0m \u001B[0;34m=\u001B[0m \u001B[0mpd\u001B[0m\u001B[0;34m.\u001B[0m\u001B[0mread_csv\u001B[0m\u001B[0;34m(\u001B[0m\u001B[0;34mf'{DATASETS_LOC}/train.csv'\u001B[0m\u001B[0;34m)\u001B[0m\u001B[0;34m\u001B[0m\u001B[0;34m\u001B[0m\u001B[0m\n\u001B[0m\u001B[1;32m      2\u001B[0m \u001B[0mdf_test\u001B[0m \u001B[0;34m=\u001B[0m \u001B[0mpd\u001B[0m\u001B[0;34m.\u001B[0m\u001B[0mread_csv\u001B[0m\u001B[0;34m(\u001B[0m\u001B[0;34mf'{DATASETS_LOC}/test.csv'\u001B[0m\u001B[0;34m)\u001B[0m\u001B[0;34m\u001B[0m\u001B[0;34m\u001B[0m\u001B[0m\n\u001B[1;32m      3\u001B[0m \u001B[0msample_submission\u001B[0m \u001B[0;34m=\u001B[0m \u001B[0mpd\u001B[0m\u001B[0;34m.\u001B[0m\u001B[0mread_csv\u001B[0m\u001B[0;34m(\u001B[0m\u001B[0;34mf'{DATASETS_LOC}/sample_submission.csv'\u001B[0m\u001B[0;34m)\u001B[0m\u001B[0;34m\u001B[0m\u001B[0;34m\u001B[0m\u001B[0m\n\u001B[1;32m      4\u001B[0m \u001B[0;34m\u001B[0m\u001B[0m\n\u001B[1;32m      5\u001B[0m \u001B[0;34m\u001B[0m\u001B[0m\n",
      "\u001B[0;32m~/PycharmProjects/SF/venv/lib/python3.8/site-packages/pandas/util/_decorators.py\u001B[0m in \u001B[0;36mwrapper\u001B[0;34m(*args, **kwargs)\u001B[0m\n\u001B[1;32m    309\u001B[0m                     \u001B[0mstacklevel\u001B[0m\u001B[0;34m=\u001B[0m\u001B[0mstacklevel\u001B[0m\u001B[0;34m,\u001B[0m\u001B[0;34m\u001B[0m\u001B[0;34m\u001B[0m\u001B[0m\n\u001B[1;32m    310\u001B[0m                 )\n\u001B[0;32m--> 311\u001B[0;31m             \u001B[0;32mreturn\u001B[0m \u001B[0mfunc\u001B[0m\u001B[0;34m(\u001B[0m\u001B[0;34m*\u001B[0m\u001B[0margs\u001B[0m\u001B[0;34m,\u001B[0m \u001B[0;34m**\u001B[0m\u001B[0mkwargs\u001B[0m\u001B[0;34m)\u001B[0m\u001B[0;34m\u001B[0m\u001B[0;34m\u001B[0m\u001B[0m\n\u001B[0m\u001B[1;32m    312\u001B[0m \u001B[0;34m\u001B[0m\u001B[0m\n\u001B[1;32m    313\u001B[0m         \u001B[0;32mreturn\u001B[0m \u001B[0mwrapper\u001B[0m\u001B[0;34m\u001B[0m\u001B[0;34m\u001B[0m\u001B[0m\n",
      "\u001B[0;32m~/PycharmProjects/SF/venv/lib/python3.8/site-packages/pandas/io/parsers/readers.py\u001B[0m in \u001B[0;36mread_csv\u001B[0;34m(filepath_or_buffer, sep, delimiter, header, names, index_col, usecols, squeeze, prefix, mangle_dupe_cols, dtype, engine, converters, true_values, false_values, skipinitialspace, skiprows, skipfooter, nrows, na_values, keep_default_na, na_filter, verbose, skip_blank_lines, parse_dates, infer_datetime_format, keep_date_col, date_parser, dayfirst, cache_dates, iterator, chunksize, compression, thousands, decimal, lineterminator, quotechar, quoting, doublequote, escapechar, comment, encoding, encoding_errors, dialect, error_bad_lines, warn_bad_lines, on_bad_lines, delim_whitespace, low_memory, memory_map, float_precision, storage_options)\u001B[0m\n\u001B[1;32m    584\u001B[0m     \u001B[0mkwds\u001B[0m\u001B[0;34m.\u001B[0m\u001B[0mupdate\u001B[0m\u001B[0;34m(\u001B[0m\u001B[0mkwds_defaults\u001B[0m\u001B[0;34m)\u001B[0m\u001B[0;34m\u001B[0m\u001B[0;34m\u001B[0m\u001B[0m\n\u001B[1;32m    585\u001B[0m \u001B[0;34m\u001B[0m\u001B[0m\n\u001B[0;32m--> 586\u001B[0;31m     \u001B[0;32mreturn\u001B[0m \u001B[0m_read\u001B[0m\u001B[0;34m(\u001B[0m\u001B[0mfilepath_or_buffer\u001B[0m\u001B[0;34m,\u001B[0m \u001B[0mkwds\u001B[0m\u001B[0;34m)\u001B[0m\u001B[0;34m\u001B[0m\u001B[0;34m\u001B[0m\u001B[0m\n\u001B[0m\u001B[1;32m    587\u001B[0m \u001B[0;34m\u001B[0m\u001B[0m\n\u001B[1;32m    588\u001B[0m \u001B[0;34m\u001B[0m\u001B[0m\n",
      "\u001B[0;32m~/PycharmProjects/SF/venv/lib/python3.8/site-packages/pandas/io/parsers/readers.py\u001B[0m in \u001B[0;36m_read\u001B[0;34m(filepath_or_buffer, kwds)\u001B[0m\n\u001B[1;32m    480\u001B[0m \u001B[0;34m\u001B[0m\u001B[0m\n\u001B[1;32m    481\u001B[0m     \u001B[0;31m# Create the parser.\u001B[0m\u001B[0;34m\u001B[0m\u001B[0;34m\u001B[0m\u001B[0;34m\u001B[0m\u001B[0m\n\u001B[0;32m--> 482\u001B[0;31m     \u001B[0mparser\u001B[0m \u001B[0;34m=\u001B[0m \u001B[0mTextFileReader\u001B[0m\u001B[0;34m(\u001B[0m\u001B[0mfilepath_or_buffer\u001B[0m\u001B[0;34m,\u001B[0m \u001B[0;34m**\u001B[0m\u001B[0mkwds\u001B[0m\u001B[0;34m)\u001B[0m\u001B[0;34m\u001B[0m\u001B[0;34m\u001B[0m\u001B[0m\n\u001B[0m\u001B[1;32m    483\u001B[0m \u001B[0;34m\u001B[0m\u001B[0m\n\u001B[1;32m    484\u001B[0m     \u001B[0;32mif\u001B[0m \u001B[0mchunksize\u001B[0m \u001B[0;32mor\u001B[0m \u001B[0miterator\u001B[0m\u001B[0;34m:\u001B[0m\u001B[0;34m\u001B[0m\u001B[0;34m\u001B[0m\u001B[0m\n",
      "\u001B[0;32m~/PycharmProjects/SF/venv/lib/python3.8/site-packages/pandas/io/parsers/readers.py\u001B[0m in \u001B[0;36m__init__\u001B[0;34m(self, f, engine, **kwds)\u001B[0m\n\u001B[1;32m    809\u001B[0m             \u001B[0mself\u001B[0m\u001B[0;34m.\u001B[0m\u001B[0moptions\u001B[0m\u001B[0;34m[\u001B[0m\u001B[0;34m\"has_index_names\"\u001B[0m\u001B[0;34m]\u001B[0m \u001B[0;34m=\u001B[0m \u001B[0mkwds\u001B[0m\u001B[0;34m[\u001B[0m\u001B[0;34m\"has_index_names\"\u001B[0m\u001B[0;34m]\u001B[0m\u001B[0;34m\u001B[0m\u001B[0;34m\u001B[0m\u001B[0m\n\u001B[1;32m    810\u001B[0m \u001B[0;34m\u001B[0m\u001B[0m\n\u001B[0;32m--> 811\u001B[0;31m         \u001B[0mself\u001B[0m\u001B[0;34m.\u001B[0m\u001B[0m_engine\u001B[0m \u001B[0;34m=\u001B[0m \u001B[0mself\u001B[0m\u001B[0;34m.\u001B[0m\u001B[0m_make_engine\u001B[0m\u001B[0;34m(\u001B[0m\u001B[0mself\u001B[0m\u001B[0;34m.\u001B[0m\u001B[0mengine\u001B[0m\u001B[0;34m)\u001B[0m\u001B[0;34m\u001B[0m\u001B[0;34m\u001B[0m\u001B[0m\n\u001B[0m\u001B[1;32m    812\u001B[0m \u001B[0;34m\u001B[0m\u001B[0m\n\u001B[1;32m    813\u001B[0m     \u001B[0;32mdef\u001B[0m \u001B[0mclose\u001B[0m\u001B[0;34m(\u001B[0m\u001B[0mself\u001B[0m\u001B[0;34m)\u001B[0m\u001B[0;34m:\u001B[0m\u001B[0;34m\u001B[0m\u001B[0;34m\u001B[0m\u001B[0m\n",
      "\u001B[0;32m~/PycharmProjects/SF/venv/lib/python3.8/site-packages/pandas/io/parsers/readers.py\u001B[0m in \u001B[0;36m_make_engine\u001B[0;34m(self, engine)\u001B[0m\n\u001B[1;32m   1038\u001B[0m             )\n\u001B[1;32m   1039\u001B[0m         \u001B[0;31m# error: Too many arguments for \"ParserBase\"\u001B[0m\u001B[0;34m\u001B[0m\u001B[0;34m\u001B[0m\u001B[0;34m\u001B[0m\u001B[0m\n\u001B[0;32m-> 1040\u001B[0;31m         \u001B[0;32mreturn\u001B[0m \u001B[0mmapping\u001B[0m\u001B[0;34m[\u001B[0m\u001B[0mengine\u001B[0m\u001B[0;34m]\u001B[0m\u001B[0;34m(\u001B[0m\u001B[0mself\u001B[0m\u001B[0;34m.\u001B[0m\u001B[0mf\u001B[0m\u001B[0;34m,\u001B[0m \u001B[0;34m**\u001B[0m\u001B[0mself\u001B[0m\u001B[0;34m.\u001B[0m\u001B[0moptions\u001B[0m\u001B[0;34m)\u001B[0m  \u001B[0;31m# type: ignore[call-arg]\u001B[0m\u001B[0;34m\u001B[0m\u001B[0;34m\u001B[0m\u001B[0m\n\u001B[0m\u001B[1;32m   1041\u001B[0m \u001B[0;34m\u001B[0m\u001B[0m\n\u001B[1;32m   1042\u001B[0m     \u001B[0;32mdef\u001B[0m \u001B[0m_failover_to_python\u001B[0m\u001B[0;34m(\u001B[0m\u001B[0mself\u001B[0m\u001B[0;34m)\u001B[0m\u001B[0;34m:\u001B[0m\u001B[0;34m\u001B[0m\u001B[0;34m\u001B[0m\u001B[0m\n",
      "\u001B[0;32m~/PycharmProjects/SF/venv/lib/python3.8/site-packages/pandas/io/parsers/c_parser_wrapper.py\u001B[0m in \u001B[0;36m__init__\u001B[0;34m(self, src, **kwds)\u001B[0m\n\u001B[1;32m     49\u001B[0m \u001B[0;34m\u001B[0m\u001B[0m\n\u001B[1;32m     50\u001B[0m         \u001B[0;31m# open handles\u001B[0m\u001B[0;34m\u001B[0m\u001B[0;34m\u001B[0m\u001B[0;34m\u001B[0m\u001B[0m\n\u001B[0;32m---> 51\u001B[0;31m         \u001B[0mself\u001B[0m\u001B[0;34m.\u001B[0m\u001B[0m_open_handles\u001B[0m\u001B[0;34m(\u001B[0m\u001B[0msrc\u001B[0m\u001B[0;34m,\u001B[0m \u001B[0mkwds\u001B[0m\u001B[0;34m)\u001B[0m\u001B[0;34m\u001B[0m\u001B[0;34m\u001B[0m\u001B[0m\n\u001B[0m\u001B[1;32m     52\u001B[0m         \u001B[0;32massert\u001B[0m \u001B[0mself\u001B[0m\u001B[0;34m.\u001B[0m\u001B[0mhandles\u001B[0m \u001B[0;32mis\u001B[0m \u001B[0;32mnot\u001B[0m \u001B[0;32mNone\u001B[0m\u001B[0;34m\u001B[0m\u001B[0;34m\u001B[0m\u001B[0m\n\u001B[1;32m     53\u001B[0m \u001B[0;34m\u001B[0m\u001B[0m\n",
      "\u001B[0;32m~/PycharmProjects/SF/venv/lib/python3.8/site-packages/pandas/io/parsers/base_parser.py\u001B[0m in \u001B[0;36m_open_handles\u001B[0;34m(self, src, kwds)\u001B[0m\n\u001B[1;32m    220\u001B[0m         \u001B[0mLet\u001B[0m \u001B[0mthe\u001B[0m \u001B[0mreaders\u001B[0m \u001B[0mopen\u001B[0m \u001B[0mIOHandles\u001B[0m \u001B[0mafter\u001B[0m \u001B[0mthey\u001B[0m \u001B[0mare\u001B[0m \u001B[0mdone\u001B[0m \u001B[0;32mwith\u001B[0m \u001B[0mtheir\u001B[0m \u001B[0mpotential\u001B[0m \u001B[0mraises\u001B[0m\u001B[0;34m.\u001B[0m\u001B[0;34m\u001B[0m\u001B[0;34m\u001B[0m\u001B[0m\n\u001B[1;32m    221\u001B[0m         \"\"\"\n\u001B[0;32m--> 222\u001B[0;31m         self.handles = get_handle(\n\u001B[0m\u001B[1;32m    223\u001B[0m             \u001B[0msrc\u001B[0m\u001B[0;34m,\u001B[0m\u001B[0;34m\u001B[0m\u001B[0;34m\u001B[0m\u001B[0m\n\u001B[1;32m    224\u001B[0m             \u001B[0;34m\"r\"\u001B[0m\u001B[0;34m,\u001B[0m\u001B[0;34m\u001B[0m\u001B[0;34m\u001B[0m\u001B[0m\n",
      "\u001B[0;32m~/PycharmProjects/SF/venv/lib/python3.8/site-packages/pandas/io/common.py\u001B[0m in \u001B[0;36mget_handle\u001B[0;34m(path_or_buf, mode, encoding, compression, memory_map, is_text, errors, storage_options)\u001B[0m\n\u001B[1;32m    700\u001B[0m         \u001B[0;32mif\u001B[0m \u001B[0mioargs\u001B[0m\u001B[0;34m.\u001B[0m\u001B[0mencoding\u001B[0m \u001B[0;32mand\u001B[0m \u001B[0;34m\"b\"\u001B[0m \u001B[0;32mnot\u001B[0m \u001B[0;32min\u001B[0m \u001B[0mioargs\u001B[0m\u001B[0;34m.\u001B[0m\u001B[0mmode\u001B[0m\u001B[0;34m:\u001B[0m\u001B[0;34m\u001B[0m\u001B[0;34m\u001B[0m\u001B[0m\n\u001B[1;32m    701\u001B[0m             \u001B[0;31m# Encoding\u001B[0m\u001B[0;34m\u001B[0m\u001B[0;34m\u001B[0m\u001B[0;34m\u001B[0m\u001B[0m\n\u001B[0;32m--> 702\u001B[0;31m             handle = open(\n\u001B[0m\u001B[1;32m    703\u001B[0m                 \u001B[0mhandle\u001B[0m\u001B[0;34m,\u001B[0m\u001B[0;34m\u001B[0m\u001B[0;34m\u001B[0m\u001B[0m\n\u001B[1;32m    704\u001B[0m                 \u001B[0mioargs\u001B[0m\u001B[0;34m.\u001B[0m\u001B[0mmode\u001B[0m\u001B[0;34m,\u001B[0m\u001B[0;34m\u001B[0m\u001B[0;34m\u001B[0m\u001B[0m\n",
      "\u001B[0;31mFileNotFoundError\u001B[0m: [Errno 2] No such file or directory: '../input/sf-dst-scoring/train.csv'"
     ]
    }
   ],
   "source": [
    "\n",
    "df_train = pd.read_csv(f'{DATASETS_LOC}/train.csv')\n",
    "df_test = pd.read_csv(f'{DATASETS_LOC}/test.csv')\n",
    "sample_submission = pd.read_csv(f'{DATASETS_LOC}/sample_submission.csv')\n"
   ]
  },
  {
   "cell_type": "markdown",
   "id": "5b1271ab",
   "metadata": {
    "papermill": {
     "duration": 0.095884,
     "end_time": "2021-07-14T15:53:29.829753",
     "exception": false,
     "start_time": "2021-07-14T15:53:29.733869",
     "status": "completed"
    },
    "tags": []
   },
   "source": [
    "## Functions"
   ]
  },
  {
   "cell_type": "code",
   "execution_count": null,
   "id": "a6550dab",
   "metadata": {
    "execution": {
     "iopub.execute_input": "2021-07-14T15:53:30.033579Z",
     "iopub.status.busy": "2021-07-14T15:53:30.032827Z",
     "iopub.status.idle": "2021-07-14T15:53:30.037429Z",
     "shell.execute_reply": "2021-07-14T15:53:30.036240Z",
     "shell.execute_reply.started": "2021-07-14T15:41:31.096377Z"
    },
    "papermill": {
     "duration": 0.111611,
     "end_time": "2021-07-14T15:53:30.037623",
     "exception": false,
     "start_time": "2021-07-14T15:53:29.926012",
     "status": "completed"
    },
    "tags": []
   },
   "outputs": [],
   "source": [
    "def subset_by_iqr(df, column, whisker_width=1.5):\n",
    "    \"\"\"Remove outliers from a dataframe by column, including optional\n",
    "       whiskers, removing rows for which the column value are\n",
    "       less than Q1-1.5IQR or greater than Q3+1.5IQR.\n",
    "    Args:\n",
    "        df (`:obj:pd.DataFrame`): A pandas dataframe to subset\n",
    "        column (str): Name of the column to calculate the subset from.\n",
    "        whisker_width (float): Optional, loosen the IQR filter by a\n",
    "                               factor of `whisker_width` * IQR.\n",
    "    Returns:\n",
    "        (`:obj:pd.DataFrame`): Filtered dataframe\n",
    "    \"\"\"\n",
    "    q1 = df[column].quantile(0.25)\n",
    "    q3 = df[column].quantile(0.75)\n",
    "    iqr = q3 - q1\n",
    "    low_outlier = q1 - whisker_width*iqr\n",
    "    high_outlier = q3 + whisker_width*iqr\n",
    "    column_median = df[column].median()\n",
    "\n",
    "    # Apply filter with respect to IQR, including optional whiskers\n",
    "    # else mode()\n",
    "\n",
    "    return df[column].apply(lambda x: x if (x > low_outlier and x < high_outlier) else column_median)"
   ]
  },
  {
   "cell_type": "code",
   "execution_count": null,
   "id": "93955b38",
   "metadata": {
    "execution": {
     "iopub.execute_input": "2021-07-14T15:53:30.242138Z",
     "iopub.status.busy": "2021-07-14T15:53:30.241446Z",
     "iopub.status.idle": "2021-07-14T15:53:30.245154Z",
     "shell.execute_reply": "2021-07-14T15:53:30.244481Z",
     "shell.execute_reply.started": "2021-07-14T15:41:31.548841Z"
    },
    "papermill": {
     "duration": 0.109522,
     "end_time": "2021-07-14T15:53:30.245305",
     "exception": false,
     "start_time": "2021-07-14T15:53:30.135783",
     "status": "completed"
    },
    "tags": []
   },
   "outputs": [],
   "source": [
    "def bin_plot(col):\n",
    "    \"\"\"Does plot the binary features visualisation\"\"\"\n",
    "    labels = list(data.query('default == 1')[col].value_counts().index)\n",
    "\n",
    "    total = data[col].value_counts()\n",
    "    defaulters = data.query('default==1')[col].value_counts()\n",
    "\n",
    "    x = np.arange(len(labels))  # the label locations\n",
    "    width = 0.35  # the width of the bars\n",
    "\n",
    "    fig, ax = plt.subplots()\n",
    "    rects1 = ax.bar(x - width/2, total, width,  label='Total')\n",
    "    rects2 = ax.bar(x + width/2, defaulters, width, color = 'r', label='Defaulters')\n",
    "\n",
    "    # Add some text for labels, title and custom x-axis tick labels, etc.\n",
    "    ax.set_ylabel('Amount')\n",
    "    ax.set_title('Defaulters 0/1 in feature {}'.format(col))\n",
    "    ax.set_xticks(x)\n",
    "    ax.set_xticklabels(labels)\n",
    "    ax.legend()\n",
    "\n",
    "    ax.bar_label(rects1, padding=3)\n",
    "    ax.bar_label(rects2, padding=3)\n",
    "\n",
    "    fig.tight_layout()\n",
    "\n",
    "    plt.show()\n",
    "    print('Доля дефолта от общего количества','\\n', defaulters/total)"
   ]
  },
  {
   "cell_type": "code",
   "execution_count": null,
   "id": "2643c48b",
   "metadata": {
    "execution": {
     "iopub.execute_input": "2021-07-14T15:53:30.455267Z",
     "iopub.status.busy": "2021-07-14T15:53:30.454580Z",
     "iopub.status.idle": "2021-07-14T15:53:30.457644Z",
     "shell.execute_reply": "2021-07-14T15:53:30.458156Z",
     "shell.execute_reply.started": "2021-07-14T15:41:32.028045Z"
    },
    "papermill": {
     "duration": 0.112789,
     "end_time": "2021-07-14T15:53:30.458331",
     "exception": false,
     "start_time": "2021-07-14T15:53:30.345542",
     "status": "completed"
    },
    "tags": []
   },
   "outputs": [],
   "source": [
    "def hist_plot(col):\n",
    "    plt.figure()\n",
    "    sns.distplot(data[col][data['default'] == 1], kde = False, color= 'red', hist = True)\n",
    "    sns.distplot(data[col][data['default'] == 0], kde = False, color= 'blue', hist = True)\n",
    "    plt.title(col)\n",
    "    plt.show()"
   ]
  },
  {
   "cell_type": "code",
   "execution_count": null,
   "id": "8a55acc7",
   "metadata": {
    "execution": {
     "iopub.execute_input": "2021-07-14T15:53:30.678463Z",
     "iopub.status.busy": "2021-07-14T15:53:30.677492Z",
     "iopub.status.idle": "2021-07-14T15:53:30.745203Z",
     "shell.execute_reply": "2021-07-14T15:53:30.744353Z",
     "shell.execute_reply.started": "2021-07-14T15:41:32.523093Z"
    },
    "papermill": {
     "duration": 0.184059,
     "end_time": "2021-07-14T15:53:30.745420",
     "exception": false,
     "start_time": "2021-07-14T15:53:30.561361",
     "status": "completed"
    },
    "tags": []
   },
   "outputs": [],
   "source": [
    "df_train.info()"
   ]
  },
  {
   "cell_type": "code",
   "execution_count": null,
   "id": "e7d95e43",
   "metadata": {
    "execution": {
     "iopub.execute_input": "2021-07-14T15:53:30.950230Z",
     "iopub.status.busy": "2021-07-14T15:53:30.949546Z",
     "iopub.status.idle": "2021-07-14T15:53:30.974504Z",
     "shell.execute_reply": "2021-07-14T15:53:30.973914Z",
     "shell.execute_reply.started": "2021-07-14T15:41:33.036056Z"
    },
    "papermill": {
     "duration": 0.13034,
     "end_time": "2021-07-14T15:53:30.974744",
     "exception": false,
     "start_time": "2021-07-14T15:53:30.844404",
     "status": "completed"
    },
    "tags": []
   },
   "outputs": [],
   "source": [
    "df_train.head(5)"
   ]
  },
  {
   "cell_type": "code",
   "execution_count": null,
   "id": "9dea1b7e",
   "metadata": {
    "execution": {
     "iopub.execute_input": "2021-07-14T15:53:31.198639Z",
     "iopub.status.busy": "2021-07-14T15:53:31.197605Z",
     "iopub.status.idle": "2021-07-14T15:53:31.220923Z",
     "shell.execute_reply": "2021-07-14T15:53:31.220162Z",
     "shell.execute_reply.started": "2021-07-14T15:41:33.517226Z"
    },
    "papermill": {
     "duration": 0.148212,
     "end_time": "2021-07-14T15:53:31.221092",
     "exception": false,
     "start_time": "2021-07-14T15:53:31.072880",
     "status": "completed"
    },
    "tags": []
   },
   "outputs": [],
   "source": [
    "df_test.info()"
   ]
  },
  {
   "cell_type": "code",
   "execution_count": null,
   "id": "a589ff03",
   "metadata": {
    "execution": {
     "iopub.execute_input": "2021-07-14T15:53:31.435144Z",
     "iopub.status.busy": "2021-07-14T15:53:31.434207Z",
     "iopub.status.idle": "2021-07-14T15:53:31.437949Z",
     "shell.execute_reply": "2021-07-14T15:53:31.438489Z",
     "shell.execute_reply.started": "2021-07-14T15:41:33.989870Z"
    },
    "papermill": {
     "duration": 0.120014,
     "end_time": "2021-07-14T15:53:31.438670",
     "exception": false,
     "start_time": "2021-07-14T15:53:31.318656",
     "status": "completed"
    },
    "tags": []
   },
   "outputs": [],
   "source": [
    "df_test.head(5)"
   ]
  },
  {
   "cell_type": "code",
   "execution_count": null,
   "id": "1ca3c85f",
   "metadata": {
    "execution": {
     "iopub.execute_input": "2021-07-14T15:53:31.638769Z",
     "iopub.status.busy": "2021-07-14T15:53:31.638044Z",
     "iopub.status.idle": "2021-07-14T15:53:31.646784Z",
     "shell.execute_reply": "2021-07-14T15:53:31.647264Z",
     "shell.execute_reply.started": "2021-07-14T15:41:34.430190Z"
    },
    "papermill": {
     "duration": 0.11171,
     "end_time": "2021-07-14T15:53:31.647468",
     "exception": false,
     "start_time": "2021-07-14T15:53:31.535758",
     "status": "completed"
    },
    "tags": []
   },
   "outputs": [],
   "source": [
    "sample_submission.head(5)"
   ]
  },
  {
   "cell_type": "code",
   "execution_count": null,
   "id": "3d72f729",
   "metadata": {
    "execution": {
     "iopub.execute_input": "2021-07-14T15:53:31.849336Z",
     "iopub.status.busy": "2021-07-14T15:53:31.848690Z",
     "iopub.status.idle": "2021-07-14T15:53:31.862203Z",
     "shell.execute_reply": "2021-07-14T15:53:31.862807Z",
     "shell.execute_reply.started": "2021-07-14T15:41:34.910692Z"
    },
    "papermill": {
     "duration": 0.11599,
     "end_time": "2021-07-14T15:53:31.862982",
     "exception": false,
     "start_time": "2021-07-14T15:53:31.746992",
     "status": "completed"
    },
    "tags": []
   },
   "outputs": [],
   "source": [
    "sample_submission.info()"
   ]
  },
  {
   "cell_type": "code",
   "execution_count": null,
   "id": "2ac0c35d",
   "metadata": {
    "execution": {
     "iopub.execute_input": "2021-07-14T15:53:32.071409Z",
     "iopub.status.busy": "2021-07-14T15:53:32.070167Z",
     "iopub.status.idle": "2021-07-14T15:53:32.135627Z",
     "shell.execute_reply": "2021-07-14T15:53:32.136154Z",
     "shell.execute_reply.started": "2021-07-14T15:41:35.364998Z"
    },
    "papermill": {
     "duration": 0.174569,
     "end_time": "2021-07-14T15:53:32.136327",
     "exception": false,
     "start_time": "2021-07-14T15:53:31.961758",
     "status": "completed"
    },
    "tags": []
   },
   "outputs": [],
   "source": [
    "# ВАЖНО! дря корректной обработки признаков объединяем трейн и тест в один датасет\n",
    "df_train['sample'] = 1 # помечаем где у нас трейн\n",
    "df_test['sample'] = 0 # помечаем где у нас тест\n",
    "df_test['default'] = 0 # в тесте у нас нет значения Default, мы его должны предсказать, по этому пока просто заполняем нулями\n",
    "\n",
    "data = df_test.append(df_train, sort=False).reset_index(drop=True) # объединяем"
   ]
  },
  {
   "cell_type": "code",
   "execution_count": null,
   "id": "4c1dda5f",
   "metadata": {
    "execution": {
     "iopub.execute_input": "2021-07-14T15:53:32.337997Z",
     "iopub.status.busy": "2021-07-14T15:53:32.337274Z",
     "iopub.status.idle": "2021-07-14T15:53:32.420997Z",
     "shell.execute_reply": "2021-07-14T15:53:32.421592Z",
     "shell.execute_reply.started": "2021-07-14T15:41:35.872310Z"
    },
    "papermill": {
     "duration": 0.18547,
     "end_time": "2021-07-14T15:53:32.421803",
     "exception": false,
     "start_time": "2021-07-14T15:53:32.236333",
     "status": "completed"
    },
    "tags": []
   },
   "outputs": [],
   "source": [
    "data.info()"
   ]
  },
  {
   "cell_type": "markdown",
   "id": "833b0e85",
   "metadata": {
    "papermill": {
     "duration": 0.100051,
     "end_time": "2021-07-14T15:53:32.623170",
     "exception": false,
     "start_time": "2021-07-14T15:53:32.523119",
     "status": "completed"
    },
    "tags": []
   },
   "source": [
    "Значение признаков датасета\n",
    "\n",
    "Feature | Value\t| Type\n",
    "--------|-------|-----\n",
    "client_id|\tid клиента|\tЧисловой\n",
    "app_date|\tдата подачи заявки|\tВременной\n",
    "education|\tуровень образования\t|Категориальный\n",
    "sex|\tпол заёмщика|\tБинарный\n",
    "age\t|возраст заёмщика|\tЧисловой\n",
    "car\t|флаг наличия автомобиля |\tБинарный\n",
    "car_type |\tфлаг автомобиля-иномарки|\tБинарный\n",
    "decline_app_cnt\t|количество отказанных прошлых заявок|\tЧисловой\n",
    "good_work|\tфлаг наличия «хорошей» работы|\tБинарный\n",
    "score_bki|\tскоринговый балл по данным из БКИ|\tЧисловой\n",
    "bki_request_cnt|\tколичество запросов в БКИ|\tЧисловой\n",
    "region_rating|\tрейтинг региона|\tЧисловой\n",
    "home_address|\tкатегоризатор домашнего адреса |\tКатегориальный\n",
    "work_address|\tкатегоризатор рабочего адреса|\tКатегориальный\n",
    "income|\tдоход заёмщика\t|Числовой\n",
    "sna\t|связь заемщика с клиентами банка\t|Категориальный\n",
    "first_time\t|давность наличия информации о заемщике\t|Категориальный\n",
    "foreign_passport|\tналичие загранпаспорта|\tБинарный\n",
    "sample    |  маркер выборки  |Бинарный\n",
    "default\t|наличие дефолта (ЦЕЛЕВОЙ ПРИЗНАК)\t|Бинарный"
   ]
  },
  {
   "cell_type": "code",
   "execution_count": null,
   "id": "45c26127",
   "metadata": {
    "execution": {
     "iopub.execute_input": "2021-07-14T15:53:32.878068Z",
     "iopub.status.busy": "2021-07-14T15:53:32.877356Z",
     "iopub.status.idle": "2021-07-14T15:53:32.881605Z",
     "shell.execute_reply": "2021-07-14T15:53:32.880961Z",
     "shell.execute_reply.started": "2021-07-14T15:41:36.837419Z"
    },
    "papermill": {
     "duration": 0.159792,
     "end_time": "2021-07-14T15:53:32.881806",
     "exception": false,
     "start_time": "2021-07-14T15:53:32.722014",
     "status": "completed"
    },
    "tags": []
   },
   "outputs": [],
   "source": [
    "#pandas_profiling.ProfileReport(data)"
   ]
  },
  {
   "cell_type": "markdown",
   "id": "1cfb2080",
   "metadata": {
    "papermill": {
     "duration": 0.102621,
     "end_time": "2021-07-14T15:53:33.085133",
     "exception": false,
     "start_time": "2021-07-14T15:53:32.982512",
     "status": "completed"
    },
    "tags": []
   },
   "source": [
    "Как видим, большинство признаков у нас требует очистки и предварительной обработки"
   ]
  },
  {
   "cell_type": "markdown",
   "id": "03904859",
   "metadata": {
    "papermill": {
     "duration": 0.100315,
     "end_time": "2021-07-14T15:53:33.289391",
     "exception": false,
     "start_time": "2021-07-14T15:53:33.189076",
     "status": "completed"
    },
    "tags": []
   },
   "source": [
    "## Предобработка и анализ данных EDA"
   ]
  },
  {
   "cell_type": "markdown",
   "id": "3cce1c97",
   "metadata": {
    "papermill": {
     "duration": 0.101596,
     "end_time": "2021-07-14T15:53:33.489692",
     "exception": false,
     "start_time": "2021-07-14T15:53:33.388096",
     "status": "completed"
    },
    "tags": []
   },
   "source": [
    "### Временной признак 'app_date'\n",
    "конвертируем данные признака 'app_date' в формат времени"
   ]
  },
  {
   "cell_type": "code",
   "execution_count": null,
   "id": "360f4895",
   "metadata": {
    "execution": {
     "iopub.execute_input": "2021-07-14T15:53:33.693009Z",
     "iopub.status.busy": "2021-07-14T15:53:33.692320Z",
     "iopub.status.idle": "2021-07-14T15:53:59.222840Z",
     "shell.execute_reply": "2021-07-14T15:53:59.223347Z",
     "shell.execute_reply.started": "2021-07-14T15:41:38.839290Z"
    },
    "papermill": {
     "duration": 25.634037,
     "end_time": "2021-07-14T15:53:59.223568",
     "exception": false,
     "start_time": "2021-07-14T15:53:33.589531",
     "status": "completed"
    },
    "tags": []
   },
   "outputs": [],
   "source": [
    "data.app_date = data.app_date.apply(lambda x: pd.to_datetime(x) if x!=None else x)"
   ]
  },
  {
   "cell_type": "markdown",
   "id": "b7c675a1",
   "metadata": {
    "papermill": {
     "duration": 0.099861,
     "end_time": "2021-07-14T15:53:59.422352",
     "exception": false,
     "start_time": "2021-07-14T15:53:59.322491",
     "status": "completed"
    },
    "tags": []
   },
   "source": [
    "Сгенерируем несколько признаков для выявления зависимостей."
   ]
  },
  {
   "cell_type": "code",
   "execution_count": null,
   "id": "02f6c0a5",
   "metadata": {
    "execution": {
     "iopub.execute_input": "2021-07-14T15:53:59.628323Z",
     "iopub.status.busy": "2021-07-14T15:53:59.627523Z",
     "iopub.status.idle": "2021-07-14T15:53:59.670418Z",
     "shell.execute_reply": "2021-07-14T15:53:59.669856Z",
     "shell.execute_reply.started": "2021-07-14T15:42:03.684149Z"
    },
    "papermill": {
     "duration": 0.14883,
     "end_time": "2021-07-14T15:53:59.670577",
     "exception": false,
     "start_time": "2021-07-14T15:53:59.521747",
     "status": "completed"
    },
    "tags": []
   },
   "outputs": [],
   "source": [
    "data['month'] = data.app_date.dt.month\n",
    "data['date'] = data.app_date.dt.day\n",
    "data['dayofweek'] = data.app_date.dt.dayofweek"
   ]
  },
  {
   "cell_type": "code",
   "execution_count": null,
   "id": "f163ef6e",
   "metadata": {
    "execution": {
     "iopub.execute_input": "2021-07-14T15:53:59.876998Z",
     "iopub.status.busy": "2021-07-14T15:53:59.876300Z",
     "iopub.status.idle": "2021-07-14T15:53:59.910746Z",
     "shell.execute_reply": "2021-07-14T15:53:59.910148Z",
     "shell.execute_reply.started": "2021-07-14T15:42:03.730584Z"
    },
    "papermill": {
     "duration": 0.139867,
     "end_time": "2021-07-14T15:53:59.910887",
     "exception": false,
     "start_time": "2021-07-14T15:53:59.771020",
     "status": "completed"
    },
    "tags": []
   },
   "outputs": [],
   "source": [
    "data = data.drop(['app_date'], axis =1)  #удалим за ненадобностью"
   ]
  },
  {
   "cell_type": "markdown",
   "id": "d119c0d2",
   "metadata": {
    "papermill": {
     "duration": 0.105913,
     "end_time": "2021-07-14T15:54:00.122295",
     "exception": false,
     "start_time": "2021-07-14T15:54:00.016382",
     "status": "completed"
    },
    "tags": []
   },
   "source": [
    "## Числовые признаки"
   ]
  },
  {
   "cell_type": "code",
   "execution_count": null,
   "id": "2d702b59",
   "metadata": {
    "execution": {
     "iopub.execute_input": "2021-07-14T15:54:00.336873Z",
     "iopub.status.busy": "2021-07-14T15:54:00.336147Z",
     "iopub.status.idle": "2021-07-14T15:54:00.338194Z",
     "shell.execute_reply": "2021-07-14T15:54:00.338675Z",
     "shell.execute_reply.started": "2021-07-14T15:42:03.761457Z"
    },
    "papermill": {
     "duration": 0.114307,
     "end_time": "2021-07-14T15:54:00.338862",
     "exception": false,
     "start_time": "2021-07-14T15:54:00.224555",
     "status": "completed"
    },
    "tags": []
   },
   "outputs": [],
   "source": [
    "num_cols = ['age', 'decline_app_cnt', 'bki_request_cnt',\n",
    "           'income', 'score_bki', 'region_rating'] #Числовые данные */ без client_id"
   ]
  },
  {
   "cell_type": "markdown",
   "id": "850ac2f7",
   "metadata": {
    "execution": {
     "iopub.execute_input": "2021-07-13T14:37:56.998888Z",
     "iopub.status.busy": "2021-07-13T14:37:56.998534Z",
     "iopub.status.idle": "2021-07-13T14:37:57.0021Z",
     "shell.execute_reply": "2021-07-13T14:37:57.001314Z",
     "shell.execute_reply.started": "2021-07-13T14:37:56.998859Z"
    },
    "papermill": {
     "duration": 0.099215,
     "end_time": "2021-07-14T15:54:00.543571",
     "exception": false,
     "start_time": "2021-07-14T15:54:00.444356",
     "status": "completed"
    },
    "tags": []
   },
   "source": [
    "### Признак 'age'"
   ]
  },
  {
   "cell_type": "markdown",
   "id": "75fe2971",
   "metadata": {
    "papermill": {
     "duration": 0.100116,
     "end_time": "2021-07-14T15:54:00.744867",
     "exception": false,
     "start_time": "2021-07-14T15:54:00.644751",
     "status": "completed"
    },
    "tags": []
   },
   "source": [
    "\n",
    "Распределение возрастов в категориях плательщиков и неплательщиков"
   ]
  },
  {
   "cell_type": "code",
   "execution_count": null,
   "id": "71d00394",
   "metadata": {
    "execution": {
     "iopub.execute_input": "2021-07-14T15:54:00.947888Z",
     "iopub.status.busy": "2021-07-14T15:54:00.947192Z",
     "iopub.status.idle": "2021-07-14T15:54:01.320997Z",
     "shell.execute_reply": "2021-07-14T15:54:01.320321Z",
     "shell.execute_reply.started": "2021-07-14T15:42:03.768081Z"
    },
    "papermill": {
     "duration": 0.477571,
     "end_time": "2021-07-14T15:54:01.321142",
     "exception": false,
     "start_time": "2021-07-14T15:54:00.843571",
     "status": "completed"
    },
    "tags": []
   },
   "outputs": [],
   "source": [
    "hist_plot('age')"
   ]
  },
  {
   "cell_type": "code",
   "execution_count": null,
   "id": "aca17115",
   "metadata": {
    "execution": {
     "iopub.execute_input": "2021-07-14T15:54:01.530874Z",
     "iopub.status.busy": "2021-07-14T15:54:01.530185Z",
     "iopub.status.idle": "2021-07-14T15:54:01.693235Z",
     "shell.execute_reply": "2021-07-14T15:54:01.692542Z",
     "shell.execute_reply.started": "2021-07-14T15:42:04.076707Z"
    },
    "papermill": {
     "duration": 0.271249,
     "end_time": "2021-07-14T15:54:01.693403",
     "exception": false,
     "start_time": "2021-07-14T15:54:01.422154",
     "status": "completed"
    },
    "tags": []
   },
   "outputs": [],
   "source": [
    "sns.boxplot(x='default', y='age',  data=data, palette={0: \"blue\", 1: \"red\"})"
   ]
  },
  {
   "cell_type": "code",
   "execution_count": null,
   "id": "d5a3823e",
   "metadata": {
    "execution": {
     "iopub.execute_input": "2021-07-14T15:54:01.903297Z",
     "iopub.status.busy": "2021-07-14T15:54:01.902197Z",
     "iopub.status.idle": "2021-07-14T15:54:01.935755Z",
     "shell.execute_reply": "2021-07-14T15:54:01.935147Z",
     "shell.execute_reply.started": "2021-07-14T15:42:04.239811Z"
    },
    "papermill": {
     "duration": 0.14178,
     "end_time": "2021-07-14T15:54:01.935900",
     "exception": false,
     "start_time": "2021-07-14T15:54:01.794120",
     "status": "completed"
    },
    "tags": []
   },
   "outputs": [],
   "source": [
    "data.groupby(data['default'])['age'].describe()"
   ]
  },
  {
   "cell_type": "markdown",
   "id": "f8287162",
   "metadata": {
    "papermill": {
     "duration": 0.101943,
     "end_time": "2021-07-14T15:54:02.144069",
     "exception": false,
     "start_time": "2021-07-14T15:54:02.042126",
     "status": "completed"
    },
    "tags": []
   },
   "source": [
    "### Признак 'decline_app_cnt'"
   ]
  },
  {
   "cell_type": "code",
   "execution_count": null,
   "id": "dafec99d",
   "metadata": {
    "execution": {
     "iopub.execute_input": "2021-07-14T15:54:02.364486Z",
     "iopub.status.busy": "2021-07-14T15:54:02.363350Z",
     "iopub.status.idle": "2021-07-14T15:54:02.723614Z",
     "shell.execute_reply": "2021-07-14T15:54:02.722913Z",
     "shell.execute_reply.started": "2021-07-14T15:42:04.276799Z"
    },
    "papermill": {
     "duration": 0.477878,
     "end_time": "2021-07-14T15:54:02.723764",
     "exception": false,
     "start_time": "2021-07-14T15:54:02.245886",
     "status": "completed"
    },
    "tags": []
   },
   "outputs": [],
   "source": [
    "hist_plot('decline_app_cnt')"
   ]
  },
  {
   "cell_type": "code",
   "execution_count": null,
   "id": "dc317261",
   "metadata": {
    "execution": {
     "iopub.execute_input": "2021-07-14T15:54:02.937633Z",
     "iopub.status.busy": "2021-07-14T15:54:02.936542Z",
     "iopub.status.idle": "2021-07-14T15:54:03.168062Z",
     "shell.execute_reply": "2021-07-14T15:54:03.167501Z",
     "shell.execute_reply.started": "2021-07-14T15:42:04.624058Z"
    },
    "papermill": {
     "duration": 0.340627,
     "end_time": "2021-07-14T15:54:03.168212",
     "exception": false,
     "start_time": "2021-07-14T15:54:02.827585",
     "status": "completed"
    },
    "tags": []
   },
   "outputs": [],
   "source": [
    "sns.boxplot(x='default', y='decline_app_cnt',  data=data, palette={0: \"blue\", 1: \"red\"})"
   ]
  },
  {
   "cell_type": "markdown",
   "id": "ed158875",
   "metadata": {
    "papermill": {
     "duration": 0.103806,
     "end_time": "2021-07-14T15:54:03.377849",
     "exception": false,
     "start_time": "2021-07-14T15:54:03.274043",
     "status": "completed"
    },
    "tags": []
   },
   "source": [
    "\n",
    "Распределение по количеству отказов в кредите в категориях плательщиков и неплательщиков"
   ]
  },
  {
   "cell_type": "code",
   "execution_count": null,
   "id": "b98ee6cc",
   "metadata": {
    "execution": {
     "iopub.execute_input": "2021-07-14T15:54:03.591652Z",
     "iopub.status.busy": "2021-07-14T15:54:03.590909Z",
     "iopub.status.idle": "2021-07-14T15:54:03.620740Z",
     "shell.execute_reply": "2021-07-14T15:54:03.620195Z",
     "shell.execute_reply.started": "2021-07-14T15:42:04.861592Z"
    },
    "papermill": {
     "duration": 0.137716,
     "end_time": "2021-07-14T15:54:03.620894",
     "exception": false,
     "start_time": "2021-07-14T15:54:03.483178",
     "status": "completed"
    },
    "tags": []
   },
   "outputs": [],
   "source": [
    "\n",
    "data.groupby(data['default'])['decline_app_cnt'].describe()\n"
   ]
  },
  {
   "cell_type": "code",
   "execution_count": null,
   "id": "2fa35dff",
   "metadata": {
    "execution": {
     "iopub.execute_input": "2021-07-14T15:54:03.837069Z",
     "iopub.status.busy": "2021-07-14T15:54:03.836071Z",
     "iopub.status.idle": "2021-07-14T15:54:03.842216Z",
     "shell.execute_reply": "2021-07-14T15:54:03.842855Z",
     "shell.execute_reply.started": "2021-07-14T15:42:04.894699Z"
    },
    "papermill": {
     "duration": 0.117117,
     "end_time": "2021-07-14T15:54:03.843030",
     "exception": false,
     "start_time": "2021-07-14T15:54:03.725913",
     "status": "completed"
    },
    "tags": []
   },
   "outputs": [],
   "source": [
    "part = data.decline_app_cnt.value_counts()[0] #наибольшее количество строк с одним значением\n",
    "gen = data.shape[0] #общее количество строк\n",
    "\n",
    "print(\"часть строк с '0' значением  в признаке 'decline_app_cnt' составляет {:.2f}% от общего числа.\".format(part/gen*100))\n"
   ]
  },
  {
   "cell_type": "markdown",
   "id": "fda45d8f",
   "metadata": {
    "papermill": {
     "duration": 0.107625,
     "end_time": "2021-07-14T15:54:04.055154",
     "exception": false,
     "start_time": "2021-07-14T15:54:03.947529",
     "status": "completed"
    },
    "tags": []
   },
   "source": [
    "#### исходя из данных в признаке, где 83% тех, кто не имел отказа, а абсллютное большинство из остальных 17% имеют только 1 отказ в получении кредита, заменим признак на бинарный, где 0- отказов не было, а 1-отказы были. "
   ]
  },
  {
   "cell_type": "code",
   "execution_count": null,
   "id": "61730c51",
   "metadata": {
    "execution": {
     "iopub.execute_input": "2021-07-14T15:54:04.273082Z",
     "iopub.status.busy": "2021-07-14T15:54:04.272363Z",
     "iopub.status.idle": "2021-07-14T15:54:04.345710Z",
     "shell.execute_reply": "2021-07-14T15:54:04.346299Z",
     "shell.execute_reply.started": "2021-07-14T15:42:04.904996Z"
    },
    "papermill": {
     "duration": 0.180942,
     "end_time": "2021-07-14T15:54:04.346499",
     "exception": false,
     "start_time": "2021-07-14T15:54:04.165557",
     "status": "completed"
    },
    "tags": []
   },
   "outputs": [],
   "source": [
    "data['decline_app_cnt'] = data['decline_app_cnt'].apply(lambda x: 1 if x >= 1 else 0)"
   ]
  },
  {
   "cell_type": "code",
   "execution_count": null,
   "id": "ba72baf4",
   "metadata": {
    "execution": {
     "iopub.execute_input": "2021-07-14T15:54:04.562598Z",
     "iopub.status.busy": "2021-07-14T15:54:04.561850Z",
     "iopub.status.idle": "2021-07-14T15:54:04.569913Z",
     "shell.execute_reply": "2021-07-14T15:54:04.570447Z",
     "shell.execute_reply.started": "2021-07-14T15:42:04.993333Z"
    },
    "papermill": {
     "duration": 0.116213,
     "end_time": "2021-07-14T15:54:04.570654",
     "exception": false,
     "start_time": "2021-07-14T15:54:04.454441",
     "status": "completed"
    },
    "tags": []
   },
   "outputs": [],
   "source": [
    "data.decline_app_cnt.value_counts() #Проверка"
   ]
  },
  {
   "cell_type": "markdown",
   "id": "783791ba",
   "metadata": {
    "papermill": {
     "duration": 0.105413,
     "end_time": "2021-07-14T15:54:04.783230",
     "exception": false,
     "start_time": "2021-07-14T15:54:04.677817",
     "status": "completed"
    },
    "tags": []
   },
   "source": [
    "запишем этот признак в бинарный и уберем из числового"
   ]
  },
  {
   "cell_type": "code",
   "execution_count": null,
   "id": "92920c30",
   "metadata": {
    "execution": {
     "iopub.execute_input": "2021-07-14T15:54:04.999154Z",
     "iopub.status.busy": "2021-07-14T15:54:04.998432Z",
     "iopub.status.idle": "2021-07-14T15:54:05.004110Z",
     "shell.execute_reply": "2021-07-14T15:54:05.004822Z",
     "shell.execute_reply.started": "2021-07-14T15:42:05.006889Z"
    },
    "papermill": {
     "duration": 0.116167,
     "end_time": "2021-07-14T15:54:05.005039",
     "exception": false,
     "start_time": "2021-07-14T15:54:04.888872",
     "status": "completed"
    },
    "tags": []
   },
   "outputs": [],
   "source": [
    "num_cols.remove('decline_app_cnt')\n",
    "num_cols #Проверка"
   ]
  },
  {
   "cell_type": "markdown",
   "id": "9b015d8c",
   "metadata": {
    "papermill": {
     "duration": 0.105649,
     "end_time": "2021-07-14T15:54:05.217885",
     "exception": false,
     "start_time": "2021-07-14T15:54:05.112236",
     "status": "completed"
    },
    "tags": []
   },
   "source": [
    "### Признак 'bki_request_cnt'"
   ]
  },
  {
   "cell_type": "code",
   "execution_count": null,
   "id": "90e9a0d9",
   "metadata": {
    "execution": {
     "iopub.execute_input": "2021-07-14T15:54:05.431721Z",
     "iopub.status.busy": "2021-07-14T15:54:05.430946Z",
     "iopub.status.idle": "2021-07-14T15:54:05.764726Z",
     "shell.execute_reply": "2021-07-14T15:54:05.765192Z",
     "shell.execute_reply.started": "2021-07-14T15:42:05.020227Z"
    },
    "papermill": {
     "duration": 0.441789,
     "end_time": "2021-07-14T15:54:05.765401",
     "exception": false,
     "start_time": "2021-07-14T15:54:05.323612",
     "status": "completed"
    },
    "tags": []
   },
   "outputs": [],
   "source": [
    "hist_plot('bki_request_cnt')"
   ]
  },
  {
   "cell_type": "code",
   "execution_count": null,
   "id": "e9e0fa6f",
   "metadata": {
    "execution": {
     "iopub.execute_input": "2021-07-14T15:54:05.987543Z",
     "iopub.status.busy": "2021-07-14T15:54:05.986819Z",
     "iopub.status.idle": "2021-07-14T15:54:06.171861Z",
     "shell.execute_reply": "2021-07-14T15:54:06.171310Z",
     "shell.execute_reply.started": "2021-07-14T15:42:05.359489Z"
    },
    "papermill": {
     "duration": 0.296025,
     "end_time": "2021-07-14T15:54:06.172010",
     "exception": false,
     "start_time": "2021-07-14T15:54:05.875985",
     "status": "completed"
    },
    "tags": []
   },
   "outputs": [],
   "source": [
    "sns.boxplot(x='default', y='bki_request_cnt',  data=data, palette={0: \"blue\", 1: \"red\"})"
   ]
  },
  {
   "cell_type": "markdown",
   "id": "8c9ba44b",
   "metadata": {
    "papermill": {
     "duration": 0.114574,
     "end_time": "2021-07-14T15:54:06.394136",
     "exception": false,
     "start_time": "2021-07-14T15:54:06.279562",
     "status": "completed"
    },
    "tags": []
   },
   "source": [
    "##### Распределение по количеству запросов в БКИ  в категориях плательщиков и неплательщиков"
   ]
  },
  {
   "cell_type": "code",
   "execution_count": null,
   "id": "42664dee",
   "metadata": {
    "execution": {
     "iopub.execute_input": "2021-07-14T15:54:06.616451Z",
     "iopub.status.busy": "2021-07-14T15:54:06.615731Z",
     "iopub.status.idle": "2021-07-14T15:54:06.645986Z",
     "shell.execute_reply": "2021-07-14T15:54:06.645191Z",
     "shell.execute_reply.started": "2021-07-14T15:42:05.533937Z"
    },
    "papermill": {
     "duration": 0.141952,
     "end_time": "2021-07-14T15:54:06.646144",
     "exception": false,
     "start_time": "2021-07-14T15:54:06.504192",
     "status": "completed"
    },
    "tags": []
   },
   "outputs": [],
   "source": [
    "data.groupby(data['default'])['bki_request_cnt'].describe()"
   ]
  },
  {
   "cell_type": "markdown",
   "id": "f1402d59",
   "metadata": {
    "papermill": {
     "duration": 0.107845,
     "end_time": "2021-07-14T15:54:06.864148",
     "exception": false,
     "start_time": "2021-07-14T15:54:06.756303",
     "status": "completed"
    },
    "tags": []
   },
   "source": [
    "### Признак 'income'"
   ]
  },
  {
   "cell_type": "code",
   "execution_count": null,
   "id": "e7906206",
   "metadata": {
    "execution": {
     "iopub.execute_input": "2021-07-14T15:54:07.090416Z",
     "iopub.status.busy": "2021-07-14T15:54:07.089721Z",
     "iopub.status.idle": "2021-07-14T15:54:07.429138Z",
     "shell.execute_reply": "2021-07-14T15:54:07.428581Z",
     "shell.execute_reply.started": "2021-07-14T15:42:05.568241Z"
    },
    "papermill": {
     "duration": 0.457191,
     "end_time": "2021-07-14T15:54:07.429278",
     "exception": false,
     "start_time": "2021-07-14T15:54:06.972087",
     "status": "completed"
    },
    "tags": []
   },
   "outputs": [],
   "source": [
    "hist_plot('income')"
   ]
  },
  {
   "cell_type": "code",
   "execution_count": null,
   "id": "f56c0285",
   "metadata": {
    "execution": {
     "iopub.execute_input": "2021-07-14T15:54:07.652159Z",
     "iopub.status.busy": "2021-07-14T15:54:07.651510Z",
     "iopub.status.idle": "2021-07-14T15:54:07.844819Z",
     "shell.execute_reply": "2021-07-14T15:54:07.844111Z",
     "shell.execute_reply.started": "2021-07-14T15:42:05.913430Z"
    },
    "papermill": {
     "duration": 0.307283,
     "end_time": "2021-07-14T15:54:07.844970",
     "exception": false,
     "start_time": "2021-07-14T15:54:07.537687",
     "status": "completed"
    },
    "tags": []
   },
   "outputs": [],
   "source": [
    "sns.boxplot(x='default', y='income',  data=data, palette={0: \"blue\", 1: \"red\"})"
   ]
  },
  {
   "cell_type": "markdown",
   "id": "ede0cfc5",
   "metadata": {
    "papermill": {
     "duration": 0.112039,
     "end_time": "2021-07-14T15:54:08.067594",
     "exception": false,
     "start_time": "2021-07-14T15:54:07.955555",
     "status": "completed"
    },
    "tags": []
   },
   "source": [
    "##### Распределение по доходам в категориях плательщиков и неплательщиков"
   ]
  },
  {
   "cell_type": "code",
   "execution_count": null,
   "id": "7bf1f69a",
   "metadata": {
    "execution": {
     "iopub.execute_input": "2021-07-14T15:54:08.295319Z",
     "iopub.status.busy": "2021-07-14T15:54:08.294601Z",
     "iopub.status.idle": "2021-07-14T15:54:08.324053Z",
     "shell.execute_reply": "2021-07-14T15:54:08.323511Z",
     "shell.execute_reply.started": "2021-07-14T15:42:06.128268Z"
    },
    "papermill": {
     "duration": 0.145682,
     "end_time": "2021-07-14T15:54:08.324205",
     "exception": false,
     "start_time": "2021-07-14T15:54:08.178523",
     "status": "completed"
    },
    "tags": []
   },
   "outputs": [],
   "source": [
    "data.groupby(data['default'])['income'].describe()"
   ]
  },
  {
   "cell_type": "markdown",
   "id": "f80bc687",
   "metadata": {
    "papermill": {
     "duration": 0.108811,
     "end_time": "2021-07-14T15:54:08.543685",
     "exception": false,
     "start_time": "2021-07-14T15:54:08.434874",
     "status": "completed"
    },
    "tags": []
   },
   "source": [
    "### Признак 'score_bki'"
   ]
  },
  {
   "cell_type": "code",
   "execution_count": null,
   "id": "9e474e8b",
   "metadata": {
    "execution": {
     "iopub.execute_input": "2021-07-14T15:54:08.771451Z",
     "iopub.status.busy": "2021-07-14T15:54:08.770731Z",
     "iopub.status.idle": "2021-07-14T15:54:09.309590Z",
     "shell.execute_reply": "2021-07-14T15:54:09.310092Z",
     "shell.execute_reply.started": "2021-07-14T15:42:06.167938Z"
    },
    "papermill": {
     "duration": 0.654585,
     "end_time": "2021-07-14T15:54:09.310277",
     "exception": false,
     "start_time": "2021-07-14T15:54:08.655692",
     "status": "completed"
    },
    "tags": []
   },
   "outputs": [],
   "source": [
    "hist_plot('score_bki')"
   ]
  },
  {
   "cell_type": "code",
   "execution_count": null,
   "id": "1f9baf5f",
   "metadata": {
    "execution": {
     "iopub.execute_input": "2021-07-14T15:54:09.534050Z",
     "iopub.status.busy": "2021-07-14T15:54:09.532997Z",
     "iopub.status.idle": "2021-07-14T15:54:09.708743Z",
     "shell.execute_reply": "2021-07-14T15:54:09.709224Z",
     "shell.execute_reply.started": "2021-07-14T15:42:06.837692Z"
    },
    "papermill": {
     "duration": 0.289038,
     "end_time": "2021-07-14T15:54:09.709425",
     "exception": false,
     "start_time": "2021-07-14T15:54:09.420387",
     "status": "completed"
    },
    "tags": []
   },
   "outputs": [],
   "source": [
    "sns.boxplot(x='default', y='score_bki',  data=data, palette={0: \"blue\", 1: \"red\"})"
   ]
  },
  {
   "cell_type": "markdown",
   "id": "7b44368e",
   "metadata": {
    "papermill": {
     "duration": 0.112522,
     "end_time": "2021-07-14T15:54:09.935943",
     "exception": false,
     "start_time": "2021-07-14T15:54:09.823421",
     "status": "completed"
    },
    "tags": []
   },
   "source": [
    "##### Распределение по оценкам БКИ в категориях плательщиков и неплательщиков"
   ]
  },
  {
   "cell_type": "code",
   "execution_count": null,
   "id": "75e46b68",
   "metadata": {
    "execution": {
     "iopub.execute_input": "2021-07-14T15:54:10.169568Z",
     "iopub.status.busy": "2021-07-14T15:54:10.168888Z",
     "iopub.status.idle": "2021-07-14T15:54:10.199094Z",
     "shell.execute_reply": "2021-07-14T15:54:10.199591Z",
     "shell.execute_reply.started": "2021-07-14T15:42:07.021784Z"
    },
    "papermill": {
     "duration": 0.148374,
     "end_time": "2021-07-14T15:54:10.199833",
     "exception": false,
     "start_time": "2021-07-14T15:54:10.051459",
     "status": "completed"
    },
    "tags": []
   },
   "outputs": [],
   "source": [
    "data.groupby(data['default'])['score_bki'].describe()"
   ]
  },
  {
   "cell_type": "markdown",
   "id": "3ef926a3",
   "metadata": {
    "papermill": {
     "duration": 0.111188,
     "end_time": "2021-07-14T15:54:10.423763",
     "exception": false,
     "start_time": "2021-07-14T15:54:10.312575",
     "status": "completed"
    },
    "tags": []
   },
   "source": [
    "### Признак 'region_rating'"
   ]
  },
  {
   "cell_type": "code",
   "execution_count": null,
   "id": "01d3e727",
   "metadata": {
    "execution": {
     "iopub.execute_input": "2021-07-14T15:54:10.651193Z",
     "iopub.status.busy": "2021-07-14T15:54:10.650548Z",
     "iopub.status.idle": "2021-07-14T15:54:11.003157Z",
     "shell.execute_reply": "2021-07-14T15:54:11.002476Z",
     "shell.execute_reply.started": "2021-07-14T15:42:07.055646Z"
    },
    "papermill": {
     "duration": 0.467532,
     "end_time": "2021-07-14T15:54:11.003323",
     "exception": false,
     "start_time": "2021-07-14T15:54:10.535791",
     "status": "completed"
    },
    "tags": []
   },
   "outputs": [],
   "source": [
    "hist_plot('region_rating')"
   ]
  },
  {
   "cell_type": "code",
   "execution_count": null,
   "id": "b2083ee1",
   "metadata": {
    "execution": {
     "iopub.execute_input": "2021-07-14T15:54:11.236071Z",
     "iopub.status.busy": "2021-07-14T15:54:11.235327Z",
     "iopub.status.idle": "2021-07-14T15:54:11.472097Z",
     "shell.execute_reply": "2021-07-14T15:54:11.471576Z",
     "shell.execute_reply.started": "2021-07-14T15:42:07.421154Z"
    },
    "papermill": {
     "duration": 0.3546,
     "end_time": "2021-07-14T15:54:11.472242",
     "exception": false,
     "start_time": "2021-07-14T15:54:11.117642",
     "status": "completed"
    },
    "tags": []
   },
   "outputs": [],
   "source": [
    "sns.boxplot(x='default', y='region_rating',  data=data, palette={0: \"blue\", 1: \"red\"})"
   ]
  },
  {
   "cell_type": "markdown",
   "id": "49c6ba35",
   "metadata": {
    "papermill": {
     "duration": 0.115199,
     "end_time": "2021-07-14T15:54:11.705320",
     "exception": false,
     "start_time": "2021-07-14T15:54:11.590121",
     "status": "completed"
    },
    "tags": []
   },
   "source": [
    "##### Распределение по рейтингу регионов в категориях плательщиков и неплательщиков"
   ]
  },
  {
   "cell_type": "code",
   "execution_count": null,
   "id": "07529a57",
   "metadata": {
    "execution": {
     "iopub.execute_input": "2021-07-14T15:54:11.941973Z",
     "iopub.status.busy": "2021-07-14T15:54:11.941278Z",
     "iopub.status.idle": "2021-07-14T15:54:11.971284Z",
     "shell.execute_reply": "2021-07-14T15:54:11.970637Z",
     "shell.execute_reply.started": "2021-07-14T15:42:07.690816Z"
    },
    "papermill": {
     "duration": 0.151564,
     "end_time": "2021-07-14T15:54:11.971454",
     "exception": false,
     "start_time": "2021-07-14T15:54:11.819890",
     "status": "completed"
    },
    "tags": []
   },
   "outputs": [],
   "source": [
    "data.groupby(data['default'])['region_rating'].describe()"
   ]
  },
  {
   "cell_type": "markdown",
   "id": "07d68b38",
   "metadata": {
    "papermill": {
     "duration": 0.11453,
     "end_time": "2021-07-14T15:54:12.204066",
     "exception": false,
     "start_time": "2021-07-14T15:54:12.089536",
     "status": "completed"
    },
    "tags": []
   },
   "source": [
    "### Все числовые данные содержат выбросы и несбалансированы\n",
    "### для корректой работы скоринговой модели заменим выбросы на медианные значения по каждому признаку"
   ]
  },
  {
   "cell_type": "code",
   "execution_count": null,
   "id": "73fa83a0",
   "metadata": {
    "execution": {
     "iopub.execute_input": "2021-07-14T15:54:12.441656Z",
     "iopub.status.busy": "2021-07-14T15:54:12.440985Z",
     "iopub.status.idle": "2021-07-14T15:54:13.250422Z",
     "shell.execute_reply": "2021-07-14T15:54:13.249758Z",
     "shell.execute_reply.started": "2021-07-14T15:42:07.726520Z"
    },
    "papermill": {
     "duration": 0.930875,
     "end_time": "2021-07-14T15:54:13.250573",
     "exception": false,
     "start_time": "2021-07-14T15:54:12.319698",
     "status": "completed"
    },
    "tags": []
   },
   "outputs": [],
   "source": [
    "for col in num_cols:\n",
    "    data[col] = subset_by_iqr(data, col, whisker_width=1.5)"
   ]
  },
  {
   "cell_type": "code",
   "execution_count": null,
   "id": "af11c81f",
   "metadata": {
    "execution": {
     "iopub.execute_input": "2021-07-14T15:54:13.514211Z",
     "iopub.status.busy": "2021-07-14T15:54:13.513509Z",
     "iopub.status.idle": "2021-07-14T15:54:13.564520Z",
     "shell.execute_reply": "2021-07-14T15:54:13.563943Z",
     "shell.execute_reply.started": "2021-07-14T15:42:08.541859Z"
    },
    "papermill": {
     "duration": 0.18154,
     "end_time": "2021-07-14T15:54:13.564668",
     "exception": false,
     "start_time": "2021-07-14T15:54:13.383128",
     "status": "completed"
    },
    "tags": []
   },
   "outputs": [],
   "source": [
    "data[num_cols].describe() # проверяем распределение числовых признаков"
   ]
  },
  {
   "cell_type": "code",
   "execution_count": null,
   "id": "c0faf9a6",
   "metadata": {
    "execution": {
     "iopub.execute_input": "2021-07-14T15:54:13.800690Z",
     "iopub.status.busy": "2021-07-14T15:54:13.800008Z",
     "iopub.status.idle": "2021-07-14T15:54:13.808325Z",
     "shell.execute_reply": "2021-07-14T15:54:13.808823Z",
     "shell.execute_reply.started": "2021-07-14T15:42:08.595750Z"
    },
    "papermill": {
     "duration": 0.12918,
     "end_time": "2021-07-14T15:54:13.809024",
     "exception": false,
     "start_time": "2021-07-14T15:54:13.679844",
     "status": "completed"
    },
    "tags": []
   },
   "outputs": [],
   "source": [
    "data[num_cols].isna().sum() # NAN значения в числовых данных"
   ]
  },
  {
   "cell_type": "markdown",
   "id": "eb17053c",
   "metadata": {
    "papermill": {
     "duration": 0.116129,
     "end_time": "2021-07-14T15:54:14.041343",
     "exception": false,
     "start_time": "2021-07-14T15:54:13.925214",
     "status": "completed"
    },
    "tags": []
   },
   "source": [
    "### Значимость числовых переменных"
   ]
  },
  {
   "cell_type": "code",
   "execution_count": null,
   "id": "303efdf3",
   "metadata": {
    "execution": {
     "iopub.execute_input": "2021-07-14T15:54:14.282807Z",
     "iopub.status.busy": "2021-07-14T15:54:14.282111Z",
     "iopub.status.idle": "2021-07-14T15:54:14.492241Z",
     "shell.execute_reply": "2021-07-14T15:54:14.491671Z",
     "shell.execute_reply.started": "2021-07-14T15:42:08.612620Z"
    },
    "papermill": {
     "duration": 0.336645,
     "end_time": "2021-07-14T15:54:14.492419",
     "exception": false,
     "start_time": "2021-07-14T15:54:14.155774",
     "status": "completed"
    },
    "tags": []
   },
   "outputs": [],
   "source": [
    "imp_num = pd.Series(f_classif(data[num_cols], data['default'])[0], index = num_cols)\n",
    "imp_num.sort_values(inplace = True)\n",
    "imp_num.plot(kind = 'barh')"
   ]
  },
  {
   "cell_type": "markdown",
   "id": "bc682212",
   "metadata": {
    "papermill": {
     "duration": 0.116658,
     "end_time": "2021-07-14T15:54:14.727208",
     "exception": false,
     "start_time": "2021-07-14T15:54:14.610550",
     "status": "completed"
    },
    "tags": []
   },
   "source": [
    "## Бинарные признаки"
   ]
  },
  {
   "cell_type": "code",
   "execution_count": null,
   "id": "664b195c",
   "metadata": {
    "execution": {
     "iopub.execute_input": "2021-07-14T15:54:14.966218Z",
     "iopub.status.busy": "2021-07-14T15:54:14.965519Z",
     "iopub.status.idle": "2021-07-14T15:54:14.968741Z",
     "shell.execute_reply": "2021-07-14T15:54:14.968017Z",
     "shell.execute_reply.started": "2021-07-14T15:42:08.797609Z"
    },
    "papermill": {
     "duration": 0.125065,
     "end_time": "2021-07-14T15:54:14.968893",
     "exception": false,
     "start_time": "2021-07-14T15:54:14.843828",
     "status": "completed"
    },
    "tags": []
   },
   "outputs": [],
   "source": [
    "bin_cols = ['decline_app_cnt','sex','car', 'car_type', 'good_work', 'foreign_passport']"
   ]
  },
  {
   "cell_type": "code",
   "execution_count": null,
   "id": "e7b03af0",
   "metadata": {
    "execution": {
     "iopub.execute_input": "2021-07-14T15:54:15.215671Z",
     "iopub.status.busy": "2021-07-14T15:54:15.214882Z",
     "iopub.status.idle": "2021-07-14T15:54:15.447513Z",
     "shell.execute_reply": "2021-07-14T15:54:15.446351Z",
     "shell.execute_reply.started": "2021-07-14T15:42:08.802568Z"
    },
    "papermill": {
     "duration": 0.359854,
     "end_time": "2021-07-14T15:54:15.447835",
     "exception": false,
     "start_time": "2021-07-14T15:54:15.087981",
     "status": "completed"
    },
    "tags": []
   },
   "outputs": [],
   "source": [
    "bin_plot('decline_app_cnt')"
   ]
  },
  {
   "cell_type": "code",
   "execution_count": null,
   "id": "f2fcf6a1",
   "metadata": {
    "execution": {
     "iopub.execute_input": "2021-07-14T15:54:15.691543Z",
     "iopub.status.busy": "2021-07-14T15:54:15.688437Z",
     "iopub.status.idle": "2021-07-14T15:54:15.971121Z",
     "shell.execute_reply": "2021-07-14T15:54:15.970440Z",
     "shell.execute_reply.started": "2021-07-14T15:42:09.041060Z"
    },
    "papermill": {
     "duration": 0.405886,
     "end_time": "2021-07-14T15:54:15.971287",
     "exception": false,
     "start_time": "2021-07-14T15:54:15.565401",
     "status": "completed"
    },
    "tags": []
   },
   "outputs": [],
   "source": [
    "bin_plot('sex')"
   ]
  },
  {
   "cell_type": "code",
   "execution_count": null,
   "id": "b6cbdf38",
   "metadata": {
    "execution": {
     "iopub.execute_input": "2021-07-14T15:54:16.221035Z",
     "iopub.status.busy": "2021-07-14T15:54:16.217823Z",
     "iopub.status.idle": "2021-07-14T15:54:16.500466Z",
     "shell.execute_reply": "2021-07-14T15:54:16.499884Z",
     "shell.execute_reply.started": "2021-07-14T15:42:09.293571Z"
    },
    "papermill": {
     "duration": 0.406567,
     "end_time": "2021-07-14T15:54:16.500635",
     "exception": false,
     "start_time": "2021-07-14T15:54:16.094068",
     "status": "completed"
    },
    "tags": []
   },
   "outputs": [],
   "source": [
    "bin_plot('car')"
   ]
  },
  {
   "cell_type": "code",
   "execution_count": null,
   "id": "3d2b000a",
   "metadata": {
    "execution": {
     "iopub.execute_input": "2021-07-14T15:54:16.746844Z",
     "iopub.status.busy": "2021-07-14T15:54:16.745743Z",
     "iopub.status.idle": "2021-07-14T15:54:17.011017Z",
     "shell.execute_reply": "2021-07-14T15:54:17.011640Z",
     "shell.execute_reply.started": "2021-07-14T15:42:09.537131Z"
    },
    "papermill": {
     "duration": 0.39115,
     "end_time": "2021-07-14T15:54:17.011826",
     "exception": false,
     "start_time": "2021-07-14T15:54:16.620676",
     "status": "completed"
    },
    "tags": []
   },
   "outputs": [],
   "source": [
    "bin_plot('car_type')"
   ]
  },
  {
   "cell_type": "code",
   "execution_count": null,
   "id": "571e2773",
   "metadata": {
    "execution": {
     "iopub.execute_input": "2021-07-14T15:54:17.264255Z",
     "iopub.status.busy": "2021-07-14T15:54:17.263253Z",
     "iopub.status.idle": "2021-07-14T15:54:17.492142Z",
     "shell.execute_reply": "2021-07-14T15:54:17.491389Z",
     "shell.execute_reply.started": "2021-07-14T15:42:09.765989Z"
    },
    "papermill": {
     "duration": 0.355023,
     "end_time": "2021-07-14T15:54:17.492335",
     "exception": false,
     "start_time": "2021-07-14T15:54:17.137312",
     "status": "completed"
    },
    "tags": []
   },
   "outputs": [],
   "source": [
    "bin_plot('good_work')"
   ]
  },
  {
   "cell_type": "code",
   "execution_count": null,
   "id": "52856c8c",
   "metadata": {
    "execution": {
     "iopub.execute_input": "2021-07-14T15:54:17.742016Z",
     "iopub.status.busy": "2021-07-14T15:54:17.741332Z",
     "iopub.status.idle": "2021-07-14T15:54:17.997621Z",
     "shell.execute_reply": "2021-07-14T15:54:17.996907Z",
     "shell.execute_reply.started": "2021-07-14T15:42:09.961004Z"
    },
    "papermill": {
     "duration": 0.382802,
     "end_time": "2021-07-14T15:54:17.997774",
     "exception": false,
     "start_time": "2021-07-14T15:54:17.614972",
     "status": "completed"
    },
    "tags": []
   },
   "outputs": [],
   "source": [
    "bin_plot('foreign_passport')"
   ]
  },
  {
   "cell_type": "markdown",
   "id": "25da80cf",
   "metadata": {
    "papermill": {
     "duration": 0.123604,
     "end_time": "2021-07-14T15:54:18.247741",
     "exception": false,
     "start_time": "2021-07-14T15:54:18.124137",
     "status": "completed"
    },
    "tags": []
   },
   "source": [
    "### Преобразуем бинарные признаки в числовые переменные"
   ]
  },
  {
   "cell_type": "code",
   "execution_count": null,
   "id": "c5f0d7b5",
   "metadata": {
    "execution": {
     "iopub.execute_input": "2021-07-14T15:54:18.500481Z",
     "iopub.status.busy": "2021-07-14T15:54:18.499572Z",
     "iopub.status.idle": "2021-07-14T15:54:18.655285Z",
     "shell.execute_reply": "2021-07-14T15:54:18.655840Z",
     "shell.execute_reply.started": "2021-07-14T15:42:10.175283Z"
    },
    "papermill": {
     "duration": 0.284276,
     "end_time": "2021-07-14T15:54:18.656021",
     "exception": false,
     "start_time": "2021-07-14T15:54:18.371745",
     "status": "completed"
    },
    "tags": []
   },
   "outputs": [],
   "source": [
    "for column in bin_cols:\n",
    "    data[column] = LabelEncoder().fit_transform(data[column])"
   ]
  },
  {
   "cell_type": "code",
   "execution_count": null,
   "id": "573cfb51",
   "metadata": {
    "execution": {
     "iopub.execute_input": "2021-07-14T15:54:18.910718Z",
     "iopub.status.busy": "2021-07-14T15:54:18.910006Z",
     "iopub.status.idle": "2021-07-14T15:54:18.935901Z",
     "shell.execute_reply": "2021-07-14T15:54:18.935339Z",
     "shell.execute_reply.started": "2021-07-14T15:42:10.343400Z"
    },
    "papermill": {
     "duration": 0.154378,
     "end_time": "2021-07-14T15:54:18.936062",
     "exception": false,
     "start_time": "2021-07-14T15:54:18.781684",
     "status": "completed"
    },
    "tags": []
   },
   "outputs": [],
   "source": [
    " data[bin_cols].head() #убедимся в преобразовании"
   ]
  },
  {
   "cell_type": "markdown",
   "id": "2e7ef97b",
   "metadata": {
    "papermill": {
     "duration": 0.128048,
     "end_time": "2021-07-14T15:54:19.194527",
     "exception": false,
     "start_time": "2021-07-14T15:54:19.066479",
     "status": "completed"
    },
    "tags": []
   },
   "source": [
    "## Категориальные переменные\n"
   ]
  },
  {
   "cell_type": "code",
   "execution_count": null,
   "id": "47343504",
   "metadata": {
    "execution": {
     "iopub.execute_input": "2021-07-14T15:54:19.446052Z",
     "iopub.status.busy": "2021-07-14T15:54:19.445060Z",
     "iopub.status.idle": "2021-07-14T15:54:19.450496Z",
     "shell.execute_reply": "2021-07-14T15:54:19.449961Z",
     "shell.execute_reply.started": "2021-07-14T15:42:10.374741Z"
    },
    "papermill": {
     "duration": 0.132008,
     "end_time": "2021-07-14T15:54:19.450664",
     "exception": false,
     "start_time": "2021-07-14T15:54:19.318656",
     "status": "completed"
    },
    "tags": []
   },
   "outputs": [],
   "source": [
    "cat_cols = ['education', 'home_address',\n",
    "           'work_address', 'sna', 'first_time']"
   ]
  },
  {
   "cell_type": "code",
   "execution_count": null,
   "id": "9630d1d3",
   "metadata": {
    "execution": {
     "iopub.execute_input": "2021-07-14T15:54:19.717460Z",
     "iopub.status.busy": "2021-07-14T15:54:19.716736Z",
     "iopub.status.idle": "2021-07-14T15:54:19.732359Z",
     "shell.execute_reply": "2021-07-14T15:54:19.732931Z",
     "shell.execute_reply.started": "2021-07-14T15:42:10.900548Z"
    },
    "papermill": {
     "duration": 0.157047,
     "end_time": "2021-07-14T15:54:19.733104",
     "exception": false,
     "start_time": "2021-07-14T15:54:19.576057",
     "status": "completed"
    },
    "tags": []
   },
   "outputs": [],
   "source": [
    "print('Пропущеных значений {}, что составляет {:.2f}% от общего количества'.format(data.education.isna().sum(), data.education.isna().sum() /data.shape[0]*100))"
   ]
  },
  {
   "cell_type": "markdown",
   "id": "bdb31ac5",
   "metadata": {
    "papermill": {
     "duration": 0.123319,
     "end_time": "2021-07-14T15:54:19.981915",
     "exception": false,
     "start_time": "2021-07-14T15:54:19.858596",
     "status": "completed"
    },
    "tags": []
   },
   "source": [
    "что за данные в 'education'?"
   ]
  },
  {
   "cell_type": "code",
   "execution_count": null,
   "id": "64484e27",
   "metadata": {
    "execution": {
     "iopub.execute_input": "2021-07-14T15:54:20.266609Z",
     "iopub.status.busy": "2021-07-14T15:54:20.263224Z",
     "iopub.status.idle": "2021-07-14T15:54:20.270569Z",
     "shell.execute_reply": "2021-07-14T15:54:20.271078Z",
     "shell.execute_reply.started": "2021-07-14T15:42:11.968638Z"
    },
    "papermill": {
     "duration": 0.163361,
     "end_time": "2021-07-14T15:54:20.271296",
     "exception": false,
     "start_time": "2021-07-14T15:54:20.107935",
     "status": "completed"
    },
    "tags": []
   },
   "outputs": [],
   "source": [
    "data.education.value_counts()"
   ]
  },
  {
   "cell_type": "markdown",
   "id": "b670e67d",
   "metadata": {
    "papermill": {
     "duration": 0.124517,
     "end_time": "2021-07-14T15:54:20.522584",
     "exception": false,
     "start_time": "2021-07-14T15:54:20.398067",
     "status": "completed"
    },
    "tags": []
   },
   "source": [
    "Приведенная абривеатура может означать уровень образования, где\n",
    "\n",
    "Graduation's code | Value\n",
    "-----|-------------------------\n",
    "SCH  |  school graduated\n",
    "GRD  |  Graduate Research Degrees\n",
    "UGR  |  Upper graduated researchers\n",
    "PGR  |  Post graduated researchers\n",
    "ACD  |  Upper post graduated degrees\n"
   ]
  },
  {
   "cell_type": "markdown",
   "id": "3d4f0959",
   "metadata": {
    "papermill": {
     "duration": 0.124947,
     "end_time": "2021-07-14T15:54:20.772126",
     "exception": false,
     "start_time": "2021-07-14T15:54:20.647179",
     "status": "completed"
    },
    "tags": []
   },
   "source": [
    "##### Исходя из небольшого процента пропущенных данных, заменим пропущенные значения наиболее встречающимися в выборке"
   ]
  },
  {
   "cell_type": "code",
   "execution_count": null,
   "id": "eb0a0516",
   "metadata": {
    "execution": {
     "iopub.execute_input": "2021-07-14T15:54:21.063241Z",
     "iopub.status.busy": "2021-07-14T15:54:21.060300Z",
     "iopub.status.idle": "2021-07-14T15:54:21.066327Z",
     "shell.execute_reply": "2021-07-14T15:54:21.067158Z",
     "shell.execute_reply.started": "2021-07-14T15:42:13.629661Z"
    },
    "papermill": {
     "duration": 0.168579,
     "end_time": "2021-07-14T15:54:21.067412",
     "exception": false,
     "start_time": "2021-07-14T15:54:20.898833",
     "status": "completed"
    },
    "tags": []
   },
   "outputs": [],
   "source": [
    "data['education'] = data['education'].fillna(data['education'].mode()[0])"
   ]
  },
  {
   "cell_type": "code",
   "execution_count": null,
   "id": "109c9f33",
   "metadata": {
    "execution": {
     "iopub.execute_input": "2021-07-14T15:54:21.339004Z",
     "iopub.status.busy": "2021-07-14T15:54:21.337973Z",
     "iopub.status.idle": "2021-07-14T15:54:21.362099Z",
     "shell.execute_reply": "2021-07-14T15:54:21.362617Z",
     "shell.execute_reply.started": "2021-07-14T15:42:14.168662Z"
    },
    "papermill": {
     "duration": 0.155901,
     "end_time": "2021-07-14T15:54:21.362806",
     "exception": false,
     "start_time": "2021-07-14T15:54:21.206905",
     "status": "completed"
    },
    "tags": []
   },
   "outputs": [],
   "source": [
    "data.isna().sum() # проверка"
   ]
  },
  {
   "cell_type": "code",
   "execution_count": null,
   "id": "144630eb",
   "metadata": {
    "execution": {
     "iopub.execute_input": "2021-07-14T15:54:21.621536Z",
     "iopub.status.busy": "2021-07-14T15:54:21.620868Z",
     "iopub.status.idle": "2021-07-14T15:54:21.963345Z",
     "shell.execute_reply": "2021-07-14T15:54:21.962646Z",
     "shell.execute_reply.started": "2021-07-14T15:42:14.691034Z"
    },
    "papermill": {
     "duration": 0.473406,
     "end_time": "2021-07-14T15:54:21.963535",
     "exception": false,
     "start_time": "2021-07-14T15:54:21.490129",
     "status": "completed"
    },
    "tags": []
   },
   "outputs": [],
   "source": [
    "bin_plot('education')"
   ]
  },
  {
   "cell_type": "code",
   "execution_count": null,
   "id": "7eea106f",
   "metadata": {
    "execution": {
     "iopub.execute_input": "2021-07-14T15:54:22.251109Z",
     "iopub.status.busy": "2021-07-14T15:54:22.239894Z",
     "iopub.status.idle": "2021-07-14T15:54:22.259484Z",
     "shell.execute_reply": "2021-07-14T15:54:22.258909Z",
     "shell.execute_reply.started": "2021-07-14T15:42:15.218762Z"
    },
    "papermill": {
     "duration": 0.166117,
     "end_time": "2021-07-14T15:54:22.259655",
     "exception": false,
     "start_time": "2021-07-14T15:54:22.093538",
     "status": "completed"
    },
    "tags": []
   },
   "outputs": [],
   "source": [
    "#распределение данных в education\n",
    "data['education'].value_counts()"
   ]
  },
  {
   "cell_type": "markdown",
   "id": "7ebee8c3",
   "metadata": {
    "papermill": {
     "duration": 0.125869,
     "end_time": "2021-07-14T15:54:22.511702",
     "exception": false,
     "start_time": "2021-07-14T15:54:22.385833",
     "status": "completed"
    },
    "tags": []
   },
   "source": [
    "#### преобразуем признак 'education' в численный формат"
   ]
  },
  {
   "cell_type": "code",
   "execution_count": null,
   "id": "4bdd9b3a",
   "metadata": {
    "execution": {
     "iopub.execute_input": "2021-07-14T15:54:22.805626Z",
     "iopub.status.busy": "2021-07-14T15:54:22.804698Z",
     "iopub.status.idle": "2021-07-14T15:54:22.812707Z",
     "shell.execute_reply": "2021-07-14T15:54:22.813172Z",
     "shell.execute_reply.started": "2021-07-14T15:42:16.374547Z"
    },
    "papermill": {
     "duration": 0.175848,
     "end_time": "2021-07-14T15:54:22.813351",
     "exception": false,
     "start_time": "2021-07-14T15:54:22.637503",
     "status": "completed"
    },
    "tags": []
   },
   "outputs": [],
   "source": [
    "data['education'] = LabelEncoder().fit_transform(data['education'])\n",
    "data['education'].value_counts()"
   ]
  },
  {
   "cell_type": "code",
   "execution_count": null,
   "id": "4f75f429",
   "metadata": {
    "execution": {
     "iopub.execute_input": "2021-07-14T15:54:23.075492Z",
     "iopub.status.busy": "2021-07-14T15:54:23.074812Z",
     "iopub.status.idle": "2021-07-14T15:54:23.353411Z",
     "shell.execute_reply": "2021-07-14T15:54:23.353901Z",
     "shell.execute_reply.started": "2021-07-14T15:42:16.925654Z"
    },
    "papermill": {
     "duration": 0.414546,
     "end_time": "2021-07-14T15:54:23.354089",
     "exception": false,
     "start_time": "2021-07-14T15:54:22.939543",
     "status": "completed"
    },
    "tags": []
   },
   "outputs": [],
   "source": [
    "bin_plot('home_address')"
   ]
  },
  {
   "cell_type": "code",
   "execution_count": null,
   "id": "4af7f2af",
   "metadata": {
    "execution": {
     "iopub.execute_input": "2021-07-14T15:54:23.615176Z",
     "iopub.status.busy": "2021-07-14T15:54:23.614535Z",
     "iopub.status.idle": "2021-07-14T15:54:23.878821Z",
     "shell.execute_reply": "2021-07-14T15:54:23.878194Z",
     "shell.execute_reply.started": "2021-07-14T15:42:17.451262Z"
    },
    "papermill": {
     "duration": 0.396314,
     "end_time": "2021-07-14T15:54:23.879000",
     "exception": false,
     "start_time": "2021-07-14T15:54:23.482686",
     "status": "completed"
    },
    "tags": []
   },
   "outputs": [],
   "source": [
    "bin_plot('work_address')"
   ]
  },
  {
   "cell_type": "code",
   "execution_count": null,
   "id": "f6a6a36e",
   "metadata": {
    "execution": {
     "iopub.execute_input": "2021-07-14T15:54:24.144006Z",
     "iopub.status.busy": "2021-07-14T15:54:24.142994Z",
     "iopub.status.idle": "2021-07-14T15:54:24.449382Z",
     "shell.execute_reply": "2021-07-14T15:54:24.448555Z",
     "shell.execute_reply.started": "2021-07-14T15:42:17.976701Z"
    },
    "papermill": {
     "duration": 0.441529,
     "end_time": "2021-07-14T15:54:24.449585",
     "exception": false,
     "start_time": "2021-07-14T15:54:24.008056",
     "status": "completed"
    },
    "tags": []
   },
   "outputs": [],
   "source": [
    "bin_plot('sna')"
   ]
  },
  {
   "cell_type": "code",
   "execution_count": null,
   "id": "08194e44",
   "metadata": {
    "execution": {
     "iopub.execute_input": "2021-07-14T15:54:24.717396Z",
     "iopub.status.busy": "2021-07-14T15:54:24.716750Z",
     "iopub.status.idle": "2021-07-14T15:54:24.991481Z",
     "shell.execute_reply": "2021-07-14T15:54:24.992105Z",
     "shell.execute_reply.started": "2021-07-14T15:42:18.503583Z"
    },
    "papermill": {
     "duration": 0.409511,
     "end_time": "2021-07-14T15:54:24.992295",
     "exception": false,
     "start_time": "2021-07-14T15:54:24.582784",
     "status": "completed"
    },
    "tags": []
   },
   "outputs": [],
   "source": [
    "bin_plot('first_time')"
   ]
  },
  {
   "cell_type": "markdown",
   "id": "2c21ede3",
   "metadata": {
    "papermill": {
     "duration": 0.134167,
     "end_time": "2021-07-14T15:54:25.261210",
     "exception": false,
     "start_time": "2021-07-14T15:54:25.127043",
     "status": "completed"
    },
    "tags": []
   },
   "source": [
    "### Целевой признак"
   ]
  },
  {
   "cell_type": "code",
   "execution_count": null,
   "id": "4420828f",
   "metadata": {
    "execution": {
     "iopub.execute_input": "2021-07-14T15:54:25.557988Z",
     "iopub.status.busy": "2021-07-14T15:54:25.556907Z",
     "iopub.status.idle": "2021-07-14T15:54:25.787109Z",
     "shell.execute_reply": "2021-07-14T15:54:25.787709Z",
     "shell.execute_reply.started": "2021-07-14T15:42:19.517605Z"
    },
    "papermill": {
     "duration": 0.392789,
     "end_time": "2021-07-14T15:54:25.787887",
     "exception": false,
     "start_time": "2021-07-14T15:54:25.395098",
     "status": "completed"
    },
    "tags": []
   },
   "outputs": [],
   "source": [
    "data.query('sample ==1').default.hist()\n",
    "data.query('sample ==1').default.value_counts()\n"
   ]
  },
  {
   "cell_type": "markdown",
   "id": "cc1a92fc",
   "metadata": {
    "papermill": {
     "duration": 0.139909,
     "end_time": "2021-07-14T15:54:26.061746",
     "exception": false,
     "start_time": "2021-07-14T15:54:25.921837",
     "status": "completed"
    },
    "tags": []
   },
   "source": [
    "### Значимость категориальных и бинарных признаков"
   ]
  },
  {
   "cell_type": "code",
   "execution_count": null,
   "id": "43ea479c",
   "metadata": {
    "execution": {
     "iopub.execute_input": "2021-07-14T15:54:26.341958Z",
     "iopub.status.busy": "2021-07-14T15:54:26.340943Z",
     "iopub.status.idle": "2021-07-14T15:54:26.712823Z",
     "shell.execute_reply": "2021-07-14T15:54:26.713280Z",
     "shell.execute_reply.started": "2021-07-14T15:42:20.565026Z"
    },
    "papermill": {
     "duration": 0.516246,
     "end_time": "2021-07-14T15:54:26.713489",
     "exception": false,
     "start_time": "2021-07-14T15:54:26.197243",
     "status": "completed"
    },
    "tags": []
   },
   "outputs": [],
   "source": [
    "\n",
    "imp_cat = Series(mutual_info_classif(data[bin_cols + cat_cols], data['default'],\n",
    "                                     discrete_features =True), index = bin_cols + cat_cols)\n",
    "imp_cat.sort_values(inplace = True)\n",
    "imp_cat.plot(kind = 'barh')"
   ]
  },
  {
   "cell_type": "code",
   "execution_count": null,
   "id": "e031ab79",
   "metadata": {
    "execution": {
     "iopub.execute_input": "2021-07-14T15:54:26.984723Z",
     "iopub.status.busy": "2021-07-14T15:54:26.983740Z",
     "iopub.status.idle": "2021-07-14T15:54:27.003154Z",
     "shell.execute_reply": "2021-07-14T15:54:27.003635Z",
     "shell.execute_reply.started": "2021-07-14T15:42:21.066934Z"
    },
    "papermill": {
     "duration": 0.157161,
     "end_time": "2021-07-14T15:54:27.003855",
     "exception": false,
     "start_time": "2021-07-14T15:54:26.846694",
     "status": "completed"
    },
    "tags": []
   },
   "outputs": [],
   "source": [
    "data.info()"
   ]
  },
  {
   "cell_type": "markdown",
   "id": "7833544c",
   "metadata": {
    "papermill": {
     "duration": 0.135139,
     "end_time": "2021-07-14T15:54:27.273255",
     "exception": false,
     "start_time": "2021-07-14T15:54:27.138116",
     "status": "completed"
    },
    "tags": []
   },
   "source": [
    "### посмотрим вновь на таблицу корреляции "
   ]
  },
  {
   "cell_type": "code",
   "execution_count": null,
   "id": "b452b75f",
   "metadata": {
    "execution": {
     "iopub.execute_input": "2021-07-14T15:54:27.551516Z",
     "iopub.status.busy": "2021-07-14T15:54:27.550757Z",
     "iopub.status.idle": "2021-07-14T15:54:27.870045Z",
     "shell.execute_reply": "2021-07-14T15:54:27.870580Z",
     "shell.execute_reply.started": "2021-07-14T15:42:22.142896Z"
    },
    "papermill": {
     "duration": 0.46281,
     "end_time": "2021-07-14T15:54:27.870757",
     "exception": false,
     "start_time": "2021-07-14T15:54:27.407947",
     "status": "completed"
    },
    "tags": []
   },
   "outputs": [],
   "source": [
    "corr = data.corr()\n",
    "cmap = cmap=sns.diverging_palette(5, 250, as_cmap=True)\n",
    "\n",
    "def magnify():\n",
    "    return [dict(selector=\"th\",\n",
    "                 props=[(\"font-size\", \"7pt\")]),\n",
    "            dict(selector=\"td\",\n",
    "                 props=[('padding', \"0em 0em\")]),\n",
    "            dict(selector=\"th:hover\",\n",
    "                 props=[(\"font-size\", \"12pt\")]),\n",
    "            dict(selector=\"tr:hover td:hover\",\n",
    "                 props=[('max-width', '200px'),\n",
    "                        ('font-size', '12pt')])\n",
    "]\n",
    "\n",
    "corr.style.background_gradient(cmap, axis=1)\\\n",
    "    .set_properties(**{'max-width': '80px', 'font-size': '10pt'})\\\n",
    "    .set_caption(\"Heatmap\")\\\n",
    "    .set_precision(2)\\\n",
    "    .set_table_styles(magnify())"
   ]
  },
  {
   "cell_type": "markdown",
   "id": "889d031e",
   "metadata": {
    "papermill": {
     "duration": 0.139352,
     "end_time": "2021-07-14T15:54:28.147360",
     "exception": false,
     "start_time": "2021-07-14T15:54:28.008008",
     "status": "completed"
    },
    "tags": []
   },
   "source": [
    "#### выявлены сильные корреляции между:\n",
    "    * car и car_type\n",
    "    * home_address и work_address\n",
    "    * client_id и month\n"
   ]
  },
  {
   "cell_type": "code",
   "execution_count": null,
   "id": "94397907",
   "metadata": {
    "execution": {
     "iopub.execute_input": "2021-07-14T15:54:28.432337Z",
     "iopub.status.busy": "2021-07-14T15:54:28.431677Z",
     "iopub.status.idle": "2021-07-14T15:54:28.434475Z",
     "shell.execute_reply": "2021-07-14T15:54:28.434909Z",
     "shell.execute_reply.started": "2021-07-14T15:42:23.199986Z"
    },
    "papermill": {
     "duration": 0.149486,
     "end_time": "2021-07-14T15:54:28.435083",
     "exception": false,
     "start_time": "2021-07-14T15:54:28.285597",
     "status": "completed"
    },
    "tags": []
   },
   "outputs": [],
   "source": [
    "data.drop(['client_id','work_address','car_type'], axis = 1, inplace=True) # удаление сильно скоррелированных признаков"
   ]
  },
  {
   "cell_type": "code",
   "execution_count": null,
   "id": "eb9d4f4b",
   "metadata": {
    "execution": {
     "iopub.execute_input": "2021-07-14T15:54:28.712880Z",
     "iopub.status.busy": "2021-07-14T15:54:28.711868Z",
     "iopub.status.idle": "2021-07-14T15:54:28.715489Z",
     "shell.execute_reply": "2021-07-14T15:54:28.714966Z",
     "shell.execute_reply.started": "2021-07-14T15:42:23.766698Z"
    },
    "papermill": {
     "duration": 0.144091,
     "end_time": "2021-07-14T15:54:28.715635",
     "exception": false,
     "start_time": "2021-07-14T15:54:28.571544",
     "status": "completed"
    },
    "tags": []
   },
   "outputs": [],
   "source": [
    "cat_cols.remove('work_address')\n",
    "\n"
   ]
  },
  {
   "cell_type": "code",
   "execution_count": null,
   "id": "5554ea82",
   "metadata": {
    "execution": {
     "iopub.execute_input": "2021-07-14T15:54:28.995987Z",
     "iopub.status.busy": "2021-07-14T15:54:28.994935Z",
     "iopub.status.idle": "2021-07-14T15:54:28.998124Z",
     "shell.execute_reply": "2021-07-14T15:54:28.997615Z",
     "shell.execute_reply.started": "2021-07-14T15:42:24.288220Z"
    },
    "papermill": {
     "duration": 0.146464,
     "end_time": "2021-07-14T15:54:28.998262",
     "exception": false,
     "start_time": "2021-07-14T15:54:28.851798",
     "status": "completed"
    },
    "tags": []
   },
   "outputs": [],
   "source": [
    "bin_cols.remove('car_type')"
   ]
  },
  {
   "cell_type": "markdown",
   "id": "1c38840d",
   "metadata": {
    "papermill": {
     "duration": 0.137645,
     "end_time": "2021-07-14T15:54:29.276326",
     "exception": false,
     "start_time": "2021-07-14T15:54:29.138681",
     "status": "completed"
    },
    "tags": []
   },
   "source": [
    "### смотрим, что получилось"
   ]
  },
  {
   "cell_type": "code",
   "execution_count": null,
   "id": "a285f264",
   "metadata": {
    "execution": {
     "iopub.execute_input": "2021-07-14T15:54:29.562268Z",
     "iopub.status.busy": "2021-07-14T15:54:29.552798Z",
     "iopub.status.idle": "2021-07-14T15:54:29.579824Z",
     "shell.execute_reply": "2021-07-14T15:54:29.579157Z",
     "shell.execute_reply.started": "2021-07-14T15:42:25.351229Z"
    },
    "papermill": {
     "duration": 0.167355,
     "end_time": "2021-07-14T15:54:29.579971",
     "exception": false,
     "start_time": "2021-07-14T15:54:29.412616",
     "status": "completed"
    },
    "tags": []
   },
   "outputs": [],
   "source": [
    "data.sample(10)"
   ]
  },
  {
   "cell_type": "code",
   "execution_count": null,
   "id": "c1f63d90",
   "metadata": {
    "execution": {
     "iopub.execute_input": "2021-07-14T15:54:29.861765Z",
     "iopub.status.busy": "2021-07-14T15:54:29.860784Z",
     "iopub.status.idle": "2021-07-14T15:54:29.878826Z",
     "shell.execute_reply": "2021-07-14T15:54:29.879315Z",
     "shell.execute_reply.started": "2021-07-14T15:42:25.877165Z"
    },
    "papermill": {
     "duration": 0.162207,
     "end_time": "2021-07-14T15:54:29.879505",
     "exception": false,
     "start_time": "2021-07-14T15:54:29.717298",
     "status": "completed"
    },
    "tags": []
   },
   "outputs": [],
   "source": [
    "data.info()"
   ]
  },
  {
   "cell_type": "markdown",
   "id": "4ef25505",
   "metadata": {
    "papermill": {
     "duration": 0.137932,
     "end_time": "2021-07-14T15:54:30.156386",
     "exception": false,
     "start_time": "2021-07-14T15:54:30.018454",
     "status": "completed"
    },
    "tags": []
   },
   "source": [
    "#### после проведения предобработки данных и анализа EDA разделим вновь датасет на тренировочную и тестовую выборки\n"
   ]
  },
  {
   "cell_type": "code",
   "execution_count": null,
   "id": "a704ecaa",
   "metadata": {
    "execution": {
     "iopub.execute_input": "2021-07-14T15:54:30.442637Z",
     "iopub.status.busy": "2021-07-14T15:54:30.441932Z",
     "iopub.status.idle": "2021-07-14T15:54:30.476010Z",
     "shell.execute_reply": "2021-07-14T15:54:30.476585Z",
     "shell.execute_reply.started": "2021-07-14T15:42:26.922071Z"
    },
    "papermill": {
     "duration": 0.181545,
     "end_time": "2021-07-14T15:54:30.476781",
     "exception": false,
     "start_time": "2021-07-14T15:54:30.295236",
     "status": "completed"
    },
    "tags": []
   },
   "outputs": [],
   "source": [
    "df_train =  data.query('sample == 1').drop(['sample'], axis=1)\n",
    "df_test = data.query('sample == 0').drop(['sample'], axis=1)\n",
    "\n",
    "y = df_train.default.values # наш таргет\n",
    "df_train = df_train.drop(['default'], axis=1)"
   ]
  },
  {
   "cell_type": "markdown",
   "id": "25457c02",
   "metadata": {
    "execution": {
     "iopub.execute_input": "2021-07-13T16:12:51.642637Z",
     "iopub.status.busy": "2021-07-13T16:12:51.642276Z",
     "iopub.status.idle": "2021-07-13T16:12:51.647079Z",
     "shell.execute_reply": "2021-07-13T16:12:51.646053Z",
     "shell.execute_reply.started": "2021-07-13T16:12:51.642607Z"
    },
    "papermill": {
     "duration": 0.139879,
     "end_time": "2021-07-14T15:54:30.759283",
     "exception": false,
     "start_time": "2021-07-14T15:54:30.619404",
     "status": "completed"
    },
    "tags": []
   },
   "source": [
    "## Preprocessing"
   ]
  },
  {
   "cell_type": "code",
   "execution_count": null,
   "id": "68ef927f",
   "metadata": {
    "execution": {
     "iopub.execute_input": "2021-07-14T15:54:31.044497Z",
     "iopub.status.busy": "2021-07-14T15:54:31.043788Z",
     "iopub.status.idle": "2021-07-14T15:54:31.091044Z",
     "shell.execute_reply": "2021-07-14T15:54:31.091676Z",
     "shell.execute_reply.started": "2021-07-14T15:42:27.967612Z"
    },
    "papermill": {
     "duration": 0.19209,
     "end_time": "2021-07-14T15:54:31.091951",
     "exception": false,
     "start_time": "2021-07-14T15:54:30.899861",
     "status": "completed"
    },
    "tags": []
   },
   "outputs": [],
   "source": [
    "X_cat =  OneHotEncoder(sparse = False).fit_transform(df_train[cat_cols].values)"
   ]
  },
  {
   "cell_type": "markdown",
   "id": "e0f673e3",
   "metadata": {
    "execution": {
     "iopub.execute_input": "2021-07-13T16:16:35.017142Z",
     "iopub.status.busy": "2021-07-13T16:16:35.016766Z",
     "iopub.status.idle": "2021-07-13T16:16:35.038791Z",
     "shell.execute_reply": "2021-07-13T16:16:35.037653Z",
     "shell.execute_reply.started": "2021-07-13T16:16:35.01711Z"
    },
    "papermill": {
     "duration": 0.140004,
     "end_time": "2021-07-14T15:54:31.369575",
     "exception": false,
     "start_time": "2021-07-14T15:54:31.229571",
     "status": "completed"
    },
    "tags": []
   },
   "source": [
    "#### Стандартизируем числовые переменные"
   ]
  },
  {
   "cell_type": "code",
   "execution_count": null,
   "id": "b5129491",
   "metadata": {
    "execution": {
     "iopub.execute_input": "2021-07-14T15:54:31.648233Z",
     "iopub.status.busy": "2021-07-14T15:54:31.647540Z",
     "iopub.status.idle": "2021-07-14T15:54:31.660350Z",
     "shell.execute_reply": "2021-07-14T15:54:31.660977Z",
     "shell.execute_reply.started": "2021-07-14T15:42:28.986225Z"
    },
    "papermill": {
     "duration": 0.154258,
     "end_time": "2021-07-14T15:54:31.661163",
     "exception": false,
     "start_time": "2021-07-14T15:54:31.506905",
     "status": "completed"
    },
    "tags": []
   },
   "outputs": [],
   "source": [
    "X_num = StandardScaler().fit_transform(df_train[num_cols].values)"
   ]
  },
  {
   "cell_type": "code",
   "execution_count": null,
   "id": "de513429",
   "metadata": {
    "execution": {
     "iopub.execute_input": "2021-07-14T15:54:31.945479Z",
     "iopub.status.busy": "2021-07-14T15:54:31.944779Z",
     "iopub.status.idle": "2021-07-14T15:54:31.964996Z",
     "shell.execute_reply": "2021-07-14T15:54:31.964444Z",
     "shell.execute_reply.started": "2021-07-14T15:42:29.510344Z"
    },
    "papermill": {
     "duration": 0.163988,
     "end_time": "2021-07-14T15:54:31.965167",
     "exception": false,
     "start_time": "2021-07-14T15:54:31.801179",
     "status": "completed"
    },
    "tags": []
   },
   "outputs": [],
   "source": [
    "df_train.sample(3)"
   ]
  },
  {
   "cell_type": "code",
   "execution_count": null,
   "id": "76b4b12f",
   "metadata": {
    "execution": {
     "iopub.execute_input": "2021-07-14T15:54:32.264994Z",
     "iopub.status.busy": "2021-07-14T15:54:32.264006Z",
     "iopub.status.idle": "2021-07-14T15:54:32.269436Z",
     "shell.execute_reply": "2021-07-14T15:54:32.268722Z",
     "shell.execute_reply.started": "2021-07-14T15:42:30.033291Z"
    },
    "papermill": {
     "duration": 0.163119,
     "end_time": "2021-07-14T15:54:32.269587",
     "exception": false,
     "start_time": "2021-07-14T15:54:32.106468",
     "status": "completed"
    },
    "tags": []
   },
   "outputs": [],
   "source": [
    "df_test.sample(3)"
   ]
  },
  {
   "cell_type": "markdown",
   "id": "5634b2f9",
   "metadata": {
    "papermill": {
     "duration": 0.141463,
     "end_time": "2021-07-14T15:54:32.550902",
     "exception": false,
     "start_time": "2021-07-14T15:54:32.409439",
     "status": "completed"
    },
    "tags": []
   },
   "source": [
    "#### И объединим стандартизованные числовые, бинарные и закодированные категориальные переменные в одно признаковое пространство, разделив при этом признаки и целевую переменную.\n"
   ]
  },
  {
   "cell_type": "code",
   "execution_count": null,
   "id": "6f085e22",
   "metadata": {
    "execution": {
     "iopub.execute_input": "2021-07-14T15:54:32.838893Z",
     "iopub.status.busy": "2021-07-14T15:54:32.837453Z",
     "iopub.status.idle": "2021-07-14T15:54:32.853092Z",
     "shell.execute_reply": "2021-07-14T15:54:32.852425Z",
     "shell.execute_reply.started": "2021-07-14T15:42:31.102412Z"
    },
    "papermill": {
     "duration": 0.163678,
     "end_time": "2021-07-14T15:54:32.853247",
     "exception": false,
     "start_time": "2021-07-14T15:54:32.689569",
     "status": "completed"
    },
    "tags": []
   },
   "outputs": [],
   "source": [
    "X = np.hstack([X_num, df_train[bin_cols].values, X_cat])"
   ]
  },
  {
   "cell_type": "markdown",
   "id": "d49f933c",
   "metadata": {
    "papermill": {
     "duration": 0.143084,
     "end_time": "2021-07-14T15:54:33.139676",
     "exception": false,
     "start_time": "2021-07-14T15:54:32.996592",
     "status": "completed"
    },
    "tags": []
   },
   "source": [
    "**Перед тем как отправлять наши данные на обучение, разделим данные на еще один тест и трейн, для валидации.\n",
    "Это поможет нам проверить, как хорошо наша модель работает, до отправки submissiona на kaggle.**"
   ]
  },
  {
   "cell_type": "code",
   "execution_count": null,
   "id": "d3e7cc5e",
   "metadata": {
    "execution": {
     "iopub.execute_input": "2021-07-14T15:54:33.425858Z",
     "iopub.status.busy": "2021-07-14T15:54:33.425142Z",
     "iopub.status.idle": "2021-07-14T15:54:33.445225Z",
     "shell.execute_reply": "2021-07-14T15:54:33.445766Z",
     "shell.execute_reply.started": "2021-07-14T15:42:32.121212Z"
    },
    "papermill": {
     "duration": 0.162121,
     "end_time": "2021-07-14T15:54:33.445945",
     "exception": false,
     "start_time": "2021-07-14T15:54:33.283824",
     "status": "completed"
    },
    "tags": []
   },
   "outputs": [],
   "source": [
    "# Воспользуемся специальной функцие train_test_split для разбивки тестовых данных\n",
    "# выделим 20% данных на валидацию (параметр test_size)\n",
    "X_train, X_test, y_train, y_test = train_test_split(X, y, test_size=0.2, random_state=RANDOM_SEED)"
   ]
  },
  {
   "cell_type": "code",
   "execution_count": null,
   "id": "9491cb4e",
   "metadata": {
    "execution": {
     "iopub.execute_input": "2021-07-14T15:54:33.729098Z",
     "iopub.status.busy": "2021-07-14T15:54:33.728439Z",
     "iopub.status.idle": "2021-07-14T15:54:33.735527Z",
     "shell.execute_reply": "2021-07-14T15:54:33.734874Z",
     "shell.execute_reply.started": "2021-07-14T15:42:32.679974Z"
    },
    "papermill": {
     "duration": 0.14839,
     "end_time": "2021-07-14T15:54:33.735673",
     "exception": false,
     "start_time": "2021-07-14T15:54:33.587283",
     "status": "completed"
    },
    "tags": []
   },
   "outputs": [],
   "source": [
    "# проверяем\n",
    "df_test.shape, df_train.shape, X.shape, X_train.shape, X_test.shape"
   ]
  },
  {
   "cell_type": "markdown",
   "id": "1aecffe8",
   "metadata": {
    "papermill": {
     "duration": 0.143329,
     "end_time": "2021-07-14T15:54:34.069405",
     "exception": false,
     "start_time": "2021-07-14T15:54:33.926076",
     "status": "completed"
    },
    "tags": []
   },
   "source": [
    "## Model"
   ]
  },
  {
   "cell_type": "code",
   "execution_count": null,
   "id": "cbc1d4d1",
   "metadata": {
    "execution": {
     "iopub.execute_input": "2021-07-14T15:54:34.366684Z",
     "iopub.status.busy": "2021-07-14T15:54:34.365994Z",
     "iopub.status.idle": "2021-07-14T15:54:36.165288Z",
     "shell.execute_reply": "2021-07-14T15:54:36.166254Z",
     "shell.execute_reply.started": "2021-07-14T15:42:33.675763Z"
    },
    "papermill": {
     "duration": 1.949186,
     "end_time": "2021-07-14T15:54:36.166594",
     "exception": false,
     "start_time": "2021-07-14T15:54:34.217408",
     "status": "completed"
    },
    "tags": []
   },
   "outputs": [],
   "source": [
    "lg = LogisticRegression(max_iter=1000)\n",
    "lg.fit(X_train,y_train)\n",
    "y_pred = lg.predict_proba(X_test)[:,1]\n",
    "\n",
    "fpr, tpr, threshold = roc_curve(y_test, y_pred)\n",
    "roc_auc =  roc_auc_score(y_test, y_pred)\n"
   ]
  },
  {
   "cell_type": "markdown",
   "id": "115a7ea6",
   "metadata": {
    "papermill": {
     "duration": 0.139788,
     "end_time": "2021-07-14T15:54:36.493617",
     "exception": false,
     "start_time": "2021-07-14T15:54:36.353829",
     "status": "completed"
    },
    "tags": []
   },
   "source": [
    "## Оценка качества модели"
   ]
  },
  {
   "cell_type": "code",
   "execution_count": null,
   "id": "a3b48028",
   "metadata": {
    "execution": {
     "iopub.execute_input": "2021-07-14T15:54:36.801156Z",
     "iopub.status.busy": "2021-07-14T15:54:36.794157Z",
     "iopub.status.idle": "2021-07-14T15:54:36.946038Z",
     "shell.execute_reply": "2021-07-14T15:54:36.945401Z",
     "shell.execute_reply.started": "2021-07-14T15:42:35.299086Z"
    },
    "papermill": {
     "duration": 0.313316,
     "end_time": "2021-07-14T15:54:36.946193",
     "exception": false,
     "start_time": "2021-07-14T15:54:36.632877",
     "status": "completed"
    },
    "tags": []
   },
   "outputs": [],
   "source": [
    "plt.figure()\n",
    "plt.plot([0, 1], label='Baseline', linestyle='--')\n",
    "plt.plot(fpr, tpr, label = 'Regression')\n",
    "plt.title('Logistic Regression ROC AUC = %0.3f' % roc_auc)\n",
    "plt.ylabel('True Positive Rate')\n",
    "plt.xlabel('False Positive Rate')\n",
    "plt.legend(loc = 'lower right')\n",
    "plt.show()"
   ]
  },
  {
   "cell_type": "markdown",
   "id": "c395f2c5",
   "metadata": {
    "papermill": {
     "duration": 0.143131,
     "end_time": "2021-07-14T15:54:37.230395",
     "exception": false,
     "start_time": "2021-07-14T15:54:37.087264",
     "status": "completed"
    },
    "tags": []
   },
   "source": [
    "### на этом месте должны быть гипперпараметры :-)"
   ]
  },
  {
   "cell_type": "code",
   "execution_count": null,
   "id": "f4de70b1",
   "metadata": {
    "execution": {
     "iopub.execute_input": "2021-07-14T15:54:37.518513Z",
     "iopub.status.busy": "2021-07-14T15:54:37.517781Z",
     "iopub.status.idle": "2021-07-14T15:54:37.521647Z",
     "shell.execute_reply": "2021-07-14T15:54:37.521130Z",
     "shell.execute_reply.started": "2021-07-14T15:42:35.784337Z"
    },
    "papermill": {
     "duration": 0.15123,
     "end_time": "2021-07-14T15:54:37.521802",
     "exception": false,
     "start_time": "2021-07-14T15:54:37.370572",
     "status": "completed"
    },
    "tags": []
   },
   "outputs": [],
   "source": [
    "y_pred"
   ]
  },
  {
   "cell_type": "markdown",
   "id": "96b62a0a",
   "metadata": {
    "papermill": {
     "duration": 0.139922,
     "end_time": "2021-07-14T15:54:37.803010",
     "exception": false,
     "start_time": "2021-07-14T15:54:37.663088",
     "status": "completed"
    },
    "tags": []
   },
   "source": [
    "#### Давайте найдем оптимальное значение параметра регуляризации для логистической регрессии."
   ]
  },
  {
   "cell_type": "code",
   "execution_count": null,
   "id": "480bdaa1",
   "metadata": {
    "execution": {
     "iopub.execute_input": "2021-07-14T15:54:38.089800Z",
     "iopub.status.busy": "2021-07-14T15:54:38.089131Z",
     "iopub.status.idle": "2021-07-14T15:54:38.092842Z",
     "shell.execute_reply": "2021-07-14T15:54:38.092141Z",
     "shell.execute_reply.started": "2021-07-14T15:50:23.448802Z"
    },
    "papermill": {
     "duration": 0.149479,
     "end_time": "2021-07-14T15:54:38.092999",
     "exception": false,
     "start_time": "2021-07-14T15:54:37.943520",
     "status": "completed"
    },
    "tags": []
   },
   "outputs": [],
   "source": [
    "# Добавим типы регуляризации\n",
    "penalty = ['l1', 'l2']"
   ]
  },
  {
   "cell_type": "code",
   "execution_count": null,
   "id": "01e16a85",
   "metadata": {
    "execution": {
     "iopub.execute_input": "2021-07-14T15:54:38.380901Z",
     "iopub.status.busy": "2021-07-14T15:54:38.380177Z",
     "iopub.status.idle": "2021-07-14T15:54:38.383124Z",
     "shell.execute_reply": "2021-07-14T15:54:38.382628Z",
     "shell.execute_reply.started": "2021-07-14T15:50:26.153535Z"
    },
    "papermill": {
     "duration": 0.149105,
     "end_time": "2021-07-14T15:54:38.383302",
     "exception": false,
     "start_time": "2021-07-14T15:54:38.234197",
     "status": "completed"
    },
    "tags": []
   },
   "outputs": [],
   "source": [
    "# Зададим ограничения для параметра регуляризации\n",
    "C = np.logspace(0, 4, 10)\n"
   ]
  },
  {
   "cell_type": "code",
   "execution_count": null,
   "id": "3b253fe1",
   "metadata": {
    "execution": {
     "iopub.execute_input": "2021-07-14T15:54:38.671277Z",
     "iopub.status.busy": "2021-07-14T15:54:38.670560Z",
     "iopub.status.idle": "2021-07-14T15:54:38.675787Z",
     "shell.execute_reply": "2021-07-14T15:54:38.674984Z",
     "shell.execute_reply.started": "2021-07-14T15:50:28.026936Z"
    },
    "papermill": {
     "duration": 0.151306,
     "end_time": "2021-07-14T15:54:38.675971",
     "exception": false,
     "start_time": "2021-07-14T15:54:38.524665",
     "status": "completed"
    },
    "tags": []
   },
   "outputs": [],
   "source": [
    "\n",
    "# Создадим гиперпараметры\n",
    "hyperparameters = dict(C=C, penalty=penalty)"
   ]
  },
  {
   "cell_type": "code",
   "execution_count": null,
   "id": "96c8f649",
   "metadata": {
    "execution": {
     "iopub.execute_input": "2021-07-14T15:54:38.966870Z",
     "iopub.status.busy": "2021-07-14T15:54:38.965743Z",
     "iopub.status.idle": "2021-07-14T15:54:38.968770Z",
     "shell.execute_reply": "2021-07-14T15:54:38.969310Z",
     "shell.execute_reply.started": "2021-07-14T15:51:44.239866Z"
    },
    "papermill": {
     "duration": 0.151524,
     "end_time": "2021-07-14T15:54:38.969552",
     "exception": false,
     "start_time": "2021-07-14T15:54:38.818028",
     "status": "completed"
    },
    "tags": []
   },
   "outputs": [],
   "source": [
    "# Создаем сетку поиска с использованием 5-кратной перекрестной проверки\n",
    "clf = GridSearchCV(lg, hyperparameters, cv=5, verbose=0)"
   ]
  },
  {
   "cell_type": "code",
   "execution_count": null,
   "id": "f4dec8fd",
   "metadata": {
    "execution": {
     "iopub.execute_input": "2021-07-14T15:54:39.268337Z",
     "iopub.status.busy": "2021-07-14T15:54:39.267291Z",
     "iopub.status.idle": "2021-07-14T15:55:15.823201Z",
     "shell.execute_reply": "2021-07-14T15:55:15.824161Z",
     "shell.execute_reply.started": "2021-07-14T15:51:46.377998Z"
    },
    "papermill": {
     "duration": 36.704368,
     "end_time": "2021-07-14T15:55:15.824464",
     "exception": false,
     "start_time": "2021-07-14T15:54:39.120096",
     "status": "completed"
    },
    "tags": []
   },
   "outputs": [],
   "source": [
    "best_model = clf.fit(X_train, y_train)"
   ]
  },
  {
   "cell_type": "code",
   "execution_count": null,
   "id": "3d5f14ad",
   "metadata": {
    "execution": {
     "iopub.execute_input": "2021-07-14T15:55:16.175902Z",
     "iopub.status.busy": "2021-07-14T15:55:16.175134Z",
     "iopub.status.idle": "2021-07-14T15:55:16.179978Z",
     "shell.execute_reply": "2021-07-14T15:55:16.179446Z",
     "shell.execute_reply.started": "2021-07-14T15:52:48.621674Z"
    },
    "papermill": {
     "duration": 0.161246,
     "end_time": "2021-07-14T15:55:16.180120",
     "exception": false,
     "start_time": "2021-07-14T15:55:16.018874",
     "status": "completed"
    },
    "tags": []
   },
   "outputs": [],
   "source": [
    "# View best hyperparameters\n",
    "print('Лучшее Penalty:', best_model.best_estimator_.get_params()['penalty'])\n",
    "print('Лучшее C:', best_model.best_estimator_.get_params()['C'])"
   ]
  },
  {
   "cell_type": "code",
   "execution_count": null,
   "id": "09d24a45",
   "metadata": {
    "papermill": {
     "duration": 0.143973,
     "end_time": "2021-07-14T15:55:16.475713",
     "exception": false,
     "start_time": "2021-07-14T15:55:16.331740",
     "status": "completed"
    },
    "tags": []
   },
   "outputs": [],
   "source": []
  }
 ],
 "metadata": {
  "kernelspec": {
   "display_name": "Python 3",
   "language": "python",
   "name": "python3"
  },
  "language_info": {
   "codemirror_mode": {
    "name": "ipython",
    "version": 3
   },
   "file_extension": ".py",
   "mimetype": "text/x-python",
   "name": "python",
   "nbconvert_exporter": "python",
   "pygments_lexer": "ipython3",
   "version": "3.7.10"
  },
  "papermill": {
   "default_parameters": {},
   "duration": 126.31719,
   "end_time": "2021-07-14T15:55:17.732553",
   "environment_variables": {},
   "exception": null,
   "input_path": "__notebook__.ipynb",
   "output_path": "__notebook__.ipynb",
   "parameters": {},
   "start_time": "2021-07-14T15:53:11.415363",
   "version": "2.3.3"
  }
 },
 "nbformat": 4,
 "nbformat_minor": 5
}