{
 "metadata": {
  "kernelspec": {
   "language": "python",
   "display_name": "Python 3",
   "name": "python3"
  },
  "language_info": {
   "name": "python",
   "version": "3.7.6",
   "mimetype": "text/x-python",
   "codemirror_mode": {
    "name": "ipython",
    "version": 3
   },
   "pygments_lexer": "ipython3",
   "nbconvert_exporter": "python",
   "file_extension": ".py"
  }
 },
 "nbformat_minor": 4,
 "nbformat": 4,
 "cells": [
  {
   "cell_type": "markdown",
   "source": [
    "<img src= \"https://mar.prod.image.rndtech.de/var/storage/images/haz/nachrichten/wirtschaft/niedersachsen/diese-vw-plattform-soll-autoscout24-und-mobile.de-angreifen/640945376-1-ger-DE/Diese-VW-Plattform-soll-Autoscout24-angreifen_master_reference.jpg\">"
   ],
   "metadata": {}
  },
  {
   "cell_type": "markdown",
   "source": [
    "# [SF_DST-27] Project 6. Car Price prediction "
   ],
   "metadata": {}
  },
  {
   "cell_type": "markdown",
   "source": [
    "## Task:\n",
    "**to create a model that will predict the value of a used car based on its characteristics**"
   ],
   "metadata": {}
  },
  {
   "cell_type": "markdown",
   "source": [
    "**The training dataset is a sample of data from the www.auto.ru is actual on Aug.24, 2021, which includes all major car models produced in the period from 1990 to 2021 and are selling within a radius of 200 km around Moscow**"
   ],
   "metadata": {}
  },
  {
   "cell_type": "code",
   "source": [
    "import pandas as pd\n",
    "import numpy as np\n",
    "import re\n",
    "import pandas_profiling\n",
    "import matplotlib.pyplot as plt\n",
    "%matplotlib inline\n",
    "import seaborn as sns\n",
    "from sklearn.model_selection import train_test_split\n",
    "from sklearn.model_selection import cross_val_score\n",
    "from sklearn.model_selection import GridSearchCV\n",
    "from sklearn.model_selection import RandomizedSearchCV\n",
    "from sklearn import metrics\n",
    "from sklearn.feature_selection import f_classif, mutual_info_classif\n",
    "from sklearn.feature_extraction.text import CountVectorizer\n",
    "from sklearn.ensemble import RandomForestRegressor, GradientBoostingRegressor\n",
    "from sklearn.ensemble import BaggingRegressor\n",
    "from sklearn.tree import ExtraTreeRegressor\n",
    "from tqdm import tqdm\n",
    "from itertools import combinations\n",
    "from scipy.stats import ttest_ind\n",
    "from catboost import CatBoostClassifier\n",
    "from sklearn.preprocessing import LabelEncoder\n",
    "from sklearn.linear_model import LinearRegression\n",
    "pd.options.mode.chained_assignment = None\n",
    "\n",
    "import os\n"
   ],
   "metadata": {
    "execution": {
     "iopub.status.busy": "2021-09-03T20:45:18.064132Z",
     "iopub.execute_input": "2021-09-03T20:45:18.064670Z",
     "iopub.status.idle": "2021-09-03T20:45:18.094437Z",
     "shell.execute_reply.started": "2021-09-03T20:45:18.064630Z",
     "shell.execute_reply": "2021-09-03T20:45:18.092941Z"
    },
    "trusted": true
   },
   "execution_count": 1,
   "outputs": []
  },
  {
   "cell_type": "code",
   "source": [
    "#pip install -U seaborn"
   ],
   "metadata": {
    "execution": {
     "iopub.status.busy": "2021-09-03T20:45:18.097645Z",
     "iopub.execute_input": "2021-09-03T20:45:18.098219Z",
     "iopub.status.idle": "2021-09-03T20:45:18.109527Z",
     "shell.execute_reply.started": "2021-09-03T20:45:18.098171Z",
     "shell.execute_reply": "2021-09-03T20:45:18.108471Z"
    },
    "trusted": true
   },
   "execution_count": 2,
   "outputs": []
  },
  {
   "cell_type": "code",
   "source": [
    "RANDOM_SEED = 42\n",
    "!pip freeze > requirements.txt\n",
    "VAL_SIZE   = 0.20\n",
    "CURRENT_DATE = pd.Timestamp.today()"
   ],
   "metadata": {
    "execution": {
     "iopub.status.busy": "2021-09-03T20:45:18.135040Z",
     "iopub.execute_input": "2021-09-03T20:45:18.135476Z",
     "iopub.status.idle": "2021-09-03T20:45:20.341815Z",
     "shell.execute_reply.started": "2021-09-03T20:45:18.135438Z",
     "shell.execute_reply": "2021-09-03T20:45:20.340205Z"
    },
    "trusted": true
   },
   "execution_count": 3,
   "outputs": [
    {
     "name": "stderr",
     "output_type": "stream",
     "text": [
      "'pip' is not recognized as an internal or external command,\n",
      "operable program or batch file.\n"
     ]
    }
   ]
  },
  {
   "cell_type": "markdown",
   "source": [
    "### Functions definition"
   ],
   "metadata": {}
  },
  {
   "cell_type": "code",
   "source": [
    "\n",
    "def check_df_before_merg(d_df1,d_df2):\n",
    "    ''' the function to compare of data types both datasets\n",
    "    was copied from SF colleagues'''\n",
    "\n",
    "    list_of_names1 = list(d_df1.columns)\n",
    "    temp_dict = {}\n",
    "    temp_dict['feature_train'] = list_of_names1\n",
    "    temp_dict['type_train'] = d_df1.dtypes\n",
    "    temp_dict['sample_train'] = d_df1.loc[5].values\n",
    "    temp_df1 = pd.DataFrame.from_dict(temp_dict)\n",
    "\n",
    "\n",
    "    list_of_names2 = list(d_df2.columns)\n",
    "    temp_dict2 = {}\n",
    "    temp_dict2['feature_test'] = list_of_names2\n",
    "    temp_dict2['type_test'] = d_df2.dtypes\n",
    "    temp_dict2['sample_test'] = d_df2.loc[5].values\n",
    "    temp_df2 = pd.DataFrame.from_dict(temp_dict2)\n",
    "\n",
    "    temp_insert = pd.DataFrame(columns=['< - >'])\n",
    "\n",
    "    temp_df = pd.concat([temp_df1,temp_insert, temp_df2], axis=1, sort=False)\n",
    "    temp_df.reset_index(inplace = True)\n",
    "    del temp_df['index']\n",
    "    temp_df['< - >'] = '| - |'\n",
    "    display(temp_df)\n",
    "\n",
    "    temp_dict3 = {}\n",
    "    temp_df3= pd.DataFrame(temp_df)\n",
    "    temp_list  = []\n",
    "    temp_list2  = []\n",
    "    temp_list3  = []\n",
    "    temp_list4  = []\n",
    "\n",
    "\n",
    "    for i in range(len(temp_df)):\n",
    "        if str(temp_df3['type_train'][i]) != str(temp_df3['type_test'][i]):\n",
    "            temp_list.append(temp_df3['feature_train'][i])\n",
    "            temp_list2.append(temp_df3['feature_test'][i])\n",
    "            temp_list3.append(str(temp_df3['type_train'][i]) + ' != ' + str(temp_df3['type_test'][i]))\n",
    "            temp_list4.append(i)\n",
    "\n",
    "    temp_dict3['index']= temp_list4\n",
    "    temp_dict3['feature_train']= temp_list\n",
    "    temp_dict3['divergences'] = temp_list3\n",
    "    temp_dict3['feature_test']= temp_list2\n",
    "\n",
    "    temp_df4 = pd.DataFrame.from_dict(temp_dict3)\n",
    "    temp_df4.set_index('index',inplace=True)\n",
    "\n",
    "    print(f'The data types are different in {len(temp_df4)} columns\\n')\n",
    "    display(temp_df4)"
   ],
   "metadata": {
    "_kg_hide-input": false,
    "_kg_hide-output": true,
    "execution": {
     "iopub.status.busy": "2021-09-03T20:45:20.344606Z",
     "iopub.execute_input": "2021-09-03T20:45:20.344989Z",
     "iopub.status.idle": "2021-09-03T20:45:20.366645Z",
     "shell.execute_reply.started": "2021-09-03T20:45:20.344948Z",
     "shell.execute_reply": "2021-09-03T20:45:20.365043Z"
    },
    "trusted": true
   },
   "execution_count": 4,
   "outputs": []
  },
  {
   "cell_type": "code",
   "source": [
    "def clean_smb(smb):\n",
    "    ''' the function does remove the symbols\n",
    "    in the string data'''\n",
    "\n",
    "    smb = smb.replace(\"}\",'')\n",
    "    smb = smb.replace(\"{\",'')\n",
    "    smb = smb.replace(\"]\",'')\n",
    "    smb = smb.replace(\"]\",'')\n",
    "    smb = smb.replace('\"','')\n",
    "    smb = smb.strip('[]')\n",
    "    smb = smb.split(',')\n",
    "    return smb"
   ],
   "metadata": {
    "papermill": {
     "duration": 0.028837,
     "end_time": "2020-10-26T12:46:47.981435",
     "exception": false,
     "start_time": "2020-10-26T12:46:47.952598",
     "status": "completed"
    },
    "tags": [],
    "execution": {
     "iopub.status.busy": "2021-09-03T20:45:20.368331Z",
     "iopub.execute_input": "2021-09-03T20:45:20.368714Z",
     "iopub.status.idle": "2021-09-03T20:45:20.385210Z",
     "shell.execute_reply.started": "2021-09-03T20:45:20.368675Z",
     "shell.execute_reply": "2021-09-03T20:45:20.383988Z"
    },
    "trusted": true
   },
   "execution_count": 5,
   "outputs": []
  },
  {
   "cell_type": "code",
   "source": [
    "def float_value(feature):\n",
    "    ''' The function cleans the digits from other \n",
    "    symbols and brings them to float'''\n",
    "    \n",
    "    pattern = re.compile('([^\\d.]+)')\n",
    "    feature = feature.replace(pattern, '')\n",
    "    oft_value = feature.value_counts(sort=True).keys()[0]\n",
    "    feature = feature.replace('', oft_value).astype(float, errors = 'raise')\n",
    "    return feature"
   ],
   "metadata": {
    "papermill": {
     "duration": 0.039969,
     "end_time": "2020-10-26T12:46:48.052728",
     "exception": false,
     "start_time": "2020-10-26T12:46:48.012759",
     "status": "completed"
    },
    "tags": [],
    "execution": {
     "iopub.status.busy": "2021-09-03T20:45:20.387451Z",
     "iopub.execute_input": "2021-09-03T20:45:20.387803Z",
     "iopub.status.idle": "2021-09-03T20:45:20.404985Z",
     "shell.execute_reply.started": "2021-09-03T20:45:20.387771Z",
     "shell.execute_reply": "2021-09-03T20:45:20.403837Z"
    },
    "trusted": true
   },
   "execution_count": 6,
   "outputs": []
  },
  {
   "cell_type": "code",
   "source": [
    "def cat_feature_overview(feature):\n",
    "    ''' The function outputs the feature's info'''\n",
    "    \n",
    "    print(f'Total lines: {len(feature)}')\n",
    "    print(f'Data types: {feature.dtypes}')\n",
    "    print(f'Total values: {feature.count()}')\n",
    "    print(f'The most frequent value: {feature.value_counts(sort=True).keys()[0]}')\n",
    "    print(f'The less frequent value: {feature.value_counts(sort=True).keys()[-1]}')\n",
    "    print(f'Unique values: {feature.nunique()}')\n",
    "    print(f'Missing values: {feature.isna().sum()}')\n",
    "    sns.countplot(y = feature, order = feature.value_counts(sort=True).index)\n",
    "\n",
    "    return\n"
   ],
   "metadata": {
    "execution": {
     "iopub.status.busy": "2021-09-03T20:45:20.409744Z",
     "iopub.execute_input": "2021-09-03T20:45:20.410174Z",
     "iopub.status.idle": "2021-09-03T20:45:20.420244Z",
     "shell.execute_reply.started": "2021-09-03T20:45:20.410134Z",
     "shell.execute_reply": "2021-09-03T20:45:20.418895Z"
    },
    "trusted": true
   },
   "execution_count": 7,
   "outputs": []
  },
  {
   "cell_type": "code",
   "source": [
    "def num_feature_overview(feature):\n",
    "    ''' The function outputs the feature's info'''\n",
    "    \n",
    "    print(f'Total lines: {len(feature)}')\n",
    "    print(f'Data types: {feature.dtypes}')\n",
    "    print(f'Total values: {feature.count()}')\n",
    "    print(f'The most frequent value: {feature.value_counts(sort=True).keys()[0]}')\n",
    "    print(f'The less frequent value: {feature.value_counts(sort=True).keys()[-1]}')\n",
    "    print(f'Unique values: {feature.nunique()}')\n",
    "    print(f'Missing values: {feature.isna().sum()}')\n",
    "\n",
    "    return"
   ],
   "metadata": {
    "execution": {
     "iopub.status.busy": "2021-09-03T20:45:20.423367Z",
     "iopub.execute_input": "2021-09-03T20:45:20.424106Z",
     "iopub.status.idle": "2021-09-03T20:45:20.436582Z",
     "shell.execute_reply.started": "2021-09-03T20:45:20.424063Z",
     "shell.execute_reply": "2021-09-03T20:45:20.434655Z"
    },
    "trusted": true
   },
   "execution_count": 8,
   "outputs": []
  },
  {
   "cell_type": "code",
   "source": [
    "def subset_by_iqr(feature, whisker_width=1.5):\n",
    "    '''Remove outliers from a dataframe by column, including optional\n",
    "       whiskers, removing rows for which the column value are\n",
    "       less than Q1-1.5IQR or greater than Q3+1.5IQR.\n",
    "    '''\n",
    "    q1 = feature.quantile(0.25)\n",
    "    q3 = feature.quantile(0.75)\n",
    "    iqr = q3 - q1\n",
    "    low_outlier = q1 - whisker_width*iqr\n",
    "    high_outlier = q3 + whisker_width*iqr\n",
    "    column_median = feature.median()\n",
    "\n",
    "    # Apply filter with respect to IQR, including optional whiskers\n",
    "    # else mode()\n",
    "\n",
    "    return feature.apply(lambda x: x if (x > low_outlier and x < high_outlier) else column_median)"
   ],
   "metadata": {
    "execution": {
     "iopub.status.busy": "2021-09-03T20:45:20.438772Z",
     "iopub.execute_input": "2021-09-03T20:45:20.439860Z",
     "iopub.status.idle": "2021-09-03T20:45:20.448904Z",
     "shell.execute_reply.started": "2021-09-03T20:45:20.439790Z",
     "shell.execute_reply": "2021-09-03T20:45:20.447493Z"
    },
    "trusted": true
   },
   "execution_count": 9,
   "outputs": []
  },
  {
   "cell_type": "code",
   "source": [
    "def check_iqr(feature, whisker_width=1.5):\n",
    "    '''defines the quantiles at the column, including optional\n",
    "       whiskers with Q1-1.5IQR and Q3+1.5IQR boarders.\n",
    "    '''\n",
    "    q1 = feature.quantile(0.25)\n",
    "    q3 = feature.quantile(0.75)\n",
    "    iqr = q3 - q1\n",
    "    low_outlier = q1 - whisker_width*iqr\n",
    "    high_outlier = q3 + whisker_width*iqr\n",
    "    IQRs = pd.DataFrame({'Q1' : [q1], 'Q3' : [q3], 'IQR' : [iqr], 'low_outlier' : [low_outlier], 'high_outlier' : [high_outlier]})\n",
    "    \n",
    "    sns.set_style(\"darkgrid\")\n",
    "\n",
    "\n",
    "    # feature's distribution\n",
    "    x = feature\n",
    "    plt.figure(figsize=(10,5))\n",
    "    sns.distplot(x, kde=True)\n",
    "    plt.axvline(low_outlier, color='red')\n",
    "    plt.axvline(high_outlier, color='red')\n",
    "    plt.axvline(q1, color='blue',linestyle='--')\n",
    "    plt.axvline(q3, color='blue',linestyle='--')\n",
    "    plt.show()\n",
    "    \n",
    "\n",
    "    return IQRs"
   ],
   "metadata": {
    "execution": {
     "iopub.status.busy": "2021-09-03T20:45:20.450589Z",
     "iopub.execute_input": "2021-09-03T20:45:20.451052Z",
     "iopub.status.idle": "2021-09-03T20:45:20.468384Z",
     "shell.execute_reply.started": "2021-09-03T20:45:20.451003Z",
     "shell.execute_reply": "2021-09-03T20:45:20.466946Z"
    },
    "trusted": true
   },
   "execution_count": 10,
   "outputs": []
  },
  {
   "cell_type": "code",
   "source": [
    "def train_brand_pvt(val_body_type, from_year,  to_year, i=0):\n",
    "    \n",
    "    model_tbl= train[(train['bodyType'] == val_body_type) & (train['modelDate'].between(from_year, to_year))].pivot_table(values= 'price', index= 'brand', aggfunc= 'std')\n",
    "    std_n = model_tbl['price']\n",
    "    low_std = std_n / 1.5\n",
    "    high_std = std_n * 1.5\n",
    "    model_tbl['low_std'] = round(low_std,2)\n",
    "    model_tbl['std_n'] = round(std_n,2)\n",
    "    model_tbl['high_std'] = round(high_std,2)\n",
    "    model_tbl.drop(['price'], axis = 1, inplace = True)\n",
    "    low_std_avg = model_tbl.low_std.mean()\n",
    "    high_std_avg = model_tbl.high_std.mean()\n",
    "    model_tbl = model_tbl[(model_tbl['std_n'] >= low_std_avg) & (model_tbl['std_n'] <=  high_std_avg)].reset_index()\n",
    "    display(model_tbl)\n",
    "    act_model_lst = model_tbl['brand'].to_list()\n",
    "    print(f'The most relevant brands sorted by body type \"{val_body_type}\" in time period from {from_year} to {to_year}','\\n', act_model_lst,'\\n')\n",
    " \n",
    "    \n",
    "    return act_model_lst"
   ],
   "metadata": {
    "execution": {
     "iopub.status.busy": "2021-09-03T20:45:20.470184Z",
     "iopub.execute_input": "2021-09-03T20:45:20.470628Z",
     "iopub.status.idle": "2021-09-03T20:45:20.484433Z",
     "shell.execute_reply.started": "2021-09-03T20:45:20.470595Z",
     "shell.execute_reply": "2021-09-03T20:45:20.483110Z"
    },
    "trusted": true
   },
   "execution_count": 11,
   "outputs": []
  },
  {
   "cell_type": "code",
   "source": [
    "def metrics_func(y_true, y_pred):\n",
    "    \n",
    "    #Mean Absolute Error\n",
    "    mae = metrics.mean_absolute_error(y_true, y_pred)\n",
    "\n",
    "    #Mean Absolute Percentage Error\n",
    "    mape = np.mean(np.abs((y_true - y_pred) / y_true)) * 100\n",
    "\n",
    "    \n",
    "    #Symmetric Mean Absolute Percentage Error\n",
    "    smape = 100/len(y_true) * np.sum(2 * np.abs(y_pred - y_true) / (np.abs(y_true) + np.abs(y_pred)))\n",
    "\n",
    "    #Mean Squared Error*\n",
    "    mse = metrics.mean_squared_error(y_true, y_pred)\n",
    "\n",
    "    #Root Mean Squared Error\n",
    "    rmse = np.sqrt(mse)\n",
    "    \n",
    "    #Coefficient of determination\n",
    "    R_2 = metrics.r2_score(y_true, y_pred)\n",
    "    \n",
    "\n",
    "    print(f'MAE Mean Absolute Error {mae}')\n",
    "    print(f'MAPE  Mean Absolute Percentage Error {mape}%')\n",
    "    print(f'SMAPE Symmetric Mean Absolute Percentage Error {smape}%')\n",
    "    print(f'MSE Mean Squared Error {mse}')\n",
    "    print(f'RMSE Root Mean Squared Error {rmse}')\n",
    "    print(f'R_2 Coefficient of determination {R_2}')\n",
    "    \n",
    "    return\n"
   ],
   "metadata": {
    "execution": {
     "iopub.status.busy": "2021-09-03T20:45:20.486259Z",
     "iopub.execute_input": "2021-09-03T20:45:20.486725Z",
     "iopub.status.idle": "2021-09-03T20:45:20.504083Z",
     "shell.execute_reply.started": "2021-09-03T20:45:20.486693Z",
     "shell.execute_reply": "2021-09-03T20:45:20.502879Z"
    },
    "trusted": true
   },
   "execution_count": 12,
   "outputs": []
  },
  {
   "cell_type": "markdown",
   "source": [
    "# 1. DATA\n",
    "## 1.1 Import of data"
   ],
   "metadata": {}
  },
  {
   "cell_type": "code",
   "source": [
    "#PATH_to_file = '/kaggle/input/sf-dst-car-price-prediction/'\n",
    "#PATH_to_file_data = '/kaggle//input/20210824-auto-ru-train-dataset/'"
   ],
   "metadata": {
    "execution": {
     "iopub.status.busy": "2021-09-03T20:45:20.505682Z",
     "iopub.execute_input": "2021-09-03T20:45:20.506165Z",
     "iopub.status.idle": "2021-09-03T20:45:20.518886Z",
     "shell.execute_reply.started": "2021-09-03T20:45:20.506117Z",
     "shell.execute_reply": "2021-09-03T20:45:20.517207Z"
    },
    "trusted": true
   },
   "execution_count": 13,
   "outputs": []
  },
  {
   "cell_type": "code",
   "source": [
    "#train = pd.read_csv(PATH_to_file_data +'2021-08-29_train.csv')\n",
    "#test = pd.read_csv(PATH_to_file+'test.csv')\n",
    "#submit = pd.read_csv(PATH_to_file+'sample_submission.csv')\n",
    "\n",
    "train = pd.read_csv('2021-08-29_train.csv')\n",
    "test = pd.read_csv('test.csv')\n",
    "submit = pd.read_csv('sample_submission.csv')\n",
    "\n",
    "pd.set_option('display.max_columns', None)\n",
    "print('Training dataset shape: ', train.shape)\n",
    "display(train.head(3))\n",
    "print('Testing dataset shape: ', test.shape)\n",
    "display(test.head(3))\n",
    "print('Submission shape: ', submit.shape)\n",
    "display(submit.head(2))"
   ],
   "metadata": {
    "execution": {
     "iopub.status.busy": "2021-09-03T20:45:20.520990Z",
     "iopub.execute_input": "2021-09-03T20:45:20.521494Z",
     "iopub.status.idle": "2021-09-03T20:45:24.725821Z",
     "shell.execute_reply.started": "2021-09-03T20:45:20.521444Z",
     "shell.execute_reply": "2021-09-03T20:45:24.724268Z"
    },
    "trusted": true
   },
   "execution_count": 14,
   "outputs": [
    {
     "name": "stdout",
     "output_type": "stream",
     "text": [
      "Training dataset shape:  (59762, 32)\n"
     ]
    },
    {
     "data": {
      "text/plain": "   Unnamed: 0           bodyType       brand       color complectation_dict  \\\n0           0  внедорожник 5 дв.  ALFA_ROMEO  коричневый        {'id': '0'}   \n1           1              седан  ALFA_ROMEO      чёрный        {'id': '0'}   \n2           2      хэтчбек 5 дв.  ALFA_ROMEO     красный        {'id': '0'}   \n\n                                         description  engineDisplacement  \\\n0  Мы предлагаем Вам сформированные индивидуальны...                 2.0   \n1  Мы предлагаем Вам сформированные индивидуальны...                 2.0   \n2  Мы предлагаем Вам сформированные индивидуальны...                 1.4   \n\n   enginePower                                     equipment_dict fuelType  \\\n0          200  {'asr': True, 'airbag-driver': True, 'aux': Tr...   бензин   \n1          280  {'asr': True, 'airbag-driver': True, 'usb': Tr...   бензин   \n2          170  {'cruise-control': True, 'asr': True, 'tinted-...   бензин   \n\n                                               image  mileage  modelDate  \\\n0  //avatars.mds.yandex.net/get-autoru-vos/447689...    69720       2016   \n1  //avatars.mds.yandex.net/get-autoru-vos/530062...    38469       2015   \n2  //avatars.mds.yandex.net/get-autoru-vos/412107...    97352       2010   \n\n                                          model_info model_name  \\\n0  {'code': 'STELVIO', 'name': 'Stelvio', 'ru_nam...    Stelvio   \n1  {'code': 'GIULIA', 'name': 'Giulia', 'ru_name'...     Giulia   \n2  {'code': 'GIULIETTA', 'name': 'Giulietta', 'ru...  Giulietta   \n\n                    name  numberOfDoors  parsing_unixtime    price  \\\n0  2.0 AT (200 л.с.) 4WD              5        1629806291  3250000   \n1  2.0 AT (280 л.с.) 4WD              4        1629806291  2350000   \n2     1.4 AMT (170 л.с.)              5        1629806291  1052000   \n\n  priceCurrency  productionDate  \\\n0           RUR            2017   \n1           RUR            2016   \n2           RUR            2014   \n\n                                           super_gen  \\\n0  {'id': '20908618', 'year_from': 2016, 'price_s...   \n1  {'id': '20728074', 'name': 'II (952)', 'ru_nam...   \n2  {'id': '8484175', 'name': 'III', 'ru_name': '3...   \n\n                                vehicleConfiguration vehicleTransmission  \\\n0     2.0 AT (200 л.с.), внедорожник, полный, бензин      автоматическая   \n1           2.0 AT (280 л.с.), седан, полный, бензин      автоматическая   \n2  1.4 AMT (170 л.с.), хэтчбек 5 дв., передний, б...            вариатор   \n\n     vendor  Владельцы  Владение       ПТС    Привод   Руль  \\\n0  EUROPEAN          2      12.0  Оригинал    полный  Левый   \n1  EUROPEAN          1      12.0  Оригинал    полный  Левый   \n2  EUROPEAN          1      12.0  Оригинал  передний  Левый   \n\n            Состояние     Таможня  \n0  Не требует ремонта  Растаможен  \n1  Не требует ремонта  Растаможен  \n2  Не требует ремонта  Растаможен  ",
      "text/html": "<div>\n<style scoped>\n    .dataframe tbody tr th:only-of-type {\n        vertical-align: middle;\n    }\n\n    .dataframe tbody tr th {\n        vertical-align: top;\n    }\n\n    .dataframe thead th {\n        text-align: right;\n    }\n</style>\n<table border=\"1\" class=\"dataframe\">\n  <thead>\n    <tr style=\"text-align: right;\">\n      <th></th>\n      <th>Unnamed: 0</th>\n      <th>bodyType</th>\n      <th>brand</th>\n      <th>color</th>\n      <th>complectation_dict</th>\n      <th>description</th>\n      <th>engineDisplacement</th>\n      <th>enginePower</th>\n      <th>equipment_dict</th>\n      <th>fuelType</th>\n      <th>image</th>\n      <th>mileage</th>\n      <th>modelDate</th>\n      <th>model_info</th>\n      <th>model_name</th>\n      <th>name</th>\n      <th>numberOfDoors</th>\n      <th>parsing_unixtime</th>\n      <th>price</th>\n      <th>priceCurrency</th>\n      <th>productionDate</th>\n      <th>super_gen</th>\n      <th>vehicleConfiguration</th>\n      <th>vehicleTransmission</th>\n      <th>vendor</th>\n      <th>Владельцы</th>\n      <th>Владение</th>\n      <th>ПТС</th>\n      <th>Привод</th>\n      <th>Руль</th>\n      <th>Состояние</th>\n      <th>Таможня</th>\n    </tr>\n  </thead>\n  <tbody>\n    <tr>\n      <th>0</th>\n      <td>0</td>\n      <td>внедорожник 5 дв.</td>\n      <td>ALFA_ROMEO</td>\n      <td>коричневый</td>\n      <td>{'id': '0'}</td>\n      <td>Мы предлагаем Вам сформированные индивидуальны...</td>\n      <td>2.0</td>\n      <td>200</td>\n      <td>{'asr': True, 'airbag-driver': True, 'aux': Tr...</td>\n      <td>бензин</td>\n      <td>//avatars.mds.yandex.net/get-autoru-vos/447689...</td>\n      <td>69720</td>\n      <td>2016</td>\n      <td>{'code': 'STELVIO', 'name': 'Stelvio', 'ru_nam...</td>\n      <td>Stelvio</td>\n      <td>2.0 AT (200 л.с.) 4WD</td>\n      <td>5</td>\n      <td>1629806291</td>\n      <td>3250000</td>\n      <td>RUR</td>\n      <td>2017</td>\n      <td>{'id': '20908618', 'year_from': 2016, 'price_s...</td>\n      <td>2.0 AT (200 л.с.), внедорожник, полный, бензин</td>\n      <td>автоматическая</td>\n      <td>EUROPEAN</td>\n      <td>2</td>\n      <td>12.0</td>\n      <td>Оригинал</td>\n      <td>полный</td>\n      <td>Левый</td>\n      <td>Не требует ремонта</td>\n      <td>Растаможен</td>\n    </tr>\n    <tr>\n      <th>1</th>\n      <td>1</td>\n      <td>седан</td>\n      <td>ALFA_ROMEO</td>\n      <td>чёрный</td>\n      <td>{'id': '0'}</td>\n      <td>Мы предлагаем Вам сформированные индивидуальны...</td>\n      <td>2.0</td>\n      <td>280</td>\n      <td>{'asr': True, 'airbag-driver': True, 'usb': Tr...</td>\n      <td>бензин</td>\n      <td>//avatars.mds.yandex.net/get-autoru-vos/530062...</td>\n      <td>38469</td>\n      <td>2015</td>\n      <td>{'code': 'GIULIA', 'name': 'Giulia', 'ru_name'...</td>\n      <td>Giulia</td>\n      <td>2.0 AT (280 л.с.) 4WD</td>\n      <td>4</td>\n      <td>1629806291</td>\n      <td>2350000</td>\n      <td>RUR</td>\n      <td>2016</td>\n      <td>{'id': '20728074', 'name': 'II (952)', 'ru_nam...</td>\n      <td>2.0 AT (280 л.с.), седан, полный, бензин</td>\n      <td>автоматическая</td>\n      <td>EUROPEAN</td>\n      <td>1</td>\n      <td>12.0</td>\n      <td>Оригинал</td>\n      <td>полный</td>\n      <td>Левый</td>\n      <td>Не требует ремонта</td>\n      <td>Растаможен</td>\n    </tr>\n    <tr>\n      <th>2</th>\n      <td>2</td>\n      <td>хэтчбек 5 дв.</td>\n      <td>ALFA_ROMEO</td>\n      <td>красный</td>\n      <td>{'id': '0'}</td>\n      <td>Мы предлагаем Вам сформированные индивидуальны...</td>\n      <td>1.4</td>\n      <td>170</td>\n      <td>{'cruise-control': True, 'asr': True, 'tinted-...</td>\n      <td>бензин</td>\n      <td>//avatars.mds.yandex.net/get-autoru-vos/412107...</td>\n      <td>97352</td>\n      <td>2010</td>\n      <td>{'code': 'GIULIETTA', 'name': 'Giulietta', 'ru...</td>\n      <td>Giulietta</td>\n      <td>1.4 AMT (170 л.с.)</td>\n      <td>5</td>\n      <td>1629806291</td>\n      <td>1052000</td>\n      <td>RUR</td>\n      <td>2014</td>\n      <td>{'id': '8484175', 'name': 'III', 'ru_name': '3...</td>\n      <td>1.4 AMT (170 л.с.), хэтчбек 5 дв., передний, б...</td>\n      <td>вариатор</td>\n      <td>EUROPEAN</td>\n      <td>1</td>\n      <td>12.0</td>\n      <td>Оригинал</td>\n      <td>передний</td>\n      <td>Левый</td>\n      <td>Не требует ремонта</td>\n      <td>Растаможен</td>\n    </tr>\n  </tbody>\n</table>\n</div>"
     },
     "metadata": {},
     "output_type": "display_data"
    },
    {
     "name": "stdout",
     "output_type": "stream",
     "text": [
      "Testing dataset shape:  (34686, 32)\n"
     ]
    },
    {
     "data": {
      "text/plain": "  bodyType  brand                                            car_url   color  \\\n0  лифтбек  SKODA  https://auto.ru/cars/used/sale/skoda/octavia/1...   синий   \n1  лифтбек  SKODA  https://auto.ru/cars/used/sale/skoda/octavia/1...  чёрный   \n2  лифтбек  SKODA  https://auto.ru/cars/used/sale/skoda/superb/11...   серый   \n\n                                  complectation_dict  \\\n0                                                NaN   \n1                                                NaN   \n2  {\"id\":\"20026336\",\"name\":\"Ambition\",\"available_...   \n\n                                         description engineDisplacement  \\\n0  Все автомобили, представленные в продаже, прох...            1.2 LTR   \n1  ЛОТ: 01217195\\nАвтопрага Север\\nДанный автомоб...            1.6 LTR   \n2  Все автомобили, представленные в продаже, прох...            1.8 LTR   \n\n  enginePower                                     equipment_dict fuelType  \\\n0     105 N12  {\"engine-proof\":true,\"tinted-glass\":true,\"airb...   бензин   \n1     110 N12  {\"cruise-control\":true,\"asr\":true,\"esp\":true,\"...   бензин   \n2     152 N12  {\"cruise-control\":true,\"tinted-glass\":true,\"es...   бензин   \n\n                                               image  mileage  modelDate  \\\n0  https://autoru.naydex.net/o9DBXQ270/5ac010hAY0...    74000       2013   \n1  https://autoru.naydex.net/o9DBXQ270/5ac010hAY0...    60563       2017   \n2  https://avatars.mds.yandex.net/get-autoru-vos/...    88000       2013   \n\n                                          model_info model_name  \\\n0  {\"code\":\"OCTAVIA\",\"name\":\"Octavia\",\"ru_name\":\"...    OCTAVIA   \n1  {\"code\":\"OCTAVIA\",\"name\":\"Octavia\",\"ru_name\":\"...    OCTAVIA   \n2  {\"code\":\"SUPERB\",\"name\":\"Superb\",\"ru_name\":\"Су...     SUPERB   \n\n                     name  numberOfDoors  parsing_unixtime priceCurrency  \\\n0      1.2 AMT (105 л.с.)              5        1603226273           RUB   \n1       1.6 MT (110 л.с.)              5        1603226277           RUB   \n2  DSG 1.8 AMT (152 л.с.)              5        1603226280           RUB   \n\n   productionDate     sell_id  \\\n0            2014  1100575026   \n1            2017  1100549428   \n2            2014  1100658222   \n\n                                           super_gen     vehicleConfiguration  \\\n0  {\"id\":\"10373605\",\"displacement\":1197,\"engine_t...       LIFTBACK ROBOT 1.2   \n1  {\"id\":\"20913311\",\"displacement\":1598,\"engine_t...  LIFTBACK MECHANICAL 1.6   \n2  {\"id\":\"20026323\",\"nameplate\":\"DSG\",\"displaceme...       LIFTBACK ROBOT 1.8   \n\n  vehicleTransmission    vendor    Владельцы Владение       ПТС    Привод  \\\n0    роботизированная  EUROPEAN  3 или более      NaN  Оригинал  передний   \n1        механическая  EUROPEAN   1 владелец      NaN  Оригинал  передний   \n2    роботизированная  EUROPEAN   1 владелец      NaN  Оригинал  передний   \n\n    Руль           Состояние     Таможня  \n0  Левый  Не требует ремонта  Растаможен  \n1  Левый  Не требует ремонта  Растаможен  \n2  Левый  Не требует ремонта  Растаможен  ",
      "text/html": "<div>\n<style scoped>\n    .dataframe tbody tr th:only-of-type {\n        vertical-align: middle;\n    }\n\n    .dataframe tbody tr th {\n        vertical-align: top;\n    }\n\n    .dataframe thead th {\n        text-align: right;\n    }\n</style>\n<table border=\"1\" class=\"dataframe\">\n  <thead>\n    <tr style=\"text-align: right;\">\n      <th></th>\n      <th>bodyType</th>\n      <th>brand</th>\n      <th>car_url</th>\n      <th>color</th>\n      <th>complectation_dict</th>\n      <th>description</th>\n      <th>engineDisplacement</th>\n      <th>enginePower</th>\n      <th>equipment_dict</th>\n      <th>fuelType</th>\n      <th>image</th>\n      <th>mileage</th>\n      <th>modelDate</th>\n      <th>model_info</th>\n      <th>model_name</th>\n      <th>name</th>\n      <th>numberOfDoors</th>\n      <th>parsing_unixtime</th>\n      <th>priceCurrency</th>\n      <th>productionDate</th>\n      <th>sell_id</th>\n      <th>super_gen</th>\n      <th>vehicleConfiguration</th>\n      <th>vehicleTransmission</th>\n      <th>vendor</th>\n      <th>Владельцы</th>\n      <th>Владение</th>\n      <th>ПТС</th>\n      <th>Привод</th>\n      <th>Руль</th>\n      <th>Состояние</th>\n      <th>Таможня</th>\n    </tr>\n  </thead>\n  <tbody>\n    <tr>\n      <th>0</th>\n      <td>лифтбек</td>\n      <td>SKODA</td>\n      <td>https://auto.ru/cars/used/sale/skoda/octavia/1...</td>\n      <td>синий</td>\n      <td>NaN</td>\n      <td>Все автомобили, представленные в продаже, прох...</td>\n      <td>1.2 LTR</td>\n      <td>105 N12</td>\n      <td>{\"engine-proof\":true,\"tinted-glass\":true,\"airb...</td>\n      <td>бензин</td>\n      <td>https://autoru.naydex.net/o9DBXQ270/5ac010hAY0...</td>\n      <td>74000</td>\n      <td>2013</td>\n      <td>{\"code\":\"OCTAVIA\",\"name\":\"Octavia\",\"ru_name\":\"...</td>\n      <td>OCTAVIA</td>\n      <td>1.2 AMT (105 л.с.)</td>\n      <td>5</td>\n      <td>1603226273</td>\n      <td>RUB</td>\n      <td>2014</td>\n      <td>1100575026</td>\n      <td>{\"id\":\"10373605\",\"displacement\":1197,\"engine_t...</td>\n      <td>LIFTBACK ROBOT 1.2</td>\n      <td>роботизированная</td>\n      <td>EUROPEAN</td>\n      <td>3 или более</td>\n      <td>NaN</td>\n      <td>Оригинал</td>\n      <td>передний</td>\n      <td>Левый</td>\n      <td>Не требует ремонта</td>\n      <td>Растаможен</td>\n    </tr>\n    <tr>\n      <th>1</th>\n      <td>лифтбек</td>\n      <td>SKODA</td>\n      <td>https://auto.ru/cars/used/sale/skoda/octavia/1...</td>\n      <td>чёрный</td>\n      <td>NaN</td>\n      <td>ЛОТ: 01217195\\nАвтопрага Север\\nДанный автомоб...</td>\n      <td>1.6 LTR</td>\n      <td>110 N12</td>\n      <td>{\"cruise-control\":true,\"asr\":true,\"esp\":true,\"...</td>\n      <td>бензин</td>\n      <td>https://autoru.naydex.net/o9DBXQ270/5ac010hAY0...</td>\n      <td>60563</td>\n      <td>2017</td>\n      <td>{\"code\":\"OCTAVIA\",\"name\":\"Octavia\",\"ru_name\":\"...</td>\n      <td>OCTAVIA</td>\n      <td>1.6 MT (110 л.с.)</td>\n      <td>5</td>\n      <td>1603226277</td>\n      <td>RUB</td>\n      <td>2017</td>\n      <td>1100549428</td>\n      <td>{\"id\":\"20913311\",\"displacement\":1598,\"engine_t...</td>\n      <td>LIFTBACK MECHANICAL 1.6</td>\n      <td>механическая</td>\n      <td>EUROPEAN</td>\n      <td>1 владелец</td>\n      <td>NaN</td>\n      <td>Оригинал</td>\n      <td>передний</td>\n      <td>Левый</td>\n      <td>Не требует ремонта</td>\n      <td>Растаможен</td>\n    </tr>\n    <tr>\n      <th>2</th>\n      <td>лифтбек</td>\n      <td>SKODA</td>\n      <td>https://auto.ru/cars/used/sale/skoda/superb/11...</td>\n      <td>серый</td>\n      <td>{\"id\":\"20026336\",\"name\":\"Ambition\",\"available_...</td>\n      <td>Все автомобили, представленные в продаже, прох...</td>\n      <td>1.8 LTR</td>\n      <td>152 N12</td>\n      <td>{\"cruise-control\":true,\"tinted-glass\":true,\"es...</td>\n      <td>бензин</td>\n      <td>https://avatars.mds.yandex.net/get-autoru-vos/...</td>\n      <td>88000</td>\n      <td>2013</td>\n      <td>{\"code\":\"SUPERB\",\"name\":\"Superb\",\"ru_name\":\"Су...</td>\n      <td>SUPERB</td>\n      <td>DSG 1.8 AMT (152 л.с.)</td>\n      <td>5</td>\n      <td>1603226280</td>\n      <td>RUB</td>\n      <td>2014</td>\n      <td>1100658222</td>\n      <td>{\"id\":\"20026323\",\"nameplate\":\"DSG\",\"displaceme...</td>\n      <td>LIFTBACK ROBOT 1.8</td>\n      <td>роботизированная</td>\n      <td>EUROPEAN</td>\n      <td>1 владелец</td>\n      <td>NaN</td>\n      <td>Оригинал</td>\n      <td>передний</td>\n      <td>Левый</td>\n      <td>Не требует ремонта</td>\n      <td>Растаможен</td>\n    </tr>\n  </tbody>\n</table>\n</div>"
     },
     "metadata": {},
     "output_type": "display_data"
    },
    {
     "name": "stdout",
     "output_type": "stream",
     "text": [
      "Submission shape:  (34686, 2)\n"
     ]
    },
    {
     "data": {
      "text/plain": "      sell_id  price\n0  1100575026      0\n1  1100549428      0",
      "text/html": "<div>\n<style scoped>\n    .dataframe tbody tr th:only-of-type {\n        vertical-align: middle;\n    }\n\n    .dataframe tbody tr th {\n        vertical-align: top;\n    }\n\n    .dataframe thead th {\n        text-align: right;\n    }\n</style>\n<table border=\"1\" class=\"dataframe\">\n  <thead>\n    <tr style=\"text-align: right;\">\n      <th></th>\n      <th>sell_id</th>\n      <th>price</th>\n    </tr>\n  </thead>\n  <tbody>\n    <tr>\n      <th>0</th>\n      <td>1100575026</td>\n      <td>0</td>\n    </tr>\n    <tr>\n      <th>1</th>\n      <td>1100549428</td>\n      <td>0</td>\n    </tr>\n  </tbody>\n</table>\n</div>"
     },
     "metadata": {},
     "output_type": "display_data"
    }
   ]
  },
  {
   "cell_type": "code",
   "source": "submit.head(3)",
   "metadata": {
    "execution": {
     "iopub.status.busy": "2021-09-03T20:45:24.727705Z",
     "iopub.execute_input": "2021-09-03T20:45:24.728150Z",
     "iopub.status.idle": "2021-09-03T20:45:24.743461Z",
     "shell.execute_reply.started": "2021-09-03T20:45:24.728104Z",
     "shell.execute_reply": "2021-09-03T20:45:24.741799Z"
    },
    "trusted": true
   },
   "execution_count": 15,
   "outputs": [
    {
     "data": {
      "text/plain": "      sell_id  price\n0  1100575026      0\n1  1100549428      0\n2  1100658222      0",
      "text/html": "<div>\n<style scoped>\n    .dataframe tbody tr th:only-of-type {\n        vertical-align: middle;\n    }\n\n    .dataframe tbody tr th {\n        vertical-align: top;\n    }\n\n    .dataframe thead th {\n        text-align: right;\n    }\n</style>\n<table border=\"1\" class=\"dataframe\">\n  <thead>\n    <tr style=\"text-align: right;\">\n      <th></th>\n      <th>sell_id</th>\n      <th>price</th>\n    </tr>\n  </thead>\n  <tbody>\n    <tr>\n      <th>0</th>\n      <td>1100575026</td>\n      <td>0</td>\n    </tr>\n    <tr>\n      <th>1</th>\n      <td>1100549428</td>\n      <td>0</td>\n    </tr>\n    <tr>\n      <th>2</th>\n      <td>1100658222</td>\n      <td>0</td>\n    </tr>\n  </tbody>\n</table>\n</div>"
     },
     "execution_count": 15,
     "metadata": {},
     "output_type": "execute_result"
    }
   ]
  },
  {
   "cell_type": "markdown",
   "source": "\n### Features\n nn |Features| Description | Type \n----|---|----|---\n0   |bodyType| Car's body type | Categorical\n1   |brand | Car's brand | Categorical\n2   |color | Color | Categorical\n3   |color_hex  | Color hex code| Categorical\n4   |complectation_dic| Dict of complectation | Categorical\n5   |description | Description by seller | Categorical\n6   |engineDisplacement | Displacement of engine | Quantitative\n7   |enginePower | Power of engine | Quantitative\n8   |equipment_dict | Dict of equipment | Categorical\n9   |fuelType | Type of fuel | Categorical\n10  |image | Image of the car | Categorical\n11  |mileage | Mileage of the car | Quantitative\n12  |modelDate | Year of car's model| Ordinal\n13  |model_info | Code of car's model | Categorical\n14  |model_name | Name of car's model | Categorical\n15  |name | Summary data | Categorical\n16  |numberOfDoors | Number of doors | Quantitative\n17  |parsing_unixtime | Time of parsing | Ordinal\n18  |price | Offered price | Quantitative\n19  |priceCurrency | Currency | Quantitative\n20  |productionDate | Date of production | Ordinal\n21  |sell_id | Seller's ID | Ordinal\n22  |super_gen | Dict of features | Categorical\n23  |vehicleConfiguration | Dict of options | Categorical\n24  |vehicleTransmission | Transmission | Categorical\n25  |vendor | Vendor | Categorical\n26  |Владельцы | Number of owners | Quantitative\n27  |Владение | Holding period month | Quantitative\n28  |ПТС | Original vehicle registration | Binary\n29  |Привод | Gear type| Categorical\n30  |Руль | Steering wheel | Categorical\n31  |Состояние | Accident-free car | Binary\n32  |Таможня | Custom cleared | Binary\n\n\n",
   "metadata": {
    "execution": {
     "iopub.status.busy": "2021-09-02T11:43:55.214748Z",
     "iopub.execute_input": "2021-09-02T11:43:55.215239Z",
     "iopub.status.idle": "2021-09-02T11:43:55.237955Z",
     "shell.execute_reply.started": "2021-09-02T11:43:55.215208Z",
     "shell.execute_reply": "2021-09-02T11:43:55.229042Z"
    }
   }
  },
  {
   "cell_type": "markdown",
   "source": "## 1.2 Data validation and training dataset matching with test sample ",
   "metadata": {}
  },
  {
   "cell_type": "code",
   "source": "# comparison of training and test datasets\ncheck_df_before_merg(train, test)",
   "metadata": {
    "execution": {
     "iopub.status.busy": "2021-09-03T20:45:24.745464Z",
     "iopub.execute_input": "2021-09-03T20:45:24.745942Z",
     "iopub.status.idle": "2021-09-03T20:45:24.813492Z",
     "shell.execute_reply.started": "2021-09-03T20:45:24.745891Z",
     "shell.execute_reply": "2021-09-03T20:45:24.812051Z"
    },
    "trusted": true
   },
   "execution_count": 16,
   "outputs": [
    {
     "data": {
      "text/plain": "           feature_train type_train  \\\n0             Unnamed: 0      int64   \n1               bodyType     object   \n2                  brand     object   \n3                  color     object   \n4     complectation_dict     object   \n5            description     object   \n6     engineDisplacement    float64   \n7            enginePower      int64   \n8         equipment_dict     object   \n9               fuelType     object   \n10                 image     object   \n11               mileage      int64   \n12             modelDate      int64   \n13            model_info     object   \n14            model_name     object   \n15                  name     object   \n16         numberOfDoors      int64   \n17      parsing_unixtime      int64   \n18                 price      int64   \n19         priceCurrency     object   \n20        productionDate      int64   \n21             super_gen     object   \n22  vehicleConfiguration     object   \n23   vehicleTransmission     object   \n24                vendor     object   \n25             Владельцы      int64   \n26              Владение    float64   \n27                   ПТС     object   \n28                Привод     object   \n29                  Руль     object   \n30             Состояние     object   \n31               Таможня     object   \n32                   NaN        NaN   \n33                   NaN        NaN   \n\n                                         sample_train  < - >  \\\n0                                                   5  | - |   \n1                                       хэтчбек 5 дв.  | - |   \n2                                          ALFA_ROMEO  | - |   \n3                                               белый  | - |   \n4                                         {'id': '0'}  | - |   \n5   РОЛЬФ Алтуфьево — это целых 30 лет успешной по...  | - |   \n6                                                 1.4  | - |   \n7                                                 170  | - |   \n8   {'cruise-control': True, 'asr': True, 'esp': T...  | - |   \n9                                              бензин  | - |   \n10  //avatars.mds.yandex.net/get-autoru-vos/392674...  | - |   \n11                                              42500  | - |   \n12                                               2010  | - |   \n13  {'code': 'GIULIETTA', 'name': 'Giulietta', 'ru...  | - |   \n14                                          Giulietta  | - |   \n15                                 1.4 AMT (170 л.с.)  | - |   \n16                                                  5  | - |   \n17                                         1629806291  | - |   \n18                                            1300000  | - |   \n19                                                RUR  | - |   \n20                                               2014  | - |   \n21  {'id': '8484175', 'name': 'III', 'ru_name': '3...  | - |   \n22  1.4 AMT (170 л.с.), хэтчбек 5 дв., передний, б...  | - |   \n23                                           вариатор  | - |   \n24                                           EUROPEAN  | - |   \n25                                                  1  | - |   \n26                                               12.0  | - |   \n27                                           Оригинал  | - |   \n28                                           передний  | - |   \n29                                              Левый  | - |   \n30                                 Не требует ремонта  | - |   \n31                                         Растаможен  | - |   \n32                                                NaN  | - |   \n33                                                NaN  | - |   \n\n            feature_test type_test  \\\n0                    NaN       NaN   \n1               bodyType    object   \n2                  brand    object   \n3                  color    object   \n4     complectation_dict    object   \n5            description    object   \n6     engineDisplacement    object   \n7            enginePower    object   \n8         equipment_dict    object   \n9               fuelType    object   \n10                 image    object   \n11               mileage     int64   \n12             modelDate     int64   \n13            model_info    object   \n14            model_name    object   \n15                  name    object   \n16         numberOfDoors     int64   \n17      parsing_unixtime     int64   \n18                   NaN       NaN   \n19         priceCurrency    object   \n20        productionDate     int64   \n21             super_gen    object   \n22  vehicleConfiguration    object   \n23   vehicleTransmission    object   \n24                vendor    object   \n25             Владельцы    object   \n26              Владение    object   \n27                   ПТС    object   \n28                Привод    object   \n29                  Руль    object   \n30             Состояние    object   \n31               Таможня    object   \n32               car_url    object   \n33               sell_id     int64   \n\n                                          sample_test  \n0                                                 NaN  \n1                                             лифтбек  \n2                                               SKODA  \n3                                               серый  \n4   {\"id\":\"5011515\",\"name\":\"RS\",\"available_options...  \n5   Продаю свой автомобиль! Автомобиль полностью и...  \n6                                             2.0 LTR  \n7                                             200 N12  \n8   {\"cruise-control\":true,\"tinted-glass\":true,\"es...  \n9                                              бензин  \n10  https://avatars.mds.yandex.net/get-autoru-vos/...  \n11                                             172000  \n12                                               2008  \n13  {\"code\":\"OCTAVIA_RS\",\"name\":\"Octavia RS\",\"ru_n...  \n14                                         OCTAVIA_RS  \n15                                 2.0 AMT (200 л.с.)  \n16                                                  5  \n17                                         1603226291  \n18                                                NaN  \n19                                                RUB  \n20                                               2012  \n21  {\"id\":\"5009158\",\"displacement\":1984,\"engine_ty...  \n22                                 LIFTBACK ROBOT 2.0  \n23                                   роботизированная  \n24                                           EUROPEAN  \n25                                        3 или более  \n26                                                NaN  \n27                                           Оригинал  \n28                                           передний  \n29                                              Левый  \n30                                 Не требует ремонта  \n31                                         Растаможен  \n32  https://auto.ru/cars/used/sale/skoda/octavia_r...  \n33                                         1100912634  ",
      "text/html": "<div>\n<style scoped>\n    .dataframe tbody tr th:only-of-type {\n        vertical-align: middle;\n    }\n\n    .dataframe tbody tr th {\n        vertical-align: top;\n    }\n\n    .dataframe thead th {\n        text-align: right;\n    }\n</style>\n<table border=\"1\" class=\"dataframe\">\n  <thead>\n    <tr style=\"text-align: right;\">\n      <th></th>\n      <th>feature_train</th>\n      <th>type_train</th>\n      <th>sample_train</th>\n      <th>&lt; - &gt;</th>\n      <th>feature_test</th>\n      <th>type_test</th>\n      <th>sample_test</th>\n    </tr>\n  </thead>\n  <tbody>\n    <tr>\n      <th>0</th>\n      <td>Unnamed: 0</td>\n      <td>int64</td>\n      <td>5</td>\n      <td>| - |</td>\n      <td>NaN</td>\n      <td>NaN</td>\n      <td>NaN</td>\n    </tr>\n    <tr>\n      <th>1</th>\n      <td>bodyType</td>\n      <td>object</td>\n      <td>хэтчбек 5 дв.</td>\n      <td>| - |</td>\n      <td>bodyType</td>\n      <td>object</td>\n      <td>лифтбек</td>\n    </tr>\n    <tr>\n      <th>2</th>\n      <td>brand</td>\n      <td>object</td>\n      <td>ALFA_ROMEO</td>\n      <td>| - |</td>\n      <td>brand</td>\n      <td>object</td>\n      <td>SKODA</td>\n    </tr>\n    <tr>\n      <th>3</th>\n      <td>color</td>\n      <td>object</td>\n      <td>белый</td>\n      <td>| - |</td>\n      <td>color</td>\n      <td>object</td>\n      <td>серый</td>\n    </tr>\n    <tr>\n      <th>4</th>\n      <td>complectation_dict</td>\n      <td>object</td>\n      <td>{'id': '0'}</td>\n      <td>| - |</td>\n      <td>complectation_dict</td>\n      <td>object</td>\n      <td>{\"id\":\"5011515\",\"name\":\"RS\",\"available_options...</td>\n    </tr>\n    <tr>\n      <th>5</th>\n      <td>description</td>\n      <td>object</td>\n      <td>РОЛЬФ Алтуфьево — это целых 30 лет успешной по...</td>\n      <td>| - |</td>\n      <td>description</td>\n      <td>object</td>\n      <td>Продаю свой автомобиль! Автомобиль полностью и...</td>\n    </tr>\n    <tr>\n      <th>6</th>\n      <td>engineDisplacement</td>\n      <td>float64</td>\n      <td>1.4</td>\n      <td>| - |</td>\n      <td>engineDisplacement</td>\n      <td>object</td>\n      <td>2.0 LTR</td>\n    </tr>\n    <tr>\n      <th>7</th>\n      <td>enginePower</td>\n      <td>int64</td>\n      <td>170</td>\n      <td>| - |</td>\n      <td>enginePower</td>\n      <td>object</td>\n      <td>200 N12</td>\n    </tr>\n    <tr>\n      <th>8</th>\n      <td>equipment_dict</td>\n      <td>object</td>\n      <td>{'cruise-control': True, 'asr': True, 'esp': T...</td>\n      <td>| - |</td>\n      <td>equipment_dict</td>\n      <td>object</td>\n      <td>{\"cruise-control\":true,\"tinted-glass\":true,\"es...</td>\n    </tr>\n    <tr>\n      <th>9</th>\n      <td>fuelType</td>\n      <td>object</td>\n      <td>бензин</td>\n      <td>| - |</td>\n      <td>fuelType</td>\n      <td>object</td>\n      <td>бензин</td>\n    </tr>\n    <tr>\n      <th>10</th>\n      <td>image</td>\n      <td>object</td>\n      <td>//avatars.mds.yandex.net/get-autoru-vos/392674...</td>\n      <td>| - |</td>\n      <td>image</td>\n      <td>object</td>\n      <td>https://avatars.mds.yandex.net/get-autoru-vos/...</td>\n    </tr>\n    <tr>\n      <th>11</th>\n      <td>mileage</td>\n      <td>int64</td>\n      <td>42500</td>\n      <td>| - |</td>\n      <td>mileage</td>\n      <td>int64</td>\n      <td>172000</td>\n    </tr>\n    <tr>\n      <th>12</th>\n      <td>modelDate</td>\n      <td>int64</td>\n      <td>2010</td>\n      <td>| - |</td>\n      <td>modelDate</td>\n      <td>int64</td>\n      <td>2008</td>\n    </tr>\n    <tr>\n      <th>13</th>\n      <td>model_info</td>\n      <td>object</td>\n      <td>{'code': 'GIULIETTA', 'name': 'Giulietta', 'ru...</td>\n      <td>| - |</td>\n      <td>model_info</td>\n      <td>object</td>\n      <td>{\"code\":\"OCTAVIA_RS\",\"name\":\"Octavia RS\",\"ru_n...</td>\n    </tr>\n    <tr>\n      <th>14</th>\n      <td>model_name</td>\n      <td>object</td>\n      <td>Giulietta</td>\n      <td>| - |</td>\n      <td>model_name</td>\n      <td>object</td>\n      <td>OCTAVIA_RS</td>\n    </tr>\n    <tr>\n      <th>15</th>\n      <td>name</td>\n      <td>object</td>\n      <td>1.4 AMT (170 л.с.)</td>\n      <td>| - |</td>\n      <td>name</td>\n      <td>object</td>\n      <td>2.0 AMT (200 л.с.)</td>\n    </tr>\n    <tr>\n      <th>16</th>\n      <td>numberOfDoors</td>\n      <td>int64</td>\n      <td>5</td>\n      <td>| - |</td>\n      <td>numberOfDoors</td>\n      <td>int64</td>\n      <td>5</td>\n    </tr>\n    <tr>\n      <th>17</th>\n      <td>parsing_unixtime</td>\n      <td>int64</td>\n      <td>1629806291</td>\n      <td>| - |</td>\n      <td>parsing_unixtime</td>\n      <td>int64</td>\n      <td>1603226291</td>\n    </tr>\n    <tr>\n      <th>18</th>\n      <td>price</td>\n      <td>int64</td>\n      <td>1300000</td>\n      <td>| - |</td>\n      <td>NaN</td>\n      <td>NaN</td>\n      <td>NaN</td>\n    </tr>\n    <tr>\n      <th>19</th>\n      <td>priceCurrency</td>\n      <td>object</td>\n      <td>RUR</td>\n      <td>| - |</td>\n      <td>priceCurrency</td>\n      <td>object</td>\n      <td>RUB</td>\n    </tr>\n    <tr>\n      <th>20</th>\n      <td>productionDate</td>\n      <td>int64</td>\n      <td>2014</td>\n      <td>| - |</td>\n      <td>productionDate</td>\n      <td>int64</td>\n      <td>2012</td>\n    </tr>\n    <tr>\n      <th>21</th>\n      <td>super_gen</td>\n      <td>object</td>\n      <td>{'id': '8484175', 'name': 'III', 'ru_name': '3...</td>\n      <td>| - |</td>\n      <td>super_gen</td>\n      <td>object</td>\n      <td>{\"id\":\"5009158\",\"displacement\":1984,\"engine_ty...</td>\n    </tr>\n    <tr>\n      <th>22</th>\n      <td>vehicleConfiguration</td>\n      <td>object</td>\n      <td>1.4 AMT (170 л.с.), хэтчбек 5 дв., передний, б...</td>\n      <td>| - |</td>\n      <td>vehicleConfiguration</td>\n      <td>object</td>\n      <td>LIFTBACK ROBOT 2.0</td>\n    </tr>\n    <tr>\n      <th>23</th>\n      <td>vehicleTransmission</td>\n      <td>object</td>\n      <td>вариатор</td>\n      <td>| - |</td>\n      <td>vehicleTransmission</td>\n      <td>object</td>\n      <td>роботизированная</td>\n    </tr>\n    <tr>\n      <th>24</th>\n      <td>vendor</td>\n      <td>object</td>\n      <td>EUROPEAN</td>\n      <td>| - |</td>\n      <td>vendor</td>\n      <td>object</td>\n      <td>EUROPEAN</td>\n    </tr>\n    <tr>\n      <th>25</th>\n      <td>Владельцы</td>\n      <td>int64</td>\n      <td>1</td>\n      <td>| - |</td>\n      <td>Владельцы</td>\n      <td>object</td>\n      <td>3 или более</td>\n    </tr>\n    <tr>\n      <th>26</th>\n      <td>Владение</td>\n      <td>float64</td>\n      <td>12.0</td>\n      <td>| - |</td>\n      <td>Владение</td>\n      <td>object</td>\n      <td>NaN</td>\n    </tr>\n    <tr>\n      <th>27</th>\n      <td>ПТС</td>\n      <td>object</td>\n      <td>Оригинал</td>\n      <td>| - |</td>\n      <td>ПТС</td>\n      <td>object</td>\n      <td>Оригинал</td>\n    </tr>\n    <tr>\n      <th>28</th>\n      <td>Привод</td>\n      <td>object</td>\n      <td>передний</td>\n      <td>| - |</td>\n      <td>Привод</td>\n      <td>object</td>\n      <td>передний</td>\n    </tr>\n    <tr>\n      <th>29</th>\n      <td>Руль</td>\n      <td>object</td>\n      <td>Левый</td>\n      <td>| - |</td>\n      <td>Руль</td>\n      <td>object</td>\n      <td>Левый</td>\n    </tr>\n    <tr>\n      <th>30</th>\n      <td>Состояние</td>\n      <td>object</td>\n      <td>Не требует ремонта</td>\n      <td>| - |</td>\n      <td>Состояние</td>\n      <td>object</td>\n      <td>Не требует ремонта</td>\n    </tr>\n    <tr>\n      <th>31</th>\n      <td>Таможня</td>\n      <td>object</td>\n      <td>Растаможен</td>\n      <td>| - |</td>\n      <td>Таможня</td>\n      <td>object</td>\n      <td>Растаможен</td>\n    </tr>\n    <tr>\n      <th>32</th>\n      <td>NaN</td>\n      <td>NaN</td>\n      <td>NaN</td>\n      <td>| - |</td>\n      <td>car_url</td>\n      <td>object</td>\n      <td>https://auto.ru/cars/used/sale/skoda/octavia_r...</td>\n    </tr>\n    <tr>\n      <th>33</th>\n      <td>NaN</td>\n      <td>NaN</td>\n      <td>NaN</td>\n      <td>| - |</td>\n      <td>sell_id</td>\n      <td>int64</td>\n      <td>1100912634</td>\n    </tr>\n  </tbody>\n</table>\n</div>"
     },
     "metadata": {},
     "output_type": "display_data"
    },
    {
     "name": "stdout",
     "output_type": "stream",
     "text": [
      "The data types are different in 8 columns\n",
      "\n"
     ]
    },
    {
     "data": {
      "text/plain": "            feature_train        divergences        feature_test\nindex                                                           \n0              Unnamed: 0       int64 != nan                 NaN\n6      engineDisplacement  float64 != object  engineDisplacement\n7             enginePower    int64 != object         enginePower\n18                  price       int64 != nan                 NaN\n25              Владельцы    int64 != object           Владельцы\n26               Владение  float64 != object            Владение\n32                    NaN      nan != object             car_url\n33                    NaN       nan != int64             sell_id",
      "text/html": "<div>\n<style scoped>\n    .dataframe tbody tr th:only-of-type {\n        vertical-align: middle;\n    }\n\n    .dataframe tbody tr th {\n        vertical-align: top;\n    }\n\n    .dataframe thead th {\n        text-align: right;\n    }\n</style>\n<table border=\"1\" class=\"dataframe\">\n  <thead>\n    <tr style=\"text-align: right;\">\n      <th></th>\n      <th>feature_train</th>\n      <th>divergences</th>\n      <th>feature_test</th>\n    </tr>\n    <tr>\n      <th>index</th>\n      <th></th>\n      <th></th>\n      <th></th>\n    </tr>\n  </thead>\n  <tbody>\n    <tr>\n      <th>0</th>\n      <td>Unnamed: 0</td>\n      <td>int64 != nan</td>\n      <td>NaN</td>\n    </tr>\n    <tr>\n      <th>6</th>\n      <td>engineDisplacement</td>\n      <td>float64 != object</td>\n      <td>engineDisplacement</td>\n    </tr>\n    <tr>\n      <th>7</th>\n      <td>enginePower</td>\n      <td>int64 != object</td>\n      <td>enginePower</td>\n    </tr>\n    <tr>\n      <th>18</th>\n      <td>price</td>\n      <td>int64 != nan</td>\n      <td>NaN</td>\n    </tr>\n    <tr>\n      <th>25</th>\n      <td>Владельцы</td>\n      <td>int64 != object</td>\n      <td>Владельцы</td>\n    </tr>\n    <tr>\n      <th>26</th>\n      <td>Владение</td>\n      <td>float64 != object</td>\n      <td>Владение</td>\n    </tr>\n    <tr>\n      <th>32</th>\n      <td>NaN</td>\n      <td>nan != object</td>\n      <td>car_url</td>\n    </tr>\n    <tr>\n      <th>33</th>\n      <td>NaN</td>\n      <td>nan != int64</td>\n      <td>sell_id</td>\n    </tr>\n  </tbody>\n</table>\n</div>"
     },
     "metadata": {},
     "output_type": "display_data"
    }
   ]
  },
  {
   "cell_type": "code",
   "source": "#the feature Unnamed: 0 isn't in test dataset.\n# Unnamed column has no information\ntrain.drop(['Unnamed: 0'], axis = 1, inplace=True)",
   "metadata": {
    "execution": {
     "iopub.status.busy": "2021-09-03T20:45:24.815500Z",
     "iopub.execute_input": "2021-09-03T20:45:24.815946Z",
     "iopub.status.idle": "2021-09-03T20:45:24.855645Z",
     "shell.execute_reply.started": "2021-09-03T20:45:24.815900Z",
     "shell.execute_reply": "2021-09-03T20:45:24.854434Z"
    },
    "trusted": true
   },
   "execution_count": 17,
   "outputs": []
  },
  {
   "cell_type": "code",
   "source": "#in train dataset are not the features 'sell_id','car_url'.\n#meaning that they don't have any useful for our model information\n#drop these features\ntest.drop(['sell_id','car_url'], axis = 1, inplace=True)",
   "metadata": {
    "execution": {
     "iopub.status.busy": "2021-09-03T20:45:24.857449Z",
     "iopub.execute_input": "2021-09-03T20:45:24.857785Z",
     "iopub.status.idle": "2021-09-03T20:45:24.884412Z",
     "shell.execute_reply.started": "2021-09-03T20:45:24.857751Z",
     "shell.execute_reply": "2021-09-03T20:45:24.883105Z"
    },
    "trusted": true
   },
   "execution_count": 18,
   "outputs": []
  },
  {
   "cell_type": "code",
   "source": "test['price'] = float(0)",
   "metadata": {
    "execution": {
     "iopub.status.busy": "2021-09-03T20:45:24.886503Z",
     "iopub.execute_input": "2021-09-03T20:45:24.886841Z",
     "iopub.status.idle": "2021-09-03T20:45:24.893234Z",
     "shell.execute_reply.started": "2021-09-03T20:45:24.886807Z",
     "shell.execute_reply": "2021-09-03T20:45:24.892028Z"
    },
    "trusted": true
   },
   "execution_count": 19,
   "outputs": []
  },
  {
   "cell_type": "code",
   "source": "train['price'] = train.price.astype(float)",
   "metadata": {
    "execution": {
     "iopub.status.busy": "2021-09-03T20:45:24.895219Z",
     "iopub.execute_input": "2021-09-03T20:45:24.895630Z",
     "iopub.status.idle": "2021-09-03T20:45:24.911226Z",
     "shell.execute_reply.started": "2021-09-03T20:45:24.895587Z",
     "shell.execute_reply": "2021-09-03T20:45:24.908764Z"
    },
    "trusted": true
   },
   "execution_count": 20,
   "outputs": []
  },
  {
   "cell_type": "markdown",
   "source": "\n* assign for the testing dataset as 'sample' = 0\n* assign for the training dataset as 'sample' = 1",
   "metadata": {}
  },
  {
   "cell_type": "code",
   "source": "test['sample'] = 0\ntrain['sample'] = 1\nprint(f'The training dataset with {train.shape} and testing dataset with {test.shape} can be combined')",
   "metadata": {
    "papermill": {
     "duration": 0.08168,
     "end_time": "2020-10-26T12:48:14.435554",
     "exception": false,
     "start_time": "2020-10-26T12:48:14.353874",
     "status": "completed"
    },
    "tags": [],
    "execution": {
     "iopub.status.busy": "2021-09-03T20:45:24.913605Z",
     "iopub.execute_input": "2021-09-03T20:45:24.914095Z",
     "iopub.status.idle": "2021-09-03T20:45:24.928807Z",
     "shell.execute_reply.started": "2021-09-03T20:45:24.914046Z",
     "shell.execute_reply": "2021-09-03T20:45:24.927392Z"
    },
    "trusted": true
   },
   "execution_count": 21,
   "outputs": [
    {
     "name": "stdout",
     "output_type": "stream",
     "text": [
      "The training dataset with (59762, 32) and testing dataset with (34686, 32) can be combined\n"
     ]
    }
   ]
  },
  {
   "cell_type": "code",
   "source": "# comparison of training and test datasets\ncheck_df_before_merg(train, test)",
   "metadata": {
    "execution": {
     "iopub.status.busy": "2021-09-03T20:45:24.931837Z",
     "iopub.execute_input": "2021-09-03T20:45:24.932356Z",
     "iopub.status.idle": "2021-09-03T20:45:24.996369Z",
     "shell.execute_reply.started": "2021-09-03T20:45:24.932293Z",
     "shell.execute_reply": "2021-09-03T20:45:24.994940Z"
    },
    "trusted": true
   },
   "execution_count": 22,
   "outputs": [
    {
     "data": {
      "text/plain": "           feature_train type_train  \\\n0               bodyType     object   \n1                  brand     object   \n2                  color     object   \n3     complectation_dict     object   \n4            description     object   \n5     engineDisplacement    float64   \n6            enginePower      int64   \n7         equipment_dict     object   \n8               fuelType     object   \n9                  image     object   \n10               mileage      int64   \n11             modelDate      int64   \n12            model_info     object   \n13            model_name     object   \n14                  name     object   \n15         numberOfDoors      int64   \n16      parsing_unixtime      int64   \n17                 price    float64   \n18         priceCurrency     object   \n19        productionDate      int64   \n20             super_gen     object   \n21  vehicleConfiguration     object   \n22   vehicleTransmission     object   \n23                vendor     object   \n24             Владельцы      int64   \n25              Владение    float64   \n26                   ПТС     object   \n27                Привод     object   \n28                  Руль     object   \n29             Состояние     object   \n30               Таможня     object   \n31                sample      int64   \n\n                                         sample_train  < - >  \\\n0                                       хэтчбек 5 дв.  | - |   \n1                                          ALFA_ROMEO  | - |   \n2                                               белый  | - |   \n3                                         {'id': '0'}  | - |   \n4   РОЛЬФ Алтуфьево — это целых 30 лет успешной по...  | - |   \n5                                                 1.4  | - |   \n6                                                 170  | - |   \n7   {'cruise-control': True, 'asr': True, 'esp': T...  | - |   \n8                                              бензин  | - |   \n9   //avatars.mds.yandex.net/get-autoru-vos/392674...  | - |   \n10                                              42500  | - |   \n11                                               2010  | - |   \n12  {'code': 'GIULIETTA', 'name': 'Giulietta', 'ru...  | - |   \n13                                          Giulietta  | - |   \n14                                 1.4 AMT (170 л.с.)  | - |   \n15                                                  5  | - |   \n16                                         1629806291  | - |   \n17                                          1300000.0  | - |   \n18                                                RUR  | - |   \n19                                               2014  | - |   \n20  {'id': '8484175', 'name': 'III', 'ru_name': '3...  | - |   \n21  1.4 AMT (170 л.с.), хэтчбек 5 дв., передний, б...  | - |   \n22                                           вариатор  | - |   \n23                                           EUROPEAN  | - |   \n24                                                  1  | - |   \n25                                               12.0  | - |   \n26                                           Оригинал  | - |   \n27                                           передний  | - |   \n28                                              Левый  | - |   \n29                                 Не требует ремонта  | - |   \n30                                         Растаможен  | - |   \n31                                                  1  | - |   \n\n            feature_test type_test  \\\n0               bodyType    object   \n1                  brand    object   \n2                  color    object   \n3     complectation_dict    object   \n4            description    object   \n5     engineDisplacement    object   \n6            enginePower    object   \n7         equipment_dict    object   \n8               fuelType    object   \n9                  image    object   \n10               mileage     int64   \n11             modelDate     int64   \n12            model_info    object   \n13            model_name    object   \n14                  name    object   \n15         numberOfDoors     int64   \n16      parsing_unixtime     int64   \n17                 price   float64   \n18         priceCurrency    object   \n19        productionDate     int64   \n20             super_gen    object   \n21  vehicleConfiguration    object   \n22   vehicleTransmission    object   \n23                vendor    object   \n24             Владельцы    object   \n25              Владение    object   \n26                   ПТС    object   \n27                Привод    object   \n28                  Руль    object   \n29             Состояние    object   \n30               Таможня    object   \n31                sample     int64   \n\n                                          sample_test  \n0                                             лифтбек  \n1                                               SKODA  \n2                                               серый  \n3   {\"id\":\"5011515\",\"name\":\"RS\",\"available_options...  \n4   Продаю свой автомобиль! Автомобиль полностью и...  \n5                                             2.0 LTR  \n6                                             200 N12  \n7   {\"cruise-control\":true,\"tinted-glass\":true,\"es...  \n8                                              бензин  \n9   https://avatars.mds.yandex.net/get-autoru-vos/...  \n10                                             172000  \n11                                               2008  \n12  {\"code\":\"OCTAVIA_RS\",\"name\":\"Octavia RS\",\"ru_n...  \n13                                         OCTAVIA_RS  \n14                                 2.0 AMT (200 л.с.)  \n15                                                  5  \n16                                         1603226291  \n17                                                0.0  \n18                                                RUB  \n19                                               2012  \n20  {\"id\":\"5009158\",\"displacement\":1984,\"engine_ty...  \n21                                 LIFTBACK ROBOT 2.0  \n22                                   роботизированная  \n23                                           EUROPEAN  \n24                                        3 или более  \n25                                                NaN  \n26                                           Оригинал  \n27                                           передний  \n28                                              Левый  \n29                                 Не требует ремонта  \n30                                         Растаможен  \n31                                                  0  ",
      "text/html": "<div>\n<style scoped>\n    .dataframe tbody tr th:only-of-type {\n        vertical-align: middle;\n    }\n\n    .dataframe tbody tr th {\n        vertical-align: top;\n    }\n\n    .dataframe thead th {\n        text-align: right;\n    }\n</style>\n<table border=\"1\" class=\"dataframe\">\n  <thead>\n    <tr style=\"text-align: right;\">\n      <th></th>\n      <th>feature_train</th>\n      <th>type_train</th>\n      <th>sample_train</th>\n      <th>&lt; - &gt;</th>\n      <th>feature_test</th>\n      <th>type_test</th>\n      <th>sample_test</th>\n    </tr>\n  </thead>\n  <tbody>\n    <tr>\n      <th>0</th>\n      <td>bodyType</td>\n      <td>object</td>\n      <td>хэтчбек 5 дв.</td>\n      <td>| - |</td>\n      <td>bodyType</td>\n      <td>object</td>\n      <td>лифтбек</td>\n    </tr>\n    <tr>\n      <th>1</th>\n      <td>brand</td>\n      <td>object</td>\n      <td>ALFA_ROMEO</td>\n      <td>| - |</td>\n      <td>brand</td>\n      <td>object</td>\n      <td>SKODA</td>\n    </tr>\n    <tr>\n      <th>2</th>\n      <td>color</td>\n      <td>object</td>\n      <td>белый</td>\n      <td>| - |</td>\n      <td>color</td>\n      <td>object</td>\n      <td>серый</td>\n    </tr>\n    <tr>\n      <th>3</th>\n      <td>complectation_dict</td>\n      <td>object</td>\n      <td>{'id': '0'}</td>\n      <td>| - |</td>\n      <td>complectation_dict</td>\n      <td>object</td>\n      <td>{\"id\":\"5011515\",\"name\":\"RS\",\"available_options...</td>\n    </tr>\n    <tr>\n      <th>4</th>\n      <td>description</td>\n      <td>object</td>\n      <td>РОЛЬФ Алтуфьево — это целых 30 лет успешной по...</td>\n      <td>| - |</td>\n      <td>description</td>\n      <td>object</td>\n      <td>Продаю свой автомобиль! Автомобиль полностью и...</td>\n    </tr>\n    <tr>\n      <th>5</th>\n      <td>engineDisplacement</td>\n      <td>float64</td>\n      <td>1.4</td>\n      <td>| - |</td>\n      <td>engineDisplacement</td>\n      <td>object</td>\n      <td>2.0 LTR</td>\n    </tr>\n    <tr>\n      <th>6</th>\n      <td>enginePower</td>\n      <td>int64</td>\n      <td>170</td>\n      <td>| - |</td>\n      <td>enginePower</td>\n      <td>object</td>\n      <td>200 N12</td>\n    </tr>\n    <tr>\n      <th>7</th>\n      <td>equipment_dict</td>\n      <td>object</td>\n      <td>{'cruise-control': True, 'asr': True, 'esp': T...</td>\n      <td>| - |</td>\n      <td>equipment_dict</td>\n      <td>object</td>\n      <td>{\"cruise-control\":true,\"tinted-glass\":true,\"es...</td>\n    </tr>\n    <tr>\n      <th>8</th>\n      <td>fuelType</td>\n      <td>object</td>\n      <td>бензин</td>\n      <td>| - |</td>\n      <td>fuelType</td>\n      <td>object</td>\n      <td>бензин</td>\n    </tr>\n    <tr>\n      <th>9</th>\n      <td>image</td>\n      <td>object</td>\n      <td>//avatars.mds.yandex.net/get-autoru-vos/392674...</td>\n      <td>| - |</td>\n      <td>image</td>\n      <td>object</td>\n      <td>https://avatars.mds.yandex.net/get-autoru-vos/...</td>\n    </tr>\n    <tr>\n      <th>10</th>\n      <td>mileage</td>\n      <td>int64</td>\n      <td>42500</td>\n      <td>| - |</td>\n      <td>mileage</td>\n      <td>int64</td>\n      <td>172000</td>\n    </tr>\n    <tr>\n      <th>11</th>\n      <td>modelDate</td>\n      <td>int64</td>\n      <td>2010</td>\n      <td>| - |</td>\n      <td>modelDate</td>\n      <td>int64</td>\n      <td>2008</td>\n    </tr>\n    <tr>\n      <th>12</th>\n      <td>model_info</td>\n      <td>object</td>\n      <td>{'code': 'GIULIETTA', 'name': 'Giulietta', 'ru...</td>\n      <td>| - |</td>\n      <td>model_info</td>\n      <td>object</td>\n      <td>{\"code\":\"OCTAVIA_RS\",\"name\":\"Octavia RS\",\"ru_n...</td>\n    </tr>\n    <tr>\n      <th>13</th>\n      <td>model_name</td>\n      <td>object</td>\n      <td>Giulietta</td>\n      <td>| - |</td>\n      <td>model_name</td>\n      <td>object</td>\n      <td>OCTAVIA_RS</td>\n    </tr>\n    <tr>\n      <th>14</th>\n      <td>name</td>\n      <td>object</td>\n      <td>1.4 AMT (170 л.с.)</td>\n      <td>| - |</td>\n      <td>name</td>\n      <td>object</td>\n      <td>2.0 AMT (200 л.с.)</td>\n    </tr>\n    <tr>\n      <th>15</th>\n      <td>numberOfDoors</td>\n      <td>int64</td>\n      <td>5</td>\n      <td>| - |</td>\n      <td>numberOfDoors</td>\n      <td>int64</td>\n      <td>5</td>\n    </tr>\n    <tr>\n      <th>16</th>\n      <td>parsing_unixtime</td>\n      <td>int64</td>\n      <td>1629806291</td>\n      <td>| - |</td>\n      <td>parsing_unixtime</td>\n      <td>int64</td>\n      <td>1603226291</td>\n    </tr>\n    <tr>\n      <th>17</th>\n      <td>price</td>\n      <td>float64</td>\n      <td>1300000.0</td>\n      <td>| - |</td>\n      <td>price</td>\n      <td>float64</td>\n      <td>0.0</td>\n    </tr>\n    <tr>\n      <th>18</th>\n      <td>priceCurrency</td>\n      <td>object</td>\n      <td>RUR</td>\n      <td>| - |</td>\n      <td>priceCurrency</td>\n      <td>object</td>\n      <td>RUB</td>\n    </tr>\n    <tr>\n      <th>19</th>\n      <td>productionDate</td>\n      <td>int64</td>\n      <td>2014</td>\n      <td>| - |</td>\n      <td>productionDate</td>\n      <td>int64</td>\n      <td>2012</td>\n    </tr>\n    <tr>\n      <th>20</th>\n      <td>super_gen</td>\n      <td>object</td>\n      <td>{'id': '8484175', 'name': 'III', 'ru_name': '3...</td>\n      <td>| - |</td>\n      <td>super_gen</td>\n      <td>object</td>\n      <td>{\"id\":\"5009158\",\"displacement\":1984,\"engine_ty...</td>\n    </tr>\n    <tr>\n      <th>21</th>\n      <td>vehicleConfiguration</td>\n      <td>object</td>\n      <td>1.4 AMT (170 л.с.), хэтчбек 5 дв., передний, б...</td>\n      <td>| - |</td>\n      <td>vehicleConfiguration</td>\n      <td>object</td>\n      <td>LIFTBACK ROBOT 2.0</td>\n    </tr>\n    <tr>\n      <th>22</th>\n      <td>vehicleTransmission</td>\n      <td>object</td>\n      <td>вариатор</td>\n      <td>| - |</td>\n      <td>vehicleTransmission</td>\n      <td>object</td>\n      <td>роботизированная</td>\n    </tr>\n    <tr>\n      <th>23</th>\n      <td>vendor</td>\n      <td>object</td>\n      <td>EUROPEAN</td>\n      <td>| - |</td>\n      <td>vendor</td>\n      <td>object</td>\n      <td>EUROPEAN</td>\n    </tr>\n    <tr>\n      <th>24</th>\n      <td>Владельцы</td>\n      <td>int64</td>\n      <td>1</td>\n      <td>| - |</td>\n      <td>Владельцы</td>\n      <td>object</td>\n      <td>3 или более</td>\n    </tr>\n    <tr>\n      <th>25</th>\n      <td>Владение</td>\n      <td>float64</td>\n      <td>12.0</td>\n      <td>| - |</td>\n      <td>Владение</td>\n      <td>object</td>\n      <td>NaN</td>\n    </tr>\n    <tr>\n      <th>26</th>\n      <td>ПТС</td>\n      <td>object</td>\n      <td>Оригинал</td>\n      <td>| - |</td>\n      <td>ПТС</td>\n      <td>object</td>\n      <td>Оригинал</td>\n    </tr>\n    <tr>\n      <th>27</th>\n      <td>Привод</td>\n      <td>object</td>\n      <td>передний</td>\n      <td>| - |</td>\n      <td>Привод</td>\n      <td>object</td>\n      <td>передний</td>\n    </tr>\n    <tr>\n      <th>28</th>\n      <td>Руль</td>\n      <td>object</td>\n      <td>Левый</td>\n      <td>| - |</td>\n      <td>Руль</td>\n      <td>object</td>\n      <td>Левый</td>\n    </tr>\n    <tr>\n      <th>29</th>\n      <td>Состояние</td>\n      <td>object</td>\n      <td>Не требует ремонта</td>\n      <td>| - |</td>\n      <td>Состояние</td>\n      <td>object</td>\n      <td>Не требует ремонта</td>\n    </tr>\n    <tr>\n      <th>30</th>\n      <td>Таможня</td>\n      <td>object</td>\n      <td>Растаможен</td>\n      <td>| - |</td>\n      <td>Таможня</td>\n      <td>object</td>\n      <td>Растаможен</td>\n    </tr>\n    <tr>\n      <th>31</th>\n      <td>sample</td>\n      <td>int64</td>\n      <td>1</td>\n      <td>| - |</td>\n      <td>sample</td>\n      <td>int64</td>\n      <td>0</td>\n    </tr>\n  </tbody>\n</table>\n</div>"
     },
     "metadata": {},
     "output_type": "display_data"
    },
    {
     "name": "stdout",
     "output_type": "stream",
     "text": [
      "The data types are different in 4 columns\n",
      "\n"
     ]
    },
    {
     "data": {
      "text/plain": "            feature_train        divergences        feature_test\nindex                                                           \n5      engineDisplacement  float64 != object  engineDisplacement\n6             enginePower    int64 != object         enginePower\n24              Владельцы    int64 != object           Владельцы\n25               Владение  float64 != object            Владение",
      "text/html": "<div>\n<style scoped>\n    .dataframe tbody tr th:only-of-type {\n        vertical-align: middle;\n    }\n\n    .dataframe tbody tr th {\n        vertical-align: top;\n    }\n\n    .dataframe thead th {\n        text-align: right;\n    }\n</style>\n<table border=\"1\" class=\"dataframe\">\n  <thead>\n    <tr style=\"text-align: right;\">\n      <th></th>\n      <th>feature_train</th>\n      <th>divergences</th>\n      <th>feature_test</th>\n    </tr>\n    <tr>\n      <th>index</th>\n      <th></th>\n      <th></th>\n      <th></th>\n    </tr>\n  </thead>\n  <tbody>\n    <tr>\n      <th>5</th>\n      <td>engineDisplacement</td>\n      <td>float64 != object</td>\n      <td>engineDisplacement</td>\n    </tr>\n    <tr>\n      <th>6</th>\n      <td>enginePower</td>\n      <td>int64 != object</td>\n      <td>enginePower</td>\n    </tr>\n    <tr>\n      <th>24</th>\n      <td>Владельцы</td>\n      <td>int64 != object</td>\n      <td>Владельцы</td>\n    </tr>\n    <tr>\n      <th>25</th>\n      <td>Владение</td>\n      <td>float64 != object</td>\n      <td>Владение</td>\n    </tr>\n  </tbody>\n</table>\n</div>"
     },
     "metadata": {},
     "output_type": "display_data"
    }
   ]
  },
  {
   "cell_type": "code",
   "source": "# Merging\ndf = test.append(train, sort=False).reset_index(drop=True)\nprint(f'the shape of the merged dataset is {df.shape}')",
   "metadata": {
    "papermill": {
     "duration": 0.080788,
     "end_time": "2020-10-26T12:48:14.596978",
     "exception": false,
     "start_time": "2020-10-26T12:48:14.51619",
     "status": "completed"
    },
    "tags": [],
    "execution": {
     "iopub.status.busy": "2021-09-03T20:45:24.998753Z",
     "iopub.execute_input": "2021-09-03T20:45:24.999236Z",
     "iopub.status.idle": "2021-09-03T20:45:25.181823Z",
     "shell.execute_reply.started": "2021-09-03T20:45:24.999187Z",
     "shell.execute_reply": "2021-09-03T20:45:25.180840Z"
    },
    "trusted": true
   },
   "execution_count": 23,
   "outputs": [
    {
     "name": "stdout",
     "output_type": "stream",
     "text": [
      "the shape of the merged dataset is (94448, 32)\n"
     ]
    }
   ]
  },
  {
   "cell_type": "code",
   "source": "df.sample(2)",
   "metadata": {
    "execution": {
     "iopub.status.busy": "2021-09-03T20:45:25.183143Z",
     "iopub.execute_input": "2021-09-03T20:45:25.183545Z",
     "iopub.status.idle": "2021-09-03T20:45:25.322254Z",
     "shell.execute_reply.started": "2021-09-03T20:45:25.183508Z",
     "shell.execute_reply": "2021-09-03T20:45:25.321033Z"
    },
    "trusted": true
   },
   "execution_count": 24,
   "outputs": [
    {
     "data": {
      "text/plain": "                bodyType   brand   color complectation_dict  \\\n19267         компактвэн  TOYOTA   серый                NaN   \n32592  внедорожник 5 дв.  NISSAN  чёрный                NaN   \n\n                                             description engineDisplacement  \\\n19267  Безопасность: 6. Салон: 5. Мультимедиа: 2. Ком...            1.8 LTR   \n32592  Преимущества этого автомобиля:\\n*ПРОИЗВЕДЕНА П...            2.5 LTR   \n\n      enginePower                                     equipment_dict fuelType  \\\n19267     147 N12  {\"airbag-rear-side\":true,\"asr\":true,\"leather-g...   бензин   \n32592     170 N12  {\"adaptive-light\":true,\"isofix\":true,\"electro-...   бензин   \n\n                                                   image  mileage  modelDate  \\\n19267  https://autoru.naydex.net/LxPU17803/f5b8d77S/u...   132032       2009   \n32592  https://autoru.naydex.net/1xsMU7627/eea2057RFg...    91000       2010   \n\n                                              model_info model_name  \\\n19267  {\"code\":\"VERSO\",\"name\":\"Verso\",\"ru_name\":\"Верс...      VERSO   \n32592  {\"code\":\"X_TRAIL\",\"name\":\"X-Trail\",\"ru_name\":\"...    X_TRAIL   \n\n                         name  numberOfDoors  parsing_unixtime priceCurrency  \\\n19267      1.8 CVT (147 л.с.)              5        1603287257           RUB   \n32592  2.5 CVT (170 л.с.) 4WD              5        1603603913           RUB   \n\n       productionDate                                          super_gen  \\\n19267            2010  {\"id\":\"20389524\",\"displacement\":1798,\"engine_t...   \n32592            2012  {\"id\":\"21117554\",\"displacement\":2488,\"engine_t...   \n\n               vehicleConfiguration vehicleTransmission    vendor  \\\n19267       COMPACTVAN VARIATOR 1.8            вариатор  JAPANESE   \n32592  ALLROAD_5_DOORS VARIATOR 2.5            вариатор  JAPANESE   \n\n         Владельцы Владение       ПТС    Привод   Руль           Состояние  \\\n19267  3 или более      NaN  Оригинал  передний  Левый  Не требует ремонта   \n32592  2 владельца      NaN  Оригинал    полный  Левый  Не требует ремонта   \n\n          Таможня  price  sample  \n19267  Растаможен    0.0       0  \n32592  Растаможен    0.0       0  ",
      "text/html": "<div>\n<style scoped>\n    .dataframe tbody tr th:only-of-type {\n        vertical-align: middle;\n    }\n\n    .dataframe tbody tr th {\n        vertical-align: top;\n    }\n\n    .dataframe thead th {\n        text-align: right;\n    }\n</style>\n<table border=\"1\" class=\"dataframe\">\n  <thead>\n    <tr style=\"text-align: right;\">\n      <th></th>\n      <th>bodyType</th>\n      <th>brand</th>\n      <th>color</th>\n      <th>complectation_dict</th>\n      <th>description</th>\n      <th>engineDisplacement</th>\n      <th>enginePower</th>\n      <th>equipment_dict</th>\n      <th>fuelType</th>\n      <th>image</th>\n      <th>mileage</th>\n      <th>modelDate</th>\n      <th>model_info</th>\n      <th>model_name</th>\n      <th>name</th>\n      <th>numberOfDoors</th>\n      <th>parsing_unixtime</th>\n      <th>priceCurrency</th>\n      <th>productionDate</th>\n      <th>super_gen</th>\n      <th>vehicleConfiguration</th>\n      <th>vehicleTransmission</th>\n      <th>vendor</th>\n      <th>Владельцы</th>\n      <th>Владение</th>\n      <th>ПТС</th>\n      <th>Привод</th>\n      <th>Руль</th>\n      <th>Состояние</th>\n      <th>Таможня</th>\n      <th>price</th>\n      <th>sample</th>\n    </tr>\n  </thead>\n  <tbody>\n    <tr>\n      <th>19267</th>\n      <td>компактвэн</td>\n      <td>TOYOTA</td>\n      <td>серый</td>\n      <td>NaN</td>\n      <td>Безопасность: 6. Салон: 5. Мультимедиа: 2. Ком...</td>\n      <td>1.8 LTR</td>\n      <td>147 N12</td>\n      <td>{\"airbag-rear-side\":true,\"asr\":true,\"leather-g...</td>\n      <td>бензин</td>\n      <td>https://autoru.naydex.net/LxPU17803/f5b8d77S/u...</td>\n      <td>132032</td>\n      <td>2009</td>\n      <td>{\"code\":\"VERSO\",\"name\":\"Verso\",\"ru_name\":\"Верс...</td>\n      <td>VERSO</td>\n      <td>1.8 CVT (147 л.с.)</td>\n      <td>5</td>\n      <td>1603287257</td>\n      <td>RUB</td>\n      <td>2010</td>\n      <td>{\"id\":\"20389524\",\"displacement\":1798,\"engine_t...</td>\n      <td>COMPACTVAN VARIATOR 1.8</td>\n      <td>вариатор</td>\n      <td>JAPANESE</td>\n      <td>3 или более</td>\n      <td>NaN</td>\n      <td>Оригинал</td>\n      <td>передний</td>\n      <td>Левый</td>\n      <td>Не требует ремонта</td>\n      <td>Растаможен</td>\n      <td>0.0</td>\n      <td>0</td>\n    </tr>\n    <tr>\n      <th>32592</th>\n      <td>внедорожник 5 дв.</td>\n      <td>NISSAN</td>\n      <td>чёрный</td>\n      <td>NaN</td>\n      <td>Преимущества этого автомобиля:\\n*ПРОИЗВЕДЕНА П...</td>\n      <td>2.5 LTR</td>\n      <td>170 N12</td>\n      <td>{\"adaptive-light\":true,\"isofix\":true,\"electro-...</td>\n      <td>бензин</td>\n      <td>https://autoru.naydex.net/1xsMU7627/eea2057RFg...</td>\n      <td>91000</td>\n      <td>2010</td>\n      <td>{\"code\":\"X_TRAIL\",\"name\":\"X-Trail\",\"ru_name\":\"...</td>\n      <td>X_TRAIL</td>\n      <td>2.5 CVT (170 л.с.) 4WD</td>\n      <td>5</td>\n      <td>1603603913</td>\n      <td>RUB</td>\n      <td>2012</td>\n      <td>{\"id\":\"21117554\",\"displacement\":2488,\"engine_t...</td>\n      <td>ALLROAD_5_DOORS VARIATOR 2.5</td>\n      <td>вариатор</td>\n      <td>JAPANESE</td>\n      <td>2 владельца</td>\n      <td>NaN</td>\n      <td>Оригинал</td>\n      <td>полный</td>\n      <td>Левый</td>\n      <td>Не требует ремонта</td>\n      <td>Растаможен</td>\n      <td>0.0</td>\n      <td>0</td>\n    </tr>\n  </tbody>\n</table>\n</div>"
     },
     "execution_count": 24,
     "metadata": {},
     "output_type": "execute_result"
    }
   ]
  },
  {
   "cell_type": "markdown",
   "source": "# 2. Data cleaning and Exploratory Data Analysis (EDA)\n",
   "metadata": {
    "execution": {
     "iopub.status.busy": "2021-08-30T07:02:10.250655Z",
     "iopub.execute_input": "2021-08-30T07:02:10.251219Z",
     "iopub.status.idle": "2021-08-30T07:02:10.256091Z",
     "shell.execute_reply.started": "2021-08-30T07:02:10.251169Z",
     "shell.execute_reply": "2021-08-30T07:02:10.254908Z"
    }
   }
  },
  {
   "cell_type": "markdown",
   "source": "## 2.1 Pandas profiling analyse",
   "metadata": {}
  },
  {
   "cell_type": "code",
   "source": "#pandas_profiling.ProfileReport(df)",
   "metadata": {
    "execution": {
     "iopub.status.busy": "2021-09-03T20:45:25.323857Z",
     "iopub.execute_input": "2021-09-03T20:45:25.324202Z",
     "iopub.status.idle": "2021-09-03T20:45:25.329375Z",
     "shell.execute_reply.started": "2021-09-03T20:45:25.324166Z",
     "shell.execute_reply": "2021-09-03T20:45:25.328141Z"
    },
    "trusted": true
   },
   "execution_count": 25,
   "outputs": []
  },
  {
   "cell_type": "markdown",
   "source": "#### Profiling summary\n* _30 not treated features in the dataset:_\n    * _CAT\t21_\n    * _NUM\t6_\n    * _UNSUPPORTED\t4_ \n    * _BOOL\t1_\n* _Missing cells (%)\t2.2%_\n* _Duplicate rows (%)\t0.0%_\n* _'Состояние','Таможня','priceCurrency',  are constant values and there is no sense for any further treatment._ _They are being droped._\n* _'car url' can give no information directly and doesn't matter for the prediction model._\n* _'image' can give no information directla and doesn'matter for the prediction model._\n* _'super gen' contains a lot of technical information, however the test data set doesn't contain the data in the feature._\n* _'sell id' doesn't contain any useful information._\n* _'vehicleConfiguration' duplicates the information are provided by other features._\n* _'description' doesn't contains useful information._\n* _'model info duplicates the information are provided by other features._\n* _'equipment_dict' and 'complectation_dict' have a similar data and can be merged._",
   "metadata": {}
  },
  {
   "cell_type": "markdown",
   "source": "## 2.2 Features analysis",
   "metadata": {}
  },
  {
   "cell_type": "code",
   "source": "df.columns",
   "metadata": {
    "execution": {
     "iopub.status.busy": "2021-09-03T20:45:25.330875Z",
     "iopub.execute_input": "2021-09-03T20:45:25.331266Z",
     "iopub.status.idle": "2021-09-03T20:45:25.347275Z",
     "shell.execute_reply.started": "2021-09-03T20:45:25.331232Z",
     "shell.execute_reply": "2021-09-03T20:45:25.345430Z"
    },
    "trusted": true
   },
   "execution_count": 26,
   "outputs": [
    {
     "data": {
      "text/plain": "Index(['bodyType', 'brand', 'color', 'complectation_dict', 'description',\n       'engineDisplacement', 'enginePower', 'equipment_dict', 'fuelType',\n       'image', 'mileage', 'modelDate', 'model_info', 'model_name', 'name',\n       'numberOfDoors', 'parsing_unixtime', 'priceCurrency', 'productionDate',\n       'super_gen', 'vehicleConfiguration', 'vehicleTransmission', 'vendor',\n       'Владельцы', 'Владение', 'ПТС', 'Привод', 'Руль', 'Состояние',\n       'Таможня', 'price', 'sample'],\n      dtype='object')"
     },
     "execution_count": 26,
     "metadata": {},
     "output_type": "execute_result"
    }
   ]
  },
  {
   "cell_type": "code",
   "source": "# droping the useless features\ndf.drop(['Состояние', 'Таможня', 'priceCurrency', 'image', 'super_gen',\n         'vehicleConfiguration', 'description', 'model_info', 'parsing_unixtime'], axis = 1, inplace=True)",
   "metadata": {
    "execution": {
     "iopub.status.busy": "2021-09-03T20:45:25.349304Z",
     "iopub.execute_input": "2021-09-03T20:45:25.349680Z",
     "iopub.status.idle": "2021-09-03T20:45:25.393203Z",
     "shell.execute_reply.started": "2021-09-03T20:45:25.349646Z",
     "shell.execute_reply": "2021-09-03T20:45:25.391713Z"
    },
    "trusted": true
   },
   "execution_count": 27,
   "outputs": []
  },
  {
   "cell_type": "code",
   "source": "df.shape",
   "metadata": {
    "execution": {
     "iopub.status.busy": "2021-09-03T20:45:25.397783Z",
     "iopub.execute_input": "2021-09-03T20:45:25.398173Z",
     "iopub.status.idle": "2021-09-03T20:45:25.411507Z",
     "shell.execute_reply.started": "2021-09-03T20:45:25.398132Z",
     "shell.execute_reply": "2021-09-03T20:45:25.408817Z"
    },
    "trusted": true
   },
   "execution_count": 28,
   "outputs": [
    {
     "data": {
      "text/plain": "(94448, 23)"
     },
     "execution_count": 28,
     "metadata": {},
     "output_type": "execute_result"
    }
   ]
  },
  {
   "cell_type": "markdown",
   "source": "### 2.2.1 bodyType",
   "metadata": {}
  },
  {
   "cell_type": "code",
   "source": "#show the feature's info\ncat_feature_overview(df.bodyType)",
   "metadata": {
    "execution": {
     "iopub.status.busy": "2021-09-03T20:45:25.413660Z",
     "iopub.execute_input": "2021-09-03T20:45:25.414035Z",
     "iopub.status.idle": "2021-09-03T20:45:25.969939Z",
     "shell.execute_reply.started": "2021-09-03T20:45:25.414000Z",
     "shell.execute_reply": "2021-09-03T20:45:25.968575Z"
    },
    "trusted": true
   },
   "execution_count": 29,
   "outputs": [
    {
     "name": "stdout",
     "output_type": "stream",
     "text": [
      "Total lines: 94448\n",
      "Data types: object\n",
      "Total values: 94447\n",
      "The most frequent value: седан\n",
      "The less frequent value: фастбек\n",
      "Unique values: 25\n",
      "Missing values: 1\n"
     ]
    },
    {
     "data": {
      "text/plain": "<Figure size 432x288 with 1 Axes>",
      "image/png": "[encoded data removed]"
     },
     "metadata": {
      "needs_background": "light"
     },
     "output_type": "display_data"
    }
   ]
  },
  {
   "cell_type": "code",
   "source": "#filling up by mode\ndf['bodyType'] = df.bodyType.fillna(df.bodyType.value_counts(sort=True).keys()[0])",
   "metadata": {
    "execution": {
     "iopub.status.busy": "2021-09-03T20:45:25.972588Z",
     "iopub.execute_input": "2021-09-03T20:45:25.973140Z",
     "iopub.status.idle": "2021-09-03T20:45:26.019759Z",
     "shell.execute_reply.started": "2021-09-03T20:45:25.973089Z",
     "shell.execute_reply": "2021-09-03T20:45:26.018766Z"
    },
    "trusted": true
   },
   "execution_count": 30,
   "outputs": []
  },
  {
   "cell_type": "code",
   "source": "#Dropping the bodyTypes features that are not in the test dataset\ntest_bodyType_lst = test.bodyType.value_counts().keys()\ndf = df[(df['bodyType'].isin(test_bodyType_lst))]\ndf.shape",
   "metadata": {
    "execution": {
     "iopub.status.busy": "2021-09-03T20:45:26.021491Z",
     "iopub.execute_input": "2021-09-03T20:45:26.021829Z",
     "iopub.status.idle": "2021-09-03T20:45:26.075457Z",
     "shell.execute_reply.started": "2021-09-03T20:45:26.021796Z",
     "shell.execute_reply": "2021-09-03T20:45:26.074407Z"
    },
    "trusted": true
   },
   "execution_count": 31,
   "outputs": [
    {
     "data": {
      "text/plain": "(94442, 23)"
     },
     "execution_count": 31,
     "metadata": {},
     "output_type": "execute_result"
    }
   ]
  },
  {
   "cell_type": "code",
   "source": "df[(df['sample'] == 0)].shape",
   "metadata": {
    "execution": {
     "iopub.status.busy": "2021-09-03T20:45:26.076835Z",
     "iopub.execute_input": "2021-09-03T20:45:26.077128Z",
     "iopub.status.idle": "2021-09-03T20:45:26.096753Z",
     "shell.execute_reply.started": "2021-09-03T20:45:26.077098Z",
     "shell.execute_reply": "2021-09-03T20:45:26.095907Z"
    },
    "trusted": true
   },
   "execution_count": 32,
   "outputs": [
    {
     "data": {
      "text/plain": "(34686, 23)"
     },
     "execution_count": 32,
     "metadata": {},
     "output_type": "execute_result"
    }
   ]
  },
  {
   "cell_type": "code",
   "source": "# 10 most popular car bodies from test dataset\ntest_bodies_10 = test.bodyType.value_counts(sort=True).keys()[:10]\ntest_bodies_10",
   "metadata": {
    "execution": {
     "iopub.status.busy": "2021-09-03T20:45:26.097964Z",
     "iopub.execute_input": "2021-09-03T20:45:26.098424Z",
     "iopub.status.idle": "2021-09-03T20:45:26.115595Z",
     "shell.execute_reply.started": "2021-09-03T20:45:26.098389Z",
     "shell.execute_reply": "2021-09-03T20:45:26.114680Z"
    },
    "trusted": true
   },
   "execution_count": 33,
   "outputs": [
    {
     "data": {
      "text/plain": "Index(['седан', 'внедорожник 5 дв.', 'лифтбек', 'хэтчбек 5 дв.',\n       'универсал 5 дв.', 'минивэн', 'купе', 'компактвэн', 'хэтчбек 3 дв.',\n       'пикап двойная кабина'],\n      dtype='object')"
     },
     "execution_count": 33,
     "metadata": {},
     "output_type": "execute_result"
    }
   ]
  },
  {
   "cell_type": "markdown",
   "source": "### 2.2.2 enginePower",
   "metadata": {}
  },
  {
   "cell_type": "code",
   "source": "num_feature_overview(df.enginePower)",
   "metadata": {
    "execution": {
     "iopub.status.busy": "2021-09-03T20:45:26.128158Z",
     "iopub.execute_input": "2021-09-03T20:45:26.129126Z",
     "iopub.status.idle": "2021-09-03T20:45:26.217243Z",
     "shell.execute_reply.started": "2021-09-03T20:45:26.129081Z",
     "shell.execute_reply": "2021-09-03T20:45:26.215724Z"
    },
    "trusted": true
   },
   "execution_count": 34,
   "outputs": [
    {
     "name": "stdout",
     "output_type": "stream",
     "text": [
      "Total lines: 94442\n",
      "Data types: object\n",
      "Total values: 94442\n",
      "The most frequent value: 150\n",
      "The less frequent value: 316 N12\n",
      "Unique values: 710\n",
      "Missing values: 0\n"
     ]
    }
   ]
  },
  {
   "cell_type": "code",
   "source": "df['enginePower'] = df['enginePower'].astype(str)\ndf['enginePower']  = df['enginePower'].apply(lambda x: x.partition('N12')[0]).astype(int)",
   "metadata": {
    "execution": {
     "iopub.status.busy": "2021-09-03T20:45:26.224868Z",
     "iopub.execute_input": "2021-09-03T20:45:26.225275Z",
     "iopub.status.idle": "2021-09-03T20:45:26.347216Z",
     "shell.execute_reply.started": "2021-09-03T20:45:26.225240Z",
     "shell.execute_reply": "2021-09-03T20:45:26.345935Z"
    },
    "trusted": true
   },
   "execution_count": 35,
   "outputs": []
  },
  {
   "cell_type": "code",
   "source": "num_feature_overview(df.enginePower)",
   "metadata": {
    "execution": {
     "iopub.status.busy": "2021-09-03T20:45:26.348617Z",
     "iopub.execute_input": "2021-09-03T20:45:26.348964Z",
     "iopub.status.idle": "2021-09-03T20:45:26.361966Z",
     "shell.execute_reply.started": "2021-09-03T20:45:26.348932Z",
     "shell.execute_reply": "2021-09-03T20:45:26.360078Z"
    },
    "trusted": true
   },
   "execution_count": 36,
   "outputs": [
    {
     "name": "stdout",
     "output_type": "stream",
     "text": [
      "Total lines: 94442\n",
      "Data types: int32\n",
      "Total values: 94442\n",
      "The most frequent value: 150\n",
      "The less frequent value: 176\n",
      "Unique values: 406\n",
      "Missing values: 0\n"
     ]
    }
   ]
  },
  {
   "cell_type": "code",
   "source": "df[(df['enginePower']<90)]['brand'].value_counts().plot(kind = 'barh',figsize= (10,7), title='The cars with total power less then 90HP')",
   "metadata": {
    "execution": {
     "iopub.status.busy": "2021-09-03T20:45:26.363545Z",
     "iopub.execute_input": "2021-09-03T20:45:26.363975Z",
     "iopub.status.idle": "2021-09-03T20:45:26.808901Z",
     "shell.execute_reply.started": "2021-09-03T20:45:26.363923Z",
     "shell.execute_reply": "2021-09-03T20:45:26.807739Z"
    },
    "trusted": true
   },
   "execution_count": 37,
   "outputs": [
    {
     "data": {
      "text/plain": "<AxesSubplot:title={'center':'The cars with total power less then 90HP'}>"
     },
     "execution_count": 37,
     "metadata": {},
     "output_type": "execute_result"
    },
    {
     "data": {
      "text/plain": "<Figure size 720x504 with 1 Axes>",
      "image/png": "[encoded data removed]"
     },
     "metadata": {
      "needs_background": "light"
     },
     "output_type": "display_data"
    }
   ]
  },
  {
   "cell_type": "code",
   "source": "df[(df['enginePower']>600)]['brand'].value_counts().plot(kind = 'barh', figsize= (10,7),title='The cars with total power over 600HP')",
   "metadata": {
    "execution": {
     "iopub.status.busy": "2021-09-03T20:45:26.810537Z",
     "iopub.execute_input": "2021-09-03T20:45:26.810851Z",
     "iopub.status.idle": "2021-09-03T20:45:27.101429Z",
     "shell.execute_reply.started": "2021-09-03T20:45:26.810821Z",
     "shell.execute_reply": "2021-09-03T20:45:27.100041Z"
    },
    "trusted": true
   },
   "execution_count": 38,
   "outputs": [
    {
     "data": {
      "text/plain": "<AxesSubplot:title={'center':'The cars with total power over 600HP'}>"
     },
     "execution_count": 38,
     "metadata": {},
     "output_type": "execute_result"
    },
    {
     "data": {
      "text/plain": "<Figure size 720x504 with 1 Axes>",
      "image/png": "[encoded data removed]"
     },
     "metadata": {
      "needs_background": "light"
     },
     "output_type": "display_data"
    }
   ]
  },
  {
   "cell_type": "code",
   "source": "sns.boxplot(df.enginePower, color='blue')",
   "metadata": {
    "execution": {
     "iopub.status.busy": "2021-09-03T20:45:27.103058Z",
     "iopub.execute_input": "2021-09-03T20:45:27.103380Z",
     "iopub.status.idle": "2021-09-03T20:45:27.372618Z",
     "shell.execute_reply.started": "2021-09-03T20:45:27.103348Z",
     "shell.execute_reply": "2021-09-03T20:45:27.371209Z"
    },
    "trusted": true
   },
   "execution_count": 39,
   "outputs": [
    {
     "name": "stderr",
     "output_type": "stream",
     "text": [
      "c:\\users\\asyac\\appdata\\local\\programs\\python\\python38\\lib\\site-packages\\seaborn\\_decorators.py:36: FutureWarning: Pass the following variable as a keyword arg: x. From version 0.12, the only valid positional argument will be `data`, and passing other arguments without an explicit keyword will result in an error or misinterpretation.\n",
      "  warnings.warn(\n"
     ]
    },
    {
     "data": {
      "text/plain": "<AxesSubplot:xlabel='enginePower'>"
     },
     "execution_count": 39,
     "metadata": {},
     "output_type": "execute_result"
    },
    {
     "data": {
      "text/plain": "<Figure size 432x288 with 1 Axes>",
      "image/png": "[encoded data removed]"
     },
     "metadata": {
      "needs_background": "light"
     },
     "output_type": "display_data"
    }
   ]
  },
  {
   "cell_type": "code",
   "source": "#Distribution of the enginePower before dropping of the outliers\ncheck_iqr(df.enginePower)",
   "metadata": {
    "execution": {
     "iopub.status.busy": "2021-09-03T20:45:27.374132Z",
     "iopub.execute_input": "2021-09-03T20:45:27.374465Z",
     "iopub.status.idle": "2021-09-03T20:45:27.810194Z",
     "shell.execute_reply.started": "2021-09-03T20:45:27.374431Z",
     "shell.execute_reply": "2021-09-03T20:45:27.808832Z"
    },
    "trusted": true
   },
   "execution_count": 40,
   "outputs": [
    {
     "name": "stderr",
     "output_type": "stream",
     "text": [
      "c:\\users\\asyac\\appdata\\local\\programs\\python\\python38\\lib\\site-packages\\seaborn\\distributions.py:2557: FutureWarning: `distplot` is a deprecated function and will be removed in a future version. Please adapt your code to use either `displot` (a figure-level function with similar flexibility) or `histplot` (an axes-level function for histograms).\n",
      "  warnings.warn(msg, FutureWarning)\n"
     ]
    },
    {
     "data": {
      "text/plain": "<Figure size 720x360 with 1 Axes>",
      "image/png": "[encoded data removed]"
     },
     "metadata": {},
     "output_type": "display_data"
    },
    {
     "data": {
      "text/plain": "      Q1     Q3    IQR  low_outlier  high_outlier\n0  110.0  210.0  100.0        -40.0         360.0",
      "text/html": "<div>\n<style scoped>\n    .dataframe tbody tr th:only-of-type {\n        vertical-align: middle;\n    }\n\n    .dataframe tbody tr th {\n        vertical-align: top;\n    }\n\n    .dataframe thead th {\n        text-align: right;\n    }\n</style>\n<table border=\"1\" class=\"dataframe\">\n  <thead>\n    <tr style=\"text-align: right;\">\n      <th></th>\n      <th>Q1</th>\n      <th>Q3</th>\n      <th>IQR</th>\n      <th>low_outlier</th>\n      <th>high_outlier</th>\n    </tr>\n  </thead>\n  <tbody>\n    <tr>\n      <th>0</th>\n      <td>110.0</td>\n      <td>210.0</td>\n      <td>100.0</td>\n      <td>-40.0</td>\n      <td>360.0</td>\n    </tr>\n  </tbody>\n</table>\n</div>"
     },
     "execution_count": 40,
     "metadata": {},
     "output_type": "execute_result"
    }
   ]
  },
  {
   "cell_type": "code",
   "source": "sns.boxplot(df.enginePower, color='blue')",
   "metadata": {
    "execution": {
     "iopub.status.busy": "2021-09-03T20:45:27.811720Z",
     "iopub.execute_input": "2021-09-03T20:45:27.812025Z",
     "iopub.status.idle": "2021-09-03T20:45:28.079845Z",
     "shell.execute_reply.started": "2021-09-03T20:45:27.811998Z",
     "shell.execute_reply": "2021-09-03T20:45:28.078417Z"
    },
    "trusted": true
   },
   "execution_count": 41,
   "outputs": [
    {
     "name": "stderr",
     "output_type": "stream",
     "text": [
      "c:\\users\\asyac\\appdata\\local\\programs\\python\\python38\\lib\\site-packages\\seaborn\\_decorators.py:36: FutureWarning: Pass the following variable as a keyword arg: x. From version 0.12, the only valid positional argument will be `data`, and passing other arguments without an explicit keyword will result in an error or misinterpretation.\n",
      "  warnings.warn(\n"
     ]
    },
    {
     "data": {
      "text/plain": "<AxesSubplot:xlabel='enginePower'>"
     },
     "execution_count": 41,
     "metadata": {},
     "output_type": "execute_result"
    },
    {
     "data": {
      "text/plain": "<Figure size 432x288 with 1 Axes>",
      "image/png": "[encoded data removed]"
     },
     "metadata": {},
     "output_type": "display_data"
    }
   ]
  },
  {
   "cell_type": "code",
   "source": "#Dropping the lines with the outliers\ndf.drop(df[(df['sample'] ==1) & (df['enginePower'] > 360)].index, inplace=True)\ndf[(df['sample'] == 0)].shape",
   "metadata": {
    "execution": {
     "iopub.status.busy": "2021-09-03T20:45:28.081789Z",
     "iopub.execute_input": "2021-09-03T20:45:28.082238Z",
     "iopub.status.idle": "2021-09-03T20:45:28.133093Z",
     "shell.execute_reply.started": "2021-09-03T20:45:28.082192Z",
     "shell.execute_reply": "2021-09-03T20:45:28.131579Z"
    },
    "trusted": true
   },
   "execution_count": 42,
   "outputs": [
    {
     "data": {
      "text/plain": "(34686, 23)"
     },
     "execution_count": 42,
     "metadata": {},
     "output_type": "execute_result"
    }
   ]
  },
  {
   "cell_type": "code",
   "source": "#Distribution of the enginePower after dropping of the outliers\ncheck_iqr(df.enginePower)",
   "metadata": {
    "execution": {
     "iopub.status.busy": "2021-09-03T20:45:28.134682Z",
     "iopub.execute_input": "2021-09-03T20:45:28.135031Z",
     "iopub.status.idle": "2021-09-03T20:45:28.562837Z",
     "shell.execute_reply.started": "2021-09-03T20:45:28.135000Z",
     "shell.execute_reply": "2021-09-03T20:45:28.561413Z"
    },
    "trusted": true
   },
   "execution_count": 43,
   "outputs": [
    {
     "name": "stderr",
     "output_type": "stream",
     "text": [
      "c:\\users\\asyac\\appdata\\local\\programs\\python\\python38\\lib\\site-packages\\seaborn\\distributions.py:2557: FutureWarning: `distplot` is a deprecated function and will be removed in a future version. Please adapt your code to use either `displot` (a figure-level function with similar flexibility) or `histplot` (an axes-level function for histograms).\n",
      "  warnings.warn(msg, FutureWarning)\n"
     ]
    },
    {
     "data": {
      "text/plain": "<Figure size 720x360 with 1 Axes>",
      "image/png": "[encoded data removed]"
     },
     "metadata": {},
     "output_type": "display_data"
    },
    {
     "data": {
      "text/plain": "      Q1     Q3   IQR  low_outlier  high_outlier\n0  110.0  200.0  90.0        -25.0         335.0",
      "text/html": "<div>\n<style scoped>\n    .dataframe tbody tr th:only-of-type {\n        vertical-align: middle;\n    }\n\n    .dataframe tbody tr th {\n        vertical-align: top;\n    }\n\n    .dataframe thead th {\n        text-align: right;\n    }\n</style>\n<table border=\"1\" class=\"dataframe\">\n  <thead>\n    <tr style=\"text-align: right;\">\n      <th></th>\n      <th>Q1</th>\n      <th>Q3</th>\n      <th>IQR</th>\n      <th>low_outlier</th>\n      <th>high_outlier</th>\n    </tr>\n  </thead>\n  <tbody>\n    <tr>\n      <th>0</th>\n      <td>110.0</td>\n      <td>200.0</td>\n      <td>90.0</td>\n      <td>-25.0</td>\n      <td>335.0</td>\n    </tr>\n  </tbody>\n</table>\n</div>"
     },
     "execution_count": 43,
     "metadata": {},
     "output_type": "execute_result"
    }
   ]
  },
  {
   "cell_type": "markdown",
   "source": "### 2.2.3 modelDate",
   "metadata": {}
  },
  {
   "cell_type": "code",
   "source": "cat_feature_overview(df.modelDate)",
   "metadata": {
    "execution": {
     "iopub.status.busy": "2021-09-03T20:45:28.564246Z",
     "iopub.execute_input": "2021-09-03T20:45:28.564673Z",
     "iopub.status.idle": "2021-09-03T20:45:29.395157Z",
     "shell.execute_reply.started": "2021-09-03T20:45:28.564640Z",
     "shell.execute_reply": "2021-09-03T20:45:29.393633Z"
    },
    "trusted": true
   },
   "execution_count": 44,
   "outputs": [
    {
     "name": "stdout",
     "output_type": "stream",
     "text": [
      "Total lines: 92039\n",
      "Data types: int64\n",
      "Total values: 92039\n",
      "The most frequent value: 2010\n",
      "The less frequent value: 1969\n",
      "Unique values: 67\n",
      "Missing values: 0\n"
     ]
    },
    {
     "data": {
      "text/plain": "<Figure size 432x288 with 1 Axes>",
      "image/png": "[encoded data removed]"
     },
     "metadata": {},
     "output_type": "display_data"
    }
   ]
  },
  {
   "cell_type": "code",
   "source": "#check the outliers \ncheck_iqr(df.modelDate)",
   "metadata": {
    "execution": {
     "iopub.status.busy": "2021-09-03T20:45:29.396832Z",
     "iopub.execute_input": "2021-09-03T20:45:29.397258Z",
     "iopub.status.idle": "2021-09-03T20:45:29.824594Z",
     "shell.execute_reply.started": "2021-09-03T20:45:29.397223Z",
     "shell.execute_reply": "2021-09-03T20:45:29.823216Z"
    },
    "trusted": true
   },
   "execution_count": 45,
   "outputs": [
    {
     "name": "stderr",
     "output_type": "stream",
     "text": [
      "c:\\users\\asyac\\appdata\\local\\programs\\python\\python38\\lib\\site-packages\\seaborn\\distributions.py:2557: FutureWarning: `distplot` is a deprecated function and will be removed in a future version. Please adapt your code to use either `displot` (a figure-level function with similar flexibility) or `histplot` (an axes-level function for histograms).\n",
      "  warnings.warn(msg, FutureWarning)\n"
     ]
    },
    {
     "data": {
      "text/plain": "<Figure size 720x360 with 1 Axes>",
      "image/png": "[encoded data removed]"
     },
     "metadata": {},
     "output_type": "display_data"
    },
    {
     "data": {
      "text/plain": "       Q1      Q3  IQR  low_outlier  high_outlier\n0  2004.0  2013.0  9.0       1990.5        2026.5",
      "text/html": "<div>\n<style scoped>\n    .dataframe tbody tr th:only-of-type {\n        vertical-align: middle;\n    }\n\n    .dataframe tbody tr th {\n        vertical-align: top;\n    }\n\n    .dataframe thead th {\n        text-align: right;\n    }\n</style>\n<table border=\"1\" class=\"dataframe\">\n  <thead>\n    <tr style=\"text-align: right;\">\n      <th></th>\n      <th>Q1</th>\n      <th>Q3</th>\n      <th>IQR</th>\n      <th>low_outlier</th>\n      <th>high_outlier</th>\n    </tr>\n  </thead>\n  <tbody>\n    <tr>\n      <th>0</th>\n      <td>2004.0</td>\n      <td>2013.0</td>\n      <td>9.0</td>\n      <td>1990.5</td>\n      <td>2026.5</td>\n    </tr>\n  </tbody>\n</table>\n</div>"
     },
     "execution_count": 45,
     "metadata": {},
     "output_type": "execute_result"
    }
   ]
  },
  {
   "cell_type": "code",
   "source": "df.modelDate.describe()",
   "metadata": {
    "execution": {
     "iopub.status.busy": "2021-09-03T20:45:29.826188Z",
     "iopub.execute_input": "2021-09-03T20:45:29.826524Z",
     "iopub.status.idle": "2021-09-03T20:45:29.841428Z",
     "shell.execute_reply.started": "2021-09-03T20:45:29.826493Z",
     "shell.execute_reply": "2021-09-03T20:45:29.840073Z"
    },
    "trusted": true
   },
   "execution_count": 46,
   "outputs": [
    {
     "data": {
      "text/plain": "count    92039.000000\nmean      2007.618596\nstd          7.482590\nmin       1904.000000\n25%       2004.000000\n50%       2009.000000\n75%       2013.000000\nmax       2021.000000\nName: modelDate, dtype: float64"
     },
     "execution_count": 46,
     "metadata": {},
     "output_type": "execute_result"
    }
   ]
  },
  {
   "cell_type": "code",
   "source": "#Sampling the relevant modelDate year's range on train dataset\n\ndf.drop(df[(df['sample'] == 1) & (df.modelDate <= 1990) & (df.modelDate >= 2021)].index, inplace=True)\ndf[(df['sample'] == 0)].shape",
   "metadata": {
    "execution": {
     "iopub.status.busy": "2021-09-03T20:45:29.843029Z",
     "iopub.execute_input": "2021-09-03T20:45:29.843374Z",
     "iopub.status.idle": "2021-09-03T20:45:29.894991Z",
     "shell.execute_reply.started": "2021-09-03T20:45:29.843343Z",
     "shell.execute_reply": "2021-09-03T20:45:29.893802Z"
    },
    "trusted": true
   },
   "execution_count": 47,
   "outputs": [
    {
     "data": {
      "text/plain": "(34686, 23)"
     },
     "execution_count": 47,
     "metadata": {},
     "output_type": "execute_result"
    }
   ]
  },
  {
   "cell_type": "markdown",
   "source": "### 2.2.4 productionDate",
   "metadata": {}
  },
  {
   "cell_type": "code",
   "source": "cat_feature_overview(df.productionDate)",
   "metadata": {
    "execution": {
     "iopub.status.busy": "2021-09-03T20:45:29.896429Z",
     "iopub.execute_input": "2021-09-03T20:45:29.896759Z",
     "iopub.status.idle": "2021-09-03T20:45:30.766081Z",
     "shell.execute_reply.started": "2021-09-03T20:45:29.896731Z",
     "shell.execute_reply": "2021-09-03T20:45:30.764400Z"
    },
    "trusted": true
   },
   "execution_count": 48,
   "outputs": [
    {
     "name": "stdout",
     "output_type": "stream",
     "text": [
      "Total lines: 92039\n",
      "Data types: int64\n",
      "Total values: 92039\n",
      "The most frequent value: 2012\n",
      "The less frequent value: 1904\n",
      "Unique values: 70\n",
      "Missing values: 0\n"
     ]
    },
    {
     "data": {
      "text/plain": "<Figure size 432x288 with 1 Axes>",
      "image/png": "[encoded data removed]"
     },
     "metadata": {},
     "output_type": "display_data"
    }
   ]
  },
  {
   "cell_type": "code",
   "source": "#check the outliers distribution of the productionDate\ncheck_iqr(df.productionDate)",
   "metadata": {
    "execution": {
     "iopub.status.busy": "2021-09-03T20:45:30.767716Z",
     "iopub.execute_input": "2021-09-03T20:45:30.768023Z",
     "iopub.status.idle": "2021-09-03T20:45:31.231603Z",
     "shell.execute_reply.started": "2021-09-03T20:45:30.767995Z",
     "shell.execute_reply": "2021-09-03T20:45:31.230588Z"
    },
    "trusted": true
   },
   "execution_count": 49,
   "outputs": [
    {
     "name": "stderr",
     "output_type": "stream",
     "text": [
      "c:\\users\\asyac\\appdata\\local\\programs\\python\\python38\\lib\\site-packages\\seaborn\\distributions.py:2557: FutureWarning: `distplot` is a deprecated function and will be removed in a future version. Please adapt your code to use either `displot` (a figure-level function with similar flexibility) or `histplot` (an axes-level function for histograms).\n",
      "  warnings.warn(msg, FutureWarning)\n"
     ]
    },
    {
     "data": {
      "text/plain": "<Figure size 720x360 with 1 Axes>",
      "image/png": "[encoded data removed]"
     },
     "metadata": {},
     "output_type": "display_data"
    },
    {
     "data": {
      "text/plain": "       Q1      Q3  IQR  low_outlier  high_outlier\n0  2007.0  2015.0  8.0       1995.0        2027.0",
      "text/html": "<div>\n<style scoped>\n    .dataframe tbody tr th:only-of-type {\n        vertical-align: middle;\n    }\n\n    .dataframe tbody tr th {\n        vertical-align: top;\n    }\n\n    .dataframe thead th {\n        text-align: right;\n    }\n</style>\n<table border=\"1\" class=\"dataframe\">\n  <thead>\n    <tr style=\"text-align: right;\">\n      <th></th>\n      <th>Q1</th>\n      <th>Q3</th>\n      <th>IQR</th>\n      <th>low_outlier</th>\n      <th>high_outlier</th>\n    </tr>\n  </thead>\n  <tbody>\n    <tr>\n      <th>0</th>\n      <td>2007.0</td>\n      <td>2015.0</td>\n      <td>8.0</td>\n      <td>1995.0</td>\n      <td>2027.0</td>\n    </tr>\n  </tbody>\n</table>\n</div>"
     },
     "execution_count": 49,
     "metadata": {},
     "output_type": "execute_result"
    }
   ]
  },
  {
   "cell_type": "code",
   "source": "df.productionDate.describe()",
   "metadata": {
    "execution": {
     "iopub.status.busy": "2021-09-03T20:45:31.233355Z",
     "iopub.execute_input": "2021-09-03T20:45:31.233785Z",
     "iopub.status.idle": "2021-09-03T20:45:31.250054Z",
     "shell.execute_reply.started": "2021-09-03T20:45:31.233739Z",
     "shell.execute_reply": "2021-09-03T20:45:31.248472Z"
    },
    "trusted": true
   },
   "execution_count": 50,
   "outputs": [
    {
     "data": {
      "text/plain": "count    92039.000000\nmean      2010.158650\nstd          6.655669\nmin       1904.000000\n25%       2007.000000\n50%       2011.000000\n75%       2015.000000\nmax       2021.000000\nName: productionDate, dtype: float64"
     },
     "execution_count": 50,
     "metadata": {},
     "output_type": "execute_result"
    }
   ]
  },
  {
   "cell_type": "code",
   "source": "#Sampling the relevant productionDate year's range on train dataset\ndf.drop(df[(df['sample'] == 1) & (df.productionDate < 1995) & (df.productionDate > 2021)].index, inplace=True)\ndf[(df['sample'] == 0)].shape",
   "metadata": {
    "execution": {
     "iopub.status.busy": "2021-09-03T20:45:31.251817Z",
     "iopub.execute_input": "2021-09-03T20:45:31.252273Z",
     "iopub.status.idle": "2021-09-03T20:45:31.313198Z",
     "shell.execute_reply.started": "2021-09-03T20:45:31.252229Z",
     "shell.execute_reply": "2021-09-03T20:45:31.311783Z"
    },
    "trusted": true
   },
   "execution_count": 51,
   "outputs": [
    {
     "data": {
      "text/plain": "(34686, 23)"
     },
     "execution_count": 51,
     "metadata": {},
     "output_type": "execute_result"
    }
   ]
  },
  {
   "cell_type": "code",
   "source": "#Distribution of the productionDate after dropping of the outliers\ncheck_iqr(df.productionDate)",
   "metadata": {
    "execution": {
     "iopub.status.busy": "2021-09-03T20:45:31.315105Z",
     "iopub.execute_input": "2021-09-03T20:45:31.315598Z",
     "iopub.status.idle": "2021-09-03T20:45:31.765933Z",
     "shell.execute_reply.started": "2021-09-03T20:45:31.315549Z",
     "shell.execute_reply": "2021-09-03T20:45:31.764616Z"
    },
    "trusted": true
   },
   "execution_count": 52,
   "outputs": [
    {
     "name": "stderr",
     "output_type": "stream",
     "text": [
      "c:\\users\\asyac\\appdata\\local\\programs\\python\\python38\\lib\\site-packages\\seaborn\\distributions.py:2557: FutureWarning: `distplot` is a deprecated function and will be removed in a future version. Please adapt your code to use either `displot` (a figure-level function with similar flexibility) or `histplot` (an axes-level function for histograms).\n",
      "  warnings.warn(msg, FutureWarning)\n"
     ]
    },
    {
     "data": {
      "text/plain": "<Figure size 720x360 with 1 Axes>",
      "image/png": "[encoded data removed]"
     },
     "metadata": {},
     "output_type": "display_data"
    },
    {
     "data": {
      "text/plain": "       Q1      Q3  IQR  low_outlier  high_outlier\n0  2007.0  2015.0  8.0       1995.0        2027.0",
      "text/html": "<div>\n<style scoped>\n    .dataframe tbody tr th:only-of-type {\n        vertical-align: middle;\n    }\n\n    .dataframe tbody tr th {\n        vertical-align: top;\n    }\n\n    .dataframe thead th {\n        text-align: right;\n    }\n</style>\n<table border=\"1\" class=\"dataframe\">\n  <thead>\n    <tr style=\"text-align: right;\">\n      <th></th>\n      <th>Q1</th>\n      <th>Q3</th>\n      <th>IQR</th>\n      <th>low_outlier</th>\n      <th>high_outlier</th>\n    </tr>\n  </thead>\n  <tbody>\n    <tr>\n      <th>0</th>\n      <td>2007.0</td>\n      <td>2015.0</td>\n      <td>8.0</td>\n      <td>1995.0</td>\n      <td>2027.0</td>\n    </tr>\n  </tbody>\n</table>\n</div>"
     },
     "execution_count": 52,
     "metadata": {},
     "output_type": "execute_result"
    }
   ]
  },
  {
   "cell_type": "code",
   "source": "df.shape",
   "metadata": {
    "execution": {
     "iopub.status.busy": "2021-09-03T20:45:31.767208Z",
     "iopub.execute_input": "2021-09-03T20:45:31.767601Z",
     "iopub.status.idle": "2021-09-03T20:45:31.774157Z",
     "shell.execute_reply.started": "2021-09-03T20:45:31.767570Z",
     "shell.execute_reply": "2021-09-03T20:45:31.773263Z"
    },
    "trusted": true
   },
   "execution_count": 53,
   "outputs": [
    {
     "data": {
      "text/plain": "(92039, 23)"
     },
     "execution_count": 53,
     "metadata": {},
     "output_type": "execute_result"
    }
   ]
  },
  {
   "cell_type": "markdown",
   "source": "### 2.2.5 target feature \"price\" at the train dataset",
   "metadata": {}
  },
  {
   "cell_type": "code",
   "source": "#info from prices of training dataset\nnum_feature_overview(df.price)",
   "metadata": {
    "execution": {
     "iopub.status.busy": "2021-09-03T20:45:31.775420Z",
     "iopub.execute_input": "2021-09-03T20:45:31.775792Z",
     "iopub.status.idle": "2021-09-03T20:45:31.804455Z",
     "shell.execute_reply.started": "2021-09-03T20:45:31.775760Z",
     "shell.execute_reply": "2021-09-03T20:45:31.803130Z"
    },
    "trusted": true
   },
   "execution_count": 54,
   "outputs": [
    {
     "name": "stdout",
     "output_type": "stream",
     "text": [
      "Total lines: 92039\n",
      "Data types: float64\n",
      "Total values: 92039\n",
      "The most frequent value: 0.0\n",
      "The less frequent value: 4440000.0\n",
      "Unique values: 4783\n",
      "Missing values: 0\n"
     ]
    }
   ]
  },
  {
   "cell_type": "code",
   "source": "check_iqr(df[(df['sample'] ==1)].price)",
   "metadata": {
    "execution": {
     "iopub.status.busy": "2021-09-03T20:45:31.805864Z",
     "iopub.execute_input": "2021-09-03T20:45:31.806201Z",
     "iopub.status.idle": "2021-09-03T20:45:33.290799Z",
     "shell.execute_reply.started": "2021-09-03T20:45:31.806168Z",
     "shell.execute_reply": "2021-09-03T20:45:33.289629Z"
    },
    "trusted": true
   },
   "execution_count": 55,
   "outputs": [
    {
     "name": "stderr",
     "output_type": "stream",
     "text": [
      "c:\\users\\asyac\\appdata\\local\\programs\\python\\python38\\lib\\site-packages\\seaborn\\distributions.py:2557: FutureWarning: `distplot` is a deprecated function and will be removed in a future version. Please adapt your code to use either `displot` (a figure-level function with similar flexibility) or `histplot` (an axes-level function for histograms).\n",
      "  warnings.warn(msg, FutureWarning)\n"
     ]
    },
    {
     "data": {
      "text/plain": "<Figure size 720x360 with 1 Axes>",
      "image/png": "[encoded data removed]"
     },
     "metadata": {},
     "output_type": "display_data"
    },
    {
     "data": {
      "text/plain": "         Q1         Q3        IQR  low_outlier  high_outlier\n0  355000.0  1400000.0  1045000.0   -1212500.0     2967500.0",
      "text/html": "<div>\n<style scoped>\n    .dataframe tbody tr th:only-of-type {\n        vertical-align: middle;\n    }\n\n    .dataframe tbody tr th {\n        vertical-align: top;\n    }\n\n    .dataframe thead th {\n        text-align: right;\n    }\n</style>\n<table border=\"1\" class=\"dataframe\">\n  <thead>\n    <tr style=\"text-align: right;\">\n      <th></th>\n      <th>Q1</th>\n      <th>Q3</th>\n      <th>IQR</th>\n      <th>low_outlier</th>\n      <th>high_outlier</th>\n    </tr>\n  </thead>\n  <tbody>\n    <tr>\n      <th>0</th>\n      <td>355000.0</td>\n      <td>1400000.0</td>\n      <td>1045000.0</td>\n      <td>-1212500.0</td>\n      <td>2967500.0</td>\n    </tr>\n  </tbody>\n</table>\n</div>"
     },
     "execution_count": 55,
     "metadata": {},
     "output_type": "execute_result"
    }
   ]
  },
  {
   "cell_type": "code",
   "source": "df[(df['sample'] ==1)].price.describe()",
   "metadata": {
    "execution": {
     "iopub.status.busy": "2021-09-03T20:45:33.292739Z",
     "iopub.execute_input": "2021-09-03T20:45:33.293099Z",
     "iopub.status.idle": "2021-09-03T20:45:33.322725Z",
     "shell.execute_reply.started": "2021-09-03T20:45:33.293068Z",
     "shell.execute_reply": "2021-09-03T20:45:33.321404Z"
    },
    "trusted": true
   },
   "execution_count": 56,
   "outputs": [
    {
     "data": {
      "text/plain": "count    5.735300e+04\nmean     1.096453e+06\nstd      1.226391e+06\nmin      2.000000e+04\n25%      3.550000e+05\n50%      7.000000e+05\n75%      1.400000e+06\nmax      3.085000e+07\nName: price, dtype: float64"
     },
     "execution_count": 56,
     "metadata": {},
     "output_type": "execute_result"
    }
   ]
  },
  {
   "cell_type": "code",
   "source": "len(df[(df['price']> 3038000)])",
   "metadata": {
    "execution": {
     "iopub.status.busy": "2021-09-03T20:45:33.324391Z",
     "iopub.execute_input": "2021-09-03T20:45:33.324727Z",
     "iopub.status.idle": "2021-09-03T20:45:33.335976Z",
     "shell.execute_reply.started": "2021-09-03T20:45:33.324697Z",
     "shell.execute_reply": "2021-09-03T20:45:33.334659Z"
    },
    "trusted": true
   },
   "execution_count": 57,
   "outputs": [
    {
     "data": {
      "text/plain": "3801"
     },
     "execution_count": 57,
     "metadata": {},
     "output_type": "execute_result"
    }
   ]
  },
  {
   "cell_type": "code",
   "source": "#dropping the higher outliered data in dataset\n#df = df[((df['sample']==1) & (df['price']<3038000)) | (df['sample']==0)]",
   "metadata": {
    "execution": {
     "iopub.status.busy": "2021-09-03T20:45:33.337403Z",
     "iopub.execute_input": "2021-09-03T20:45:33.337755Z",
     "iopub.status.idle": "2021-09-03T20:45:33.343492Z",
     "shell.execute_reply.started": "2021-09-03T20:45:33.337726Z",
     "shell.execute_reply": "2021-09-03T20:45:33.342207Z"
    },
    "trusted": true
   },
   "execution_count": 58,
   "outputs": []
  },
  {
   "cell_type": "code",
   "source": "#For further modeling seems to be used a log-function of price feature\ndf['price_log']=df['price'].apply(lambda x: np.log(x+1))#to avoid df1['price_log'] = df1.price_log.fillna(0)",
   "metadata": {
    "execution": {
     "iopub.status.busy": "2021-09-03T20:45:33.344856Z",
     "iopub.execute_input": "2021-09-03T20:45:33.345164Z",
     "iopub.status.idle": "2021-09-03T20:45:33.572166Z",
     "shell.execute_reply.started": "2021-09-03T20:45:33.345136Z",
     "shell.execute_reply": "2021-09-03T20:45:33.570844Z"
    },
    "trusted": true
   },
   "execution_count": 59,
   "outputs": []
  },
  {
   "cell_type": "code",
   "source": "#check the feature's distribution\ncheck_iqr(df[(df['sample'] ==1)].price_log)",
   "metadata": {
    "execution": {
     "iopub.status.busy": "2021-09-03T20:45:33.573691Z",
     "iopub.execute_input": "2021-09-03T20:45:33.573990Z",
     "iopub.status.idle": "2021-09-03T20:45:34.029413Z",
     "shell.execute_reply.started": "2021-09-03T20:45:33.573962Z",
     "shell.execute_reply": "2021-09-03T20:45:34.027740Z"
    },
    "trusted": true
   },
   "execution_count": 60,
   "outputs": [
    {
     "name": "stderr",
     "output_type": "stream",
     "text": [
      "c:\\users\\asyac\\appdata\\local\\programs\\python\\python38\\lib\\site-packages\\seaborn\\distributions.py:2557: FutureWarning: `distplot` is a deprecated function and will be removed in a future version. Please adapt your code to use either `displot` (a figure-level function with similar flexibility) or `histplot` (an axes-level function for histograms).\n",
      "  warnings.warn(msg, FutureWarning)\n"
     ]
    },
    {
     "data": {
      "text/plain": "<Figure size 720x360 with 1 Axes>",
      "image/png": "[encoded data removed]"
     },
     "metadata": {},
     "output_type": "display_data"
    },
    {
     "data": {
      "text/plain": "          Q1         Q3       IQR  low_outlier  high_outlier\n0  12.779876  14.151984  1.372108    10.721714     16.210145",
      "text/html": "<div>\n<style scoped>\n    .dataframe tbody tr th:only-of-type {\n        vertical-align: middle;\n    }\n\n    .dataframe tbody tr th {\n        vertical-align: top;\n    }\n\n    .dataframe thead th {\n        text-align: right;\n    }\n</style>\n<table border=\"1\" class=\"dataframe\">\n  <thead>\n    <tr style=\"text-align: right;\">\n      <th></th>\n      <th>Q1</th>\n      <th>Q3</th>\n      <th>IQR</th>\n      <th>low_outlier</th>\n      <th>high_outlier</th>\n    </tr>\n  </thead>\n  <tbody>\n    <tr>\n      <th>0</th>\n      <td>12.779876</td>\n      <td>14.151984</td>\n      <td>1.372108</td>\n      <td>10.721714</td>\n      <td>16.210145</td>\n    </tr>\n  </tbody>\n</table>\n</div>"
     },
     "execution_count": 60,
     "metadata": {},
     "output_type": "execute_result"
    }
   ]
  },
  {
   "cell_type": "code",
   "source": "#The distribution car prices by production years on train dataset\nyear = train['productionDate'].values\nprice = train['price'].values\nplt.figure(figsize=(15,10))\nplt.scatter(year,price,c='b')",
   "metadata": {
    "execution": {
     "iopub.status.busy": "2021-09-03T20:45:34.031263Z",
     "iopub.execute_input": "2021-09-03T20:45:34.031627Z",
     "iopub.status.idle": "2021-09-03T20:45:34.480403Z",
     "shell.execute_reply.started": "2021-09-03T20:45:34.031595Z",
     "shell.execute_reply": "2021-09-03T20:45:34.479409Z"
    },
    "trusted": true
   },
   "execution_count": 61,
   "outputs": [
    {
     "data": {
      "text/plain": "<matplotlib.collections.PathCollection at 0x24a32635a30>"
     },
     "execution_count": 61,
     "metadata": {},
     "output_type": "execute_result"
    },
    {
     "data": {
      "text/plain": "<Figure size 1080x720 with 1 Axes>",
      "image/png": "[encoded data removed]"
     },
     "metadata": {},
     "output_type": "display_data"
    }
   ]
  },
  {
   "cell_type": "code",
   "source": "df[(df['sample'] == 0)].shape",
   "metadata": {
    "execution": {
     "iopub.status.busy": "2021-09-03T20:45:34.482090Z",
     "iopub.execute_input": "2021-09-03T20:45:34.482523Z",
     "iopub.status.idle": "2021-09-03T20:45:34.504342Z",
     "shell.execute_reply.started": "2021-09-03T20:45:34.482478Z",
     "shell.execute_reply": "2021-09-03T20:45:34.503059Z"
    },
    "trusted": true
   },
   "execution_count": 62,
   "outputs": [
    {
     "data": {
      "text/plain": "(34686, 24)"
     },
     "execution_count": 62,
     "metadata": {},
     "output_type": "execute_result"
    }
   ]
  },
  {
   "cell_type": "markdown",
   "source": "### 2.2.6 brand",
   "metadata": {
    "execution": {
     "iopub.status.busy": "2021-08-30T11:45:33.183044Z",
     "iopub.execute_input": "2021-08-30T11:45:33.183466Z",
     "iopub.status.idle": "2021-08-30T11:45:33.188222Z",
     "shell.execute_reply.started": "2021-08-30T11:45:33.183434Z",
     "shell.execute_reply": "2021-08-30T11:45:33.186824Z"
    }
   }
  },
  {
   "cell_type": "code",
   "source": "cat_feature_overview(df.brand)",
   "metadata": {
    "execution": {
     "iopub.status.busy": "2021-09-03T20:45:34.506120Z",
     "iopub.execute_input": "2021-09-03T20:45:34.506630Z",
     "iopub.status.idle": "2021-09-03T20:45:35.191802Z",
     "shell.execute_reply.started": "2021-09-03T20:45:34.506574Z",
     "shell.execute_reply": "2021-09-03T20:45:35.190365Z"
    },
    "trusted": true
   },
   "execution_count": 63,
   "outputs": [
    {
     "name": "stdout",
     "output_type": "stream",
     "text": [
      "Total lines: 92039\n",
      "Data types: object\n",
      "Total values: 92039\n",
      "The most frequent value: VOLKSWAGEN\n",
      "The less frequent value: ISUZU\n",
      "Unique values: 45\n",
      "Missing values: 0\n"
     ]
    },
    {
     "data": {
      "text/plain": "<Figure size 432x288 with 1 Axes>",
      "image/png": "[encoded data removed]"
     },
     "metadata": {},
     "output_type": "display_data"
    }
   ]
  },
  {
   "cell_type": "code",
   "source": "brand_list = train.brand.unique()\nprint(f'Total amount of represented brands in dataset is {len(brand_list)}')",
   "metadata": {
    "execution": {
     "iopub.status.busy": "2021-09-03T20:45:35.193730Z",
     "iopub.execute_input": "2021-09-03T20:45:35.194203Z",
     "iopub.status.idle": "2021-09-03T20:45:35.206281Z",
     "shell.execute_reply.started": "2021-09-03T20:45:35.194154Z",
     "shell.execute_reply": "2021-09-03T20:45:35.204634Z"
    },
    "trusted": true
   },
   "execution_count": 64,
   "outputs": [
    {
     "name": "stdout",
     "output_type": "stream",
     "text": [
      "Total amount of represented brands in dataset is 45\n"
     ]
    }
   ]
  },
  {
   "cell_type": "markdown",
   "source": "#### _Definition of most relevant brands for the model of price prediction_\n",
   "metadata": {
    "execution": {
     "iopub.status.busy": "2021-08-30T16:36:30.560912Z",
     "iopub.execute_input": "2021-08-30T16:36:30.561355Z",
     "iopub.status.idle": "2021-08-30T16:36:30.569342Z",
     "shell.execute_reply.started": "2021-08-30T16:36:30.561321Z",
     "shell.execute_reply": "2021-08-30T16:36:30.568488Z"
    }
   }
  },
  {
   "cell_type": "code",
   "source": "brand_lst= []\nfor mark in test_bodies_10:\n    brand_lst += train_brand_pvt(mark, 1990, 2020)",
   "metadata": {
    "execution": {
     "iopub.status.busy": "2021-09-03T20:45:35.208422Z",
     "iopub.execute_input": "2021-09-03T20:45:35.208902Z",
     "iopub.status.idle": "2021-09-03T20:45:35.635867Z",
     "shell.execute_reply.started": "2021-09-03T20:45:35.208854Z",
     "shell.execute_reply": "2021-09-03T20:45:35.634353Z"
    },
    "trusted": true
   },
   "execution_count": 65,
   "outputs": [
    {
     "data": {
      "text/plain": "         brand    low_std      std_n    high_std\n0   ALFA_ROMEO  499164.38  748746.58  1123119.86\n1     CHRYSLER  246879.43  370319.14   555478.71\n2      HYUNDAI  272328.54  408492.80   612739.20\n3     INFINITI  356591.34  534887.00   802330.50\n4          KIA  370118.27  555177.41   832766.11\n5        MAZDA  385553.75  578330.63   867495.94\n6   MITSUBISHI  237016.41  355524.61   533286.92\n7       SUBARU  299103.25  448654.87   672982.31\n8       TOYOTA  456777.82  685166.73  1027750.09\n9   VOLKSWAGEN  243124.75  364687.12   547030.69\n10       VOLVO  462062.95  693094.43  1039641.64",
      "text/html": "<div>\n<style scoped>\n    .dataframe tbody tr th:only-of-type {\n        vertical-align: middle;\n    }\n\n    .dataframe tbody tr th {\n        vertical-align: top;\n    }\n\n    .dataframe thead th {\n        text-align: right;\n    }\n</style>\n<table border=\"1\" class=\"dataframe\">\n  <thead>\n    <tr style=\"text-align: right;\">\n      <th></th>\n      <th>brand</th>\n      <th>low_std</th>\n      <th>std_n</th>\n      <th>high_std</th>\n    </tr>\n  </thead>\n  <tbody>\n    <tr>\n      <th>0</th>\n      <td>ALFA_ROMEO</td>\n      <td>499164.38</td>\n      <td>748746.58</td>\n      <td>1123119.86</td>\n    </tr>\n    <tr>\n      <th>1</th>\n      <td>CHRYSLER</td>\n      <td>246879.43</td>\n      <td>370319.14</td>\n      <td>555478.71</td>\n    </tr>\n    <tr>\n      <th>2</th>\n      <td>HYUNDAI</td>\n      <td>272328.54</td>\n      <td>408492.80</td>\n      <td>612739.20</td>\n    </tr>\n    <tr>\n      <th>3</th>\n      <td>INFINITI</td>\n      <td>356591.34</td>\n      <td>534887.00</td>\n      <td>802330.50</td>\n    </tr>\n    <tr>\n      <th>4</th>\n      <td>KIA</td>\n      <td>370118.27</td>\n      <td>555177.41</td>\n      <td>832766.11</td>\n    </tr>\n    <tr>\n      <th>5</th>\n      <td>MAZDA</td>\n      <td>385553.75</td>\n      <td>578330.63</td>\n      <td>867495.94</td>\n    </tr>\n    <tr>\n      <th>6</th>\n      <td>MITSUBISHI</td>\n      <td>237016.41</td>\n      <td>355524.61</td>\n      <td>533286.92</td>\n    </tr>\n    <tr>\n      <th>7</th>\n      <td>SUBARU</td>\n      <td>299103.25</td>\n      <td>448654.87</td>\n      <td>672982.31</td>\n    </tr>\n    <tr>\n      <th>8</th>\n      <td>TOYOTA</td>\n      <td>456777.82</td>\n      <td>685166.73</td>\n      <td>1027750.09</td>\n    </tr>\n    <tr>\n      <th>9</th>\n      <td>VOLKSWAGEN</td>\n      <td>243124.75</td>\n      <td>364687.12</td>\n      <td>547030.69</td>\n    </tr>\n    <tr>\n      <th>10</th>\n      <td>VOLVO</td>\n      <td>462062.95</td>\n      <td>693094.43</td>\n      <td>1039641.64</td>\n    </tr>\n  </tbody>\n</table>\n</div>"
     },
     "metadata": {},
     "output_type": "display_data"
    },
    {
     "name": "stdout",
     "output_type": "stream",
     "text": [
      "The most relevant brands sorted by body type \"седан\" in time period from 1990 to 2020 \n",
      " ['ALFA_ROMEO', 'CHRYSLER', 'HYUNDAI', 'INFINITI', 'KIA', 'MAZDA', 'MITSUBISHI', 'SUBARU', 'TOYOTA', 'VOLKSWAGEN', 'VOLVO'] \n",
      "\n"
     ]
    },
    {
     "data": {
      "text/plain": "         brand    low_std       std_n    high_std\n0    CHEVROLET  594585.69   891878.53  1337817.79\n1         FORD  447941.62   671912.43  1007868.65\n2      HYUNDAI  463827.49   695741.23  1043611.85\n3     INFINITI  598070.07   897105.10  1345657.65\n4       JAGUAR  627276.83   940915.24  1411372.87\n5          KIA  465977.98   698966.97  1048450.45\n6        MAZDA  547928.35   821892.53  1232838.80\n7         MINI  551141.41   826712.12  1240068.18\n8   MITSUBISHI  408506.68   612760.02   919140.04\n9        SKODA  517790.04   776685.07  1165027.60\n10       TESLA  779785.64  1169678.46  1754517.69\n11  VOLKSWAGEN  638159.57   957239.36  1435859.03\n12       VOLVO  782717.22  1174075.83  1761113.74",
      "text/html": "<div>\n<style scoped>\n    .dataframe tbody tr th:only-of-type {\n        vertical-align: middle;\n    }\n\n    .dataframe tbody tr th {\n        vertical-align: top;\n    }\n\n    .dataframe thead th {\n        text-align: right;\n    }\n</style>\n<table border=\"1\" class=\"dataframe\">\n  <thead>\n    <tr style=\"text-align: right;\">\n      <th></th>\n      <th>brand</th>\n      <th>low_std</th>\n      <th>std_n</th>\n      <th>high_std</th>\n    </tr>\n  </thead>\n  <tbody>\n    <tr>\n      <th>0</th>\n      <td>CHEVROLET</td>\n      <td>594585.69</td>\n      <td>891878.53</td>\n      <td>1337817.79</td>\n    </tr>\n    <tr>\n      <th>1</th>\n      <td>FORD</td>\n      <td>447941.62</td>\n      <td>671912.43</td>\n      <td>1007868.65</td>\n    </tr>\n    <tr>\n      <th>2</th>\n      <td>HYUNDAI</td>\n      <td>463827.49</td>\n      <td>695741.23</td>\n      <td>1043611.85</td>\n    </tr>\n    <tr>\n      <th>3</th>\n      <td>INFINITI</td>\n      <td>598070.07</td>\n      <td>897105.10</td>\n      <td>1345657.65</td>\n    </tr>\n    <tr>\n      <th>4</th>\n      <td>JAGUAR</td>\n      <td>627276.83</td>\n      <td>940915.24</td>\n      <td>1411372.87</td>\n    </tr>\n    <tr>\n      <th>5</th>\n      <td>KIA</td>\n      <td>465977.98</td>\n      <td>698966.97</td>\n      <td>1048450.45</td>\n    </tr>\n    <tr>\n      <th>6</th>\n      <td>MAZDA</td>\n      <td>547928.35</td>\n      <td>821892.53</td>\n      <td>1232838.80</td>\n    </tr>\n    <tr>\n      <th>7</th>\n      <td>MINI</td>\n      <td>551141.41</td>\n      <td>826712.12</td>\n      <td>1240068.18</td>\n    </tr>\n    <tr>\n      <th>8</th>\n      <td>MITSUBISHI</td>\n      <td>408506.68</td>\n      <td>612760.02</td>\n      <td>919140.04</td>\n    </tr>\n    <tr>\n      <th>9</th>\n      <td>SKODA</td>\n      <td>517790.04</td>\n      <td>776685.07</td>\n      <td>1165027.60</td>\n    </tr>\n    <tr>\n      <th>10</th>\n      <td>TESLA</td>\n      <td>779785.64</td>\n      <td>1169678.46</td>\n      <td>1754517.69</td>\n    </tr>\n    <tr>\n      <th>11</th>\n      <td>VOLKSWAGEN</td>\n      <td>638159.57</td>\n      <td>957239.36</td>\n      <td>1435859.03</td>\n    </tr>\n    <tr>\n      <th>12</th>\n      <td>VOLVO</td>\n      <td>782717.22</td>\n      <td>1174075.83</td>\n      <td>1761113.74</td>\n    </tr>\n  </tbody>\n</table>\n</div>"
     },
     "metadata": {},
     "output_type": "display_data"
    },
    {
     "name": "stdout",
     "output_type": "stream",
     "text": [
      "The most relevant brands sorted by body type \"внедорожник 5 дв.\" in time period from 1990 to 2020 \n",
      " ['CHEVROLET', 'FORD', 'HYUNDAI', 'INFINITI', 'JAGUAR', 'KIA', 'MAZDA', 'MINI', 'MITSUBISHI', 'SKODA', 'TESLA', 'VOLKSWAGEN', 'VOLVO'] \n",
      "\n"
     ]
    },
    {
     "data": {
      "text/plain": "        brand    low_std      std_n   high_std\n0        OPEL  259068.67  388603.01  582904.51\n1       SKODA  293396.90  440095.35  660143.02\n2  VOLKSWAGEN  322848.83  484273.24  726409.87",
      "text/html": "<div>\n<style scoped>\n    .dataframe tbody tr th:only-of-type {\n        vertical-align: middle;\n    }\n\n    .dataframe tbody tr th {\n        vertical-align: top;\n    }\n\n    .dataframe thead th {\n        text-align: right;\n    }\n</style>\n<table border=\"1\" class=\"dataframe\">\n  <thead>\n    <tr style=\"text-align: right;\">\n      <th></th>\n      <th>brand</th>\n      <th>low_std</th>\n      <th>std_n</th>\n      <th>high_std</th>\n    </tr>\n  </thead>\n  <tbody>\n    <tr>\n      <th>0</th>\n      <td>OPEL</td>\n      <td>259068.67</td>\n      <td>388603.01</td>\n      <td>582904.51</td>\n    </tr>\n    <tr>\n      <th>1</th>\n      <td>SKODA</td>\n      <td>293396.90</td>\n      <td>440095.35</td>\n      <td>660143.02</td>\n    </tr>\n    <tr>\n      <th>2</th>\n      <td>VOLKSWAGEN</td>\n      <td>322848.83</td>\n      <td>484273.24</td>\n      <td>726409.87</td>\n    </tr>\n  </tbody>\n</table>\n</div>"
     },
     "metadata": {},
     "output_type": "display_data"
    },
    {
     "name": "stdout",
     "output_type": "stream",
     "text": [
      "The most relevant brands sorted by body type \"лифтбек\" in time period from 1990 to 2020 \n",
      " ['OPEL', 'SKODA', 'VOLKSWAGEN'] \n",
      "\n"
     ]
    },
    {
     "data": {
      "text/plain": "         brand    low_std      std_n   high_std\n0   ALFA_ROMEO  259071.16  388606.73  582910.10\n1    CHEVROLET  142707.70  214061.56  321092.33\n2      CITROEN  144508.68  216763.02  325144.53\n3         FORD  168319.67  252479.50  378719.25\n4        HONDA  169648.02  254472.04  381708.05\n5          KIA  243951.59  365927.39  548891.08\n6        MAZDA  209172.65  313758.97  470638.46\n7         MINI  153244.82  229867.23  344800.84\n8       NISSAN  209899.35  314849.02  472273.54\n9         SEAT  209467.82  314201.72  471302.58\n10       SMART  226193.02  339289.54  508934.30\n11      SUBARU  271942.05  407913.08  611869.62\n12      SUZUKI  160589.95  240884.93  361327.39\n13      TOYOTA  241896.06  362844.08  544266.13\n14  VOLKSWAGEN  243845.51  365768.27  548652.41\n15       VOLVO  193936.04  290904.05  436356.08",
      "text/html": "<div>\n<style scoped>\n    .dataframe tbody tr th:only-of-type {\n        vertical-align: middle;\n    }\n\n    .dataframe tbody tr th {\n        vertical-align: top;\n    }\n\n    .dataframe thead th {\n        text-align: right;\n    }\n</style>\n<table border=\"1\" class=\"dataframe\">\n  <thead>\n    <tr style=\"text-align: right;\">\n      <th></th>\n      <th>brand</th>\n      <th>low_std</th>\n      <th>std_n</th>\n      <th>high_std</th>\n    </tr>\n  </thead>\n  <tbody>\n    <tr>\n      <th>0</th>\n      <td>ALFA_ROMEO</td>\n      <td>259071.16</td>\n      <td>388606.73</td>\n      <td>582910.10</td>\n    </tr>\n    <tr>\n      <th>1</th>\n      <td>CHEVROLET</td>\n      <td>142707.70</td>\n      <td>214061.56</td>\n      <td>321092.33</td>\n    </tr>\n    <tr>\n      <th>2</th>\n      <td>CITROEN</td>\n      <td>144508.68</td>\n      <td>216763.02</td>\n      <td>325144.53</td>\n    </tr>\n    <tr>\n      <th>3</th>\n      <td>FORD</td>\n      <td>168319.67</td>\n      <td>252479.50</td>\n      <td>378719.25</td>\n    </tr>\n    <tr>\n      <th>4</th>\n      <td>HONDA</td>\n      <td>169648.02</td>\n      <td>254472.04</td>\n      <td>381708.05</td>\n    </tr>\n    <tr>\n      <th>5</th>\n      <td>KIA</td>\n      <td>243951.59</td>\n      <td>365927.39</td>\n      <td>548891.08</td>\n    </tr>\n    <tr>\n      <th>6</th>\n      <td>MAZDA</td>\n      <td>209172.65</td>\n      <td>313758.97</td>\n      <td>470638.46</td>\n    </tr>\n    <tr>\n      <th>7</th>\n      <td>MINI</td>\n      <td>153244.82</td>\n      <td>229867.23</td>\n      <td>344800.84</td>\n    </tr>\n    <tr>\n      <th>8</th>\n      <td>NISSAN</td>\n      <td>209899.35</td>\n      <td>314849.02</td>\n      <td>472273.54</td>\n    </tr>\n    <tr>\n      <th>9</th>\n      <td>SEAT</td>\n      <td>209467.82</td>\n      <td>314201.72</td>\n      <td>471302.58</td>\n    </tr>\n    <tr>\n      <th>10</th>\n      <td>SMART</td>\n      <td>226193.02</td>\n      <td>339289.54</td>\n      <td>508934.30</td>\n    </tr>\n    <tr>\n      <th>11</th>\n      <td>SUBARU</td>\n      <td>271942.05</td>\n      <td>407913.08</td>\n      <td>611869.62</td>\n    </tr>\n    <tr>\n      <th>12</th>\n      <td>SUZUKI</td>\n      <td>160589.95</td>\n      <td>240884.93</td>\n      <td>361327.39</td>\n    </tr>\n    <tr>\n      <th>13</th>\n      <td>TOYOTA</td>\n      <td>241896.06</td>\n      <td>362844.08</td>\n      <td>544266.13</td>\n    </tr>\n    <tr>\n      <th>14</th>\n      <td>VOLKSWAGEN</td>\n      <td>243845.51</td>\n      <td>365768.27</td>\n      <td>548652.41</td>\n    </tr>\n    <tr>\n      <th>15</th>\n      <td>VOLVO</td>\n      <td>193936.04</td>\n      <td>290904.05</td>\n      <td>436356.08</td>\n    </tr>\n  </tbody>\n</table>\n</div>"
     },
     "metadata": {},
     "output_type": "display_data"
    },
    {
     "name": "stdout",
     "output_type": "stream",
     "text": [
      "The most relevant brands sorted by body type \"хэтчбек 5 дв.\" in time period from 1990 to 2020 \n",
      " ['ALFA_ROMEO', 'CHEVROLET', 'CITROEN', 'FORD', 'HONDA', 'KIA', 'MAZDA', 'MINI', 'NISSAN', 'SEAT', 'SMART', 'SUBARU', 'SUZUKI', 'TOYOTA', 'VOLKSWAGEN', 'VOLVO'] \n",
      "\n"
     ]
    },
    {
     "data": {
      "text/plain": "         brand    low_std      std_n   high_std\n0         FIAT  327810.52  491715.77  737573.66\n1        HONDA  300080.55  450120.83  675181.25\n2          KIA  249541.58  374312.36  561468.55\n3        MAZDA  297130.25  445695.38  668543.06\n4         MINI  394194.47  591291.71  886937.56\n5         OPEL  216040.43  324060.64  486090.97\n6      RENAULT  295035.82  442553.74  663830.61\n7        SKODA  354599.49  531899.24  797848.85\n8       SUBARU  348904.19  523356.29  785034.43\n9       TOYOTA  225848.97  338773.45  508160.17\n10  VOLKSWAGEN  353478.99  530218.49  795327.73",
      "text/html": "<div>\n<style scoped>\n    .dataframe tbody tr th:only-of-type {\n        vertical-align: middle;\n    }\n\n    .dataframe tbody tr th {\n        vertical-align: top;\n    }\n\n    .dataframe thead th {\n        text-align: right;\n    }\n</style>\n<table border=\"1\" class=\"dataframe\">\n  <thead>\n    <tr style=\"text-align: right;\">\n      <th></th>\n      <th>brand</th>\n      <th>low_std</th>\n      <th>std_n</th>\n      <th>high_std</th>\n    </tr>\n  </thead>\n  <tbody>\n    <tr>\n      <th>0</th>\n      <td>FIAT</td>\n      <td>327810.52</td>\n      <td>491715.77</td>\n      <td>737573.66</td>\n    </tr>\n    <tr>\n      <th>1</th>\n      <td>HONDA</td>\n      <td>300080.55</td>\n      <td>450120.83</td>\n      <td>675181.25</td>\n    </tr>\n    <tr>\n      <th>2</th>\n      <td>KIA</td>\n      <td>249541.58</td>\n      <td>374312.36</td>\n      <td>561468.55</td>\n    </tr>\n    <tr>\n      <th>3</th>\n      <td>MAZDA</td>\n      <td>297130.25</td>\n      <td>445695.38</td>\n      <td>668543.06</td>\n    </tr>\n    <tr>\n      <th>4</th>\n      <td>MINI</td>\n      <td>394194.47</td>\n      <td>591291.71</td>\n      <td>886937.56</td>\n    </tr>\n    <tr>\n      <th>5</th>\n      <td>OPEL</td>\n      <td>216040.43</td>\n      <td>324060.64</td>\n      <td>486090.97</td>\n    </tr>\n    <tr>\n      <th>6</th>\n      <td>RENAULT</td>\n      <td>295035.82</td>\n      <td>442553.74</td>\n      <td>663830.61</td>\n    </tr>\n    <tr>\n      <th>7</th>\n      <td>SKODA</td>\n      <td>354599.49</td>\n      <td>531899.24</td>\n      <td>797848.85</td>\n    </tr>\n    <tr>\n      <th>8</th>\n      <td>SUBARU</td>\n      <td>348904.19</td>\n      <td>523356.29</td>\n      <td>785034.43</td>\n    </tr>\n    <tr>\n      <th>9</th>\n      <td>TOYOTA</td>\n      <td>225848.97</td>\n      <td>338773.45</td>\n      <td>508160.17</td>\n    </tr>\n    <tr>\n      <th>10</th>\n      <td>VOLKSWAGEN</td>\n      <td>353478.99</td>\n      <td>530218.49</td>\n      <td>795327.73</td>\n    </tr>\n  </tbody>\n</table>\n</div>"
     },
     "metadata": {},
     "output_type": "display_data"
    },
    {
     "name": "stdout",
     "output_type": "stream",
     "text": [
      "The most relevant brands sorted by body type \"универсал 5 дв.\" in time period from 1990 to 2020 \n",
      " ['FIAT', 'HONDA', 'KIA', 'MAZDA', 'MINI', 'OPEL', 'RENAULT', 'SKODA', 'SUBARU', 'TOYOTA', 'VOLKSWAGEN'] \n",
      "\n"
     ]
    },
    {
     "data": {
      "text/plain": "        brand    low_std       std_n    high_std\n0    CHRYSLER  652139.98   978209.97  1467314.96\n1     CITROEN  600603.96   900905.94  1351358.91\n2       HONDA  498662.02   747993.04  1121989.56\n3     HYUNDAI  606856.94   910285.42  1365428.12\n4         KIA  997678.77  1496518.16  2244777.24\n5        OPEL  769666.00  1154499.00  1731748.51\n6        SEAT  488439.69   732659.54  1098989.31\n7  VOLKSWAGEN  888161.16  1332241.74  1998362.61",
      "text/html": "<div>\n<style scoped>\n    .dataframe tbody tr th:only-of-type {\n        vertical-align: middle;\n    }\n\n    .dataframe tbody tr th {\n        vertical-align: top;\n    }\n\n    .dataframe thead th {\n        text-align: right;\n    }\n</style>\n<table border=\"1\" class=\"dataframe\">\n  <thead>\n    <tr style=\"text-align: right;\">\n      <th></th>\n      <th>brand</th>\n      <th>low_std</th>\n      <th>std_n</th>\n      <th>high_std</th>\n    </tr>\n  </thead>\n  <tbody>\n    <tr>\n      <th>0</th>\n      <td>CHRYSLER</td>\n      <td>652139.98</td>\n      <td>978209.97</td>\n      <td>1467314.96</td>\n    </tr>\n    <tr>\n      <th>1</th>\n      <td>CITROEN</td>\n      <td>600603.96</td>\n      <td>900905.94</td>\n      <td>1351358.91</td>\n    </tr>\n    <tr>\n      <th>2</th>\n      <td>HONDA</td>\n      <td>498662.02</td>\n      <td>747993.04</td>\n      <td>1121989.56</td>\n    </tr>\n    <tr>\n      <th>3</th>\n      <td>HYUNDAI</td>\n      <td>606856.94</td>\n      <td>910285.42</td>\n      <td>1365428.12</td>\n    </tr>\n    <tr>\n      <th>4</th>\n      <td>KIA</td>\n      <td>997678.77</td>\n      <td>1496518.16</td>\n      <td>2244777.24</td>\n    </tr>\n    <tr>\n      <th>5</th>\n      <td>OPEL</td>\n      <td>769666.00</td>\n      <td>1154499.00</td>\n      <td>1731748.51</td>\n    </tr>\n    <tr>\n      <th>6</th>\n      <td>SEAT</td>\n      <td>488439.69</td>\n      <td>732659.54</td>\n      <td>1098989.31</td>\n    </tr>\n    <tr>\n      <th>7</th>\n      <td>VOLKSWAGEN</td>\n      <td>888161.16</td>\n      <td>1332241.74</td>\n      <td>1998362.61</td>\n    </tr>\n  </tbody>\n</table>\n</div>"
     },
     "metadata": {},
     "output_type": "display_data"
    },
    {
     "name": "stdout",
     "output_type": "stream",
     "text": [
      "The most relevant brands sorted by body type \"минивэн\" in time period from 1990 to 2020 \n",
      " ['CHRYSLER', 'CITROEN', 'HONDA', 'HYUNDAI', 'KIA', 'OPEL', 'SEAT', 'VOLKSWAGEN'] \n",
      "\n"
     ]
    },
    {
     "data": {
      "text/plain": "       brand     low_std       std_n    high_std\n0       AUDI   864262.01  1296393.02  1944589.53\n1        BMW  1187277.12  1780915.68  2671373.53\n2  CHEVROLET  1485514.52  2228271.77  3342407.66\n3       FORD  1068627.04  1602940.55  2404410.83\n4   INFINITI   848325.62  1272488.44  1908732.65\n5     JAGUAR  1189559.29  1784338.94  2676508.40\n6      LEXUS  1098095.21  1647142.81  2470714.22\n7     NISSAN  1304036.04  1956054.07  2934081.10\n8     TOYOTA  1228437.45  1842656.18  2763984.27",
      "text/html": "<div>\n<style scoped>\n    .dataframe tbody tr th:only-of-type {\n        vertical-align: middle;\n    }\n\n    .dataframe tbody tr th {\n        vertical-align: top;\n    }\n\n    .dataframe thead th {\n        text-align: right;\n    }\n</style>\n<table border=\"1\" class=\"dataframe\">\n  <thead>\n    <tr style=\"text-align: right;\">\n      <th></th>\n      <th>brand</th>\n      <th>low_std</th>\n      <th>std_n</th>\n      <th>high_std</th>\n    </tr>\n  </thead>\n  <tbody>\n    <tr>\n      <th>0</th>\n      <td>AUDI</td>\n      <td>864262.01</td>\n      <td>1296393.02</td>\n      <td>1944589.53</td>\n    </tr>\n    <tr>\n      <th>1</th>\n      <td>BMW</td>\n      <td>1187277.12</td>\n      <td>1780915.68</td>\n      <td>2671373.53</td>\n    </tr>\n    <tr>\n      <th>2</th>\n      <td>CHEVROLET</td>\n      <td>1485514.52</td>\n      <td>2228271.77</td>\n      <td>3342407.66</td>\n    </tr>\n    <tr>\n      <th>3</th>\n      <td>FORD</td>\n      <td>1068627.04</td>\n      <td>1602940.55</td>\n      <td>2404410.83</td>\n    </tr>\n    <tr>\n      <th>4</th>\n      <td>INFINITI</td>\n      <td>848325.62</td>\n      <td>1272488.44</td>\n      <td>1908732.65</td>\n    </tr>\n    <tr>\n      <th>5</th>\n      <td>JAGUAR</td>\n      <td>1189559.29</td>\n      <td>1784338.94</td>\n      <td>2676508.40</td>\n    </tr>\n    <tr>\n      <th>6</th>\n      <td>LEXUS</td>\n      <td>1098095.21</td>\n      <td>1647142.81</td>\n      <td>2470714.22</td>\n    </tr>\n    <tr>\n      <th>7</th>\n      <td>NISSAN</td>\n      <td>1304036.04</td>\n      <td>1956054.07</td>\n      <td>2934081.10</td>\n    </tr>\n    <tr>\n      <th>8</th>\n      <td>TOYOTA</td>\n      <td>1228437.45</td>\n      <td>1842656.18</td>\n      <td>2763984.27</td>\n    </tr>\n  </tbody>\n</table>\n</div>"
     },
     "metadata": {},
     "output_type": "display_data"
    },
    {
     "name": "stdout",
     "output_type": "stream",
     "text": [
      "The most relevant brands sorted by body type \"купе\" in time period from 1990 to 2020 \n",
      " ['AUDI', 'BMW', 'CHEVROLET', 'FORD', 'INFINITI', 'JAGUAR', 'LEXUS', 'NISSAN', 'TOYOTA'] \n",
      "\n"
     ]
    },
    {
     "data": {
      "text/plain": "        brand    low_std      std_n   high_std\n0         BMW  156184.32  234276.47  351414.71\n1   CHEVROLET  205805.41  308708.11  463062.16\n2     CITROEN  214172.04  321258.06  481887.09\n3        FIAT  172488.84  258733.27  388099.90\n4        FORD  132306.23  198459.34  297689.01\n5         KIA  127560.50  191340.75  287011.12\n6       MAZDA  165563.93  248345.90  372518.85\n7      NISSAN  101372.36  152058.54  228087.81\n8        OPEL  201242.04  301863.06  452794.58\n9     PEUGEOT  130164.86  195247.29  292870.94\n10    RENAULT  195686.80  293530.21  440295.31\n11       SEAT  205406.96  308110.44  462165.66\n12     TOYOTA  212711.04  319066.56  478599.85",
      "text/html": "<div>\n<style scoped>\n    .dataframe tbody tr th:only-of-type {\n        vertical-align: middle;\n    }\n\n    .dataframe tbody tr th {\n        vertical-align: top;\n    }\n\n    .dataframe thead th {\n        text-align: right;\n    }\n</style>\n<table border=\"1\" class=\"dataframe\">\n  <thead>\n    <tr style=\"text-align: right;\">\n      <th></th>\n      <th>brand</th>\n      <th>low_std</th>\n      <th>std_n</th>\n      <th>high_std</th>\n    </tr>\n  </thead>\n  <tbody>\n    <tr>\n      <th>0</th>\n      <td>BMW</td>\n      <td>156184.32</td>\n      <td>234276.47</td>\n      <td>351414.71</td>\n    </tr>\n    <tr>\n      <th>1</th>\n      <td>CHEVROLET</td>\n      <td>205805.41</td>\n      <td>308708.11</td>\n      <td>463062.16</td>\n    </tr>\n    <tr>\n      <th>2</th>\n      <td>CITROEN</td>\n      <td>214172.04</td>\n      <td>321258.06</td>\n      <td>481887.09</td>\n    </tr>\n    <tr>\n      <th>3</th>\n      <td>FIAT</td>\n      <td>172488.84</td>\n      <td>258733.27</td>\n      <td>388099.90</td>\n    </tr>\n    <tr>\n      <th>4</th>\n      <td>FORD</td>\n      <td>132306.23</td>\n      <td>198459.34</td>\n      <td>297689.01</td>\n    </tr>\n    <tr>\n      <th>5</th>\n      <td>KIA</td>\n      <td>127560.50</td>\n      <td>191340.75</td>\n      <td>287011.12</td>\n    </tr>\n    <tr>\n      <th>6</th>\n      <td>MAZDA</td>\n      <td>165563.93</td>\n      <td>248345.90</td>\n      <td>372518.85</td>\n    </tr>\n    <tr>\n      <th>7</th>\n      <td>NISSAN</td>\n      <td>101372.36</td>\n      <td>152058.54</td>\n      <td>228087.81</td>\n    </tr>\n    <tr>\n      <th>8</th>\n      <td>OPEL</td>\n      <td>201242.04</td>\n      <td>301863.06</td>\n      <td>452794.58</td>\n    </tr>\n    <tr>\n      <th>9</th>\n      <td>PEUGEOT</td>\n      <td>130164.86</td>\n      <td>195247.29</td>\n      <td>292870.94</td>\n    </tr>\n    <tr>\n      <th>10</th>\n      <td>RENAULT</td>\n      <td>195686.80</td>\n      <td>293530.21</td>\n      <td>440295.31</td>\n    </tr>\n    <tr>\n      <th>11</th>\n      <td>SEAT</td>\n      <td>205406.96</td>\n      <td>308110.44</td>\n      <td>462165.66</td>\n    </tr>\n    <tr>\n      <th>12</th>\n      <td>TOYOTA</td>\n      <td>212711.04</td>\n      <td>319066.56</td>\n      <td>478599.85</td>\n    </tr>\n  </tbody>\n</table>\n</div>"
     },
     "metadata": {},
     "output_type": "display_data"
    },
    {
     "name": "stdout",
     "output_type": "stream",
     "text": [
      "The most relevant brands sorted by body type \"компактвэн\" in time period from 1990 to 2020 \n",
      " ['BMW', 'CHEVROLET', 'CITROEN', 'FIAT', 'FORD', 'KIA', 'MAZDA', 'NISSAN', 'OPEL', 'PEUGEOT', 'RENAULT', 'SEAT', 'TOYOTA'] \n",
      "\n"
     ]
    },
    {
     "data": {
      "text/plain": "      brand    low_std      std_n   high_std\n0      AUDI  221092.75  331639.12  497458.69\n1       BMW  248109.02  372163.53  558245.30\n2      FORD  189075.16  283612.75  425419.12\n3     HONDA  210127.35  315191.02  472786.53\n4       KIA  154910.09  232365.13  348547.69\n5      OPEL  126752.27  190128.41  285192.62\n6   PEUGEOT  125789.56  188684.34  283026.52\n7   RENAULT  168006.27  252009.40  378014.11\n8      SEAT  255953.98  383930.97  575896.45\n9     SMART  210984.08  316476.13  474714.19\n10   SUZUKI  138722.59  208083.89  312125.83\n11   TOYOTA  150683.10  226024.65  339036.98",
      "text/html": "<div>\n<style scoped>\n    .dataframe tbody tr th:only-of-type {\n        vertical-align: middle;\n    }\n\n    .dataframe tbody tr th {\n        vertical-align: top;\n    }\n\n    .dataframe thead th {\n        text-align: right;\n    }\n</style>\n<table border=\"1\" class=\"dataframe\">\n  <thead>\n    <tr style=\"text-align: right;\">\n      <th></th>\n      <th>brand</th>\n      <th>low_std</th>\n      <th>std_n</th>\n      <th>high_std</th>\n    </tr>\n  </thead>\n  <tbody>\n    <tr>\n      <th>0</th>\n      <td>AUDI</td>\n      <td>221092.75</td>\n      <td>331639.12</td>\n      <td>497458.69</td>\n    </tr>\n    <tr>\n      <th>1</th>\n      <td>BMW</td>\n      <td>248109.02</td>\n      <td>372163.53</td>\n      <td>558245.30</td>\n    </tr>\n    <tr>\n      <th>2</th>\n      <td>FORD</td>\n      <td>189075.16</td>\n      <td>283612.75</td>\n      <td>425419.12</td>\n    </tr>\n    <tr>\n      <th>3</th>\n      <td>HONDA</td>\n      <td>210127.35</td>\n      <td>315191.02</td>\n      <td>472786.53</td>\n    </tr>\n    <tr>\n      <th>4</th>\n      <td>KIA</td>\n      <td>154910.09</td>\n      <td>232365.13</td>\n      <td>348547.69</td>\n    </tr>\n    <tr>\n      <th>5</th>\n      <td>OPEL</td>\n      <td>126752.27</td>\n      <td>190128.41</td>\n      <td>285192.62</td>\n    </tr>\n    <tr>\n      <th>6</th>\n      <td>PEUGEOT</td>\n      <td>125789.56</td>\n      <td>188684.34</td>\n      <td>283026.52</td>\n    </tr>\n    <tr>\n      <th>7</th>\n      <td>RENAULT</td>\n      <td>168006.27</td>\n      <td>252009.40</td>\n      <td>378014.11</td>\n    </tr>\n    <tr>\n      <th>8</th>\n      <td>SEAT</td>\n      <td>255953.98</td>\n      <td>383930.97</td>\n      <td>575896.45</td>\n    </tr>\n    <tr>\n      <th>9</th>\n      <td>SMART</td>\n      <td>210984.08</td>\n      <td>316476.13</td>\n      <td>474714.19</td>\n    </tr>\n    <tr>\n      <th>10</th>\n      <td>SUZUKI</td>\n      <td>138722.59</td>\n      <td>208083.89</td>\n      <td>312125.83</td>\n    </tr>\n    <tr>\n      <th>11</th>\n      <td>TOYOTA</td>\n      <td>150683.10</td>\n      <td>226024.65</td>\n      <td>339036.98</td>\n    </tr>\n  </tbody>\n</table>\n</div>"
     },
     "metadata": {},
     "output_type": "display_data"
    },
    {
     "name": "stdout",
     "output_type": "stream",
     "text": [
      "The most relevant brands sorted by body type \"хэтчбек 3 дв.\" in time period from 1990 to 2020 \n",
      " ['AUDI', 'BMW', 'FORD', 'HONDA', 'KIA', 'OPEL', 'PEUGEOT', 'RENAULT', 'SEAT', 'SMART', 'SUZUKI', 'TOYOTA'] \n",
      "\n"
     ]
    },
    {
     "data": {
      "text/plain": "        brand    low_std      std_n    high_std\n0   CHEVROLET  498569.38  747854.07  1121781.11\n1    MERCEDES  420492.83  630739.25   946108.87\n2  MITSUBISHI  445435.30  668152.96  1002229.43\n3  VOLKSWAGEN  495672.27  743508.41  1115262.62",
      "text/html": "<div>\n<style scoped>\n    .dataframe tbody tr th:only-of-type {\n        vertical-align: middle;\n    }\n\n    .dataframe tbody tr th {\n        vertical-align: top;\n    }\n\n    .dataframe thead th {\n        text-align: right;\n    }\n</style>\n<table border=\"1\" class=\"dataframe\">\n  <thead>\n    <tr style=\"text-align: right;\">\n      <th></th>\n      <th>brand</th>\n      <th>low_std</th>\n      <th>std_n</th>\n      <th>high_std</th>\n    </tr>\n  </thead>\n  <tbody>\n    <tr>\n      <th>0</th>\n      <td>CHEVROLET</td>\n      <td>498569.38</td>\n      <td>747854.07</td>\n      <td>1121781.11</td>\n    </tr>\n    <tr>\n      <th>1</th>\n      <td>MERCEDES</td>\n      <td>420492.83</td>\n      <td>630739.25</td>\n      <td>946108.87</td>\n    </tr>\n    <tr>\n      <th>2</th>\n      <td>MITSUBISHI</td>\n      <td>445435.30</td>\n      <td>668152.96</td>\n      <td>1002229.43</td>\n    </tr>\n    <tr>\n      <th>3</th>\n      <td>VOLKSWAGEN</td>\n      <td>495672.27</td>\n      <td>743508.41</td>\n      <td>1115262.62</td>\n    </tr>\n  </tbody>\n</table>\n</div>"
     },
     "metadata": {},
     "output_type": "display_data"
    },
    {
     "name": "stdout",
     "output_type": "stream",
     "text": [
      "The most relevant brands sorted by body type \"пикап двойная кабина\" in time period from 1990 to 2020 \n",
      " ['CHEVROLET', 'MERCEDES', 'MITSUBISHI', 'VOLKSWAGEN'] \n",
      "\n"
     ]
    }
   ]
  },
  {
   "cell_type": "markdown",
   "source": "#### _The list of relevant brands_",
   "metadata": {}
  },
  {
   "cell_type": "code",
   "source": "relevant_brands_lst = set(brand_lst)\nprint(relevant_brands_lst,'\\n','\\n', f'Total amount of relevant brands was reduced to {len(relevant_brands_lst)}')\n",
   "metadata": {
    "execution": {
     "iopub.status.busy": "2021-09-03T20:45:35.637801Z",
     "iopub.execute_input": "2021-09-03T20:45:35.638275Z",
     "iopub.status.idle": "2021-09-03T20:45:35.645473Z",
     "shell.execute_reply.started": "2021-09-03T20:45:35.638227Z",
     "shell.execute_reply": "2021-09-03T20:45:35.644030Z"
    },
    "trusted": true
   },
   "execution_count": 66,
   "outputs": [
    {
     "name": "stdout",
     "output_type": "stream",
     "text": [
      "{'SUBARU', 'CITROEN', 'BMW', 'FORD', 'SMART', 'ALFA_ROMEO', 'VOLVO', 'TESLA', 'MAZDA', 'HYUNDAI', 'AUDI', 'MERCEDES', 'INFINITI', 'CHEVROLET', 'SKODA', 'SUZUKI', 'SEAT', 'LEXUS', 'MITSUBISHI', 'HONDA', 'CHRYSLER', 'OPEL', 'NISSAN', 'FIAT', 'TOYOTA', 'VOLKSWAGEN', 'JAGUAR', 'KIA', 'MINI', 'RENAULT', 'PEUGEOT'} \n",
      " \n",
      " Total amount of relevant brands was reduced to 31\n"
     ]
    }
   ]
  },
  {
   "cell_type": "markdown",
   "source": "#### _The updated dataset by relevant models list_",
   "metadata": {}
  },
  {
   "cell_type": "code",
   "source": "df = df[df['brand'].isin(relevant_brands_lst)]\ndf[(df['sample'] == 0)].shape",
   "metadata": {
    "execution": {
     "iopub.status.busy": "2021-09-03T20:45:35.647473Z",
     "iopub.execute_input": "2021-09-03T20:45:35.647961Z",
     "iopub.status.idle": "2021-09-03T20:45:35.707366Z",
     "shell.execute_reply.started": "2021-09-03T20:45:35.647910Z",
     "shell.execute_reply": "2021-09-03T20:45:35.706201Z"
    },
    "trusted": true
   },
   "execution_count": 67,
   "outputs": [
    {
     "data": {
      "text/plain": "(34686, 24)"
     },
     "execution_count": 67,
     "metadata": {},
     "output_type": "execute_result"
    }
   ]
  },
  {
   "cell_type": "code",
   "source": "cat_feature_overview(df.brand)",
   "metadata": {
    "execution": {
     "iopub.status.busy": "2021-09-03T20:45:35.708812Z",
     "iopub.execute_input": "2021-09-03T20:45:35.709143Z",
     "iopub.status.idle": "2021-09-03T20:45:36.252864Z",
     "shell.execute_reply.started": "2021-09-03T20:45:35.709109Z",
     "shell.execute_reply": "2021-09-03T20:45:36.251890Z"
    },
    "trusted": true
   },
   "execution_count": 68,
   "outputs": [
    {
     "name": "stdout",
     "output_type": "stream",
     "text": [
      "Total lines: 84213\n",
      "Data types: object\n",
      "Total values: 84213\n",
      "The most frequent value: VOLKSWAGEN\n",
      "The less frequent value: TESLA\n",
      "Unique values: 31\n",
      "Missing values: 0\n"
     ]
    },
    {
     "data": {
      "text/plain": "<Figure size 432x288 with 1 Axes>",
      "image/png": "[encoded data removed]"
     },
     "metadata": {},
     "output_type": "display_data"
    }
   ]
  },
  {
   "cell_type": "markdown",
   "source": "### 2.2.7 fuelType",
   "metadata": {}
  },
  {
   "cell_type": "code",
   "source": "cat_feature_overview(df.fuelType)",
   "metadata": {
    "execution": {
     "iopub.status.busy": "2021-09-03T20:45:36.256173Z",
     "iopub.execute_input": "2021-09-03T20:45:36.256672Z",
     "iopub.status.idle": "2021-09-03T20:45:36.657055Z",
     "shell.execute_reply.started": "2021-09-03T20:45:36.256631Z",
     "shell.execute_reply": "2021-09-03T20:45:36.655566Z"
    },
    "trusted": true
   },
   "execution_count": 69,
   "outputs": [
    {
     "name": "stdout",
     "output_type": "stream",
     "text": [
      "Total lines: 84213\n",
      "Data types: object\n",
      "Total values: 84213\n",
      "The most frequent value: бензин\n",
      "The less frequent value: газ\n",
      "Unique values: 5\n",
      "Missing values: 0\n"
     ]
    },
    {
     "data": {
      "text/plain": "<Figure size 432x288 with 1 Axes>",
      "image/png": "[encoded data removed]"
     },
     "metadata": {},
     "output_type": "display_data"
    }
   ]
  },
  {
   "cell_type": "code",
   "source": "#check wether are same the fuel types at the test dataset and training dataset\n\nprint('at the test dataset', '\\n',test.fuelType.value_counts(), '\\n')\nprint('at the train dataset','\\n',train.fuelType.value_counts(),'\\n')",
   "metadata": {
    "execution": {
     "iopub.status.busy": "2021-09-03T20:45:36.658773Z",
     "iopub.execute_input": "2021-09-03T20:45:36.659094Z",
     "iopub.status.idle": "2021-09-03T20:45:36.699215Z",
     "shell.execute_reply.started": "2021-09-03T20:45:36.659063Z",
     "shell.execute_reply": "2021-09-03T20:45:36.697923Z"
    },
    "trusted": true
   },
   "execution_count": 70,
   "outputs": [
    {
     "name": "stdout",
     "output_type": "stream",
     "text": [
      "at the test dataset \n",
      " бензин     28601\n",
      "дизель      5800\n",
      "гибрид       223\n",
      "электро       55\n",
      "газ            7\n",
      "Name: fuelType, dtype: int64 \n",
      "\n",
      "at the train dataset \n",
      " бензин     50893\n",
      "дизель      8452\n",
      "гибрид       244\n",
      "электро      164\n",
      "газ            8\n",
      "Name: fuelType, dtype: int64 \n",
      "\n"
     ]
    }
   ]
  },
  {
   "cell_type": "markdown",
   "source": "### 2.2.8 engineDisplacement",
   "metadata": {}
  },
  {
   "cell_type": "code",
   "source": "num_feature_overview(df.engineDisplacement)",
   "metadata": {
    "execution": {
     "iopub.status.busy": "2021-09-03T20:45:36.700741Z",
     "iopub.execute_input": "2021-09-03T20:45:36.701048Z",
     "iopub.status.idle": "2021-09-03T20:45:36.779882Z",
     "shell.execute_reply.started": "2021-09-03T20:45:36.701018Z",
     "shell.execute_reply": "2021-09-03T20:45:36.778617Z"
    },
    "trusted": true
   },
   "execution_count": 71,
   "outputs": [
    {
     "name": "stdout",
     "output_type": "stream",
     "text": [
      "Total lines: 84213\n",
      "Data types: object\n",
      "Total values: 84213\n",
      "The most frequent value: 1.6\n",
      "The less frequent value: 6.5\n",
      "Unique values: 111\n",
      "Missing values: 0\n"
     ]
    }
   ]
  },
  {
   "cell_type": "code",
   "source": "df.engineDisplacement.value_counts()",
   "metadata": {
    "execution": {
     "iopub.status.busy": "2021-09-03T20:45:36.781668Z",
     "iopub.execute_input": "2021-09-03T20:45:36.782017Z",
     "iopub.status.idle": "2021-09-03T20:45:36.812794Z",
     "shell.execute_reply.started": "2021-09-03T20:45:36.781984Z",
     "shell.execute_reply": "2021-09-03T20:45:36.811770Z"
    },
    "trusted": true
   },
   "execution_count": 72,
   "outputs": [
    {
     "data": {
      "text/plain": "1.6        11888\n2.0        11442\n2.0 LTR     7391\n1.6 LTR     4973\n3.0 LTR     3915\n           ...  \n8.1            2\n3.9            2\n3.9 LTR        1\n5.3 LTR        1\n6.5            1\nName: engineDisplacement, Length: 111, dtype: int64"
     },
     "execution_count": 72,
     "metadata": {},
     "output_type": "execute_result"
    }
   ]
  },
  {
   "cell_type": "code",
   "source": "def float_value(feature):\n    '''the cleaning function returns the \n    float value's type\n    '''\n    pattern = re.compile('([^\\d.]+)')\n    feature = feature.replace(pattern, '')\n    oft_value = feature.value_counts(sort=True).keys()[0]\n    feature = feature.replace('', oft_value).astype(float, errors = 'raise')\n    return feature",
   "metadata": {
    "execution": {
     "iopub.status.busy": "2021-09-03T20:45:36.814217Z",
     "iopub.execute_input": "2021-09-03T20:45:36.814573Z",
     "iopub.status.idle": "2021-09-03T20:45:36.821756Z",
     "shell.execute_reply.started": "2021-09-03T20:45:36.814540Z",
     "shell.execute_reply": "2021-09-03T20:45:36.820849Z"
    },
    "trusted": true
   },
   "execution_count": 73,
   "outputs": []
  },
  {
   "cell_type": "code",
   "source": "df['engineDisplacement'] = float_value(df['engineDisplacement'])",
   "metadata": {
    "execution": {
     "iopub.status.busy": "2021-09-03T20:45:36.823233Z",
     "iopub.execute_input": "2021-09-03T20:45:36.823588Z",
     "iopub.status.idle": "2021-09-03T20:45:37.051667Z",
     "shell.execute_reply.started": "2021-09-03T20:45:36.823555Z",
     "shell.execute_reply": "2021-09-03T20:45:37.050645Z"
    },
    "trusted": true
   },
   "execution_count": 74,
   "outputs": []
  },
  {
   "cell_type": "code",
   "source": "df.engineDisplacement.describe()",
   "metadata": {
    "execution": {
     "iopub.status.busy": "2021-09-03T20:45:37.053341Z",
     "iopub.execute_input": "2021-09-03T20:45:37.053696Z",
     "iopub.status.idle": "2021-09-03T20:45:37.070557Z",
     "shell.execute_reply.started": "2021-09-03T20:45:37.053663Z",
     "shell.execute_reply": "2021-09-03T20:45:37.069465Z"
    },
    "trusted": true
   },
   "execution_count": 75,
   "outputs": [
    {
     "data": {
      "text/plain": "count    84213.000000\nmean         2.212673\nstd          0.842872\nmin          0.000000\n25%          1.600000\n50%          2.000000\n75%          2.500000\nmax          8.100000\nName: engineDisplacement, dtype: float64"
     },
     "execution_count": 75,
     "metadata": {},
     "output_type": "execute_result"
    }
   ]
  },
  {
   "cell_type": "code",
   "source": "#sampling the relevant engineDisplacement range on train dataset\ndf.drop(df[(df['sample'] == 1) & (df.engineDisplacement < 0.9) & (df.engineDisplacement > 6)].index, inplace=True)\ndf[(df['sample'] == 0)].shape",
   "metadata": {
    "execution": {
     "iopub.status.busy": "2021-09-03T20:45:37.072166Z",
     "iopub.execute_input": "2021-09-03T20:45:37.072577Z",
     "iopub.status.idle": "2021-09-03T20:45:37.132188Z",
     "shell.execute_reply.started": "2021-09-03T20:45:37.072541Z",
     "shell.execute_reply": "2021-09-03T20:45:37.131144Z"
    },
    "trusted": true
   },
   "execution_count": 76,
   "outputs": [
    {
     "data": {
      "text/plain": "(34686, 24)"
     },
     "execution_count": 76,
     "metadata": {},
     "output_type": "execute_result"
    }
   ]
  },
  {
   "cell_type": "code",
   "source": "#Distribution of the engineDisplacement \ncheck_iqr(df.engineDisplacement)",
   "metadata": {
    "execution": {
     "iopub.status.busy": "2021-09-03T20:45:37.136227Z",
     "iopub.execute_input": "2021-09-03T20:45:37.136617Z",
     "iopub.status.idle": "2021-09-03T20:45:37.546468Z",
     "shell.execute_reply.started": "2021-09-03T20:45:37.136583Z",
     "shell.execute_reply": "2021-09-03T20:45:37.545124Z"
    },
    "trusted": true
   },
   "execution_count": 77,
   "outputs": [
    {
     "name": "stderr",
     "output_type": "stream",
     "text": [
      "c:\\users\\asyac\\appdata\\local\\programs\\python\\python38\\lib\\site-packages\\seaborn\\distributions.py:2557: FutureWarning: `distplot` is a deprecated function and will be removed in a future version. Please adapt your code to use either `displot` (a figure-level function with similar flexibility) or `histplot` (an axes-level function for histograms).\n",
      "  warnings.warn(msg, FutureWarning)\n"
     ]
    },
    {
     "data": {
      "text/plain": "<Figure size 720x360 with 1 Axes>",
      "image/png": "[encoded data removed]"
     },
     "metadata": {},
     "output_type": "display_data"
    },
    {
     "data": {
      "text/plain": "    Q1   Q3  IQR  low_outlier  high_outlier\n0  1.6  2.5  0.9         0.25          3.85",
      "text/html": "<div>\n<style scoped>\n    .dataframe tbody tr th:only-of-type {\n        vertical-align: middle;\n    }\n\n    .dataframe tbody tr th {\n        vertical-align: top;\n    }\n\n    .dataframe thead th {\n        text-align: right;\n    }\n</style>\n<table border=\"1\" class=\"dataframe\">\n  <thead>\n    <tr style=\"text-align: right;\">\n      <th></th>\n      <th>Q1</th>\n      <th>Q3</th>\n      <th>IQR</th>\n      <th>low_outlier</th>\n      <th>high_outlier</th>\n    </tr>\n  </thead>\n  <tbody>\n    <tr>\n      <th>0</th>\n      <td>1.6</td>\n      <td>2.5</td>\n      <td>0.9</td>\n      <td>0.25</td>\n      <td>3.85</td>\n    </tr>\n  </tbody>\n</table>\n</div>"
     },
     "execution_count": 77,
     "metadata": {},
     "output_type": "execute_result"
    }
   ]
  },
  {
   "cell_type": "code",
   "source": "#For further modeling seems to be used a log-function of engineDisplacement  feature\ndf['engineDisplacement _log']=df['engineDisplacement'].apply(lambda x: np.log(x))",
   "metadata": {
    "execution": {
     "iopub.status.busy": "2021-09-03T20:45:37.547780Z",
     "iopub.execute_input": "2021-09-03T20:45:37.548093Z",
     "iopub.status.idle": "2021-09-03T20:45:37.748448Z",
     "shell.execute_reply.started": "2021-09-03T20:45:37.548065Z",
     "shell.execute_reply": "2021-09-03T20:45:37.747188Z"
    },
    "trusted": true
   },
   "execution_count": 78,
   "outputs": []
  },
  {
   "cell_type": "code",
   "source": "num_feature_overview(df.engineDisplacement)",
   "metadata": {
    "execution": {
     "iopub.status.busy": "2021-09-03T20:45:37.749732Z",
     "iopub.execute_input": "2021-09-03T20:45:37.750033Z",
     "iopub.status.idle": "2021-09-03T20:45:37.765094Z",
     "shell.execute_reply.started": "2021-09-03T20:45:37.750006Z",
     "shell.execute_reply": "2021-09-03T20:45:37.763522Z"
    },
    "trusted": true
   },
   "execution_count": 79,
   "outputs": [
    {
     "name": "stdout",
     "output_type": "stream",
     "text": [
      "Total lines: 84213\n",
      "Data types: float64\n",
      "Total values: 84213\n",
      "The most frequent value: 2.0\n",
      "The less frequent value: 6.5\n",
      "Unique values: 62\n",
      "Missing values: 0\n"
     ]
    }
   ]
  },
  {
   "cell_type": "markdown",
   "source": "### 2.2.9 numberOfDoors",
   "metadata": {}
  },
  {
   "cell_type": "code",
   "source": "num_feature_overview(df.numberOfDoors)",
   "metadata": {
    "execution": {
     "iopub.status.busy": "2021-09-03T20:45:37.767504Z",
     "iopub.execute_input": "2021-09-03T20:45:37.767853Z",
     "iopub.status.idle": "2021-09-03T20:45:37.779469Z",
     "shell.execute_reply.started": "2021-09-03T20:45:37.767821Z",
     "shell.execute_reply": "2021-09-03T20:45:37.778605Z"
    },
    "trusted": true
   },
   "execution_count": 80,
   "outputs": [
    {
     "name": "stdout",
     "output_type": "stream",
     "text": [
      "Total lines: 84213\n",
      "Data types: int64\n",
      "Total values: 84213\n",
      "The most frequent value: 5\n",
      "The less frequent value: 0\n",
      "Unique values: 5\n",
      "Missing values: 0\n"
     ]
    }
   ]
  },
  {
   "cell_type": "code",
   "source": "#check the '0' value\ndf[(df.numberOfDoors == 0)]",
   "metadata": {
    "execution": {
     "iopub.status.busy": "2021-09-03T20:45:37.780903Z",
     "iopub.execute_input": "2021-09-03T20:45:37.781218Z",
     "iopub.status.idle": "2021-09-03T20:45:37.809023Z",
     "shell.execute_reply.started": "2021-09-03T20:45:37.781186Z",
     "shell.execute_reply": "2021-09-03T20:45:37.807957Z"
    },
    "trusted": true
   },
   "execution_count": 81,
   "outputs": [
    {
     "data": {
      "text/plain": "        bodyType     brand  color complectation_dict  engineDisplacement  \\\n16944  кабриолет  MERCEDES  белый                NaN                 5.3   \n\n       enginePower equipment_dict fuelType  mileage  modelDate model_name  \\\n16944           32            NaN   бензин    48000       1904    SIMPLEX   \n\n                   name  numberOfDoors  productionDate vehicleTransmission  \\\n16944  5.3 MT (32 л.с.)              0            1904        механическая   \n\n         vendor   Владельцы           Владение       ПТС  Привод    Руль  \\\n16944  EUROPEAN  1 владелец  6 лет и 8 месяцев  Оригинал  задний  Правый   \n\n       price  sample  price_log  engineDisplacement _log  \n16944    0.0       0        0.0                 1.667707  ",
      "text/html": "<div>\n<style scoped>\n    .dataframe tbody tr th:only-of-type {\n        vertical-align: middle;\n    }\n\n    .dataframe tbody tr th {\n        vertical-align: top;\n    }\n\n    .dataframe thead th {\n        text-align: right;\n    }\n</style>\n<table border=\"1\" class=\"dataframe\">\n  <thead>\n    <tr style=\"text-align: right;\">\n      <th></th>\n      <th>bodyType</th>\n      <th>brand</th>\n      <th>color</th>\n      <th>complectation_dict</th>\n      <th>engineDisplacement</th>\n      <th>enginePower</th>\n      <th>equipment_dict</th>\n      <th>fuelType</th>\n      <th>mileage</th>\n      <th>modelDate</th>\n      <th>model_name</th>\n      <th>name</th>\n      <th>numberOfDoors</th>\n      <th>productionDate</th>\n      <th>vehicleTransmission</th>\n      <th>vendor</th>\n      <th>Владельцы</th>\n      <th>Владение</th>\n      <th>ПТС</th>\n      <th>Привод</th>\n      <th>Руль</th>\n      <th>price</th>\n      <th>sample</th>\n      <th>price_log</th>\n      <th>engineDisplacement _log</th>\n    </tr>\n  </thead>\n  <tbody>\n    <tr>\n      <th>16944</th>\n      <td>кабриолет</td>\n      <td>MERCEDES</td>\n      <td>белый</td>\n      <td>NaN</td>\n      <td>5.3</td>\n      <td>32</td>\n      <td>NaN</td>\n      <td>бензин</td>\n      <td>48000</td>\n      <td>1904</td>\n      <td>SIMPLEX</td>\n      <td>5.3 MT (32 л.с.)</td>\n      <td>0</td>\n      <td>1904</td>\n      <td>механическая</td>\n      <td>EUROPEAN</td>\n      <td>1 владелец</td>\n      <td>6 лет и 8 месяцев</td>\n      <td>Оригинал</td>\n      <td>задний</td>\n      <td>Правый</td>\n      <td>0.0</td>\n      <td>0</td>\n      <td>0.0</td>\n      <td>1.667707</td>\n    </tr>\n  </tbody>\n</table>\n</div>"
     },
     "execution_count": 81,
     "metadata": {},
     "output_type": "execute_result"
    }
   ]
  },
  {
   "cell_type": "code",
   "source": "df.iloc[16944, 12] = 2#replace the numberOfDoor at cell 16944",
   "metadata": {
    "execution": {
     "iopub.status.busy": "2021-09-03T20:45:37.810498Z",
     "iopub.execute_input": "2021-09-03T20:45:37.810804Z",
     "iopub.status.idle": "2021-09-03T20:45:37.816171Z",
     "shell.execute_reply.started": "2021-09-03T20:45:37.810775Z",
     "shell.execute_reply": "2021-09-03T20:45:37.815416Z"
    },
    "trusted": true
   },
   "execution_count": 82,
   "outputs": []
  },
  {
   "cell_type": "code",
   "source": "df.iloc[16944, 12]#check",
   "metadata": {
    "execution": {
     "iopub.status.busy": "2021-09-03T20:45:37.817214Z",
     "iopub.execute_input": "2021-09-03T20:45:37.817668Z",
     "iopub.status.idle": "2021-09-03T20:45:37.831266Z",
     "shell.execute_reply.started": "2021-09-03T20:45:37.817636Z",
     "shell.execute_reply": "2021-09-03T20:45:37.830443Z"
    },
    "trusted": true
   },
   "execution_count": 83,
   "outputs": [
    {
     "data": {
      "text/plain": "2"
     },
     "execution_count": 83,
     "metadata": {},
     "output_type": "execute_result"
    }
   ]
  },
  {
   "cell_type": "code",
   "source": "df.numberOfDoors.describe()",
   "metadata": {
    "execution": {
     "iopub.status.busy": "2021-09-03T20:45:37.832424Z",
     "iopub.execute_input": "2021-09-03T20:45:37.832864Z",
     "iopub.status.idle": "2021-09-03T20:45:37.854173Z",
     "shell.execute_reply.started": "2021-09-03T20:45:37.832833Z",
     "shell.execute_reply": "2021-09-03T20:45:37.852544Z"
    },
    "trusted": true
   },
   "execution_count": 84,
   "outputs": [
    {
     "data": {
      "text/plain": "count    84213.000000\nmean         4.479807\nstd          0.681250\nmin          2.000000\n25%          4.000000\n50%          5.000000\n75%          5.000000\nmax          5.000000\nName: numberOfDoors, dtype: float64"
     },
     "execution_count": 84,
     "metadata": {},
     "output_type": "execute_result"
    }
   ]
  },
  {
   "cell_type": "code",
   "source": "#check\n\nplt.hist(df.numberOfDoors)",
   "metadata": {
    "execution": {
     "iopub.status.busy": "2021-09-03T20:45:37.855734Z",
     "iopub.execute_input": "2021-09-03T20:45:37.856098Z",
     "iopub.status.idle": "2021-09-03T20:45:38.170197Z",
     "shell.execute_reply.started": "2021-09-03T20:45:37.856061Z",
     "shell.execute_reply": "2021-09-03T20:45:38.169253Z"
    },
    "trusted": true
   },
   "execution_count": 85,
   "outputs": [
    {
     "data": {
      "text/plain": "(array([ 2244.,     0.,     0.,  2300.,     0.,     0., 32475.,     0.,\n            0., 47194.]),\n array([2. , 2.3, 2.6, 2.9, 3.2, 3.5, 3.8, 4.1, 4.4, 4.7, 5. ]),\n <BarContainer object of 10 artists>)"
     },
     "execution_count": 85,
     "metadata": {},
     "output_type": "execute_result"
    },
    {
     "data": {
      "text/plain": "<Figure size 432x288 with 1 Axes>",
      "image/png": "[encoded data removed]"
     },
     "metadata": {},
     "output_type": "display_data"
    }
   ]
  },
  {
   "cell_type": "markdown",
   "source": "### 2.2.10 mileage",
   "metadata": {}
  },
  {
   "cell_type": "code",
   "source": "num_feature_overview(df.mileage)",
   "metadata": {
    "execution": {
     "iopub.status.busy": "2021-09-03T20:45:38.171495Z",
     "iopub.execute_input": "2021-09-03T20:45:38.171934Z",
     "iopub.status.idle": "2021-09-03T20:45:38.191550Z",
     "shell.execute_reply.started": "2021-09-03T20:45:38.171901Z",
     "shell.execute_reply": "2021-09-03T20:45:38.190754Z"
    },
    "trusted": true
   },
   "execution_count": 86,
   "outputs": [
    {
     "name": "stdout",
     "output_type": "stream",
     "text": [
      "Total lines: 84213\n",
      "Data types: int64\n",
      "Total values: 84213\n",
      "The most frequent value: 200000\n",
      "The less frequent value: 30705\n",
      "Unique values: 26605\n",
      "Missing values: 0\n"
     ]
    }
   ]
  },
  {
   "cell_type": "code",
   "source": "df.mileage.describe()",
   "metadata": {
    "execution": {
     "iopub.status.busy": "2021-09-03T20:45:38.192808Z",
     "iopub.execute_input": "2021-09-03T20:45:38.193242Z",
     "iopub.status.idle": "2021-09-03T20:45:38.209018Z",
     "shell.execute_reply.started": "2021-09-03T20:45:38.193209Z",
     "shell.execute_reply": "2021-09-03T20:45:38.206983Z"
    },
    "trusted": true
   },
   "execution_count": 87,
   "outputs": [
    {
     "data": {
      "text/plain": "count      84213.000000\nmean      158434.981084\nstd        98190.671099\nmin            1.000000\n25%        88986.000000\n50%       147000.000000\n75%       210000.000000\nmax      1000000.000000\nName: mileage, dtype: float64"
     },
     "execution_count": 87,
     "metadata": {},
     "output_type": "execute_result"
    }
   ]
  },
  {
   "cell_type": "code",
   "source": "check_iqr(df.mileage)",
   "metadata": {
    "execution": {
     "iopub.status.busy": "2021-09-03T20:45:38.210775Z",
     "iopub.execute_input": "2021-09-03T20:45:38.211260Z",
     "iopub.status.idle": "2021-09-03T20:45:38.635887Z",
     "shell.execute_reply.started": "2021-09-03T20:45:38.211211Z",
     "shell.execute_reply": "2021-09-03T20:45:38.634519Z"
    },
    "trusted": true
   },
   "execution_count": 88,
   "outputs": [
    {
     "name": "stderr",
     "output_type": "stream",
     "text": [
      "c:\\users\\asyac\\appdata\\local\\programs\\python\\python38\\lib\\site-packages\\seaborn\\distributions.py:2557: FutureWarning: `distplot` is a deprecated function and will be removed in a future version. Please adapt your code to use either `displot` (a figure-level function with similar flexibility) or `histplot` (an axes-level function for histograms).\n",
      "  warnings.warn(msg, FutureWarning)\n"
     ]
    },
    {
     "data": {
      "text/plain": "<Figure size 720x360 with 1 Axes>",
      "image/png": "[encoded data removed]"
     },
     "metadata": {},
     "output_type": "display_data"
    },
    {
     "data": {
      "text/plain": "        Q1        Q3       IQR  low_outlier  high_outlier\n0  88986.0  210000.0  121014.0     -92535.0      391521.0",
      "text/html": "<div>\n<style scoped>\n    .dataframe tbody tr th:only-of-type {\n        vertical-align: middle;\n    }\n\n    .dataframe tbody tr th {\n        vertical-align: top;\n    }\n\n    .dataframe thead th {\n        text-align: right;\n    }\n</style>\n<table border=\"1\" class=\"dataframe\">\n  <thead>\n    <tr style=\"text-align: right;\">\n      <th></th>\n      <th>Q1</th>\n      <th>Q3</th>\n      <th>IQR</th>\n      <th>low_outlier</th>\n      <th>high_outlier</th>\n    </tr>\n  </thead>\n  <tbody>\n    <tr>\n      <th>0</th>\n      <td>88986.0</td>\n      <td>210000.0</td>\n      <td>121014.0</td>\n      <td>-92535.0</td>\n      <td>391521.0</td>\n    </tr>\n  </tbody>\n</table>\n</div>"
     },
     "execution_count": 88,
     "metadata": {},
     "output_type": "execute_result"
    }
   ]
  },
  {
   "cell_type": "code",
   "source": "df[(df['mileage']>384000.0)].brand.value_counts()",
   "metadata": {
    "execution": {
     "iopub.status.busy": "2021-09-03T20:45:38.637141Z",
     "iopub.execute_input": "2021-09-03T20:45:38.637431Z",
     "iopub.status.idle": "2021-09-03T20:45:38.654310Z",
     "shell.execute_reply.started": "2021-09-03T20:45:38.637404Z",
     "shell.execute_reply": "2021-09-03T20:45:38.652949Z"
    },
    "trusted": true
   },
   "execution_count": 89,
   "outputs": [
    {
     "data": {
      "text/plain": "TOYOTA        396\nVOLKSWAGEN    284\nAUDI          280\nBMW           173\nMERCEDES      170\nMITSUBISHI    141\nNISSAN        141\nVOLVO          81\nHONDA          79\nFORD           67\nSKODA          64\nOPEL           52\nRENAULT        45\nLEXUS          44\nHYUNDAI        42\nCHEVROLET      29\nSUBARU         25\nMAZDA          24\nPEUGEOT        23\nKIA            12\nCITROEN         8\nSUZUKI          5\nCHRYSLER        5\nJAGUAR          3\nSMART           2\nFIAT            2\nINFINITI        1\nSEAT            1\nALFA_ROMEO      1\nName: brand, dtype: int64"
     },
     "execution_count": 89,
     "metadata": {},
     "output_type": "execute_result"
    }
   ]
  },
  {
   "cell_type": "code",
   "source": "#sampling the relevant mileage range on train dataset\ndf.drop(df[(df['sample'] == 1) & (df.mileage > 391521.0)].index, inplace=True)\ndf[(df['sample'] == 0)].shape",
   "metadata": {
    "execution": {
     "iopub.status.busy": "2021-09-03T20:45:38.655906Z",
     "iopub.execute_input": "2021-09-03T20:45:38.656236Z",
     "iopub.status.idle": "2021-09-03T20:45:38.701280Z",
     "shell.execute_reply.started": "2021-09-03T20:45:38.656205Z",
     "shell.execute_reply": "2021-09-03T20:45:38.700091Z"
    },
    "trusted": true
   },
   "execution_count": 90,
   "outputs": [
    {
     "data": {
      "text/plain": "(34686, 25)"
     },
     "execution_count": 90,
     "metadata": {},
     "output_type": "execute_result"
    }
   ]
  },
  {
   "cell_type": "code",
   "source": "df.shape",
   "metadata": {
    "execution": {
     "iopub.status.busy": "2021-09-03T20:45:38.702653Z",
     "iopub.execute_input": "2021-09-03T20:45:38.702950Z",
     "iopub.status.idle": "2021-09-03T20:45:38.711002Z",
     "shell.execute_reply.started": "2021-09-03T20:45:38.702914Z",
     "shell.execute_reply": "2021-09-03T20:45:38.709471Z"
    },
    "trusted": true
   },
   "execution_count": 91,
   "outputs": [
    {
     "data": {
      "text/plain": "(83146, 25)"
     },
     "execution_count": 91,
     "metadata": {},
     "output_type": "execute_result"
    }
   ]
  },
  {
   "cell_type": "markdown",
   "source": "### 2.2.11 Владельцы",
   "metadata": {}
  },
  {
   "cell_type": "code",
   "source": "cat_feature_overview(df.Владельцы)",
   "metadata": {
    "execution": {
     "iopub.status.busy": "2021-09-03T20:45:38.712100Z",
     "iopub.execute_input": "2021-09-03T20:45:38.712432Z",
     "iopub.status.idle": "2021-09-03T20:45:39.128190Z",
     "shell.execute_reply.started": "2021-09-03T20:45:38.712396Z",
     "shell.execute_reply": "2021-09-03T20:45:39.126868Z"
    },
    "trusted": true
   },
   "execution_count": 92,
   "outputs": [
    {
     "name": "stdout",
     "output_type": "stream",
     "text": [
      "Total lines: 83146\n",
      "Data types: object\n",
      "Total values: 83146\n",
      "The most frequent value: 3 или более\n",
      "The less frequent value: 2 владельца\n",
      "Unique values: 7\n",
      "Missing values: 0\n"
     ]
    },
    {
     "data": {
      "text/plain": "<Figure size 432x288 with 1 Axes>",
      "image/png": "[encoded data removed]"
     },
     "metadata": {},
     "output_type": "display_data"
    }
   ]
  },
  {
   "cell_type": "code",
   "source": "df['Владельцы'] = float_value(df['Владельцы']).astype(int)",
   "metadata": {
    "execution": {
     "iopub.status.busy": "2021-09-03T20:45:39.129663Z",
     "iopub.execute_input": "2021-09-03T20:45:39.129938Z",
     "iopub.status.idle": "2021-09-03T20:45:39.350212Z",
     "shell.execute_reply.started": "2021-09-03T20:45:39.129911Z",
     "shell.execute_reply": "2021-09-03T20:45:39.348882Z"
    },
    "trusted": true
   },
   "execution_count": 93,
   "outputs": []
  },
  {
   "cell_type": "code",
   "source": "sns.countplot(y = df.Владельцы, order = df.Владельцы.value_counts().index)",
   "metadata": {
    "execution": {
     "iopub.status.busy": "2021-09-03T20:45:39.351593Z",
     "iopub.execute_input": "2021-09-03T20:45:39.351898Z",
     "iopub.status.idle": "2021-09-03T20:45:39.599033Z",
     "shell.execute_reply.started": "2021-09-03T20:45:39.351869Z",
     "shell.execute_reply": "2021-09-03T20:45:39.597785Z"
    },
    "trusted": true
   },
   "execution_count": 94,
   "outputs": [
    {
     "data": {
      "text/plain": "<AxesSubplot:xlabel='count', ylabel='Владельцы'>"
     },
     "execution_count": 94,
     "metadata": {},
     "output_type": "execute_result"
    },
    {
     "data": {
      "text/plain": "<Figure size 432x288 with 1 Axes>",
      "image/png": "[encoded data removed]"
     },
     "metadata": {},
     "output_type": "display_data"
    }
   ]
  },
  {
   "cell_type": "markdown",
   "source": "### _Statistics by the mileage related to amount of owners_",
   "metadata": {}
  },
  {
   "cell_type": "code",
   "source": "owner_1 = df[(df['Владельцы']== 1) & (df['mileage']>0)].mileage.describe()\nowner_1 ",
   "metadata": {
    "execution": {
     "iopub.status.busy": "2021-09-03T20:45:39.600543Z",
     "iopub.execute_input": "2021-09-03T20:45:39.600841Z",
     "iopub.status.idle": "2021-09-03T20:45:39.627681Z",
     "shell.execute_reply.started": "2021-09-03T20:45:39.600813Z",
     "shell.execute_reply": "2021-09-03T20:45:39.626560Z"
    },
    "trusted": true
   },
   "execution_count": 95,
   "outputs": [
    {
     "data": {
      "text/plain": "count      24551.000000\nmean       98802.964808\nstd        75714.894345\nmin            1.000000\n25%        42000.000000\n50%        84000.000000\n75%       138020.000000\nmax      1000000.000000\nName: mileage, dtype: float64"
     },
     "execution_count": 95,
     "metadata": {},
     "output_type": "execute_result"
    }
   ]
  },
  {
   "cell_type": "code",
   "source": "owner_2 = df[(df['Владельцы']== 2) & (df['mileage']>0)].mileage.describe()\nowner_2",
   "metadata": {
    "execution": {
     "iopub.status.busy": "2021-09-03T20:45:39.629110Z",
     "iopub.execute_input": "2021-09-03T20:45:39.629454Z",
     "iopub.status.idle": "2021-09-03T20:45:39.653608Z",
     "shell.execute_reply.started": "2021-09-03T20:45:39.629415Z",
     "shell.execute_reply": "2021-09-03T20:45:39.652366Z"
    },
    "trusted": true
   },
   "execution_count": 96,
   "outputs": [
    {
     "data": {
      "text/plain": "count      21920.000000\nmean      144851.259352\nstd        79433.103502\nmin           87.000000\n25%        89000.000000\n50%       135000.000000\n75%       189000.000000\nmax      1000000.000000\nName: mileage, dtype: float64"
     },
     "execution_count": 96,
     "metadata": {},
     "output_type": "execute_result"
    }
   ]
  },
  {
   "cell_type": "code",
   "source": "owner_3 = df[(df['Владельцы']== 3) & (df['mileage']>0)].mileage.describe()\nowner_3",
   "metadata": {
    "execution": {
     "iopub.status.busy": "2021-09-03T20:45:39.655394Z",
     "iopub.execute_input": "2021-09-03T20:45:39.655836Z",
     "iopub.status.idle": "2021-09-03T20:45:39.685972Z",
     "shell.execute_reply.started": "2021-09-03T20:45:39.655783Z",
     "shell.execute_reply": "2021-09-03T20:45:39.684835Z"
    },
    "trusted": true
   },
   "execution_count": 97,
   "outputs": [
    {
     "data": {
      "text/plain": "count      27370.000000\nmean      195874.480782\nstd        90972.095595\nmin           10.000000\n25%       135000.000000\n50%       182000.000000\n75%       246978.000000\nmax      1000000.000000\nName: mileage, dtype: float64"
     },
     "execution_count": 97,
     "metadata": {},
     "output_type": "execute_result"
    }
   ]
  },
  {
   "cell_type": "code",
   "source": "owner_4 = df[(df['Владельцы']== 4) & (df['mileage']>0)].mileage.describe()\nowner_4",
   "metadata": {
    "execution": {
     "iopub.status.busy": "2021-09-03T20:45:39.687681Z",
     "iopub.execute_input": "2021-09-03T20:45:39.688129Z",
     "iopub.status.idle": "2021-09-03T20:45:39.712747Z",
     "shell.execute_reply.started": "2021-09-03T20:45:39.688083Z",
     "shell.execute_reply": "2021-09-03T20:45:39.711455Z"
    },
    "trusted": true
   },
   "execution_count": 98,
   "outputs": [
    {
     "data": {
      "text/plain": "count      9305.000000\nmean     203025.947125\nstd       75434.379848\nmin          15.000000\n25%      150000.000000\n50%      197000.000000\n75%      250000.000000\nmax      391150.000000\nName: mileage, dtype: float64"
     },
     "execution_count": 98,
     "metadata": {},
     "output_type": "execute_result"
    }
   ]
  },
  {
   "cell_type": "markdown",
   "source": "### 2.2.12 vehicleTransmission",
   "metadata": {}
  },
  {
   "cell_type": "code",
   "source": "cat_feature_overview(df.vehicleTransmission)",
   "metadata": {
    "execution": {
     "iopub.status.busy": "2021-09-03T20:45:39.714270Z",
     "iopub.execute_input": "2021-09-03T20:45:39.714613Z",
     "iopub.status.idle": "2021-09-03T20:45:40.095028Z",
     "shell.execute_reply.started": "2021-09-03T20:45:39.714579Z",
     "shell.execute_reply": "2021-09-03T20:45:40.092253Z"
    },
    "trusted": true
   },
   "execution_count": 99,
   "outputs": [
    {
     "name": "stdout",
     "output_type": "stream",
     "text": [
      "Total lines: 83146\n",
      "Data types: object\n",
      "Total values: 83146\n",
      "The most frequent value: автоматическая\n",
      "The less frequent value: роботизированная\n",
      "Unique values: 4\n",
      "Missing values: 0\n"
     ]
    },
    {
     "data": {
      "text/plain": "<Figure size 432x288 with 1 Axes>",
      "image/png": "[encoded data removed]"
     },
     "metadata": {},
     "output_type": "display_data"
    }
   ]
  },
  {
   "cell_type": "markdown",
   "source": "### 2.2.13 Привод",
   "metadata": {}
  },
  {
   "cell_type": "code",
   "source": "cat_feature_overview(df.Привод)",
   "metadata": {
    "execution": {
     "iopub.status.busy": "2021-09-03T20:45:40.096889Z",
     "iopub.execute_input": "2021-09-03T20:45:40.097357Z",
     "iopub.status.idle": "2021-09-03T20:45:40.449127Z",
     "shell.execute_reply.started": "2021-09-03T20:45:40.097304Z",
     "shell.execute_reply": "2021-09-03T20:45:40.448017Z"
    },
    "trusted": true
   },
   "execution_count": 100,
   "outputs": [
    {
     "name": "stdout",
     "output_type": "stream",
     "text": [
      "Total lines: 83146\n",
      "Data types: object\n",
      "Total values: 83146\n",
      "The most frequent value: передний\n",
      "The less frequent value: задний\n",
      "Unique values: 3\n",
      "Missing values: 0\n"
     ]
    },
    {
     "data": {
      "text/plain": "<Figure size 432x288 with 1 Axes>",
      "image/png": "[encoded data removed]"
     },
     "metadata": {},
     "output_type": "display_data"
    }
   ]
  },
  {
   "cell_type": "markdown",
   "source": "### 2.2.14 vendor",
   "metadata": {}
  },
  {
   "cell_type": "code",
   "source": "cat_feature_overview(df.vendor)",
   "metadata": {
    "execution": {
     "iopub.status.busy": "2021-09-03T20:45:40.452643Z",
     "iopub.execute_input": "2021-09-03T20:45:40.453040Z",
     "iopub.status.idle": "2021-09-03T20:45:40.872548Z",
     "shell.execute_reply.started": "2021-09-03T20:45:40.453007Z",
     "shell.execute_reply": "2021-09-03T20:45:40.871250Z"
    },
    "trusted": true
   },
   "execution_count": 101,
   "outputs": [
    {
     "name": "stdout",
     "output_type": "stream",
     "text": [
      "Total lines: 83146\n",
      "Data types: object\n",
      "Total values: 83146\n",
      "The most frequent value: EUROPEAN\n",
      "The less frequent value: RUSSIAN\n",
      "Unique values: 5\n",
      "Missing values: 0\n"
     ]
    },
    {
     "data": {
      "text/plain": "<Figure size 432x288 with 1 Axes>",
      "image/png": "[encoded data removed]"
     },
     "metadata": {},
     "output_type": "display_data"
    }
   ]
  },
  {
   "cell_type": "markdown",
   "source": "### 2.2.15 ПТС",
   "metadata": {}
  },
  {
   "cell_type": "code",
   "source": "cat_feature_overview(df.ПТС)",
   "metadata": {
    "execution": {
     "iopub.status.busy": "2021-09-03T20:45:40.874291Z",
     "iopub.execute_input": "2021-09-03T20:45:40.874669Z",
     "iopub.status.idle": "2021-09-03T20:45:41.275126Z",
     "shell.execute_reply.started": "2021-09-03T20:45:40.874634Z",
     "shell.execute_reply": "2021-09-03T20:45:41.274129Z"
    },
    "trusted": true
   },
   "execution_count": 102,
   "outputs": [
    {
     "name": "stdout",
     "output_type": "stream",
     "text": [
      "Total lines: 83146\n",
      "Data types: object\n",
      "Total values: 83145\n",
      "The most frequent value: Оригинал\n",
      "The less frequent value: Дубликат\n",
      "Unique values: 2\n",
      "Missing values: 1\n"
     ]
    },
    {
     "data": {
      "text/plain": "<Figure size 432x288 with 1 Axes>",
      "image/png": "[encoded data removed]"
     },
     "metadata": {},
     "output_type": "display_data"
    }
   ]
  },
  {
   "cell_type": "code",
   "source": "#changing the missing value by mode\ndf.ПТС.fillna(df.ПТС.value_counts().keys()[0], inplace=True)",
   "metadata": {
    "execution": {
     "iopub.status.busy": "2021-09-03T20:45:41.276654Z",
     "iopub.execute_input": "2021-09-03T20:45:41.276976Z",
     "iopub.status.idle": "2021-09-03T20:45:41.317624Z",
     "shell.execute_reply.started": "2021-09-03T20:45:41.276943Z",
     "shell.execute_reply": "2021-09-03T20:45:41.315986Z"
    },
    "trusted": true
   },
   "execution_count": 103,
   "outputs": []
  },
  {
   "cell_type": "markdown",
   "source": "### 2.2.16 Руль",
   "metadata": {}
  },
  {
   "cell_type": "code",
   "source": "cat_feature_overview(df.Руль)",
   "metadata": {
    "execution": {
     "iopub.status.busy": "2021-09-03T20:45:41.319289Z",
     "iopub.execute_input": "2021-09-03T20:45:41.319642Z",
     "iopub.status.idle": "2021-09-03T20:45:41.713986Z",
     "shell.execute_reply.started": "2021-09-03T20:45:41.319610Z",
     "shell.execute_reply": "2021-09-03T20:45:41.712990Z"
    },
    "trusted": true
   },
   "execution_count": 104,
   "outputs": [
    {
     "name": "stdout",
     "output_type": "stream",
     "text": [
      "Total lines: 83146\n",
      "Data types: object\n",
      "Total values: 83146\n",
      "The most frequent value: Левый\n",
      "The less frequent value: Правый\n",
      "Unique values: 2\n",
      "Missing values: 0\n"
     ]
    },
    {
     "data": {
      "text/plain": "<Figure size 432x288 with 1 Axes>",
      "image/png": "[encoded data removed]"
     },
     "metadata": {},
     "output_type": "display_data"
    }
   ]
  },
  {
   "cell_type": "markdown",
   "source": "Due low amounts of the right steering wheel, the feature can be dropped\n",
   "metadata": {}
  },
  {
   "cell_type": "code",
   "source": "df.drop(['Руль'], axis=1, inplace=True)",
   "metadata": {
    "execution": {
     "iopub.status.busy": "2021-09-03T20:45:41.715695Z",
     "iopub.execute_input": "2021-09-03T20:45:41.716030Z",
     "iopub.status.idle": "2021-09-03T20:45:41.743573Z",
     "shell.execute_reply.started": "2021-09-03T20:45:41.715997Z",
     "shell.execute_reply": "2021-09-03T20:45:41.742376Z"
    },
    "trusted": true
   },
   "execution_count": 105,
   "outputs": []
  },
  {
   "cell_type": "markdown",
   "source": "### 2.2.17 name",
   "metadata": {}
  },
  {
   "cell_type": "code",
   "source": "df.name.value_counts()[:10]",
   "metadata": {
    "execution": {
     "iopub.status.busy": "2021-09-03T20:45:41.745363Z",
     "iopub.execute_input": "2021-09-03T20:45:41.745708Z",
     "iopub.status.idle": "2021-09-03T20:45:41.783119Z",
     "shell.execute_reply.started": "2021-09-03T20:45:41.745674Z",
     "shell.execute_reply": "2021-09-03T20:45:41.781674Z"
    },
    "trusted": true
   },
   "execution_count": 106,
   "outputs": [
    {
     "data": {
      "text/plain": "1.6 AT (110 л.с.)        1344\n2.0 AT (150 л.с.)        1282\n1.6 MT (105 л.с.)         895\n1.6 AT (123 л.с.)         891\n1.6 MT (102 л.с.)         776\n2.0 AT (150 л.с.) 4WD     709\n1.4 AMT (150 л.с.)        649\n1.4 MT (75 л.с.)          636\n1.6 AT (105 л.с.)         627\n1.6 MT (110 л.с.)         604\nName: name, dtype: int64"
     },
     "execution_count": 106,
     "metadata": {},
     "output_type": "execute_result"
    }
   ]
  },
  {
   "cell_type": "markdown",
   "source": "_The contain information is in other columnes_\n\n_It has to be dropped_",
   "metadata": {}
  },
  {
   "cell_type": "code",
   "source": "df.drop(['name'], axis=1, inplace=True)",
   "metadata": {
    "execution": {
     "iopub.status.busy": "2021-09-03T20:45:41.785041Z",
     "iopub.execute_input": "2021-09-03T20:45:41.787149Z",
     "iopub.status.idle": "2021-09-03T20:45:41.810537Z",
     "shell.execute_reply.started": "2021-09-03T20:45:41.787103Z",
     "shell.execute_reply": "2021-09-03T20:45:41.809652Z"
    },
    "trusted": true
   },
   "execution_count": 107,
   "outputs": []
  },
  {
   "cell_type": "markdown",
   "source": "### 2.2.18 Владение\n",
   "metadata": {
    "execution": {
     "iopub.status.busy": "2021-08-31T19:45:24.41142Z",
     "iopub.execute_input": "2021-08-31T19:45:24.411849Z",
     "iopub.status.idle": "2021-08-31T19:45:24.416743Z",
     "shell.execute_reply.started": "2021-08-31T19:45:24.411815Z",
     "shell.execute_reply": "2021-08-31T19:45:24.415339Z"
    }
   }
  },
  {
   "cell_type": "code",
   "source": "df.Владение.isna().sum()",
   "metadata": {
    "execution": {
     "iopub.status.busy": "2021-09-03T20:45:41.812065Z",
     "iopub.execute_input": "2021-09-03T20:45:41.812683Z",
     "iopub.status.idle": "2021-09-03T20:45:41.826895Z",
     "shell.execute_reply.started": "2021-09-03T20:45:41.812636Z",
     "shell.execute_reply": "2021-09-03T20:45:41.825940Z"
    },
    "trusted": true
   },
   "execution_count": 108,
   "outputs": [
    {
     "data": {
      "text/plain": "23170"
     },
     "execution_count": 108,
     "metadata": {},
     "output_type": "execute_result"
    }
   ]
  },
  {
   "cell_type": "code",
   "source": "df.Владение.value_counts()",
   "metadata": {
    "execution": {
     "iopub.status.busy": "2021-09-03T20:45:41.828268Z",
     "iopub.execute_input": "2021-09-03T20:45:41.828814Z",
     "iopub.status.idle": "2021-09-03T20:45:41.859543Z",
     "shell.execute_reply.started": "2021-09-03T20:45:41.828778Z",
     "shell.execute_reply": "2021-09-03T20:45:41.858532Z"
    },
    "trusted": true
   },
   "execution_count": 109,
   "outputs": [
    {
     "data": {
      "text/plain": "12.0                    47981\n1 год и 10 месяцев        209\n2 года                    197\n1 год                     194\n1 год и 1 месяц           193\n                        ...  \n21 год и 8 месяцев          1\n19 лет и 5 месяцев          1\n42 года и 10 месяцев        1\n21 год и 6 месяцев          1\n29 лет и 9 месяцев          1\nName: Владение, Length: 276, dtype: int64"
     },
     "execution_count": 109,
     "metadata": {},
     "output_type": "execute_result"
    }
   ]
  },
  {
   "cell_type": "markdown",
   "source": "_the biggest part of the values looks as not valid_  \n\n_it has to be dropped_",
   "metadata": {}
  },
  {
   "cell_type": "code",
   "source": "df.drop(['Владение'], axis=1, inplace=True)",
   "metadata": {
    "execution": {
     "iopub.status.busy": "2021-09-03T20:45:41.861465Z",
     "iopub.execute_input": "2021-09-03T20:45:41.861793Z",
     "iopub.status.idle": "2021-09-03T20:45:41.886867Z",
     "shell.execute_reply.started": "2021-09-03T20:45:41.861759Z",
     "shell.execute_reply": "2021-09-03T20:45:41.885532Z"
    },
    "trusted": true
   },
   "execution_count": 110,
   "outputs": []
  },
  {
   "cell_type": "markdown",
   "source": "### 2.2.19 model_name",
   "metadata": {}
  },
  {
   "cell_type": "code",
   "source": "num_feature_overview(df.model_name)",
   "metadata": {
    "execution": {
     "iopub.status.busy": "2021-09-03T20:45:41.888542Z",
     "iopub.execute_input": "2021-09-03T20:45:41.888865Z",
     "iopub.status.idle": "2021-09-03T20:45:41.971983Z",
     "shell.execute_reply.started": "2021-09-03T20:45:41.888832Z",
     "shell.execute_reply": "2021-09-03T20:45:41.970931Z"
    },
    "trusted": true
   },
   "execution_count": 111,
   "outputs": [
    {
     "name": "stdout",
     "output_type": "stream",
     "text": [
      "Total lines: 83146\n",
      "Data types: object\n",
      "Total values: 83146\n",
      "The most frequent value: Focus\n",
      "The less frequent value: GRANVIA\n",
      "Unique values: 1334\n",
      "Missing values: 0\n"
     ]
    }
   ]
  },
  {
   "cell_type": "code",
   "source": "#through the changing of the strings to upper letter, the amount of unique values is grouped\ndf['model_name'] = df.model_name.str.upper()",
   "metadata": {
    "execution": {
     "iopub.status.busy": "2021-09-03T20:45:41.975735Z",
     "iopub.execute_input": "2021-09-03T20:45:41.976087Z",
     "iopub.status.idle": "2021-09-03T20:45:42.038491Z",
     "shell.execute_reply.started": "2021-09-03T20:45:41.976057Z",
     "shell.execute_reply": "2021-09-03T20:45:42.037459Z"
    },
    "trusted": true
   },
   "execution_count": 112,
   "outputs": []
  },
  {
   "cell_type": "code",
   "source": "#most popular model is by each brand\ndf.groupby(['brand','model_name'])['model_name'].agg(['count']).sort_values(by='count',ascending= False)\n",
   "metadata": {
    "execution": {
     "iopub.status.busy": "2021-09-03T20:45:42.039907Z",
     "iopub.execute_input": "2021-09-03T20:45:42.040302Z",
     "iopub.status.idle": "2021-09-03T20:45:42.110024Z",
     "shell.execute_reply.started": "2021-09-03T20:45:42.040260Z",
     "shell.execute_reply": "2021-09-03T20:45:42.108521Z"
    },
    "trusted": true
   },
   "execution_count": 113,
   "outputs": [
    {
     "data": {
      "text/plain": "                            count\nbrand      model_name            \nSKODA      OCTAVIA           2549\nFORD       FOCUS             1702\nVOLKSWAGEN POLO              1460\nMITSUBISHI LANCER            1424\nTOYOTA     CAMRY             1397\n...                           ...\nCHEVROLET  CORSICA              1\nTOYOTA     PIXIS VAN            1\nMITSUBISHI LANCER_RALLIART      1\n           LANCER RALLIART      1\nALFA_ROMEO 145                  1\n\n[1128 rows x 1 columns]",
      "text/html": "<div>\n<style scoped>\n    .dataframe tbody tr th:only-of-type {\n        vertical-align: middle;\n    }\n\n    .dataframe tbody tr th {\n        vertical-align: top;\n    }\n\n    .dataframe thead th {\n        text-align: right;\n    }\n</style>\n<table border=\"1\" class=\"dataframe\">\n  <thead>\n    <tr style=\"text-align: right;\">\n      <th></th>\n      <th></th>\n      <th>count</th>\n    </tr>\n    <tr>\n      <th>brand</th>\n      <th>model_name</th>\n      <th></th>\n    </tr>\n  </thead>\n  <tbody>\n    <tr>\n      <th>SKODA</th>\n      <th>OCTAVIA</th>\n      <td>2549</td>\n    </tr>\n    <tr>\n      <th>FORD</th>\n      <th>FOCUS</th>\n      <td>1702</td>\n    </tr>\n    <tr>\n      <th>VOLKSWAGEN</th>\n      <th>POLO</th>\n      <td>1460</td>\n    </tr>\n    <tr>\n      <th>MITSUBISHI</th>\n      <th>LANCER</th>\n      <td>1424</td>\n    </tr>\n    <tr>\n      <th>TOYOTA</th>\n      <th>CAMRY</th>\n      <td>1397</td>\n    </tr>\n    <tr>\n      <th>...</th>\n      <th>...</th>\n      <td>...</td>\n    </tr>\n    <tr>\n      <th>CHEVROLET</th>\n      <th>CORSICA</th>\n      <td>1</td>\n    </tr>\n    <tr>\n      <th>TOYOTA</th>\n      <th>PIXIS VAN</th>\n      <td>1</td>\n    </tr>\n    <tr>\n      <th rowspan=\"2\" valign=\"top\">MITSUBISHI</th>\n      <th>LANCER_RALLIART</th>\n      <td>1</td>\n    </tr>\n    <tr>\n      <th>LANCER RALLIART</th>\n      <td>1</td>\n    </tr>\n    <tr>\n      <th>ALFA_ROMEO</th>\n      <th>145</th>\n      <td>1</td>\n    </tr>\n  </tbody>\n</table>\n<p>1128 rows × 1 columns</p>\n</div>"
     },
     "execution_count": 113,
     "metadata": {},
     "output_type": "execute_result"
    }
   ]
  },
  {
   "cell_type": "markdown",
   "source": "### 2.2.20 color",
   "metadata": {}
  },
  {
   "cell_type": "code",
   "source": "cat_feature_overview(df.color)",
   "metadata": {
    "execution": {
     "iopub.status.busy": "2021-09-03T20:45:42.112197Z",
     "iopub.execute_input": "2021-09-03T20:45:42.112715Z",
     "iopub.status.idle": "2021-09-03T20:45:42.560779Z",
     "shell.execute_reply.started": "2021-09-03T20:45:42.112662Z",
     "shell.execute_reply": "2021-09-03T20:45:42.559645Z"
    },
    "trusted": true
   },
   "execution_count": 114,
   "outputs": [
    {
     "name": "stdout",
     "output_type": "stream",
     "text": [
      "Total lines: 83146\n",
      "Data types: object\n",
      "Total values: 83146\n",
      "The most frequent value: чёрный\n",
      "The less frequent value: розовый\n",
      "Unique values: 16\n",
      "Missing values: 0\n"
     ]
    },
    {
     "data": {
      "text/plain": "<Figure size 432x288 with 1 Axes>",
      "image/png": "[encoded data removed]"
     },
     "metadata": {},
     "output_type": "display_data"
    }
   ]
  },
  {
   "cell_type": "code",
   "source": "#most common color by brands\ndf.groupby(['brand','color'])['color'].agg(['count']).sort_values(by='count',ascending= False)",
   "metadata": {
    "execution": {
     "iopub.status.busy": "2021-09-03T20:45:42.562496Z",
     "iopub.execute_input": "2021-09-03T20:45:42.562914Z",
     "iopub.status.idle": "2021-09-03T20:45:42.612264Z",
     "shell.execute_reply.started": "2021-09-03T20:45:42.562880Z",
     "shell.execute_reply": "2021-09-03T20:45:42.610985Z"
    },
    "trusted": true
   },
   "execution_count": 115,
   "outputs": [
    {
     "data": {
      "text/plain": "                     count\nbrand    color            \nMERCEDES чёрный       3130\nBMW      чёрный       3024\nTOYOTA   чёрный       2460\nNISSAN   чёрный       2134\nAUDI     чёрный       2030\n...                    ...\nJAGUAR   золотистый      1\nCHRYSLER золотистый      1\n         коричневый      1\n         оранжевый       1\nBMW      розовый         1\n\n[451 rows x 1 columns]",
      "text/html": "<div>\n<style scoped>\n    .dataframe tbody tr th:only-of-type {\n        vertical-align: middle;\n    }\n\n    .dataframe tbody tr th {\n        vertical-align: top;\n    }\n\n    .dataframe thead th {\n        text-align: right;\n    }\n</style>\n<table border=\"1\" class=\"dataframe\">\n  <thead>\n    <tr style=\"text-align: right;\">\n      <th></th>\n      <th></th>\n      <th>count</th>\n    </tr>\n    <tr>\n      <th>brand</th>\n      <th>color</th>\n      <th></th>\n    </tr>\n  </thead>\n  <tbody>\n    <tr>\n      <th>MERCEDES</th>\n      <th>чёрный</th>\n      <td>3130</td>\n    </tr>\n    <tr>\n      <th>BMW</th>\n      <th>чёрный</th>\n      <td>3024</td>\n    </tr>\n    <tr>\n      <th>TOYOTA</th>\n      <th>чёрный</th>\n      <td>2460</td>\n    </tr>\n    <tr>\n      <th>NISSAN</th>\n      <th>чёрный</th>\n      <td>2134</td>\n    </tr>\n    <tr>\n      <th>AUDI</th>\n      <th>чёрный</th>\n      <td>2030</td>\n    </tr>\n    <tr>\n      <th>...</th>\n      <th>...</th>\n      <td>...</td>\n    </tr>\n    <tr>\n      <th>JAGUAR</th>\n      <th>золотистый</th>\n      <td>1</td>\n    </tr>\n    <tr>\n      <th rowspan=\"3\" valign=\"top\">CHRYSLER</th>\n      <th>золотистый</th>\n      <td>1</td>\n    </tr>\n    <tr>\n      <th>коричневый</th>\n      <td>1</td>\n    </tr>\n    <tr>\n      <th>оранжевый</th>\n      <td>1</td>\n    </tr>\n    <tr>\n      <th>BMW</th>\n      <th>розовый</th>\n      <td>1</td>\n    </tr>\n  </tbody>\n</table>\n<p>451 rows × 1 columns</p>\n</div>"
     },
     "execution_count": 115,
     "metadata": {},
     "output_type": "execute_result"
    }
   ]
  },
  {
   "cell_type": "markdown",
   "source": "### 2.2.21  complectation_dict  &  equipment_dict\n\n _with nested options dictionary_\n\n_the features look same and they have to be mearged_\n",
   "metadata": {}
  },
  {
   "cell_type": "code",
   "source": "print(f'the complectation_dict has {df.complectation_dict.isna().sum()} of missing values')\n\nprint(f'the equipment_dict has {df.equipment_dict.isna().sum()} of missing values')",
   "metadata": {
    "execution": {
     "iopub.status.busy": "2021-09-03T20:45:42.613794Z",
     "iopub.execute_input": "2021-09-03T20:45:42.614081Z",
     "iopub.status.idle": "2021-09-03T20:45:42.649411Z",
     "shell.execute_reply.started": "2021-09-03T20:45:42.614048Z",
     "shell.execute_reply": "2021-09-03T20:45:42.647728Z"
    },
    "trusted": true
   },
   "execution_count": 116,
   "outputs": [
    {
     "name": "stdout",
     "output_type": "stream",
     "text": [
      "the complectation_dict has 28268 of missing values\n",
      "the equipment_dict has 9996 of missing values\n"
     ]
    }
   ]
  },
  {
   "cell_type": "code",
   "source": "df['complectation_dict'] = df['complectation_dict'].fillna('No value').astype(str)\ndf['equipment_dict'] = df['equipment_dict'].fillna('No value').astype(str)",
   "metadata": {
    "execution": {
     "iopub.status.busy": "2021-09-03T20:45:42.651610Z",
     "iopub.execute_input": "2021-09-03T20:45:42.652094Z",
     "iopub.status.idle": "2021-09-03T20:45:42.751863Z",
     "shell.execute_reply.started": "2021-09-03T20:45:42.652045Z",
     "shell.execute_reply": "2021-09-03T20:45:42.750694Z"
    },
    "trusted": true
   },
   "execution_count": 117,
   "outputs": []
  },
  {
   "cell_type": "code",
   "source": "\npat = \"'id': '0'\"\ndf['complectation_dict'] = df['complectation_dict'].map(lambda x: x if pat not in x else 'No value')",
   "metadata": {
    "execution": {
     "iopub.status.busy": "2021-09-03T20:45:42.753442Z",
     "iopub.execute_input": "2021-09-03T20:45:42.753870Z",
     "iopub.status.idle": "2021-09-03T20:45:42.838112Z",
     "shell.execute_reply.started": "2021-09-03T20:45:42.753827Z",
     "shell.execute_reply": "2021-09-03T20:45:42.837034Z"
    },
    "trusted": true
   },
   "execution_count": 118,
   "outputs": []
  },
  {
   "cell_type": "code",
   "source": "#useful data extracting - string partition method.\ncmpl_opt = []\nfor row in df.complectation_dict:\n    try:\n        line = row.partition('\"available_options\":')[-1]\n        line = line.partition('\"vendor_color')[0]\n        cmpl_opt.append(line)\n    except:\n        cmpl_opt.append('No value')\n\ndf['complectation_dict'] = cmpl_opt\n",
   "metadata": {
    "execution": {
     "iopub.status.busy": "2021-09-03T20:45:42.839890Z",
     "iopub.execute_input": "2021-09-03T20:45:42.840196Z",
     "iopub.status.idle": "2021-09-03T20:45:42.976459Z",
     "shell.execute_reply.started": "2021-09-03T20:45:42.840167Z",
     "shell.execute_reply": "2021-09-03T20:45:42.975242Z"
    },
    "trusted": true
   },
   "execution_count": 119,
   "outputs": []
  },
  {
   "cell_type": "code",
   "source": "df['complectation_dict'] = df['complectation_dict'].apply(clean_smb)\n\ndf['complectation_dict']#check",
   "metadata": {
    "execution": {
     "iopub.status.busy": "2021-09-03T20:45:42.977778Z",
     "iopub.execute_input": "2021-09-03T20:45:42.978074Z",
     "iopub.status.idle": "2021-09-03T20:45:43.221684Z",
     "shell.execute_reply.started": "2021-09-03T20:45:42.978045Z",
     "shell.execute_reply": "2021-09-03T20:45:43.220071Z"
    },
    "trusted": true
   },
   "execution_count": 120,
   "outputs": [
    {
     "data": {
      "text/plain": "0                                                       []\n1                                                       []\n2        [heated-wash-system, airbag-passenger, lock, d...\n3        [heated-wash-system, airbag-passenger, lock, e...\n4                                                       []\n                               ...                        \n94443                                                   []\n94444                                                   []\n94445                                                   []\n94446                                                   []\n94447                                                   []\nName: complectation_dict, Length: 83146, dtype: object"
     },
     "execution_count": 120,
     "metadata": {},
     "output_type": "execute_result"
    }
   ]
  },
  {
   "cell_type": "code",
   "source": "# extracting the options form equipment_dict\ndf['equipment_dict'] = df['equipment_dict'].apply(clean_smb)\n\nrow_lst = []\nfor row in df.equipment_dict:\n    eq_lst = []\n    for item in row:\n        if item == item:\n            key = item.split(':')[0]\n            eq_lst.append(key)\n        else:\n            eq_lst.append('No value')\n\n    row_lst.append(eq_lst)\n\ndf['equipment_dict'] = row_lst",
   "metadata": {
    "execution": {
     "iopub.status.busy": "2021-09-03T20:45:43.223524Z",
     "iopub.execute_input": "2021-09-03T20:45:43.223858Z",
     "iopub.status.idle": "2021-09-03T20:45:46.156973Z",
     "shell.execute_reply.started": "2021-09-03T20:45:43.223829Z",
     "shell.execute_reply": "2021-09-03T20:45:46.155779Z"
    },
    "trusted": true
   },
   "execution_count": 121,
   "outputs": []
  },
  {
   "cell_type": "code",
   "source": "df['equipment_dict']#check",
   "metadata": {
    "execution": {
     "iopub.status.busy": "2021-09-03T20:45:46.158469Z",
     "iopub.execute_input": "2021-09-03T20:45:46.158770Z",
     "iopub.status.idle": "2021-09-03T20:45:46.172396Z",
     "shell.execute_reply.started": "2021-09-03T20:45:46.158742Z",
     "shell.execute_reply": "2021-09-03T20:45:46.170728Z"
    },
    "trusted": true
   },
   "execution_count": 122,
   "outputs": [
    {
     "data": {
      "text/plain": "0        [engine-proof, tinted-glass, airbag-driver, au...\n1        [cruise-control, asr, esp, airbag-driver, isof...\n2        [cruise-control, tinted-glass, esp, adaptive-l...\n3        [cruise-control, roller-blind-for-rear-window,...\n4        [cruise-control, asr, esp, airbag-driver, isof...\n                               ...                        \n94443    ['cruise-control',  'asr',  'tinted-glass',  '...\n94444    ['engine-proof',  'esp',  'airbag-driver',  'u...\n94445                                                   []\n94446                                                   []\n94447    ['electro-window-back',  'alloy-wheel-disks', ...\nName: equipment_dict, Length: 83146, dtype: object"
     },
     "execution_count": 122,
     "metadata": {},
     "output_type": "execute_result"
    }
   ]
  },
  {
   "cell_type": "code",
   "source": "#merging the values from columns equipment_dict and equipment_dict\noptions = []\nfor i, j in zip(df.complectation_dict, df.equipment_dict):\n    options.append(i+j)\ndf['options'] = options",
   "metadata": {
    "execution": {
     "iopub.status.busy": "2021-09-03T20:45:46.174245Z",
     "iopub.execute_input": "2021-09-03T20:45:46.174642Z",
     "iopub.status.idle": "2021-09-03T20:45:47.491534Z",
     "shell.execute_reply.started": "2021-09-03T20:45:46.174610Z",
     "shell.execute_reply": "2021-09-03T20:45:47.490358Z"
    },
    "trusted": true
   },
   "execution_count": 123,
   "outputs": []
  },
  {
   "cell_type": "code",
   "source": "df['options']#check",
   "metadata": {
    "execution": {
     "iopub.status.busy": "2021-09-03T20:45:47.493071Z",
     "iopub.execute_input": "2021-09-03T20:45:47.493382Z",
     "iopub.status.idle": "2021-09-03T20:45:47.505970Z",
     "shell.execute_reply.started": "2021-09-03T20:45:47.493352Z",
     "shell.execute_reply": "2021-09-03T20:45:47.505106Z"
    },
    "trusted": true
   },
   "execution_count": 124,
   "outputs": [
    {
     "data": {
      "text/plain": "0        [, engine-proof, tinted-glass, airbag-driver, ...\n1        [, cruise-control, asr, esp, airbag-driver, is...\n2        [heated-wash-system, airbag-passenger, lock, d...\n3        [heated-wash-system, airbag-passenger, lock, e...\n4        [, cruise-control, asr, esp, airbag-driver, is...\n                               ...                        \n94443    [, 'cruise-control',  'asr',  'tinted-glass', ...\n94444    [, 'engine-proof',  'esp',  'airbag-driver',  ...\n94445                                                 [, ]\n94446                                                 [, ]\n94447    [, 'electro-window-back',  'alloy-wheel-disks'...\nName: options, Length: 83146, dtype: object"
     },
     "execution_count": 124,
     "metadata": {},
     "output_type": "execute_result"
    }
   ]
  },
  {
   "cell_type": "code",
   "source": "#To make a list of most used options\ndf1 = df\ndf1 = df.explode('options')",
   "metadata": {
    "execution": {
     "iopub.status.busy": "2021-09-03T20:45:47.507111Z",
     "iopub.execute_input": "2021-09-03T20:45:47.507507Z",
     "iopub.status.idle": "2021-09-03T20:45:52.337466Z",
     "shell.execute_reply.started": "2021-09-03T20:45:47.507473Z",
     "shell.execute_reply": "2021-09-03T20:45:52.335725Z"
    },
    "trusted": true
   },
   "execution_count": 125,
   "outputs": []
  },
  {
   "cell_type": "code",
   "source": "\n#List of most used options\noptions_dict = df1.options.value_counts(sort=False)[1:80]\noptions_lst = options_dict.keys().map(lambda x: x.replace(\"\\'\",'').replace(\" \", \"\")).to_list()\noptions_lst = set(options_lst)\n",
   "metadata": {
    "execution": {
     "iopub.status.busy": "2021-09-03T20:45:52.339030Z",
     "iopub.execute_input": "2021-09-03T20:45:52.339364Z",
     "iopub.status.idle": "2021-09-03T20:45:53.111659Z",
     "shell.execute_reply.started": "2021-09-03T20:45:52.339334Z",
     "shell.execute_reply": "2021-09-03T20:45:53.110124Z"
    },
    "trusted": true
   },
   "execution_count": 126,
   "outputs": []
  },
  {
   "cell_type": "code",
   "source": "#are sampled only popular options\nrow_lst = []\nfor row in df.options:\n    opt_lst = []\n    for item in row:\n        for opt in options_lst:\n            if item == opt:\n                opt_lst.append(item)\n            else:\n                continue\n    row_lst.append(opt_lst)",
   "metadata": {
    "execution": {
     "iopub.status.busy": "2021-09-03T20:45:53.113465Z",
     "iopub.execute_input": "2021-09-03T20:45:53.113813Z",
     "iopub.status.idle": "2021-09-03T20:46:11.979747Z",
     "shell.execute_reply.started": "2021-09-03T20:45:53.113780Z",
     "shell.execute_reply": "2021-09-03T20:46:11.978908Z"
    },
    "trusted": true
   },
   "execution_count": 127,
   "outputs": []
  },
  {
   "cell_type": "code",
   "source": "#to DataFrame\ndf['options'] = row_lst\ndf.options.head(5)",
   "metadata": {
    "execution": {
     "iopub.status.busy": "2021-09-03T20:46:11.981230Z",
     "iopub.execute_input": "2021-09-03T20:46:11.981872Z",
     "iopub.status.idle": "2021-09-03T20:46:12.037414Z",
     "shell.execute_reply.started": "2021-09-03T20:46:11.981822Z",
     "shell.execute_reply": "2021-09-03T20:46:12.035894Z"
    },
    "trusted": true
   },
   "execution_count": 128,
   "outputs": [
    {
     "data": {
      "text/plain": "0    [airbag-passenger, computer, seat-transformati...\n1    [light-sensor, airbag-passenger, computer, 16-...\n2    [airbag-passenger, door-sill-panel, mirrors-he...\n3    [airbag-passenger, mirrors-heat, computer, sea...\n4    [light-sensor, airbag-passenger, computer, 16-...\nName: options, dtype: object"
     },
     "execution_count": 128,
     "metadata": {},
     "output_type": "execute_result"
    }
   ]
  },
  {
   "cell_type": "code",
   "source": "#plt.figure(figsize=(15,10))\n#sns.barplot(options_dict.values, options_dict.index, alpha=0.8)\n#plt.title('Most popular options')\n#plt.ylabel('Options', fontsize=12)\n#plt.xlabel('Number of Occurrences', fontsize=12)\n#plt.show()",
   "metadata": {
    "execution": {
     "iopub.status.busy": "2021-09-03T20:46:12.039172Z",
     "iopub.execute_input": "2021-09-03T20:46:12.039514Z",
     "iopub.status.idle": "2021-09-03T20:46:12.051028Z",
     "shell.execute_reply.started": "2021-09-03T20:46:12.039481Z",
     "shell.execute_reply": "2021-09-03T20:46:12.050005Z"
    },
    "trusted": true
   },
   "execution_count": 129,
   "outputs": []
  },
  {
   "cell_type": "code",
   "source": "df.drop(['complectation_dict', 'equipment_dict'], axis=1, inplace=True)",
   "metadata": {
    "execution": {
     "iopub.status.busy": "2021-09-03T20:46:12.052775Z",
     "iopub.execute_input": "2021-09-03T20:46:12.053431Z",
     "iopub.status.idle": "2021-09-03T20:46:12.103802Z",
     "shell.execute_reply.started": "2021-09-03T20:46:12.053375Z",
     "shell.execute_reply": "2021-09-03T20:46:12.102955Z"
    },
    "trusted": true
   },
   "execution_count": 130,
   "outputs": []
  },
  {
   "cell_type": "code",
   "source": "#sort by types\ncat_cols = ['bodyType', 'brand', 'color','model_name', 'fuelType', 'vehicleTransmission', 'vendor','Привод', 'options']\nnum_cols= ['engineDisplacement', 'enginePower','mileage', 'modelDate','productionDate', 'Владельцы','numberOfDoors']\nbin_cols = ['ПТС','sample']\ntarget_cols = ['price', 'price_log']\n",
   "metadata": {
    "execution": {
     "iopub.status.busy": "2021-09-03T20:46:12.105368Z",
     "iopub.execute_input": "2021-09-03T20:46:12.106068Z",
     "iopub.status.idle": "2021-09-03T20:46:12.114221Z",
     "shell.execute_reply.started": "2021-09-03T20:46:12.106020Z",
     "shell.execute_reply": "2021-09-03T20:46:12.112818Z"
    },
    "trusted": true
   },
   "execution_count": 131,
   "outputs": []
  },
  {
   "cell_type": "code",
   "source": "#correlation matrix of train dataset\ndf_corr = df[(df['sample']== 1)].drop(['sample'], axis=1)\ncorr = df_corr.corr()\ncmap = cmap=sns.diverging_palette(5, 250, as_cmap=True)\n\ndef magnify():\n    return [dict(selector=\"th\",\n                 props=[(\"font-size\", \"8pt\")]),\n            dict(selector=\"td\",\n                 props=[('padding', \"0em 0em\")]),\n            dict(selector=\"th:hover\",\n                 props=[(\"font-size\", \"12pt\")]),\n            dict(selector=\"tr:hover td:hover\",\n                 props=[('max-width', '200px'),\n                        ('font-size', '12pt')])\n]\n\ncorr.style.background_gradient(cmap, axis=1)\\\n    .set_properties(**{'max-width': '80px', 'font-size': '10pt'})\\\n    .set_caption(\"Heatmap\")\\\n    .set_precision(2)\\\n    .set_table_styles(magnify())",
   "metadata": {
    "execution": {
     "iopub.status.busy": "2021-09-03T20:46:12.115729Z",
     "iopub.execute_input": "2021-09-03T20:46:12.116083Z",
     "iopub.status.idle": "2021-09-03T20:46:12.222944Z",
     "shell.execute_reply.started": "2021-09-03T20:46:12.116044Z",
     "shell.execute_reply": "2021-09-03T20:46:12.221855Z"
    },
    "trusted": true
   },
   "execution_count": 132,
   "outputs": [
    {
     "data": {
      "text/plain": "<pandas.io.formats.style.Styler at 0x24a3bccafd0>",
      "text/html": "<style  type=\"text/css\" >\n    #T_c21c2_ th {\n          font-size: 8pt;\n    }    #T_c21c2_ td {\n          padding: 0em 0em;\n    }    #T_c21c2_ th:hover {\n          font-size: 12pt;\n    }    #T_c21c2_ tr:hover td:hover {\n          max-width: 200px;\n          font-size: 12pt;\n    }#T_c21c2_row0_col0,#T_c21c2_row1_col1,#T_c21c2_row2_col2,#T_c21c2_row3_col3,#T_c21c2_row4_col4,#T_c21c2_row5_col5,#T_c21c2_row6_col6,#T_c21c2_row7_col7,#T_c21c2_row8_col8,#T_c21c2_row9_col9{\n            background-color:  #4479bb;\n            color:  #000000;\n            max-width:  80px;\n            font-size:  10pt;\n        }#T_c21c2_row0_col1{\n            background-color:  #85a6d0;\n            color:  #000000;\n            max-width:  80px;\n            font-size:  10pt;\n        }#T_c21c2_row0_col2,#T_c21c2_row6_col7{\n            background-color:  #de6b82;\n            color:  #000000;\n            max-width:  80px;\n            font-size:  10pt;\n        }#T_c21c2_row0_col3,#T_c21c2_row2_col3{\n            background-color:  #d8405e;\n            color:  #f1f1f1;\n            max-width:  80px;\n            font-size:  10pt;\n        }#T_c21c2_row0_col4{\n            background-color:  #e0748a;\n            color:  #000000;\n            max-width:  80px;\n            font-size:  10pt;\n        }#T_c21c2_row0_col5,#T_c21c2_row1_col2,#T_c21c2_row2_col5,#T_c21c2_row3_col2,#T_c21c2_row4_col6,#T_c21c2_row5_col2,#T_c21c2_row6_col5,#T_c21c2_row7_col2,#T_c21c2_row8_col2,#T_c21c2_row9_col5{\n            background-color:  #d73c5b;\n            color:  #f1f1f1;\n            max-width:  80px;\n            font-size:  10pt;\n        }#T_c21c2_row0_col6{\n            background-color:  #dd657d;\n            color:  #000000;\n            max-width:  80px;\n            font-size:  10pt;\n        }#T_c21c2_row0_col7{\n            background-color:  #eed3d8;\n            color:  #000000;\n            max-width:  80px;\n            font-size:  10pt;\n        }#T_c21c2_row0_col8,#T_c21c2_row2_col9{\n            background-color:  #efdade;\n            color:  #000000;\n            max-width:  80px;\n            font-size:  10pt;\n        }#T_c21c2_row0_col9,#T_c21c2_row3_col5,#T_c21c2_row5_col3,#T_c21c2_row9_col0{\n            background-color:  #4b7ebd;\n            color:  #000000;\n            max-width:  80px;\n            font-size:  10pt;\n        }#T_c21c2_row1_col0{\n            background-color:  #82a4cf;\n            color:  #000000;\n            max-width:  80px;\n            font-size:  10pt;\n        }#T_c21c2_row1_col3{\n            background-color:  #e6a0ae;\n            color:  #000000;\n            max-width:  80px;\n            font-size:  10pt;\n        }#T_c21c2_row1_col4,#T_c21c2_row9_col4{\n            background-color:  #df6f85;\n            color:  #000000;\n            max-width:  80px;\n            font-size:  10pt;\n        }#T_c21c2_row1_col5{\n            background-color:  #e597a7;\n            color:  #000000;\n            max-width:  80px;\n            font-size:  10pt;\n        }#T_c21c2_row1_col6,#T_c21c2_row3_col6{\n            background-color:  #db546f;\n            color:  #000000;\n            max-width:  80px;\n            font-size:  10pt;\n        }#T_c21c2_row1_col7{\n            background-color:  #d0dae8;\n            color:  #000000;\n            max-width:  80px;\n            font-size:  10pt;\n        }#T_c21c2_row1_col8,#T_c21c2_row8_col9{\n            background-color:  #becee2;\n            color:  #000000;\n            max-width:  80px;\n            font-size:  10pt;\n        }#T_c21c2_row1_col9,#T_c21c2_row3_col8{\n            background-color:  #799ecc;\n            color:  #000000;\n            max-width:  80px;\n            font-size:  10pt;\n        }#T_c21c2_row2_col0{\n            background-color:  #f0dee2;\n            color:  #000000;\n            max-width:  80px;\n            font-size:  10pt;\n        }#T_c21c2_row2_col1{\n            background-color:  #e9b5bf;\n            color:  #000000;\n            max-width:  80px;\n            font-size:  10pt;\n        }#T_c21c2_row2_col4{\n            background-color:  #ebbec6;\n            color:  #000000;\n            max-width:  80px;\n            font-size:  10pt;\n        }#T_c21c2_row2_col6{\n            background-color:  #b1c5de;\n            color:  #000000;\n            max-width:  80px;\n            font-size:  10pt;\n        }#T_c21c2_row2_col7{\n            background-color:  #dd627b;\n            color:  #000000;\n            max-width:  80px;\n            font-size:  10pt;\n        }#T_c21c2_row2_col8{\n            background-color:  #da4e6a;\n            color:  #000000;\n            max-width:  80px;\n            font-size:  10pt;\n        }#T_c21c2_row3_col0,#T_c21c2_row5_col0{\n            background-color:  #ebbfc8;\n            color:  #000000;\n            max-width:  80px;\n            font-size:  10pt;\n        }#T_c21c2_row3_col1{\n            background-color:  #eeeff2;\n            color:  #000000;\n            max-width:  80px;\n            font-size:  10pt;\n        }#T_c21c2_row3_col4{\n            background-color:  #f1e8ea;\n            color:  #000000;\n            max-width:  80px;\n            font-size:  10pt;\n        }#T_c21c2_row3_col7{\n            background-color:  #a5bcda;\n            color:  #000000;\n            max-width:  80px;\n            font-size:  10pt;\n        }#T_c21c2_row3_col9{\n            background-color:  #ecc6ce;\n            color:  #000000;\n            max-width:  80px;\n            font-size:  10pt;\n        }#T_c21c2_row4_col0{\n            background-color:  #e38d9e;\n            color:  #000000;\n            max-width:  80px;\n            font-size:  10pt;\n        }#T_c21c2_row4_col1{\n            background-color:  #e17a8f;\n            color:  #000000;\n            max-width:  80px;\n            font-size:  10pt;\n        }#T_c21c2_row4_col2{\n            background-color:  #db5570;\n            color:  #000000;\n            max-width:  80px;\n            font-size:  10pt;\n        }#T_c21c2_row4_col3{\n            background-color:  #e599a8;\n            color:  #000000;\n            max-width:  80px;\n            font-size:  10pt;\n        }#T_c21c2_row4_col5{\n            background-color:  #e69caa;\n            color:  #000000;\n            max-width:  80px;\n            font-size:  10pt;\n        }#T_c21c2_row4_col7{\n            background-color:  #e48fa0;\n            color:  #000000;\n            max-width:  80px;\n            font-size:  10pt;\n        }#T_c21c2_row4_col8{\n            background-color:  #e69dab;\n            color:  #000000;\n            max-width:  80px;\n            font-size:  10pt;\n        }#T_c21c2_row4_col9{\n            background-color:  #e48e9f;\n            color:  #000000;\n            max-width:  80px;\n            font-size:  10pt;\n        }#T_c21c2_row5_col1{\n            background-color:  #f1f1f2;\n            color:  #000000;\n            max-width:  80px;\n            font-size:  10pt;\n        }#T_c21c2_row5_col4{\n            background-color:  #f2eeef;\n            color:  #000000;\n            max-width:  80px;\n            font-size:  10pt;\n        }#T_c21c2_row5_col6{\n            background-color:  #db526e;\n            color:  #000000;\n            max-width:  80px;\n            font-size:  10pt;\n        }#T_c21c2_row5_col7{\n            background-color:  #a2bad9;\n            color:  #000000;\n            max-width:  80px;\n            font-size:  10pt;\n        }#T_c21c2_row5_col8{\n            background-color:  #779dcb;\n            color:  #000000;\n            max-width:  80px;\n            font-size:  10pt;\n        }#T_c21c2_row5_col9{\n            background-color:  #ecc5cc;\n            color:  #000000;\n            max-width:  80px;\n            font-size:  10pt;\n        }#T_c21c2_row6_col0{\n            background-color:  #edccd2;\n            color:  #000000;\n            max-width:  80px;\n            font-size:  10pt;\n        }#T_c21c2_row6_col1{\n            background-color:  #eab7c1;\n            color:  #000000;\n            max-width:  80px;\n            font-size:  10pt;\n        }#T_c21c2_row6_col2{\n            background-color:  #b9cae0;\n            color:  #000000;\n            max-width:  80px;\n            font-size:  10pt;\n        }#T_c21c2_row6_col3,#T_c21c2_row9_col3{\n            background-color:  #d8415f;\n            color:  #f1f1f1;\n            max-width:  80px;\n            font-size:  10pt;\n        }#T_c21c2_row6_col4{\n            background-color:  #e59aa9;\n            color:  #000000;\n            max-width:  80px;\n            font-size:  10pt;\n        }#T_c21c2_row6_col8{\n            background-color:  #da516c;\n            color:  #000000;\n            max-width:  80px;\n            font-size:  10pt;\n        }#T_c21c2_row6_col9{\n            background-color:  #ecc8cf;\n            color:  #000000;\n            max-width:  80px;\n            font-size:  10pt;\n        }#T_c21c2_row7_col0{\n            background-color:  #d4dde9;\n            color:  #000000;\n            max-width:  80px;\n            font-size:  10pt;\n        }#T_c21c2_row7_col1,#T_c21c2_row7_col5{\n            background-color:  #adc2dd;\n            color:  #000000;\n            max-width:  80px;\n            font-size:  10pt;\n        }#T_c21c2_row7_col3{\n            background-color:  #b0c4dd;\n            color:  #000000;\n            max-width:  80px;\n            font-size:  10pt;\n        }#T_c21c2_row7_col4{\n            background-color:  #edcfd5;\n            color:  #000000;\n            max-width:  80px;\n            font-size:  10pt;\n        }#T_c21c2_row7_col6{\n            background-color:  #dc5b75;\n            color:  #000000;\n            max-width:  80px;\n            font-size:  10pt;\n        }#T_c21c2_row7_col8{\n            background-color:  #6b94c7;\n            color:  #000000;\n            max-width:  80px;\n            font-size:  10pt;\n        }#T_c21c2_row7_col9{\n            background-color:  #cdd9e7;\n            color:  #000000;\n            max-width:  80px;\n            font-size:  10pt;\n        }#T_c21c2_row8_col0{\n            background-color:  #c8d5e5;\n            color:  #000000;\n            max-width:  80px;\n            font-size:  10pt;\n        }#T_c21c2_row8_col1{\n            background-color:  #99b4d6;\n            color:  #000000;\n            max-width:  80px;\n            font-size:  10pt;\n        }#T_c21c2_row8_col3{\n            background-color:  #7b9fcd;\n            color:  #000000;\n            max-width:  80px;\n            font-size:  10pt;\n        }#T_c21c2_row8_col4{\n            background-color:  #f1e5e7;\n            color:  #000000;\n            max-width:  80px;\n            font-size:  10pt;\n        }#T_c21c2_row8_col5{\n            background-color:  #7a9fcc;\n            color:  #000000;\n            max-width:  80px;\n            font-size:  10pt;\n        }#T_c21c2_row8_col6,#T_c21c2_row9_col6{\n            background-color:  #db5771;\n            color:  #000000;\n            max-width:  80px;\n            font-size:  10pt;\n        }#T_c21c2_row8_col7{\n            background-color:  #6a93c7;\n            color:  #000000;\n            max-width:  80px;\n            font-size:  10pt;\n        }#T_c21c2_row9_col1{\n            background-color:  #7da0cd;\n            color:  #000000;\n            max-width:  80px;\n            font-size:  10pt;\n        }#T_c21c2_row9_col2{\n            background-color:  #dc5e77;\n            color:  #000000;\n            max-width:  80px;\n            font-size:  10pt;\n        }#T_c21c2_row9_col7{\n            background-color:  #efd9dd;\n            color:  #000000;\n            max-width:  80px;\n            font-size:  10pt;\n        }#T_c21c2_row9_col8{\n            background-color:  #f0e3e5;\n            color:  #000000;\n            max-width:  80px;\n            font-size:  10pt;\n        }</style><table id=\"T_c21c2_\" ><caption>Heatmap</caption><thead>    <tr>        <th class=\"blank level0\" ></th>        <th class=\"col_heading level0 col0\" >engineDisplacement</th>        <th class=\"col_heading level0 col1\" >enginePower</th>        <th class=\"col_heading level0 col2\" >mileage</th>        <th class=\"col_heading level0 col3\" >modelDate</th>        <th class=\"col_heading level0 col4\" >numberOfDoors</th>        <th class=\"col_heading level0 col5\" >productionDate</th>        <th class=\"col_heading level0 col6\" >Владельцы</th>        <th class=\"col_heading level0 col7\" >price</th>        <th class=\"col_heading level0 col8\" >price_log</th>        <th class=\"col_heading level0 col9\" >engineDisplacement _log</th>    </tr></thead><tbody>\n                <tr>\n                        <th id=\"T_c21c2_level0_row0\" class=\"row_heading level0 row0\" >engineDisplacement</th>\n                        <td id=\"T_c21c2_row0_col0\" class=\"data row0 col0\" >1.00</td>\n                        <td id=\"T_c21c2_row0_col1\" class=\"data row0 col1\" >0.80</td>\n                        <td id=\"T_c21c2_row0_col2\" class=\"data row0 col2\" >0.07</td>\n                        <td id=\"T_c21c2_row0_col3\" class=\"data row0 col3\" >-0.05</td>\n                        <td id=\"T_c21c2_row0_col4\" class=\"data row0 col4\" >0.10</td>\n                        <td id=\"T_c21c2_row0_col5\" class=\"data row0 col5\" >-0.07</td>\n                        <td id=\"T_c21c2_row0_col6\" class=\"data row0 col6\" >0.05</td>\n                        <td id=\"T_c21c2_row0_col7\" class=\"data row0 col7\" >0.38</td>\n                        <td id=\"T_c21c2_row0_col8\" class=\"data row0 col8\" >0.40</td>\n                        <td id=\"T_c21c2_row0_col9\" class=\"data row0 col9\" >0.98</td>\n            </tr>\n            <tr>\n                        <th id=\"T_c21c2_level0_row1\" class=\"row_heading level0 row1\" >enginePower</th>\n                        <td id=\"T_c21c2_row1_col0\" class=\"data row1 col0\" >0.80</td>\n                        <td id=\"T_c21c2_row1_col1\" class=\"data row1 col1\" >1.00</td>\n                        <td id=\"T_c21c2_row1_col2\" class=\"data row1 col2\" >-0.12</td>\n                        <td id=\"T_c21c2_row1_col3\" class=\"data row1 col3\" >0.19</td>\n                        <td id=\"T_c21c2_row1_col4\" class=\"data row1 col4\" >0.04</td>\n                        <td id=\"T_c21c2_row1_col5\" class=\"data row1 col5\" >0.16</td>\n                        <td id=\"T_c21c2_row1_col6\" class=\"data row1 col6\" >-0.04</td>\n                        <td id=\"T_c21c2_row1_col7\" class=\"data row1 col7\" >0.55</td>\n                        <td id=\"T_c21c2_row1_col8\" class=\"data row1 col8\" >0.61</td>\n                        <td id=\"T_c21c2_row1_col9\" class=\"data row1 col9\" >0.83</td>\n            </tr>\n            <tr>\n                        <th id=\"T_c21c2_level0_row2\" class=\"row_heading level0 row2\" >mileage</th>\n                        <td id=\"T_c21c2_row2_col0\" class=\"data row2 col0\" >0.07</td>\n                        <td id=\"T_c21c2_row2_col1\" class=\"data row2 col1\" >-0.12</td>\n                        <td id=\"T_c21c2_row2_col2\" class=\"data row2 col2\" >1.00</td>\n                        <td id=\"T_c21c2_row2_col3\" class=\"data row2 col3\" >-0.65</td>\n                        <td id=\"T_c21c2_row2_col4\" class=\"data row2 col4\" >-0.07</td>\n                        <td id=\"T_c21c2_row2_col5\" class=\"data row2 col5\" >-0.68</td>\n                        <td id=\"T_c21c2_row2_col6\" class=\"data row2 col6\" >0.47</td>\n                        <td id=\"T_c21c2_row2_col7\" class=\"data row2 col7\" >-0.49</td>\n                        <td id=\"T_c21c2_row2_col8\" class=\"data row2 col8\" >-0.59</td>\n                        <td id=\"T_c21c2_row2_col9\" class=\"data row2 col9\" >0.06</td>\n            </tr>\n            <tr>\n                        <th id=\"T_c21c2_level0_row3\" class=\"row_heading level0 row3\" >modelDate</th>\n                        <td id=\"T_c21c2_row3_col0\" class=\"data row3 col0\" >-0.05</td>\n                        <td id=\"T_c21c2_row3_col1\" class=\"data row3 col1\" >0.19</td>\n                        <td id=\"T_c21c2_row3_col2\" class=\"data row3 col2\" >-0.65</td>\n                        <td id=\"T_c21c2_row3_col3\" class=\"data row3 col3\" >1.00</td>\n                        <td id=\"T_c21c2_row3_col4\" class=\"data row3 col4\" >0.14</td>\n                        <td id=\"T_c21c2_row3_col5\" class=\"data row3 col5\" >0.97</td>\n                        <td id=\"T_c21c2_row3_col6\" class=\"data row3 col6\" >-0.54</td>\n                        <td id=\"T_c21c2_row3_col7\" class=\"data row3 col7\" >0.54</td>\n                        <td id=\"T_c21c2_row3_col8\" class=\"data row3 col8\" >0.75</td>\n                        <td id=\"T_c21c2_row3_col9\" class=\"data row3 col9\" >-0.02</td>\n            </tr>\n            <tr>\n                        <th id=\"T_c21c2_level0_row4\" class=\"row_heading level0 row4\" >numberOfDoors</th>\n                        <td id=\"T_c21c2_row4_col0\" class=\"data row4 col0\" >0.10</td>\n                        <td id=\"T_c21c2_row4_col1\" class=\"data row4 col1\" >0.04</td>\n                        <td id=\"T_c21c2_row4_col2\" class=\"data row4 col2\" >-0.07</td>\n                        <td id=\"T_c21c2_row4_col3\" class=\"data row4 col3\" >0.14</td>\n                        <td id=\"T_c21c2_row4_col4\" class=\"data row4 col4\" >1.00</td>\n                        <td id=\"T_c21c2_row4_col5\" class=\"data row4 col5\" >0.15</td>\n                        <td id=\"T_c21c2_row4_col6\" class=\"data row4 col6\" >-0.16</td>\n                        <td id=\"T_c21c2_row4_col7\" class=\"data row4 col7\" >0.11</td>\n                        <td id=\"T_c21c2_row4_col8\" class=\"data row4 col8\" >0.15</td>\n                        <td id=\"T_c21c2_row4_col9\" class=\"data row4 col9\" >0.10</td>\n            </tr>\n            <tr>\n                        <th id=\"T_c21c2_level0_row5\" class=\"row_heading level0 row5\" >productionDate</th>\n                        <td id=\"T_c21c2_row5_col0\" class=\"data row5 col0\" >-0.07</td>\n                        <td id=\"T_c21c2_row5_col1\" class=\"data row5 col1\" >0.16</td>\n                        <td id=\"T_c21c2_row5_col2\" class=\"data row5 col2\" >-0.68</td>\n                        <td id=\"T_c21c2_row5_col3\" class=\"data row5 col3\" >0.97</td>\n                        <td id=\"T_c21c2_row5_col4\" class=\"data row5 col4\" >0.15</td>\n                        <td id=\"T_c21c2_row5_col5\" class=\"data row5 col5\" >1.00</td>\n                        <td id=\"T_c21c2_row5_col6\" class=\"data row5 col6\" >-0.57</td>\n                        <td id=\"T_c21c2_row5_col7\" class=\"data row5 col7\" >0.55</td>\n                        <td id=\"T_c21c2_row5_col8\" class=\"data row5 col8\" >0.75</td>\n                        <td id=\"T_c21c2_row5_col9\" class=\"data row5 col9\" >-0.04</td>\n            </tr>\n            <tr>\n                        <th id=\"T_c21c2_level0_row6\" class=\"row_heading level0 row6\" >Владельцы</th>\n                        <td id=\"T_c21c2_row6_col0\" class=\"data row6 col0\" >0.05</td>\n                        <td id=\"T_c21c2_row6_col1\" class=\"data row6 col1\" >-0.04</td>\n                        <td id=\"T_c21c2_row6_col2\" class=\"data row6 col2\" >0.47</td>\n                        <td id=\"T_c21c2_row6_col3\" class=\"data row6 col3\" >-0.54</td>\n                        <td id=\"T_c21c2_row6_col4\" class=\"data row6 col4\" >-0.16</td>\n                        <td id=\"T_c21c2_row6_col5\" class=\"data row6 col5\" >-0.57</td>\n                        <td id=\"T_c21c2_row6_col6\" class=\"data row6 col6\" >1.00</td>\n                        <td id=\"T_c21c2_row6_col7\" class=\"data row6 col7\" >-0.36</td>\n                        <td id=\"T_c21c2_row6_col8\" class=\"data row6 col8\" >-0.47</td>\n                        <td id=\"T_c21c2_row6_col9\" class=\"data row6 col9\" >0.04</td>\n            </tr>\n            <tr>\n                        <th id=\"T_c21c2_level0_row7\" class=\"row_heading level0 row7\" >price</th>\n                        <td id=\"T_c21c2_row7_col0\" class=\"data row7 col0\" >0.38</td>\n                        <td id=\"T_c21c2_row7_col1\" class=\"data row7 col1\" >0.55</td>\n                        <td id=\"T_c21c2_row7_col2\" class=\"data row7 col2\" >-0.49</td>\n                        <td id=\"T_c21c2_row7_col3\" class=\"data row7 col3\" >0.54</td>\n                        <td id=\"T_c21c2_row7_col4\" class=\"data row7 col4\" >0.11</td>\n                        <td id=\"T_c21c2_row7_col5\" class=\"data row7 col5\" >0.55</td>\n                        <td id=\"T_c21c2_row7_col6\" class=\"data row7 col6\" >-0.36</td>\n                        <td id=\"T_c21c2_row7_col7\" class=\"data row7 col7\" >1.00</td>\n                        <td id=\"T_c21c2_row7_col8\" class=\"data row7 col8\" >0.83</td>\n                        <td id=\"T_c21c2_row7_col9\" class=\"data row7 col9\" >0.41</td>\n            </tr>\n            <tr>\n                        <th id=\"T_c21c2_level0_row8\" class=\"row_heading level0 row8\" >price_log</th>\n                        <td id=\"T_c21c2_row8_col0\" class=\"data row8 col0\" >0.40</td>\n                        <td id=\"T_c21c2_row8_col1\" class=\"data row8 col1\" >0.61</td>\n                        <td id=\"T_c21c2_row8_col2\" class=\"data row8 col2\" >-0.59</td>\n                        <td id=\"T_c21c2_row8_col3\" class=\"data row8 col3\" >0.75</td>\n                        <td id=\"T_c21c2_row8_col4\" class=\"data row8 col4\" >0.15</td>\n                        <td id=\"T_c21c2_row8_col5\" class=\"data row8 col5\" >0.75</td>\n                        <td id=\"T_c21c2_row8_col6\" class=\"data row8 col6\" >-0.47</td>\n                        <td id=\"T_c21c2_row8_col7\" class=\"data row8 col7\" >0.83</td>\n                        <td id=\"T_c21c2_row8_col8\" class=\"data row8 col8\" >1.00</td>\n                        <td id=\"T_c21c2_row8_col9\" class=\"data row8 col9\" >0.44</td>\n            </tr>\n            <tr>\n                        <th id=\"T_c21c2_level0_row9\" class=\"row_heading level0 row9\" >engineDisplacement _log</th>\n                        <td id=\"T_c21c2_row9_col0\" class=\"data row9 col0\" >0.98</td>\n                        <td id=\"T_c21c2_row9_col1\" class=\"data row9 col1\" >0.83</td>\n                        <td id=\"T_c21c2_row9_col2\" class=\"data row9 col2\" >0.06</td>\n                        <td id=\"T_c21c2_row9_col3\" class=\"data row9 col3\" >-0.02</td>\n                        <td id=\"T_c21c2_row9_col4\" class=\"data row9 col4\" >0.10</td>\n                        <td id=\"T_c21c2_row9_col5\" class=\"data row9 col5\" >-0.04</td>\n                        <td id=\"T_c21c2_row9_col6\" class=\"data row9 col6\" >0.04</td>\n                        <td id=\"T_c21c2_row9_col7\" class=\"data row9 col7\" >0.41</td>\n                        <td id=\"T_c21c2_row9_col8\" class=\"data row9 col8\" >0.44</td>\n                        <td id=\"T_c21c2_row9_col9\" class=\"data row9 col9\" >1.00</td>\n            </tr>\n    </tbody></table>"
     },
     "execution_count": 132,
     "metadata": {},
     "output_type": "execute_result"
    }
   ]
  },
  {
   "cell_type": "markdown",
   "source": "the features are highly correlated with each other:\n* modelDate, productionDate, mileage, Владельцы, price, \n* enginePower and engineDisplacement ",
   "metadata": {}
  },
  {
   "cell_type": "code",
   "source": "df[(df['sample'] == 1)].shape",
   "metadata": {
    "execution": {
     "iopub.status.busy": "2021-09-03T20:46:12.224729Z",
     "iopub.execute_input": "2021-09-03T20:46:12.225061Z",
     "iopub.status.idle": "2021-09-03T20:46:12.242652Z",
     "shell.execute_reply.started": "2021-09-03T20:46:12.225028Z",
     "shell.execute_reply": "2021-09-03T20:46:12.241268Z"
    },
    "trusted": true
   },
   "execution_count": 133,
   "outputs": [
    {
     "data": {
      "text/plain": "(48460, 21)"
     },
     "execution_count": 133,
     "metadata": {},
     "output_type": "execute_result"
    }
   ]
  },
  {
   "cell_type": "code",
   "source": "df[(df['sample'] == 0)].shape",
   "metadata": {
    "execution": {
     "iopub.status.busy": "2021-09-03T20:46:12.244615Z",
     "iopub.execute_input": "2021-09-03T20:46:12.244980Z",
     "iopub.status.idle": "2021-09-03T20:46:12.261214Z",
     "shell.execute_reply.started": "2021-09-03T20:46:12.244946Z",
     "shell.execute_reply": "2021-09-03T20:46:12.260172Z"
    },
    "trusted": true
   },
   "execution_count": 134,
   "outputs": [
    {
     "data": {
      "text/plain": "(34686, 21)"
     },
     "execution_count": 134,
     "metadata": {},
     "output_type": "execute_result"
    }
   ]
  },
  {
   "cell_type": "code",
   "source": "df.isna().sum()",
   "metadata": {
    "execution": {
     "iopub.status.busy": "2021-09-03T20:46:12.262746Z",
     "iopub.execute_input": "2021-09-03T20:46:12.263058Z",
     "iopub.status.idle": "2021-09-03T20:46:12.369466Z",
     "shell.execute_reply.started": "2021-09-03T20:46:12.263027Z",
     "shell.execute_reply": "2021-09-03T20:46:12.368154Z"
    },
    "trusted": true
   },
   "execution_count": 135,
   "outputs": [
    {
     "data": {
      "text/plain": "bodyType                   0\nbrand                      0\ncolor                      0\nengineDisplacement         0\nenginePower                0\nfuelType                   0\nmileage                    0\nmodelDate                  0\nmodel_name                 0\nnumberOfDoors              0\nproductionDate             0\nvehicleTransmission        0\nvendor                     0\nВладельцы                  0\nПТС                        0\nПривод                     0\nprice                      0\nsample                     0\nprice_log                  0\nengineDisplacement _log    0\noptions                    0\ndtype: int64"
     },
     "execution_count": 135,
     "metadata": {},
     "output_type": "execute_result"
    }
   ]
  },
  {
   "cell_type": "markdown",
   "source": "#### Summary by EDA\n\nUsing quantitative techniques and visual methods of representation, EDA looks to tell a story about the existing data based on a broad examination of patterns, trends, outliers, and unexpected results.\n\n",
   "metadata": {}
  },
  {
   "cell_type": "markdown",
   "source": "# 3. Data preprocessing",
   "metadata": {}
  },
  {
   "cell_type": "markdown",
   "source": "## 3.1 Significance of continuous variables by ANOVA F test ",
   "metadata": {}
  },
  {
   "cell_type": "code",
   "source": "temp_df = df[df['sample']==1]\nimp_num = pd.Series(f_classif(temp_df[num_cols], temp_df['price_log'])[0], index = num_cols)\nimp_num.sort_values(inplace = True)\nimp_num.plot(kind = 'barh', title='Significance of continuous variables by ANOVA F test for all brands')",
   "metadata": {
    "execution": {
     "iopub.status.busy": "2021-09-03T20:46:12.370791Z",
     "iopub.execute_input": "2021-09-03T20:46:12.371254Z",
     "iopub.status.idle": "2021-09-03T20:46:13.605457Z",
     "shell.execute_reply.started": "2021-09-03T20:46:12.371203Z",
     "shell.execute_reply": "2021-09-03T20:46:13.604402Z"
    },
    "trusted": true
   },
   "execution_count": 136,
   "outputs": [
    {
     "data": {
      "text/plain": "<AxesSubplot:title={'center':'Significance of continuous variables by ANOVA F test for all brands'}>"
     },
     "execution_count": 136,
     "metadata": {},
     "output_type": "execute_result"
    },
    {
     "data": {
      "text/plain": "<Figure size 432x288 with 1 Axes>",
      "image/png": "[encoded data removed]"
     },
     "metadata": {},
     "output_type": "display_data"
    }
   ]
  },
  {
   "cell_type": "markdown",
   "source": "## 3.2 Data encoding",
   "metadata": {}
  },
  {
   "cell_type": "markdown",
   "source": "### 3.2.1 Categorical Data Encoding",
   "metadata": {}
  },
  {
   "cell_type": "markdown",
   "source": "#### 3.2.2.1 Options",
   "metadata": {}
  },
  {
   "cell_type": "code",
   "source": "#OneHotEncoding\ndf1 = pd.DataFrame()\ndf1 = pd.get_dummies(df['options'].apply(pd.Series), prefix='', prefix_sep='', dummy_na=True).sum(level=0, axis=1)\ndf1.drop(['nan'], axis=1, inplace=True)\ndf1.head(3)",
   "metadata": {
    "execution": {
     "iopub.status.busy": "2021-09-03T20:46:13.606752Z",
     "iopub.execute_input": "2021-09-03T20:46:13.607036Z",
     "iopub.status.idle": "2021-09-03T20:46:42.231766Z",
     "shell.execute_reply.started": "2021-09-03T20:46:13.607009Z",
     "shell.execute_reply": "2021-09-03T20:46:42.230341Z"
    },
    "trusted": true
   },
   "execution_count": 137,
   "outputs": [
    {
     "data": {
      "text/plain": "   16-inch-wheels  17-inch-wheels  21-inch-wheels  airbag-passenger  \\\n0               1               0               0                 1   \n1               1               0               0                 1   \n2               2               0               0                 2   \n\n   airbag-side  audiosystem-cd  auto-cruise  automatic-lighting-control  \\\n0            1               1            0                           0   \n1            1               0            0                           0   \n2            2               2            0                           0   \n\n   black-roof  blind-spot  bluetooth  body-mouldings  climate-control-2  \\\n0           0           0          0               0                  0   \n1           0           0          1               0                  1   \n2           0           0          0               2                  1   \n\n   collision-prevention-assist  combo-interior  computer  door-sill-panel  \\\n0                            0               0         1                1   \n1                            0               0         1                0   \n2                            0               1         2                2   \n\n   electro-trunk  electronic-gage-panel  feedback-alarm  \\\n0              0                      0               0   \n1              0                      0               0   \n2              0                      0               0   \n\n   folding-front-passenger-seat  front-camera  front-centre-armrest  gbo  \\\n0                             0             0                     0    0   \n1                             0             0                     0    0   \n2                             0             0                     2    0   \n\n   immo  lane-keeping-assist  leather  light-cleaner  light-interior  \\\n0     0                    0        0              0               0   \n1     1                    0        0              0               0   \n2     2                    0        0              1               0   \n\n   light-sensor  mirrors-heat  multi-wheel  multizone-climate-control  \\\n0             0             0            0                          0   \n1             1             1            0                          0   \n2             2             2            1                          0   \n\n   paint-metallic  park-assist-r  power-child-locks-rear-doors  \\\n0               0              1                             1   \n1               0              1                             0   \n2               0              1                             1   \n\n   power-latching-doors  programmed-block-heater  rain-sensor  \\\n0                     0                        0            1   \n1                     0                        0            1   \n2                     0                        0            2   \n\n   rear-seat-heat-vent  remote-engine-start  seat-memory  seat-transformation  \\\n0                    0                    0            0                    1   \n1                    0                    0            0                    0   \n2                    0                    0            0                    2   \n\n   seats-2  seats-6  seats-7  seats-9  start-button  \\\n0        0        0        0        0             0   \n1        0        0        0        0             0   \n2        0        0        0        0             0   \n\n   steering-wheel-gear-shift-paddles  traffic-sign-recognition  turnbuckle  \\\n0                                  0                         0           0   \n1                                  0                         0           0   \n2                                  0                         0           0   \n\n   wheel-configuration1  wheel-heat  audiosystem  dha  folding-tables-rear  \\\n0                     1           0            0    0                    0   \n1                     0           1            0    0                    0   \n2                     2           0            0    0                    0   \n\n   parktronik  vsm  24-inch-wheels  climate-control-3  laminated-safety-glass  \\\n0           0    0               0                  0                       0   \n1           0    0               0                  0                       0   \n2           0    0               0                  0                       0   \n\n   2C5  S7N  UI4  364  448  500  772  RVR  P29  03B  6NQ  B16  \n0    0    0    0    0    0    0    0    0    0    0    0    0  \n1    0    0    0    0    0    0    0    0    0    0    0    0  \n2    0    0    0    0    0    0    0    0    0    0    0    0  ",
      "text/html": "<div>\n<style scoped>\n    .dataframe tbody tr th:only-of-type {\n        vertical-align: middle;\n    }\n\n    .dataframe tbody tr th {\n        vertical-align: top;\n    }\n\n    .dataframe thead th {\n        text-align: right;\n    }\n</style>\n<table border=\"1\" class=\"dataframe\">\n  <thead>\n    <tr style=\"text-align: right;\">\n      <th></th>\n      <th>16-inch-wheels</th>\n      <th>17-inch-wheels</th>\n      <th>21-inch-wheels</th>\n      <th>airbag-passenger</th>\n      <th>airbag-side</th>\n      <th>audiosystem-cd</th>\n      <th>auto-cruise</th>\n      <th>automatic-lighting-control</th>\n      <th>black-roof</th>\n      <th>blind-spot</th>\n      <th>bluetooth</th>\n      <th>body-mouldings</th>\n      <th>climate-control-2</th>\n      <th>collision-prevention-assist</th>\n      <th>combo-interior</th>\n      <th>computer</th>\n      <th>door-sill-panel</th>\n      <th>electro-trunk</th>\n      <th>electronic-gage-panel</th>\n      <th>feedback-alarm</th>\n      <th>folding-front-passenger-seat</th>\n      <th>front-camera</th>\n      <th>front-centre-armrest</th>\n      <th>gbo</th>\n      <th>immo</th>\n      <th>lane-keeping-assist</th>\n      <th>leather</th>\n      <th>light-cleaner</th>\n      <th>light-interior</th>\n      <th>light-sensor</th>\n      <th>mirrors-heat</th>\n      <th>multi-wheel</th>\n      <th>multizone-climate-control</th>\n      <th>paint-metallic</th>\n      <th>park-assist-r</th>\n      <th>power-child-locks-rear-doors</th>\n      <th>power-latching-doors</th>\n      <th>programmed-block-heater</th>\n      <th>rain-sensor</th>\n      <th>rear-seat-heat-vent</th>\n      <th>remote-engine-start</th>\n      <th>seat-memory</th>\n      <th>seat-transformation</th>\n      <th>seats-2</th>\n      <th>seats-6</th>\n      <th>seats-7</th>\n      <th>seats-9</th>\n      <th>start-button</th>\n      <th>steering-wheel-gear-shift-paddles</th>\n      <th>traffic-sign-recognition</th>\n      <th>turnbuckle</th>\n      <th>wheel-configuration1</th>\n      <th>wheel-heat</th>\n      <th>audiosystem</th>\n      <th>dha</th>\n      <th>folding-tables-rear</th>\n      <th>parktronik</th>\n      <th>vsm</th>\n      <th>24-inch-wheels</th>\n      <th>climate-control-3</th>\n      <th>laminated-safety-glass</th>\n      <th>2C5</th>\n      <th>S7N</th>\n      <th>UI4</th>\n      <th>364</th>\n      <th>448</th>\n      <th>500</th>\n      <th>772</th>\n      <th>RVR</th>\n      <th>P29</th>\n      <th>03B</th>\n      <th>6NQ</th>\n      <th>B16</th>\n    </tr>\n  </thead>\n  <tbody>\n    <tr>\n      <th>0</th>\n      <td>1</td>\n      <td>0</td>\n      <td>0</td>\n      <td>1</td>\n      <td>1</td>\n      <td>1</td>\n      <td>0</td>\n      <td>0</td>\n      <td>0</td>\n      <td>0</td>\n      <td>0</td>\n      <td>0</td>\n      <td>0</td>\n      <td>0</td>\n      <td>0</td>\n      <td>1</td>\n      <td>1</td>\n      <td>0</td>\n      <td>0</td>\n      <td>0</td>\n      <td>0</td>\n      <td>0</td>\n      <td>0</td>\n      <td>0</td>\n      <td>0</td>\n      <td>0</td>\n      <td>0</td>\n      <td>0</td>\n      <td>0</td>\n      <td>0</td>\n      <td>0</td>\n      <td>0</td>\n      <td>0</td>\n      <td>0</td>\n      <td>1</td>\n      <td>1</td>\n      <td>0</td>\n      <td>0</td>\n      <td>1</td>\n      <td>0</td>\n      <td>0</td>\n      <td>0</td>\n      <td>1</td>\n      <td>0</td>\n      <td>0</td>\n      <td>0</td>\n      <td>0</td>\n      <td>0</td>\n      <td>0</td>\n      <td>0</td>\n      <td>0</td>\n      <td>1</td>\n      <td>0</td>\n      <td>0</td>\n      <td>0</td>\n      <td>0</td>\n      <td>0</td>\n      <td>0</td>\n      <td>0</td>\n      <td>0</td>\n      <td>0</td>\n      <td>0</td>\n      <td>0</td>\n      <td>0</td>\n      <td>0</td>\n      <td>0</td>\n      <td>0</td>\n      <td>0</td>\n      <td>0</td>\n      <td>0</td>\n      <td>0</td>\n      <td>0</td>\n      <td>0</td>\n    </tr>\n    <tr>\n      <th>1</th>\n      <td>1</td>\n      <td>0</td>\n      <td>0</td>\n      <td>1</td>\n      <td>1</td>\n      <td>0</td>\n      <td>0</td>\n      <td>0</td>\n      <td>0</td>\n      <td>0</td>\n      <td>1</td>\n      <td>0</td>\n      <td>1</td>\n      <td>0</td>\n      <td>0</td>\n      <td>1</td>\n      <td>0</td>\n      <td>0</td>\n      <td>0</td>\n      <td>0</td>\n      <td>0</td>\n      <td>0</td>\n      <td>0</td>\n      <td>0</td>\n      <td>1</td>\n      <td>0</td>\n      <td>0</td>\n      <td>0</td>\n      <td>0</td>\n      <td>1</td>\n      <td>1</td>\n      <td>0</td>\n      <td>0</td>\n      <td>0</td>\n      <td>1</td>\n      <td>0</td>\n      <td>0</td>\n      <td>0</td>\n      <td>1</td>\n      <td>0</td>\n      <td>0</td>\n      <td>0</td>\n      <td>0</td>\n      <td>0</td>\n      <td>0</td>\n      <td>0</td>\n      <td>0</td>\n      <td>0</td>\n      <td>0</td>\n      <td>0</td>\n      <td>0</td>\n      <td>0</td>\n      <td>1</td>\n      <td>0</td>\n      <td>0</td>\n      <td>0</td>\n      <td>0</td>\n      <td>0</td>\n      <td>0</td>\n      <td>0</td>\n      <td>0</td>\n      <td>0</td>\n      <td>0</td>\n      <td>0</td>\n      <td>0</td>\n      <td>0</td>\n      <td>0</td>\n      <td>0</td>\n      <td>0</td>\n      <td>0</td>\n      <td>0</td>\n      <td>0</td>\n      <td>0</td>\n    </tr>\n    <tr>\n      <th>2</th>\n      <td>2</td>\n      <td>0</td>\n      <td>0</td>\n      <td>2</td>\n      <td>2</td>\n      <td>2</td>\n      <td>0</td>\n      <td>0</td>\n      <td>0</td>\n      <td>0</td>\n      <td>0</td>\n      <td>2</td>\n      <td>1</td>\n      <td>0</td>\n      <td>1</td>\n      <td>2</td>\n      <td>2</td>\n      <td>0</td>\n      <td>0</td>\n      <td>0</td>\n      <td>0</td>\n      <td>0</td>\n      <td>2</td>\n      <td>0</td>\n      <td>2</td>\n      <td>0</td>\n      <td>0</td>\n      <td>1</td>\n      <td>0</td>\n      <td>2</td>\n      <td>2</td>\n      <td>1</td>\n      <td>0</td>\n      <td>0</td>\n      <td>1</td>\n      <td>1</td>\n      <td>0</td>\n      <td>0</td>\n      <td>2</td>\n      <td>0</td>\n      <td>0</td>\n      <td>0</td>\n      <td>2</td>\n      <td>0</td>\n      <td>0</td>\n      <td>0</td>\n      <td>0</td>\n      <td>0</td>\n      <td>0</td>\n      <td>0</td>\n      <td>0</td>\n      <td>2</td>\n      <td>0</td>\n      <td>0</td>\n      <td>0</td>\n      <td>0</td>\n      <td>0</td>\n      <td>0</td>\n      <td>0</td>\n      <td>0</td>\n      <td>0</td>\n      <td>0</td>\n      <td>0</td>\n      <td>0</td>\n      <td>0</td>\n      <td>0</td>\n      <td>0</td>\n      <td>0</td>\n      <td>0</td>\n      <td>0</td>\n      <td>0</td>\n      <td>0</td>\n      <td>0</td>\n    </tr>\n  </tbody>\n</table>\n</div>"
     },
     "execution_count": 137,
     "metadata": {},
     "output_type": "execute_result"
    }
   ]
  },
  {
   "cell_type": "code",
   "source": "cat_cols.remove('options')\n",
   "metadata": {
    "execution": {
     "iopub.status.busy": "2021-09-03T20:46:42.233382Z",
     "iopub.execute_input": "2021-09-03T20:46:42.233744Z",
     "iopub.status.idle": "2021-09-03T20:46:42.240211Z",
     "shell.execute_reply.started": "2021-09-03T20:46:42.233713Z",
     "shell.execute_reply": "2021-09-03T20:46:42.238639Z"
    },
    "trusted": true
   },
   "execution_count": 138,
   "outputs": []
  },
  {
   "cell_type": "code",
   "source": "#Lable encoding\nlabelencoder = LabelEncoder()\nfor col in cat_cols:\n    df1[col] = labelencoder.fit_transform(df[col].astype(str))\n",
   "metadata": {
    "execution": {
     "iopub.status.busy": "2021-09-03T20:46:42.242153Z",
     "iopub.execute_input": "2021-09-03T20:46:42.242657Z",
     "iopub.status.idle": "2021-09-03T20:46:42.713208Z",
     "shell.execute_reply.started": "2021-09-03T20:46:42.242611Z",
     "shell.execute_reply": "2021-09-03T20:46:42.712031Z"
    },
    "trusted": true
   },
   "execution_count": 139,
   "outputs": []
  },
  {
   "cell_type": "markdown",
   "source": "### 3.2.2 Binary Data Encoding",
   "metadata": {
    "execution": {
     "iopub.status.busy": "2021-09-02T05:23:57.295033Z",
     "iopub.execute_input": "2021-09-02T05:23:57.295467Z",
     "iopub.status.idle": "2021-09-02T05:23:57.304314Z",
     "shell.execute_reply.started": "2021-09-02T05:23:57.295421Z",
     "shell.execute_reply": "2021-09-02T05:23:57.303257Z"
    }
   }
  },
  {
   "cell_type": "code",
   "source": "#Lable encoding\nlabelencoder = LabelEncoder()\ndf1['ПТС'] = labelencoder.fit_transform(df['ПТС'])",
   "metadata": {
    "execution": {
     "iopub.status.busy": "2021-09-03T20:46:42.714818Z",
     "iopub.execute_input": "2021-09-03T20:46:42.715281Z",
     "iopub.status.idle": "2021-09-03T20:46:42.753394Z",
     "shell.execute_reply.started": "2021-09-03T20:46:42.715238Z",
     "shell.execute_reply": "2021-09-03T20:46:42.752011Z"
    },
    "trusted": true
   },
   "execution_count": 140,
   "outputs": []
  },
  {
   "cell_type": "code",
   "source": "#Adding to df1 the 'sample' column\ndf1['sample'] = df['sample'].values",
   "metadata": {
    "execution": {
     "iopub.status.busy": "2021-09-03T20:46:42.754945Z",
     "iopub.execute_input": "2021-09-03T20:46:42.755293Z",
     "iopub.status.idle": "2021-09-03T20:46:42.768094Z",
     "shell.execute_reply.started": "2021-09-03T20:46:42.755259Z",
     "shell.execute_reply": "2021-09-03T20:46:42.766945Z"
    },
    "trusted": true
   },
   "execution_count": 141,
   "outputs": []
  },
  {
   "cell_type": "markdown",
   "source": "### 3.2.3 Numerical Data Type's columns",
   "metadata": {}
  },
  {
   "cell_type": "code",
   "source": "#Appending the numerical columns into df1\ndf1[num_cols] = df[num_cols].values",
   "metadata": {
    "execution": {
     "iopub.status.busy": "2021-09-03T20:46:42.769830Z",
     "iopub.execute_input": "2021-09-03T20:46:42.770175Z",
     "iopub.status.idle": "2021-09-03T20:46:42.961980Z",
     "shell.execute_reply.started": "2021-09-03T20:46:42.770143Z",
     "shell.execute_reply": "2021-09-03T20:46:42.960977Z"
    },
    "trusted": true
   },
   "execution_count": 142,
   "outputs": []
  },
  {
   "cell_type": "code",
   "source": "df1[target_cols] = df[target_cols].values",
   "metadata": {
    "execution": {
     "iopub.status.busy": "2021-09-03T20:46:42.963561Z",
     "iopub.execute_input": "2021-09-03T20:46:42.963882Z",
     "iopub.status.idle": "2021-09-03T20:46:43.025280Z",
     "shell.execute_reply.started": "2021-09-03T20:46:42.963851Z",
     "shell.execute_reply": "2021-09-03T20:46:43.024327Z"
    },
    "trusted": true
   },
   "execution_count": 143,
   "outputs": []
  },
  {
   "cell_type": "code",
   "source": "df1.info()",
   "metadata": {
    "execution": {
     "iopub.status.busy": "2021-09-03T20:46:43.026827Z",
     "iopub.execute_input": "2021-09-03T20:46:43.027152Z",
     "iopub.status.idle": "2021-09-03T20:46:43.068538Z",
     "shell.execute_reply.started": "2021-09-03T20:46:43.027121Z",
     "shell.execute_reply": "2021-09-03T20:46:43.067140Z"
    },
    "trusted": true
   },
   "execution_count": 144,
   "outputs": [
    {
     "name": "stdout",
     "output_type": "stream",
     "text": [
      "<class 'pandas.core.frame.DataFrame'>\n",
      "Int64Index: 83146 entries, 0 to 94447\n",
      "Data columns (total 92 columns):\n",
      " #   Column                             Non-Null Count  Dtype  \n",
      "---  ------                             --------------  -----  \n",
      " 0   16-inch-wheels                     83146 non-null  uint8  \n",
      " 1   17-inch-wheels                     83146 non-null  uint8  \n",
      " 2   21-inch-wheels                     83146 non-null  uint8  \n",
      " 3   airbag-passenger                   83146 non-null  uint8  \n",
      " 4   airbag-side                        83146 non-null  uint8  \n",
      " 5   audiosystem-cd                     83146 non-null  uint8  \n",
      " 6   auto-cruise                        83146 non-null  uint8  \n",
      " 7   automatic-lighting-control         83146 non-null  uint8  \n",
      " 8   black-roof                         83146 non-null  uint8  \n",
      " 9   blind-spot                         83146 non-null  uint8  \n",
      " 10  bluetooth                          83146 non-null  uint8  \n",
      " 11  body-mouldings                     83146 non-null  uint8  \n",
      " 12  climate-control-2                  83146 non-null  uint8  \n",
      " 13  collision-prevention-assist        83146 non-null  uint8  \n",
      " 14  combo-interior                     83146 non-null  uint8  \n",
      " 15  computer                           83146 non-null  uint8  \n",
      " 16  door-sill-panel                    83146 non-null  uint8  \n",
      " 17  electro-trunk                      83146 non-null  uint8  \n",
      " 18  electronic-gage-panel              83146 non-null  uint8  \n",
      " 19  feedback-alarm                     83146 non-null  uint8  \n",
      " 20  folding-front-passenger-seat       83146 non-null  uint8  \n",
      " 21  front-camera                       83146 non-null  uint8  \n",
      " 22  front-centre-armrest               83146 non-null  uint8  \n",
      " 23  gbo                                83146 non-null  uint8  \n",
      " 24  immo                               83146 non-null  uint8  \n",
      " 25  lane-keeping-assist                83146 non-null  uint8  \n",
      " 26  leather                            83146 non-null  uint8  \n",
      " 27  light-cleaner                      83146 non-null  uint8  \n",
      " 28  light-interior                     83146 non-null  uint8  \n",
      " 29  light-sensor                       83146 non-null  uint8  \n",
      " 30  mirrors-heat                       83146 non-null  uint8  \n",
      " 31  multi-wheel                        83146 non-null  uint8  \n",
      " 32  multizone-climate-control          83146 non-null  uint8  \n",
      " 33  paint-metallic                     83146 non-null  uint8  \n",
      " 34  park-assist-r                      83146 non-null  uint8  \n",
      " 35  power-child-locks-rear-doors       83146 non-null  uint8  \n",
      " 36  power-latching-doors               83146 non-null  uint8  \n",
      " 37  programmed-block-heater            83146 non-null  uint8  \n",
      " 38  rain-sensor                        83146 non-null  uint8  \n",
      " 39  rear-seat-heat-vent                83146 non-null  uint8  \n",
      " 40  remote-engine-start                83146 non-null  uint8  \n",
      " 41  seat-memory                        83146 non-null  uint8  \n",
      " 42  seat-transformation                83146 non-null  uint8  \n",
      " 43  seats-2                            83146 non-null  uint8  \n",
      " 44  seats-6                            83146 non-null  uint8  \n",
      " 45  seats-7                            83146 non-null  uint8  \n",
      " 46  seats-9                            83146 non-null  uint8  \n",
      " 47  start-button                       83146 non-null  uint8  \n",
      " 48  steering-wheel-gear-shift-paddles  83146 non-null  uint8  \n",
      " 49  traffic-sign-recognition           83146 non-null  uint8  \n",
      " 50  turnbuckle                         83146 non-null  uint8  \n",
      " 51  wheel-configuration1               83146 non-null  uint8  \n",
      " 52  wheel-heat                         83146 non-null  uint8  \n",
      " 53  audiosystem                        83146 non-null  uint8  \n",
      " 54  dha                                83146 non-null  uint8  \n",
      " 55  folding-tables-rear                83146 non-null  uint8  \n",
      " 56  parktronik                         83146 non-null  uint8  \n",
      " 57  vsm                                83146 non-null  uint8  \n",
      " 58  24-inch-wheels                     83146 non-null  uint8  \n",
      " 59  climate-control-3                  83146 non-null  uint8  \n",
      " 60  laminated-safety-glass             83146 non-null  uint8  \n",
      " 61  2C5                                83146 non-null  uint8  \n",
      " 62  S7N                                83146 non-null  uint8  \n",
      " 63  UI4                                83146 non-null  uint8  \n",
      " 64  364                                83146 non-null  uint8  \n",
      " 65  448                                83146 non-null  uint8  \n",
      " 66  500                                83146 non-null  uint8  \n",
      " 67  772                                83146 non-null  uint8  \n",
      " 68  RVR                                83146 non-null  uint8  \n",
      " 69  P29                                83146 non-null  uint8  \n",
      " 70  03B                                83146 non-null  uint8  \n",
      " 71  6NQ                                83146 non-null  uint8  \n",
      " 72  B16                                83146 non-null  uint8  \n",
      " 73  bodyType                           83146 non-null  int32  \n",
      " 74  brand                              83146 non-null  int32  \n",
      " 75  color                              83146 non-null  int32  \n",
      " 76  model_name                         83146 non-null  int32  \n",
      " 77  fuelType                           83146 non-null  int32  \n",
      " 78  vehicleTransmission                83146 non-null  int32  \n",
      " 79  vendor                             83146 non-null  int32  \n",
      " 80  Привод                             83146 non-null  int32  \n",
      " 81  ПТС                                83146 non-null  int32  \n",
      " 82  sample                             83146 non-null  int64  \n",
      " 83  engineDisplacement                 83146 non-null  float64\n",
      " 84  enginePower                        83146 non-null  float64\n",
      " 85  mileage                            83146 non-null  float64\n",
      " 86  modelDate                          83146 non-null  float64\n",
      " 87  productionDate                     83146 non-null  float64\n",
      " 88  Владельцы                          83146 non-null  float64\n",
      " 89  numberOfDoors                      83146 non-null  float64\n",
      " 90  price                              83146 non-null  float64\n",
      " 91  price_log                          83146 non-null  float64\n",
      "dtypes: float64(9), int32(9), int64(1), uint8(73)\n",
      "memory usage: 15.6 MB\n"
     ]
    }
   ]
  },
  {
   "cell_type": "code",
   "source": "df1[(df1['sample'] == 0)].shape",
   "metadata": {
    "execution": {
     "iopub.status.busy": "2021-09-03T20:46:43.070212Z",
     "iopub.execute_input": "2021-09-03T20:46:43.070651Z",
     "iopub.status.idle": "2021-09-03T20:46:43.089223Z",
     "shell.execute_reply.started": "2021-09-03T20:46:43.070614Z",
     "shell.execute_reply": "2021-09-03T20:46:43.087715Z"
    },
    "trusted": true
   },
   "execution_count": 145,
   "outputs": [
    {
     "data": {
      "text/plain": "(34686, 92)"
     },
     "execution_count": 145,
     "metadata": {},
     "output_type": "execute_result"
    }
   ]
  },
  {
   "cell_type": "markdown",
   "source": "### Dataset separation on traininig and testing parts by sample mark ",
   "metadata": {}
  },
  {
   "cell_type": "code",
   "source": "df1.drop(['price'], axis=1, inplace=True)\n\ny = df1[(df1['sample']==1)].price_log\nX = df1[(df1['sample']==1)].drop(['price_log'], axis=1)\n\nX_sub = df1[(df1['sample']==0)].drop(['price_log'], axis=1)\n",
   "metadata": {
    "execution": {
     "iopub.status.busy": "2021-09-03T20:46:43.091455Z",
     "iopub.execute_input": "2021-09-03T20:46:43.092022Z",
     "iopub.status.idle": "2021-09-03T20:46:43.148698Z",
     "shell.execute_reply.started": "2021-09-03T20:46:43.091971Z",
     "shell.execute_reply": "2021-09-03T20:46:43.147217Z"
    },
    "trusted": true
   },
   "execution_count": 146,
   "outputs": []
  },
  {
   "cell_type": "code",
   "source": "X_train, X_val, y_train, y_val = train_test_split(X, y, test_size = VAL_SIZE, shuffle=True, random_state=RANDOM_SEED)",
   "metadata": {
    "execution": {
     "iopub.status.busy": "2021-09-03T20:46:43.150661Z",
     "iopub.execute_input": "2021-09-03T20:46:43.151115Z",
     "iopub.status.idle": "2021-09-03T20:46:43.181811Z",
     "shell.execute_reply.started": "2021-09-03T20:46:43.151068Z",
     "shell.execute_reply": "2021-09-03T20:46:43.180732Z"
    },
    "trusted": true
   },
   "execution_count": 147,
   "outputs": []
  },
  {
   "cell_type": "markdown",
   "source": "# 4. Machine Learning Model",
   "metadata": {}
  },
  {
   "cell_type": "markdown",
   "source": "## 4.1 Exploration ML Models",
   "metadata": {}
  },
  {
   "cell_type": "code",
   "source": "#Model Random Forest \nreg_forest = RandomForestRegressor(n_estimators = 10, random_state = RANDOM_SEED)\nreg_forest.fit(X_train, y_train)\ny_pred = reg_forest.predict(X_val)",
   "metadata": {
    "execution": {
     "iopub.status.busy": "2021-09-03T20:46:43.183176Z",
     "iopub.execute_input": "2021-09-03T20:46:43.183671Z",
     "iopub.status.idle": "2021-09-03T20:46:45.718650Z",
     "shell.execute_reply.started": "2021-09-03T20:46:43.183638Z",
     "shell.execute_reply": "2021-09-03T20:46:45.717673Z"
    },
    "trusted": true
   },
   "execution_count": 148,
   "outputs": []
  },
  {
   "cell_type": "code",
   "source": "#Accuracy metrics\nmetrics_func(y_val, y_pred)",
   "metadata": {
    "execution": {
     "iopub.status.busy": "2021-09-03T20:46:45.720250Z",
     "iopub.execute_input": "2021-09-03T20:46:45.720630Z",
     "iopub.status.idle": "2021-09-03T20:46:45.732393Z",
     "shell.execute_reply.started": "2021-09-03T20:46:45.720596Z",
     "shell.execute_reply": "2021-09-03T20:46:45.730458Z"
    },
    "trusted": true
   },
   "execution_count": 149,
   "outputs": [
    {
     "name": "stdout",
     "output_type": "stream",
     "text": [
      "MAE Mean Absolute Error 0.14275459362498527\n",
      "MAPE  Mean Absolute Percentage Error 1.0789583331203338%\n",
      "SMAPE Symmetric Mean Absolute Percentage Error 1.078891359650001%\n",
      "MSE Mean Squared Error 0.04762752871016415\n",
      "RMSE Root Mean Squared Error 0.2182373219918265\n",
      "R_2 Coefficient of determination 0.9407091431599184\n"
     ]
    }
   ]
  },
  {
   "cell_type": "code",
   "source": "#Analysis of variables by importance (random forest model)\nplt.rcParams['figure.figsize'] = (10,10)\nfeat_importances = pd.Series(reg_forest.feature_importances_, index=X_train.columns)\nfeat_importances.nlargest(15).plot(kind='barh')\n",
   "metadata": {
    "execution": {
     "iopub.status.busy": "2021-09-03T20:46:45.733684Z",
     "iopub.execute_input": "2021-09-03T20:46:45.733983Z",
     "iopub.status.idle": "2021-09-03T20:46:46.091169Z",
     "shell.execute_reply.started": "2021-09-03T20:46:45.733947Z",
     "shell.execute_reply": "2021-09-03T20:46:46.089726Z"
    },
    "trusted": true
   },
   "execution_count": 150,
   "outputs": [
    {
     "data": {
      "text/plain": "<AxesSubplot:>"
     },
     "execution_count": 150,
     "metadata": {},
     "output_type": "execute_result"
    },
    {
     "data": {
      "text/plain": "<Figure size 720x720 with 1 Axes>",
      "image/png": "[encoded data removed]"
     },
     "metadata": {},
     "output_type": "display_data"
    }
   ]
  },
  {
   "cell_type": "code",
   "source": "df1.isna().sum()",
   "metadata": {
    "execution": {
     "iopub.status.busy": "2021-09-03T20:46:46.092749Z",
     "iopub.execute_input": "2021-09-03T20:46:46.093058Z",
     "iopub.status.idle": "2021-09-03T20:46:46.117740Z",
     "shell.execute_reply.started": "2021-09-03T20:46:46.093026Z",
     "shell.execute_reply": "2021-09-03T20:46:46.116509Z"
    },
    "trusted": true
   },
   "execution_count": 151,
   "outputs": [
    {
     "data": {
      "text/plain": "16-inch-wheels      0\n17-inch-wheels      0\n21-inch-wheels      0\nairbag-passenger    0\nairbag-side         0\n                   ..\nmodelDate           0\nproductionDate      0\nВладельцы           0\nnumberOfDoors       0\nprice_log           0\nLength: 91, dtype: int64"
     },
     "execution_count": 151,
     "metadata": {},
     "output_type": "execute_result"
    }
   ]
  },
  {
   "cell_type": "code",
   "source": "# Linear Regeression\ny_train = df1.price_log.values   \nX_train = df1.drop(['price_log'], axis=1)\n\nlin_reg = LinearRegression()\nlin_reg.fit(X_train, y_train)\ny_pred = lin_reg.predict(X_val)",
   "metadata": {
    "execution": {
     "iopub.status.busy": "2021-09-03T20:46:46.119372Z",
     "iopub.execute_input": "2021-09-03T20:46:46.119714Z",
     "iopub.status.idle": "2021-09-03T20:46:46.370886Z",
     "shell.execute_reply.started": "2021-09-03T20:46:46.119681Z",
     "shell.execute_reply": "2021-09-03T20:46:46.369368Z"
    },
    "trusted": true
   },
   "execution_count": 152,
   "outputs": []
  },
  {
   "cell_type": "code",
   "source": "#Accuracy metrics\nmetrics_func(y_val, y_pred)",
   "metadata": {
    "execution": {
     "iopub.status.busy": "2021-09-03T20:46:46.372944Z",
     "iopub.execute_input": "2021-09-03T20:46:46.373464Z",
     "iopub.status.idle": "2021-09-03T20:46:46.388969Z",
     "shell.execute_reply.started": "2021-09-03T20:46:46.373412Z",
     "shell.execute_reply": "2021-09-03T20:46:46.387356Z"
    },
    "trusted": true
   },
   "execution_count": 153,
   "outputs": [
    {
     "name": "stdout",
     "output_type": "stream",
     "text": [
      "MAE Mean Absolute Error 0.3605995601419255\n",
      "MAPE  Mean Absolute Percentage Error 2.685525237327818%\n",
      "SMAPE Symmetric Mean Absolute Percentage Error 2.6727107920802466%\n",
      "MSE Mean Squared Error 0.21433996954482085\n",
      "RMSE Root Mean Squared Error 0.46296864855497594\n",
      "R_2 Coefficient of determination 0.7331711135648882\n"
     ]
    }
   ]
  },
  {
   "cell_type": "code",
   "source": "#Cross-validation for Lrg\nlin_reg = LinearRegression()\nlin_reg_res = cross_val_score(lin_reg, X, y, cv=5, scoring='neg_mean_squared_error')\nlin_reg_res ",
   "metadata": {
    "execution": {
     "iopub.status.busy": "2021-09-03T20:46:46.392954Z",
     "iopub.execute_input": "2021-09-03T20:46:46.393355Z",
     "iopub.status.idle": "2021-09-03T20:46:47.108375Z",
     "shell.execute_reply.started": "2021-09-03T20:46:46.393298Z",
     "shell.execute_reply": "2021-09-03T20:46:47.106980Z"
    },
    "trusted": true
   },
   "execution_count": 154,
   "outputs": [
    {
     "data": {
      "text/plain": "array([-0.14339827, -0.09123677, -0.13246286, -0.12880924, -0.1510435 ])"
     },
     "execution_count": 154,
     "metadata": {},
     "output_type": "execute_result"
    }
   ]
  },
  {
   "cell_type": "code",
   "source": "np.mean(np.sqrt(-1*lin_reg_res))",
   "metadata": {
    "execution": {
     "iopub.status.busy": "2021-09-03T20:46:47.110358Z",
     "iopub.execute_input": "2021-09-03T20:46:47.110736Z",
     "iopub.status.idle": "2021-09-03T20:46:47.123927Z",
     "shell.execute_reply.started": "2021-09-03T20:46:47.110701Z",
     "shell.execute_reply": "2021-09-03T20:46:47.121108Z"
    },
    "trusted": true
   },
   "execution_count": 155,
   "outputs": [
    {
     "data": {
      "text/plain": "0.35844631188972687"
     },
     "execution_count": 155,
     "metadata": {},
     "output_type": "execute_result"
    }
   ]
  },
  {
   "cell_type": "code",
   "source": "#Cross-validation for reg_forest\nreg_forest = RandomForestRegressor(n_estimators = 10)\nreg_forest_res = cross_val_score(reg_forest, X, y, cv=5, scoring='neg_mean_squared_error')\nreg_forest_res ",
   "metadata": {
    "execution": {
     "iopub.status.busy": "2021-09-03T20:46:47.126584Z",
     "iopub.execute_input": "2021-09-03T20:46:47.127160Z",
     "iopub.status.idle": "2021-09-03T20:46:59.058628Z",
     "shell.execute_reply.started": "2021-09-03T20:46:47.127108Z",
     "shell.execute_reply": "2021-09-03T20:46:59.057543Z"
    },
    "trusted": true
   },
   "execution_count": 156,
   "outputs": [
    {
     "data": {
      "text/plain": "array([-0.14250013, -0.06588871, -0.11930435, -0.11158904, -0.16590618])"
     },
     "execution_count": 156,
     "metadata": {},
     "output_type": "execute_result"
    }
   ]
  },
  {
   "cell_type": "code",
   "source": "np.mean(np.sqrt(-1*reg_forest_res))",
   "metadata": {
    "execution": {
     "iopub.status.busy": "2021-09-03T20:46:59.060111Z",
     "iopub.execute_input": "2021-09-03T20:46:59.060501Z",
     "iopub.status.idle": "2021-09-03T20:46:59.068256Z",
     "shell.execute_reply.started": "2021-09-03T20:46:59.060466Z",
     "shell.execute_reply": "2021-09-03T20:46:59.067033Z"
    },
    "trusted": true
   },
   "execution_count": 157,
   "outputs": [
    {
     "data": {
      "text/plain": "0.34418994914017886"
     },
     "execution_count": 157,
     "metadata": {},
     "output_type": "execute_result"
    }
   ]
  },
  {
   "cell_type": "markdown",
   "source": "### _the accurancy at linear Regression metrics has been worsened with compare to Random Forest Model_",
   "metadata": {}
  },
  {
   "cell_type": "markdown",
   "source": "## 4.2 Hyperparameters tuning¶",
   "metadata": {}
  },
  {
   "cell_type": "code",
   "source": "reg_forest.get_params()",
   "metadata": {
    "execution": {
     "iopub.status.busy": "2021-09-03T20:46:59.070224Z",
     "iopub.execute_input": "2021-09-03T20:46:59.070702Z",
     "iopub.status.idle": "2021-09-03T20:46:59.086072Z",
     "shell.execute_reply.started": "2021-09-03T20:46:59.070654Z",
     "shell.execute_reply": "2021-09-03T20:46:59.084822Z"
    },
    "trusted": true
   },
   "execution_count": 158,
   "outputs": [
    {
     "data": {
      "text/plain": "{'bootstrap': True,\n 'ccp_alpha': 0.0,\n 'criterion': 'mse',\n 'max_depth': None,\n 'max_features': 'auto',\n 'max_leaf_nodes': None,\n 'max_samples': None,\n 'min_impurity_decrease': 0.0,\n 'min_impurity_split': None,\n 'min_samples_leaf': 1,\n 'min_samples_split': 2,\n 'min_weight_fraction_leaf': 0.0,\n 'n_estimators': 10,\n 'n_jobs': None,\n 'oob_score': False,\n 'random_state': None,\n 'verbose': 0,\n 'warm_start': False}"
     },
     "execution_count": 158,
     "metadata": {},
     "output_type": "execute_result"
    }
   ]
  },
  {
   "cell_type": "code",
   "source": "param_grid = {\n    'max_depth' : [5, 10, 15],\n    'n_estimators': [1, 5, 10, 15]\n}",
   "metadata": {
    "execution": {
     "iopub.status.busy": "2021-09-03T20:46:59.087941Z",
     "iopub.execute_input": "2021-09-03T20:46:59.088434Z",
     "iopub.status.idle": "2021-09-03T20:46:59.104185Z",
     "shell.execute_reply.started": "2021-09-03T20:46:59.088374Z",
     "shell.execute_reply": "2021-09-03T20:46:59.102451Z"
    },
    "trusted": true
   },
   "execution_count": 159,
   "outputs": []
  },
  {
   "cell_type": "code",
   "source": "#Random Forest Model with HP\nreg_forest = RandomForestRegressor(random_state = RANDOM_SEED)\ngrid_cv = GridSearchCV(reg_forest, param_grid, scoring='neg_mean_squared_error', cv=5)\ngrid_cv.fit(X_train, y_train)",
   "metadata": {
    "execution": {
     "iopub.status.busy": "2021-09-03T20:46:59.106054Z",
     "iopub.execute_input": "2021-09-03T20:46:59.106417Z",
     "iopub.status.idle": "2021-09-03T20:48:15.785596Z",
     "shell.execute_reply.started": "2021-09-03T20:46:59.106375Z",
     "shell.execute_reply": "2021-09-03T20:48:15.784240Z"
    },
    "trusted": true
   },
   "execution_count": 160,
   "outputs": [
    {
     "data": {
      "text/plain": "GridSearchCV(cv=5, estimator=RandomForestRegressor(random_state=42),\n             param_grid={'max_depth': [5, 10, 15],\n                         'n_estimators': [1, 5, 10, 15]},\n             scoring='neg_mean_squared_error')"
     },
     "execution_count": 160,
     "metadata": {},
     "output_type": "execute_result"
    }
   ]
  },
  {
   "cell_type": "code",
   "source": "grid_cv.best_params_ #best params from Cross-Validation of X_train",
   "metadata": {
    "execution": {
     "iopub.status.busy": "2021-09-03T20:48:15.787436Z",
     "iopub.execute_input": "2021-09-03T20:48:15.787913Z",
     "iopub.status.idle": "2021-09-03T20:48:15.796962Z",
     "shell.execute_reply.started": "2021-09-03T20:48:15.787865Z",
     "shell.execute_reply": "2021-09-03T20:48:15.795487Z"
    },
    "trusted": true
   },
   "execution_count": 161,
   "outputs": [
    {
     "data": {
      "text/plain": "{'max_depth': 15, 'n_estimators': 15}"
     },
     "execution_count": 161,
     "metadata": {},
     "output_type": "execute_result"
    }
   ]
  },
  {
   "cell_type": "code",
   "source": "grid_cv.best_score_",
   "metadata": {
    "execution": {
     "iopub.status.busy": "2021-09-03T20:48:15.798604Z",
     "iopub.execute_input": "2021-09-03T20:48:15.798933Z",
     "iopub.status.idle": "2021-09-03T20:48:15.817794Z",
     "shell.execute_reply.started": "2021-09-03T20:48:15.798903Z",
     "shell.execute_reply": "2021-09-03T20:48:15.816607Z"
    },
    "trusted": true
   },
   "execution_count": 162,
   "outputs": [
    {
     "data": {
      "text/plain": "-0.06569397681058589"
     },
     "execution_count": 162,
     "metadata": {},
     "output_type": "execute_result"
    }
   ]
  },
  {
   "cell_type": "code",
   "source": "grid_cv.best_estimator_",
   "metadata": {
    "execution": {
     "iopub.status.busy": "2021-09-03T20:48:15.819563Z",
     "iopub.execute_input": "2021-09-03T20:48:15.820340Z",
     "iopub.status.idle": "2021-09-03T20:48:15.832703Z",
     "shell.execute_reply.started": "2021-09-03T20:48:15.820265Z",
     "shell.execute_reply": "2021-09-03T20:48:15.831239Z"
    },
    "trusted": true
   },
   "execution_count": 163,
   "outputs": [
    {
     "data": {
      "text/plain": "RandomForestRegressor(max_depth=15, n_estimators=15, random_state=42)"
     },
     "execution_count": 163,
     "metadata": {},
     "output_type": "execute_result"
    }
   ]
  },
  {
   "cell_type": "code",
   "source": "#Applying the grid_cv to the RandomForestRegressor\ny_pred = grid_cv.predict(X_val)\n",
   "metadata": {
    "execution": {
     "iopub.status.busy": "2021-09-03T20:48:15.834156Z",
     "iopub.execute_input": "2021-09-03T20:48:15.834547Z",
     "iopub.status.idle": "2021-09-03T20:48:15.888166Z",
     "shell.execute_reply.started": "2021-09-03T20:48:15.834515Z",
     "shell.execute_reply": "2021-09-03T20:48:15.886769Z"
    },
    "trusted": true
   },
   "execution_count": 164,
   "outputs": []
  },
  {
   "cell_type": "code",
   "source": "#Accuracy metrics\nmetrics_func(y_val, y_pred)",
   "metadata": {
    "execution": {
     "iopub.status.busy": "2021-09-03T20:48:15.890001Z",
     "iopub.execute_input": "2021-09-03T20:48:15.890341Z",
     "iopub.status.idle": "2021-09-03T20:48:15.903974Z",
     "shell.execute_reply.started": "2021-09-03T20:48:15.890297Z",
     "shell.execute_reply": "2021-09-03T20:48:15.903096Z"
    },
    "trusted": true
   },
   "execution_count": 165,
   "outputs": [
    {
     "name": "stdout",
     "output_type": "stream",
     "text": [
      "MAE Mean Absolute Error 0.0987750972738793\n",
      "MAPE  Mean Absolute Percentage Error 0.7478098458197838%\n",
      "SMAPE Symmetric Mean Absolute Percentage Error 0.7471504820485638%\n",
      "MSE Mean Squared Error 0.020173535668691317\n",
      "RMSE Root Mean Squared Error 0.14203357232954228\n",
      "R_2 Coefficient of determination 0.974886242312308\n"
     ]
    }
   ]
  },
  {
   "cell_type": "code",
   "source": "### gradient boosting model\ngbr = GradientBoostingRegressor(n_estimators=250)\ngbr.fit(X_train, y_train)\ny_pred = gbr.predict(X_val)\n",
   "metadata": {
    "execution": {
     "iopub.status.busy": "2021-09-03T20:48:15.905706Z",
     "iopub.execute_input": "2021-09-03T20:48:15.906723Z",
     "iopub.status.idle": "2021-09-03T20:49:13.102405Z",
     "shell.execute_reply.started": "2021-09-03T20:48:15.906671Z",
     "shell.execute_reply": "2021-09-03T20:49:13.100962Z"
    },
    "trusted": true
   },
   "execution_count": 166,
   "outputs": []
  },
  {
   "cell_type": "code",
   "source": "metrics_func(y_val, y_pred)",
   "metadata": {
    "execution": {
     "iopub.status.busy": "2021-09-03T20:49:13.104425Z",
     "iopub.execute_input": "2021-09-03T20:49:13.104778Z",
     "iopub.status.idle": "2021-09-03T20:49:13.117871Z",
     "shell.execute_reply.started": "2021-09-03T20:49:13.104745Z",
     "shell.execute_reply": "2021-09-03T20:49:13.116136Z"
    },
    "trusted": true
   },
   "execution_count": 167,
   "outputs": [
    {
     "name": "stdout",
     "output_type": "stream",
     "text": [
      "MAE Mean Absolute Error 0.1621835625206341\n",
      "MAPE  Mean Absolute Percentage Error 1.2180906987249562%\n",
      "SMAPE Symmetric Mean Absolute Percentage Error 1.2166321503750024%\n",
      "MSE Mean Squared Error 0.05374200917468791\n",
      "RMSE Root Mean Squared Error 0.23182322828976373\n",
      "R_2 Coefficient of determination 0.9330973103461746\n"
     ]
    }
   ]
  },
  {
   "cell_type": "markdown",
   "source": "### _the accurancy at gradient boosting model has been worsened with compare to Random Forest Model also_",
   "metadata": {}
  },
  {
   "cell_type": "code",
   "source": "#Bagging Regression model with Random Forest Model\nbgr_rf = BaggingRegressor(reg_forest, n_estimators=3, n_jobs=-1, random_state=RANDOM_SEED)\nbgr_rf.fit(X_train, y_train)\ny_pred = bgr_rf.predict(X_val)\nmetrics_func(y_val, y_pred)\n",
   "metadata": {
    "execution": {
     "iopub.status.busy": "2021-09-03T20:49:13.119834Z",
     "iopub.execute_input": "2021-09-03T20:49:13.120200Z",
     "iopub.status.idle": "2021-09-03T20:49:51.167562Z",
     "shell.execute_reply.started": "2021-09-03T20:49:13.120168Z",
     "shell.execute_reply": "2021-09-03T20:49:51.166093Z"
    },
    "trusted": true
   },
   "execution_count": 168,
   "outputs": [
    {
     "name": "stdout",
     "output_type": "stream",
     "text": [
      "MAE Mean Absolute Error 0.08014177736578391\n",
      "MAPE  Mean Absolute Percentage Error 0.6063540658640365%\n",
      "SMAPE Symmetric Mean Absolute Percentage Error 0.6061960335734436%\n",
      "MSE Mean Squared Error 0.0167620819868322\n",
      "RMSE Root Mean Squared Error 0.12946845942866625\n",
      "R_2 Coefficient of determination 0.9791331141812764\n"
     ]
    }
   ]
  },
  {
   "cell_type": "code",
   "source": "models = [RandomForestRegressor(max_depth=15, n_estimators=15, random_state=RANDOM_SEED),\n         BaggingRegressor(reg_forest, n_estimators=3, n_jobs=-1, random_state=RANDOM_SEED)]\n\ndef stacking_model_predict(d_models, d_X_train, d_y_train, d_X_val):\n    d_df = pd.DataFrame()\n    for model_ in d_models:\n        model_.fit(d_X_train, d_y_train)\n        y_pred = model_.predict(d_X_val)\n        d_df[str(model_)[:6]] = np.exp(y_pred)  \n    metrics_func(y_val, y_pred)\n    return d_df\n\n\nstacking_model_predict(models, X_train, y_train, X_val)",
   "metadata": {
    "execution": {
     "iopub.status.busy": "2021-09-03T20:49:51.169762Z",
     "iopub.execute_input": "2021-09-03T20:49:51.170134Z",
     "iopub.status.idle": "2021-09-03T20:50:30.838672Z",
     "shell.execute_reply.started": "2021-09-03T20:49:51.170093Z",
     "shell.execute_reply": "2021-09-03T20:50:30.837280Z"
    },
    "trusted": true
   },
   "execution_count": 169,
   "outputs": [
    {
     "name": "stdout",
     "output_type": "stream",
     "text": [
      "MAE Mean Absolute Error 0.08014177736578391\n",
      "MAPE  Mean Absolute Percentage Error 0.6063540658640365%\n",
      "SMAPE Symmetric Mean Absolute Percentage Error 0.6061960335734436%\n",
      "MSE Mean Squared Error 0.0167620819868322\n",
      "RMSE Root Mean Squared Error 0.12946845942866625\n",
      "R_2 Coefficient of determination 0.9791331141812764\n"
     ]
    },
    {
     "data": {
      "text/plain": "            Random        Baggin\n0     4.349517e+05  4.365358e+05\n1     4.133522e+06  4.112188e+06\n2     1.099799e+06  1.176024e+06\n3     2.562309e+06  2.503584e+06\n4     8.321835e+05  8.947885e+05\n...            ...           ...\n9687  7.486791e+05  7.426929e+05\n9688  6.158620e+05  6.473567e+05\n9689  1.036233e+06  8.752553e+05\n9690  1.493132e+06  1.436229e+06\n9691  2.201222e+06  2.262741e+06\n\n[9692 rows x 2 columns]",
      "text/html": "<div>\n<style scoped>\n    .dataframe tbody tr th:only-of-type {\n        vertical-align: middle;\n    }\n\n    .dataframe tbody tr th {\n        vertical-align: top;\n    }\n\n    .dataframe thead th {\n        text-align: right;\n    }\n</style>\n<table border=\"1\" class=\"dataframe\">\n  <thead>\n    <tr style=\"text-align: right;\">\n      <th></th>\n      <th>Random</th>\n      <th>Baggin</th>\n    </tr>\n  </thead>\n  <tbody>\n    <tr>\n      <th>0</th>\n      <td>4.349517e+05</td>\n      <td>4.365358e+05</td>\n    </tr>\n    <tr>\n      <th>1</th>\n      <td>4.133522e+06</td>\n      <td>4.112188e+06</td>\n    </tr>\n    <tr>\n      <th>2</th>\n      <td>1.099799e+06</td>\n      <td>1.176024e+06</td>\n    </tr>\n    <tr>\n      <th>3</th>\n      <td>2.562309e+06</td>\n      <td>2.503584e+06</td>\n    </tr>\n    <tr>\n      <th>4</th>\n      <td>8.321835e+05</td>\n      <td>8.947885e+05</td>\n    </tr>\n    <tr>\n      <th>...</th>\n      <td>...</td>\n      <td>...</td>\n    </tr>\n    <tr>\n      <th>9687</th>\n      <td>7.486791e+05</td>\n      <td>7.426929e+05</td>\n    </tr>\n    <tr>\n      <th>9688</th>\n      <td>6.158620e+05</td>\n      <td>6.473567e+05</td>\n    </tr>\n    <tr>\n      <th>9689</th>\n      <td>1.036233e+06</td>\n      <td>8.752553e+05</td>\n    </tr>\n    <tr>\n      <th>9690</th>\n      <td>1.493132e+06</td>\n      <td>1.436229e+06</td>\n    </tr>\n    <tr>\n      <th>9691</th>\n      <td>2.201222e+06</td>\n      <td>2.262741e+06</td>\n    </tr>\n  </tbody>\n</table>\n<p>9692 rows × 2 columns</p>\n</div>"
     },
     "execution_count": 169,
     "metadata": {},
     "output_type": "execute_result"
    }
   ]
  },
  {
   "cell_type": "markdown",
   "source": "# 5.Submission",
   "metadata": {}
  },
  {
   "cell_type": "code",
   "source": "y_train = df1[(df1['sample']==1)].price_log.values            \nX_train = df1[(df1['sample']==1)].drop(['price_log'], axis=1)\n\nX_sub = df1[(df1['sample']==0)].drop(['price_log'], axis=1)",
   "metadata": {
    "execution": {
     "iopub.status.busy": "2021-09-03T20:50:30.840409Z",
     "iopub.execute_input": "2021-09-03T20:50:30.840722Z",
     "iopub.status.idle": "2021-09-03T20:50:30.887607Z",
     "shell.execute_reply.started": "2021-09-03T20:50:30.840691Z",
     "shell.execute_reply": "2021-09-03T20:50:30.885972Z"
    },
    "trusted": true
   },
   "execution_count": 170,
   "outputs": []
  },
  {
   "cell_type": "code",
   "source": "models = [RandomForestRegressor(max_depth=15, n_estimators=15, random_state=RANDOM_SEED),\n         BaggingRegressor(ExtraTreeRegressor(random_state=RANDOM_SEED), random_state=RANDOM_SEED)]\n\ndef stacking_model_predict(d_models, d_X_train, d_y_train, d_X_test):\n    d_df = pd.DataFrame()\n    for model_ in d_models:\n        model_.fit(d_X_train, d_y_train)\n        y_pred = model_.predict(d_X_test)\n        d_df[str(model_)[:6]] = np.round(np.exp(y_pred)/10000,2)*10000\n        d_df['price'] = d_df.mean(axis=1)\n    return d_df\n\nsubmit['price'] = stacking_model_predict(models, X_train, y_train, X_sub)",
   "metadata": {
    "execution": {
     "iopub.status.busy": "2021-09-03T20:50:30.891168Z",
     "iopub.execute_input": "2021-09-03T20:50:30.891548Z",
     "iopub.status.idle": "2021-09-03T20:50:36.229350Z",
     "shell.execute_reply.started": "2021-09-03T20:50:30.891516Z",
     "shell.execute_reply": "2021-09-03T20:50:36.227931Z"
    },
    "trusted": true
   },
   "execution_count": 171,
   "outputs": []
  },
  {
   "cell_type": "code",
   "source": "submit",
   "metadata": {
    "execution": {
     "iopub.status.busy": "2021-09-03T20:50:36.230645Z",
     "iopub.execute_input": "2021-09-03T20:50:36.230967Z",
     "iopub.status.idle": "2021-09-03T20:50:36.246649Z",
     "shell.execute_reply.started": "2021-09-03T20:50:36.230931Z",
     "shell.execute_reply": "2021-09-03T20:50:36.245286Z"
    },
    "trusted": true
   },
   "execution_count": 172,
   "outputs": [
    {
     "data": {
      "text/plain": "          sell_id      price\n0      1100575026   709000.0\n1      1100549428  1107800.0\n2      1100658222  1027600.0\n3      1100937408   808000.0\n4      1101037972  1055300.0\n...           ...        ...\n34681  1101369263  1130100.0\n34682  1101369581  2836800.0\n34683  1101364889   293100.0\n34684  1101362518  1554700.0\n34685  1101256068  1239900.0\n\n[34686 rows x 2 columns]",
      "text/html": "<div>\n<style scoped>\n    .dataframe tbody tr th:only-of-type {\n        vertical-align: middle;\n    }\n\n    .dataframe tbody tr th {\n        vertical-align: top;\n    }\n\n    .dataframe thead th {\n        text-align: right;\n    }\n</style>\n<table border=\"1\" class=\"dataframe\">\n  <thead>\n    <tr style=\"text-align: right;\">\n      <th></th>\n      <th>sell_id</th>\n      <th>price</th>\n    </tr>\n  </thead>\n  <tbody>\n    <tr>\n      <th>0</th>\n      <td>1100575026</td>\n      <td>709000.0</td>\n    </tr>\n    <tr>\n      <th>1</th>\n      <td>1100549428</td>\n      <td>1107800.0</td>\n    </tr>\n    <tr>\n      <th>2</th>\n      <td>1100658222</td>\n      <td>1027600.0</td>\n    </tr>\n    <tr>\n      <th>3</th>\n      <td>1100937408</td>\n      <td>808000.0</td>\n    </tr>\n    <tr>\n      <th>4</th>\n      <td>1101037972</td>\n      <td>1055300.0</td>\n    </tr>\n    <tr>\n      <th>...</th>\n      <td>...</td>\n      <td>...</td>\n    </tr>\n    <tr>\n      <th>34681</th>\n      <td>1101369263</td>\n      <td>1130100.0</td>\n    </tr>\n    <tr>\n      <th>34682</th>\n      <td>1101369581</td>\n      <td>2836800.0</td>\n    </tr>\n    <tr>\n      <th>34683</th>\n      <td>1101364889</td>\n      <td>293100.0</td>\n    </tr>\n    <tr>\n      <th>34684</th>\n      <td>1101362518</td>\n      <td>1554700.0</td>\n    </tr>\n    <tr>\n      <th>34685</th>\n      <td>1101256068</td>\n      <td>1239900.0</td>\n    </tr>\n  </tbody>\n</table>\n<p>34686 rows × 2 columns</p>\n</div>"
     },
     "execution_count": 172,
     "metadata": {},
     "output_type": "execute_result"
    }
   ]
  },
  {
   "cell_type": "code",
   "source": "submit.to_csv(f'submission.csv', index=False)",
   "metadata": {
    "execution": {
     "iopub.status.busy": "2021-09-03T20:50:36.248306Z",
     "iopub.execute_input": "2021-09-03T20:50:36.248662Z",
     "iopub.status.idle": "2021-09-03T20:50:36.388872Z",
     "shell.execute_reply.started": "2021-09-03T20:50:36.248632Z",
     "shell.execute_reply": "2021-09-03T20:50:36.387356Z"
    },
    "trusted": true
   },
   "execution_count": 173,
   "outputs": []
  },
  {
   "cell_type": "code",
   "source": "",
   "metadata": {},
   "execution_count": 173,
   "outputs": []
  }
 ]
}