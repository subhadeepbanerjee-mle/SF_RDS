{
 "cells": [
  {
   "cell_type": "markdown",
   "metadata": {
    "papermill": {
     "duration": 0.087452,
     "end_time": "2020-12-02T17:26:45.673507",
     "exception": false,
     "start_time": "2020-12-02T17:26:45.586055",
     "status": "completed"
    },
    "tags": []
   },
   "source": [
    "# Car Price prediction\n",
    "\n",
    "<img src=\"https://whatcar.vn/media/2018/09/car-lot-940x470.jpg\"/>\n",
    "\n",
    "## Прогнозирование стоимости автомобиля по характеристикам\n",
    "*Этот ноутбук является шаблоном (Baseline) к текущему соревнованию и не служит готовым решением!*   \n",
    "Вы можете использовать его как основу для построения своего решения.\n",
    "\n",
    "\n",
    "> **Baseline** создается больше как шаблон, где можно посмотреть, как происходит обращение с входящими данными и что нужно получить на выходе. При этом ML начинка может быть достаточно простой. Это помогает быстрее приступить к самому ML, а не тратить ценное время на инженерные задачи. \n",
    "Также baseline является хорошей опорной точкой по метрике. Если наше решение хуже baseline -  мы явно делаем что-то не так и стоит попробовать другой путь) "
   ]
  },
  {
   "cell_type": "markdown",
   "metadata": {
    "papermill": {
     "duration": 0.083086,
     "end_time": "2020-12-02T17:26:45.839282",
     "exception": false,
     "start_time": "2020-12-02T17:26:45.756196",
     "status": "completed"
    },
    "tags": []
   },
   "source": [
    "## В baseline мы сделаем следующее:\n",
    "* Построим \"наивную\"/baseline модель, предсказывающую цену по модели и году выпуска (с ней будем сравнивать другие модели)\n",
    "* Обработаем и отнормируем признаки\n",
    "* Сделаем первую модель на основе градиентного бустинга с помощью CatBoost\n",
    "* Сделаем вторую модель на основе нейронных сетей и сравним результаты\n",
    "* Сделаем multi-input нейронную сеть для анализа табличных данных и текста одновременно\n",
    "* Добавим в multi-input сеть обработку изображений\n",
    "* Осуществим ансамблирование градиентного бустинга и нейронной сети (усреднение их предсказаний)"
   ]
  },
  {
   "cell_type": "code",
   "execution_count": 34,
   "metadata": {
    "execution": {
     "iopub.execute_input": "2020-12-02T17:26:46.025658Z",
     "iopub.status.busy": "2020-12-02T17:26:46.013713Z",
     "iopub.status.idle": "2020-12-02T17:26:47.267898Z",
     "shell.execute_reply": "2020-12-02T17:26:47.266825Z"
    },
    "papermill": {
     "duration": 1.344263,
     "end_time": "2020-12-02T17:26:47.268024",
     "exception": false,
     "start_time": "2020-12-02T17:26:45.923761",
     "status": "completed"
    },
    "tags": []
   },
   "outputs": [
    {
     "name": "stdout",
     "output_type": "stream",
     "text": [
      "Fri Nov 12 17:35:04 2021       \r\n",
      "+-----------------------------------------------------------------------------+\r\n",
      "| NVIDIA-SMI 495.29.05    Driver Version: 495.29.05    CUDA Version: 11.5     |\r\n",
      "|-------------------------------+----------------------+----------------------+\r\n",
      "| GPU  Name        Persistence-M| Bus-Id        Disp.A | Volatile Uncorr. ECC |\r\n",
      "| Fan  Temp  Perf  Pwr:Usage/Cap|         Memory-Usage | GPU-Util  Compute M. |\r\n",
      "|                               |                      |               MIG M. |\r\n",
      "|===============================+======================+======================|\r\n",
      "|   0  NVIDIA GeForce ...  On   | 00000000:0B:00.0  On |                  N/A |\r\n",
      "| 20%   46C    P8     6W / 120W |    382MiB /  6070MiB |     13%      Default |\r\n",
      "|                               |                      |                  N/A |\r\n",
      "+-------------------------------+----------------------+----------------------+\r\n",
      "                                                                               \r\n",
      "+-----------------------------------------------------------------------------+\r\n",
      "| Processes:                                                                  |\r\n",
      "|  GPU   GI   CI        PID   Type   Process name                  GPU Memory |\r\n",
      "|        ID   ID                                                   Usage      |\r\n",
      "|=============================================================================|\r\n",
      "|    0   N/A  N/A      1423      G   /usr/lib/xorg/Xorg                 59MiB |\r\n",
      "|    0   N/A  N/A      1954      G   /usr/lib/xorg/Xorg                163MiB |\r\n",
      "|    0   N/A  N/A      2081      G   /usr/bin/gnome-shell               78MiB |\r\n",
      "|    0   N/A  N/A      3891      G   ...AAAAAAAAA= --shared-files       27MiB |\r\n",
      "|    0   N/A  N/A      4718      G   ...AAAAAAAAA= --shared-files       40MiB |\r\n",
      "|    0   N/A  N/A      7272      G   ...f_4614.log --shared-files        1MiB |\r\n",
      "+-----------------------------------------------------------------------------+\r\n"
     ]
    }
   ],
   "source": [
    "!nvidia-smi"
   ]
  },
  {
   "cell_type": "code",
   "execution_count": 35,
   "metadata": {
    "_kg_hide-input": true,
    "execution": {
     "iopub.execute_input": "2020-12-02T17:26:47.444653Z",
     "iopub.status.busy": "2020-12-02T17:26:47.443777Z",
     "iopub.status.idle": "2020-12-02T17:26:47.446072Z",
     "shell.execute_reply": "2020-12-02T17:26:47.446582Z"
    },
    "papermill": {
     "duration": 0.09266,
     "end_time": "2020-12-02T17:26:47.446703",
     "exception": false,
     "start_time": "2020-12-02T17:26:47.354043",
     "status": "completed"
    },
    "tags": []
   },
   "outputs": [],
   "source": [
    "#!pip install -q tensorflow==2.3"
   ]
  },
  {
   "cell_type": "code",
   "execution_count": 36,
   "metadata": {
    "_kg_hide-input": true,
    "execution": {
     "iopub.execute_input": "2020-12-02T17:26:47.623774Z",
     "iopub.status.busy": "2020-12-02T17:26:47.623124Z",
     "iopub.status.idle": "2020-12-02T17:26:47.627299Z",
     "shell.execute_reply": "2020-12-02T17:26:47.626817Z"
    },
    "papermill": {
     "duration": 0.093993,
     "end_time": "2020-12-02T17:26:47.627399",
     "exception": false,
     "start_time": "2020-12-02T17:26:47.533406",
     "status": "completed"
    },
    "tags": []
   },
   "outputs": [],
   "source": [
    "#аугментации изображений\n",
    "#!pip install -q albumentations==0.5.1"
   ]
  },
  {
   "cell_type": "code",
   "execution_count": 37,
   "metadata": {
    "_cell_guid": "b1076dfc-b9ad-4769-8c92-a6c4dae69d19",
    "_kg_hide-input": true,
    "_uuid": "8f2839f25d086af736a60e9eeb907d3b93b6e0e5",
    "execution": {
     "iopub.execute_input": "2020-12-02T17:26:47.816284Z",
     "iopub.status.busy": "2020-12-02T17:26:47.811074Z",
     "iopub.status.idle": "2020-12-02T17:26:54.631656Z",
     "shell.execute_reply": "2020-12-02T17:26:54.630606Z"
    },
    "papermill": {
     "duration": 6.918319,
     "end_time": "2020-12-02T17:26:54.631781",
     "exception": false,
     "start_time": "2020-12-02T17:26:47.713462",
     "status": "completed"
    },
    "tags": []
   },
   "outputs": [],
   "source": [
    "# This Python 3 environment comes with many helpful analytics libraries installed\n",
    "# It is defined by the kaggle/python Docker image: https://github.com/kaggle/docker-python\n",
    "# For example, here's several helpful packages to load\n",
    "\n",
    "import random\n",
    "import numpy as np # linear algebra\n",
    "import pandas as pd # data processing, CSV file I/O (e.g. pd.read_csv)\n",
    "import os\n",
    "import sys\n",
    "import PIL\n",
    "import cv2\n",
    "import re\n",
    "\n",
    "# Input data files are available in the read-only \"../input/\" directory\n",
    "# For example, running this (by clicking run or pressing Shift+Enter) will list all files under the input directory\n",
    "\n",
    "from catboost import CatBoostRegressor\n",
    "from sklearn.model_selection import train_test_split\n",
    "from sklearn.preprocessing import MinMaxScaler\n",
    "\n",
    "# # keras\n",
    "import tensorflow as tf\n",
    "import tensorflow.keras.layers as L\n",
    "from tensorflow.keras.models import Model, Sequential\n",
    "from tensorflow.keras.preprocessing.text import Tokenizer\n",
    "from tensorflow.keras.preprocessing import sequence\n",
    "from tensorflow.keras.callbacks import ModelCheckpoint, EarlyStopping\n",
    "\n",
    "import albumentations\n",
    "\n",
    "# plt\n",
    "import matplotlib.pyplot as plt\n",
    "import seaborn as sns\n",
    "#увеличим дефолтный размер графиков\n",
    "from pylab import rcParams\n",
    "rcParams['figure.figsize'] = 10, 5\n",
    "#графики в svg выглядят более четкими\n",
    "%config InlineBackend.figure_format = 'svg' \n",
    "%matplotlib inline\n",
    "\n",
    "# You can write up to 5GB to the current directory (/kaggle/working/) that gets preserved as output when you create a version using \"Save & Run All\" \n",
    "# You can also write temporary files to /kaggle/temp/, but they won't be saved outside of the current session"
   ]
  },
  {
   "cell_type": "code",
   "execution_count": 38,
   "metadata": {
    "_kg_hide-input": true,
    "execution": {
     "iopub.execute_input": "2020-12-02T17:26:54.817749Z",
     "iopub.status.busy": "2020-12-02T17:26:54.816769Z",
     "iopub.status.idle": "2020-12-02T17:26:54.821897Z",
     "shell.execute_reply": "2020-12-02T17:26:54.821298Z"
    },
    "papermill": {
     "duration": 0.10108,
     "end_time": "2020-12-02T17:26:54.821998",
     "exception": false,
     "start_time": "2020-12-02T17:26:54.720918",
     "status": "completed"
    },
    "tags": []
   },
   "outputs": [
    {
     "name": "stdout",
     "output_type": "stream",
     "text": [
      "Python       : 3.8.10 (default, Sep 28 2021, 16:10:42) \n",
      "Numpy        : 1.19.5\n",
      "Tensorflow   : 2.6.0\n"
     ]
    }
   ],
   "source": [
    "print('Python       :', sys.version.split('\\n')[0])\n",
    "print('Numpy        :', np.__version__)\n",
    "print('Tensorflow   :', tf.__version__)"
   ]
  },
  {
   "cell_type": "code",
   "execution_count": 39,
   "metadata": {
    "_kg_hide-input": true,
    "execution": {
     "iopub.execute_input": "2020-12-02T17:26:54.999492Z",
     "iopub.status.busy": "2020-12-02T17:26:54.998699Z",
     "iopub.status.idle": "2020-12-02T17:26:55.001749Z",
     "shell.execute_reply": "2020-12-02T17:26:55.001280Z"
    },
    "papermill": {
     "duration": 0.091872,
     "end_time": "2020-12-02T17:26:55.001848",
     "exception": false,
     "start_time": "2020-12-02T17:26:54.909976",
     "status": "completed"
    },
    "tags": []
   },
   "outputs": [],
   "source": [
    "def mape(y_true, y_pred):\n",
    "    return np.mean(np.abs((y_pred-y_true)/y_true))"
   ]
  },
  {
   "cell_type": "code",
   "execution_count": 40,
   "metadata": {
    "_kg_hide-input": true,
    "execution": {
     "iopub.execute_input": "2020-12-02T17:26:55.184075Z",
     "iopub.status.busy": "2020-12-02T17:26:55.183267Z",
     "iopub.status.idle": "2020-12-02T17:26:55.186213Z",
     "shell.execute_reply": "2020-12-02T17:26:55.185602Z"
    },
    "papermill": {
     "duration": 0.096399,
     "end_time": "2020-12-02T17:26:55.186314",
     "exception": false,
     "start_time": "2020-12-02T17:26:55.089915",
     "status": "completed"
    },
    "tags": []
   },
   "outputs": [],
   "source": [
    "# всегда фиксируйте RANDOM_SEED, чтобы ваши эксперименты были воспроизводимы!\n",
    "RANDOM_SEED = 42\n",
    "np.random.seed(RANDOM_SEED)"
   ]
  },
  {
   "cell_type": "code",
   "execution_count": 41,
   "metadata": {
    "_kg_hide-input": true,
    "execution": {
     "iopub.execute_input": "2020-12-02T17:26:55.361349Z",
     "iopub.status.busy": "2020-12-02T17:26:55.360586Z",
     "iopub.status.idle": "2020-12-02T17:26:57.871566Z",
     "shell.execute_reply": "2020-12-02T17:26:57.870862Z"
    },
    "papermill": {
     "duration": 2.600023,
     "end_time": "2020-12-02T17:26:57.871732",
     "exception": false,
     "start_time": "2020-12-02T17:26:55.271709",
     "status": "completed"
    },
    "tags": []
   },
   "outputs": [],
   "source": [
    "!pip freeze > requirements.txt"
   ]
  },
  {
   "cell_type": "markdown",
   "metadata": {
    "papermill": {
     "duration": 0.083532,
     "end_time": "2020-12-02T17:26:58.040276",
     "exception": false,
     "start_time": "2020-12-02T17:26:57.956744",
     "status": "completed"
    },
    "tags": []
   },
   "source": [
    "# DATA"
   ]
  },
  {
   "cell_type": "markdown",
   "metadata": {
    "papermill": {
     "duration": 0.088627,
     "end_time": "2020-12-02T17:26:58.215454",
     "exception": false,
     "start_time": "2020-12-02T17:26:58.126827",
     "status": "completed"
    },
    "tags": []
   },
   "source": [
    "Данные нам уже знакомы из прошлого соревнования"
   ]
  },
  {
   "cell_type": "code",
   "execution_count": 42,
   "metadata": {
    "_cell_guid": "79c7e3d0-c299-4dcb-8224-4455121ee9b0",
    "_uuid": "d629ff2d2480ee46fbb7e2d37f6b5fab8052498a",
    "execution": {
     "iopub.execute_input": "2020-12-02T17:26:58.394893Z",
     "iopub.status.busy": "2020-12-02T17:26:58.394174Z",
     "iopub.status.idle": "2020-12-02T17:26:59.972826Z",
     "shell.execute_reply": "2020-12-02T17:26:59.973324Z"
    },
    "papermill": {
     "duration": 1.672787,
     "end_time": "2020-12-02T17:26:59.973467",
     "exception": false,
     "start_time": "2020-12-02T17:26:58.300680",
     "status": "completed"
    },
    "tags": []
   },
   "outputs": [
    {
     "data": {
      "text/plain": "((6682, 22), (1671, 21), (1671, 2))"
     },
     "execution_count": 42,
     "metadata": {},
     "output_type": "execute_result"
    }
   ],
   "source": [
    "#DATA_DIR = '../input/sf-dst-car-price-prediction-part2-v2/'\n",
    "#train = pd.read_csv(DATA_DIR + 'train.csv')\n",
    "#test = pd.read_csv(DATA_DIR + 'test.csv')\n",
    "#sample_submission = pd.read_csv(DATA_DIR + 'sample_submission.csv')\n",
    "\n",
    "\n",
    "train = pd.read_csv('././data/train.csv')\n",
    "test = pd.read_csv('././data/test.csv')\n",
    "sample_submission = pd.read_csv('././data/sample_submission.csv')\n",
    "\n",
    "train.shape, test.shape, sample_submission.shape"
   ]
  },
  {
   "cell_type": "code",
   "execution_count": 43,
   "metadata": {
    "execution": {
     "iopub.execute_input": "2020-12-02T17:27:00.197695Z",
     "iopub.status.busy": "2020-12-02T17:27:00.196681Z",
     "iopub.status.idle": "2020-12-02T17:27:00.217376Z",
     "shell.execute_reply": "2020-12-02T17:27:00.218132Z"
    },
    "papermill": {
     "duration": 0.155806,
     "end_time": "2020-12-02T17:27:00.218332",
     "exception": false,
     "start_time": "2020-12-02T17:27:00.062526",
     "status": "completed"
    },
    "tags": []
   },
   "outputs": [
    {
     "name": "stdout",
     "output_type": "stream",
     "text": [
      "<class 'pandas.core.frame.DataFrame'>\n",
      "RangeIndex: 6682 entries, 0 to 6681\n",
      "Data columns (total 22 columns):\n",
      " #   Column                Non-Null Count  Dtype  \n",
      "---  ------                --------------  -----  \n",
      " 0   bodyType              6682 non-null   object \n",
      " 1   brand                 6682 non-null   object \n",
      " 2   color                 6682 non-null   object \n",
      " 3   description           6682 non-null   object \n",
      " 4   engineDisplacement    6682 non-null   object \n",
      " 5   enginePower           6682 non-null   object \n",
      " 6   fuelType              6682 non-null   object \n",
      " 7   mileage               6682 non-null   int64  \n",
      " 8   modelDate             6682 non-null   int64  \n",
      " 9   model_info            6682 non-null   object \n",
      " 10  name                  6682 non-null   object \n",
      " 11  numberOfDoors         6682 non-null   int64  \n",
      " 12  price                 6682 non-null   float64\n",
      " 13  productionDate        6682 non-null   int64  \n",
      " 14  sell_id               6682 non-null   int64  \n",
      " 15  vehicleConfiguration  6682 non-null   object \n",
      " 16  vehicleTransmission   6682 non-null   object \n",
      " 17  Владельцы             6681 non-null   object \n",
      " 18  Владение              2356 non-null   object \n",
      " 19  ПТС                   6682 non-null   object \n",
      " 20  Привод                6682 non-null   object \n",
      " 21  Руль                  6682 non-null   object \n",
      "dtypes: float64(1), int64(5), object(16)\n",
      "memory usage: 1.1+ MB\n"
     ]
    }
   ],
   "source": [
    "train.info()"
   ]
  },
  {
   "cell_type": "code",
   "execution_count": 44,
   "metadata": {
    "execution": {
     "iopub.execute_input": "2020-12-02T17:27:00.395029Z",
     "iopub.status.busy": "2020-12-02T17:27:00.394437Z",
     "iopub.status.idle": "2020-12-02T17:27:00.595291Z",
     "shell.execute_reply": "2020-12-02T17:27:00.595908Z"
    },
    "papermill": {
     "duration": 0.290482,
     "end_time": "2020-12-02T17:27:00.596059",
     "exception": false,
     "start_time": "2020-12-02T17:27:00.305577",
     "status": "completed"
    },
    "tags": []
   },
   "outputs": [
    {
     "data": {
      "text/plain": "bodyType                  17\nbrand                      3\ncolor                     16\ndescription             6147\nengineDisplacement        48\nenginePower              146\nfuelType                   4\nmileage                 2900\nmodelDate                 41\nmodel_info               118\nname                     900\nnumberOfDoors              4\nprice                   1628\nproductionDate            38\nsell_id                 6682\nvehicleConfiguration     288\nvehicleTransmission        4\nВладельцы                  3\nВладение                 173\nПТС                        2\nПривод                     3\nРуль                       2\ndtype: int64"
     },
     "execution_count": 44,
     "metadata": {},
     "output_type": "execute_result"
    }
   ],
   "source": [
    "train.nunique()"
   ]
  },
  {
   "cell_type": "markdown",
   "metadata": {
    "papermill": {
     "duration": 0.085919,
     "end_time": "2020-12-02T17:27:00.772029",
     "exception": false,
     "start_time": "2020-12-02T17:27:00.686110",
     "status": "completed"
    },
    "tags": []
   },
   "source": [
    "# Model 1: Создадим \"наивную\" модель \n",
    "Эта модель будет предсказывать среднюю цену по бренду и году выпуска. \n",
    "C ней будем сравнивать другие модели.\n",
    "\n"
   ]
  },
  {
   "cell_type": "code",
   "execution_count": 45,
   "metadata": {
    "execution": {
     "iopub.execute_input": "2020-12-02T17:27:00.956134Z",
     "iopub.status.busy": "2020-12-02T17:27:00.955152Z",
     "iopub.status.idle": "2020-12-02T17:27:00.974141Z",
     "shell.execute_reply": "2020-12-02T17:27:00.973648Z"
    },
    "papermill": {
     "duration": 0.114533,
     "end_time": "2020-12-02T17:27:00.974265",
     "exception": false,
     "start_time": "2020-12-02T17:27:00.859732",
     "status": "completed"
    },
    "tags": []
   },
   "outputs": [],
   "source": [
    "# split данных\n",
    "data_train, data_test = train_test_split(train, test_size=0.25, shuffle=True, random_state=RANDOM_SEED)"
   ]
  },
  {
   "cell_type": "code",
   "execution_count": 46,
   "metadata": {
    "execution": {
     "iopub.execute_input": "2020-12-02T17:27:01.167371Z",
     "iopub.status.busy": "2020-12-02T17:27:01.166628Z",
     "iopub.status.idle": "2020-12-02T17:27:24.714588Z",
     "shell.execute_reply": "2020-12-02T17:27:24.716146Z"
    },
    "papermill": {
     "duration": 23.651586,
     "end_time": "2020-12-02T17:27:24.716363",
     "exception": false,
     "start_time": "2020-12-02T17:27:01.064777",
     "status": "completed"
    },
    "tags": []
   },
   "outputs": [
    {
     "name": "stdout",
     "output_type": "stream",
     "text": [
      "Точность наивной модели по метрике MAPE: 20.45%\n"
     ]
    }
   ],
   "source": [
    "# Наивная модель\n",
    "predicts = []\n",
    "for index, row in pd.DataFrame(data_test[['model_info', 'productionDate']]).iterrows():\n",
    "    query = f\"model_info== '{row[0]}' and productionDate == {row[1]}\"\n",
    "    predicts.append(data_train.query(query)['price'].median())\n",
    "\n",
    "# заполним не найденные совпадения\n",
    "predicts = pd.DataFrame(predicts)\n",
    "predicts = predicts.fillna(predicts.median())\n",
    "\n",
    "# округлим\n",
    "predicts = (predicts // 1000) * 1000\n",
    "\n",
    "#оцениваем точность\n",
    "print(f\"Точность наивной модели по метрике MAPE: {(mape(data_test['price'], predicts.values[:, 0]))*100:0.2f}%\")\n"
   ]
  },
  {
   "cell_type": "markdown",
   "metadata": {
    "papermill": {
     "duration": 0.134525,
     "end_time": "2020-12-02T17:27:25.006481",
     "exception": false,
     "start_time": "2020-12-02T17:27:24.871956",
     "status": "completed"
    },
    "tags": []
   },
   "source": [
    "# EDA"
   ]
  },
  {
   "cell_type": "markdown",
   "metadata": {
    "papermill": {
     "duration": 0.120687,
     "end_time": "2020-12-02T17:27:25.269181",
     "exception": false,
     "start_time": "2020-12-02T17:27:25.148494",
     "status": "completed"
    },
    "tags": []
   },
   "source": [
    "Проведем быстрый анализ данных для того, чтобы понимать, сможет ли с этими данными работать наш алгоритм."
   ]
  },
  {
   "cell_type": "markdown",
   "metadata": {
    "papermill": {
     "duration": 0.10119,
     "end_time": "2020-12-02T17:27:25.485218",
     "exception": false,
     "start_time": "2020-12-02T17:27:25.384028",
     "status": "completed"
    },
    "tags": []
   },
   "source": [
    "Посмотрим, как выглядят распределения числовых признаков:"
   ]
  },
  {
   "cell_type": "code",
   "execution_count": 47,
   "metadata": {
    "execution": {
     "iopub.execute_input": "2020-12-02T17:27:25.749507Z",
     "iopub.status.busy": "2020-12-02T17:27:25.748479Z",
     "iopub.status.idle": "2020-12-02T17:27:26.020998Z",
     "shell.execute_reply": "2020-12-02T17:27:26.021542Z"
    },
    "papermill": {
     "duration": 0.421499,
     "end_time": "2020-12-02T17:27:26.021685",
     "exception": false,
     "start_time": "2020-12-02T17:27:25.600186",
     "status": "completed"
    },
    "tags": []
   },
   "outputs": [
    {
     "name": "stderr",
     "output_type": "stream",
     "text": [
      "/home/as/venv/tfgpu/lib/python3.8/site-packages/seaborn/distributions.py:2619: FutureWarning: `distplot` is a deprecated function and will be removed in a future version. Please adapt your code to use either `displot` (a figure-level function with similar flexibility) or `histplot` (an axes-level function for histograms).\n",
      "  warnings.warn(msg, FutureWarning)\n"
     ]
    },
    {
     "data": {
      "text/plain": "<Figure size 432x288 with 1 Axes>",
      "image/svg+xml": "<?xml version=\"1.0\" encoding=\"utf-8\" standalone=\"no\"?>\n<!DOCTYPE svg PUBLIC \"-//W3C//DTD SVG 1.1//EN\"\n  \"http://www.w3.org/Graphics/SVG/1.1/DTD/svg11.dtd\">\n<svg height=\"272.794688pt\" version=\"1.1\" viewBox=\"0 0 376.240625 272.794688\" width=\"376.240625pt\" xmlns=\"http://www.w3.org/2000/svg\" xmlns:xlink=\"http://www.w3.org/1999/xlink\">\n <metadata>\n  <rdf:RDF xmlns:cc=\"http://creativecommons.org/ns#\" xmlns:dc=\"http://purl.org/dc/elements/1.1/\" xmlns:rdf=\"http://www.w3.org/1999/02/22-rdf-syntax-ns#\">\n   <cc:Work>\n    <dc:type rdf:resource=\"http://purl.org/dc/dcmitype/StillImage\"/>\n    <dc:date>2021-11-12T17:35:08.167216</dc:date>\n    <dc:format>image/svg+xml</dc:format>\n    <dc:creator>\n     <cc:Agent>\n      <dc:title>Matplotlib v3.4.3, https://matplotlib.org/</dc:title>\n     </cc:Agent>\n    </dc:creator>\n   </cc:Work>\n  </rdf:RDF>\n </metadata>\n <defs>\n  <style type=\"text/css\">*{stroke-linecap:butt;stroke-linejoin:round;}</style>\n </defs>\n <g id=\"figure_1\">\n  <g id=\"patch_1\">\n   <path d=\"M 0 272.794688 \nL 376.240625 272.794688 \nL 376.240625 0 \nL 0 0 \nz\n\" style=\"fill:none;\"/>\n  </g>\n  <g id=\"axes_1\">\n   <g id=\"patch_2\">\n    <path d=\"M 34.240625 235.238438 \nL 369.040625 235.238438 \nL 369.040625 17.798438 \nL 34.240625 17.798438 \nz\n\" style=\"fill:#ffffff;\"/>\n   </g>\n   <g id=\"patch_3\">\n    <path clip-path=\"url(#p49e821b0ab)\" d=\"M 61.246644 235.238438 \nL 66.862403 235.238438 \nL 66.862403 44.81834 \nL 61.246644 44.81834 \nz\n\" style=\"fill:#1f77b4;opacity:0.4;\"/>\n   </g>\n   <g id=\"patch_4\">\n    <path clip-path=\"url(#p49e821b0ab)\" d=\"M 66.862403 235.238438 \nL 72.478162 235.238438 \nL 72.478162 72.902989 \nL 66.862403 72.902989 \nz\n\" style=\"fill:#1f77b4;opacity:0.4;\"/>\n   </g>\n   <g id=\"patch_5\">\n    <path clip-path=\"url(#p49e821b0ab)\" d=\"M 72.478162 235.238438 \nL 78.093922 235.238438 \nL 78.093922 63.335691 \nL 72.478162 63.335691 \nz\n\" style=\"fill:#1f77b4;opacity:0.4;\"/>\n   </g>\n   <g id=\"patch_6\">\n    <path clip-path=\"url(#p49e821b0ab)\" d=\"M 78.093922 235.238438 \nL 83.709681 235.238438 \nL 83.709681 38.645889 \nL 78.093922 38.645889 \nz\n\" style=\"fill:#1f77b4;opacity:0.4;\"/>\n   </g>\n   <g id=\"patch_7\">\n    <path clip-path=\"url(#p49e821b0ab)\" d=\"M 83.709681 235.238438 \nL 89.32544 235.238438 \nL 89.32544 28.152723 \nL 83.709681 28.152723 \nz\n\" style=\"fill:#1f77b4;opacity:0.4;\"/>\n   </g>\n   <g id=\"patch_8\">\n    <path clip-path=\"url(#p49e821b0ab)\" d=\"M 89.32544 235.238438 \nL 94.941199 235.238438 \nL 94.941199 28.769968 \nL 89.32544 28.769968 \nz\n\" style=\"fill:#1f77b4;opacity:0.4;\"/>\n   </g>\n   <g id=\"patch_9\">\n    <path clip-path=\"url(#p49e821b0ab)\" d=\"M 94.941199 235.238438 \nL 100.556959 235.238438 \nL 100.556959 43.892472 \nL 94.941199 43.892472 \nz\n\" style=\"fill:#1f77b4;opacity:0.4;\"/>\n   </g>\n   <g id=\"patch_10\">\n    <path clip-path=\"url(#p49e821b0ab)\" d=\"M 100.556959 235.238438 \nL 106.172718 235.238438 \nL 106.172718 62.101201 \nL 100.556959 62.101201 \nz\n\" style=\"fill:#1f77b4;opacity:0.4;\"/>\n   </g>\n   <g id=\"patch_11\">\n    <path clip-path=\"url(#p49e821b0ab)\" d=\"M 106.172718 235.238438 \nL 111.788477 235.238438 \nL 111.788477 86.48238 \nL 106.172718 86.48238 \nz\n\" style=\"fill:#1f77b4;opacity:0.4;\"/>\n   </g>\n   <g id=\"patch_12\">\n    <path clip-path=\"url(#p49e821b0ab)\" d=\"M 111.788477 235.238438 \nL 117.404236 235.238438 \nL 117.404236 119.196368 \nL 111.788477 119.196368 \nz\n\" style=\"fill:#1f77b4;opacity:0.4;\"/>\n   </g>\n   <g id=\"patch_13\">\n    <path clip-path=\"url(#p49e821b0ab)\" d=\"M 117.404236 235.238438 \nL 123.019996 235.238438 \nL 123.019996 164.872502 \nL 117.404236 164.872502 \nz\n\" style=\"fill:#1f77b4;opacity:0.4;\"/>\n   </g>\n   <g id=\"patch_14\">\n    <path clip-path=\"url(#p49e821b0ab)\" d=\"M 123.019996 235.238438 \nL 128.635755 235.238438 \nL 128.635755 169.193217 \nL 123.019996 169.193217 \nz\n\" style=\"fill:#1f77b4;opacity:0.4;\"/>\n   </g>\n   <g id=\"patch_15\">\n    <path clip-path=\"url(#p49e821b0ab)\" d=\"M 128.635755 235.238438 \nL 134.251514 235.238438 \nL 134.251514 190.488171 \nL 128.635755 190.488171 \nz\n\" style=\"fill:#1f77b4;opacity:0.4;\"/>\n   </g>\n   <g id=\"patch_16\">\n    <path clip-path=\"url(#p49e821b0ab)\" d=\"M 134.251514 235.238438 \nL 139.867273 235.238438 \nL 139.867273 202.215827 \nL 134.251514 202.215827 \nz\n\" style=\"fill:#1f77b4;opacity:0.4;\"/>\n   </g>\n   <g id=\"patch_17\">\n    <path clip-path=\"url(#p49e821b0ab)\" d=\"M 139.867273 235.238438 \nL 145.483033 235.238438 \nL 145.483033 210.240013 \nL 139.867273 210.240013 \nz\n\" style=\"fill:#1f77b4;opacity:0.4;\"/>\n   </g>\n   <g id=\"patch_18\">\n    <path clip-path=\"url(#p49e821b0ab)\" d=\"M 145.483033 235.238438 \nL 151.098792 235.238438 \nL 151.098792 218.572821 \nL 145.483033 218.572821 \nz\n\" style=\"fill:#1f77b4;opacity:0.4;\"/>\n   </g>\n   <g id=\"patch_19\">\n    <path clip-path=\"url(#p49e821b0ab)\" d=\"M 151.098792 235.238438 \nL 156.714551 235.238438 \nL 156.714551 221.967669 \nL 151.098792 221.967669 \nz\n\" style=\"fill:#1f77b4;opacity:0.4;\"/>\n   </g>\n   <g id=\"patch_20\">\n    <path clip-path=\"url(#p49e821b0ab)\" d=\"M 156.714551 235.238438 \nL 162.33031 235.238438 \nL 162.33031 225.979762 \nL 156.714551 225.979762 \nz\n\" style=\"fill:#1f77b4;opacity:0.4;\"/>\n   </g>\n   <g id=\"patch_21\">\n    <path clip-path=\"url(#p49e821b0ab)\" d=\"M 162.33031 235.238438 \nL 167.94607 235.238438 \nL 167.94607 229.991855 \nL 162.33031 229.991855 \nz\n\" style=\"fill:#1f77b4;opacity:0.4;\"/>\n   </g>\n   <g id=\"patch_22\">\n    <path clip-path=\"url(#p49e821b0ab)\" d=\"M 167.94607 235.238438 \nL 173.561829 235.238438 \nL 173.561829 229.991855 \nL 167.94607 229.991855 \nz\n\" style=\"fill:#1f77b4;opacity:0.4;\"/>\n   </g>\n   <g id=\"patch_23\">\n    <path clip-path=\"url(#p49e821b0ab)\" d=\"M 173.561829 235.238438 \nL 179.177588 235.238438 \nL 179.177588 231.84359 \nL 173.561829 231.84359 \nz\n\" style=\"fill:#1f77b4;opacity:0.4;\"/>\n   </g>\n   <g id=\"patch_24\">\n    <path clip-path=\"url(#p49e821b0ab)\" d=\"M 179.177588 235.238438 \nL 184.793347 235.238438 \nL 184.793347 233.695325 \nL 179.177588 233.695325 \nz\n\" style=\"fill:#1f77b4;opacity:0.4;\"/>\n   </g>\n   <g id=\"patch_25\">\n    <path clip-path=\"url(#p49e821b0ab)\" d=\"M 184.793347 235.238438 \nL 190.409107 235.238438 \nL 190.409107 232.460835 \nL 184.793347 232.460835 \nz\n\" style=\"fill:#1f77b4;opacity:0.4;\"/>\n   </g>\n   <g id=\"patch_26\">\n    <path clip-path=\"url(#p49e821b0ab)\" d=\"M 190.409107 235.238438 \nL 196.024866 235.238438 \nL 196.024866 235.238438 \nL 190.409107 235.238438 \nz\n\" style=\"fill:#1f77b4;opacity:0.4;\"/>\n   </g>\n   <g id=\"patch_27\">\n    <path clip-path=\"url(#p49e821b0ab)\" d=\"M 196.024866 235.238438 \nL 201.640625 235.238438 \nL 201.640625 235.238438 \nL 196.024866 235.238438 \nz\n\" style=\"fill:#1f77b4;opacity:0.4;\"/>\n   </g>\n   <g id=\"patch_28\">\n    <path clip-path=\"url(#p49e821b0ab)\" d=\"M 201.640625 235.238438 \nL 207.256384 235.238438 \nL 207.256384 234.929815 \nL 201.640625 234.929815 \nz\n\" style=\"fill:#1f77b4;opacity:0.4;\"/>\n   </g>\n   <g id=\"patch_29\">\n    <path clip-path=\"url(#p49e821b0ab)\" d=\"M 207.256384 235.238438 \nL 212.872143 235.238438 \nL 212.872143 235.238438 \nL 207.256384 235.238438 \nz\n\" style=\"fill:#1f77b4;opacity:0.4;\"/>\n   </g>\n   <g id=\"patch_30\">\n    <path clip-path=\"url(#p49e821b0ab)\" d=\"M 212.872143 235.238438 \nL 218.487903 235.238438 \nL 218.487903 234.621192 \nL 212.872143 234.621192 \nz\n\" style=\"fill:#1f77b4;opacity:0.4;\"/>\n   </g>\n   <g id=\"patch_31\">\n    <path clip-path=\"url(#p49e821b0ab)\" d=\"M 218.487903 235.238438 \nL 224.103662 235.238438 \nL 224.103662 235.238438 \nL 218.487903 235.238438 \nz\n\" style=\"fill:#1f77b4;opacity:0.4;\"/>\n   </g>\n   <g id=\"patch_32\">\n    <path clip-path=\"url(#p49e821b0ab)\" d=\"M 224.103662 235.238438 \nL 229.719421 235.238438 \nL 229.719421 235.238438 \nL 224.103662 235.238438 \nz\n\" style=\"fill:#1f77b4;opacity:0.4;\"/>\n   </g>\n   <g id=\"patch_33\">\n    <path clip-path=\"url(#p49e821b0ab)\" d=\"M 229.719421 235.238438 \nL 235.33518 235.238438 \nL 235.33518 235.238438 \nL 229.719421 235.238438 \nz\n\" style=\"fill:#1f77b4;opacity:0.4;\"/>\n   </g>\n   <g id=\"patch_34\">\n    <path clip-path=\"url(#p49e821b0ab)\" d=\"M 235.33518 235.238438 \nL 240.95094 235.238438 \nL 240.95094 235.238438 \nL 235.33518 235.238438 \nz\n\" style=\"fill:#1f77b4;opacity:0.4;\"/>\n   </g>\n   <g id=\"patch_35\">\n    <path clip-path=\"url(#p49e821b0ab)\" d=\"M 240.95094 235.238438 \nL 246.566699 235.238438 \nL 246.566699 234.929815 \nL 240.95094 234.929815 \nz\n\" style=\"fill:#1f77b4;opacity:0.4;\"/>\n   </g>\n   <g id=\"patch_36\">\n    <path clip-path=\"url(#p49e821b0ab)\" d=\"M 246.566699 235.238438 \nL 252.182458 235.238438 \nL 252.182458 235.238438 \nL 246.566699 235.238438 \nz\n\" style=\"fill:#1f77b4;opacity:0.4;\"/>\n   </g>\n   <g id=\"patch_37\">\n    <path clip-path=\"url(#p49e821b0ab)\" d=\"M 252.182458 235.238438 \nL 257.798217 235.238438 \nL 257.798217 235.238438 \nL 252.182458 235.238438 \nz\n\" style=\"fill:#1f77b4;opacity:0.4;\"/>\n   </g>\n   <g id=\"patch_38\">\n    <path clip-path=\"url(#p49e821b0ab)\" d=\"M 257.798217 235.238438 \nL 263.413977 235.238438 \nL 263.413977 235.238438 \nL 257.798217 235.238438 \nz\n\" style=\"fill:#1f77b4;opacity:0.4;\"/>\n   </g>\n   <g id=\"patch_39\">\n    <path clip-path=\"url(#p49e821b0ab)\" d=\"M 263.413977 235.238438 \nL 269.029736 235.238438 \nL 269.029736 235.238438 \nL 263.413977 235.238438 \nz\n\" style=\"fill:#1f77b4;opacity:0.4;\"/>\n   </g>\n   <g id=\"patch_40\">\n    <path clip-path=\"url(#p49e821b0ab)\" d=\"M 269.029736 235.238438 \nL 274.645495 235.238438 \nL 274.645495 235.238438 \nL 269.029736 235.238438 \nz\n\" style=\"fill:#1f77b4;opacity:0.4;\"/>\n   </g>\n   <g id=\"patch_41\">\n    <path clip-path=\"url(#p49e821b0ab)\" d=\"M 274.645495 235.238438 \nL 280.261254 235.238438 \nL 280.261254 235.238438 \nL 274.645495 235.238438 \nz\n\" style=\"fill:#1f77b4;opacity:0.4;\"/>\n   </g>\n   <g id=\"patch_42\">\n    <path clip-path=\"url(#p49e821b0ab)\" d=\"M 280.261254 235.238438 \nL 285.877014 235.238438 \nL 285.877014 235.238438 \nL 280.261254 235.238438 \nz\n\" style=\"fill:#1f77b4;opacity:0.4;\"/>\n   </g>\n   <g id=\"patch_43\">\n    <path clip-path=\"url(#p49e821b0ab)\" d=\"M 285.877014 235.238438 \nL 291.492773 235.238438 \nL 291.492773 235.238438 \nL 285.877014 235.238438 \nz\n\" style=\"fill:#1f77b4;opacity:0.4;\"/>\n   </g>\n   <g id=\"patch_44\">\n    <path clip-path=\"url(#p49e821b0ab)\" d=\"M 291.492773 235.238438 \nL 297.108532 235.238438 \nL 297.108532 235.238438 \nL 291.492773 235.238438 \nz\n\" style=\"fill:#1f77b4;opacity:0.4;\"/>\n   </g>\n   <g id=\"patch_45\">\n    <path clip-path=\"url(#p49e821b0ab)\" d=\"M 297.108532 235.238438 \nL 302.724291 235.238438 \nL 302.724291 235.238438 \nL 297.108532 235.238438 \nz\n\" style=\"fill:#1f77b4;opacity:0.4;\"/>\n   </g>\n   <g id=\"patch_46\">\n    <path clip-path=\"url(#p49e821b0ab)\" d=\"M 302.724291 235.238438 \nL 308.340051 235.238438 \nL 308.340051 235.238438 \nL 302.724291 235.238438 \nz\n\" style=\"fill:#1f77b4;opacity:0.4;\"/>\n   </g>\n   <g id=\"patch_47\">\n    <path clip-path=\"url(#p49e821b0ab)\" d=\"M 308.340051 235.238438 \nL 313.95581 235.238438 \nL 313.95581 235.238438 \nL 308.340051 235.238438 \nz\n\" style=\"fill:#1f77b4;opacity:0.4;\"/>\n   </g>\n   <g id=\"patch_48\">\n    <path clip-path=\"url(#p49e821b0ab)\" d=\"M 313.95581 235.238438 \nL 319.571569 235.238438 \nL 319.571569 235.238438 \nL 313.95581 235.238438 \nz\n\" style=\"fill:#1f77b4;opacity:0.4;\"/>\n   </g>\n   <g id=\"patch_49\">\n    <path clip-path=\"url(#p49e821b0ab)\" d=\"M 319.571569 235.238438 \nL 325.187328 235.238438 \nL 325.187328 235.238438 \nL 319.571569 235.238438 \nz\n\" style=\"fill:#1f77b4;opacity:0.4;\"/>\n   </g>\n   <g id=\"patch_50\">\n    <path clip-path=\"url(#p49e821b0ab)\" d=\"M 325.187328 235.238438 \nL 330.803088 235.238438 \nL 330.803088 235.238438 \nL 325.187328 235.238438 \nz\n\" style=\"fill:#1f77b4;opacity:0.4;\"/>\n   </g>\n   <g id=\"patch_51\">\n    <path clip-path=\"url(#p49e821b0ab)\" d=\"M 330.803088 235.238438 \nL 336.418847 235.238438 \nL 336.418847 235.238438 \nL 330.803088 235.238438 \nz\n\" style=\"fill:#1f77b4;opacity:0.4;\"/>\n   </g>\n   <g id=\"patch_52\">\n    <path clip-path=\"url(#p49e821b0ab)\" d=\"M 336.418847 235.238438 \nL 342.034606 235.238438 \nL 342.034606 234.929815 \nL 336.418847 234.929815 \nz\n\" style=\"fill:#1f77b4;opacity:0.4;\"/>\n   </g>\n   <g id=\"matplotlib.axis_1\">\n    <g id=\"xtick_1\">\n     <g id=\"line2d_1\">\n      <defs>\n       <path d=\"M 0 0 \nL 0 3.5 \n\" id=\"m835289610c\" style=\"stroke:#000000;stroke-width:0.8;\"/>\n      </defs>\n      <g>\n       <use style=\"stroke:#000000;stroke-width:0.8;\" x=\"61.246363\" xlink:href=\"#m835289610c\" y=\"235.238438\"/>\n      </g>\n     </g>\n     <g id=\"text_1\">\n      <!-- 0.0 -->\n      <g transform=\"translate(53.294801 249.836875)scale(0.1 -0.1)\">\n       <defs>\n        <path d=\"M 2034 4250 \nQ 1547 4250 1301 3770 \nQ 1056 3291 1056 2328 \nQ 1056 1369 1301 889 \nQ 1547 409 2034 409 \nQ 2525 409 2770 889 \nQ 3016 1369 3016 2328 \nQ 3016 3291 2770 3770 \nQ 2525 4250 2034 4250 \nz\nM 2034 4750 \nQ 2819 4750 3233 4129 \nQ 3647 3509 3647 2328 \nQ 3647 1150 3233 529 \nQ 2819 -91 2034 -91 \nQ 1250 -91 836 529 \nQ 422 1150 422 2328 \nQ 422 3509 836 4129 \nQ 1250 4750 2034 4750 \nz\n\" id=\"DejaVuSans-30\" transform=\"scale(0.015625)\"/>\n        <path d=\"M 684 794 \nL 1344 794 \nL 1344 0 \nL 684 0 \nL 684 794 \nz\n\" id=\"DejaVuSans-2e\" transform=\"scale(0.015625)\"/>\n       </defs>\n       <use xlink:href=\"#DejaVuSans-30\"/>\n       <use x=\"63.623047\" xlink:href=\"#DejaVuSans-2e\"/>\n       <use x=\"95.410156\" xlink:href=\"#DejaVuSans-30\"/>\n      </g>\n     </g>\n    </g>\n    <g id=\"xtick_2\">\n     <g id=\"line2d_2\">\n      <g>\n       <use style=\"stroke:#000000;stroke-width:0.8;\" x=\"117.404068\" xlink:href=\"#m835289610c\" y=\"235.238438\"/>\n      </g>\n     </g>\n     <g id=\"text_2\">\n      <!-- 0.2 -->\n      <g transform=\"translate(109.452505 249.836875)scale(0.1 -0.1)\">\n       <defs>\n        <path d=\"M 1228 531 \nL 3431 531 \nL 3431 0 \nL 469 0 \nL 469 531 \nQ 828 903 1448 1529 \nQ 2069 2156 2228 2338 \nQ 2531 2678 2651 2914 \nQ 2772 3150 2772 3378 \nQ 2772 3750 2511 3984 \nQ 2250 4219 1831 4219 \nQ 1534 4219 1204 4116 \nQ 875 4013 500 3803 \nL 500 4441 \nQ 881 4594 1212 4672 \nQ 1544 4750 1819 4750 \nQ 2544 4750 2975 4387 \nQ 3406 4025 3406 3419 \nQ 3406 3131 3298 2873 \nQ 3191 2616 2906 2266 \nQ 2828 2175 2409 1742 \nQ 1991 1309 1228 531 \nz\n\" id=\"DejaVuSans-32\" transform=\"scale(0.015625)\"/>\n       </defs>\n       <use xlink:href=\"#DejaVuSans-30\"/>\n       <use x=\"63.623047\" xlink:href=\"#DejaVuSans-2e\"/>\n       <use x=\"95.410156\" xlink:href=\"#DejaVuSans-32\"/>\n      </g>\n     </g>\n    </g>\n    <g id=\"xtick_3\">\n     <g id=\"line2d_3\">\n      <g>\n       <use style=\"stroke:#000000;stroke-width:0.8;\" x=\"173.561773\" xlink:href=\"#m835289610c\" y=\"235.238438\"/>\n      </g>\n     </g>\n     <g id=\"text_3\">\n      <!-- 0.4 -->\n      <g transform=\"translate(165.61021 249.836875)scale(0.1 -0.1)\">\n       <defs>\n        <path d=\"M 2419 4116 \nL 825 1625 \nL 2419 1625 \nL 2419 4116 \nz\nM 2253 4666 \nL 3047 4666 \nL 3047 1625 \nL 3713 1625 \nL 3713 1100 \nL 3047 1100 \nL 3047 0 \nL 2419 0 \nL 2419 1100 \nL 313 1100 \nL 313 1709 \nL 2253 4666 \nz\n\" id=\"DejaVuSans-34\" transform=\"scale(0.015625)\"/>\n       </defs>\n       <use xlink:href=\"#DejaVuSans-30\"/>\n       <use x=\"63.623047\" xlink:href=\"#DejaVuSans-2e\"/>\n       <use x=\"95.410156\" xlink:href=\"#DejaVuSans-34\"/>\n      </g>\n     </g>\n    </g>\n    <g id=\"xtick_4\">\n     <g id=\"line2d_4\">\n      <g>\n       <use style=\"stroke:#000000;stroke-width:0.8;\" x=\"229.719477\" xlink:href=\"#m835289610c\" y=\"235.238438\"/>\n      </g>\n     </g>\n     <g id=\"text_4\">\n      <!-- 0.6 -->\n      <g transform=\"translate(221.767915 249.836875)scale(0.1 -0.1)\">\n       <defs>\n        <path d=\"M 2113 2584 \nQ 1688 2584 1439 2293 \nQ 1191 2003 1191 1497 \nQ 1191 994 1439 701 \nQ 1688 409 2113 409 \nQ 2538 409 2786 701 \nQ 3034 994 3034 1497 \nQ 3034 2003 2786 2293 \nQ 2538 2584 2113 2584 \nz\nM 3366 4563 \nL 3366 3988 \nQ 3128 4100 2886 4159 \nQ 2644 4219 2406 4219 \nQ 1781 4219 1451 3797 \nQ 1122 3375 1075 2522 \nQ 1259 2794 1537 2939 \nQ 1816 3084 2150 3084 \nQ 2853 3084 3261 2657 \nQ 3669 2231 3669 1497 \nQ 3669 778 3244 343 \nQ 2819 -91 2113 -91 \nQ 1303 -91 875 529 \nQ 447 1150 447 2328 \nQ 447 3434 972 4092 \nQ 1497 4750 2381 4750 \nQ 2619 4750 2861 4703 \nQ 3103 4656 3366 4563 \nz\n\" id=\"DejaVuSans-36\" transform=\"scale(0.015625)\"/>\n       </defs>\n       <use xlink:href=\"#DejaVuSans-30\"/>\n       <use x=\"63.623047\" xlink:href=\"#DejaVuSans-2e\"/>\n       <use x=\"95.410156\" xlink:href=\"#DejaVuSans-36\"/>\n      </g>\n     </g>\n    </g>\n    <g id=\"xtick_5\">\n     <g id=\"line2d_5\">\n      <g>\n       <use style=\"stroke:#000000;stroke-width:0.8;\" x=\"285.877182\" xlink:href=\"#m835289610c\" y=\"235.238438\"/>\n      </g>\n     </g>\n     <g id=\"text_5\">\n      <!-- 0.8 -->\n      <g transform=\"translate(277.92562 249.836875)scale(0.1 -0.1)\">\n       <defs>\n        <path d=\"M 2034 2216 \nQ 1584 2216 1326 1975 \nQ 1069 1734 1069 1313 \nQ 1069 891 1326 650 \nQ 1584 409 2034 409 \nQ 2484 409 2743 651 \nQ 3003 894 3003 1313 \nQ 3003 1734 2745 1975 \nQ 2488 2216 2034 2216 \nz\nM 1403 2484 \nQ 997 2584 770 2862 \nQ 544 3141 544 3541 \nQ 544 4100 942 4425 \nQ 1341 4750 2034 4750 \nQ 2731 4750 3128 4425 \nQ 3525 4100 3525 3541 \nQ 3525 3141 3298 2862 \nQ 3072 2584 2669 2484 \nQ 3125 2378 3379 2068 \nQ 3634 1759 3634 1313 \nQ 3634 634 3220 271 \nQ 2806 -91 2034 -91 \nQ 1263 -91 848 271 \nQ 434 634 434 1313 \nQ 434 1759 690 2068 \nQ 947 2378 1403 2484 \nz\nM 1172 3481 \nQ 1172 3119 1398 2916 \nQ 1625 2713 2034 2713 \nQ 2441 2713 2670 2916 \nQ 2900 3119 2900 3481 \nQ 2900 3844 2670 4047 \nQ 2441 4250 2034 4250 \nQ 1625 4250 1398 4047 \nQ 1172 3844 1172 3481 \nz\n\" id=\"DejaVuSans-38\" transform=\"scale(0.015625)\"/>\n       </defs>\n       <use xlink:href=\"#DejaVuSans-30\"/>\n       <use x=\"63.623047\" xlink:href=\"#DejaVuSans-2e\"/>\n       <use x=\"95.410156\" xlink:href=\"#DejaVuSans-38\"/>\n      </g>\n     </g>\n    </g>\n    <g id=\"xtick_6\">\n     <g id=\"line2d_6\">\n      <g>\n       <use style=\"stroke:#000000;stroke-width:0.8;\" x=\"342.034887\" xlink:href=\"#m835289610c\" y=\"235.238438\"/>\n      </g>\n     </g>\n     <g id=\"text_6\">\n      <!-- 1.0 -->\n      <g transform=\"translate(334.083324 249.836875)scale(0.1 -0.1)\">\n       <defs>\n        <path d=\"M 794 531 \nL 1825 531 \nL 1825 4091 \nL 703 3866 \nL 703 4441 \nL 1819 4666 \nL 2450 4666 \nL 2450 531 \nL 3481 531 \nL 3481 0 \nL 794 0 \nL 794 531 \nz\n\" id=\"DejaVuSans-31\" transform=\"scale(0.015625)\"/>\n       </defs>\n       <use xlink:href=\"#DejaVuSans-31\"/>\n       <use x=\"63.623047\" xlink:href=\"#DejaVuSans-2e\"/>\n       <use x=\"95.410156\" xlink:href=\"#DejaVuSans-30\"/>\n      </g>\n     </g>\n    </g>\n    <g id=\"text_7\">\n     <!-- mileage -->\n     <g transform=\"translate(181.600781 263.515)scale(0.1 -0.1)\">\n      <defs>\n       <path d=\"M 3328 2828 \nQ 3544 3216 3844 3400 \nQ 4144 3584 4550 3584 \nQ 5097 3584 5394 3201 \nQ 5691 2819 5691 2113 \nL 5691 0 \nL 5113 0 \nL 5113 2094 \nQ 5113 2597 4934 2840 \nQ 4756 3084 4391 3084 \nQ 3944 3084 3684 2787 \nQ 3425 2491 3425 1978 \nL 3425 0 \nL 2847 0 \nL 2847 2094 \nQ 2847 2600 2669 2842 \nQ 2491 3084 2119 3084 \nQ 1678 3084 1418 2786 \nQ 1159 2488 1159 1978 \nL 1159 0 \nL 581 0 \nL 581 3500 \nL 1159 3500 \nL 1159 2956 \nQ 1356 3278 1631 3431 \nQ 1906 3584 2284 3584 \nQ 2666 3584 2933 3390 \nQ 3200 3197 3328 2828 \nz\n\" id=\"DejaVuSans-6d\" transform=\"scale(0.015625)\"/>\n       <path d=\"M 603 3500 \nL 1178 3500 \nL 1178 0 \nL 603 0 \nL 603 3500 \nz\nM 603 4863 \nL 1178 4863 \nL 1178 4134 \nL 603 4134 \nL 603 4863 \nz\n\" id=\"DejaVuSans-69\" transform=\"scale(0.015625)\"/>\n       <path d=\"M 603 4863 \nL 1178 4863 \nL 1178 0 \nL 603 0 \nL 603 4863 \nz\n\" id=\"DejaVuSans-6c\" transform=\"scale(0.015625)\"/>\n       <path d=\"M 3597 1894 \nL 3597 1613 \nL 953 1613 \nQ 991 1019 1311 708 \nQ 1631 397 2203 397 \nQ 2534 397 2845 478 \nQ 3156 559 3463 722 \nL 3463 178 \nQ 3153 47 2828 -22 \nQ 2503 -91 2169 -91 \nQ 1331 -91 842 396 \nQ 353 884 353 1716 \nQ 353 2575 817 3079 \nQ 1281 3584 2069 3584 \nQ 2775 3584 3186 3129 \nQ 3597 2675 3597 1894 \nz\nM 3022 2063 \nQ 3016 2534 2758 2815 \nQ 2500 3097 2075 3097 \nQ 1594 3097 1305 2825 \nQ 1016 2553 972 2059 \nL 3022 2063 \nz\n\" id=\"DejaVuSans-65\" transform=\"scale(0.015625)\"/>\n       <path d=\"M 2194 1759 \nQ 1497 1759 1228 1600 \nQ 959 1441 959 1056 \nQ 959 750 1161 570 \nQ 1363 391 1709 391 \nQ 2188 391 2477 730 \nQ 2766 1069 2766 1631 \nL 2766 1759 \nL 2194 1759 \nz\nM 3341 1997 \nL 3341 0 \nL 2766 0 \nL 2766 531 \nQ 2569 213 2275 61 \nQ 1981 -91 1556 -91 \nQ 1019 -91 701 211 \nQ 384 513 384 1019 \nQ 384 1609 779 1909 \nQ 1175 2209 1959 2209 \nL 2766 2209 \nL 2766 2266 \nQ 2766 2663 2505 2880 \nQ 2244 3097 1772 3097 \nQ 1472 3097 1187 3025 \nQ 903 2953 641 2809 \nL 641 3341 \nQ 956 3463 1253 3523 \nQ 1550 3584 1831 3584 \nQ 2591 3584 2966 3190 \nQ 3341 2797 3341 1997 \nz\n\" id=\"DejaVuSans-61\" transform=\"scale(0.015625)\"/>\n       <path d=\"M 2906 1791 \nQ 2906 2416 2648 2759 \nQ 2391 3103 1925 3103 \nQ 1463 3103 1205 2759 \nQ 947 2416 947 1791 \nQ 947 1169 1205 825 \nQ 1463 481 1925 481 \nQ 2391 481 2648 825 \nQ 2906 1169 2906 1791 \nz\nM 3481 434 \nQ 3481 -459 3084 -895 \nQ 2688 -1331 1869 -1331 \nQ 1566 -1331 1297 -1286 \nQ 1028 -1241 775 -1147 \nL 775 -588 \nQ 1028 -725 1275 -790 \nQ 1522 -856 1778 -856 \nQ 2344 -856 2625 -561 \nQ 2906 -266 2906 331 \nL 2906 616 \nQ 2728 306 2450 153 \nQ 2172 0 1784 0 \nQ 1141 0 747 490 \nQ 353 981 353 1791 \nQ 353 2603 747 3093 \nQ 1141 3584 1784 3584 \nQ 2172 3584 2450 3431 \nQ 2728 3278 2906 2969 \nL 2906 3500 \nL 3481 3500 \nL 3481 434 \nz\n\" id=\"DejaVuSans-67\" transform=\"scale(0.015625)\"/>\n      </defs>\n      <use xlink:href=\"#DejaVuSans-6d\"/>\n      <use x=\"97.412109\" xlink:href=\"#DejaVuSans-69\"/>\n      <use x=\"125.195312\" xlink:href=\"#DejaVuSans-6c\"/>\n      <use x=\"152.978516\" xlink:href=\"#DejaVuSans-65\"/>\n      <use x=\"214.501953\" xlink:href=\"#DejaVuSans-61\"/>\n      <use x=\"275.78125\" xlink:href=\"#DejaVuSans-67\"/>\n      <use x=\"339.257812\" xlink:href=\"#DejaVuSans-65\"/>\n     </g>\n    </g>\n    <g id=\"text_8\">\n     <!-- 1e6 -->\n     <g transform=\"translate(350.1625 262.515)scale(0.1 -0.1)\">\n      <use xlink:href=\"#DejaVuSans-31\"/>\n      <use x=\"63.623047\" xlink:href=\"#DejaVuSans-65\"/>\n      <use x=\"125.146484\" xlink:href=\"#DejaVuSans-36\"/>\n     </g>\n    </g>\n   </g>\n   <g id=\"matplotlib.axis_2\">\n    <g id=\"ytick_1\">\n     <g id=\"line2d_7\">\n      <defs>\n       <path d=\"M 0 0 \nL -3.5 0 \n\" id=\"mea5523d599\" style=\"stroke:#000000;stroke-width:0.8;\"/>\n      </defs>\n      <g>\n       <use style=\"stroke:#000000;stroke-width:0.8;\" x=\"34.240625\" xlink:href=\"#mea5523d599\" y=\"235.238438\"/>\n      </g>\n     </g>\n     <g id=\"text_9\">\n      <!-- 0 -->\n      <g transform=\"translate(20.878125 239.037656)scale(0.1 -0.1)\">\n       <use xlink:href=\"#DejaVuSans-30\"/>\n      </g>\n     </g>\n    </g>\n    <g id=\"ytick_2\">\n     <g id=\"line2d_8\">\n      <g>\n       <use style=\"stroke:#000000;stroke-width:0.8;\" x=\"34.240625\" xlink:href=\"#mea5523d599\" y=\"193.994206\"/>\n      </g>\n     </g>\n     <g id=\"text_10\">\n      <!-- 1 -->\n      <g transform=\"translate(20.878125 197.793424)scale(0.1 -0.1)\">\n       <use xlink:href=\"#DejaVuSans-31\"/>\n      </g>\n     </g>\n    </g>\n    <g id=\"ytick_3\">\n     <g id=\"line2d_9\">\n      <g>\n       <use style=\"stroke:#000000;stroke-width:0.8;\" x=\"34.240625\" xlink:href=\"#mea5523d599\" y=\"152.749974\"/>\n      </g>\n     </g>\n     <g id=\"text_11\">\n      <!-- 2 -->\n      <g transform=\"translate(20.878125 156.549193)scale(0.1 -0.1)\">\n       <use xlink:href=\"#DejaVuSans-32\"/>\n      </g>\n     </g>\n    </g>\n    <g id=\"ytick_4\">\n     <g id=\"line2d_10\">\n      <g>\n       <use style=\"stroke:#000000;stroke-width:0.8;\" x=\"34.240625\" xlink:href=\"#mea5523d599\" y=\"111.505742\"/>\n      </g>\n     </g>\n     <g id=\"text_12\">\n      <!-- 3 -->\n      <g transform=\"translate(20.878125 115.304961)scale(0.1 -0.1)\">\n       <defs>\n        <path d=\"M 2597 2516 \nQ 3050 2419 3304 2112 \nQ 3559 1806 3559 1356 \nQ 3559 666 3084 287 \nQ 2609 -91 1734 -91 \nQ 1441 -91 1130 -33 \nQ 819 25 488 141 \nL 488 750 \nQ 750 597 1062 519 \nQ 1375 441 1716 441 \nQ 2309 441 2620 675 \nQ 2931 909 2931 1356 \nQ 2931 1769 2642 2001 \nQ 2353 2234 1838 2234 \nL 1294 2234 \nL 1294 2753 \nL 1863 2753 \nQ 2328 2753 2575 2939 \nQ 2822 3125 2822 3475 \nQ 2822 3834 2567 4026 \nQ 2313 4219 1838 4219 \nQ 1578 4219 1281 4162 \nQ 984 4106 628 3988 \nL 628 4550 \nQ 988 4650 1302 4700 \nQ 1616 4750 1894 4750 \nQ 2613 4750 3031 4423 \nQ 3450 4097 3450 3541 \nQ 3450 3153 3228 2886 \nQ 3006 2619 2597 2516 \nz\n\" id=\"DejaVuSans-33\" transform=\"scale(0.015625)\"/>\n       </defs>\n       <use xlink:href=\"#DejaVuSans-33\"/>\n      </g>\n     </g>\n    </g>\n    <g id=\"ytick_5\">\n     <g id=\"line2d_11\">\n      <g>\n       <use style=\"stroke:#000000;stroke-width:0.8;\" x=\"34.240625\" xlink:href=\"#mea5523d599\" y=\"70.26151\"/>\n      </g>\n     </g>\n     <g id=\"text_13\">\n      <!-- 4 -->\n      <g transform=\"translate(20.878125 74.060729)scale(0.1 -0.1)\">\n       <use xlink:href=\"#DejaVuSans-34\"/>\n      </g>\n     </g>\n    </g>\n    <g id=\"ytick_6\">\n     <g id=\"line2d_12\">\n      <g>\n       <use style=\"stroke:#000000;stroke-width:0.8;\" x=\"34.240625\" xlink:href=\"#mea5523d599\" y=\"29.017279\"/>\n      </g>\n     </g>\n     <g id=\"text_14\">\n      <!-- 5 -->\n      <g transform=\"translate(20.878125 32.816497)scale(0.1 -0.1)\">\n       <defs>\n        <path d=\"M 691 4666 \nL 3169 4666 \nL 3169 4134 \nL 1269 4134 \nL 1269 2991 \nQ 1406 3038 1543 3061 \nQ 1681 3084 1819 3084 \nQ 2600 3084 3056 2656 \nQ 3513 2228 3513 1497 \nQ 3513 744 3044 326 \nQ 2575 -91 1722 -91 \nQ 1428 -91 1123 -41 \nQ 819 9 494 109 \nL 494 744 \nQ 775 591 1075 516 \nQ 1375 441 1709 441 \nQ 2250 441 2565 725 \nQ 2881 1009 2881 1497 \nQ 2881 1984 2565 2268 \nQ 2250 2553 1709 2553 \nQ 1456 2553 1204 2497 \nQ 953 2441 691 2322 \nL 691 4666 \nz\n\" id=\"DejaVuSans-35\" transform=\"scale(0.015625)\"/>\n       </defs>\n       <use xlink:href=\"#DejaVuSans-35\"/>\n      </g>\n     </g>\n    </g>\n    <g id=\"text_15\">\n     <!-- Density -->\n     <g transform=\"translate(14.798437 145.527031)rotate(-90)scale(0.1 -0.1)\">\n      <defs>\n       <path d=\"M 1259 4147 \nL 1259 519 \nL 2022 519 \nQ 2988 519 3436 956 \nQ 3884 1394 3884 2338 \nQ 3884 3275 3436 3711 \nQ 2988 4147 2022 4147 \nL 1259 4147 \nz\nM 628 4666 \nL 1925 4666 \nQ 3281 4666 3915 4102 \nQ 4550 3538 4550 2338 \nQ 4550 1131 3912 565 \nQ 3275 0 1925 0 \nL 628 0 \nL 628 4666 \nz\n\" id=\"DejaVuSans-44\" transform=\"scale(0.015625)\"/>\n       <path d=\"M 3513 2113 \nL 3513 0 \nL 2938 0 \nL 2938 2094 \nQ 2938 2591 2744 2837 \nQ 2550 3084 2163 3084 \nQ 1697 3084 1428 2787 \nQ 1159 2491 1159 1978 \nL 1159 0 \nL 581 0 \nL 581 3500 \nL 1159 3500 \nL 1159 2956 \nQ 1366 3272 1645 3428 \nQ 1925 3584 2291 3584 \nQ 2894 3584 3203 3211 \nQ 3513 2838 3513 2113 \nz\n\" id=\"DejaVuSans-6e\" transform=\"scale(0.015625)\"/>\n       <path d=\"M 2834 3397 \nL 2834 2853 \nQ 2591 2978 2328 3040 \nQ 2066 3103 1784 3103 \nQ 1356 3103 1142 2972 \nQ 928 2841 928 2578 \nQ 928 2378 1081 2264 \nQ 1234 2150 1697 2047 \nL 1894 2003 \nQ 2506 1872 2764 1633 \nQ 3022 1394 3022 966 \nQ 3022 478 2636 193 \nQ 2250 -91 1575 -91 \nQ 1294 -91 989 -36 \nQ 684 19 347 128 \nL 347 722 \nQ 666 556 975 473 \nQ 1284 391 1588 391 \nQ 1994 391 2212 530 \nQ 2431 669 2431 922 \nQ 2431 1156 2273 1281 \nQ 2116 1406 1581 1522 \nL 1381 1569 \nQ 847 1681 609 1914 \nQ 372 2147 372 2553 \nQ 372 3047 722 3315 \nQ 1072 3584 1716 3584 \nQ 2034 3584 2315 3537 \nQ 2597 3491 2834 3397 \nz\n\" id=\"DejaVuSans-73\" transform=\"scale(0.015625)\"/>\n       <path d=\"M 1172 4494 \nL 1172 3500 \nL 2356 3500 \nL 2356 3053 \nL 1172 3053 \nL 1172 1153 \nQ 1172 725 1289 603 \nQ 1406 481 1766 481 \nL 2356 481 \nL 2356 0 \nL 1766 0 \nQ 1100 0 847 248 \nQ 594 497 594 1153 \nL 594 3053 \nL 172 3053 \nL 172 3500 \nL 594 3500 \nL 594 4494 \nL 1172 4494 \nz\n\" id=\"DejaVuSans-74\" transform=\"scale(0.015625)\"/>\n       <path d=\"M 2059 -325 \nQ 1816 -950 1584 -1140 \nQ 1353 -1331 966 -1331 \nL 506 -1331 \nL 506 -850 \nL 844 -850 \nQ 1081 -850 1212 -737 \nQ 1344 -625 1503 -206 \nL 1606 56 \nL 191 3500 \nL 800 3500 \nL 1894 763 \nL 2988 3500 \nL 3597 3500 \nL 2059 -325 \nz\n\" id=\"DejaVuSans-79\" transform=\"scale(0.015625)\"/>\n      </defs>\n      <use xlink:href=\"#DejaVuSans-44\"/>\n      <use x=\"77.001953\" xlink:href=\"#DejaVuSans-65\"/>\n      <use x=\"138.525391\" xlink:href=\"#DejaVuSans-6e\"/>\n      <use x=\"201.904297\" xlink:href=\"#DejaVuSans-73\"/>\n      <use x=\"254.003906\" xlink:href=\"#DejaVuSans-69\"/>\n      <use x=\"281.787109\" xlink:href=\"#DejaVuSans-74\"/>\n      <use x=\"320.996094\" xlink:href=\"#DejaVuSans-79\"/>\n     </g>\n    </g>\n    <g id=\"text_16\">\n     <!-- 1e−6 -->\n     <g transform=\"translate(34.240625 14.798437)scale(0.1 -0.1)\">\n      <defs>\n       <path d=\"M 678 2272 \nL 4684 2272 \nL 4684 1741 \nL 678 1741 \nL 678 2272 \nz\n\" id=\"DejaVuSans-2212\" transform=\"scale(0.015625)\"/>\n      </defs>\n      <use xlink:href=\"#DejaVuSans-31\"/>\n      <use x=\"63.623047\" xlink:href=\"#DejaVuSans-65\"/>\n      <use x=\"125.146484\" xlink:href=\"#DejaVuSans-2212\"/>\n      <use x=\"208.935547\" xlink:href=\"#DejaVuSans-36\"/>\n     </g>\n    </g>\n   </g>\n   <g id=\"line2d_13\">\n    <path clip-path=\"url(#p49e821b0ab)\" d=\"M 49.458807 234.886064 \nL 50.988272 234.10917 \nL 52.517738 232.090278 \nL 54.047203 227.580537 \nL 55.576669 218.919887 \nL 57.106134 204.618055 \nL 58.6356 184.307597 \nL 63.223996 110.184198 \nL 64.753462 92.40619 \nL 66.282927 81.046443 \nL 67.812393 75.031026 \nL 69.341858 72.223715 \nL 70.871324 70.486645 \nL 72.400789 68.383007 \nL 73.930255 65.327508 \nL 75.45972 61.323413 \nL 76.989186 56.599852 \nL 81.577583 40.949034 \nL 83.107048 36.587541 \nL 84.636514 33.410427 \nL 86.165979 31.608628 \nL 87.695445 31.04909 \nL 89.22491 31.362748 \nL 90.754376 32.179382 \nL 92.283841 33.377019 \nL 93.813307 35.145804 \nL 95.342772 37.786947 \nL 96.872238 41.426582 \nL 98.401703 45.923743 \nL 99.931169 51.032794 \nL 102.9901 62.583258 \nL 106.049031 75.53134 \nL 109.107962 89.369345 \nL 110.637427 96.932793 \nL 112.166893 105.226199 \nL 115.225824 123.828855 \nL 118.284755 142.383815 \nL 119.81422 150.280651 \nL 121.343686 156.882665 \nL 122.873151 162.379055 \nL 125.932082 171.884412 \nL 130.520479 185.674648 \nL 133.57941 193.721774 \nL 136.638341 200.722546 \nL 138.167806 203.845328 \nL 139.697272 206.612545 \nL 141.226737 208.941421 \nL 142.756203 210.841932 \nL 145.815134 213.919518 \nL 151.932996 219.707892 \nL 156.521392 223.382213 \nL 161.109789 226.994236 \nL 162.639255 228.005446 \nL 164.16872 228.784748 \nL 165.698186 229.319936 \nL 168.757117 229.902691 \nL 173.345513 230.630148 \nL 176.404444 231.409663 \nL 180.992841 232.64245 \nL 184.051772 233.041585 \nL 187.110703 233.272952 \nL 190.169634 233.828727 \nL 193.228565 234.573145 \nL 196.287496 235.03093 \nL 199.346427 235.13544 \nL 217.700013 234.985943 \nL 223.817875 235.212473 \nL 234.524133 235.230571 \nL 251.348254 235.202892 \nL 262.054513 235.238431 \nL 336.998323 235.161046 \nL 343.116185 235.069011 \nL 353.822443 235.236483 \nL 353.822443 235.236483 \n\" style=\"fill:none;stroke:#1f77b4;stroke-linecap:square;stroke-width:1.5;\"/>\n   </g>\n   <g id=\"patch_53\">\n    <path d=\"M 34.240625 235.238438 \nL 34.240625 17.798438 \n\" style=\"fill:none;stroke:#000000;stroke-linecap:square;stroke-linejoin:miter;stroke-width:0.8;\"/>\n   </g>\n   <g id=\"patch_54\">\n    <path d=\"M 369.040625 235.238438 \nL 369.040625 17.798438 \n\" style=\"fill:none;stroke:#000000;stroke-linecap:square;stroke-linejoin:miter;stroke-width:0.8;\"/>\n   </g>\n   <g id=\"patch_55\">\n    <path d=\"M 34.240625 235.238438 \nL 369.040625 235.238438 \n\" style=\"fill:none;stroke:#000000;stroke-linecap:square;stroke-linejoin:miter;stroke-width:0.8;\"/>\n   </g>\n   <g id=\"patch_56\">\n    <path d=\"M 34.240625 17.798438 \nL 369.040625 17.798438 \n\" style=\"fill:none;stroke:#000000;stroke-linecap:square;stroke-linejoin:miter;stroke-width:0.8;\"/>\n   </g>\n  </g>\n </g>\n <defs>\n  <clipPath id=\"p49e821b0ab\">\n   <rect height=\"217.44\" width=\"334.8\" x=\"34.240625\" y=\"17.798438\"/>\n  </clipPath>\n </defs>\n</svg>\n"
     },
     "metadata": {
      "needs_background": "light"
     },
     "output_type": "display_data"
    }
   ],
   "source": [
    "ax = sns.distplot(train['mileage'])"
   ]
  },
  {
   "cell_type": "code",
   "execution_count": 48,
   "metadata": {
    "execution": {
     "iopub.execute_input": "2020-12-02T17:27:26.229911Z",
     "iopub.status.busy": "2020-12-02T17:27:26.228890Z",
     "iopub.status.idle": "2020-12-02T17:27:26.470009Z",
     "shell.execute_reply": "2020-12-02T17:27:26.470608Z"
    },
    "papermill": {
     "duration": 0.348873,
     "end_time": "2020-12-02T17:27:26.470775",
     "exception": false,
     "start_time": "2020-12-02T17:27:26.121902",
     "status": "completed"
    },
    "tags": []
   },
   "outputs": [
    {
     "name": "stderr",
     "output_type": "stream",
     "text": [
      "/home/as/venv/tfgpu/lib/python3.8/site-packages/seaborn/distributions.py:2619: FutureWarning: `distplot` is a deprecated function and will be removed in a future version. Please adapt your code to use either `displot` (a figure-level function with similar flexibility) or `histplot` (an axes-level function for histograms).\n",
      "  warnings.warn(msg, FutureWarning)\n"
     ]
    },
    {
     "data": {
      "text/plain": "<Figure size 432x288 with 1 Axes>",
      "image/svg+xml": "<?xml version=\"1.0\" encoding=\"utf-8\" standalone=\"no\"?>\n<!DOCTYPE svg PUBLIC \"-//W3C//DTD SVG 1.1//EN\"\n  \"http://www.w3.org/Graphics/SVG/1.1/DTD/svg11.dtd\">\n<svg height=\"262.19625pt\" version=\"1.1\" viewBox=\"0 0 392.14375 262.19625\" width=\"392.14375pt\" xmlns=\"http://www.w3.org/2000/svg\" xmlns:xlink=\"http://www.w3.org/1999/xlink\">\n <metadata>\n  <rdf:RDF xmlns:cc=\"http://creativecommons.org/ns#\" xmlns:dc=\"http://purl.org/dc/elements/1.1/\" xmlns:rdf=\"http://www.w3.org/1999/02/22-rdf-syntax-ns#\">\n   <cc:Work>\n    <dc:type rdf:resource=\"http://purl.org/dc/dcmitype/StillImage\"/>\n    <dc:date>2021-11-12T17:35:08.345318</dc:date>\n    <dc:format>image/svg+xml</dc:format>\n    <dc:creator>\n     <cc:Agent>\n      <dc:title>Matplotlib v3.4.3, https://matplotlib.org/</dc:title>\n     </cc:Agent>\n    </dc:creator>\n   </cc:Work>\n  </rdf:RDF>\n </metadata>\n <defs>\n  <style type=\"text/css\">*{stroke-linecap:butt;stroke-linejoin:round;}</style>\n </defs>\n <g id=\"figure_1\">\n  <g id=\"patch_1\">\n   <path d=\"M 0 262.19625 \nL 392.14375 262.19625 \nL 392.14375 0 \nL 0 0 \nz\n\" style=\"fill:none;\"/>\n  </g>\n  <g id=\"axes_1\">\n   <g id=\"patch_2\">\n    <path d=\"M 50.14375 224.64 \nL 384.94375 224.64 \nL 384.94375 7.2 \nL 50.14375 7.2 \nz\n\" style=\"fill:#ffffff;\"/>\n   </g>\n   <g id=\"patch_3\">\n    <path clip-path=\"url(#p3a7d0e588b)\" d=\"M 82.370265 224.64 \nL 87.777205 224.64 \nL 87.777205 224.321896 \nL 82.370265 224.321896 \nz\n\" style=\"fill:#1f77b4;opacity:0.4;\"/>\n   </g>\n   <g id=\"patch_4\">\n    <path clip-path=\"url(#p3a7d0e588b)\" d=\"M 87.777205 224.64 \nL 93.184144 224.64 \nL 93.184144 224.321896 \nL 87.777205 224.321896 \nz\n\" style=\"fill:#1f77b4;opacity:0.4;\"/>\n   </g>\n   <g id=\"patch_5\">\n    <path clip-path=\"url(#p3a7d0e588b)\" d=\"M 93.184144 224.64 \nL 98.591084 224.64 \nL 98.591084 224.003792 \nL 93.184144 224.003792 \nz\n\" style=\"fill:#1f77b4;opacity:0.4;\"/>\n   </g>\n   <g id=\"patch_6\">\n    <path clip-path=\"url(#p3a7d0e588b)\" d=\"M 98.591084 224.64 \nL 103.998023 224.64 \nL 103.998023 224.64 \nL 98.591084 224.64 \nz\n\" style=\"fill:#1f77b4;opacity:0.4;\"/>\n   </g>\n   <g id=\"patch_7\">\n    <path clip-path=\"url(#p3a7d0e588b)\" d=\"M 103.998023 224.64 \nL 109.404962 224.64 \nL 109.404962 223.685688 \nL 103.998023 223.685688 \nz\n\" style=\"fill:#1f77b4;opacity:0.4;\"/>\n   </g>\n   <g id=\"patch_8\">\n    <path clip-path=\"url(#p3a7d0e588b)\" d=\"M 109.404962 224.64 \nL 114.811902 224.64 \nL 114.811902 224.64 \nL 109.404962 224.64 \nz\n\" style=\"fill:#1f77b4;opacity:0.4;\"/>\n   </g>\n   <g id=\"patch_9\">\n    <path clip-path=\"url(#p3a7d0e588b)\" d=\"M 114.811902 224.64 \nL 120.218841 224.64 \nL 120.218841 224.003792 \nL 114.811902 224.003792 \nz\n\" style=\"fill:#1f77b4;opacity:0.4;\"/>\n   </g>\n   <g id=\"patch_10\">\n    <path clip-path=\"url(#p3a7d0e588b)\" d=\"M 120.218841 224.64 \nL 125.62578 224.64 \nL 125.62578 223.04948 \nL 120.218841 223.04948 \nz\n\" style=\"fill:#1f77b4;opacity:0.4;\"/>\n   </g>\n   <g id=\"patch_11\">\n    <path clip-path=\"url(#p3a7d0e588b)\" d=\"M 125.62578 224.64 \nL 131.03272 224.64 \nL 131.03272 224.64 \nL 125.62578 224.64 \nz\n\" style=\"fill:#1f77b4;opacity:0.4;\"/>\n   </g>\n   <g id=\"patch_12\">\n    <path clip-path=\"url(#p3a7d0e588b)\" d=\"M 131.03272 224.64 \nL 136.439659 224.64 \nL 136.439659 224.64 \nL 131.03272 224.64 \nz\n\" style=\"fill:#1f77b4;opacity:0.4;\"/>\n   </g>\n   <g id=\"patch_13\">\n    <path clip-path=\"url(#p3a7d0e588b)\" d=\"M 136.439659 224.64 \nL 141.846599 224.64 \nL 141.846599 223.367584 \nL 136.439659 223.367584 \nz\n\" style=\"fill:#1f77b4;opacity:0.4;\"/>\n   </g>\n   <g id=\"patch_14\">\n    <path clip-path=\"url(#p3a7d0e588b)\" d=\"M 141.846599 224.64 \nL 147.253538 224.64 \nL 147.253538 223.367584 \nL 141.846599 223.367584 \nz\n\" style=\"fill:#1f77b4;opacity:0.4;\"/>\n   </g>\n   <g id=\"patch_15\">\n    <path clip-path=\"url(#p3a7d0e588b)\" d=\"M 147.253538 224.64 \nL 152.660477 224.64 \nL 152.660477 224.321896 \nL 147.253538 224.321896 \nz\n\" style=\"fill:#1f77b4;opacity:0.4;\"/>\n   </g>\n   <g id=\"patch_16\">\n    <path clip-path=\"url(#p3a7d0e588b)\" d=\"M 152.660477 224.64 \nL 158.067417 224.64 \nL 158.067417 221.45896 \nL 152.660477 221.45896 \nz\n\" style=\"fill:#1f77b4;opacity:0.4;\"/>\n   </g>\n   <g id=\"patch_17\">\n    <path clip-path=\"url(#p3a7d0e588b)\" d=\"M 158.067417 224.64 \nL 163.474356 224.64 \nL 163.474356 224.003792 \nL 158.067417 224.003792 \nz\n\" style=\"fill:#1f77b4;opacity:0.4;\"/>\n   </g>\n   <g id=\"patch_18\">\n    <path clip-path=\"url(#p3a7d0e588b)\" d=\"M 163.474356 224.64 \nL 168.881296 224.64 \nL 168.881296 224.321896 \nL 163.474356 224.321896 \nz\n\" style=\"fill:#1f77b4;opacity:0.4;\"/>\n   </g>\n   <g id=\"patch_19\">\n    <path clip-path=\"url(#p3a7d0e588b)\" d=\"M 168.881296 224.64 \nL 174.288235 224.64 \nL 174.288235 224.64 \nL 168.881296 224.64 \nz\n\" style=\"fill:#1f77b4;opacity:0.4;\"/>\n   </g>\n   <g id=\"patch_20\">\n    <path clip-path=\"url(#p3a7d0e588b)\" d=\"M 174.288235 224.64 \nL 179.695174 224.64 \nL 179.695174 211.915839 \nL 174.288235 211.915839 \nz\n\" style=\"fill:#1f77b4;opacity:0.4;\"/>\n   </g>\n   <g id=\"patch_21\">\n    <path clip-path=\"url(#p3a7d0e588b)\" d=\"M 179.695174 224.64 \nL 185.102114 224.64 \nL 185.102114 223.685688 \nL 179.695174 223.685688 \nz\n\" style=\"fill:#1f77b4;opacity:0.4;\"/>\n   </g>\n   <g id=\"patch_22\">\n    <path clip-path=\"url(#p3a7d0e588b)\" d=\"M 185.102114 224.64 \nL 190.509053 224.64 \nL 190.509053 220.504648 \nL 185.102114 220.504648 \nz\n\" style=\"fill:#1f77b4;opacity:0.4;\"/>\n   </g>\n   <g id=\"patch_23\">\n    <path clip-path=\"url(#p3a7d0e588b)\" d=\"M 190.509053 224.64 \nL 195.915992 224.64 \nL 195.915992 224.64 \nL 190.509053 224.64 \nz\n\" style=\"fill:#1f77b4;opacity:0.4;\"/>\n   </g>\n   <g id=\"patch_24\">\n    <path clip-path=\"url(#p3a7d0e588b)\" d=\"M 195.915992 224.64 \nL 201.322932 224.64 \nL 201.322932 217.323608 \nL 195.915992 217.323608 \nz\n\" style=\"fill:#1f77b4;opacity:0.4;\"/>\n   </g>\n   <g id=\"patch_25\">\n    <path clip-path=\"url(#p3a7d0e588b)\" d=\"M 201.322932 224.64 \nL 206.729871 224.64 \nL 206.729871 219.232232 \nL 201.322932 219.232232 \nz\n\" style=\"fill:#1f77b4;opacity:0.4;\"/>\n   </g>\n   <g id=\"patch_26\">\n    <path clip-path=\"url(#p3a7d0e588b)\" d=\"M 206.729871 224.64 \nL 212.136811 224.64 \nL 212.136811 221.140856 \nL 206.729871 221.140856 \nz\n\" style=\"fill:#1f77b4;opacity:0.4;\"/>\n   </g>\n   <g id=\"patch_27\">\n    <path clip-path=\"url(#p3a7d0e588b)\" d=\"M 212.136811 224.64 \nL 217.54375 224.64 \nL 217.54375 224.64 \nL 212.136811 224.64 \nz\n\" style=\"fill:#1f77b4;opacity:0.4;\"/>\n   </g>\n   <g id=\"patch_28\">\n    <path clip-path=\"url(#p3a7d0e588b)\" d=\"M 217.54375 224.64 \nL 222.950689 224.64 \nL 222.950689 220.504648 \nL 217.54375 220.504648 \nz\n\" style=\"fill:#1f77b4;opacity:0.4;\"/>\n   </g>\n   <g id=\"patch_29\">\n    <path clip-path=\"url(#p3a7d0e588b)\" d=\"M 222.950689 224.64 \nL 228.357629 224.64 \nL 228.357629 210.961527 \nL 222.950689 210.961527 \nz\n\" style=\"fill:#1f77b4;opacity:0.4;\"/>\n   </g>\n   <g id=\"patch_30\">\n    <path clip-path=\"url(#p3a7d0e588b)\" d=\"M 228.357629 224.64 \nL 233.764568 224.64 \nL 233.764568 210.325319 \nL 228.357629 210.325319 \nz\n\" style=\"fill:#1f77b4;opacity:0.4;\"/>\n   </g>\n   <g id=\"patch_31\">\n    <path clip-path=\"url(#p3a7d0e588b)\" d=\"M 233.764568 224.64 \nL 239.171508 224.64 \nL 239.171508 205.235655 \nL 233.764568 205.235655 \nz\n\" style=\"fill:#1f77b4;opacity:0.4;\"/>\n   </g>\n   <g id=\"patch_32\">\n    <path clip-path=\"url(#p3a7d0e588b)\" d=\"M 239.171508 224.64 \nL 244.578447 224.64 \nL 244.578447 205.235655 \nL 239.171508 205.235655 \nz\n\" style=\"fill:#1f77b4;opacity:0.4;\"/>\n   </g>\n   <g id=\"patch_33\">\n    <path clip-path=\"url(#p3a7d0e588b)\" d=\"M 244.578447 224.64 \nL 249.985386 224.64 \nL 249.985386 189.330454 \nL 244.578447 189.330454 \nz\n\" style=\"fill:#1f77b4;opacity:0.4;\"/>\n   </g>\n   <g id=\"patch_34\">\n    <path clip-path=\"url(#p3a7d0e588b)\" d=\"M 249.985386 224.64 \nL 255.392326 224.64 \nL 255.392326 189.01235 \nL 249.985386 189.01235 \nz\n\" style=\"fill:#1f77b4;opacity:0.4;\"/>\n   </g>\n   <g id=\"patch_35\">\n    <path clip-path=\"url(#p3a7d0e588b)\" d=\"M 255.392326 224.64 \nL 260.799265 224.64 \nL 260.799265 160.064885 \nL 255.392326 160.064885 \nz\n\" style=\"fill:#1f77b4;opacity:0.4;\"/>\n   </g>\n   <g id=\"patch_36\">\n    <path clip-path=\"url(#p3a7d0e588b)\" d=\"M 260.799265 224.64 \nL 266.206204 224.64 \nL 266.206204 224.64 \nL 260.799265 224.64 \nz\n\" style=\"fill:#1f77b4;opacity:0.4;\"/>\n   </g>\n   <g id=\"patch_37\">\n    <path clip-path=\"url(#p3a7d0e588b)\" d=\"M 266.206204 224.64 \nL 271.613144 224.64 \nL 271.613144 139.706228 \nL 266.206204 139.706228 \nz\n\" style=\"fill:#1f77b4;opacity:0.4;\"/>\n   </g>\n   <g id=\"patch_38\">\n    <path clip-path=\"url(#p3a7d0e588b)\" d=\"M 271.613144 224.64 \nL 277.020083 224.64 \nL 277.020083 134.934668 \nL 271.613144 134.934668 \nz\n\" style=\"fill:#1f77b4;opacity:0.4;\"/>\n   </g>\n   <g id=\"patch_39\">\n    <path clip-path=\"url(#p3a7d0e588b)\" d=\"M 277.020083 224.64 \nL 282.427023 224.64 \nL 282.427023 90.082001 \nL 277.020083 90.082001 \nz\n\" style=\"fill:#1f77b4;opacity:0.4;\"/>\n   </g>\n   <g id=\"patch_40\">\n    <path clip-path=\"url(#p3a7d0e588b)\" d=\"M 282.427023 224.64 \nL 287.833962 224.64 \nL 287.833962 81.811297 \nL 282.427023 81.811297 \nz\n\" style=\"fill:#1f77b4;opacity:0.4;\"/>\n   </g>\n   <g id=\"patch_41\">\n    <path clip-path=\"url(#p3a7d0e588b)\" d=\"M 287.833962 224.64 \nL 293.240901 224.64 \nL 293.240901 57.635392 \nL 287.833962 57.635392 \nz\n\" style=\"fill:#1f77b4;opacity:0.4;\"/>\n   </g>\n   <g id=\"patch_42\">\n    <path clip-path=\"url(#p3a7d0e588b)\" d=\"M 293.240901 224.64 \nL 298.647841 224.64 \nL 298.647841 119.029467 \nL 293.240901 119.029467 \nz\n\" style=\"fill:#1f77b4;opacity:0.4;\"/>\n   </g>\n   <g id=\"patch_43\">\n    <path clip-path=\"url(#p3a7d0e588b)\" d=\"M 298.647841 224.64 \nL 304.05478 224.64 \nL 304.05478 17.554286 \nL 298.647841 17.554286 \nz\n\" style=\"fill:#1f77b4;opacity:0.4;\"/>\n   </g>\n   <g id=\"patch_44\">\n    <path clip-path=\"url(#p3a7d0e588b)\" d=\"M 304.05478 224.64 \nL 309.46172 224.64 \nL 309.46172 224.64 \nL 304.05478 224.64 \nz\n\" style=\"fill:#1f77b4;opacity:0.4;\"/>\n   </g>\n   <g id=\"patch_45\">\n    <path clip-path=\"url(#p3a7d0e588b)\" d=\"M 309.46172 224.64 \nL 314.868659 224.64 \nL 314.868659 83.083713 \nL 309.46172 83.083713 \nz\n\" style=\"fill:#1f77b4;opacity:0.4;\"/>\n   </g>\n   <g id=\"patch_46\">\n    <path clip-path=\"url(#p3a7d0e588b)\" d=\"M 314.868659 224.64 \nL 320.275598 224.64 \nL 320.275598 39.503463 \nL 314.868659 39.503463 \nz\n\" style=\"fill:#1f77b4;opacity:0.4;\"/>\n   </g>\n   <g id=\"patch_47\">\n    <path clip-path=\"url(#p3a7d0e588b)\" d=\"M 320.275598 224.64 \nL 325.682538 224.64 \nL 325.682538 56.999184 \nL 320.275598 56.999184 \nz\n\" style=\"fill:#1f77b4;opacity:0.4;\"/>\n   </g>\n   <g id=\"patch_48\">\n    <path clip-path=\"url(#p3a7d0e588b)\" d=\"M 325.682538 224.64 \nL 331.089477 224.64 \nL 331.089477 54.136248 \nL 325.682538 54.136248 \nz\n\" style=\"fill:#1f77b4;opacity:0.4;\"/>\n   </g>\n   <g id=\"patch_49\">\n    <path clip-path=\"url(#p3a7d0e588b)\" d=\"M 331.089477 224.64 \nL 336.496416 224.64 \nL 336.496416 104.714786 \nL 331.089477 104.714786 \nz\n\" style=\"fill:#1f77b4;opacity:0.4;\"/>\n   </g>\n   <g id=\"patch_50\">\n    <path clip-path=\"url(#p3a7d0e588b)\" d=\"M 336.496416 224.64 \nL 341.903356 224.64 \nL 341.903356 148.295036 \nL 336.496416 148.295036 \nz\n\" style=\"fill:#1f77b4;opacity:0.4;\"/>\n   </g>\n   <g id=\"patch_51\">\n    <path clip-path=\"url(#p3a7d0e588b)\" d=\"M 341.903356 224.64 \nL 347.310295 224.64 \nL 347.310295 162.291613 \nL 341.903356 162.291613 \nz\n\" style=\"fill:#1f77b4;opacity:0.4;\"/>\n   </g>\n   <g id=\"patch_52\">\n    <path clip-path=\"url(#p3a7d0e588b)\" d=\"M 347.310295 224.64 \nL 352.717235 224.64 \nL 352.717235 206.189967 \nL 347.310295 206.189967 \nz\n\" style=\"fill:#1f77b4;opacity:0.4;\"/>\n   </g>\n   <g id=\"matplotlib.axis_1\">\n    <g id=\"xtick_1\">\n     <g id=\"line2d_1\">\n      <defs>\n       <path d=\"M 0 0 \nL 0 3.5 \n\" id=\"m525f0282a8\" style=\"stroke:#000000;stroke-width:0.8;\"/>\n      </defs>\n      <g>\n       <use style=\"stroke:#000000;stroke-width:0.8;\" x=\"51.649019\" xlink:href=\"#m525f0282a8\" y=\"224.64\"/>\n      </g>\n     </g>\n     <g id=\"text_1\">\n      <!-- 1970 -->\n      <g transform=\"translate(38.924019 239.238437)scale(0.1 -0.1)\">\n       <defs>\n        <path d=\"M 794 531 \nL 1825 531 \nL 1825 4091 \nL 703 3866 \nL 703 4441 \nL 1819 4666 \nL 2450 4666 \nL 2450 531 \nL 3481 531 \nL 3481 0 \nL 794 0 \nL 794 531 \nz\n\" id=\"DejaVuSans-31\" transform=\"scale(0.015625)\"/>\n        <path d=\"M 703 97 \nL 703 672 \nQ 941 559 1184 500 \nQ 1428 441 1663 441 \nQ 2288 441 2617 861 \nQ 2947 1281 2994 2138 \nQ 2813 1869 2534 1725 \nQ 2256 1581 1919 1581 \nQ 1219 1581 811 2004 \nQ 403 2428 403 3163 \nQ 403 3881 828 4315 \nQ 1253 4750 1959 4750 \nQ 2769 4750 3195 4129 \nQ 3622 3509 3622 2328 \nQ 3622 1225 3098 567 \nQ 2575 -91 1691 -91 \nQ 1453 -91 1209 -44 \nQ 966 3 703 97 \nz\nM 1959 2075 \nQ 2384 2075 2632 2365 \nQ 2881 2656 2881 3163 \nQ 2881 3666 2632 3958 \nQ 2384 4250 1959 4250 \nQ 1534 4250 1286 3958 \nQ 1038 3666 1038 3163 \nQ 1038 2656 1286 2365 \nQ 1534 2075 1959 2075 \nz\n\" id=\"DejaVuSans-39\" transform=\"scale(0.015625)\"/>\n        <path d=\"M 525 4666 \nL 3525 4666 \nL 3525 4397 \nL 1831 0 \nL 1172 0 \nL 2766 4134 \nL 525 4134 \nL 525 4666 \nz\n\" id=\"DejaVuSans-37\" transform=\"scale(0.015625)\"/>\n        <path d=\"M 2034 4250 \nQ 1547 4250 1301 3770 \nQ 1056 3291 1056 2328 \nQ 1056 1369 1301 889 \nQ 1547 409 2034 409 \nQ 2525 409 2770 889 \nQ 3016 1369 3016 2328 \nQ 3016 3291 2770 3770 \nQ 2525 4250 2034 4250 \nz\nM 2034 4750 \nQ 2819 4750 3233 4129 \nQ 3647 3509 3647 2328 \nQ 3647 1150 3233 529 \nQ 2819 -91 2034 -91 \nQ 1250 -91 836 529 \nQ 422 1150 422 2328 \nQ 422 3509 836 4129 \nQ 1250 4750 2034 4750 \nz\n\" id=\"DejaVuSans-30\" transform=\"scale(0.015625)\"/>\n       </defs>\n       <use xlink:href=\"#DejaVuSans-31\"/>\n       <use x=\"63.623047\" xlink:href=\"#DejaVuSans-39\"/>\n       <use x=\"127.246094\" xlink:href=\"#DejaVuSans-37\"/>\n       <use x=\"190.869141\" xlink:href=\"#DejaVuSans-30\"/>\n      </g>\n     </g>\n    </g>\n    <g id=\"xtick_2\">\n     <g id=\"line2d_2\">\n      <g>\n       <use style=\"stroke:#000000;stroke-width:0.8;\" x=\"113.091512\" xlink:href=\"#m525f0282a8\" y=\"224.64\"/>\n      </g>\n     </g>\n     <g id=\"text_2\">\n      <!-- 1980 -->\n      <g transform=\"translate(100.366512 239.238437)scale(0.1 -0.1)\">\n       <defs>\n        <path d=\"M 2034 2216 \nQ 1584 2216 1326 1975 \nQ 1069 1734 1069 1313 \nQ 1069 891 1326 650 \nQ 1584 409 2034 409 \nQ 2484 409 2743 651 \nQ 3003 894 3003 1313 \nQ 3003 1734 2745 1975 \nQ 2488 2216 2034 2216 \nz\nM 1403 2484 \nQ 997 2584 770 2862 \nQ 544 3141 544 3541 \nQ 544 4100 942 4425 \nQ 1341 4750 2034 4750 \nQ 2731 4750 3128 4425 \nQ 3525 4100 3525 3541 \nQ 3525 3141 3298 2862 \nQ 3072 2584 2669 2484 \nQ 3125 2378 3379 2068 \nQ 3634 1759 3634 1313 \nQ 3634 634 3220 271 \nQ 2806 -91 2034 -91 \nQ 1263 -91 848 271 \nQ 434 634 434 1313 \nQ 434 1759 690 2068 \nQ 947 2378 1403 2484 \nz\nM 1172 3481 \nQ 1172 3119 1398 2916 \nQ 1625 2713 2034 2713 \nQ 2441 2713 2670 2916 \nQ 2900 3119 2900 3481 \nQ 2900 3844 2670 4047 \nQ 2441 4250 2034 4250 \nQ 1625 4250 1398 4047 \nQ 1172 3844 1172 3481 \nz\n\" id=\"DejaVuSans-38\" transform=\"scale(0.015625)\"/>\n       </defs>\n       <use xlink:href=\"#DejaVuSans-31\"/>\n       <use x=\"63.623047\" xlink:href=\"#DejaVuSans-39\"/>\n       <use x=\"127.246094\" xlink:href=\"#DejaVuSans-38\"/>\n       <use x=\"190.869141\" xlink:href=\"#DejaVuSans-30\"/>\n      </g>\n     </g>\n    </g>\n    <g id=\"xtick_3\">\n     <g id=\"line2d_3\">\n      <g>\n       <use style=\"stroke:#000000;stroke-width:0.8;\" x=\"174.534005\" xlink:href=\"#m525f0282a8\" y=\"224.64\"/>\n      </g>\n     </g>\n     <g id=\"text_3\">\n      <!-- 1990 -->\n      <g transform=\"translate(161.809005 239.238437)scale(0.1 -0.1)\">\n       <use xlink:href=\"#DejaVuSans-31\"/>\n       <use x=\"63.623047\" xlink:href=\"#DejaVuSans-39\"/>\n       <use x=\"127.246094\" xlink:href=\"#DejaVuSans-39\"/>\n       <use x=\"190.869141\" xlink:href=\"#DejaVuSans-30\"/>\n      </g>\n     </g>\n    </g>\n    <g id=\"xtick_4\">\n     <g id=\"line2d_4\">\n      <g>\n       <use style=\"stroke:#000000;stroke-width:0.8;\" x=\"235.976498\" xlink:href=\"#m525f0282a8\" y=\"224.64\"/>\n      </g>\n     </g>\n     <g id=\"text_4\">\n      <!-- 2000 -->\n      <g transform=\"translate(223.251498 239.238437)scale(0.1 -0.1)\">\n       <defs>\n        <path d=\"M 1228 531 \nL 3431 531 \nL 3431 0 \nL 469 0 \nL 469 531 \nQ 828 903 1448 1529 \nQ 2069 2156 2228 2338 \nQ 2531 2678 2651 2914 \nQ 2772 3150 2772 3378 \nQ 2772 3750 2511 3984 \nQ 2250 4219 1831 4219 \nQ 1534 4219 1204 4116 \nQ 875 4013 500 3803 \nL 500 4441 \nQ 881 4594 1212 4672 \nQ 1544 4750 1819 4750 \nQ 2544 4750 2975 4387 \nQ 3406 4025 3406 3419 \nQ 3406 3131 3298 2873 \nQ 3191 2616 2906 2266 \nQ 2828 2175 2409 1742 \nQ 1991 1309 1228 531 \nz\n\" id=\"DejaVuSans-32\" transform=\"scale(0.015625)\"/>\n       </defs>\n       <use xlink:href=\"#DejaVuSans-32\"/>\n       <use x=\"63.623047\" xlink:href=\"#DejaVuSans-30\"/>\n       <use x=\"127.246094\" xlink:href=\"#DejaVuSans-30\"/>\n       <use x=\"190.869141\" xlink:href=\"#DejaVuSans-30\"/>\n      </g>\n     </g>\n    </g>\n    <g id=\"xtick_5\">\n     <g id=\"line2d_5\">\n      <g>\n       <use style=\"stroke:#000000;stroke-width:0.8;\" x=\"297.418991\" xlink:href=\"#m525f0282a8\" y=\"224.64\"/>\n      </g>\n     </g>\n     <g id=\"text_5\">\n      <!-- 2010 -->\n      <g transform=\"translate(284.693991 239.238437)scale(0.1 -0.1)\">\n       <use xlink:href=\"#DejaVuSans-32\"/>\n       <use x=\"63.623047\" xlink:href=\"#DejaVuSans-30\"/>\n       <use x=\"127.246094\" xlink:href=\"#DejaVuSans-31\"/>\n       <use x=\"190.869141\" xlink:href=\"#DejaVuSans-30\"/>\n      </g>\n     </g>\n    </g>\n    <g id=\"xtick_6\">\n     <g id=\"line2d_6\">\n      <g>\n       <use style=\"stroke:#000000;stroke-width:0.8;\" x=\"358.861484\" xlink:href=\"#m525f0282a8\" y=\"224.64\"/>\n      </g>\n     </g>\n     <g id=\"text_6\">\n      <!-- 2020 -->\n      <g transform=\"translate(346.136484 239.238437)scale(0.1 -0.1)\">\n       <use xlink:href=\"#DejaVuSans-32\"/>\n       <use x=\"63.623047\" xlink:href=\"#DejaVuSans-30\"/>\n       <use x=\"127.246094\" xlink:href=\"#DejaVuSans-32\"/>\n       <use x=\"190.869141\" xlink:href=\"#DejaVuSans-30\"/>\n      </g>\n     </g>\n    </g>\n    <g id=\"text_7\">\n     <!-- modelDate -->\n     <g transform=\"translate(190.023438 252.916562)scale(0.1 -0.1)\">\n      <defs>\n       <path d=\"M 3328 2828 \nQ 3544 3216 3844 3400 \nQ 4144 3584 4550 3584 \nQ 5097 3584 5394 3201 \nQ 5691 2819 5691 2113 \nL 5691 0 \nL 5113 0 \nL 5113 2094 \nQ 5113 2597 4934 2840 \nQ 4756 3084 4391 3084 \nQ 3944 3084 3684 2787 \nQ 3425 2491 3425 1978 \nL 3425 0 \nL 2847 0 \nL 2847 2094 \nQ 2847 2600 2669 2842 \nQ 2491 3084 2119 3084 \nQ 1678 3084 1418 2786 \nQ 1159 2488 1159 1978 \nL 1159 0 \nL 581 0 \nL 581 3500 \nL 1159 3500 \nL 1159 2956 \nQ 1356 3278 1631 3431 \nQ 1906 3584 2284 3584 \nQ 2666 3584 2933 3390 \nQ 3200 3197 3328 2828 \nz\n\" id=\"DejaVuSans-6d\" transform=\"scale(0.015625)\"/>\n       <path d=\"M 1959 3097 \nQ 1497 3097 1228 2736 \nQ 959 2375 959 1747 \nQ 959 1119 1226 758 \nQ 1494 397 1959 397 \nQ 2419 397 2687 759 \nQ 2956 1122 2956 1747 \nQ 2956 2369 2687 2733 \nQ 2419 3097 1959 3097 \nz\nM 1959 3584 \nQ 2709 3584 3137 3096 \nQ 3566 2609 3566 1747 \nQ 3566 888 3137 398 \nQ 2709 -91 1959 -91 \nQ 1206 -91 779 398 \nQ 353 888 353 1747 \nQ 353 2609 779 3096 \nQ 1206 3584 1959 3584 \nz\n\" id=\"DejaVuSans-6f\" transform=\"scale(0.015625)\"/>\n       <path d=\"M 2906 2969 \nL 2906 4863 \nL 3481 4863 \nL 3481 0 \nL 2906 0 \nL 2906 525 \nQ 2725 213 2448 61 \nQ 2172 -91 1784 -91 \nQ 1150 -91 751 415 \nQ 353 922 353 1747 \nQ 353 2572 751 3078 \nQ 1150 3584 1784 3584 \nQ 2172 3584 2448 3432 \nQ 2725 3281 2906 2969 \nz\nM 947 1747 \nQ 947 1113 1208 752 \nQ 1469 391 1925 391 \nQ 2381 391 2643 752 \nQ 2906 1113 2906 1747 \nQ 2906 2381 2643 2742 \nQ 2381 3103 1925 3103 \nQ 1469 3103 1208 2742 \nQ 947 2381 947 1747 \nz\n\" id=\"DejaVuSans-64\" transform=\"scale(0.015625)\"/>\n       <path d=\"M 3597 1894 \nL 3597 1613 \nL 953 1613 \nQ 991 1019 1311 708 \nQ 1631 397 2203 397 \nQ 2534 397 2845 478 \nQ 3156 559 3463 722 \nL 3463 178 \nQ 3153 47 2828 -22 \nQ 2503 -91 2169 -91 \nQ 1331 -91 842 396 \nQ 353 884 353 1716 \nQ 353 2575 817 3079 \nQ 1281 3584 2069 3584 \nQ 2775 3584 3186 3129 \nQ 3597 2675 3597 1894 \nz\nM 3022 2063 \nQ 3016 2534 2758 2815 \nQ 2500 3097 2075 3097 \nQ 1594 3097 1305 2825 \nQ 1016 2553 972 2059 \nL 3022 2063 \nz\n\" id=\"DejaVuSans-65\" transform=\"scale(0.015625)\"/>\n       <path d=\"M 603 4863 \nL 1178 4863 \nL 1178 0 \nL 603 0 \nL 603 4863 \nz\n\" id=\"DejaVuSans-6c\" transform=\"scale(0.015625)\"/>\n       <path d=\"M 1259 4147 \nL 1259 519 \nL 2022 519 \nQ 2988 519 3436 956 \nQ 3884 1394 3884 2338 \nQ 3884 3275 3436 3711 \nQ 2988 4147 2022 4147 \nL 1259 4147 \nz\nM 628 4666 \nL 1925 4666 \nQ 3281 4666 3915 4102 \nQ 4550 3538 4550 2338 \nQ 4550 1131 3912 565 \nQ 3275 0 1925 0 \nL 628 0 \nL 628 4666 \nz\n\" id=\"DejaVuSans-44\" transform=\"scale(0.015625)\"/>\n       <path d=\"M 2194 1759 \nQ 1497 1759 1228 1600 \nQ 959 1441 959 1056 \nQ 959 750 1161 570 \nQ 1363 391 1709 391 \nQ 2188 391 2477 730 \nQ 2766 1069 2766 1631 \nL 2766 1759 \nL 2194 1759 \nz\nM 3341 1997 \nL 3341 0 \nL 2766 0 \nL 2766 531 \nQ 2569 213 2275 61 \nQ 1981 -91 1556 -91 \nQ 1019 -91 701 211 \nQ 384 513 384 1019 \nQ 384 1609 779 1909 \nQ 1175 2209 1959 2209 \nL 2766 2209 \nL 2766 2266 \nQ 2766 2663 2505 2880 \nQ 2244 3097 1772 3097 \nQ 1472 3097 1187 3025 \nQ 903 2953 641 2809 \nL 641 3341 \nQ 956 3463 1253 3523 \nQ 1550 3584 1831 3584 \nQ 2591 3584 2966 3190 \nQ 3341 2797 3341 1997 \nz\n\" id=\"DejaVuSans-61\" transform=\"scale(0.015625)\"/>\n       <path d=\"M 1172 4494 \nL 1172 3500 \nL 2356 3500 \nL 2356 3053 \nL 1172 3053 \nL 1172 1153 \nQ 1172 725 1289 603 \nQ 1406 481 1766 481 \nL 2356 481 \nL 2356 0 \nL 1766 0 \nQ 1100 0 847 248 \nQ 594 497 594 1153 \nL 594 3053 \nL 172 3053 \nL 172 3500 \nL 594 3500 \nL 594 4494 \nL 1172 4494 \nz\n\" id=\"DejaVuSans-74\" transform=\"scale(0.015625)\"/>\n      </defs>\n      <use xlink:href=\"#DejaVuSans-6d\"/>\n      <use x=\"97.412109\" xlink:href=\"#DejaVuSans-6f\"/>\n      <use x=\"158.59375\" xlink:href=\"#DejaVuSans-64\"/>\n      <use x=\"222.070312\" xlink:href=\"#DejaVuSans-65\"/>\n      <use x=\"283.59375\" xlink:href=\"#DejaVuSans-6c\"/>\n      <use x=\"311.376953\" xlink:href=\"#DejaVuSans-44\"/>\n      <use x=\"388.378906\" xlink:href=\"#DejaVuSans-61\"/>\n      <use x=\"449.658203\" xlink:href=\"#DejaVuSans-74\"/>\n      <use x=\"488.867188\" xlink:href=\"#DejaVuSans-65\"/>\n     </g>\n    </g>\n   </g>\n   <g id=\"matplotlib.axis_2\">\n    <g id=\"ytick_1\">\n     <g id=\"line2d_7\">\n      <defs>\n       <path d=\"M 0 0 \nL -3.5 0 \n\" id=\"mc2f2082a5a\" style=\"stroke:#000000;stroke-width:0.8;\"/>\n      </defs>\n      <g>\n       <use style=\"stroke:#000000;stroke-width:0.8;\" x=\"50.14375\" xlink:href=\"#mc2f2082a5a\" y=\"224.64\"/>\n      </g>\n     </g>\n     <g id=\"text_8\">\n      <!-- 0.00 -->\n      <g transform=\"translate(20.878125 228.439219)scale(0.1 -0.1)\">\n       <defs>\n        <path d=\"M 684 794 \nL 1344 794 \nL 1344 0 \nL 684 0 \nL 684 794 \nz\n\" id=\"DejaVuSans-2e\" transform=\"scale(0.015625)\"/>\n       </defs>\n       <use xlink:href=\"#DejaVuSans-30\"/>\n       <use x=\"63.623047\" xlink:href=\"#DejaVuSans-2e\"/>\n       <use x=\"95.410156\" xlink:href=\"#DejaVuSans-30\"/>\n       <use x=\"159.033203\" xlink:href=\"#DejaVuSans-30\"/>\n      </g>\n     </g>\n    </g>\n    <g id=\"ytick_2\">\n     <g id=\"line2d_8\">\n      <g>\n       <use style=\"stroke:#000000;stroke-width:0.8;\" x=\"50.14375\" xlink:href=\"#mc2f2082a5a\" y=\"187.22995\"/>\n      </g>\n     </g>\n     <g id=\"text_9\">\n      <!-- 0.02 -->\n      <g transform=\"translate(20.878125 191.029169)scale(0.1 -0.1)\">\n       <use xlink:href=\"#DejaVuSans-30\"/>\n       <use x=\"63.623047\" xlink:href=\"#DejaVuSans-2e\"/>\n       <use x=\"95.410156\" xlink:href=\"#DejaVuSans-30\"/>\n       <use x=\"159.033203\" xlink:href=\"#DejaVuSans-32\"/>\n      </g>\n     </g>\n    </g>\n    <g id=\"ytick_3\">\n     <g id=\"line2d_9\">\n      <g>\n       <use style=\"stroke:#000000;stroke-width:0.8;\" x=\"50.14375\" xlink:href=\"#mc2f2082a5a\" y=\"149.8199\"/>\n      </g>\n     </g>\n     <g id=\"text_10\">\n      <!-- 0.04 -->\n      <g transform=\"translate(20.878125 153.619118)scale(0.1 -0.1)\">\n       <defs>\n        <path d=\"M 2419 4116 \nL 825 1625 \nL 2419 1625 \nL 2419 4116 \nz\nM 2253 4666 \nL 3047 4666 \nL 3047 1625 \nL 3713 1625 \nL 3713 1100 \nL 3047 1100 \nL 3047 0 \nL 2419 0 \nL 2419 1100 \nL 313 1100 \nL 313 1709 \nL 2253 4666 \nz\n\" id=\"DejaVuSans-34\" transform=\"scale(0.015625)\"/>\n       </defs>\n       <use xlink:href=\"#DejaVuSans-30\"/>\n       <use x=\"63.623047\" xlink:href=\"#DejaVuSans-2e\"/>\n       <use x=\"95.410156\" xlink:href=\"#DejaVuSans-30\"/>\n       <use x=\"159.033203\" xlink:href=\"#DejaVuSans-34\"/>\n      </g>\n     </g>\n    </g>\n    <g id=\"ytick_4\">\n     <g id=\"line2d_10\">\n      <g>\n       <use style=\"stroke:#000000;stroke-width:0.8;\" x=\"50.14375\" xlink:href=\"#mc2f2082a5a\" y=\"112.409849\"/>\n      </g>\n     </g>\n     <g id=\"text_11\">\n      <!-- 0.06 -->\n      <g transform=\"translate(20.878125 116.209068)scale(0.1 -0.1)\">\n       <defs>\n        <path d=\"M 2113 2584 \nQ 1688 2584 1439 2293 \nQ 1191 2003 1191 1497 \nQ 1191 994 1439 701 \nQ 1688 409 2113 409 \nQ 2538 409 2786 701 \nQ 3034 994 3034 1497 \nQ 3034 2003 2786 2293 \nQ 2538 2584 2113 2584 \nz\nM 3366 4563 \nL 3366 3988 \nQ 3128 4100 2886 4159 \nQ 2644 4219 2406 4219 \nQ 1781 4219 1451 3797 \nQ 1122 3375 1075 2522 \nQ 1259 2794 1537 2939 \nQ 1816 3084 2150 3084 \nQ 2853 3084 3261 2657 \nQ 3669 2231 3669 1497 \nQ 3669 778 3244 343 \nQ 2819 -91 2113 -91 \nQ 1303 -91 875 529 \nQ 447 1150 447 2328 \nQ 447 3434 972 4092 \nQ 1497 4750 2381 4750 \nQ 2619 4750 2861 4703 \nQ 3103 4656 3366 4563 \nz\n\" id=\"DejaVuSans-36\" transform=\"scale(0.015625)\"/>\n       </defs>\n       <use xlink:href=\"#DejaVuSans-30\"/>\n       <use x=\"63.623047\" xlink:href=\"#DejaVuSans-2e\"/>\n       <use x=\"95.410156\" xlink:href=\"#DejaVuSans-30\"/>\n       <use x=\"159.033203\" xlink:href=\"#DejaVuSans-36\"/>\n      </g>\n     </g>\n    </g>\n    <g id=\"ytick_5\">\n     <g id=\"line2d_11\">\n      <g>\n       <use style=\"stroke:#000000;stroke-width:0.8;\" x=\"50.14375\" xlink:href=\"#mc2f2082a5a\" y=\"74.999799\"/>\n      </g>\n     </g>\n     <g id=\"text_12\">\n      <!-- 0.08 -->\n      <g transform=\"translate(20.878125 78.799018)scale(0.1 -0.1)\">\n       <use xlink:href=\"#DejaVuSans-30\"/>\n       <use x=\"63.623047\" xlink:href=\"#DejaVuSans-2e\"/>\n       <use x=\"95.410156\" xlink:href=\"#DejaVuSans-30\"/>\n       <use x=\"159.033203\" xlink:href=\"#DejaVuSans-38\"/>\n      </g>\n     </g>\n    </g>\n    <g id=\"ytick_6\">\n     <g id=\"line2d_12\">\n      <g>\n       <use style=\"stroke:#000000;stroke-width:0.8;\" x=\"50.14375\" xlink:href=\"#mc2f2082a5a\" y=\"37.589749\"/>\n      </g>\n     </g>\n     <g id=\"text_13\">\n      <!-- 0.10 -->\n      <g transform=\"translate(20.878125 41.388968)scale(0.1 -0.1)\">\n       <use xlink:href=\"#DejaVuSans-30\"/>\n       <use x=\"63.623047\" xlink:href=\"#DejaVuSans-2e\"/>\n       <use x=\"95.410156\" xlink:href=\"#DejaVuSans-31\"/>\n       <use x=\"159.033203\" xlink:href=\"#DejaVuSans-30\"/>\n      </g>\n     </g>\n    </g>\n    <g id=\"text_14\">\n     <!-- Density -->\n     <g transform=\"translate(14.798438 134.928594)rotate(-90)scale(0.1 -0.1)\">\n      <defs>\n       <path d=\"M 3513 2113 \nL 3513 0 \nL 2938 0 \nL 2938 2094 \nQ 2938 2591 2744 2837 \nQ 2550 3084 2163 3084 \nQ 1697 3084 1428 2787 \nQ 1159 2491 1159 1978 \nL 1159 0 \nL 581 0 \nL 581 3500 \nL 1159 3500 \nL 1159 2956 \nQ 1366 3272 1645 3428 \nQ 1925 3584 2291 3584 \nQ 2894 3584 3203 3211 \nQ 3513 2838 3513 2113 \nz\n\" id=\"DejaVuSans-6e\" transform=\"scale(0.015625)\"/>\n       <path d=\"M 2834 3397 \nL 2834 2853 \nQ 2591 2978 2328 3040 \nQ 2066 3103 1784 3103 \nQ 1356 3103 1142 2972 \nQ 928 2841 928 2578 \nQ 928 2378 1081 2264 \nQ 1234 2150 1697 2047 \nL 1894 2003 \nQ 2506 1872 2764 1633 \nQ 3022 1394 3022 966 \nQ 3022 478 2636 193 \nQ 2250 -91 1575 -91 \nQ 1294 -91 989 -36 \nQ 684 19 347 128 \nL 347 722 \nQ 666 556 975 473 \nQ 1284 391 1588 391 \nQ 1994 391 2212 530 \nQ 2431 669 2431 922 \nQ 2431 1156 2273 1281 \nQ 2116 1406 1581 1522 \nL 1381 1569 \nQ 847 1681 609 1914 \nQ 372 2147 372 2553 \nQ 372 3047 722 3315 \nQ 1072 3584 1716 3584 \nQ 2034 3584 2315 3537 \nQ 2597 3491 2834 3397 \nz\n\" id=\"DejaVuSans-73\" transform=\"scale(0.015625)\"/>\n       <path d=\"M 603 3500 \nL 1178 3500 \nL 1178 0 \nL 603 0 \nL 603 3500 \nz\nM 603 4863 \nL 1178 4863 \nL 1178 4134 \nL 603 4134 \nL 603 4863 \nz\n\" id=\"DejaVuSans-69\" transform=\"scale(0.015625)\"/>\n       <path d=\"M 2059 -325 \nQ 1816 -950 1584 -1140 \nQ 1353 -1331 966 -1331 \nL 506 -1331 \nL 506 -850 \nL 844 -850 \nQ 1081 -850 1212 -737 \nQ 1344 -625 1503 -206 \nL 1606 56 \nL 191 3500 \nL 800 3500 \nL 1894 763 \nL 2988 3500 \nL 3597 3500 \nL 2059 -325 \nz\n\" id=\"DejaVuSans-79\" transform=\"scale(0.015625)\"/>\n      </defs>\n      <use xlink:href=\"#DejaVuSans-44\"/>\n      <use x=\"77.001953\" xlink:href=\"#DejaVuSans-65\"/>\n      <use x=\"138.525391\" xlink:href=\"#DejaVuSans-6e\"/>\n      <use x=\"201.904297\" xlink:href=\"#DejaVuSans-73\"/>\n      <use x=\"254.003906\" xlink:href=\"#DejaVuSans-69\"/>\n      <use x=\"281.787109\" xlink:href=\"#DejaVuSans-74\"/>\n      <use x=\"320.996094\" xlink:href=\"#DejaVuSans-79\"/>\n     </g>\n    </g>\n   </g>\n   <g id=\"line2d_13\">\n    <path clip-path=\"url(#p3a7d0e588b)\" d=\"M 65.361932 224.638626 \nL 77.597656 224.533508 \nL 94.421776 224.283536 \nL 105.128035 224.237467 \nL 118.893225 224.042398 \nL 123.481621 223.857885 \nL 128.070018 223.901223 \nL 132.658414 223.960965 \nL 147.953069 223.620637 \nL 157.129862 223.141554 \nL 161.718259 223.202525 \nL 163.247724 223.094587 \nL 164.77719 222.833278 \nL 166.306655 222.392045 \nL 169.365586 221.073526 \nL 172.424517 219.772689 \nL 173.953983 219.41257 \nL 175.483448 219.339543 \nL 177.012914 219.544434 \nL 180.071845 220.473739 \nL 183.130776 221.445252 \nL 186.189707 222.049524 \nL 189.248638 222.269564 \nL 190.778104 222.226388 \nL 192.307569 222.063582 \nL 195.3665 221.4034 \nL 198.425431 220.580888 \nL 199.954897 220.261866 \nL 201.484362 220.065213 \nL 203.013828 220.002275 \nL 206.072759 220.187107 \nL 209.13169 220.474867 \nL 210.661155 220.521604 \nL 212.190621 220.436027 \nL 213.720086 220.177917 \nL 215.249552 219.721952 \nL 216.779017 219.064144 \nL 218.308483 218.226424 \nL 221.367414 216.21649 \nL 224.426345 214.182598 \nL 227.485276 212.434212 \nL 232.073672 210.205115 \nL 235.132603 208.713637 \nL 238.191534 206.9488 \nL 239.721 205.850324 \nL 241.250465 204.552243 \nL 242.779931 203.042327 \nL 245.838862 199.489158 \nL 248.897793 195.448345 \nL 250.427258 193.212995 \nL 251.956724 190.72541 \nL 253.486189 187.880177 \nL 255.015655 184.602195 \nL 256.54512 180.882523 \nL 259.604052 172.464319 \nL 264.192448 159.594063 \nL 270.31031 143.782975 \nL 271.839776 139.318503 \nL 274.898707 129.175206 \nL 279.487103 113.132116 \nL 281.016569 108.418789 \nL 282.546034 104.281182 \nL 284.0755 100.812604 \nL 285.604965 98.10716 \nL 287.134431 96.267205 \nL 288.663896 95.359214 \nL 290.193362 95.326164 \nL 293.252293 96.59263 \nL 294.781758 96.771109 \nL 296.311224 95.87645 \nL 297.840689 93.641891 \nL 299.370155 90.238946 \nL 302.429086 82.454134 \nL 303.958551 79.535271 \nL 305.488017 77.817351 \nL 307.017482 77.181437 \nL 310.076413 77.249166 \nL 311.605879 77.005893 \nL 313.135344 76.330501 \nL 316.194275 74.469736 \nL 317.723741 73.905406 \nL 319.253206 73.903362 \nL 320.782672 74.567047 \nL 322.312137 75.940208 \nL 323.841603 78.074555 \nL 325.371068 81.066389 \nL 326.900534 85.041275 \nL 328.429999 90.098371 \nL 329.959465 96.247116 \nL 331.48893 103.369645 \nL 334.547861 119.495631 \nL 337.606792 135.976158 \nL 340.665724 150.944517 \nL 343.724655 164.27237 \nL 351.371982 196.226463 \nL 352.901448 202.105693 \nL 354.430913 207.395717 \nL 355.960379 211.944515 \nL 357.489844 215.674815 \nL 359.01931 218.586671 \nL 360.548775 220.74518 \nL 362.078241 222.260246 \nL 363.607706 223.26389 \nL 365.137172 223.889287 \nL 366.666637 224.254728 \nL 369.725568 224.556299 \nL 369.725568 224.556299 \n\" style=\"fill:none;stroke:#1f77b4;stroke-linecap:square;stroke-width:1.5;\"/>\n   </g>\n   <g id=\"patch_53\">\n    <path d=\"M 50.14375 224.64 \nL 50.14375 7.2 \n\" style=\"fill:none;stroke:#000000;stroke-linecap:square;stroke-linejoin:miter;stroke-width:0.8;\"/>\n   </g>\n   <g id=\"patch_54\">\n    <path d=\"M 384.94375 224.64 \nL 384.94375 7.2 \n\" style=\"fill:none;stroke:#000000;stroke-linecap:square;stroke-linejoin:miter;stroke-width:0.8;\"/>\n   </g>\n   <g id=\"patch_55\">\n    <path d=\"M 50.14375 224.64 \nL 384.94375 224.64 \n\" style=\"fill:none;stroke:#000000;stroke-linecap:square;stroke-linejoin:miter;stroke-width:0.8;\"/>\n   </g>\n   <g id=\"patch_56\">\n    <path d=\"M 50.14375 7.2 \nL 384.94375 7.2 \n\" style=\"fill:none;stroke:#000000;stroke-linecap:square;stroke-linejoin:miter;stroke-width:0.8;\"/>\n   </g>\n  </g>\n </g>\n <defs>\n  <clipPath id=\"p3a7d0e588b\">\n   <rect height=\"217.44\" width=\"334.8\" x=\"50.14375\" y=\"7.2\"/>\n  </clipPath>\n </defs>\n</svg>\n"
     },
     "metadata": {
      "needs_background": "light"
     },
     "output_type": "display_data"
    }
   ],
   "source": [
    "ax = sns.distplot(train['modelDate'])"
   ]
  },
  {
   "cell_type": "code",
   "execution_count": 49,
   "metadata": {
    "execution": {
     "iopub.execute_input": "2020-12-02T17:27:26.674312Z",
     "iopub.status.busy": "2020-12-02T17:27:26.673368Z",
     "iopub.status.idle": "2020-12-02T17:27:26.934460Z",
     "shell.execute_reply": "2020-12-02T17:27:26.935028Z"
    },
    "papermill": {
     "duration": 0.367801,
     "end_time": "2020-12-02T17:27:26.935186",
     "exception": false,
     "start_time": "2020-12-02T17:27:26.567385",
     "status": "completed"
    },
    "tags": []
   },
   "outputs": [
    {
     "name": "stderr",
     "output_type": "stream",
     "text": [
      "/home/as/venv/tfgpu/lib/python3.8/site-packages/seaborn/distributions.py:2619: FutureWarning: `distplot` is a deprecated function and will be removed in a future version. Please adapt your code to use either `displot` (a figure-level function with similar flexibility) or `histplot` (an axes-level function for histograms).\n",
      "  warnings.warn(msg, FutureWarning)\n"
     ]
    },
    {
     "data": {
      "text/plain": "<Figure size 432x288 with 1 Axes>",
      "image/svg+xml": "<?xml version=\"1.0\" encoding=\"utf-8\" standalone=\"no\"?>\n<!DOCTYPE svg PUBLIC \"-//W3C//DTD SVG 1.1//EN\"\n  \"http://www.w3.org/Graphics/SVG/1.1/DTD/svg11.dtd\">\n<svg height=\"262.19625pt\" version=\"1.1\" viewBox=\"0 0 392.14375 262.19625\" width=\"392.14375pt\" xmlns=\"http://www.w3.org/2000/svg\" xmlns:xlink=\"http://www.w3.org/1999/xlink\">\n <metadata>\n  <rdf:RDF xmlns:cc=\"http://creativecommons.org/ns#\" xmlns:dc=\"http://purl.org/dc/elements/1.1/\" xmlns:rdf=\"http://www.w3.org/1999/02/22-rdf-syntax-ns#\">\n   <cc:Work>\n    <dc:type rdf:resource=\"http://purl.org/dc/dcmitype/StillImage\"/>\n    <dc:date>2021-11-12T17:35:08.520473</dc:date>\n    <dc:format>image/svg+xml</dc:format>\n    <dc:creator>\n     <cc:Agent>\n      <dc:title>Matplotlib v3.4.3, https://matplotlib.org/</dc:title>\n     </cc:Agent>\n    </dc:creator>\n   </cc:Work>\n  </rdf:RDF>\n </metadata>\n <defs>\n  <style type=\"text/css\">*{stroke-linecap:butt;stroke-linejoin:round;}</style>\n </defs>\n <g id=\"figure_1\">\n  <g id=\"patch_1\">\n   <path d=\"M 0 262.19625 \nL 392.14375 262.19625 \nL 392.14375 0 \nL 0 0 \nz\n\" style=\"fill:none;\"/>\n  </g>\n  <g id=\"axes_1\">\n   <g id=\"patch_2\">\n    <path d=\"M 50.14375 224.64 \nL 384.94375 224.64 \nL 384.94375 7.2 \nL 50.14375 7.2 \nz\n\" style=\"fill:#ffffff;\"/>\n   </g>\n   <g id=\"patch_3\">\n    <path clip-path=\"url(#pdd9db249e2)\" d=\"M 83.696078 224.64 \nL 89.049985 224.64 \nL 89.049985 223.984665 \nL 83.696078 223.984665 \nz\n\" style=\"fill:#1f77b4;opacity:0.4;\"/>\n   </g>\n   <g id=\"patch_4\">\n    <path clip-path=\"url(#pdd9db249e2)\" d=\"M 89.049985 224.64 \nL 94.403892 224.64 \nL 94.403892 223.984665 \nL 89.049985 223.984665 \nz\n\" style=\"fill:#1f77b4;opacity:0.4;\"/>\n   </g>\n   <g id=\"patch_5\">\n    <path clip-path=\"url(#pdd9db249e2)\" d=\"M 94.403892 224.64 \nL 99.757799 224.64 \nL 99.757799 223.984665 \nL 94.403892 223.984665 \nz\n\" style=\"fill:#1f77b4;opacity:0.4;\"/>\n   </g>\n   <g id=\"patch_6\">\n    <path clip-path=\"url(#pdd9db249e2)\" d=\"M 99.757799 224.64 \nL 105.111706 224.64 \nL 105.111706 223.656998 \nL 99.757799 223.656998 \nz\n\" style=\"fill:#1f77b4;opacity:0.4;\"/>\n   </g>\n   <g id=\"patch_7\">\n    <path clip-path=\"url(#pdd9db249e2)\" d=\"M 105.111706 224.64 \nL 110.465612 224.64 \nL 110.465612 224.64 \nL 105.111706 224.64 \nz\n\" style=\"fill:#1f77b4;opacity:0.4;\"/>\n   </g>\n   <g id=\"patch_8\">\n    <path clip-path=\"url(#pdd9db249e2)\" d=\"M 110.465612 224.64 \nL 115.819519 224.64 \nL 115.819519 223.656998 \nL 110.465612 223.656998 \nz\n\" style=\"fill:#1f77b4;opacity:0.4;\"/>\n   </g>\n   <g id=\"patch_9\">\n    <path clip-path=\"url(#pdd9db249e2)\" d=\"M 115.819519 224.64 \nL 121.173426 224.64 \nL 121.173426 224.312333 \nL 115.819519 224.312333 \nz\n\" style=\"fill:#1f77b4;opacity:0.4;\"/>\n   </g>\n   <g id=\"patch_10\">\n    <path clip-path=\"url(#pdd9db249e2)\" d=\"M 121.173426 224.64 \nL 126.527333 224.64 \nL 126.527333 223.329331 \nL 121.173426 223.329331 \nz\n\" style=\"fill:#1f77b4;opacity:0.4;\"/>\n   </g>\n   <g id=\"patch_11\">\n    <path clip-path=\"url(#pdd9db249e2)\" d=\"M 126.527333 224.64 \nL 131.88124 224.64 \nL 131.88124 224.64 \nL 126.527333 224.64 \nz\n\" style=\"fill:#1f77b4;opacity:0.4;\"/>\n   </g>\n   <g id=\"patch_12\">\n    <path clip-path=\"url(#pdd9db249e2)\" d=\"M 131.88124 224.64 \nL 137.235147 224.64 \nL 137.235147 224.312333 \nL 131.88124 224.312333 \nz\n\" style=\"fill:#1f77b4;opacity:0.4;\"/>\n   </g>\n   <g id=\"patch_13\">\n    <path clip-path=\"url(#pdd9db249e2)\" d=\"M 137.235147 224.64 \nL 142.589054 224.64 \nL 142.589054 222.673996 \nL 137.235147 222.673996 \nz\n\" style=\"fill:#1f77b4;opacity:0.4;\"/>\n   </g>\n   <g id=\"patch_14\">\n    <path clip-path=\"url(#pdd9db249e2)\" d=\"M 142.589054 224.64 \nL 147.942961 224.64 \nL 147.942961 224.64 \nL 142.589054 224.64 \nz\n\" style=\"fill:#1f77b4;opacity:0.4;\"/>\n   </g>\n   <g id=\"patch_15\">\n    <path clip-path=\"url(#pdd9db249e2)\" d=\"M 147.942961 224.64 \nL 153.296867 224.64 \nL 153.296867 224.64 \nL 147.942961 224.64 \nz\n\" style=\"fill:#1f77b4;opacity:0.4;\"/>\n   </g>\n   <g id=\"patch_16\">\n    <path clip-path=\"url(#pdd9db249e2)\" d=\"M 153.296867 224.64 \nL 158.650774 224.64 \nL 158.650774 222.018662 \nL 153.296867 222.018662 \nz\n\" style=\"fill:#1f77b4;opacity:0.4;\"/>\n   </g>\n   <g id=\"patch_17\">\n    <path clip-path=\"url(#pdd9db249e2)\" d=\"M 158.650774 224.64 \nL 164.004681 224.64 \nL 164.004681 221.690995 \nL 158.650774 221.690995 \nz\n\" style=\"fill:#1f77b4;opacity:0.4;\"/>\n   </g>\n   <g id=\"patch_18\">\n    <path clip-path=\"url(#pdd9db249e2)\" d=\"M 164.004681 224.64 \nL 169.358588 224.64 \nL 169.358588 221.03566 \nL 164.004681 221.03566 \nz\n\" style=\"fill:#1f77b4;opacity:0.4;\"/>\n   </g>\n   <g id=\"patch_19\">\n    <path clip-path=\"url(#pdd9db249e2)\" d=\"M 169.358588 224.64 \nL 174.712495 224.64 \nL 174.712495 224.64 \nL 169.358588 224.64 \nz\n\" style=\"fill:#1f77b4;opacity:0.4;\"/>\n   </g>\n   <g id=\"patch_20\">\n    <path clip-path=\"url(#pdd9db249e2)\" d=\"M 174.712495 224.64 \nL 180.066402 224.64 \nL 180.066402 220.707993 \nL 174.712495 220.707993 \nz\n\" style=\"fill:#1f77b4;opacity:0.4;\"/>\n   </g>\n   <g id=\"patch_21\">\n    <path clip-path=\"url(#pdd9db249e2)\" d=\"M 180.066402 224.64 \nL 185.420309 224.64 \nL 185.420309 221.363327 \nL 180.066402 221.363327 \nz\n\" style=\"fill:#1f77b4;opacity:0.4;\"/>\n   </g>\n   <g id=\"patch_22\">\n    <path clip-path=\"url(#pdd9db249e2)\" d=\"M 185.420309 224.64 \nL 190.774216 224.64 \nL 190.774216 220.052658 \nL 185.420309 220.052658 \nz\n\" style=\"fill:#1f77b4;opacity:0.4;\"/>\n   </g>\n   <g id=\"patch_23\">\n    <path clip-path=\"url(#pdd9db249e2)\" d=\"M 190.774216 224.64 \nL 196.128122 224.64 \nL 196.128122 224.64 \nL 190.774216 224.64 \nz\n\" style=\"fill:#1f77b4;opacity:0.4;\"/>\n   </g>\n   <g id=\"patch_24\">\n    <path clip-path=\"url(#pdd9db249e2)\" d=\"M 196.128122 224.64 \nL 201.482029 224.64 \nL 201.482029 218.741989 \nL 196.128122 218.741989 \nz\n\" style=\"fill:#1f77b4;opacity:0.4;\"/>\n   </g>\n   <g id=\"patch_25\">\n    <path clip-path=\"url(#pdd9db249e2)\" d=\"M 201.482029 224.64 \nL 206.835936 224.64 \nL 206.835936 214.154647 \nL 201.482029 214.154647 \nz\n\" style=\"fill:#1f77b4;opacity:0.4;\"/>\n   </g>\n   <g id=\"patch_26\">\n    <path clip-path=\"url(#pdd9db249e2)\" d=\"M 206.835936 224.64 \nL 212.189843 224.64 \nL 212.189843 213.499313 \nL 206.835936 213.499313 \nz\n\" style=\"fill:#1f77b4;opacity:0.4;\"/>\n   </g>\n   <g id=\"patch_27\">\n    <path clip-path=\"url(#pdd9db249e2)\" d=\"M 212.189843 224.64 \nL 217.54375 224.64 \nL 217.54375 224.64 \nL 212.189843 224.64 \nz\n\" style=\"fill:#1f77b4;opacity:0.4;\"/>\n   </g>\n   <g id=\"patch_28\">\n    <path clip-path=\"url(#pdd9db249e2)\" d=\"M 217.54375 224.64 \nL 222.897657 224.64 \nL 222.897657 206.945967 \nL 217.54375 206.945967 \nz\n\" style=\"fill:#1f77b4;opacity:0.4;\"/>\n   </g>\n   <g id=\"patch_29\">\n    <path clip-path=\"url(#pdd9db249e2)\" d=\"M 222.897657 224.64 \nL 228.251564 224.64 \nL 228.251564 204.324629 \nL 222.897657 204.324629 \nz\n\" style=\"fill:#1f77b4;opacity:0.4;\"/>\n   </g>\n   <g id=\"patch_30\">\n    <path clip-path=\"url(#pdd9db249e2)\" d=\"M 228.251564 224.64 \nL 233.605471 224.64 \nL 233.605471 196.132948 \nL 228.251564 196.132948 \nz\n\" style=\"fill:#1f77b4;opacity:0.4;\"/>\n   </g>\n   <g id=\"patch_31\">\n    <path clip-path=\"url(#pdd9db249e2)\" d=\"M 233.605471 224.64 \nL 238.959378 224.64 \nL 238.959378 185.975262 \nL 233.605471 185.975262 \nz\n\" style=\"fill:#1f77b4;opacity:0.4;\"/>\n   </g>\n   <g id=\"patch_32\">\n    <path clip-path=\"url(#pdd9db249e2)\" d=\"M 238.959378 224.64 \nL 244.313284 224.64 \nL 244.313284 224.64 \nL 238.959378 224.64 \nz\n\" style=\"fill:#1f77b4;opacity:0.4;\"/>\n   </g>\n   <g id=\"patch_33\">\n    <path clip-path=\"url(#pdd9db249e2)\" d=\"M 244.313284 224.64 \nL 249.667191 224.64 \nL 249.667191 176.800579 \nL 244.313284 176.800579 \nz\n\" style=\"fill:#1f77b4;opacity:0.4;\"/>\n   </g>\n   <g id=\"patch_34\">\n    <path clip-path=\"url(#pdd9db249e2)\" d=\"M 249.667191 224.64 \nL 255.021098 224.64 \nL 255.021098 177.128246 \nL 249.667191 177.128246 \nz\n\" style=\"fill:#1f77b4;opacity:0.4;\"/>\n   </g>\n   <g id=\"patch_35\">\n    <path clip-path=\"url(#pdd9db249e2)\" d=\"M 255.021098 224.64 \nL 260.375005 224.64 \nL 260.375005 136.497505 \nL 255.021098 136.497505 \nz\n\" style=\"fill:#1f77b4;opacity:0.4;\"/>\n   </g>\n   <g id=\"patch_36\">\n    <path clip-path=\"url(#pdd9db249e2)\" d=\"M 260.375005 224.64 \nL 265.728912 224.64 \nL 265.728912 224.64 \nL 260.375005 224.64 \nz\n\" style=\"fill:#1f77b4;opacity:0.4;\"/>\n   </g>\n   <g id=\"patch_37\">\n    <path clip-path=\"url(#pdd9db249e2)\" d=\"M 265.728912 224.64 \nL 271.082819 224.64 \nL 271.082819 86.69208 \nL 265.728912 86.69208 \nz\n\" style=\"fill:#1f77b4;opacity:0.4;\"/>\n   </g>\n   <g id=\"patch_38\">\n    <path clip-path=\"url(#pdd9db249e2)\" d=\"M 271.082819 224.64 \nL 276.436726 224.64 \nL 276.436726 132.565497 \nL 271.082819 132.565497 \nz\n\" style=\"fill:#1f77b4;opacity:0.4;\"/>\n   </g>\n   <g id=\"patch_39\">\n    <path clip-path=\"url(#pdd9db249e2)\" d=\"M 276.436726 224.64 \nL 281.790633 224.64 \nL 281.790633 101.437107 \nL 276.436726 101.437107 \nz\n\" style=\"fill:#1f77b4;opacity:0.4;\"/>\n   </g>\n   <g id=\"patch_40\">\n    <path clip-path=\"url(#pdd9db249e2)\" d=\"M 281.790633 224.64 \nL 287.144539 224.64 \nL 287.144539 224.64 \nL 281.790633 224.64 \nz\n\" style=\"fill:#1f77b4;opacity:0.4;\"/>\n   </g>\n   <g id=\"patch_41\">\n    <path clip-path=\"url(#pdd9db249e2)\" d=\"M 287.144539 224.64 \nL 292.498446 224.64 \nL 292.498446 41.473996 \nL 287.144539 41.473996 \nz\n\" style=\"fill:#1f77b4;opacity:0.4;\"/>\n   </g>\n   <g id=\"patch_42\">\n    <path clip-path=\"url(#pdd9db249e2)\" d=\"M 292.498446 224.64 \nL 297.852353 224.64 \nL 297.852353 47.372007 \nL 292.498446 47.372007 \nz\n\" style=\"fill:#1f77b4;opacity:0.4;\"/>\n   </g>\n   <g id=\"patch_43\">\n    <path clip-path=\"url(#pdd9db249e2)\" d=\"M 297.852353 224.64 \nL 303.20626 224.64 \nL 303.20626 17.554286 \nL 297.852353 17.554286 \nz\n\" style=\"fill:#1f77b4;opacity:0.4;\"/>\n   </g>\n   <g id=\"patch_44\">\n    <path clip-path=\"url(#pdd9db249e2)\" d=\"M 303.20626 224.64 \nL 308.560167 224.64 \nL 308.560167 224.64 \nL 303.20626 224.64 \nz\n\" style=\"fill:#1f77b4;opacity:0.4;\"/>\n   </g>\n   <g id=\"patch_45\">\n    <path clip-path=\"url(#pdd9db249e2)\" d=\"M 308.560167 224.64 \nL 313.914074 224.64 \nL 313.914074 44.423002 \nL 308.560167 44.423002 \nz\n\" style=\"fill:#1f77b4;opacity:0.4;\"/>\n   </g>\n   <g id=\"patch_46\">\n    <path clip-path=\"url(#pdd9db249e2)\" d=\"M 313.914074 224.64 \nL 319.267981 224.64 \nL 319.267981 66.376709 \nL 313.914074 66.376709 \nz\n\" style=\"fill:#1f77b4;opacity:0.4;\"/>\n   </g>\n   <g id=\"patch_47\">\n    <path clip-path=\"url(#pdd9db249e2)\" d=\"M 319.267981 224.64 \nL 324.621888 224.64 \nL 324.621888 66.376709 \nL 319.267981 66.376709 \nz\n\" style=\"fill:#1f77b4;opacity:0.4;\"/>\n   </g>\n   <g id=\"patch_48\">\n    <path clip-path=\"url(#pdd9db249e2)\" d=\"M 324.621888 224.64 \nL 329.975794 224.64 \nL 329.975794 224.64 \nL 324.621888 224.64 \nz\n\" style=\"fill:#1f77b4;opacity:0.4;\"/>\n   </g>\n   <g id=\"patch_49\">\n    <path clip-path=\"url(#pdd9db249e2)\" d=\"M 329.975794 224.64 \nL 335.329701 224.64 \nL 335.329701 79.4834 \nL 329.975794 79.4834 \nz\n\" style=\"fill:#1f77b4;opacity:0.4;\"/>\n   </g>\n   <g id=\"patch_50\">\n    <path clip-path=\"url(#pdd9db249e2)\" d=\"M 335.329701 224.64 \nL 340.683608 224.64 \nL 340.683608 88.658083 \nL 335.329701 88.658083 \nz\n\" style=\"fill:#1f77b4;opacity:0.4;\"/>\n   </g>\n   <g id=\"patch_51\">\n    <path clip-path=\"url(#pdd9db249e2)\" d=\"M 340.683608 224.64 \nL 346.037515 224.64 \nL 346.037515 105.696781 \nL 340.683608 105.696781 \nz\n\" style=\"fill:#1f77b4;opacity:0.4;\"/>\n   </g>\n   <g id=\"patch_52\">\n    <path clip-path=\"url(#pdd9db249e2)\" d=\"M 346.037515 224.64 \nL 351.391422 224.64 \nL 351.391422 197.771284 \nL 346.037515 197.771284 \nz\n\" style=\"fill:#1f77b4;opacity:0.4;\"/>\n   </g>\n   <g id=\"matplotlib.axis_1\">\n    <g id=\"xtick_1\">\n     <g id=\"line2d_1\">\n      <defs>\n       <path d=\"M 0 0 \nL 0 3.5 \n\" id=\"m2649c52656\" style=\"stroke:#000000;stroke-width:0.8;\"/>\n      </defs>\n      <g>\n       <use style=\"stroke:#000000;stroke-width:0.8;\" x=\"69.606849\" xlink:href=\"#m2649c52656\" y=\"224.64\"/>\n      </g>\n     </g>\n     <g id=\"text_1\">\n      <!-- 1980 -->\n      <g transform=\"translate(56.881849 239.238437)scale(0.1 -0.1)\">\n       <defs>\n        <path d=\"M 794 531 \nL 1825 531 \nL 1825 4091 \nL 703 3866 \nL 703 4441 \nL 1819 4666 \nL 2450 4666 \nL 2450 531 \nL 3481 531 \nL 3481 0 \nL 794 0 \nL 794 531 \nz\n\" id=\"DejaVuSans-31\" transform=\"scale(0.015625)\"/>\n        <path d=\"M 703 97 \nL 703 672 \nQ 941 559 1184 500 \nQ 1428 441 1663 441 \nQ 2288 441 2617 861 \nQ 2947 1281 2994 2138 \nQ 2813 1869 2534 1725 \nQ 2256 1581 1919 1581 \nQ 1219 1581 811 2004 \nQ 403 2428 403 3163 \nQ 403 3881 828 4315 \nQ 1253 4750 1959 4750 \nQ 2769 4750 3195 4129 \nQ 3622 3509 3622 2328 \nQ 3622 1225 3098 567 \nQ 2575 -91 1691 -91 \nQ 1453 -91 1209 -44 \nQ 966 3 703 97 \nz\nM 1959 2075 \nQ 2384 2075 2632 2365 \nQ 2881 2656 2881 3163 \nQ 2881 3666 2632 3958 \nQ 2384 4250 1959 4250 \nQ 1534 4250 1286 3958 \nQ 1038 3666 1038 3163 \nQ 1038 2656 1286 2365 \nQ 1534 2075 1959 2075 \nz\n\" id=\"DejaVuSans-39\" transform=\"scale(0.015625)\"/>\n        <path d=\"M 2034 2216 \nQ 1584 2216 1326 1975 \nQ 1069 1734 1069 1313 \nQ 1069 891 1326 650 \nQ 1584 409 2034 409 \nQ 2484 409 2743 651 \nQ 3003 894 3003 1313 \nQ 3003 1734 2745 1975 \nQ 2488 2216 2034 2216 \nz\nM 1403 2484 \nQ 997 2584 770 2862 \nQ 544 3141 544 3541 \nQ 544 4100 942 4425 \nQ 1341 4750 2034 4750 \nQ 2731 4750 3128 4425 \nQ 3525 4100 3525 3541 \nQ 3525 3141 3298 2862 \nQ 3072 2584 2669 2484 \nQ 3125 2378 3379 2068 \nQ 3634 1759 3634 1313 \nQ 3634 634 3220 271 \nQ 2806 -91 2034 -91 \nQ 1263 -91 848 271 \nQ 434 634 434 1313 \nQ 434 1759 690 2068 \nQ 947 2378 1403 2484 \nz\nM 1172 3481 \nQ 1172 3119 1398 2916 \nQ 1625 2713 2034 2713 \nQ 2441 2713 2670 2916 \nQ 2900 3119 2900 3481 \nQ 2900 3844 2670 4047 \nQ 2441 4250 2034 4250 \nQ 1625 4250 1398 4047 \nQ 1172 3844 1172 3481 \nz\n\" id=\"DejaVuSans-38\" transform=\"scale(0.015625)\"/>\n        <path d=\"M 2034 4250 \nQ 1547 4250 1301 3770 \nQ 1056 3291 1056 2328 \nQ 1056 1369 1301 889 \nQ 1547 409 2034 409 \nQ 2525 409 2770 889 \nQ 3016 1369 3016 2328 \nQ 3016 3291 2770 3770 \nQ 2525 4250 2034 4250 \nz\nM 2034 4750 \nQ 2819 4750 3233 4129 \nQ 3647 3509 3647 2328 \nQ 3647 1150 3233 529 \nQ 2819 -91 2034 -91 \nQ 1250 -91 836 529 \nQ 422 1150 422 2328 \nQ 422 3509 836 4129 \nQ 1250 4750 2034 4750 \nz\n\" id=\"DejaVuSans-30\" transform=\"scale(0.015625)\"/>\n       </defs>\n       <use xlink:href=\"#DejaVuSans-31\"/>\n       <use x=\"63.623047\" xlink:href=\"#DejaVuSans-39\"/>\n       <use x=\"127.246094\" xlink:href=\"#DejaVuSans-38\"/>\n       <use x=\"190.869141\" xlink:href=\"#DejaVuSans-30\"/>\n      </g>\n     </g>\n    </g>\n    <g id=\"xtick_2\">\n     <g id=\"line2d_2\">\n      <g>\n       <use style=\"stroke:#000000;stroke-width:0.8;\" x=\"140.052993\" xlink:href=\"#m2649c52656\" y=\"224.64\"/>\n      </g>\n     </g>\n     <g id=\"text_2\">\n      <!-- 1990 -->\n      <g transform=\"translate(127.327993 239.238437)scale(0.1 -0.1)\">\n       <use xlink:href=\"#DejaVuSans-31\"/>\n       <use x=\"63.623047\" xlink:href=\"#DejaVuSans-39\"/>\n       <use x=\"127.246094\" xlink:href=\"#DejaVuSans-39\"/>\n       <use x=\"190.869141\" xlink:href=\"#DejaVuSans-30\"/>\n      </g>\n     </g>\n    </g>\n    <g id=\"xtick_3\">\n     <g id=\"line2d_3\">\n      <g>\n       <use style=\"stroke:#000000;stroke-width:0.8;\" x=\"210.499136\" xlink:href=\"#m2649c52656\" y=\"224.64\"/>\n      </g>\n     </g>\n     <g id=\"text_3\">\n      <!-- 2000 -->\n      <g transform=\"translate(197.774136 239.238437)scale(0.1 -0.1)\">\n       <defs>\n        <path d=\"M 1228 531 \nL 3431 531 \nL 3431 0 \nL 469 0 \nL 469 531 \nQ 828 903 1448 1529 \nQ 2069 2156 2228 2338 \nQ 2531 2678 2651 2914 \nQ 2772 3150 2772 3378 \nQ 2772 3750 2511 3984 \nQ 2250 4219 1831 4219 \nQ 1534 4219 1204 4116 \nQ 875 4013 500 3803 \nL 500 4441 \nQ 881 4594 1212 4672 \nQ 1544 4750 1819 4750 \nQ 2544 4750 2975 4387 \nQ 3406 4025 3406 3419 \nQ 3406 3131 3298 2873 \nQ 3191 2616 2906 2266 \nQ 2828 2175 2409 1742 \nQ 1991 1309 1228 531 \nz\n\" id=\"DejaVuSans-32\" transform=\"scale(0.015625)\"/>\n       </defs>\n       <use xlink:href=\"#DejaVuSans-32\"/>\n       <use x=\"63.623047\" xlink:href=\"#DejaVuSans-30\"/>\n       <use x=\"127.246094\" xlink:href=\"#DejaVuSans-30\"/>\n       <use x=\"190.869141\" xlink:href=\"#DejaVuSans-30\"/>\n      </g>\n     </g>\n    </g>\n    <g id=\"xtick_4\">\n     <g id=\"line2d_4\">\n      <g>\n       <use style=\"stroke:#000000;stroke-width:0.8;\" x=\"280.945279\" xlink:href=\"#m2649c52656\" y=\"224.64\"/>\n      </g>\n     </g>\n     <g id=\"text_4\">\n      <!-- 2010 -->\n      <g transform=\"translate(268.220279 239.238437)scale(0.1 -0.1)\">\n       <use xlink:href=\"#DejaVuSans-32\"/>\n       <use x=\"63.623047\" xlink:href=\"#DejaVuSans-30\"/>\n       <use x=\"127.246094\" xlink:href=\"#DejaVuSans-31\"/>\n       <use x=\"190.869141\" xlink:href=\"#DejaVuSans-30\"/>\n      </g>\n     </g>\n    </g>\n    <g id=\"xtick_5\">\n     <g id=\"line2d_5\">\n      <g>\n       <use style=\"stroke:#000000;stroke-width:0.8;\" x=\"351.391422\" xlink:href=\"#m2649c52656\" y=\"224.64\"/>\n      </g>\n     </g>\n     <g id=\"text_5\">\n      <!-- 2020 -->\n      <g transform=\"translate(338.666422 239.238437)scale(0.1 -0.1)\">\n       <use xlink:href=\"#DejaVuSans-32\"/>\n       <use x=\"63.623047\" xlink:href=\"#DejaVuSans-30\"/>\n       <use x=\"127.246094\" xlink:href=\"#DejaVuSans-32\"/>\n       <use x=\"190.869141\" xlink:href=\"#DejaVuSans-30\"/>\n      </g>\n     </g>\n    </g>\n    <g id=\"text_6\">\n     <!-- productionDate -->\n     <g transform=\"translate(178.746875 252.916562)scale(0.1 -0.1)\">\n      <defs>\n       <path d=\"M 1159 525 \nL 1159 -1331 \nL 581 -1331 \nL 581 3500 \nL 1159 3500 \nL 1159 2969 \nQ 1341 3281 1617 3432 \nQ 1894 3584 2278 3584 \nQ 2916 3584 3314 3078 \nQ 3713 2572 3713 1747 \nQ 3713 922 3314 415 \nQ 2916 -91 2278 -91 \nQ 1894 -91 1617 61 \nQ 1341 213 1159 525 \nz\nM 3116 1747 \nQ 3116 2381 2855 2742 \nQ 2594 3103 2138 3103 \nQ 1681 3103 1420 2742 \nQ 1159 2381 1159 1747 \nQ 1159 1113 1420 752 \nQ 1681 391 2138 391 \nQ 2594 391 2855 752 \nQ 3116 1113 3116 1747 \nz\n\" id=\"DejaVuSans-70\" transform=\"scale(0.015625)\"/>\n       <path d=\"M 2631 2963 \nQ 2534 3019 2420 3045 \nQ 2306 3072 2169 3072 \nQ 1681 3072 1420 2755 \nQ 1159 2438 1159 1844 \nL 1159 0 \nL 581 0 \nL 581 3500 \nL 1159 3500 \nL 1159 2956 \nQ 1341 3275 1631 3429 \nQ 1922 3584 2338 3584 \nQ 2397 3584 2469 3576 \nQ 2541 3569 2628 3553 \nL 2631 2963 \nz\n\" id=\"DejaVuSans-72\" transform=\"scale(0.015625)\"/>\n       <path d=\"M 1959 3097 \nQ 1497 3097 1228 2736 \nQ 959 2375 959 1747 \nQ 959 1119 1226 758 \nQ 1494 397 1959 397 \nQ 2419 397 2687 759 \nQ 2956 1122 2956 1747 \nQ 2956 2369 2687 2733 \nQ 2419 3097 1959 3097 \nz\nM 1959 3584 \nQ 2709 3584 3137 3096 \nQ 3566 2609 3566 1747 \nQ 3566 888 3137 398 \nQ 2709 -91 1959 -91 \nQ 1206 -91 779 398 \nQ 353 888 353 1747 \nQ 353 2609 779 3096 \nQ 1206 3584 1959 3584 \nz\n\" id=\"DejaVuSans-6f\" transform=\"scale(0.015625)\"/>\n       <path d=\"M 2906 2969 \nL 2906 4863 \nL 3481 4863 \nL 3481 0 \nL 2906 0 \nL 2906 525 \nQ 2725 213 2448 61 \nQ 2172 -91 1784 -91 \nQ 1150 -91 751 415 \nQ 353 922 353 1747 \nQ 353 2572 751 3078 \nQ 1150 3584 1784 3584 \nQ 2172 3584 2448 3432 \nQ 2725 3281 2906 2969 \nz\nM 947 1747 \nQ 947 1113 1208 752 \nQ 1469 391 1925 391 \nQ 2381 391 2643 752 \nQ 2906 1113 2906 1747 \nQ 2906 2381 2643 2742 \nQ 2381 3103 1925 3103 \nQ 1469 3103 1208 2742 \nQ 947 2381 947 1747 \nz\n\" id=\"DejaVuSans-64\" transform=\"scale(0.015625)\"/>\n       <path d=\"M 544 1381 \nL 544 3500 \nL 1119 3500 \nL 1119 1403 \nQ 1119 906 1312 657 \nQ 1506 409 1894 409 \nQ 2359 409 2629 706 \nQ 2900 1003 2900 1516 \nL 2900 3500 \nL 3475 3500 \nL 3475 0 \nL 2900 0 \nL 2900 538 \nQ 2691 219 2414 64 \nQ 2138 -91 1772 -91 \nQ 1169 -91 856 284 \nQ 544 659 544 1381 \nz\nM 1991 3584 \nL 1991 3584 \nz\n\" id=\"DejaVuSans-75\" transform=\"scale(0.015625)\"/>\n       <path d=\"M 3122 3366 \nL 3122 2828 \nQ 2878 2963 2633 3030 \nQ 2388 3097 2138 3097 \nQ 1578 3097 1268 2742 \nQ 959 2388 959 1747 \nQ 959 1106 1268 751 \nQ 1578 397 2138 397 \nQ 2388 397 2633 464 \nQ 2878 531 3122 666 \nL 3122 134 \nQ 2881 22 2623 -34 \nQ 2366 -91 2075 -91 \nQ 1284 -91 818 406 \nQ 353 903 353 1747 \nQ 353 2603 823 3093 \nQ 1294 3584 2113 3584 \nQ 2378 3584 2631 3529 \nQ 2884 3475 3122 3366 \nz\n\" id=\"DejaVuSans-63\" transform=\"scale(0.015625)\"/>\n       <path d=\"M 1172 4494 \nL 1172 3500 \nL 2356 3500 \nL 2356 3053 \nL 1172 3053 \nL 1172 1153 \nQ 1172 725 1289 603 \nQ 1406 481 1766 481 \nL 2356 481 \nL 2356 0 \nL 1766 0 \nQ 1100 0 847 248 \nQ 594 497 594 1153 \nL 594 3053 \nL 172 3053 \nL 172 3500 \nL 594 3500 \nL 594 4494 \nL 1172 4494 \nz\n\" id=\"DejaVuSans-74\" transform=\"scale(0.015625)\"/>\n       <path d=\"M 603 3500 \nL 1178 3500 \nL 1178 0 \nL 603 0 \nL 603 3500 \nz\nM 603 4863 \nL 1178 4863 \nL 1178 4134 \nL 603 4134 \nL 603 4863 \nz\n\" id=\"DejaVuSans-69\" transform=\"scale(0.015625)\"/>\n       <path d=\"M 3513 2113 \nL 3513 0 \nL 2938 0 \nL 2938 2094 \nQ 2938 2591 2744 2837 \nQ 2550 3084 2163 3084 \nQ 1697 3084 1428 2787 \nQ 1159 2491 1159 1978 \nL 1159 0 \nL 581 0 \nL 581 3500 \nL 1159 3500 \nL 1159 2956 \nQ 1366 3272 1645 3428 \nQ 1925 3584 2291 3584 \nQ 2894 3584 3203 3211 \nQ 3513 2838 3513 2113 \nz\n\" id=\"DejaVuSans-6e\" transform=\"scale(0.015625)\"/>\n       <path d=\"M 1259 4147 \nL 1259 519 \nL 2022 519 \nQ 2988 519 3436 956 \nQ 3884 1394 3884 2338 \nQ 3884 3275 3436 3711 \nQ 2988 4147 2022 4147 \nL 1259 4147 \nz\nM 628 4666 \nL 1925 4666 \nQ 3281 4666 3915 4102 \nQ 4550 3538 4550 2338 \nQ 4550 1131 3912 565 \nQ 3275 0 1925 0 \nL 628 0 \nL 628 4666 \nz\n\" id=\"DejaVuSans-44\" transform=\"scale(0.015625)\"/>\n       <path d=\"M 2194 1759 \nQ 1497 1759 1228 1600 \nQ 959 1441 959 1056 \nQ 959 750 1161 570 \nQ 1363 391 1709 391 \nQ 2188 391 2477 730 \nQ 2766 1069 2766 1631 \nL 2766 1759 \nL 2194 1759 \nz\nM 3341 1997 \nL 3341 0 \nL 2766 0 \nL 2766 531 \nQ 2569 213 2275 61 \nQ 1981 -91 1556 -91 \nQ 1019 -91 701 211 \nQ 384 513 384 1019 \nQ 384 1609 779 1909 \nQ 1175 2209 1959 2209 \nL 2766 2209 \nL 2766 2266 \nQ 2766 2663 2505 2880 \nQ 2244 3097 1772 3097 \nQ 1472 3097 1187 3025 \nQ 903 2953 641 2809 \nL 641 3341 \nQ 956 3463 1253 3523 \nQ 1550 3584 1831 3584 \nQ 2591 3584 2966 3190 \nQ 3341 2797 3341 1997 \nz\n\" id=\"DejaVuSans-61\" transform=\"scale(0.015625)\"/>\n       <path d=\"M 3597 1894 \nL 3597 1613 \nL 953 1613 \nQ 991 1019 1311 708 \nQ 1631 397 2203 397 \nQ 2534 397 2845 478 \nQ 3156 559 3463 722 \nL 3463 178 \nQ 3153 47 2828 -22 \nQ 2503 -91 2169 -91 \nQ 1331 -91 842 396 \nQ 353 884 353 1716 \nQ 353 2575 817 3079 \nQ 1281 3584 2069 3584 \nQ 2775 3584 3186 3129 \nQ 3597 2675 3597 1894 \nz\nM 3022 2063 \nQ 3016 2534 2758 2815 \nQ 2500 3097 2075 3097 \nQ 1594 3097 1305 2825 \nQ 1016 2553 972 2059 \nL 3022 2063 \nz\n\" id=\"DejaVuSans-65\" transform=\"scale(0.015625)\"/>\n      </defs>\n      <use xlink:href=\"#DejaVuSans-70\"/>\n      <use x=\"63.476562\" xlink:href=\"#DejaVuSans-72\"/>\n      <use x=\"102.339844\" xlink:href=\"#DejaVuSans-6f\"/>\n      <use x=\"163.521484\" xlink:href=\"#DejaVuSans-64\"/>\n      <use x=\"226.998047\" xlink:href=\"#DejaVuSans-75\"/>\n      <use x=\"290.376953\" xlink:href=\"#DejaVuSans-63\"/>\n      <use x=\"345.357422\" xlink:href=\"#DejaVuSans-74\"/>\n      <use x=\"384.566406\" xlink:href=\"#DejaVuSans-69\"/>\n      <use x=\"412.349609\" xlink:href=\"#DejaVuSans-6f\"/>\n      <use x=\"473.53125\" xlink:href=\"#DejaVuSans-6e\"/>\n      <use x=\"536.910156\" xlink:href=\"#DejaVuSans-44\"/>\n      <use x=\"613.912109\" xlink:href=\"#DejaVuSans-61\"/>\n      <use x=\"675.191406\" xlink:href=\"#DejaVuSans-74\"/>\n      <use x=\"714.400391\" xlink:href=\"#DejaVuSans-65\"/>\n     </g>\n    </g>\n   </g>\n   <g id=\"matplotlib.axis_2\">\n    <g id=\"ytick_1\">\n     <g id=\"line2d_6\">\n      <defs>\n       <path d=\"M 0 0 \nL -3.5 0 \n\" id=\"m0c6b1245c7\" style=\"stroke:#000000;stroke-width:0.8;\"/>\n      </defs>\n      <g>\n       <use style=\"stroke:#000000;stroke-width:0.8;\" x=\"50.14375\" xlink:href=\"#m0c6b1245c7\" y=\"224.64\"/>\n      </g>\n     </g>\n     <g id=\"text_7\">\n      <!-- 0.00 -->\n      <g transform=\"translate(20.878125 228.439219)scale(0.1 -0.1)\">\n       <defs>\n        <path d=\"M 684 794 \nL 1344 794 \nL 1344 0 \nL 684 0 \nL 684 794 \nz\n\" id=\"DejaVuSans-2e\" transform=\"scale(0.015625)\"/>\n       </defs>\n       <use xlink:href=\"#DejaVuSans-30\"/>\n       <use x=\"63.623047\" xlink:href=\"#DejaVuSans-2e\"/>\n       <use x=\"95.410156\" xlink:href=\"#DejaVuSans-30\"/>\n       <use x=\"159.033203\" xlink:href=\"#DejaVuSans-30\"/>\n      </g>\n     </g>\n    </g>\n    <g id=\"ytick_2\">\n     <g id=\"line2d_7\">\n      <g>\n       <use style=\"stroke:#000000;stroke-width:0.8;\" x=\"50.14375\" xlink:href=\"#m0c6b1245c7\" y=\"191.360015\"/>\n      </g>\n     </g>\n     <g id=\"text_8\">\n      <!-- 0.02 -->\n      <g transform=\"translate(20.878125 195.159234)scale(0.1 -0.1)\">\n       <use xlink:href=\"#DejaVuSans-30\"/>\n       <use x=\"63.623047\" xlink:href=\"#DejaVuSans-2e\"/>\n       <use x=\"95.410156\" xlink:href=\"#DejaVuSans-30\"/>\n       <use x=\"159.033203\" xlink:href=\"#DejaVuSans-32\"/>\n      </g>\n     </g>\n    </g>\n    <g id=\"ytick_3\">\n     <g id=\"line2d_8\">\n      <g>\n       <use style=\"stroke:#000000;stroke-width:0.8;\" x=\"50.14375\" xlink:href=\"#m0c6b1245c7\" y=\"158.08003\"/>\n      </g>\n     </g>\n     <g id=\"text_9\">\n      <!-- 0.04 -->\n      <g transform=\"translate(20.878125 161.879249)scale(0.1 -0.1)\">\n       <defs>\n        <path d=\"M 2419 4116 \nL 825 1625 \nL 2419 1625 \nL 2419 4116 \nz\nM 2253 4666 \nL 3047 4666 \nL 3047 1625 \nL 3713 1625 \nL 3713 1100 \nL 3047 1100 \nL 3047 0 \nL 2419 0 \nL 2419 1100 \nL 313 1100 \nL 313 1709 \nL 2253 4666 \nz\n\" id=\"DejaVuSans-34\" transform=\"scale(0.015625)\"/>\n       </defs>\n       <use xlink:href=\"#DejaVuSans-30\"/>\n       <use x=\"63.623047\" xlink:href=\"#DejaVuSans-2e\"/>\n       <use x=\"95.410156\" xlink:href=\"#DejaVuSans-30\"/>\n       <use x=\"159.033203\" xlink:href=\"#DejaVuSans-34\"/>\n      </g>\n     </g>\n    </g>\n    <g id=\"ytick_4\">\n     <g id=\"line2d_9\">\n      <g>\n       <use style=\"stroke:#000000;stroke-width:0.8;\" x=\"50.14375\" xlink:href=\"#m0c6b1245c7\" y=\"124.800045\"/>\n      </g>\n     </g>\n     <g id=\"text_10\">\n      <!-- 0.06 -->\n      <g transform=\"translate(20.878125 128.599264)scale(0.1 -0.1)\">\n       <defs>\n        <path d=\"M 2113 2584 \nQ 1688 2584 1439 2293 \nQ 1191 2003 1191 1497 \nQ 1191 994 1439 701 \nQ 1688 409 2113 409 \nQ 2538 409 2786 701 \nQ 3034 994 3034 1497 \nQ 3034 2003 2786 2293 \nQ 2538 2584 2113 2584 \nz\nM 3366 4563 \nL 3366 3988 \nQ 3128 4100 2886 4159 \nQ 2644 4219 2406 4219 \nQ 1781 4219 1451 3797 \nQ 1122 3375 1075 2522 \nQ 1259 2794 1537 2939 \nQ 1816 3084 2150 3084 \nQ 2853 3084 3261 2657 \nQ 3669 2231 3669 1497 \nQ 3669 778 3244 343 \nQ 2819 -91 2113 -91 \nQ 1303 -91 875 529 \nQ 447 1150 447 2328 \nQ 447 3434 972 4092 \nQ 1497 4750 2381 4750 \nQ 2619 4750 2861 4703 \nQ 3103 4656 3366 4563 \nz\n\" id=\"DejaVuSans-36\" transform=\"scale(0.015625)\"/>\n       </defs>\n       <use xlink:href=\"#DejaVuSans-30\"/>\n       <use x=\"63.623047\" xlink:href=\"#DejaVuSans-2e\"/>\n       <use x=\"95.410156\" xlink:href=\"#DejaVuSans-30\"/>\n       <use x=\"159.033203\" xlink:href=\"#DejaVuSans-36\"/>\n      </g>\n     </g>\n    </g>\n    <g id=\"ytick_5\">\n     <g id=\"line2d_10\">\n      <g>\n       <use style=\"stroke:#000000;stroke-width:0.8;\" x=\"50.14375\" xlink:href=\"#m0c6b1245c7\" y=\"91.52006\"/>\n      </g>\n     </g>\n     <g id=\"text_11\">\n      <!-- 0.08 -->\n      <g transform=\"translate(20.878125 95.319279)scale(0.1 -0.1)\">\n       <use xlink:href=\"#DejaVuSans-30\"/>\n       <use x=\"63.623047\" xlink:href=\"#DejaVuSans-2e\"/>\n       <use x=\"95.410156\" xlink:href=\"#DejaVuSans-30\"/>\n       <use x=\"159.033203\" xlink:href=\"#DejaVuSans-38\"/>\n      </g>\n     </g>\n    </g>\n    <g id=\"ytick_6\">\n     <g id=\"line2d_11\">\n      <g>\n       <use style=\"stroke:#000000;stroke-width:0.8;\" x=\"50.14375\" xlink:href=\"#m0c6b1245c7\" y=\"58.240075\"/>\n      </g>\n     </g>\n     <g id=\"text_12\">\n      <!-- 0.10 -->\n      <g transform=\"translate(20.878125 62.039294)scale(0.1 -0.1)\">\n       <use xlink:href=\"#DejaVuSans-30\"/>\n       <use x=\"63.623047\" xlink:href=\"#DejaVuSans-2e\"/>\n       <use x=\"95.410156\" xlink:href=\"#DejaVuSans-31\"/>\n       <use x=\"159.033203\" xlink:href=\"#DejaVuSans-30\"/>\n      </g>\n     </g>\n    </g>\n    <g id=\"ytick_7\">\n     <g id=\"line2d_12\">\n      <g>\n       <use style=\"stroke:#000000;stroke-width:0.8;\" x=\"50.14375\" xlink:href=\"#m0c6b1245c7\" y=\"24.96009\"/>\n      </g>\n     </g>\n     <g id=\"text_13\">\n      <!-- 0.12 -->\n      <g transform=\"translate(20.878125 28.759309)scale(0.1 -0.1)\">\n       <use xlink:href=\"#DejaVuSans-30\"/>\n       <use x=\"63.623047\" xlink:href=\"#DejaVuSans-2e\"/>\n       <use x=\"95.410156\" xlink:href=\"#DejaVuSans-31\"/>\n       <use x=\"159.033203\" xlink:href=\"#DejaVuSans-32\"/>\n      </g>\n     </g>\n    </g>\n    <g id=\"text_14\">\n     <!-- Density -->\n     <g transform=\"translate(14.798438 134.928594)rotate(-90)scale(0.1 -0.1)\">\n      <defs>\n       <path d=\"M 2834 3397 \nL 2834 2853 \nQ 2591 2978 2328 3040 \nQ 2066 3103 1784 3103 \nQ 1356 3103 1142 2972 \nQ 928 2841 928 2578 \nQ 928 2378 1081 2264 \nQ 1234 2150 1697 2047 \nL 1894 2003 \nQ 2506 1872 2764 1633 \nQ 3022 1394 3022 966 \nQ 3022 478 2636 193 \nQ 2250 -91 1575 -91 \nQ 1294 -91 989 -36 \nQ 684 19 347 128 \nL 347 722 \nQ 666 556 975 473 \nQ 1284 391 1588 391 \nQ 1994 391 2212 530 \nQ 2431 669 2431 922 \nQ 2431 1156 2273 1281 \nQ 2116 1406 1581 1522 \nL 1381 1569 \nQ 847 1681 609 1914 \nQ 372 2147 372 2553 \nQ 372 3047 722 3315 \nQ 1072 3584 1716 3584 \nQ 2034 3584 2315 3537 \nQ 2597 3491 2834 3397 \nz\n\" id=\"DejaVuSans-73\" transform=\"scale(0.015625)\"/>\n       <path d=\"M 2059 -325 \nQ 1816 -950 1584 -1140 \nQ 1353 -1331 966 -1331 \nL 506 -1331 \nL 506 -850 \nL 844 -850 \nQ 1081 -850 1212 -737 \nQ 1344 -625 1503 -206 \nL 1606 56 \nL 191 3500 \nL 800 3500 \nL 1894 763 \nL 2988 3500 \nL 3597 3500 \nL 2059 -325 \nz\n\" id=\"DejaVuSans-79\" transform=\"scale(0.015625)\"/>\n      </defs>\n      <use xlink:href=\"#DejaVuSans-44\"/>\n      <use x=\"77.001953\" xlink:href=\"#DejaVuSans-65\"/>\n      <use x=\"138.525391\" xlink:href=\"#DejaVuSans-6e\"/>\n      <use x=\"201.904297\" xlink:href=\"#DejaVuSans-73\"/>\n      <use x=\"254.003906\" xlink:href=\"#DejaVuSans-69\"/>\n      <use x=\"281.787109\" xlink:href=\"#DejaVuSans-74\"/>\n      <use x=\"320.996094\" xlink:href=\"#DejaVuSans-79\"/>\n     </g>\n    </g>\n   </g>\n   <g id=\"line2d_13\">\n    <path clip-path=\"url(#pdd9db249e2)\" d=\"M 65.361932 224.637414 \nL 76.06819 224.521645 \nL 92.892311 224.13091 \nL 112.775363 224.026708 \nL 120.42269 224.064854 \nL 149.482535 223.566415 \nL 164.77719 222.163938 \nL 172.424517 221.867511 \nL 183.130776 221.674968 \nL 187.719173 221.250906 \nL 190.778104 220.786724 \nL 193.837035 220.158588 \nL 198.425431 218.904639 \nL 209.13169 215.518124 \nL 212.190621 214.313457 \nL 216.779017 212.179408 \nL 221.367414 209.843254 \nL 224.426345 208.061074 \nL 227.485276 205.926445 \nL 230.544207 203.394225 \nL 233.603138 200.552143 \nL 239.721 194.666493 \nL 244.309396 190.663227 \nL 245.838862 189.314902 \nL 247.368327 187.812151 \nL 248.897793 186.013272 \nL 250.427258 183.76272 \nL 251.956724 180.92073 \nL 253.486189 177.396403 \nL 255.015655 173.176174 \nL 256.54512 168.341354 \nL 262.662983 147.633768 \nL 264.192448 143.752579 \nL 265.721914 140.95539 \nL 267.251379 139.304443 \nL 268.780845 138.658718 \nL 270.31031 138.682973 \nL 271.839776 138.908074 \nL 273.369241 138.826729 \nL 274.898707 137.99524 \nL 276.428172 136.112263 \nL 277.957638 133.058245 \nL 279.487103 128.895438 \nL 281.016569 123.839157 \nL 287.134431 101.57675 \nL 288.663896 97.071637 \nL 290.193362 93.279457 \nL 291.722827 90.12867 \nL 293.252293 87.478506 \nL 294.781758 85.188615 \nL 296.311224 83.181588 \nL 297.840689 81.475951 \nL 299.370155 80.178949 \nL 300.89962 79.444041 \nL 302.429086 79.411215 \nL 303.958551 80.153675 \nL 305.488017 81.649464 \nL 307.017482 83.784062 \nL 308.546948 86.376877 \nL 313.135344 94.861783 \nL 314.66481 97.372312 \nL 316.194275 99.573745 \nL 317.723741 101.464417 \nL 319.253206 103.093622 \nL 322.312137 105.913963 \nL 325.371068 108.725638 \nL 328.429999 111.903601 \nL 331.48893 115.526872 \nL 333.018396 117.559505 \nL 334.547861 119.830331 \nL 336.077327 122.461518 \nL 337.606792 125.616516 \nL 339.136258 129.485201 \nL 340.665724 134.254956 \nL 342.195189 140.06841 \nL 343.724655 146.974655 \nL 345.25412 154.887944 \nL 348.313051 172.658291 \nL 351.371982 190.29061 \nL 352.901448 198.04329 \nL 354.430913 204.730675 \nL 355.960379 210.248892 \nL 357.489844 214.610846 \nL 359.01931 217.915106 \nL 360.548775 220.311955 \nL 362.078241 221.973778 \nL 363.607706 223.072255 \nL 365.137172 223.762501 \nL 366.666637 224.173631 \nL 369.725568 224.528161 \nL 369.725568 224.528161 \n\" style=\"fill:none;stroke:#1f77b4;stroke-linecap:square;stroke-width:1.5;\"/>\n   </g>\n   <g id=\"patch_53\">\n    <path d=\"M 50.14375 224.64 \nL 50.14375 7.2 \n\" style=\"fill:none;stroke:#000000;stroke-linecap:square;stroke-linejoin:miter;stroke-width:0.8;\"/>\n   </g>\n   <g id=\"patch_54\">\n    <path d=\"M 384.94375 224.64 \nL 384.94375 7.2 \n\" style=\"fill:none;stroke:#000000;stroke-linecap:square;stroke-linejoin:miter;stroke-width:0.8;\"/>\n   </g>\n   <g id=\"patch_55\">\n    <path d=\"M 50.14375 224.64 \nL 384.94375 224.64 \n\" style=\"fill:none;stroke:#000000;stroke-linecap:square;stroke-linejoin:miter;stroke-width:0.8;\"/>\n   </g>\n   <g id=\"patch_56\">\n    <path d=\"M 50.14375 7.2 \nL 384.94375 7.2 \n\" style=\"fill:none;stroke:#000000;stroke-linecap:square;stroke-linejoin:miter;stroke-width:0.8;\"/>\n   </g>\n  </g>\n </g>\n <defs>\n  <clipPath id=\"pdd9db249e2\">\n   <rect height=\"217.44\" width=\"334.8\" x=\"50.14375\" y=\"7.2\"/>\n  </clipPath>\n </defs>\n</svg>\n"
     },
     "metadata": {
      "needs_background": "light"
     },
     "output_type": "display_data"
    }
   ],
   "source": [
    "ax = sns.distplot(train['productionDate'])"
   ]
  },
  {
   "cell_type": "markdown",
   "metadata": {
    "papermill": {
     "duration": 0.106858,
     "end_time": "2020-12-02T17:27:27.147013",
     "exception": false,
     "start_time": "2020-12-02T17:27:27.040155",
     "status": "completed"
    },
    "tags": []
   },
   "source": [
    "Итого:\n",
    "* CatBoost сможет работать с признаками и в таком виде, но для нейросети нужны нормированные данные."
   ]
  },
  {
   "cell_type": "markdown",
   "metadata": {
    "papermill": {
     "duration": 0.095482,
     "end_time": "2020-12-02T17:27:27.340438",
     "exception": false,
     "start_time": "2020-12-02T17:27:27.244956",
     "status": "completed"
    },
    "tags": []
   },
   "source": [
    "# PreProc Tabular Data"
   ]
  },
  {
   "cell_type": "code",
   "execution_count": 50,
   "metadata": {
    "execution": {
     "iopub.execute_input": "2020-12-02T17:27:27.569517Z",
     "iopub.status.busy": "2020-12-02T17:27:27.568571Z",
     "iopub.status.idle": "2020-12-02T17:27:27.585466Z",
     "shell.execute_reply": "2020-12-02T17:27:27.584882Z"
    },
    "papermill": {
     "duration": 0.148447,
     "end_time": "2020-12-02T17:27:27.585572",
     "exception": false,
     "start_time": "2020-12-02T17:27:27.437125",
     "status": "completed"
    },
    "tags": []
   },
   "outputs": [
    {
     "name": "stdout",
     "output_type": "stream",
     "text": [
      "<class 'pandas.core.frame.DataFrame'>\n",
      "RangeIndex: 6682 entries, 0 to 6681\n",
      "Data columns (total 22 columns):\n",
      " #   Column                Non-Null Count  Dtype  \n",
      "---  ------                --------------  -----  \n",
      " 0   bodyType              6682 non-null   object \n",
      " 1   brand                 6682 non-null   object \n",
      " 2   color                 6682 non-null   object \n",
      " 3   description           6682 non-null   object \n",
      " 4   engineDisplacement    6682 non-null   object \n",
      " 5   enginePower           6682 non-null   object \n",
      " 6   fuelType              6682 non-null   object \n",
      " 7   mileage               6682 non-null   int64  \n",
      " 8   modelDate             6682 non-null   int64  \n",
      " 9   model_info            6682 non-null   object \n",
      " 10  name                  6682 non-null   object \n",
      " 11  numberOfDoors         6682 non-null   int64  \n",
      " 12  price                 6682 non-null   float64\n",
      " 13  productionDate        6682 non-null   int64  \n",
      " 14  sell_id               6682 non-null   int64  \n",
      " 15  vehicleConfiguration  6682 non-null   object \n",
      " 16  vehicleTransmission   6682 non-null   object \n",
      " 17  Владельцы             6681 non-null   object \n",
      " 18  Владение              2356 non-null   object \n",
      " 19  ПТС                   6682 non-null   object \n",
      " 20  Привод                6682 non-null   object \n",
      " 21  Руль                  6682 non-null   object \n",
      "dtypes: float64(1), int64(5), object(16)\n",
      "memory usage: 1.1+ MB\n"
     ]
    }
   ],
   "source": [
    "train.info()"
   ]
  },
  {
   "cell_type": "code",
   "execution_count": 51,
   "metadata": {
    "execution": {
     "iopub.execute_input": "2020-12-02T17:27:27.784639Z",
     "iopub.status.busy": "2020-12-02T17:27:27.783893Z",
     "iopub.status.idle": "2020-12-02T17:27:27.787445Z",
     "shell.execute_reply": "2020-12-02T17:27:27.787914Z"
    },
    "papermill": {
     "duration": 0.106286,
     "end_time": "2020-12-02T17:27:27.788034",
     "exception": false,
     "start_time": "2020-12-02T17:27:27.681748",
     "status": "completed"
    },
    "tags": []
   },
   "outputs": [
    {
     "data": {
      "text/plain": "Index(['bodyType', 'brand', 'color', 'description', 'engineDisplacement',\n       'enginePower', 'fuelType', 'mileage', 'modelDate', 'model_info', 'name',\n       'numberOfDoors', 'price', 'productionDate', 'sell_id',\n       'vehicleConfiguration', 'vehicleTransmission', 'Владельцы', 'Владение',\n       'ПТС', 'Привод', 'Руль'],\n      dtype='object')"
     },
     "execution_count": 51,
     "metadata": {},
     "output_type": "execute_result"
    }
   ],
   "source": [
    "train.columns"
   ]
  },
  {
   "cell_type": "code",
   "execution_count": 52,
   "metadata": {
    "execution": {
     "iopub.execute_input": "2020-12-02T17:27:27.982060Z",
     "iopub.status.busy": "2020-12-02T17:27:27.981493Z",
     "iopub.status.idle": "2020-12-02T17:27:28.042439Z",
     "shell.execute_reply": "2020-12-02T17:27:28.042881Z"
    },
    "papermill": {
     "duration": 0.160278,
     "end_time": "2020-12-02T17:27:28.043011",
     "exception": false,
     "start_time": "2020-12-02T17:27:27.882733",
     "status": "completed"
    },
    "tags": []
   },
   "outputs": [
    {
     "data": {
      "text/plain": "     bodyType     brand        color  \\\n0       седан       BMW       чёрный   \n1       седан      AUDI  серебристый   \n2       седан  MERCEDES       чёрный   \n3       седан      AUDI        белый   \n4     лифтбек      AUDI        белый   \n...       ...       ...          ...   \n6677    седан       BMW        серый   \n6678    седан       BMW       чёрный   \n6679    седан       BMW        белый   \n6680    седан      AUDI       чёрный   \n6681  лимузин  MERCEDES       чёрный   \n\n                                            description engineDisplacement  \\\n0     Авто на бодром ходу.  Все работает отлично.  П...            3.0 LTR   \n1     Продажа от собственника, второй владелец, ПТС ...            2.8 LTR   \n2     Внимание! Только для клиентов AVILON Автомобил...            3.5 LTR   \n3     В комплекте зимние колёса. 27.07.2020 Замена п...            2.0 LTR   \n4     Отличный авто, 2011 года выпуска, кроме передн...            1.8 LTR   \n...                                                 ...                ...   \n6677  Продаётся любимый автомобиль! За годы эксплуат...            2.0 LTR   \n6678  Куплена у официального дилера в 2017 г. \\n\\nТр...            2.0 LTR   \n6679  Торг на месте. Все работает. Сборка немецкая. ...            2.0 LTR   \n6680  Автомобиль в отличном состоянии.\\n3-из Авто в ...            3.0 LTR   \n6681  Удлиненный заводской Pullman на базе W140 (воо...            6.0 LTR   \n\n     enginePower fuelType  mileage  modelDate model_info  ...      price  \\\n0        272 N12   бензин   245000       2007        5ER  ...   599000.0   \n1        204 N12   бензин   183000       2011         A6  ...   850000.0   \n2        306 N12   бензин   122733       2009   E_KLASSE  ...  1325000.0   \n3        180 N12   бензин   151000       2011         A6  ...   815000.0   \n4        160 N12   бензин   140000       2007         A5  ...   810000.0   \n...          ...      ...      ...        ...        ...  ...        ...   \n6677     150 N12   бензин   232777       2005        3ER  ...   550000.0   \n6678     190 N12   дизель    33700       2013        5ER  ...  1900000.0   \n6679     143 N12   бензин   200000       2008        3ER  ...   530000.0   \n6680     310 N12   бензин    72000       2013         A8  ...  1970000.0   \n6681     394 N12   бензин    21291       1994   S_KLASSE  ...  3000000.0   \n\n      productionDate     sell_id     vehicleConfiguration  \\\n0               2007  1099980990      SEDAN AUTOMATIC 3.0   \n1               2011  1095836906       SEDAN VARIATOR 2.8   \n2               2013  1100195530      SEDAN AUTOMATIC 3.5   \n3               2011  1099880662       SEDAN VARIATOR 2.0   \n4               2011  1083244610    LIFTBACK VARIATOR 1.8   \n...              ...         ...                      ...   \n6677            2006  1100036650      SEDAN AUTOMATIC 2.0   \n6678            2016  1090506038      SEDAN AUTOMATIC 2.0   \n6679            2008  1095155628      SEDAN AUTOMATIC 2.0   \n6680            2016  1099625256      SEDAN AUTOMATIC 3.0   \n6681            1996  1097146066  LIMOUSINE AUTOMATIC 6.0   \n\n      vehicleTransmission    Владельцы            Владение       ПТС  \\\n0          автоматическая  3 или более                 NaN  Оригинал   \n1                вариатор  2 владельца   8 лет и 6 месяцев  Оригинал   \n2          автоматическая  3 или более                 NaN  Оригинал   \n3                вариатор  3 или более  4 года и 9 месяцев  Оригинал   \n4                вариатор  3 или более  2 года и 9 месяцев  Оригинал   \n...                   ...          ...                 ...       ...   \n6677       автоматическая  3 или более                 NaN  Оригинал   \n6678       автоматическая  3 или более   2 года и 2 месяца  Оригинал   \n6679       автоматическая  3 или более   2 года и 2 месяца  Оригинал   \n6680       автоматическая  3 или более                 NaN  Оригинал   \n6681       автоматическая  2 владельца                 NaN  Оригинал   \n\n        Привод   Руль  \n0       полный  Левый  \n1     передний  Левый  \n2       полный  Левый  \n3     передний  Левый  \n4     передний  Левый  \n...        ...    ...  \n6677    задний  Левый  \n6678    задний  Левый  \n6679    задний  Левый  \n6680    полный  Левый  \n6681    задний  Левый  \n\n[6682 rows x 22 columns]",
      "text/html": "<div>\n<style scoped>\n    .dataframe tbody tr th:only-of-type {\n        vertical-align: middle;\n    }\n\n    .dataframe tbody tr th {\n        vertical-align: top;\n    }\n\n    .dataframe thead th {\n        text-align: right;\n    }\n</style>\n<table border=\"1\" class=\"dataframe\">\n  <thead>\n    <tr style=\"text-align: right;\">\n      <th></th>\n      <th>bodyType</th>\n      <th>brand</th>\n      <th>color</th>\n      <th>description</th>\n      <th>engineDisplacement</th>\n      <th>enginePower</th>\n      <th>fuelType</th>\n      <th>mileage</th>\n      <th>modelDate</th>\n      <th>model_info</th>\n      <th>...</th>\n      <th>price</th>\n      <th>productionDate</th>\n      <th>sell_id</th>\n      <th>vehicleConfiguration</th>\n      <th>vehicleTransmission</th>\n      <th>Владельцы</th>\n      <th>Владение</th>\n      <th>ПТС</th>\n      <th>Привод</th>\n      <th>Руль</th>\n    </tr>\n  </thead>\n  <tbody>\n    <tr>\n      <th>0</th>\n      <td>седан</td>\n      <td>BMW</td>\n      <td>чёрный</td>\n      <td>Авто на бодром ходу.  Все работает отлично.  П...</td>\n      <td>3.0 LTR</td>\n      <td>272 N12</td>\n      <td>бензин</td>\n      <td>245000</td>\n      <td>2007</td>\n      <td>5ER</td>\n      <td>...</td>\n      <td>599000.0</td>\n      <td>2007</td>\n      <td>1099980990</td>\n      <td>SEDAN AUTOMATIC 3.0</td>\n      <td>автоматическая</td>\n      <td>3 или более</td>\n      <td>NaN</td>\n      <td>Оригинал</td>\n      <td>полный</td>\n      <td>Левый</td>\n    </tr>\n    <tr>\n      <th>1</th>\n      <td>седан</td>\n      <td>AUDI</td>\n      <td>серебристый</td>\n      <td>Продажа от собственника, второй владелец, ПТС ...</td>\n      <td>2.8 LTR</td>\n      <td>204 N12</td>\n      <td>бензин</td>\n      <td>183000</td>\n      <td>2011</td>\n      <td>A6</td>\n      <td>...</td>\n      <td>850000.0</td>\n      <td>2011</td>\n      <td>1095836906</td>\n      <td>SEDAN VARIATOR 2.8</td>\n      <td>вариатор</td>\n      <td>2 владельца</td>\n      <td>8 лет и 6 месяцев</td>\n      <td>Оригинал</td>\n      <td>передний</td>\n      <td>Левый</td>\n    </tr>\n    <tr>\n      <th>2</th>\n      <td>седан</td>\n      <td>MERCEDES</td>\n      <td>чёрный</td>\n      <td>Внимание! Только для клиентов AVILON Автомобил...</td>\n      <td>3.5 LTR</td>\n      <td>306 N12</td>\n      <td>бензин</td>\n      <td>122733</td>\n      <td>2009</td>\n      <td>E_KLASSE</td>\n      <td>...</td>\n      <td>1325000.0</td>\n      <td>2013</td>\n      <td>1100195530</td>\n      <td>SEDAN AUTOMATIC 3.5</td>\n      <td>автоматическая</td>\n      <td>3 или более</td>\n      <td>NaN</td>\n      <td>Оригинал</td>\n      <td>полный</td>\n      <td>Левый</td>\n    </tr>\n    <tr>\n      <th>3</th>\n      <td>седан</td>\n      <td>AUDI</td>\n      <td>белый</td>\n      <td>В комплекте зимние колёса. 27.07.2020 Замена п...</td>\n      <td>2.0 LTR</td>\n      <td>180 N12</td>\n      <td>бензин</td>\n      <td>151000</td>\n      <td>2011</td>\n      <td>A6</td>\n      <td>...</td>\n      <td>815000.0</td>\n      <td>2011</td>\n      <td>1099880662</td>\n      <td>SEDAN VARIATOR 2.0</td>\n      <td>вариатор</td>\n      <td>3 или более</td>\n      <td>4 года и 9 месяцев</td>\n      <td>Оригинал</td>\n      <td>передний</td>\n      <td>Левый</td>\n    </tr>\n    <tr>\n      <th>4</th>\n      <td>лифтбек</td>\n      <td>AUDI</td>\n      <td>белый</td>\n      <td>Отличный авто, 2011 года выпуска, кроме передн...</td>\n      <td>1.8 LTR</td>\n      <td>160 N12</td>\n      <td>бензин</td>\n      <td>140000</td>\n      <td>2007</td>\n      <td>A5</td>\n      <td>...</td>\n      <td>810000.0</td>\n      <td>2011</td>\n      <td>1083244610</td>\n      <td>LIFTBACK VARIATOR 1.8</td>\n      <td>вариатор</td>\n      <td>3 или более</td>\n      <td>2 года и 9 месяцев</td>\n      <td>Оригинал</td>\n      <td>передний</td>\n      <td>Левый</td>\n    </tr>\n    <tr>\n      <th>...</th>\n      <td>...</td>\n      <td>...</td>\n      <td>...</td>\n      <td>...</td>\n      <td>...</td>\n      <td>...</td>\n      <td>...</td>\n      <td>...</td>\n      <td>...</td>\n      <td>...</td>\n      <td>...</td>\n      <td>...</td>\n      <td>...</td>\n      <td>...</td>\n      <td>...</td>\n      <td>...</td>\n      <td>...</td>\n      <td>...</td>\n      <td>...</td>\n      <td>...</td>\n      <td>...</td>\n    </tr>\n    <tr>\n      <th>6677</th>\n      <td>седан</td>\n      <td>BMW</td>\n      <td>серый</td>\n      <td>Продаётся любимый автомобиль! За годы эксплуат...</td>\n      <td>2.0 LTR</td>\n      <td>150 N12</td>\n      <td>бензин</td>\n      <td>232777</td>\n      <td>2005</td>\n      <td>3ER</td>\n      <td>...</td>\n      <td>550000.0</td>\n      <td>2006</td>\n      <td>1100036650</td>\n      <td>SEDAN AUTOMATIC 2.0</td>\n      <td>автоматическая</td>\n      <td>3 или более</td>\n      <td>NaN</td>\n      <td>Оригинал</td>\n      <td>задний</td>\n      <td>Левый</td>\n    </tr>\n    <tr>\n      <th>6678</th>\n      <td>седан</td>\n      <td>BMW</td>\n      <td>чёрный</td>\n      <td>Куплена у официального дилера в 2017 г. \\n\\nТр...</td>\n      <td>2.0 LTR</td>\n      <td>190 N12</td>\n      <td>дизель</td>\n      <td>33700</td>\n      <td>2013</td>\n      <td>5ER</td>\n      <td>...</td>\n      <td>1900000.0</td>\n      <td>2016</td>\n      <td>1090506038</td>\n      <td>SEDAN AUTOMATIC 2.0</td>\n      <td>автоматическая</td>\n      <td>3 или более</td>\n      <td>2 года и 2 месяца</td>\n      <td>Оригинал</td>\n      <td>задний</td>\n      <td>Левый</td>\n    </tr>\n    <tr>\n      <th>6679</th>\n      <td>седан</td>\n      <td>BMW</td>\n      <td>белый</td>\n      <td>Торг на месте. Все работает. Сборка немецкая. ...</td>\n      <td>2.0 LTR</td>\n      <td>143 N12</td>\n      <td>бензин</td>\n      <td>200000</td>\n      <td>2008</td>\n      <td>3ER</td>\n      <td>...</td>\n      <td>530000.0</td>\n      <td>2008</td>\n      <td>1095155628</td>\n      <td>SEDAN AUTOMATIC 2.0</td>\n      <td>автоматическая</td>\n      <td>3 или более</td>\n      <td>2 года и 2 месяца</td>\n      <td>Оригинал</td>\n      <td>задний</td>\n      <td>Левый</td>\n    </tr>\n    <tr>\n      <th>6680</th>\n      <td>седан</td>\n      <td>AUDI</td>\n      <td>чёрный</td>\n      <td>Автомобиль в отличном состоянии.\\n3-из Авто в ...</td>\n      <td>3.0 LTR</td>\n      <td>310 N12</td>\n      <td>бензин</td>\n      <td>72000</td>\n      <td>2013</td>\n      <td>A8</td>\n      <td>...</td>\n      <td>1970000.0</td>\n      <td>2016</td>\n      <td>1099625256</td>\n      <td>SEDAN AUTOMATIC 3.0</td>\n      <td>автоматическая</td>\n      <td>3 или более</td>\n      <td>NaN</td>\n      <td>Оригинал</td>\n      <td>полный</td>\n      <td>Левый</td>\n    </tr>\n    <tr>\n      <th>6681</th>\n      <td>лимузин</td>\n      <td>MERCEDES</td>\n      <td>чёрный</td>\n      <td>Удлиненный заводской Pullman на базе W140 (воо...</td>\n      <td>6.0 LTR</td>\n      <td>394 N12</td>\n      <td>бензин</td>\n      <td>21291</td>\n      <td>1994</td>\n      <td>S_KLASSE</td>\n      <td>...</td>\n      <td>3000000.0</td>\n      <td>1996</td>\n      <td>1097146066</td>\n      <td>LIMOUSINE AUTOMATIC 6.0</td>\n      <td>автоматическая</td>\n      <td>2 владельца</td>\n      <td>NaN</td>\n      <td>Оригинал</td>\n      <td>задний</td>\n      <td>Левый</td>\n    </tr>\n  </tbody>\n</table>\n<p>6682 rows × 22 columns</p>\n</div>"
     },
     "execution_count": 52,
     "metadata": {},
     "output_type": "execute_result"
    }
   ],
   "source": [
    "train"
   ]
  },
  {
   "cell_type": "code",
   "execution_count": 53,
   "metadata": {
    "execution": {
     "iopub.execute_input": "2020-12-02T17:27:28.245491Z",
     "iopub.status.busy": "2020-12-02T17:27:28.244759Z",
     "iopub.status.idle": "2020-12-02T17:27:28.247934Z",
     "shell.execute_reply": "2020-12-02T17:27:28.247270Z"
    },
    "papermill": {
     "duration": 0.107742,
     "end_time": "2020-12-02T17:27:28.248048",
     "exception": false,
     "start_time": "2020-12-02T17:27:28.140306",
     "status": "completed"
    },
    "tags": []
   },
   "outputs": [],
   "source": [
    "#используем все текстовые признаки как категориальные без предобработки\n",
    "categorical_features = ['bodyType', \n",
    "                        'brand', \n",
    "                        'color', \n",
    "                        'engineDisplacement',\n",
    "                        'fuelType',\n",
    "                        #'enginePower',\n",
    "                        #'model_info', \n",
    "                        #'name',\n",
    "                        'numberOfDoors', \n",
    "                        'vehicleTransmission',\n",
    "                        #'vehicleConfiguration',\n",
    "                        'model_info',\n",
    "                        'Владельцы',\n",
    "                        ]\n",
    "\n",
    "#используем все числовые признаки\n",
    "numerical_features = ['mileage', 'productionDate', 'modelDate',]"
   ]
  },
  {
   "cell_type": "code",
   "execution_count": 54,
   "metadata": {
    "execution": {
     "iopub.execute_input": "2020-12-02T17:27:28.448489Z",
     "iopub.status.busy": "2020-12-02T17:27:28.447487Z",
     "iopub.status.idle": "2020-12-02T17:27:28.484119Z",
     "shell.execute_reply": "2020-12-02T17:27:28.483592Z"
    },
    "papermill": {
     "duration": 0.140202,
     "end_time": "2020-12-02T17:27:28.484241",
     "exception": false,
     "start_time": "2020-12-02T17:27:28.344039",
     "status": "completed"
    },
    "tags": []
   },
   "outputs": [
    {
     "name": "stdout",
     "output_type": "stream",
     "text": [
      "(6682, 23) (1671, 23) (8353, 23)\n"
     ]
    }
   ],
   "source": [
    "# ВАЖНО! дря корректной обработки признаков объединяем трейн и тест в один датасет\n",
    "train['sample'] = 1 # помечаем где у нас трейн\n",
    "test['sample'] = 0 # помечаем где у нас тест\n",
    "test['price'] = 0 # в тесте у нас нет значения price, мы его должны предсказать, поэтому пока просто заполняем нулями\n",
    "\n",
    "data = test.append(train, sort=False).reset_index(drop=True) # объединяем\n",
    "data.index = data['sell_id']\n",
    "print(train.shape, test.shape, data.shape)"
   ]
  },
  {
   "cell_type": "code",
   "execution_count": 55,
   "metadata": {
    "execution": {
     "iopub.execute_input": "2020-12-02T17:27:28.692923Z",
     "iopub.status.busy": "2020-12-02T17:27:28.691078Z",
     "iopub.status.idle": "2020-12-02T17:27:28.693581Z",
     "shell.execute_reply": "2020-12-02T17:27:28.694060Z"
    },
    "papermill": {
     "duration": 0.113438,
     "end_time": "2020-12-02T17:27:28.694180",
     "exception": false,
     "start_time": "2020-12-02T17:27:28.580742",
     "status": "completed"
    },
    "tags": []
   },
   "outputs": [],
   "source": [
    "def preproc_data(df_input):\n",
    "    '''includes several functions to pre-process the predictor data.'''\n",
    "    \n",
    "    df_output = df_input.copy()\n",
    "    \n",
    "    # ################### 1. Предобработка ############################################################## \n",
    "    # убираем не нужные для модели признаки\n",
    "    df_output.drop(['description','sell_id',], axis = 1, inplace=True)\n",
    "    \n",
    "    \n",
    "    # ################### Numerical Features ############################################################## \n",
    "    # Далее заполняем пропуски\n",
    "    for column in numerical_features:\n",
    "        df_output[column].fillna(df_output[column].median(), inplace=True)\n",
    "    # тут ваш код по обработке NAN\n",
    "    # ....\n",
    "    \n",
    "    # Нормализация данных\n",
    "    scaler = MinMaxScaler()\n",
    "    for column in numerical_features:\n",
    "        df_output[column] = scaler.fit_transform(df_output[[column]])[:,0]\n",
    "    \n",
    "    \n",
    "    \n",
    "    # ################### Categorical Features ############################################################## \n",
    "    # Label Encoding\n",
    "    for column in categorical_features:\n",
    "        df_output[column] = df_output[column].astype('category').cat.codes\n",
    "        \n",
    "    # One-Hot Encoding: в pandas есть готовая функция - get_dummies.\n",
    "    df_output = pd.get_dummies(df_output, columns=categorical_features, dummy_na=False)\n",
    "    # тут ваш код не Encoding фитчей\n",
    "    # ....\n",
    "    \n",
    "    \n",
    "    # ################### Feature Engineering ####################################################\n",
    "    # тут ваш код не генерацию новых фитчей\n",
    "    # ....\n",
    "    \n",
    "    \n",
    "    # ################### Clean #################################################### \n",
    "    # убираем не нужные признаки и которые еще не успели обработать, \n",
    "    df_output.drop(['vehicleConfiguration',\n",
    "                    'super_gen',\n",
    "                    'complectation_dict',\n",
    "                    'equipment_dict',\n",
    "                    'image', \n",
    "                    'priceCurrency',\n",
    "                    'car_url',\n",
    "                    'parsing_unixtime',\n",
    "                    'enginePower',\n",
    "                    #'modelDate',\n",
    "                     'name',\n",
    "                    'model_info',\n",
    "                   ], axis = 1, inplace=True)\n",
    "    \n",
    "    return df_output"
   ]
  },
  {
   "cell_type": "code",
   "execution_count": 56,
   "metadata": {
    "execution": {
     "iopub.execute_input": "2020-12-02T17:27:28.893115Z",
     "iopub.status.busy": "2020-12-02T17:27:28.892261Z",
     "iopub.status.idle": "2020-12-02T17:27:29.111067Z",
     "shell.execute_reply": "2020-12-02T17:27:29.110547Z"
    },
    "papermill": {
     "duration": 0.32104,
     "end_time": "2020-12-02T17:27:29.111172",
     "exception": false,
     "start_time": "2020-12-02T17:27:28.790132",
     "status": "completed"
    },
    "tags": []
   },
   "outputs": [
    {
     "ename": "KeyError",
     "evalue": "\"['super_gen' 'complectation_dict' 'equipment_dict' 'image' 'priceCurrency'\\n 'car_url' 'parsing_unixtime' 'model_info'] not found in axis\"",
     "output_type": "error",
     "traceback": [
      "\u001B[0;31m---------------------------------------------------------------------------\u001B[0m",
      "\u001B[0;31mKeyError\u001B[0m                                  Traceback (most recent call last)",
      "\u001B[0;32m/tmp/ipykernel_7356/623631655.py\u001B[0m in \u001B[0;36m<module>\u001B[0;34m\u001B[0m\n\u001B[1;32m      1\u001B[0m \u001B[0;31m# Запускаем и проверяем, что получилось\u001B[0m\u001B[0;34m\u001B[0m\u001B[0;34m\u001B[0m\u001B[0;34m\u001B[0m\u001B[0m\n\u001B[0;32m----> 2\u001B[0;31m \u001B[0mdf_preproc\u001B[0m \u001B[0;34m=\u001B[0m \u001B[0mpreproc_data\u001B[0m\u001B[0;34m(\u001B[0m\u001B[0mdata\u001B[0m\u001B[0;34m)\u001B[0m\u001B[0;34m\u001B[0m\u001B[0;34m\u001B[0m\u001B[0m\n\u001B[0m\u001B[1;32m      3\u001B[0m \u001B[0mdf_preproc\u001B[0m\u001B[0;34m.\u001B[0m\u001B[0msample\u001B[0m\u001B[0;34m(\u001B[0m\u001B[0;36m10\u001B[0m\u001B[0;34m)\u001B[0m\u001B[0;34m\u001B[0m\u001B[0;34m\u001B[0m\u001B[0m\n\u001B[1;32m      4\u001B[0m \u001B[0;34m\u001B[0m\u001B[0m\n",
      "\u001B[0;32m/tmp/ipykernel_7356/3945005693.py\u001B[0m in \u001B[0;36mpreproc_data\u001B[0;34m(df_input)\u001B[0m\n\u001B[1;32m     41\u001B[0m     \u001B[0;31m# ################### Clean ####################################################\u001B[0m\u001B[0;34m\u001B[0m\u001B[0;34m\u001B[0m\u001B[0;34m\u001B[0m\u001B[0m\n\u001B[1;32m     42\u001B[0m     \u001B[0;31m# убираем не нужные признаки и которые еще не успели обработать,\u001B[0m\u001B[0;34m\u001B[0m\u001B[0;34m\u001B[0m\u001B[0;34m\u001B[0m\u001B[0m\n\u001B[0;32m---> 43\u001B[0;31m     df_output.drop(['vehicleConfiguration',\n\u001B[0m\u001B[1;32m     44\u001B[0m                     \u001B[0;34m'super_gen'\u001B[0m\u001B[0;34m,\u001B[0m\u001B[0;34m\u001B[0m\u001B[0;34m\u001B[0m\u001B[0m\n\u001B[1;32m     45\u001B[0m                     \u001B[0;34m'complectation_dict'\u001B[0m\u001B[0;34m,\u001B[0m\u001B[0;34m\u001B[0m\u001B[0;34m\u001B[0m\u001B[0m\n",
      "\u001B[0;32m~/venv/tfgpu/lib/python3.8/site-packages/pandas/util/_decorators.py\u001B[0m in \u001B[0;36mwrapper\u001B[0;34m(*args, **kwargs)\u001B[0m\n\u001B[1;32m    309\u001B[0m                     \u001B[0mstacklevel\u001B[0m\u001B[0;34m=\u001B[0m\u001B[0mstacklevel\u001B[0m\u001B[0;34m,\u001B[0m\u001B[0;34m\u001B[0m\u001B[0;34m\u001B[0m\u001B[0m\n\u001B[1;32m    310\u001B[0m                 )\n\u001B[0;32m--> 311\u001B[0;31m             \u001B[0;32mreturn\u001B[0m \u001B[0mfunc\u001B[0m\u001B[0;34m(\u001B[0m\u001B[0;34m*\u001B[0m\u001B[0margs\u001B[0m\u001B[0;34m,\u001B[0m \u001B[0;34m**\u001B[0m\u001B[0mkwargs\u001B[0m\u001B[0;34m)\u001B[0m\u001B[0;34m\u001B[0m\u001B[0;34m\u001B[0m\u001B[0m\n\u001B[0m\u001B[1;32m    312\u001B[0m \u001B[0;34m\u001B[0m\u001B[0m\n\u001B[1;32m    313\u001B[0m         \u001B[0;32mreturn\u001B[0m \u001B[0mwrapper\u001B[0m\u001B[0;34m\u001B[0m\u001B[0;34m\u001B[0m\u001B[0m\n",
      "\u001B[0;32m~/venv/tfgpu/lib/python3.8/site-packages/pandas/core/frame.py\u001B[0m in \u001B[0;36mdrop\u001B[0;34m(self, labels, axis, index, columns, level, inplace, errors)\u001B[0m\n\u001B[1;32m   4904\u001B[0m                 \u001B[0mweight\u001B[0m  \u001B[0;36m1.0\u001B[0m     \u001B[0;36m0.8\u001B[0m\u001B[0;34m\u001B[0m\u001B[0;34m\u001B[0m\u001B[0m\n\u001B[1;32m   4905\u001B[0m         \"\"\"\n\u001B[0;32m-> 4906\u001B[0;31m         return super().drop(\n\u001B[0m\u001B[1;32m   4907\u001B[0m             \u001B[0mlabels\u001B[0m\u001B[0;34m=\u001B[0m\u001B[0mlabels\u001B[0m\u001B[0;34m,\u001B[0m\u001B[0;34m\u001B[0m\u001B[0;34m\u001B[0m\u001B[0m\n\u001B[1;32m   4908\u001B[0m             \u001B[0maxis\u001B[0m\u001B[0;34m=\u001B[0m\u001B[0maxis\u001B[0m\u001B[0;34m,\u001B[0m\u001B[0;34m\u001B[0m\u001B[0;34m\u001B[0m\u001B[0m\n",
      "\u001B[0;32m~/venv/tfgpu/lib/python3.8/site-packages/pandas/core/generic.py\u001B[0m in \u001B[0;36mdrop\u001B[0;34m(self, labels, axis, index, columns, level, inplace, errors)\u001B[0m\n\u001B[1;32m   4148\u001B[0m         \u001B[0;32mfor\u001B[0m \u001B[0maxis\u001B[0m\u001B[0;34m,\u001B[0m \u001B[0mlabels\u001B[0m \u001B[0;32min\u001B[0m \u001B[0maxes\u001B[0m\u001B[0;34m.\u001B[0m\u001B[0mitems\u001B[0m\u001B[0;34m(\u001B[0m\u001B[0;34m)\u001B[0m\u001B[0;34m:\u001B[0m\u001B[0;34m\u001B[0m\u001B[0;34m\u001B[0m\u001B[0m\n\u001B[1;32m   4149\u001B[0m             \u001B[0;32mif\u001B[0m \u001B[0mlabels\u001B[0m \u001B[0;32mis\u001B[0m \u001B[0;32mnot\u001B[0m \u001B[0;32mNone\u001B[0m\u001B[0;34m:\u001B[0m\u001B[0;34m\u001B[0m\u001B[0;34m\u001B[0m\u001B[0m\n\u001B[0;32m-> 4150\u001B[0;31m                 \u001B[0mobj\u001B[0m \u001B[0;34m=\u001B[0m \u001B[0mobj\u001B[0m\u001B[0;34m.\u001B[0m\u001B[0m_drop_axis\u001B[0m\u001B[0;34m(\u001B[0m\u001B[0mlabels\u001B[0m\u001B[0;34m,\u001B[0m \u001B[0maxis\u001B[0m\u001B[0;34m,\u001B[0m \u001B[0mlevel\u001B[0m\u001B[0;34m=\u001B[0m\u001B[0mlevel\u001B[0m\u001B[0;34m,\u001B[0m \u001B[0merrors\u001B[0m\u001B[0;34m=\u001B[0m\u001B[0merrors\u001B[0m\u001B[0;34m)\u001B[0m\u001B[0;34m\u001B[0m\u001B[0;34m\u001B[0m\u001B[0m\n\u001B[0m\u001B[1;32m   4151\u001B[0m \u001B[0;34m\u001B[0m\u001B[0m\n\u001B[1;32m   4152\u001B[0m         \u001B[0;32mif\u001B[0m \u001B[0minplace\u001B[0m\u001B[0;34m:\u001B[0m\u001B[0;34m\u001B[0m\u001B[0;34m\u001B[0m\u001B[0m\n",
      "\u001B[0;32m~/venv/tfgpu/lib/python3.8/site-packages/pandas/core/generic.py\u001B[0m in \u001B[0;36m_drop_axis\u001B[0;34m(self, labels, axis, level, errors)\u001B[0m\n\u001B[1;32m   4183\u001B[0m                 \u001B[0mnew_axis\u001B[0m \u001B[0;34m=\u001B[0m \u001B[0maxis\u001B[0m\u001B[0;34m.\u001B[0m\u001B[0mdrop\u001B[0m\u001B[0;34m(\u001B[0m\u001B[0mlabels\u001B[0m\u001B[0;34m,\u001B[0m \u001B[0mlevel\u001B[0m\u001B[0;34m=\u001B[0m\u001B[0mlevel\u001B[0m\u001B[0;34m,\u001B[0m \u001B[0merrors\u001B[0m\u001B[0;34m=\u001B[0m\u001B[0merrors\u001B[0m\u001B[0;34m)\u001B[0m\u001B[0;34m\u001B[0m\u001B[0;34m\u001B[0m\u001B[0m\n\u001B[1;32m   4184\u001B[0m             \u001B[0;32melse\u001B[0m\u001B[0;34m:\u001B[0m\u001B[0;34m\u001B[0m\u001B[0;34m\u001B[0m\u001B[0m\n\u001B[0;32m-> 4185\u001B[0;31m                 \u001B[0mnew_axis\u001B[0m \u001B[0;34m=\u001B[0m \u001B[0maxis\u001B[0m\u001B[0;34m.\u001B[0m\u001B[0mdrop\u001B[0m\u001B[0;34m(\u001B[0m\u001B[0mlabels\u001B[0m\u001B[0;34m,\u001B[0m \u001B[0merrors\u001B[0m\u001B[0;34m=\u001B[0m\u001B[0merrors\u001B[0m\u001B[0;34m)\u001B[0m\u001B[0;34m\u001B[0m\u001B[0;34m\u001B[0m\u001B[0m\n\u001B[0m\u001B[1;32m   4186\u001B[0m             \u001B[0mresult\u001B[0m \u001B[0;34m=\u001B[0m \u001B[0mself\u001B[0m\u001B[0;34m.\u001B[0m\u001B[0mreindex\u001B[0m\u001B[0;34m(\u001B[0m\u001B[0;34m**\u001B[0m\u001B[0;34m{\u001B[0m\u001B[0maxis_name\u001B[0m\u001B[0;34m:\u001B[0m \u001B[0mnew_axis\u001B[0m\u001B[0;34m}\u001B[0m\u001B[0;34m)\u001B[0m\u001B[0;34m\u001B[0m\u001B[0;34m\u001B[0m\u001B[0m\n\u001B[1;32m   4187\u001B[0m \u001B[0;34m\u001B[0m\u001B[0m\n",
      "\u001B[0;32m~/venv/tfgpu/lib/python3.8/site-packages/pandas/core/indexes/base.py\u001B[0m in \u001B[0;36mdrop\u001B[0;34m(self, labels, errors)\u001B[0m\n\u001B[1;32m   6015\u001B[0m         \u001B[0;32mif\u001B[0m \u001B[0mmask\u001B[0m\u001B[0;34m.\u001B[0m\u001B[0many\u001B[0m\u001B[0;34m(\u001B[0m\u001B[0;34m)\u001B[0m\u001B[0;34m:\u001B[0m\u001B[0;34m\u001B[0m\u001B[0;34m\u001B[0m\u001B[0m\n\u001B[1;32m   6016\u001B[0m             \u001B[0;32mif\u001B[0m \u001B[0merrors\u001B[0m \u001B[0;34m!=\u001B[0m \u001B[0;34m\"ignore\"\u001B[0m\u001B[0;34m:\u001B[0m\u001B[0;34m\u001B[0m\u001B[0;34m\u001B[0m\u001B[0m\n\u001B[0;32m-> 6017\u001B[0;31m                 \u001B[0;32mraise\u001B[0m \u001B[0mKeyError\u001B[0m\u001B[0;34m(\u001B[0m\u001B[0;34mf\"{labels[mask]} not found in axis\"\u001B[0m\u001B[0;34m)\u001B[0m\u001B[0;34m\u001B[0m\u001B[0;34m\u001B[0m\u001B[0m\n\u001B[0m\u001B[1;32m   6018\u001B[0m             \u001B[0mindexer\u001B[0m \u001B[0;34m=\u001B[0m \u001B[0mindexer\u001B[0m\u001B[0;34m[\u001B[0m\u001B[0;34m~\u001B[0m\u001B[0mmask\u001B[0m\u001B[0;34m]\u001B[0m\u001B[0;34m\u001B[0m\u001B[0;34m\u001B[0m\u001B[0m\n\u001B[1;32m   6019\u001B[0m         \u001B[0;32mreturn\u001B[0m \u001B[0mself\u001B[0m\u001B[0;34m.\u001B[0m\u001B[0mdelete\u001B[0m\u001B[0;34m(\u001B[0m\u001B[0mindexer\u001B[0m\u001B[0;34m)\u001B[0m\u001B[0;34m\u001B[0m\u001B[0;34m\u001B[0m\u001B[0m\n",
      "\u001B[0;31mKeyError\u001B[0m: \"['super_gen' 'complectation_dict' 'equipment_dict' 'image' 'priceCurrency'\\n 'car_url' 'parsing_unixtime' 'model_info'] not found in axis\""
     ]
    }
   ],
   "source": [
    "# Запускаем и проверяем, что получилось\n",
    "df_preproc = preproc_data(data)\n",
    "df_preproc.sample(10)"
   ]
  },
  {
   "cell_type": "code",
   "execution_count": null,
   "metadata": {
    "execution": {
     "iopub.execute_input": "2020-12-02T17:27:29.338883Z",
     "iopub.status.busy": "2020-12-02T17:27:29.338254Z",
     "iopub.status.idle": "2020-12-02T17:27:29.345441Z",
     "shell.execute_reply": "2020-12-02T17:27:29.344860Z"
    },
    "papermill": {
     "duration": 0.13408,
     "end_time": "2020-12-02T17:27:29.345547",
     "exception": false,
     "start_time": "2020-12-02T17:27:29.211467",
     "status": "completed"
    },
    "tags": []
   },
   "outputs": [],
   "source": [
    "df_preproc.info()"
   ]
  },
  {
   "cell_type": "markdown",
   "metadata": {
    "papermill": {
     "duration": 0.102728,
     "end_time": "2020-12-02T17:27:29.546462",
     "exception": false,
     "start_time": "2020-12-02T17:27:29.443734",
     "status": "completed"
    },
    "tags": []
   },
   "source": [
    "## Split data"
   ]
  },
  {
   "cell_type": "code",
   "execution_count": null,
   "metadata": {
    "execution": {
     "iopub.execute_input": "2020-12-02T17:27:29.772030Z",
     "iopub.status.busy": "2020-12-02T17:27:29.761860Z",
     "iopub.status.idle": "2020-12-02T17:27:29.841903Z",
     "shell.execute_reply": "2020-12-02T17:27:29.841344Z"
    },
    "papermill": {
     "duration": 0.196219,
     "end_time": "2020-12-02T17:27:29.842009",
     "exception": false,
     "start_time": "2020-12-02T17:27:29.645790",
     "status": "completed"
    },
    "tags": []
   },
   "outputs": [],
   "source": [
    "# Теперь выделим тестовую часть\n",
    "train_data = df_preproc.query('sample == 1').drop(['sample'], axis=1)\n",
    "test_data = df_preproc.query('sample == 0').drop(['sample'], axis=1)\n",
    "\n",
    "y = train_data.price.values     # наш таргет\n",
    "X = train_data.drop(['price'], axis=1)\n",
    "X_sub = test_data.drop(['price'], axis=1)"
   ]
  },
  {
   "cell_type": "code",
   "execution_count": null,
   "metadata": {
    "execution": {
     "iopub.execute_input": "2020-12-02T17:27:30.078940Z",
     "iopub.status.busy": "2020-12-02T17:27:30.078146Z",
     "iopub.status.idle": "2020-12-02T17:27:30.082514Z",
     "shell.execute_reply": "2020-12-02T17:27:30.083216Z"
    },
    "papermill": {
     "duration": 0.140617,
     "end_time": "2020-12-02T17:27:30.083388",
     "exception": false,
     "start_time": "2020-12-02T17:27:29.942771",
     "status": "completed"
    },
    "tags": []
   },
   "outputs": [],
   "source": [
    "test_data.info()"
   ]
  },
  {
   "cell_type": "markdown",
   "metadata": {
    "papermill": {
     "duration": 0.098746,
     "end_time": "2020-12-02T17:27:30.290607",
     "exception": false,
     "start_time": "2020-12-02T17:27:30.191861",
     "status": "completed"
    },
    "tags": []
   },
   "source": [
    "# Model 2: CatBoostRegressor"
   ]
  },
  {
   "cell_type": "code",
   "execution_count": null,
   "metadata": {
    "execution": {
     "iopub.execute_input": "2020-12-02T17:27:30.497457Z",
     "iopub.status.busy": "2020-12-02T17:27:30.496131Z",
     "iopub.status.idle": "2020-12-02T17:27:30.521183Z",
     "shell.execute_reply": "2020-12-02T17:27:30.520672Z"
    },
    "papermill": {
     "duration": 0.132006,
     "end_time": "2020-12-02T17:27:30.521301",
     "exception": false,
     "start_time": "2020-12-02T17:27:30.389295",
     "status": "completed"
    },
    "tags": []
   },
   "outputs": [],
   "source": [
    "X_train, X_test, y_train, y_test = train_test_split(X, y, test_size=0.25, shuffle=True, random_state=RANDOM_SEED)"
   ]
  },
  {
   "cell_type": "code",
   "execution_count": null,
   "metadata": {
    "_kg_hide-output": true,
    "execution": {
     "iopub.execute_input": "2020-12-02T17:27:30.730961Z",
     "iopub.status.busy": "2020-12-02T17:27:30.730321Z",
     "iopub.status.idle": "2020-12-02T17:28:33.124029Z",
     "shell.execute_reply": "2020-12-02T17:28:33.124579Z"
    },
    "papermill": {
     "duration": 62.504199,
     "end_time": "2020-12-02T17:28:33.124730",
     "exception": false,
     "start_time": "2020-12-02T17:27:30.620531",
     "status": "completed"
    },
    "tags": []
   },
   "outputs": [],
   "source": [
    "model = CatBoostRegressor(iterations = 10000,\n",
    "                          #depth=10,\n",
    "                          #learning_rate = 0.5,\n",
    "                          random_seed = RANDOM_SEED,\n",
    "                          eval_metric='MAPE',\n",
    "                          custom_metric=['RMSE', 'MAE'],\n",
    "                          od_wait=1000,\n",
    "                          silent=True,\n",
    "                          #task_type='GPU',\n",
    "                         )\n",
    "model.fit(X_train, np.log(y_train),\n",
    "         eval_set=(X_test, np.log(y_test)),\n",
    "         verbose_eval=0,\n",
    "         use_best_model=True,\n",
    "         #plot=True\n",
    "         )"
   ]
  },
  {
   "cell_type": "code",
   "execution_count": null,
   "metadata": {
    "execution": {
     "iopub.execute_input": "2020-12-02T17:28:33.349741Z",
     "iopub.status.busy": "2020-12-02T17:28:33.348673Z",
     "iopub.status.idle": "2020-12-02T17:28:33.403132Z",
     "shell.execute_reply": "2020-12-02T17:28:33.403913Z"
    },
    "papermill": {
     "duration": 0.17166,
     "end_time": "2020-12-02T17:28:33.404051",
     "exception": false,
     "start_time": "2020-12-02T17:28:33.232391",
     "status": "completed"
    },
    "tags": []
   },
   "outputs": [],
   "source": [
    "test_predict_catboost = np.exp(model.predict(X_test))\n",
    "print(f\"TEST mape: {(mape(y_test, test_predict_catboost))*100:0.2f}%\")"
   ]
  },
  {
   "cell_type": "markdown",
   "metadata": {
    "papermill": {
     "duration": 0.09872,
     "end_time": "2020-12-02T17:28:33.601385",
     "exception": false,
     "start_time": "2020-12-02T17:28:33.502665",
     "status": "completed"
    },
    "tags": []
   },
   "source": [
    "### Submission"
   ]
  },
  {
   "cell_type": "code",
   "execution_count": null,
   "metadata": {
    "execution": {
     "iopub.execute_input": "2020-12-02T17:28:33.862428Z",
     "iopub.status.busy": "2020-12-02T17:28:33.846912Z",
     "iopub.status.idle": "2020-12-02T17:28:34.155324Z",
     "shell.execute_reply": "2020-12-02T17:28:34.154279Z"
    },
    "papermill": {
     "duration": 0.418462,
     "end_time": "2020-12-02T17:28:34.155513",
     "exception": false,
     "start_time": "2020-12-02T17:28:33.737051",
     "status": "completed"
    },
    "tags": []
   },
   "outputs": [],
   "source": [
    "sub_predict_catboost = np.exp(model.predict(X_sub))\n",
    "sample_submission['price'] = sub_predict_catboost\n",
    "sample_submission.to_csv('catboost_submission.csv', index=False)"
   ]
  },
  {
   "cell_type": "markdown",
   "metadata": {
    "papermill": {
     "duration": 0.097714,
     "end_time": "2020-12-02T17:28:34.355373",
     "exception": false,
     "start_time": "2020-12-02T17:28:34.257659",
     "status": "completed"
    },
    "tags": []
   },
   "source": [
    "# Model 3: Tabular NN"
   ]
  },
  {
   "cell_type": "markdown",
   "metadata": {
    "papermill": {
     "duration": 0.097105,
     "end_time": "2020-12-02T17:28:34.550055",
     "exception": false,
     "start_time": "2020-12-02T17:28:34.452950",
     "status": "completed"
    },
    "tags": []
   },
   "source": [
    "Построим обычную сеть:"
   ]
  },
  {
   "cell_type": "code",
   "execution_count": null,
   "metadata": {
    "execution": {
     "iopub.execute_input": "2020-12-02T17:28:34.755249Z",
     "iopub.status.busy": "2020-12-02T17:28:34.754621Z",
     "iopub.status.idle": "2020-12-02T17:28:34.776001Z",
     "shell.execute_reply": "2020-12-02T17:28:34.776519Z"
    },
    "papermill": {
     "duration": 0.126951,
     "end_time": "2020-12-02T17:28:34.776655",
     "exception": false,
     "start_time": "2020-12-02T17:28:34.649704",
     "status": "completed"
    },
    "tags": []
   },
   "outputs": [],
   "source": [
    "X_train.head(5)"
   ]
  },
  {
   "cell_type": "markdown",
   "metadata": {
    "papermill": {
     "duration": 0.108652,
     "end_time": "2020-12-02T17:28:34.987554",
     "exception": false,
     "start_time": "2020-12-02T17:28:34.878902",
     "status": "completed"
    },
    "tags": []
   },
   "source": [
    "## Simple Dense NN"
   ]
  },
  {
   "cell_type": "code",
   "execution_count": null,
   "metadata": {
    "execution": {
     "iopub.execute_input": "2020-12-02T17:28:35.195552Z",
     "iopub.status.busy": "2020-12-02T17:28:35.194948Z",
     "iopub.status.idle": "2020-12-02T17:28:37.957252Z",
     "shell.execute_reply": "2020-12-02T17:28:37.956637Z"
    },
    "papermill": {
     "duration": 2.871043,
     "end_time": "2020-12-02T17:28:37.957384",
     "exception": false,
     "start_time": "2020-12-02T17:28:35.086341",
     "status": "completed"
    },
    "tags": []
   },
   "outputs": [],
   "source": [
    "model_mlp = Sequential()\n",
    "model_mlp.add(L.Dense(512, input_dim=X_train.shape[1], activation=\"relu\"))\n",
    "model_mlp.add(L.Dropout(0.5))\n",
    "model_mlp.add(L.Dense(256, activation=\"relu\"))\n",
    "model_mlp.add(L.Dropout(0.25))"
   ]
  },
  {
   "cell_type": "code",
   "execution_count": null,
   "metadata": {
    "execution": {
     "iopub.execute_input": "2020-12-02T17:28:38.174483Z",
     "iopub.status.busy": "2020-12-02T17:28:38.173575Z",
     "iopub.status.idle": "2020-12-02T17:28:38.207024Z",
     "shell.execute_reply": "2020-12-02T17:28:38.207476Z"
    },
    "papermill": {
     "duration": 0.148095,
     "end_time": "2020-12-02T17:28:38.207617",
     "exception": false,
     "start_time": "2020-12-02T17:28:38.059522",
     "status": "completed"
    },
    "tags": []
   },
   "outputs": [],
   "source": [
    "model = Sequential()\n",
    "model.add(model_mlp)\n",
    "model.add(L.Dense(1, activation=\"linear\"))"
   ]
  },
  {
   "cell_type": "code",
   "execution_count": null,
   "metadata": {
    "execution": {
     "iopub.execute_input": "2020-12-02T17:28:38.427982Z",
     "iopub.status.busy": "2020-12-02T17:28:38.424146Z",
     "iopub.status.idle": "2020-12-02T17:28:38.431164Z",
     "shell.execute_reply": "2020-12-02T17:28:38.431897Z"
    },
    "papermill": {
     "duration": 0.11836,
     "end_time": "2020-12-02T17:28:38.432072",
     "exception": false,
     "start_time": "2020-12-02T17:28:38.313712",
     "status": "completed"
    },
    "tags": []
   },
   "outputs": [],
   "source": [
    "model.summary()"
   ]
  },
  {
   "cell_type": "code",
   "execution_count": null,
   "metadata": {
    "execution": {
     "iopub.execute_input": "2020-12-02T17:28:38.651445Z",
     "iopub.status.busy": "2020-12-02T17:28:38.650226Z",
     "iopub.status.idle": "2020-12-02T17:28:38.657736Z",
     "shell.execute_reply": "2020-12-02T17:28:38.657122Z"
    },
    "papermill": {
     "duration": 0.124454,
     "end_time": "2020-12-02T17:28:38.657840",
     "exception": false,
     "start_time": "2020-12-02T17:28:38.533386",
     "status": "completed"
    },
    "tags": []
   },
   "outputs": [],
   "source": [
    "# Compile model\n",
    "optimizer = tf.keras.optimizers.Adam(0.003)\n",
    "model.compile(loss='MAPE',optimizer=optimizer, metrics=['MAPE'])"
   ]
  },
  {
   "cell_type": "code",
   "execution_count": null,
   "metadata": {
    "execution": {
     "iopub.execute_input": "2020-12-02T17:28:38.868945Z",
     "iopub.status.busy": "2020-12-02T17:28:38.868132Z",
     "iopub.status.idle": "2020-12-02T17:28:38.872026Z",
     "shell.execute_reply": "2020-12-02T17:28:38.871538Z"
    },
    "papermill": {
     "duration": 0.112686,
     "end_time": "2020-12-02T17:28:38.872131",
     "exception": false,
     "start_time": "2020-12-02T17:28:38.759445",
     "status": "completed"
    },
    "tags": []
   },
   "outputs": [],
   "source": [
    "checkpoint = ModelCheckpoint('../working/best_model.hdf5' , monitor=['val_MAPE'], verbose=0  , mode='min')\n",
    "earlystop = EarlyStopping(monitor='val_MAPE', patience=25, restore_best_weights=True,)\n",
    "callbacks_list = [checkpoint, earlystop]"
   ]
  },
  {
   "cell_type": "markdown",
   "metadata": {
    "papermill": {
     "duration": 0.10104,
     "end_time": "2020-12-02T17:28:39.073984",
     "exception": false,
     "start_time": "2020-12-02T17:28:38.972944",
     "status": "completed"
    },
    "tags": []
   },
   "source": [
    "### Fit"
   ]
  },
  {
   "cell_type": "code",
   "execution_count": null,
   "metadata": {
    "execution": {
     "iopub.execute_input": "2020-12-02T17:28:39.285596Z",
     "iopub.status.busy": "2020-12-02T17:28:39.284748Z",
     "iopub.status.idle": "2020-12-02T17:29:58.605110Z",
     "shell.execute_reply": "2020-12-02T17:29:58.606010Z"
    },
    "papermill": {
     "duration": 79.428184,
     "end_time": "2020-12-02T17:29:58.606332",
     "exception": false,
     "start_time": "2020-12-02T17:28:39.178148",
     "status": "completed"
    },
    "tags": []
   },
   "outputs": [],
   "source": [
    "history = model.fit(X_train, y_train,\n",
    "                    batch_size=512,\n",
    "                    epochs=500, # фактически мы обучаем пока EarlyStopping не остановит обучение\n",
    "                    validation_data=(X_test, y_test),\n",
    "                    callbacks=callbacks_list,\n",
    "                    verbose=0,\n",
    "                   )"
   ]
  },
  {
   "cell_type": "code",
   "execution_count": null,
   "metadata": {
    "_kg_hide-input": true,
    "execution": {
     "iopub.execute_input": "2020-12-02T17:29:58.934312Z",
     "iopub.status.busy": "2020-12-02T17:29:58.933318Z",
     "iopub.status.idle": "2020-12-02T17:29:59.704277Z",
     "shell.execute_reply": "2020-12-02T17:29:59.702920Z"
    },
    "papermill": {
     "duration": 0.931578,
     "end_time": "2020-12-02T17:29:59.704404",
     "exception": false,
     "start_time": "2020-12-02T17:29:58.772826",
     "status": "completed"
    },
    "tags": []
   },
   "outputs": [],
   "source": [
    "plt.title('Loss')\n",
    "plt.plot(history.history['MAPE'], label='train')\n",
    "plt.plot(history.history['val_MAPE'], label='test')\n",
    "plt.gca().set_yscale('log')\n",
    "plt.gca().set_xscale('log')\n",
    "plt.legend()\n",
    "plt.show();"
   ]
  },
  {
   "cell_type": "code",
   "execution_count": null,
   "metadata": {
    "execution": {
     "iopub.execute_input": "2020-12-02T17:30:00.124179Z",
     "iopub.status.busy": "2020-12-02T17:30:00.123014Z",
     "iopub.status.idle": "2020-12-02T17:30:00.162680Z",
     "shell.execute_reply": "2020-12-02T17:30:00.162047Z"
    },
    "papermill": {
     "duration": 0.333803,
     "end_time": "2020-12-02T17:30:00.162794",
     "exception": false,
     "start_time": "2020-12-02T17:29:59.828991",
     "status": "completed"
    },
    "tags": []
   },
   "outputs": [],
   "source": [
    "model.load_weights('../working/best_model.hdf5')\n",
    "model.save('../working/nn_1.hdf5')\n",
    "model_mlp.save('../working/model_mlp.hdf5')"
   ]
  },
  {
   "cell_type": "code",
   "execution_count": null,
   "metadata": {
    "execution": {
     "iopub.execute_input": "2020-12-02T17:30:00.375577Z",
     "iopub.status.busy": "2020-12-02T17:30:00.374642Z",
     "iopub.status.idle": "2020-12-02T17:30:00.616940Z",
     "shell.execute_reply": "2020-12-02T17:30:00.617773Z"
    },
    "papermill": {
     "duration": 0.351467,
     "end_time": "2020-12-02T17:30:00.617920",
     "exception": false,
     "start_time": "2020-12-02T17:30:00.266453",
     "status": "completed"
    },
    "tags": []
   },
   "outputs": [],
   "source": [
    "test_predict_nn1 = model.predict(X_test)\n",
    "print(f\"TEST mape: {(mape(y_test, test_predict_nn1[:,0]))*100:0.2f}%\")"
   ]
  },
  {
   "cell_type": "code",
   "execution_count": null,
   "metadata": {
    "execution": {
     "iopub.execute_input": "2020-12-02T17:30:00.831483Z",
     "iopub.status.busy": "2020-12-02T17:30:00.830561Z",
     "iopub.status.idle": "2020-12-02T17:30:01.061629Z",
     "shell.execute_reply": "2020-12-02T17:30:01.060501Z"
    },
    "papermill": {
     "duration": 0.33985,
     "end_time": "2020-12-02T17:30:01.061768",
     "exception": false,
     "start_time": "2020-12-02T17:30:00.721918",
     "status": "completed"
    },
    "tags": []
   },
   "outputs": [],
   "source": [
    "sub_predict_nn1 = model.predict(X_sub)\n",
    "sample_submission['price'] = sub_predict_nn1[:,0]\n",
    "sample_submission.to_csv('nn1_submission.csv', index=False)"
   ]
  },
  {
   "cell_type": "markdown",
   "metadata": {
    "papermill": {
     "duration": 0.101447,
     "end_time": "2020-12-02T17:30:01.267725",
     "exception": false,
     "start_time": "2020-12-02T17:30:01.166278",
     "status": "completed"
    },
    "tags": []
   },
   "source": [
    "Рекомендации для улучшения Model 3:    \n",
    "* В нейросеть желательно подавать данные с распределением, близким к нормальному, поэтому от некоторых числовых признаков имеет смысл взять логарифм перед нормализацией. Пример:\n",
    "`modelDateNorm = np.log(2020 - data['modelDate'])`\n",
    "Статья по теме: https://habr.com/ru/company/ods/blog/325422\n",
    "\n",
    "* Извлечение числовых значений из текста:\n",
    "Парсинг признаков 'engineDisplacement', 'enginePower', 'Владение' для извлечения числовых значений.\n",
    "\n",
    "* Cокращение размерности категориальных признаков\n",
    "Например: Признак name 'name' содержит данные, которые уже есть в других столбцах ('enginePower', 'engineDisplacement', 'vehicleTransmission'), поэтому эти данные можно удалить. Затем следует еще сильнее сократить размерность, например, выделив наличие xDrive в качестве отдельного признака."
   ]
  },
  {
   "cell_type": "markdown",
   "metadata": {
    "papermill": {
     "duration": 0.184131,
     "end_time": "2020-12-02T17:30:01.691589",
     "exception": false,
     "start_time": "2020-12-02T17:30:01.507458",
     "status": "completed"
    },
    "tags": []
   },
   "source": [
    "# Model 4: NLP + Multiple Inputs"
   ]
  },
  {
   "cell_type": "code",
   "execution_count": null,
   "metadata": {
    "execution": {
     "iopub.execute_input": "2020-12-02T17:30:02.057869Z",
     "iopub.status.busy": "2020-12-02T17:30:02.056952Z",
     "iopub.status.idle": "2020-12-02T17:30:02.065289Z",
     "shell.execute_reply": "2020-12-02T17:30:02.066151Z"
    },
    "papermill": {
     "duration": 0.203559,
     "end_time": "2020-12-02T17:30:02.066453",
     "exception": false,
     "start_time": "2020-12-02T17:30:01.862894",
     "status": "completed"
    },
    "tags": []
   },
   "outputs": [],
   "source": [
    "data.description"
   ]
  },
  {
   "cell_type": "code",
   "execution_count": null,
   "metadata": {
    "execution": {
     "iopub.execute_input": "2020-12-02T17:30:02.298806Z",
     "iopub.status.busy": "2020-12-02T17:30:02.296516Z",
     "iopub.status.idle": "2020-12-02T17:30:02.299507Z",
     "shell.execute_reply": "2020-12-02T17:30:02.299969Z"
    },
    "papermill": {
     "duration": 0.112966,
     "end_time": "2020-12-02T17:30:02.300098",
     "exception": false,
     "start_time": "2020-12-02T17:30:02.187132",
     "status": "completed"
    },
    "tags": []
   },
   "outputs": [],
   "source": [
    "# TOKENIZER\n",
    "# The maximum number of words to be used. (most frequent)\n",
    "MAX_WORDS = 5000\n",
    "# Max number of words in each complaint.\n",
    "MAX_SEQUENCE_LENGTH = 256"
   ]
  },
  {
   "cell_type": "code",
   "execution_count": null,
   "metadata": {
    "execution": {
     "iopub.execute_input": "2020-12-02T17:30:02.539054Z",
     "iopub.status.busy": "2020-12-02T17:30:02.537988Z",
     "iopub.status.idle": "2020-12-02T17:30:02.547717Z",
     "shell.execute_reply": "2020-12-02T17:30:02.547216Z"
    },
    "papermill": {
     "duration": 0.125482,
     "end_time": "2020-12-02T17:30:02.547814",
     "exception": false,
     "start_time": "2020-12-02T17:30:02.422332",
     "status": "completed"
    },
    "tags": []
   },
   "outputs": [],
   "source": [
    "# split данных\n",
    "text_train = data.description.loc[X_train.index]\n",
    "text_test = data.description.loc[X_test.index]\n",
    "text_sub = data.description.loc[X_sub.index]\n",
    "\n",
    "text_train.shape, text_test.shape, text_sub.shape"
   ]
  },
  {
   "cell_type": "markdown",
   "metadata": {
    "papermill": {
     "duration": 0.11048,
     "end_time": "2020-12-02T17:30:02.763306",
     "exception": false,
     "start_time": "2020-12-02T17:30:02.652826",
     "status": "completed"
    },
    "tags": []
   },
   "source": [
    "### Tokenizer"
   ]
  },
  {
   "cell_type": "markdown",
   "metadata": {
    "papermill": {
     "duration": 0.117543,
     "end_time": "2020-12-02T17:30:02.994219",
     "exception": false,
     "start_time": "2020-12-02T17:30:02.876676",
     "status": "completed"
    },
    "tags": []
   },
   "source": [
    "Необработанный текст, необходимо обработать, прежде чем его можно будет использовать в модели. Самый простой способ обработать текст для обучения - использовать слой experimental.preprocessing.TextVectorization . Этот слой имеет много возможностей, но в этом руководстве используется поведение по умолчанию."
   ]
  },
  {
   "cell_type": "markdown",
   "metadata": {
    "papermill": {
     "duration": 0.105958,
     "end_time": "2020-12-02T17:30:03.205707",
     "exception": false,
     "start_time": "2020-12-02T17:30:03.099749",
     "status": "completed"
    },
    "tags": []
   },
   "source": [
    "<img src=\"https://www.tensorflow.org/tutorials/text/images/bidirectional.png\">"
   ]
  },
  {
   "cell_type": "markdown",
   "metadata": {
    "papermill": {
     "duration": 0.10488,
     "end_time": "2020-12-02T17:30:03.415161",
     "exception": false,
     "start_time": "2020-12-02T17:30:03.310281",
     "status": "completed"
    },
    "tags": []
   },
   "source": [
    "Создайте слой и передайте текст набора данных в метод слоя .adapt :"
   ]
  },
  {
   "cell_type": "code",
   "execution_count": null,
   "metadata": {
    "execution": {
     "iopub.execute_input": "2020-12-02T17:30:03.636440Z",
     "iopub.status.busy": "2020-12-02T17:30:03.635777Z",
     "iopub.status.idle": "2020-12-02T17:30:05.287336Z",
     "shell.execute_reply": "2020-12-02T17:30:05.286309Z"
    },
    "papermill": {
     "duration": 1.768075,
     "end_time": "2020-12-02T17:30:05.287460",
     "exception": false,
     "start_time": "2020-12-02T17:30:03.519385",
     "status": "completed"
    },
    "tags": []
   },
   "outputs": [],
   "source": [
    "vectorize_layer = tf.keras.layers.experimental.preprocessing.TextVectorization(\n",
    "    max_tokens=MAX_WORDS,\n",
    "    #output_mode='int',\n",
    "    #output_sequence_length=MAX_SEQUENCE_LENGTH,\n",
    "    )\n",
    "\n",
    "vectorize_layer.adapt(text_train.values)"
   ]
  },
  {
   "cell_type": "markdown",
   "metadata": {
    "papermill": {
     "duration": 0.111648,
     "end_time": "2020-12-02T17:30:05.514988",
     "exception": false,
     "start_time": "2020-12-02T17:30:05.403340",
     "status": "completed"
    },
    "tags": []
   },
   "source": [
    "Метод .adapt устанавливает словарный запас слоя. Вот первые 20 токенов. После заполнения и неизвестных токенов они сортируются по частоте:"
   ]
  },
  {
   "cell_type": "code",
   "execution_count": null,
   "metadata": {
    "execution": {
     "iopub.execute_input": "2020-12-02T17:30:05.751226Z",
     "iopub.status.busy": "2020-12-02T17:30:05.750406Z",
     "iopub.status.idle": "2020-12-02T17:30:05.770649Z",
     "shell.execute_reply": "2020-12-02T17:30:05.770118Z"
    },
    "papermill": {
     "duration": 0.139414,
     "end_time": "2020-12-02T17:30:05.770758",
     "exception": false,
     "start_time": "2020-12-02T17:30:05.631344",
     "status": "completed"
    },
    "tags": []
   },
   "outputs": [],
   "source": [
    "vocab = np.array(vectorize_layer.get_vocabulary())\n",
    "vocab[:20]"
   ]
  },
  {
   "cell_type": "markdown",
   "metadata": {
    "papermill": {
     "duration": 0.102833,
     "end_time": "2020-12-02T17:30:05.976146",
     "exception": false,
     "start_time": "2020-12-02T17:30:05.873313",
     "status": "completed"
    },
    "tags": []
   },
   "source": [
    "Как только словарь установлен, слой может кодировать текст в индексы и превращать из вот этого:"
   ]
  },
  {
   "cell_type": "code",
   "execution_count": null,
   "metadata": {
    "_kg_hide-input": true,
    "execution": {
     "iopub.execute_input": "2020-12-02T17:30:06.186378Z",
     "iopub.status.busy": "2020-12-02T17:30:06.185686Z",
     "iopub.status.idle": "2020-12-02T17:30:06.193052Z",
     "shell.execute_reply": "2020-12-02T17:30:06.193577Z"
    },
    "papermill": {
     "duration": 0.115891,
     "end_time": "2020-12-02T17:30:06.193702",
     "exception": false,
     "start_time": "2020-12-02T17:30:06.077811",
     "status": "completed"
    },
    "tags": []
   },
   "outputs": [],
   "source": [
    "print(text_train.iloc[6])"
   ]
  },
  {
   "cell_type": "markdown",
   "metadata": {
    "papermill": {
     "duration": 0.121544,
     "end_time": "2020-12-02T17:30:06.420475",
     "exception": false,
     "start_time": "2020-12-02T17:30:06.298931",
     "status": "completed"
    },
    "tags": []
   },
   "source": [
    "В вот это:"
   ]
  },
  {
   "cell_type": "code",
   "execution_count": null,
   "metadata": {
    "_kg_hide-input": true,
    "execution": {
     "iopub.execute_input": "2020-12-02T17:30:06.649512Z",
     "iopub.status.busy": "2020-12-02T17:30:06.648349Z",
     "iopub.status.idle": "2020-12-02T17:30:06.662225Z",
     "shell.execute_reply": "2020-12-02T17:30:06.663090Z"
    },
    "papermill": {
     "duration": 0.131522,
     "end_time": "2020-12-02T17:30:06.663253",
     "exception": false,
     "start_time": "2020-12-02T17:30:06.531731",
     "status": "completed"
    },
    "tags": []
   },
   "outputs": [],
   "source": [
    "encoded_example = vectorize_layer(text_train.iloc[6]).numpy()\n",
    "print(encoded_example)"
   ]
  },
  {
   "cell_type": "markdown",
   "metadata": {
    "papermill": {
     "duration": 0.115546,
     "end_time": "2020-12-02T17:30:06.897483",
     "exception": false,
     "start_time": "2020-12-02T17:30:06.781937",
     "status": "completed"
    },
    "tags": []
   },
   "source": [
    "### NLP"
   ]
  },
  {
   "cell_type": "code",
   "execution_count": null,
   "metadata": {
    "execution": {
     "iopub.execute_input": "2020-12-02T17:30:07.131024Z",
     "iopub.status.busy": "2020-12-02T17:30:07.130191Z",
     "iopub.status.idle": "2020-12-02T17:30:07.657316Z",
     "shell.execute_reply": "2020-12-02T17:30:07.656720Z"
    },
    "papermill": {
     "duration": 0.649488,
     "end_time": "2020-12-02T17:30:07.657442",
     "exception": false,
     "start_time": "2020-12-02T17:30:07.007954",
     "status": "completed"
    },
    "tags": []
   },
   "outputs": [],
   "source": [
    "model_nlp = Sequential([\n",
    "    L.Input(shape=(1,), dtype=tf.string),\n",
    "    vectorize_layer,\n",
    "    L.Embedding(len(vectorize_layer.get_vocabulary()), MAX_SEQUENCE_LENGTH,),\n",
    "    #L.Bidirectional(L.LSTM(128,  return_sequences=True)),\n",
    "    L.Bidirectional(L.LSTM(128)),\n",
    "    #L.Dropout(0.5),\n",
    "    L.Dense(128, activation='relu'),\n",
    "    L.Dropout(0.25),\n",
    "])"
   ]
  },
  {
   "cell_type": "markdown",
   "metadata": {
    "papermill": {
     "duration": 0.106948,
     "end_time": "2020-12-02T17:30:07.876773",
     "exception": false,
     "start_time": "2020-12-02T17:30:07.769825",
     "status": "completed"
    },
    "tags": []
   },
   "source": [
    "### MLP"
   ]
  },
  {
   "cell_type": "code",
   "execution_count": null,
   "metadata": {
    "execution": {
     "iopub.execute_input": "2020-12-02T17:30:08.110960Z",
     "iopub.status.busy": "2020-12-02T17:30:08.110039Z",
     "iopub.status.idle": "2020-12-02T17:30:08.150911Z",
     "shell.execute_reply": "2020-12-02T17:30:08.150323Z"
    },
    "papermill": {
     "duration": 0.158969,
     "end_time": "2020-12-02T17:30:08.151026",
     "exception": false,
     "start_time": "2020-12-02T17:30:07.992057",
     "status": "completed"
    },
    "tags": []
   },
   "outputs": [],
   "source": [
    "model_mlp = Sequential()\n",
    "model_mlp.add(L.Dense(512, input_dim=X_train.shape[1], activation=\"relu\"))\n",
    "model_mlp.add(L.Dropout(0.5))\n",
    "model_mlp.add(L.Dense(256, activation=\"relu\"))\n",
    "model_mlp.add(L.Dropout(0.25))"
   ]
  },
  {
   "cell_type": "code",
   "execution_count": null,
   "metadata": {
    "execution": {
     "iopub.execute_input": "2020-12-02T17:30:08.382290Z",
     "iopub.status.busy": "2020-12-02T17:30:08.381193Z",
     "iopub.status.idle": "2020-12-02T17:30:08.386626Z",
     "shell.execute_reply": "2020-12-02T17:30:08.386070Z"
    },
    "papermill": {
     "duration": 0.122321,
     "end_time": "2020-12-02T17:30:08.386731",
     "exception": false,
     "start_time": "2020-12-02T17:30:08.264410",
     "status": "completed"
    },
    "tags": []
   },
   "outputs": [],
   "source": [
    "model_mlp.load_weights('../working/model_mlp.hdf5')"
   ]
  },
  {
   "cell_type": "code",
   "execution_count": null,
   "metadata": {
    "execution": {
     "iopub.execute_input": "2020-12-02T17:30:08.624582Z",
     "iopub.status.busy": "2020-12-02T17:30:08.623922Z",
     "iopub.status.idle": "2020-12-02T17:30:08.628544Z",
     "shell.execute_reply": "2020-12-02T17:30:08.628003Z"
    },
    "papermill": {
     "duration": 0.114834,
     "end_time": "2020-12-02T17:30:08.628665",
     "exception": false,
     "start_time": "2020-12-02T17:30:08.513831",
     "status": "completed"
    },
    "tags": []
   },
   "outputs": [],
   "source": [
    "# можно еще заморозить веса чтоб они не затерлись\n",
    "# впоминаем курс по Transfer-Learning & Fine-Tuning\n",
    "# model_mlp.trainable = False"
   ]
  },
  {
   "cell_type": "markdown",
   "metadata": {
    "papermill": {
     "duration": 0.106621,
     "end_time": "2020-12-02T17:30:08.843630",
     "exception": false,
     "start_time": "2020-12-02T17:30:08.737009",
     "status": "completed"
    },
    "tags": []
   },
   "source": [
    "### Multiple Inputs NN"
   ]
  },
  {
   "cell_type": "code",
   "execution_count": null,
   "metadata": {
    "execution": {
     "iopub.execute_input": "2020-12-02T17:30:09.062677Z",
     "iopub.status.busy": "2020-12-02T17:30:09.061814Z",
     "iopub.status.idle": "2020-12-02T17:30:09.098823Z",
     "shell.execute_reply": "2020-12-02T17:30:09.099576Z"
    },
    "papermill": {
     "duration": 0.150674,
     "end_time": "2020-12-02T17:30:09.099706",
     "exception": false,
     "start_time": "2020-12-02T17:30:08.949032",
     "status": "completed"
    },
    "tags": []
   },
   "outputs": [],
   "source": [
    "combinedInput = L.concatenate([model_nlp.output, model_mlp.output])\n",
    "# being our regression head\n",
    "head = L.Dense(128, activation=\"relu\")(combinedInput)\n",
    "head = L.Dropout(0.1)(head)\n",
    "head = L.Dense(1, activation=\"linear\")(head)\n",
    "\n",
    "model = Model(inputs=[model_nlp.input, model_mlp.input], outputs=head)"
   ]
  },
  {
   "cell_type": "code",
   "execution_count": null,
   "metadata": {
    "_kg_hide-output": true,
    "execution": {
     "iopub.execute_input": "2020-12-02T17:30:09.326281Z",
     "iopub.status.busy": "2020-12-02T17:30:09.325390Z",
     "iopub.status.idle": "2020-12-02T17:30:09.333171Z",
     "shell.execute_reply": "2020-12-02T17:30:09.333913Z"
    },
    "papermill": {
     "duration": 0.124111,
     "end_time": "2020-12-02T17:30:09.334086",
     "exception": false,
     "start_time": "2020-12-02T17:30:09.209975",
     "status": "completed"
    },
    "tags": []
   },
   "outputs": [],
   "source": [
    "model.summary()"
   ]
  },
  {
   "cell_type": "markdown",
   "metadata": {
    "papermill": {
     "duration": 0.12541,
     "end_time": "2020-12-02T17:30:09.569004",
     "exception": false,
     "start_time": "2020-12-02T17:30:09.443594",
     "status": "completed"
    },
    "tags": []
   },
   "source": [
    "### Fit"
   ]
  },
  {
   "cell_type": "code",
   "execution_count": null,
   "metadata": {
    "execution": {
     "iopub.execute_input": "2020-12-02T17:30:09.839995Z",
     "iopub.status.busy": "2020-12-02T17:30:09.838995Z",
     "iopub.status.idle": "2020-12-02T17:30:09.845090Z",
     "shell.execute_reply": "2020-12-02T17:30:09.844496Z"
    },
    "papermill": {
     "duration": 0.124221,
     "end_time": "2020-12-02T17:30:09.845197",
     "exception": false,
     "start_time": "2020-12-02T17:30:09.720976",
     "status": "completed"
    },
    "tags": []
   },
   "outputs": [],
   "source": [
    "optimizer = tf.keras.optimizers.Adam(0.003)\n",
    "model.compile(loss='MAPE',optimizer=optimizer, metrics=['MAPE'])"
   ]
  },
  {
   "cell_type": "code",
   "execution_count": null,
   "metadata": {
    "execution": {
     "iopub.execute_input": "2020-12-02T17:30:10.065305Z",
     "iopub.status.busy": "2020-12-02T17:30:10.063479Z",
     "iopub.status.idle": "2020-12-02T17:30:10.065950Z",
     "shell.execute_reply": "2020-12-02T17:30:10.066429Z"
    },
    "papermill": {
     "duration": 0.113476,
     "end_time": "2020-12-02T17:30:10.066547",
     "exception": false,
     "start_time": "2020-12-02T17:30:09.953071",
     "status": "completed"
    },
    "tags": []
   },
   "outputs": [],
   "source": [
    "checkpoint = ModelCheckpoint('../working/best_model.tf', save_format='tf', monitor=['val_MAPE'], verbose=0, mode='min')\n",
    "earlystop = EarlyStopping(monitor='val_MAPE', patience=10, restore_best_weights=True,)\n",
    "callbacks_list = [checkpoint, earlystop]"
   ]
  },
  {
   "cell_type": "code",
   "execution_count": null,
   "metadata": {
    "execution": {
     "iopub.execute_input": "2020-12-02T17:30:10.285602Z",
     "iopub.status.busy": "2020-12-02T17:30:10.284808Z",
     "iopub.status.idle": "2020-12-02T17:55:33.628779Z",
     "shell.execute_reply": "2020-12-02T17:55:33.629287Z"
    },
    "papermill": {
     "duration": 1523.456928,
     "end_time": "2020-12-02T17:55:33.629455",
     "exception": false,
     "start_time": "2020-12-02T17:30:10.172527",
     "status": "completed"
    },
    "tags": []
   },
   "outputs": [],
   "source": [
    "history = model.fit([text_train.values, X_train], y_train,\n",
    "                    batch_size=512,\n",
    "                    epochs=50,\n",
    "                    validation_data=([text_test.values, X_test], y_test),\n",
    "                    callbacks=callbacks_list,\n",
    "                    verbose=1,\n",
    "                   )"
   ]
  },
  {
   "cell_type": "code",
   "execution_count": null,
   "metadata": {
    "execution": {
     "iopub.execute_input": "2020-12-02T17:55:34.869955Z",
     "iopub.status.busy": "2020-12-02T17:55:34.868950Z",
     "iopub.status.idle": "2020-12-02T17:55:35.024581Z",
     "shell.execute_reply": "2020-12-02T17:55:35.024052Z"
    },
    "papermill": {
     "duration": 0.772785,
     "end_time": "2020-12-02T17:55:35.024718",
     "exception": false,
     "start_time": "2020-12-02T17:55:34.251933",
     "status": "completed"
    },
    "tags": []
   },
   "outputs": [],
   "source": [
    "plt.title('Loss')\n",
    "plt.plot(history.history['MAPE'], label='train')\n",
    "plt.plot(history.history['val_MAPE'], label='test')\n",
    "plt.show();"
   ]
  },
  {
   "cell_type": "code",
   "execution_count": null,
   "metadata": {
    "execution": {
     "iopub.execute_input": "2020-12-02T17:55:36.349973Z",
     "iopub.status.busy": "2020-12-02T17:55:36.348706Z",
     "iopub.status.idle": "2020-12-02T17:55:49.902792Z",
     "shell.execute_reply": "2020-12-02T17:55:49.904433Z"
    },
    "papermill": {
     "duration": 14.21166,
     "end_time": "2020-12-02T17:55:49.904797",
     "exception": false,
     "start_time": "2020-12-02T17:55:35.693137",
     "status": "completed"
    },
    "tags": []
   },
   "outputs": [],
   "source": [
    "#model.load_weights('../working/best_model.hdf5')\n",
    "model.save('../working/nn_mlp_nlp.tf')"
   ]
  },
  {
   "cell_type": "code",
   "execution_count": null,
   "metadata": {
    "execution": {
     "iopub.execute_input": "2020-12-02T17:55:51.246085Z",
     "iopub.status.busy": "2020-12-02T17:55:51.243575Z",
     "iopub.status.idle": "2020-12-02T17:56:03.320641Z",
     "shell.execute_reply": "2020-12-02T17:56:03.318901Z"
    },
    "papermill": {
     "duration": 12.72461,
     "end_time": "2020-12-02T17:56:03.320764",
     "exception": false,
     "start_time": "2020-12-02T17:55:50.596154",
     "status": "completed"
    },
    "tags": []
   },
   "outputs": [],
   "source": [
    "model_nlp.save('../working/model_nlp.tf')\n",
    "model_mlp.save('../working/model_mlp.hdf5')"
   ]
  },
  {
   "cell_type": "code",
   "execution_count": null,
   "metadata": {
    "execution": {
     "iopub.execute_input": "2020-12-02T17:56:04.618502Z",
     "iopub.status.busy": "2020-12-02T17:56:04.617495Z",
     "iopub.status.idle": "2020-12-02T17:56:08.231658Z",
     "shell.execute_reply": "2020-12-02T17:56:08.232161Z"
    },
    "papermill": {
     "duration": 4.290744,
     "end_time": "2020-12-02T17:56:08.232322",
     "exception": false,
     "start_time": "2020-12-02T17:56:03.941578",
     "status": "completed"
    },
    "tags": []
   },
   "outputs": [],
   "source": [
    "test_predict_nn2 = model.predict([text_test.values, X_test])\n",
    "print(f\"TEST mape: {(mape(y_test, test_predict_nn2[:,0]))*100:0.2f}%\")"
   ]
  },
  {
   "cell_type": "code",
   "execution_count": null,
   "metadata": {
    "execution": {
     "iopub.execute_input": "2020-12-02T17:56:09.593907Z",
     "iopub.status.busy": "2020-12-02T17:56:09.592875Z",
     "iopub.status.idle": "2020-12-02T17:56:13.551502Z",
     "shell.execute_reply": "2020-12-02T17:56:13.550456Z"
    },
    "papermill": {
     "duration": 4.644471,
     "end_time": "2020-12-02T17:56:13.551626",
     "exception": false,
     "start_time": "2020-12-02T17:56:08.907155",
     "status": "completed"
    },
    "tags": []
   },
   "outputs": [],
   "source": [
    "sub_predict_nn2 = model.predict([text_sub.values, X_sub])\n",
    "sample_submission['price'] = sub_predict_nn2[:,0]\n",
    "sample_submission.to_csv('nn2_submission.csv', index=False)"
   ]
  },
  {
   "cell_type": "markdown",
   "metadata": {
    "papermill": {
     "duration": 0.766004,
     "end_time": "2020-12-02T17:56:15.228920",
     "exception": false,
     "start_time": "2020-12-02T17:56:14.462916",
     "status": "completed"
    },
    "tags": []
   },
   "source": [
    "Идеи для улучшения NLP части:\n",
    "* Выделить из описаний часто встречающиеся блоки текста, заменив их на кодовые слова или удалив\n",
    "* Сделать предобработку текста, например: убрать предлоги или сделать лемматизацию - алгоритм ставящий все слова в форму по умолчанию (глаголы в инфинитив и т. д.), чтобы токенайзер не преобразовывал разные формы слова в разные числа\n",
    "Статья по теме: https://habr.com/ru/company/Voximplant/blog/446738/\n",
    "* Использовать более сложную сеть по типу Transformer/BERT (https://paperswithcode.com/sota/text-classification-on-ag-news)"
   ]
  },
  {
   "cell_type": "markdown",
   "metadata": {
    "papermill": {
     "duration": 0.640734,
     "end_time": "2020-12-02T17:56:16.541729",
     "exception": false,
     "start_time": "2020-12-02T17:56:15.900995",
     "status": "completed"
    },
    "tags": []
   },
   "source": [
    "# Model 5: Добавляем картинки"
   ]
  },
  {
   "cell_type": "markdown",
   "metadata": {
    "papermill": {
     "duration": 0.614125,
     "end_time": "2020-12-02T17:56:17.804220",
     "exception": false,
     "start_time": "2020-12-02T17:56:17.190095",
     "status": "completed"
    },
    "tags": []
   },
   "source": [
    "### Data"
   ]
  },
  {
   "cell_type": "code",
   "execution_count": null,
   "metadata": {
    "_kg_hide-input": true,
    "execution": {
     "iopub.execute_input": "2020-12-02T17:56:19.081951Z",
     "iopub.status.busy": "2020-12-02T17:56:19.081297Z",
     "iopub.status.idle": "2020-12-02T17:56:19.693992Z",
     "shell.execute_reply": "2020-12-02T17:56:19.694489Z"
    },
    "papermill": {
     "duration": 1.269273,
     "end_time": "2020-12-02T17:56:19.694624",
     "exception": false,
     "start_time": "2020-12-02T17:56:18.425351",
     "status": "completed"
    },
    "tags": []
   },
   "outputs": [],
   "source": [
    "# убедимся, что цены и фото подгрузились верно\n",
    "plt.figure(figsize = (12,8))\n",
    "\n",
    "random_image = train.sample(n = 9)\n",
    "random_image_paths = random_image['sell_id'].values\n",
    "random_image_cat = random_image['price'].values\n",
    "\n",
    "for index, path in enumerate(random_image_paths):\n",
    "    im = PIL.Image.open(DATA_DIR+'img/img/' + str(path) + '.jpg')\n",
    "    plt.subplot(3, 3, index + 1)\n",
    "    plt.imshow(im)\n",
    "    plt.title('price: ' + str(random_image_cat[index]))\n",
    "    plt.axis('off')\n",
    "plt.show()"
   ]
  },
  {
   "cell_type": "markdown",
   "metadata": {
    "papermill": {
     "duration": 0.621383,
     "end_time": "2020-12-02T17:56:20.937126",
     "exception": false,
     "start_time": "2020-12-02T17:56:20.315743",
     "status": "completed"
    },
    "tags": []
   },
   "source": [
    "### albumentations"
   ]
  },
  {
   "cell_type": "code",
   "execution_count": null,
   "metadata": {
    "execution": {
     "iopub.execute_input": "2020-12-02T17:56:22.211904Z",
     "iopub.status.busy": "2020-12-02T17:56:22.202409Z",
     "iopub.status.idle": "2020-12-02T17:56:23.164820Z",
     "shell.execute_reply": "2020-12-02T17:56:23.165312Z"
    },
    "papermill": {
     "duration": 1.608133,
     "end_time": "2020-12-02T17:56:23.165469",
     "exception": false,
     "start_time": "2020-12-02T17:56:21.557336",
     "status": "completed"
    },
    "tags": []
   },
   "outputs": [],
   "source": [
    "from albumentations import (\n",
    "    HorizontalFlip, IAAPerspective, ShiftScaleRotate, CLAHE, RandomRotate90,\n",
    "    Transpose, ShiftScaleRotate, Blur, OpticalDistortion, GridDistortion, HueSaturationValue,\n",
    "    IAAAdditiveGaussianNoise, GaussNoise, MotionBlur, MedianBlur, IAAPiecewiseAffine,\n",
    "    IAASharpen, IAAEmboss, RandomBrightnessContrast, Flip, OneOf, Compose\n",
    ")\n",
    "\n",
    "\n",
    "#пример взят из официальной документации: https://albumentations.readthedocs.io/en/latest/examples.html\n",
    "augmentation = Compose([\n",
    "    HorizontalFlip(),\n",
    "    OneOf([\n",
    "        IAAAdditiveGaussianNoise(),\n",
    "        GaussNoise(),\n",
    "    ], p=0.2),\n",
    "    OneOf([\n",
    "        MotionBlur(p=0.2),\n",
    "        MedianBlur(blur_limit=3, p=0.1),\n",
    "        Blur(blur_limit=3, p=0.1),\n",
    "    ], p=0.2),\n",
    "    ShiftScaleRotate(shift_limit=0.0625, scale_limit=0.2, rotate_limit=15, p=1),\n",
    "    OneOf([\n",
    "        OpticalDistortion(p=0.3),\n",
    "        #GridDistortion(p=0.1),\n",
    "        IAAPiecewiseAffine(p=0.3),\n",
    "    ], p=0.2),\n",
    "    OneOf([\n",
    "        CLAHE(clip_limit=2),\n",
    "        IAASharpen(),\n",
    "        IAAEmboss(),\n",
    "        RandomBrightnessContrast(),\n",
    "    ], p=0.3),\n",
    "    #HueSaturationValue(p=0.3),\n",
    "], p=1)\n",
    "\n",
    "#пример\n",
    "size = (240, 240)\n",
    "image_paths = [f'{DATA_DIR}img/img/{sell_id}.jpg' for sell_id in data.sell_id.values]\n",
    "plt.figure(figsize = (12,8))\n",
    "for i in range(9):\n",
    "    img = PIL.Image.open(image_paths[i // 3]).resize(size)\n",
    "    img = np.array(img)\n",
    "    img = augmentation(image = img)['image']\n",
    "    plt.subplot(3, 3, i + 1)\n",
    "    plt.imshow(img)\n",
    "    plt.axis('off')\n",
    "plt.show()"
   ]
  },
  {
   "cell_type": "markdown",
   "metadata": {
    "papermill": {
     "duration": 0.666144,
     "end_time": "2020-12-02T17:56:24.501685",
     "exception": false,
     "start_time": "2020-12-02T17:56:23.835541",
     "status": "completed"
    },
    "tags": []
   },
   "source": [
    "## tf.data.Dataset\n",
    "Если все изображения мы будем хранить в памяти, то может возникнуть проблема ее нехватки. Не храните все изображения в памяти целиком!\n",
    "\n",
    "Метод .fit() модели keras может принимать либо данные в виде массивов или тензоров, либо разного рода итераторы, из которых наиболее современным и гибким является [tf.data.Dataset](https://www.tensorflow.org/guide/data). Он представляет собой конвейер, то есть мы указываем, откуда берем данные и какую цепочку преобразований с ними выполняем. Далее мы будем работать с tf.data.Dataset.\n",
    "\n",
    "Dataset хранит информацию о конечном или бесконечном наборе кортежей (tuple) с данными и может возвращать эти наборы по очереди. Например, данными могут быть пары (input, target) для обучения нейросети. С данными можно осуществлять преобразования, которые осуществляются по мере необходимости ([lazy evaluation](https://ru.wikipedia.org/wiki/%D0%9B%D0%B5%D0%BD%D0%B8%D0%B2%D1%8B%D0%B5_%D0%B2%D1%8B%D1%87%D0%B8%D1%81%D0%BB%D0%B5%D0%BD%D0%B8%D1%8F)).\n",
    "\n",
    "`tf.data.Dataset.from_tensor_slices(data)` - создает датасет из данных, которые представляют собой либо массив, либо кортеж из массивов. Деление осуществляется по первому индексу каждого массива. Например, если `data = (np.zeros((128, 256, 256)), np.zeros(128))`, то датасет будет содержать 128 элементов, каждый из которых содержит один массив 256x256 и одно число.\n",
    "\n",
    "`dataset2 = dataset1.map(func)` - применение функции к датасету; функция должна принимать столько аргументов, каков размер кортежа в датасете 1 и возвращать столько, сколько нужно иметь в датасете 2. Пусть, например, датасет содержит изображения и метки, а нам нужно создать датасет только из изображений, тогда мы напишем так: `dataset2 = dataset.map(lambda img, label: img)`.\n",
    "\n",
    "`dataset2 = dataset1.batch(8)` - группировка по батчам; если датасет 2 должен вернуть один элемент, то он берет из датасета 1 восемь элементов, склеивает их (нулевой индекс результата - номер элемента) и возвращает.\n",
    "\n",
    "`dataset.__iter__()` - превращение датасета в итератор, из которого можно получать элементы методом `.__next__()`. Итератор, в отличие от самого датасета, хранит позицию текущего элемента. Можно также перебирать датасет циклом for.\n",
    "\n",
    "`dataset2 = dataset1.repeat(X)` - датасет 2 будет повторять датасет 1 X раз.\n",
    "\n",
    "Если нам нужно взять из датасета 1000 элементов и использовать их как тестовые, а остальные как обучающие, то мы напишем так:\n",
    "\n",
    "`test_dataset = dataset.take(1000)\n",
    "train_dataset = dataset.skip(1000)`\n",
    "\n",
    "Датасет по сути неизменен: такие операции, как map, batch, repeat, take, skip никак не затрагивают оригинальный датасет. Если датасет хранит элементы [1, 2, 3], то выполнив 3 раза подряд функцию dataset.take(1) мы получим 3 новых датасета, каждый из которых вернет число 1. Если же мы выполним функцию dataset.skip(1), мы получим датасет, возвращающий числа [2, 3], но исходный датасет все равно будет возвращать [1, 2, 3] каждый раз, когда мы его перебираем.\n",
    "\n",
    "tf.Dataset всегда выполняется в graph-режиме (в противоположность eager-режиму), поэтому либо преобразования (`.map()`) должны содержать только tensorflow-функции, либо мы должны использовать tf.py_function в качестве обертки для функций, вызываемых в `.map()`. Подробнее можно прочитать [здесь](https://www.tensorflow.org/guide/data#applying_arbitrary_python_logic)."
   ]
  },
  {
   "cell_type": "code",
   "execution_count": null,
   "metadata": {
    "execution": {
     "iopub.execute_input": "2020-12-02T17:56:25.818143Z",
     "iopub.status.busy": "2020-12-02T17:56:25.802619Z",
     "iopub.status.idle": "2020-12-02T17:56:30.118102Z",
     "shell.execute_reply": "2020-12-02T17:56:30.117468Z"
    },
    "papermill": {
     "duration": 4.978618,
     "end_time": "2020-12-02T17:56:30.118244",
     "exception": false,
     "start_time": "2020-12-02T17:56:25.139626",
     "status": "completed"
    },
    "tags": []
   },
   "outputs": [],
   "source": [
    "# NLP part\n",
    "tokenize = Tokenizer(num_words=MAX_WORDS)\n",
    "tokenize.fit_on_texts(data.description)"
   ]
  },
  {
   "cell_type": "code",
   "execution_count": null,
   "metadata": {
    "execution": {
     "iopub.execute_input": "2020-12-02T17:56:31.412228Z",
     "iopub.status.busy": "2020-12-02T17:56:31.410399Z",
     "iopub.status.idle": "2020-12-02T17:56:31.412921Z",
     "shell.execute_reply": "2020-12-02T17:56:31.413431Z"
    },
    "papermill": {
     "duration": 0.660557,
     "end_time": "2020-12-02T17:56:31.413562",
     "exception": false,
     "start_time": "2020-12-02T17:56:30.753005",
     "status": "completed"
    },
    "tags": []
   },
   "outputs": [],
   "source": [
    "def process_image(image):\n",
    "    return augmentation(image = image.numpy())['image']\n",
    "\n",
    "\n",
    "def tokenize_(descriptions):\n",
    "  return sequence.pad_sequences(tokenize.texts_to_sequences(descriptions), maxlen = MAX_SEQUENCE_LENGTH)\n",
    "\n",
    "\n",
    "def tokenize_text(text):\n",
    "    return tokenize_([text.numpy().decode('utf-8')])[0]\n",
    "\n",
    "\n",
    "def tf_process_train_dataset_element(image, table_data, text, price):\n",
    "    im_shape = image.shape\n",
    "    [image,] = tf.py_function(process_image, [image], [tf.uint8])\n",
    "    image.set_shape(im_shape)\n",
    "    [text,] = tf.py_function(tokenize_text, [text], [tf.int32])\n",
    "    return (image, table_data, text), price\n",
    "\n",
    "\n",
    "def tf_process_val_dataset_element(image, table_data, text, price):\n",
    "    [text,] = tf.py_function(tokenize_text, [text], [tf.int32])\n",
    "    return (image, table_data, text), price\n",
    "\n",
    "\n",
    "def add_images_to_dataset(path, table_data, text, price):\n",
    "    image = tf.io.decode_jpeg(tf.io.read_file(path), channels = 3)\n",
    "    image = tf.image.resize(image, size)\n",
    "    image = tf.cast(image, tf.uint8)\n",
    "    return image, table_data, text, price\n",
    "\n",
    "\n",
    "def generate_dataset(X_train, y_train, sell_ids):\n",
    "    X_train_image_paths = [f'{DATA_DIR}img/img/{sell_id}.jpg' for sell_id in sell_ids]\n",
    "    train_dataset = tf.data.Dataset.from_tensor_slices((\n",
    "    X_train_image_paths, X_train, data.description.loc[sell_ids], y_train\n",
    "    )).map(add_images_to_dataset).map(tf_process_train_dataset_element)\n",
    "    return(train_dataset)"
   ]
  },
  {
   "cell_type": "code",
   "execution_count": null,
   "metadata": {
    "execution": {
     "iopub.execute_input": "2020-12-02T17:56:32.701657Z",
     "iopub.status.busy": "2020-12-02T17:56:32.700790Z",
     "iopub.status.idle": "2020-12-02T17:56:33.376106Z",
     "shell.execute_reply": "2020-12-02T17:56:33.374894Z"
    },
    "papermill": {
     "duration": 1.328946,
     "end_time": "2020-12-02T17:56:33.376287",
     "exception": false,
     "start_time": "2020-12-02T17:56:32.047341",
     "status": "completed"
    },
    "tags": []
   },
   "outputs": [],
   "source": [
    "train_dataset = generate_dataset(X_train, y_train, X_train.index.values)\n",
    "test_dataset = generate_dataset(X_test, y_test, X_test.index.values)\n",
    "\n",
    "y_sub = np.zeros(len(X_sub))\n",
    "sub_dataset = generate_dataset(X_sub, y_sub, X_sub.index.values)\n",
    "\n",
    "#проверяем, что нет ошибок (не будет выброшено исключение):\n",
    "next(iter(train_dataset));\n",
    "next(iter(test_dataset));\n",
    "next(iter(sub_dataset));"
   ]
  },
  {
   "cell_type": "markdown",
   "metadata": {
    "papermill": {
     "duration": 0.652199,
     "end_time": "2020-12-02T17:56:34.918981",
     "exception": false,
     "start_time": "2020-12-02T17:56:34.266782",
     "status": "completed"
    },
    "tags": []
   },
   "source": [
    "### NLP Model"
   ]
  },
  {
   "cell_type": "code",
   "execution_count": null,
   "metadata": {
    "execution": {
     "iopub.execute_input": "2020-12-02T17:56:36.193489Z",
     "iopub.status.busy": "2020-12-02T17:56:36.192472Z",
     "iopub.status.idle": "2020-12-02T17:56:36.803138Z",
     "shell.execute_reply": "2020-12-02T17:56:36.802268Z"
    },
    "papermill": {
     "duration": 1.254406,
     "end_time": "2020-12-02T17:56:36.803271",
     "exception": false,
     "start_time": "2020-12-02T17:56:35.548865",
     "status": "completed"
    },
    "tags": []
   },
   "outputs": [],
   "source": [
    "model_nlp = Sequential()\n",
    "model_nlp.add(L.Input(shape=MAX_SEQUENCE_LENGTH, name=\"seq_description\"))\n",
    "model_nlp.add(L.Embedding(len(tokenize.word_index)+1, MAX_SEQUENCE_LENGTH,))\n",
    "model_nlp.add(L.Bidirectional(L.LSTM(128,)))\n",
    "model_nlp.add(L.Dense(128, activation=\"relu\"))\n",
    "model_nlp.add(L.Dropout(0.25))"
   ]
  },
  {
   "cell_type": "markdown",
   "metadata": {
    "papermill": {
     "duration": 0.629872,
     "end_time": "2020-12-02T17:56:38.069297",
     "exception": false,
     "start_time": "2020-12-02T17:56:37.439425",
     "status": "completed"
    },
    "tags": []
   },
   "source": [
    "### Строим сверточную сеть для анализа изображений без \"головы\""
   ]
  },
  {
   "cell_type": "code",
   "execution_count": null,
   "metadata": {
    "execution": {
     "iopub.execute_input": "2020-12-02T17:56:39.375554Z",
     "iopub.status.busy": "2020-12-02T17:56:39.373103Z",
     "iopub.status.idle": "2020-12-02T17:56:47.713534Z",
     "shell.execute_reply": "2020-12-02T17:56:47.718917Z"
    },
    "papermill": {
     "duration": 8.986921,
     "end_time": "2020-12-02T17:56:47.719118",
     "exception": false,
     "start_time": "2020-12-02T17:56:38.732197",
     "status": "completed"
    },
    "tags": []
   },
   "outputs": [],
   "source": [
    "#нормализация включена в состав модели EfficientNetB3, поэтому на вход она принимает данные типа uint8\n",
    "efficientnet_model = tf.keras.applications.efficientnet.EfficientNetB2(weights = 'imagenet', include_top = False, input_shape = (size[1], size[0], 3))\n",
    "efficientnet_output = L.GlobalMaxPooling2D()(efficientnet_model.output)"
   ]
  },
  {
   "cell_type": "markdown",
   "metadata": {
    "papermill": {
     "duration": 0.633509,
     "end_time": "2020-12-02T17:56:49.179836",
     "exception": false,
     "start_time": "2020-12-02T17:56:48.546327",
     "status": "completed"
    },
    "tags": []
   },
   "source": [
    "вы можете попробовать подгрузить веса сетки из задачи классификации авто ;)"
   ]
  },
  {
   "cell_type": "code",
   "execution_count": null,
   "metadata": {
    "_kg_hide-output": true,
    "execution": {
     "iopub.execute_input": "2020-12-02T17:56:50.527348Z",
     "iopub.status.busy": "2020-12-02T17:56:50.526680Z",
     "iopub.status.idle": "2020-12-02T17:56:50.728479Z",
     "shell.execute_reply": "2020-12-02T17:56:50.729262Z"
    },
    "papermill": {
     "duration": 0.857471,
     "end_time": "2020-12-02T17:56:50.729451",
     "exception": false,
     "start_time": "2020-12-02T17:56:49.871980",
     "status": "completed"
    },
    "tags": []
   },
   "outputs": [],
   "source": [
    "#объединяем выходы трех нейросетей\n",
    "combinedInput = L.concatenate([efficientnet_output, model_mlp.output, model_nlp.output])\n",
    "\n",
    "# being our regression head\n",
    "head = L.Dense(256, activation=\"relu\")(combinedInput)\n",
    "head = L.Dropout(0.1)(head)\n",
    "head = L.Dense(1,)(head)\n",
    "\n",
    "model = Model(inputs=[efficientnet_model.input, model_mlp.input, model_nlp.input], outputs=head)\n",
    "model.summary()"
   ]
  },
  {
   "cell_type": "code",
   "execution_count": null,
   "metadata": {
    "execution": {
     "iopub.execute_input": "2020-12-02T17:56:52.117237Z",
     "iopub.status.busy": "2020-12-02T17:56:52.116266Z",
     "iopub.status.idle": "2020-12-02T17:56:52.121809Z",
     "shell.execute_reply": "2020-12-02T17:56:52.121302Z"
    },
    "papermill": {
     "duration": 0.647811,
     "end_time": "2020-12-02T17:56:52.121920",
     "exception": false,
     "start_time": "2020-12-02T17:56:51.474109",
     "status": "completed"
    },
    "tags": []
   },
   "outputs": [],
   "source": [
    "model_mlp.load_weights('../working/model_mlp.hdf5')"
   ]
  },
  {
   "cell_type": "code",
   "execution_count": null,
   "metadata": {
    "execution": {
     "iopub.execute_input": "2020-12-02T17:56:53.413282Z",
     "iopub.status.busy": "2020-12-02T17:56:53.412275Z",
     "iopub.status.idle": "2020-12-02T17:56:53.420771Z",
     "shell.execute_reply": "2020-12-02T17:56:53.420094Z"
    },
    "papermill": {
     "duration": 0.662096,
     "end_time": "2020-12-02T17:56:53.420890",
     "exception": false,
     "start_time": "2020-12-02T17:56:52.758794",
     "status": "completed"
    },
    "tags": []
   },
   "outputs": [],
   "source": [
    "optimizer = tf.keras.optimizers.Adam(0.003)\n",
    "model.compile(loss='MAPE',optimizer=optimizer, metrics=['MAPE'])"
   ]
  },
  {
   "cell_type": "code",
   "execution_count": null,
   "metadata": {
    "execution": {
     "iopub.execute_input": "2020-12-02T17:56:54.716971Z",
     "iopub.status.busy": "2020-12-02T17:56:54.715995Z",
     "iopub.status.idle": "2020-12-02T17:56:54.720309Z",
     "shell.execute_reply": "2020-12-02T17:56:54.720998Z"
    },
    "papermill": {
     "duration": 0.668927,
     "end_time": "2020-12-02T17:56:54.721180",
     "exception": false,
     "start_time": "2020-12-02T17:56:54.052253",
     "status": "completed"
    },
    "tags": []
   },
   "outputs": [],
   "source": [
    "checkpoint = ModelCheckpoint('../working/best_model.tf', monitor=['val_MAPE'], verbose=0, mode='min')\n",
    "earlystop = EarlyStopping(monitor='val_MAPE', patience=5, restore_best_weights=False,)\n",
    "callbacks_list = [checkpoint, earlystop]"
   ]
  },
  {
   "cell_type": "code",
   "execution_count": null,
   "metadata": {
    "_kg_hide-output": true,
    "execution": {
     "iopub.execute_input": "2020-12-02T17:56:56.325386Z",
     "iopub.status.busy": "2020-12-02T17:56:56.324486Z",
     "iopub.status.idle": "2020-12-02T19:05:22.829805Z",
     "shell.execute_reply": "2020-12-02T19:05:22.830595Z"
    },
    "papermill": {
     "duration": 4107.43035,
     "end_time": "2020-12-02T19:05:22.830820",
     "exception": false,
     "start_time": "2020-12-02T17:56:55.400470",
     "status": "completed"
    },
    "tags": []
   },
   "outputs": [],
   "source": [
    "history = model.fit(train_dataset.batch(64),\n",
    "                    epochs=20,\n",
    "                    validation_data = test_dataset.batch(64),\n",
    "                    callbacks=callbacks_list\n",
    "                   )"
   ]
  },
  {
   "cell_type": "code",
   "execution_count": null,
   "metadata": {
    "execution": {
     "iopub.execute_input": "2020-12-02T19:05:25.776260Z",
     "iopub.status.busy": "2020-12-02T19:05:25.775350Z",
     "iopub.status.idle": "2020-12-02T19:05:25.920094Z",
     "shell.execute_reply": "2020-12-02T19:05:25.920595Z"
    },
    "papermill": {
     "duration": 1.657624,
     "end_time": "2020-12-02T19:05:25.920728",
     "exception": false,
     "start_time": "2020-12-02T19:05:24.263104",
     "status": "completed"
    },
    "tags": []
   },
   "outputs": [],
   "source": [
    "plt.title('Loss')\n",
    "plt.plot(history.history['MAPE'], label='train')\n",
    "plt.plot(history.history['val_MAPE'], label='test')\n",
    "plt.show();"
   ]
  },
  {
   "cell_type": "code",
   "execution_count": null,
   "metadata": {
    "execution": {
     "iopub.execute_input": "2020-12-02T19:05:28.821294Z",
     "iopub.status.busy": "2020-12-02T19:05:28.820024Z",
     "iopub.status.idle": "2020-12-02T19:06:33.683554Z",
     "shell.execute_reply": "2020-12-02T19:06:33.682715Z"
    },
    "papermill": {
     "duration": 66.314045,
     "end_time": "2020-12-02T19:06:33.683710",
     "exception": false,
     "start_time": "2020-12-02T19:05:27.369665",
     "status": "completed"
    },
    "tags": []
   },
   "outputs": [],
   "source": [
    "#model.load_weights('../working/best_model.tf')\n",
    "model.save('../working/nn_final.tf')"
   ]
  },
  {
   "cell_type": "code",
   "execution_count": null,
   "metadata": {
    "execution": {
     "iopub.execute_input": "2020-12-02T19:06:36.847719Z",
     "iopub.status.busy": "2020-12-02T19:06:36.846765Z",
     "iopub.status.idle": "2020-12-02T19:07:34.320134Z",
     "shell.execute_reply": "2020-12-02T19:07:34.320893Z"
    },
    "papermill": {
     "duration": 59.204957,
     "end_time": "2020-12-02T19:07:34.321088",
     "exception": false,
     "start_time": "2020-12-02T19:06:35.116131",
     "status": "completed"
    },
    "tags": []
   },
   "outputs": [],
   "source": [
    "test_predict_nn3 = model.predict(test_dataset.batch(64))\n",
    "print(f\"TEST mape: {(mape(y_test, test_predict_nn3[:,0]))*100:0.2f}%\")"
   ]
  },
  {
   "cell_type": "code",
   "execution_count": null,
   "metadata": {
    "execution": {
     "iopub.execute_input": "2020-12-02T19:07:37.248417Z",
     "iopub.status.busy": "2020-12-02T19:07:37.247753Z",
     "iopub.status.idle": "2020-12-02T19:08:54.408505Z",
     "shell.execute_reply": "2020-12-02T19:08:54.407935Z"
    },
    "papermill": {
     "duration": 78.619367,
     "end_time": "2020-12-02T19:08:54.408634",
     "exception": false,
     "start_time": "2020-12-02T19:07:35.789267",
     "status": "completed"
    },
    "tags": []
   },
   "outputs": [],
   "source": [
    "sub_predict_nn3 = model.predict(sub_dataset.batch(64))\n",
    "sample_submission['price'] = sub_predict_nn3[:,0]\n",
    "sample_submission.to_csv('nn3_submission.csv', index=False)"
   ]
  },
  {
   "cell_type": "markdown",
   "metadata": {
    "papermill": {
     "duration": 1.433813,
     "end_time": "2020-12-02T19:08:57.276872",
     "exception": false,
     "start_time": "2020-12-02T19:08:55.843059",
     "status": "completed"
    },
    "tags": []
   },
   "source": [
    "\n",
    "#### Общие рекомендации:\n",
    "* Попробовать разные архитектуры\n",
    "* Провести более детальный анализ результатов\n",
    "* Попробовать различные подходы в управление LR и оптимизаторы\n",
    "* Поработать с таргетом\n",
    "* Использовать Fine-tuning\n",
    "\n",
    "#### Tabular\n",
    "* В нейросеть желательно подавать данные с распределением, близким к нормальному, поэтому от некоторых числовых признаков имеет смысл взять логарифм перед нормализацией. Пример:\n",
    "`modelDateNorm = np.log(2020 - data['modelDate'])`\n",
    "Статья по теме: https://habr.com/ru/company/ods/blog/325422\n",
    "\n",
    "* Извлечение числовых значений из текста:\n",
    "Парсинг признаков 'engineDisplacement', 'enginePower', 'Владение' для извлечения числовых значений.\n",
    "\n",
    "* Cокращение размерности категориальных признаков\n",
    "Признак name 'name' содержит данные, которые уже есть в других столбцах ('enginePower', 'engineDisplacement', 'vehicleTransmission'). Можно удалить эти данные. Затем можно еще сильнее сократить размерность, например выделив наличие xDrive в качестве отдельного признака.\n",
    "\n",
    "* Поработать над Feature engineering\n",
    "\n",
    "\n",
    "\n",
    "#### NLP\n",
    "* Выделить из описаний часто встречающиеся блоки текста, заменив их на кодовые слова или удалив\n",
    "* Сделать предобработку текста, например сделать лемматизацию - алгоритм ставящий все слова в форму по умолчанию (глаголы в инфинитив и т. д.), чтобы токенайзер не преобразовывал разные формы слова в разные числа\n",
    "Статья по теме: https://habr.com/ru/company/Voximplant/blog/446738/\n",
    "* Поработать над алгоритмами очистки и аугментации текста\n",
    "\n",
    "\n",
    "\n",
    "#### CV\n",
    "* Попробовать различные аугментации\n",
    "* Fine-tuning"
   ]
  },
  {
   "cell_type": "markdown",
   "metadata": {
    "papermill": {
     "duration": 1.590941,
     "end_time": "2020-12-02T19:09:00.452628",
     "exception": false,
     "start_time": "2020-12-02T19:08:58.861687",
     "status": "completed"
    },
    "tags": []
   },
   "source": [
    "# Blend"
   ]
  },
  {
   "cell_type": "code",
   "execution_count": null,
   "metadata": {
    "execution": {
     "iopub.execute_input": "2020-12-02T19:09:04.006275Z",
     "iopub.status.busy": "2020-12-02T19:09:04.005457Z",
     "iopub.status.idle": "2020-12-02T19:09:04.020283Z",
     "shell.execute_reply": "2020-12-02T19:09:04.019566Z"
    },
    "papermill": {
     "duration": 1.869736,
     "end_time": "2020-12-02T19:09:04.020418",
     "exception": false,
     "start_time": "2020-12-02T19:09:02.150682",
     "status": "completed"
    },
    "tags": []
   },
   "outputs": [],
   "source": [
    "blend_predict = (test_predict_catboost + test_predict_nn3[:,0]) / 2\n",
    "print(f\"TEST mape: {(mape(y_test, blend_predict))*100:0.2f}%\")"
   ]
  },
  {
   "cell_type": "code",
   "execution_count": null,
   "metadata": {
    "execution": {
     "iopub.execute_input": "2020-12-02T19:09:07.162363Z",
     "iopub.status.busy": "2020-12-02T19:09:07.161405Z",
     "iopub.status.idle": "2020-12-02T19:09:07.190412Z",
     "shell.execute_reply": "2020-12-02T19:09:07.189780Z"
    },
    "papermill": {
     "duration": 1.489089,
     "end_time": "2020-12-02T19:09:07.190519",
     "exception": false,
     "start_time": "2020-12-02T19:09:05.701430",
     "status": "completed"
    },
    "tags": []
   },
   "outputs": [],
   "source": [
    "blend_sub_predict = (sub_predict_catboost + sub_predict_nn3[:,0]) / 2\n",
    "sample_submission['price'] = blend_sub_predict\n",
    "sample_submission.to_csv('blend_submission.csv', index=False)"
   ]
  },
  {
   "cell_type": "markdown",
   "metadata": {
    "papermill": {
     "duration": 1.468573,
     "end_time": "2020-12-02T19:09:10.187428",
     "exception": false,
     "start_time": "2020-12-02T19:09:08.718855",
     "status": "completed"
    },
    "tags": []
   },
   "source": [
    "# Model Bonus: проброс признака"
   ]
  },
  {
   "cell_type": "code",
   "execution_count": null,
   "metadata": {
    "execution": {
     "iopub.execute_input": "2020-12-02T19:09:13.430385Z",
     "iopub.status.busy": "2020-12-02T19:09:13.429394Z",
     "iopub.status.idle": "2020-12-02T19:09:13.469485Z",
     "shell.execute_reply": "2020-12-02T19:09:13.468963Z"
    },
    "papermill": {
     "duration": 1.538971,
     "end_time": "2020-12-02T19:09:13.469601",
     "exception": false,
     "start_time": "2020-12-02T19:09:11.930630",
     "status": "completed"
    },
    "tags": []
   },
   "outputs": [],
   "source": [
    "# MLP\n",
    "model_mlp = Sequential()\n",
    "model_mlp.add(L.Dense(512, input_dim=X_train.shape[1], activation=\"relu\"))\n",
    "model_mlp.add(L.Dropout(0.5))\n",
    "model_mlp.add(L.Dense(256, activation=\"relu\"))\n",
    "model_mlp.add(L.Dropout(0.5))"
   ]
  },
  {
   "cell_type": "code",
   "execution_count": null,
   "metadata": {
    "execution": {
     "iopub.execute_input": "2020-12-02T19:09:16.343304Z",
     "iopub.status.busy": "2020-12-02T19:09:16.342428Z",
     "iopub.status.idle": "2020-12-02T19:09:16.353923Z",
     "shell.execute_reply": "2020-12-02T19:09:16.353444Z"
    },
    "papermill": {
     "duration": 1.448161,
     "end_time": "2020-12-02T19:09:16.354028",
     "exception": false,
     "start_time": "2020-12-02T19:09:14.905867",
     "status": "completed"
    },
    "tags": []
   },
   "outputs": [],
   "source": [
    "# FEATURE Input\n",
    "# Iput\n",
    "productiondate = L.Input(shape=[1], name=\"productiondate\")\n",
    "# Embeddings layers\n",
    "emb_productiondate = L.Embedding(len(X.productionDate.unique().tolist())+1, 20)(productiondate)\n",
    "f_productiondate = L.Flatten()(emb_productiondate)"
   ]
  },
  {
   "cell_type": "code",
   "execution_count": null,
   "metadata": {
    "execution": {
     "iopub.execute_input": "2020-12-02T19:09:19.265888Z",
     "iopub.status.busy": "2020-12-02T19:09:19.265018Z",
     "iopub.status.idle": "2020-12-02T19:09:19.290913Z",
     "shell.execute_reply": "2020-12-02T19:09:19.290138Z"
    },
    "papermill": {
     "duration": 1.508899,
     "end_time": "2020-12-02T19:09:19.291026",
     "exception": false,
     "start_time": "2020-12-02T19:09:17.782127",
     "status": "completed"
    },
    "tags": []
   },
   "outputs": [],
   "source": [
    "combinedInput = L.concatenate([model_mlp.output, f_productiondate,])\n",
    "# being our regression head\n",
    "head = L.Dense(64, activation=\"relu\")(combinedInput)\n",
    "head = L.Dense(1, activation=\"linear\")(head)\n",
    "\n",
    "model = Model(inputs=[model_mlp.input, productiondate], outputs=head)"
   ]
  },
  {
   "cell_type": "code",
   "execution_count": null,
   "metadata": {
    "_kg_hide-output": true,
    "execution": {
     "iopub.execute_input": "2020-12-02T19:09:22.399255Z",
     "iopub.status.busy": "2020-12-02T19:09:22.396724Z",
     "iopub.status.idle": "2020-12-02T19:09:22.410460Z",
     "shell.execute_reply": "2020-12-02T19:09:22.409938Z"
    },
    "papermill": {
     "duration": 1.532701,
     "end_time": "2020-12-02T19:09:22.410576",
     "exception": false,
     "start_time": "2020-12-02T19:09:20.877875",
     "status": "completed"
    },
    "tags": []
   },
   "outputs": [],
   "source": [
    "model.summary()"
   ]
  },
  {
   "cell_type": "code",
   "execution_count": null,
   "metadata": {
    "execution": {
     "iopub.execute_input": "2020-12-02T19:09:25.289873Z",
     "iopub.status.busy": "2020-12-02T19:09:25.287983Z",
     "iopub.status.idle": "2020-12-02T19:09:25.293971Z",
     "shell.execute_reply": "2020-12-02T19:09:25.294996Z"
    },
    "papermill": {
     "duration": 1.455327,
     "end_time": "2020-12-02T19:09:25.295125",
     "exception": false,
     "start_time": "2020-12-02T19:09:23.839798",
     "status": "completed"
    },
    "tags": []
   },
   "outputs": [],
   "source": [
    "optimizer = tf.keras.optimizers.Adam(0.01)\n",
    "model.compile(loss='MAPE',optimizer=optimizer, metrics=['MAPE'])"
   ]
  },
  {
   "cell_type": "code",
   "execution_count": null,
   "metadata": {
    "execution": {
     "iopub.execute_input": "2020-12-02T19:09:28.168228Z",
     "iopub.status.busy": "2020-12-02T19:09:28.167335Z",
     "iopub.status.idle": "2020-12-02T19:10:57.676042Z",
     "shell.execute_reply": "2020-12-02T19:10:57.675162Z"
    },
    "papermill": {
     "duration": 90.948384,
     "end_time": "2020-12-02T19:10:57.676204",
     "exception": false,
     "start_time": "2020-12-02T19:09:26.727820",
     "status": "completed"
    },
    "tags": []
   },
   "outputs": [],
   "source": [
    "history = model.fit([X_train, X_train.productionDate.values], y_train,\n",
    "                    batch_size=512,\n",
    "                    epochs=500, # фактически мы обучаем пока EarlyStopping не остановит обучение\n",
    "                    validation_data=([X_test, X_test.productionDate.values], y_test),\n",
    "                    callbacks=callbacks_list,\n",
    "                    verbose=0,\n",
    "                   )"
   ]
  },
  {
   "cell_type": "code",
   "execution_count": null,
   "metadata": {
    "execution": {
     "iopub.execute_input": "2020-12-02T19:11:00.853365Z",
     "iopub.status.busy": "2020-12-02T19:11:00.852448Z",
     "iopub.status.idle": "2020-12-02T19:11:01.126386Z",
     "shell.execute_reply": "2020-12-02T19:11:01.125709Z"
    },
    "papermill": {
     "duration": 2.004017,
     "end_time": "2020-12-02T19:11:01.126510",
     "exception": false,
     "start_time": "2020-12-02T19:10:59.122493",
     "status": "completed"
    },
    "tags": []
   },
   "outputs": [],
   "source": [
    "#model.load_weights('../working/best_model.tf')\n",
    "test_predict_nn_bonus = model.predict([X_test, X_test.productionDate.values])\n",
    "print(f\"TEST mape: {(mape(y_test, test_predict_nn_bonus[:,0]))*100:0.2f}%\")"
   ]
  },
  {
   "cell_type": "code",
   "execution_count": null,
   "metadata": {
    "papermill": {
     "duration": 1.476528,
     "end_time": "2020-12-02T19:11:04.410197",
     "exception": false,
     "start_time": "2020-12-02T19:11:02.933669",
     "status": "completed"
    },
    "tags": []
   },
   "outputs": [],
   "source": []
  },
  {
   "cell_type": "code",
   "execution_count": null,
   "metadata": {
    "execution": {
     "iopub.execute_input": "2020-12-02T19:11:07.564450Z",
     "iopub.status.busy": "2020-12-02T19:11:07.563335Z",
     "iopub.status.idle": "2020-12-02T19:11:07.566284Z",
     "shell.execute_reply": "2020-12-02T19:11:07.565795Z"
    },
    "papermill": {
     "duration": 1.487456,
     "end_time": "2020-12-02T19:11:07.566390",
     "exception": false,
     "start_time": "2020-12-02T19:11:06.078934",
     "status": "completed"
    },
    "tags": []
   },
   "outputs": [],
   "source": [
    "# "
   ]
  }
 ],
 "metadata": {
  "kernelspec": {
   "display_name": "Python 3",
   "language": "python",
   "name": "python3"
  },
  "language_info": {
   "codemirror_mode": {
    "name": "ipython",
    "version": 3
   },
   "file_extension": ".py",
   "mimetype": "text/x-python",
   "name": "python",
   "nbconvert_exporter": "python",
   "pygments_lexer": "ipython3",
   "version": "3.7.6"
  },
  "papermill": {
   "duration": 6269.786951,
   "end_time": "2020-12-02T19:11:11.157018",
   "environment_variables": {},
   "exception": null,
   "input_path": "__notebook__.ipynb",
   "output_path": "__notebook__.ipynb",
   "parameters": {},
   "start_time": "2020-12-02T17:26:41.370067",
   "version": "2.1.0"
  }
 },
 "nbformat": 4,
 "nbformat_minor": 4
}