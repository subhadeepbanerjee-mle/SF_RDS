{
 "cells": [
  {
   "cell_type": "code",
   "execution_count": 1,
   "metadata": {
    "collapsed": true
   },
   "outputs": [],
   "source": [
    "import pandas as pd\n",
    "import numpy as np\n",
    "\n",
    "train = pd.read_csv('././data/train.csv')\n",
    "test = pd.read_csv('././data/test.csv')"
   ]
  },
  {
   "cell_type": "code",
   "execution_count": 2,
   "outputs": [
    {
     "name": "stdout",
     "output_type": "stream",
     "text": [
      "the shape of the merged dataset is (8353, 22)\n"
     ]
    }
   ],
   "source": [
    "df = test.append(train, sort=False).reset_index(drop=True)\n",
    "print(f'the shape of the merged dataset is {df.shape}')\n"
   ],
   "metadata": {
    "collapsed": false,
    "pycharm": {
     "name": "#%%\n"
    }
   }
  },
  {
   "cell_type": "code",
   "execution_count": 3,
   "outputs": [],
   "source": [
    "df = df.copy()"
   ],
   "metadata": {
    "collapsed": false,
    "pycharm": {
     "name": "#%%\n"
    }
   }
  },
  {
   "cell_type": "code",
   "execution_count": 4,
   "outputs": [
    {
     "data": {
      "text/plain": "dtype('int64')"
     },
     "execution_count": 4,
     "metadata": {},
     "output_type": "execute_result"
    }
   ],
   "source": [
    "df.productionDate.dtype"
   ],
   "metadata": {
    "collapsed": false,
    "pycharm": {
     "name": "#%%\n"
    }
   }
  },
  {
   "cell_type": "code",
   "execution_count": 4,
   "outputs": [],
   "source": [],
   "metadata": {
    "collapsed": false,
    "pycharm": {
     "name": "#%%\n"
    }
   }
  },
  {
   "cell_type": "code",
   "execution_count": 5,
   "outputs": [],
   "source": [
    "lst_years = ['год','года', 'лет']\n",
    "lst_month = ['месяца', 'месяцев', 'месяц']\n",
    "lst = []\n",
    "for index, row in df.iterrows():\n",
    "    dur = 0\n",
    "    try:\n",
    "        a,b = row['Владение'].split(' ')[0], row['Владение'].split(' ')[1]\n",
    "        c,d = row['Владение'].split(' ')[-2], row['Владение'].split(' ')[-1]\n",
    "        if b in lst_years:\n",
    "            dur += int(a)\n",
    "        if d in lst_month:\n",
    "            dur += int(c)/12\n",
    "        lst.append(dur)\n",
    "    except:\n",
    "        lst.append(None)\n",
    "\n",
    "df['Владение'] = pd.DataFrame(lst)\n"
   ],
   "metadata": {
    "collapsed": false,
    "pycharm": {
     "name": "#%%\n"
    }
   }
  },
  {
   "cell_type": "code",
   "execution_count": 6,
   "outputs": [
    {
     "data": {
      "text/plain": "0    6.250000\n1    6.500000\n2         NaN\n3         NaN\n4         NaN\n5    3.000000\n6         NaN\n7    2.166667\n8    2.333333\n9         NaN\nName: Владение, dtype: float64"
     },
     "execution_count": 6,
     "metadata": {},
     "output_type": "execute_result"
    }
   ],
   "source": [
    "df['Владение'][:10]"
   ],
   "metadata": {
    "collapsed": false,
    "pycharm": {
     "name": "#%%\n"
    }
   }
  },
  {
   "cell_type": "code",
   "execution_count": 7,
   "outputs": [
    {
     "data": {
      "text/plain": "5418"
     },
     "execution_count": 7,
     "metadata": {},
     "output_type": "execute_result"
    }
   ],
   "source": [
    "df['Владение'].isna().sum()"
   ],
   "metadata": {
    "collapsed": false,
    "pycharm": {
     "name": "#%%\n"
    }
   }
  },
  {
   "cell_type": "code",
   "execution_count": 8,
   "outputs": [],
   "source": [
    "q1 = 59246\n",
    "q3 = 167084\n",
    "\n",
    "df1 = df.copy()\n",
    "df1.Владение.fillna(0, inplace=True)"
   ],
   "metadata": {
    "collapsed": false,
    "pycharm": {
     "name": "#%%\n"
    }
   }
  },
  {
   "cell_type": "code",
   "execution_count": 9,
   "outputs": [
    {
     "data": {
      "text/plain": "0"
     },
     "execution_count": 9,
     "metadata": {},
     "output_type": "execute_result"
    }
   ],
   "source": [
    "df1['Владение'].isna().sum()"
   ],
   "metadata": {
    "collapsed": false,
    "pycharm": {
     "name": "#%%\n"
    }
   }
  },
  {
   "cell_type": "code",
   "execution_count": 10,
   "outputs": [],
   "source": [
    "q1_holding = []\n",
    "q2_holding = []\n",
    "q3_holding = []\n",
    "\n",
    "for index, row in df1.iterrows():\n",
    "    q1_query = f'mileage < {q1} and productionDate == {row.productionDate}'\n",
    "    q1_holding.append(df1.query(q1_query)['Владение'].mean())\n",
    "\n",
    "    q2_query = f'mileage >=  {q1} and mileage <= {q3} and productionDate == {row.productionDate}'\n",
    "    q2_holding.append(df1.query(q2_query)['Владение'].mean())\n",
    "\n",
    "    q3_query = f'mileage > {q3} and productionDate == {row.productionDate}'\n",
    "    q3_holding.append(df1.query(q3_query)['Владение'].mean())\n",
    "\n",
    "df['q1_holding'] = pd.DataFrame(q1_holding)\n",
    "\n",
    "df['q2_holding'] = pd.DataFrame(q2_holding)\n",
    "\n",
    "df['q3_holding'] = pd.DataFrame(q3_holding)\n",
    "\n"
   ],
   "metadata": {
    "collapsed": false,
    "pycharm": {
     "name": "#%%\n"
    }
   }
  },
  {
   "cell_type": "code",
   "execution_count": 11,
   "outputs": [
    {
     "data": {
      "text/plain": "             bodyType     brand      color  \\\n0     универсал 5 дв.  MERCEDES     чёрный   \n1                купе       BMW      белый   \n2                купе       BMW  пурпурный   \n3               седан       BMW      белый   \n4               седан       BMW     чёрный   \n...               ...       ...        ...   \n8348            седан       BMW      серый   \n8349            седан       BMW     чёрный   \n8350            седан       BMW      белый   \n8351            седан      AUDI     чёрный   \n8352          лимузин  MERCEDES     чёрный   \n\n                                            description engineDisplacement  \\\n0     Всем привет!\\n\\nПродам эксклюзивный проект 124...            3.0 LTR   \n1     Продаю любимейшую тачилу.. Обвес и тюнинг Hamm...            3.0 LTR   \n2     Машина тут продаётся не в первый раз, НО! Толь...            2.5 LTR   \n3     Автомобиль в отличном состоянии, весь в родной...            2.0 LTR   \n4     Немка! с бесключивым доступом и камерой заднег...            2.0 LTR   \n...                                                 ...                ...   \n8348  Продаётся любимый автомобиль! За годы эксплуат...            2.0 LTR   \n8349  Куплена у официального дилера в 2017 г. \\n\\nТр...            2.0 LTR   \n8350  Торг на месте. Все работает. Сборка немецкая. ...            2.0 LTR   \n8351  Автомобиль в отличном состоянии.\\n3-из Авто в ...            3.0 LTR   \n8352  Удлиненный заводской Pullman на базе W140 (воо...            6.0 LTR   \n\n     enginePower fuelType  mileage  modelDate model_info  ...  \\\n0        220 N12   бензин   350000       1984       W124  ...   \n1        313 N12   дизель    15000       2011        6ER  ...   \n2        218 N12   бензин   166600       2005        3ER  ...   \n3        136 N12   бензин   147000       2005        3ER  ...   \n4        190 N12   дизель    24000       2016        5ER  ...   \n...          ...      ...      ...        ...        ...  ...   \n8348     150 N12   бензин   232777       2005        3ER  ...   \n8349     190 N12   дизель    33700       2013        5ER  ...   \n8350     143 N12   бензин   200000       2008        3ER  ...   \n8351     310 N12   бензин    72000       2013         A8  ...   \n8352     394 N12   бензин    21291       1994   S_KLASSE  ...   \n\n     vehicleTransmission    Владельцы  Владение       ПТС  Привод   Руль  \\\n0         автоматическая  3 или более  6.250000  Оригинал  задний  Левый   \n1         автоматическая   1 владелец  6.500000  Оригинал  полный  Левый   \n2         автоматическая  3 или более       NaN  Оригинал  полный  Левый   \n3         автоматическая  2 владельца       NaN  Оригинал  задний  Левый   \n4         автоматическая   1 владелец       NaN  Оригинал  полный  Левый   \n...                  ...          ...       ...       ...     ...    ...   \n8348      автоматическая  3 или более       NaN  Оригинал  задний  Левый   \n8349      автоматическая  3 или более  2.166667  Оригинал  задний  Левый   \n8350      автоматическая  3 или более  2.166667  Оригинал  задний  Левый   \n8351      автоматическая  3 или более       NaN  Оригинал  полный  Левый   \n8352      автоматическая  2 владельца       NaN  Оригинал  задний  Левый   \n\n          price  q1_holding q2_holding q3_holding  \n0           NaN         NaN        NaN   3.125000  \n1           NaN    2.986111   1.431891   1.526882  \n2           NaN    3.166667   1.834055   1.763421  \n3           NaN    2.059524   1.802288   1.705947  \n4           NaN    0.209567   0.241667        NaN  \n...         ...         ...        ...        ...  \n8348   550000.0    0.000000   2.457650   1.554131  \n8349  1900000.0    1.278591   0.952206   0.666667  \n8350   530000.0    3.166667   1.834055   1.763421  \n8351  1970000.0    1.278591   0.952206   0.666667  \n8352  3000000.0    0.000000   4.666667   0.986111  \n\n[8353 rows x 25 columns]",
      "text/html": "<div>\n<style scoped>\n    .dataframe tbody tr th:only-of-type {\n        vertical-align: middle;\n    }\n\n    .dataframe tbody tr th {\n        vertical-align: top;\n    }\n\n    .dataframe thead th {\n        text-align: right;\n    }\n</style>\n<table border=\"1\" class=\"dataframe\">\n  <thead>\n    <tr style=\"text-align: right;\">\n      <th></th>\n      <th>bodyType</th>\n      <th>brand</th>\n      <th>color</th>\n      <th>description</th>\n      <th>engineDisplacement</th>\n      <th>enginePower</th>\n      <th>fuelType</th>\n      <th>mileage</th>\n      <th>modelDate</th>\n      <th>model_info</th>\n      <th>...</th>\n      <th>vehicleTransmission</th>\n      <th>Владельцы</th>\n      <th>Владение</th>\n      <th>ПТС</th>\n      <th>Привод</th>\n      <th>Руль</th>\n      <th>price</th>\n      <th>q1_holding</th>\n      <th>q2_holding</th>\n      <th>q3_holding</th>\n    </tr>\n  </thead>\n  <tbody>\n    <tr>\n      <th>0</th>\n      <td>универсал 5 дв.</td>\n      <td>MERCEDES</td>\n      <td>чёрный</td>\n      <td>Всем привет!\\n\\nПродам эксклюзивный проект 124...</td>\n      <td>3.0 LTR</td>\n      <td>220 N12</td>\n      <td>бензин</td>\n      <td>350000</td>\n      <td>1984</td>\n      <td>W124</td>\n      <td>...</td>\n      <td>автоматическая</td>\n      <td>3 или более</td>\n      <td>6.250000</td>\n      <td>Оригинал</td>\n      <td>задний</td>\n      <td>Левый</td>\n      <td>NaN</td>\n      <td>NaN</td>\n      <td>NaN</td>\n      <td>3.125000</td>\n    </tr>\n    <tr>\n      <th>1</th>\n      <td>купе</td>\n      <td>BMW</td>\n      <td>белый</td>\n      <td>Продаю любимейшую тачилу.. Обвес и тюнинг Hamm...</td>\n      <td>3.0 LTR</td>\n      <td>313 N12</td>\n      <td>дизель</td>\n      <td>15000</td>\n      <td>2011</td>\n      <td>6ER</td>\n      <td>...</td>\n      <td>автоматическая</td>\n      <td>1 владелец</td>\n      <td>6.500000</td>\n      <td>Оригинал</td>\n      <td>полный</td>\n      <td>Левый</td>\n      <td>NaN</td>\n      <td>2.986111</td>\n      <td>1.431891</td>\n      <td>1.526882</td>\n    </tr>\n    <tr>\n      <th>2</th>\n      <td>купе</td>\n      <td>BMW</td>\n      <td>пурпурный</td>\n      <td>Машина тут продаётся не в первый раз, НО! Толь...</td>\n      <td>2.5 LTR</td>\n      <td>218 N12</td>\n      <td>бензин</td>\n      <td>166600</td>\n      <td>2005</td>\n      <td>3ER</td>\n      <td>...</td>\n      <td>автоматическая</td>\n      <td>3 или более</td>\n      <td>NaN</td>\n      <td>Оригинал</td>\n      <td>полный</td>\n      <td>Левый</td>\n      <td>NaN</td>\n      <td>3.166667</td>\n      <td>1.834055</td>\n      <td>1.763421</td>\n    </tr>\n    <tr>\n      <th>3</th>\n      <td>седан</td>\n      <td>BMW</td>\n      <td>белый</td>\n      <td>Автомобиль в отличном состоянии, весь в родной...</td>\n      <td>2.0 LTR</td>\n      <td>136 N12</td>\n      <td>бензин</td>\n      <td>147000</td>\n      <td>2005</td>\n      <td>3ER</td>\n      <td>...</td>\n      <td>автоматическая</td>\n      <td>2 владельца</td>\n      <td>NaN</td>\n      <td>Оригинал</td>\n      <td>задний</td>\n      <td>Левый</td>\n      <td>NaN</td>\n      <td>2.059524</td>\n      <td>1.802288</td>\n      <td>1.705947</td>\n    </tr>\n    <tr>\n      <th>4</th>\n      <td>седан</td>\n      <td>BMW</td>\n      <td>чёрный</td>\n      <td>Немка! с бесключивым доступом и камерой заднег...</td>\n      <td>2.0 LTR</td>\n      <td>190 N12</td>\n      <td>дизель</td>\n      <td>24000</td>\n      <td>2016</td>\n      <td>5ER</td>\n      <td>...</td>\n      <td>автоматическая</td>\n      <td>1 владелец</td>\n      <td>NaN</td>\n      <td>Оригинал</td>\n      <td>полный</td>\n      <td>Левый</td>\n      <td>NaN</td>\n      <td>0.209567</td>\n      <td>0.241667</td>\n      <td>NaN</td>\n    </tr>\n    <tr>\n      <th>...</th>\n      <td>...</td>\n      <td>...</td>\n      <td>...</td>\n      <td>...</td>\n      <td>...</td>\n      <td>...</td>\n      <td>...</td>\n      <td>...</td>\n      <td>...</td>\n      <td>...</td>\n      <td>...</td>\n      <td>...</td>\n      <td>...</td>\n      <td>...</td>\n      <td>...</td>\n      <td>...</td>\n      <td>...</td>\n      <td>...</td>\n      <td>...</td>\n      <td>...</td>\n      <td>...</td>\n    </tr>\n    <tr>\n      <th>8348</th>\n      <td>седан</td>\n      <td>BMW</td>\n      <td>серый</td>\n      <td>Продаётся любимый автомобиль! За годы эксплуат...</td>\n      <td>2.0 LTR</td>\n      <td>150 N12</td>\n      <td>бензин</td>\n      <td>232777</td>\n      <td>2005</td>\n      <td>3ER</td>\n      <td>...</td>\n      <td>автоматическая</td>\n      <td>3 или более</td>\n      <td>NaN</td>\n      <td>Оригинал</td>\n      <td>задний</td>\n      <td>Левый</td>\n      <td>550000.0</td>\n      <td>0.000000</td>\n      <td>2.457650</td>\n      <td>1.554131</td>\n    </tr>\n    <tr>\n      <th>8349</th>\n      <td>седан</td>\n      <td>BMW</td>\n      <td>чёрный</td>\n      <td>Куплена у официального дилера в 2017 г. \\n\\nТр...</td>\n      <td>2.0 LTR</td>\n      <td>190 N12</td>\n      <td>дизель</td>\n      <td>33700</td>\n      <td>2013</td>\n      <td>5ER</td>\n      <td>...</td>\n      <td>автоматическая</td>\n      <td>3 или более</td>\n      <td>2.166667</td>\n      <td>Оригинал</td>\n      <td>задний</td>\n      <td>Левый</td>\n      <td>1900000.0</td>\n      <td>1.278591</td>\n      <td>0.952206</td>\n      <td>0.666667</td>\n    </tr>\n    <tr>\n      <th>8350</th>\n      <td>седан</td>\n      <td>BMW</td>\n      <td>белый</td>\n      <td>Торг на месте. Все работает. Сборка немецкая. ...</td>\n      <td>2.0 LTR</td>\n      <td>143 N12</td>\n      <td>бензин</td>\n      <td>200000</td>\n      <td>2008</td>\n      <td>3ER</td>\n      <td>...</td>\n      <td>автоматическая</td>\n      <td>3 или более</td>\n      <td>2.166667</td>\n      <td>Оригинал</td>\n      <td>задний</td>\n      <td>Левый</td>\n      <td>530000.0</td>\n      <td>3.166667</td>\n      <td>1.834055</td>\n      <td>1.763421</td>\n    </tr>\n    <tr>\n      <th>8351</th>\n      <td>седан</td>\n      <td>AUDI</td>\n      <td>чёрный</td>\n      <td>Автомобиль в отличном состоянии.\\n3-из Авто в ...</td>\n      <td>3.0 LTR</td>\n      <td>310 N12</td>\n      <td>бензин</td>\n      <td>72000</td>\n      <td>2013</td>\n      <td>A8</td>\n      <td>...</td>\n      <td>автоматическая</td>\n      <td>3 или более</td>\n      <td>NaN</td>\n      <td>Оригинал</td>\n      <td>полный</td>\n      <td>Левый</td>\n      <td>1970000.0</td>\n      <td>1.278591</td>\n      <td>0.952206</td>\n      <td>0.666667</td>\n    </tr>\n    <tr>\n      <th>8352</th>\n      <td>лимузин</td>\n      <td>MERCEDES</td>\n      <td>чёрный</td>\n      <td>Удлиненный заводской Pullman на базе W140 (воо...</td>\n      <td>6.0 LTR</td>\n      <td>394 N12</td>\n      <td>бензин</td>\n      <td>21291</td>\n      <td>1994</td>\n      <td>S_KLASSE</td>\n      <td>...</td>\n      <td>автоматическая</td>\n      <td>2 владельца</td>\n      <td>NaN</td>\n      <td>Оригинал</td>\n      <td>задний</td>\n      <td>Левый</td>\n      <td>3000000.0</td>\n      <td>0.000000</td>\n      <td>4.666667</td>\n      <td>0.986111</td>\n    </tr>\n  </tbody>\n</table>\n<p>8353 rows × 25 columns</p>\n</div>"
     },
     "execution_count": 11,
     "metadata": {},
     "output_type": "execute_result"
    }
   ],
   "source": [
    "df"
   ],
   "metadata": {
    "collapsed": false,
    "pycharm": {
     "name": "#%%\n"
    }
   }
  },
  {
   "cell_type": "code",
   "execution_count": 12,
   "outputs": [],
   "source": [
    "hold_avg = df.groupby(df['productionDate'])['Владение'].median()"
   ],
   "metadata": {
    "collapsed": false,
    "pycharm": {
     "name": "#%%\n"
    }
   }
  },
  {
   "cell_type": "code",
   "execution_count": 13,
   "outputs": [
    {
     "data": {
      "text/plain": "productionDate\n1982     3.000000\n1983          NaN\n1984     3.875000\n1985          NaN\n1986    18.333333\n1987    15.250000\n1988    16.583333\n1989     1.166667\n1990     1.125000\n1991     6.250000\n1992    13.791667\n1993     6.416667\n1994     4.333333\n1995     9.083333\n1996     3.750000\n1997     2.166667\n1998     5.416667\n1999     2.583333\n2000     4.875000\n2001     3.333333\n2002     2.916667\n2003     4.166667\n2004     3.833333\n2005     3.416667\n2006     3.916667\n2007     3.583333\n2008     4.083333\n2009     4.416667\n2010     4.000000\n2011     3.833333\n2012     3.750000\n2013     4.166667\n2014     3.916667\n2015     4.416667\n2016     3.416667\n2017     2.583333\n2018     1.666667\n2019     0.833333\n2020     0.166667\nName: Владение, dtype: float64"
     },
     "execution_count": 13,
     "metadata": {},
     "output_type": "execute_result"
    }
   ],
   "source": [
    "hold_avg"
   ],
   "metadata": {
    "collapsed": false,
    "pycharm": {
     "name": "#%%\n"
    }
   }
  },
  {
   "cell_type": "code",
   "execution_count": 14,
   "outputs": [
    {
     "data": {
      "text/plain": "productionDate\n1982     3.000000\n1983          NaN\n1984     3.875000\n1985          NaN\n1986    18.333333\n1987    15.250000\n1988    16.583333\n1989     1.166667\n1990     1.125000\n1991     6.250000\n1992    13.791667\n1993     6.416667\n1994     4.333333\n1995     9.083333\n1996     3.750000\n1997     2.166667\n1998     5.416667\n1999     2.583333\n2000     4.875000\n2001     3.333333\n2002     2.916667\n2003     4.166667\n2004     3.833333\n2005     3.416667\n2006     3.916667\n2007     3.583333\n2008     4.083333\n2009     4.416667\n2010     4.000000\n2011     3.833333\n2012     3.750000\n2013     4.166667\n2014     3.916667\n2015     4.416667\n2016     3.416667\n2017     2.583333\n2018     1.666667\n2019     0.833333\n2020     0.166667\nName: Владение, dtype: float64"
     },
     "execution_count": 14,
     "metadata": {},
     "output_type": "execute_result"
    }
   ],
   "source": [
    "hold_avg.iloc[::]"
   ],
   "metadata": {
    "collapsed": false,
    "pycharm": {
     "name": "#%%\n"
    }
   }
  },
  {
   "cell_type": "code",
   "execution_count": 14,
   "outputs": [],
   "source": [],
   "metadata": {
    "collapsed": false,
    "pycharm": {
     "name": "#%%\n"
    }
   }
  }
 ],
 "metadata": {
  "kernelspec": {
   "display_name": "Python 3",
   "language": "python",
   "name": "python3"
  },
  "language_info": {
   "codemirror_mode": {
    "name": "ipython",
    "version": 2
   },
   "file_extension": ".py",
   "mimetype": "text/x-python",
   "name": "python",
   "nbconvert_exporter": "python",
   "pygments_lexer": "ipython2",
   "version": "2.7.6"
  }
 },
 "nbformat": 4,
 "nbformat_minor": 0
}